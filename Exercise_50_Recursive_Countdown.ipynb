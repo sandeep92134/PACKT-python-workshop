{
  "nbformat": 4,
  "nbformat_minor": 0,
  "metadata": {
    "colab": {
      "name": "Exercise 50: Recursive Countdown",
      "provenance": [],
      "authorship_tag": "ABX9TyO7NUcmUDDUZBa4GTDjpBSE",
      "include_colab_link": true
    },
    "kernelspec": {
      "name": "python3",
      "display_name": "Python 3"
    }
  },
  "cells": [
    {
      "cell_type": "markdown",
      "metadata": {
        "id": "view-in-github",
        "colab_type": "text"
      },
      "source": [
        "<a href=\"https://colab.research.google.com/github/sandeep92134/PACKT-python-workshop/blob/main/Exercise_50_Recursive_Countdown.ipynb\" target=\"_parent\"><img src=\"https://colab.research.google.com/assets/colab-badge.svg\" alt=\"Open In Colab\"/></a>"
      ]
    },
    {
      "cell_type": "markdown",
      "metadata": {
        "id": "GOFkLlaapH99"
      },
      "source": [
        "In this exercise, you will create a **countdown** function that recursively counts down from integer **n** until we hit **0**:\n",
        "\n",
        "1. In Jupyter Notebook, enter the function definition. Note that the tab spacing needs to match the output that follows:"
      ]
    },
    {
      "cell_type": "code",
      "metadata": {
        "id": "idaJUVyUoPf9"
      },
      "source": [
        "def countdown(n):\n",
        "  if n == 0:\n",
        "    print('liftoff!')\n",
        "  else:\n",
        "    print(n)\n",
        "    return countdown(n - 1)   \n"
      ],
      "execution_count": 1,
      "outputs": []
    },
    {
      "cell_type": "markdown",
      "metadata": {
        "id": "vBPFNa5ppHqf"
      },
      "source": [
        "2. Test the function:"
      ]
    },
    {
      "cell_type": "code",
      "metadata": {
        "colab": {
          "base_uri": "https://localhost:8080/"
        },
        "id": "jV7Ii5-os1D1",
        "outputId": "f8364848-5409-4fd7-8ede-7cdb95689bdd"
      },
      "source": [
        "countdown(1)"
      ],
      "execution_count": 2,
      "outputs": [
        {
          "output_type": "stream",
          "text": [
            "1\n",
            "liftoff!\n"
          ],
          "name": "stdout"
        }
      ]
    },
    {
      "cell_type": "code",
      "metadata": {
        "colab": {
          "base_uri": "https://localhost:8080/"
        },
        "id": "mCCGyu_Gs3oV",
        "outputId": "e3ce3a7d-330a-4f11-f52f-a6b6a7d86053"
      },
      "source": [
        "countdown(2)"
      ],
      "execution_count": 3,
      "outputs": [
        {
          "output_type": "stream",
          "text": [
            "2\n",
            "1\n",
            "liftoff!\n"
          ],
          "name": "stdout"
        }
      ]
    },
    {
      "cell_type": "code",
      "metadata": {
        "colab": {
          "base_uri": "https://localhost:8080/"
        },
        "id": "shXCHAUVs8ze",
        "outputId": "b8f4ad0b-89c6-49ab-8be2-2999cd815c57"
      },
      "source": [
        "countdown(3)"
      ],
      "execution_count": 4,
      "outputs": [
        {
          "output_type": "stream",
          "text": [
            "3\n",
            "2\n",
            "1\n",
            "liftoff!\n"
          ],
          "name": "stdout"
        }
      ]
    },
    {
      "cell_type": "markdown",
      "metadata": {
        "id": "OcesM91ItAog"
      },
      "source": [
        "In this exercise, you successfully implemented a termination statement after number 1, with the term **liftoff**. This shows us that the recursive countdown has ended."
      ]
    }
  ]
}