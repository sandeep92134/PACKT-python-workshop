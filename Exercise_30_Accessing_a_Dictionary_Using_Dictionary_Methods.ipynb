{
  "nbformat": 4,
  "nbformat_minor": 0,
  "metadata": {
    "colab": {
      "name": "Exercise 30: Accessing a Dictionary Using Dictionary Methods",
      "provenance": [],
      "authorship_tag": "ABX9TyM/fYRhAGO/+dE2e6DBdYxG",
      "include_colab_link": true
    },
    "kernelspec": {
      "name": "python3",
      "display_name": "Python 3"
    }
  },
  "cells": [
    {
      "cell_type": "markdown",
      "metadata": {
        "id": "view-in-github",
        "colab_type": "text"
      },
      "source": [
        "<a href=\"https://colab.research.google.com/github/sandeep92134/PACKT-python-workshop/blob/main/Exercise_30_Accessing_a_Dictionary_Using_Dictionary_Methods.ipynb\" target=\"_parent\"><img src=\"https://colab.research.google.com/assets/colab-badge.svg\" alt=\"Open In Colab\"/></a>"
      ]
    },
    {
      "cell_type": "markdown",
      "metadata": {
        "id": "gDOnoPxiYt1G"
      },
      "source": [
        "In this exercise, we will learn how to access a dictionary using dictionary methods. The goal of the exercise is to print the order values against the item while accessing the dictionary by using dictionary methods:\n",
        "\n",
        "1. Open a new Jupyter Notebook.\n",
        "2. Enter the following code in a new cell:"
      ]
    },
    {
      "cell_type": "code",
      "metadata": {
        "id": "_j1vPXfmYT6w",
        "outputId": "c89f2d22-e59a-49b3-a911-a78e55eaf76e",
        "colab": {
          "base_uri": "https://localhost:8080/"
        }
      },
      "source": [
        "orders = {'apple':5, 'mango':4, 'orange':3, 'banana':2}\n",
        "print(orders.values())\n",
        "print(list(orders.values()))"
      ],
      "execution_count": 1,
      "outputs": [
        {
          "output_type": "stream",
          "text": [
            "dict_values([5, 4, 3, 2])\n",
            "[5, 4, 3, 2]\n"
          ],
          "name": "stdout"
        }
      ]
    },
    {
      "cell_type": "markdown",
      "metadata": {
        "id": "YSpg_XHTY09v"
      },
      "source": [
        "The values() method in this code returns an iterable object. In order to use the values straight away, you can wrap them in a list directly.\n",
        "\n",
        "4. Now, obtain a list of keys in a dictionary by using the keys() method:"
      ]
    },
    {
      "cell_type": "code",
      "metadata": {
        "id": "h9a_eYYGZB1O",
        "outputId": "78485d82-2597-4503-87e3-6364637b4e3d",
        "colab": {
          "base_uri": "https://localhost:8080/"
        }
      },
      "source": [
        "print(list(orders.keys()))"
      ],
      "execution_count": 2,
      "outputs": [
        {
          "output_type": "stream",
          "text": [
            "['apple', 'mango', 'orange', 'banana']\n"
          ],
          "name": "stdout"
        }
      ]
    },
    {
      "cell_type": "markdown",
      "metadata": {
        "id": "K3_m3215ZFfK"
      },
      "source": [
        "As you can't directly iterate a dictionary, you first convert it to a list of tuples using the items() method, then iterate the resulting list and access it. \n",
        "\n",
        "5. This is mentioned in the following code snippet:\n"
      ]
    },
    {
      "cell_type": "code",
      "metadata": {
        "id": "cfOr6iVBZNk3",
        "outputId": "dea0d96f-1da7-4298-8d2f-bf233ffe4492",
        "colab": {
          "base_uri": "https://localhost:8080/"
        }
      },
      "source": [
        "for tuple in list(orders.items()):\n",
        "  print(tuple)"
      ],
      "execution_count": 3,
      "outputs": [
        {
          "output_type": "stream",
          "text": [
            "('apple', 5)\n",
            "('mango', 4)\n",
            "('orange', 3)\n",
            "('banana', 2)\n"
          ],
          "name": "stdout"
        }
      ]
    },
    {
      "cell_type": "markdown",
      "metadata": {
        "id": "WNwJY3DBZTfp"
      },
      "source": [
        "In this exercise, you created a dictionary. In addition to this, you were able to list the keys mentioned in the dictionary, and later, in step 4, you were able to iterate the dictionary after converting the list to a tuple"
      ]
    }
  ]
}