{
  "nbformat": 4,
  "nbformat_minor": 0,
  "metadata": {
    "colab": {
      "name": "Exercise 40: Linear Search in Python",
      "provenance": [],
      "authorship_tag": "ABX9TyNZtUjcdCP7Bbohss4Xddti",
      "include_colab_link": true
    },
    "kernelspec": {
      "name": "python3",
      "display_name": "Python 3"
    }
  },
  "cells": [
    {
      "cell_type": "markdown",
      "metadata": {
        "id": "view-in-github",
        "colab_type": "text"
      },
      "source": [
        "<a href=\"https://colab.research.google.com/github/sandeep92134/PACKT-python-workshop/blob/main/Exercise_40_Linear_Search_in_Python.ipynb\" target=\"_parent\"><img src=\"https://colab.research.google.com/assets/colab-badge.svg\" alt=\"Open In Colab\"/></a>"
      ]
    },
    {
      "cell_type": "markdown",
      "metadata": {
        "id": "L_UsextDwDqL"
      },
      "source": [
        "In this exercise, you will implement the **linear search algorithm in Python** using a list of numbers:\n",
        "\n",
        "1. Start with a list of numbers:"
      ]
    },
    {
      "cell_type": "code",
      "metadata": {
        "id": "Zhq2h622sneY"
      },
      "source": [
        "l = [5, 8, 1, 7, 3, 2]"
      ],
      "execution_count": 2,
      "outputs": []
    },
    {
      "cell_type": "markdown",
      "metadata": {
        "id": "encissCpwaov"
      },
      "source": [
        "2. Specify a value to **search_for**:"
      ]
    },
    {
      "cell_type": "code",
      "metadata": {
        "id": "L4U0XfipwZcU"
      },
      "source": [
        "search_for = 8"
      ],
      "execution_count": 3,
      "outputs": []
    },
    {
      "cell_type": "markdown",
      "metadata": {
        "id": "niBRbqFNwu0y"
      },
      "source": [
        "3. Create a **result** variable that has a default value of **-1**. If the search is unsuccessful, this value will remain **-1** after the algorithm is executed:"
      ]
    },
    {
      "cell_type": "code",
      "metadata": {
        "id": "Jv22F89aw0pf"
      },
      "source": [
        "result = -1"
      ],
      "execution_count": 4,
      "outputs": []
    },
    {
      "cell_type": "markdown",
      "metadata": {
        "id": "3tc2rncmw-Ia"
      },
      "source": [
        "4. Loop through the list. If the value equals the search value, set the **result**, and exit the loop:\n",
        "\n",
        "5. check the **result**:"
      ]
    },
    {
      "cell_type": "code",
      "metadata": {
        "colab": {
          "base_uri": "https://localhost:8080/"
        },
        "id": "IJQzNRifxaf6",
        "outputId": "b7fda960-05a0-4b64-d902-a8f0fefa6a37"
      },
      "source": [
        "for i in range(len(l)):\n",
        "  if search_for == l[i]:\n",
        "    result = i\n",
        "    break\n",
        "\n",
        "print(result)    "
      ],
      "execution_count": 5,
      "outputs": [
        {
          "output_type": "stream",
          "text": [
            "1\n"
          ],
          "name": "stdout"
        }
      ]
    },
    {
      "cell_type": "markdown",
      "metadata": {
        "id": "ARIcSPa-x2NB"
      },
      "source": [
        "<font color=red>**Note :** </font> This means that the search found the required value at position 1 in the list (which is the second item in the list, as indices start from 0 in Python)."
      ]
    }
  ]
}