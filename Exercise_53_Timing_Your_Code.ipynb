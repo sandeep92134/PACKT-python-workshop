{
  "nbformat": 4,
  "nbformat_minor": 0,
  "metadata": {
    "colab": {
      "name": "Exercise 53: Timing Your Code",
      "provenance": [],
      "authorship_tag": "ABX9TyNq4EpSDF9zlXnzvKgNMKPz",
      "include_colab_link": true
    },
    "kernelspec": {
      "name": "python3",
      "display_name": "Python 3"
    }
  },
  "cells": [
    {
      "cell_type": "markdown",
      "metadata": {
        "id": "view-in-github",
        "colab_type": "text"
      },
      "source": [
        "<a href=\"https://colab.research.google.com/github/sandeep92134/PACKT-python-workshop/blob/main/Exercise_53_Timing_Your_Code.ipynb\" target=\"_parent\"><img src=\"https://colab.research.google.com/assets/colab-badge.svg\" alt=\"Open In Colab\"/></a>"
      ]
    },
    {
      "cell_type": "markdown",
      "metadata": {
        "id": "HCyD3a4Bv0qU"
      },
      "source": [
        "In this exercise, you will calculate the time taken to execute the function in the previous exercise:\n",
        "\n",
        "1. Open the **dynamic.py** file created in the previous exercise. Add the following import at the top of the file:\n",
        "\n",
        " ` import time `\n",
        "\n",
        "2. Modify the function to calculate the time at the start, and print out the time elapsed at the end:\n",
        "\n",
        " ```\n",
        "stored_results = {}\n",
        "def sum_to_n(n):\n",
        "    start_time = time.perf_counter()\n",
        "    result = 0\n",
        "    for i in reversed(range(n)):\n",
        "        if i + 1 in stored_results:\n",
        "            print('Stopping sum at %s because we have previously computed it' % str(i + 1))\n",
        "            result += stored_results[i + 1]\n",
        "            break\n",
        "        else:\n",
        "            result += i + 1\n",
        "    stored_results[n] = result\n",
        "    print(time.perf_counter() - start_time, \"seconds\")\n",
        "    return result\n",
        " ```\n",
        "3. Open a Python shell, import your new function, and try running an example with a large number:\n",
        " \n",
        " `sum_to_n(1000000)`\n",
        "\n",
        "  Rerun the same code in the shell:\n",
        "\n",
        " `sum_to_n(1000000)`\n",
        "\n",
        "<font color=red>Note: </font> In the preceding example, the function returned the value faster by simply looking up the stored value in the dictionary. "
      ]
    },
    {
      "cell_type": "code",
      "metadata": {
        "id": "PIP8LAzUthrw"
      },
      "source": [
        "import time"
      ],
      "execution_count": 1,
      "outputs": []
    },
    {
      "cell_type": "code",
      "metadata": {
        "id": "dkYjnipKx5hy"
      },
      "source": [
        "stored_results = {}\n",
        "def sum_to_n(n):\n",
        "    start_time = time.perf_counter()\n",
        "    result = 0\n",
        "    for i in reversed(range(n)):\n",
        "        if i + 1 in stored_results:\n",
        "            print('Stopping sum at %s because we have previously computed it' % str(i + 1))\n",
        "            result += stored_results[i + 1]\n",
        "            break\n",
        "        else:\n",
        "            result += i + 1\n",
        "    stored_results[n] = result\n",
        "    print(time.perf_counter() - start_time, \"seconds\")\n",
        "    return result"
      ],
      "execution_count": 2,
      "outputs": []
    },
    {
      "cell_type": "code",
      "metadata": {
        "colab": {
          "base_uri": "https://localhost:8080/"
        },
        "id": "ZS0maXZOx9qt",
        "outputId": "e29963d3-1029-45ab-c6bd-1e2edac3ea23"
      },
      "source": [
        "sum_to_n(1000000)"
      ],
      "execution_count": 3,
      "outputs": [
        {
          "output_type": "stream",
          "text": [
            "0.16046846899999423 seconds\n"
          ],
          "name": "stdout"
        },
        {
          "output_type": "execute_result",
          "data": {
            "text/plain": [
              "500000500000"
            ]
          },
          "metadata": {
            "tags": []
          },
          "execution_count": 3
        }
      ]
    },
    {
      "cell_type": "code",
      "metadata": {
        "colab": {
          "base_uri": "https://localhost:8080/"
        },
        "id": "aukKecc1yDIP",
        "outputId": "17bf9204-8b29-44f7-e48b-acb601500894"
      },
      "source": [
        "sum_to_n(1000000)"
      ],
      "execution_count": 4,
      "outputs": [
        {
          "output_type": "stream",
          "text": [
            "Stopping sum at 1000000 because we have previously computed it\n",
            "7.469999999898391e-05 seconds\n"
          ],
          "name": "stdout"
        },
        {
          "output_type": "execute_result",
          "data": {
            "text/plain": [
              "500000500000"
            ]
          },
          "metadata": {
            "tags": []
          },
          "execution_count": 4
        }
      ]
    }
  ]
}