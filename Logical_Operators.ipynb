{
  "nbformat": 4,
  "nbformat_minor": 0,
  "metadata": {
    "colab": {
      "name": "Logical Operators",
      "provenance": [],
      "authorship_tag": "ABX9TyMi4JyFrMln/hQf0YX86zf9",
      "include_colab_link": true
    },
    "kernelspec": {
      "name": "python3",
      "display_name": "Python 3"
    }
  },
  "cells": [
    {
      "cell_type": "markdown",
      "metadata": {
        "id": "view-in-github",
        "colab_type": "text"
      },
      "source": [
        "<a href=\"https://colab.research.google.com/github/sandeep92134/PACKT-python-workshop/blob/main/Logical_Operators.ipynb\" target=\"_parent\"><img src=\"https://colab.research.google.com/assets/colab-badge.svg\" alt=\"Open In Colab\"/></a>"
      ]
    },
    {
      "cell_type": "markdown",
      "metadata": {
        "id": "bXSFbGFDQI9e"
      },
      "source": [
        "Determine whether the following conditions are True or False given that over_18 = True and over_21 = False:\n",
        "\n",
        "- over_18 and over_21\n",
        "- over_18 or over_21\n",
        "- not over_18\n",
        "- not over_21 or (over_21 or over_18)"
      ]
    },
    {
      "cell_type": "markdown",
      "metadata": {
        "id": "IcdvXUozQPMz"
      },
      "source": [
        "1. You have to put this into code and first assign True and False to over_18 and over_21:"
      ]
    },
    {
      "cell_type": "code",
      "metadata": {
        "id": "lTanR9G2O8hW"
      },
      "source": [
        "over_18, over_21 = True, False"
      ],
      "execution_count": 1,
      "outputs": []
    },
    {
      "cell_type": "markdown",
      "metadata": {
        "id": "xMH01s3xQgdX"
      },
      "source": [
        "2. Next you can assume the individual is over_18 and over_21:"
      ]
    },
    {
      "cell_type": "code",
      "metadata": {
        "id": "j9sCtsHZQmxS",
        "outputId": "ad692c4d-0964-492e-bcdd-d5188122f937",
        "colab": {
          "base_uri": "https://localhost:8080/",
          "height": 34
        }
      },
      "source": [
        "over_18 and over_21"
      ],
      "execution_count": 2,
      "outputs": [
        {
          "output_type": "execute_result",
          "data": {
            "text/plain": [
              "False"
            ]
          },
          "metadata": {
            "tags": []
          },
          "execution_count": 2
        }
      ]
    },
    {
      "cell_type": "markdown",
      "metadata": {
        "id": "5cFt0ieSQw0_"
      },
      "source": [
        "3. You now assume the individual is over_18 or over_21:"
      ]
    },
    {
      "cell_type": "code",
      "metadata": {
        "id": "BUxKIm0ZQ0tq",
        "outputId": "cde0a0e0-45cf-4822-ab7d-edf381d20e96",
        "colab": {
          "base_uri": "https://localhost:8080/",
          "height": 34
        }
      },
      "source": [
        "over_18 or over_21"
      ],
      "execution_count": 3,
      "outputs": [
        {
          "output_type": "execute_result",
          "data": {
            "text/plain": [
              "True"
            ]
          },
          "metadata": {
            "tags": []
          },
          "execution_count": 3
        }
      ]
    },
    {
      "cell_type": "markdown",
      "metadata": {
        "id": "lLid6FNUQ-NC"
      },
      "source": [
        "4. You now assume the individual is not over_18:"
      ]
    },
    {
      "cell_type": "code",
      "metadata": {
        "id": "DhzPW6fxRFJa",
        "outputId": "c4709e8e-4bed-462a-b701-3b8e8bc1e5a0",
        "colab": {
          "base_uri": "https://localhost:8080/",
          "height": 34
        }
      },
      "source": [
        "not over_18"
      ],
      "execution_count": 5,
      "outputs": [
        {
          "output_type": "execute_result",
          "data": {
            "text/plain": [
              "False"
            ]
          },
          "metadata": {
            "tags": []
          },
          "execution_count": 5
        }
      ]
    },
    {
      "cell_type": "markdown",
      "metadata": {
        "id": "IGVFTPUzRPct"
      },
      "source": [
        "5. You assume the individual is not over_21 or (over_21 or over_18):"
      ]
    },
    {
      "cell_type": "code",
      "metadata": {
        "id": "g738EpjwRSPR",
        "outputId": "d9586d9f-f838-4007-fb41-9623f23ed429",
        "colab": {
          "base_uri": "https://localhost:8080/",
          "height": 34
        }
      },
      "source": [
        "not over_21 or (over_21 or over_18)"
      ],
      "execution_count": 6,
      "outputs": [
        {
          "output_type": "execute_result",
          "data": {
            "text/plain": [
              "True"
            ]
          },
          "metadata": {
            "tags": []
          },
          "execution_count": 6
        }
      ]
    },
    {
      "cell_type": "markdown",
      "metadata": {
        "id": "sbKRtWcYRX_z"
      },
      "source": [
        "In the next section, we will learn about the comparison operators that go along with Booleans."
      ]
    }
  ]
}