{
  "nbformat": 4,
  "nbformat_minor": 0,
  "metadata": {
    "colab": {
      "name": "Exercise 39: Using Bubble Sort in Python",
      "provenance": [],
      "authorship_tag": "ABX9TyOMH7VNvCFPY6qV24fwcAUx",
      "include_colab_link": true
    },
    "kernelspec": {
      "name": "python3",
      "display_name": "Python 3"
    }
  },
  "cells": [
    {
      "cell_type": "markdown",
      "metadata": {
        "id": "view-in-github",
        "colab_type": "text"
      },
      "source": [
        "<a href=\"https://colab.research.google.com/github/sandeep92134/PACKT-python-workshop/blob/main/Exercise_39_Using_Bubble_Sort_in_Python.ipynb\" target=\"_parent\"><img src=\"https://colab.research.google.com/assets/colab-badge.svg\" alt=\"Open In Colab\"/></a>"
      ]
    },
    {
      "cell_type": "markdown",
      "metadata": {
        "id": "jiDekDyULlFL"
      },
      "source": [
        "### Bubble sorting\n",
        "In this exercise, you will implement the bubble sort algorithm in Python with a list of numbers:\n",
        "\n",
        "1. Start with a list of numbers:"
      ]
    },
    {
      "cell_type": "code",
      "metadata": {
        "id": "vpTE5O5aIcuM"
      },
      "source": [
        "l = [5, 1, 8, 3, 2, 7]"
      ],
      "execution_count": 1,
      "outputs": []
    },
    {
      "cell_type": "markdown",
      "metadata": {
        "id": "dq0hCB3TMKvn"
      },
      "source": [
        "2. Create an indicator that will tell us when you can stop looping through the array:"
      ]
    },
    {
      "cell_type": "code",
      "metadata": {
        "id": "OciyhSJmMFzb"
      },
      "source": [
        "still_swapping = True"
      ],
      "execution_count": 2,
      "outputs": []
    },
    {
      "cell_type": "markdown",
      "metadata": {
        "id": "pqwMRx_fMSNI"
      },
      "source": [
        "3. Look through each number, and compare it to maximum:\n",
        "4. check the result:"
      ]
    },
    {
      "cell_type": "code",
      "metadata": {
        "id": "FbvqD0UKMRL6"
      },
      "source": [
        "while still_swapping:\n",
        "    still_swapping = False\n",
        "    for i in range(len(l) - 1):\n",
        "        if l[i] > l[i+1]:\n",
        "            l[i], l[i+1] = l[i+1], l[i]\n",
        "            still_swapping = True           "
      ],
      "execution_count": 3,
      "outputs": []
    },
    {
      "cell_type": "code",
      "metadata": {
        "colab": {
          "base_uri": "https://localhost:8080/"
        },
        "id": "uGfPg8iWORjx",
        "outputId": "1b46e99a-7554-4da7-c148-ceda3eb598e1"
      },
      "source": [
        "l"
      ],
      "execution_count": 4,
      "outputs": [
        {
          "output_type": "execute_result",
          "data": {
            "text/plain": [
              "[1, 2, 3, 5, 7, 8]"
            ]
          },
          "metadata": {
            "tags": []
          },
          "execution_count": 4
        }
      ]
    },
    {
      "cell_type": "markdown",
      "metadata": {
        "id": "TSnDB68oNDPD"
      },
      "source": [
        "Bubble sort is a very simple but inefficient sorting algorithm. Its time complexity is O(n^2), meaning that the number of steps required is proportional to the square of the size of the list."
      ]
    }
  ]
}