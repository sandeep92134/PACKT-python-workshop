{
  "nbformat": 4,
  "nbformat_minor": 0,
  "metadata": {
    "colab": {
      "name": "Exercise 145-149",
      "provenance": [],
      "authorship_tag": "ABX9TyNKdpgQEaOaRqFMCuXA/6+7",
      "include_colab_link": true
    },
    "kernelspec": {
      "name": "python3",
      "display_name": "Python 3"
    }
  },
  "cells": [
    {
      "cell_type": "markdown",
      "metadata": {
        "id": "view-in-github",
        "colab_type": "text"
      },
      "source": [
        "<a href=\"https://colab.research.google.com/github/sandeep92134/PACKT-python-workshop/blob/main/module%2011/Exercise_145_149.ipynb\" target=\"_parent\"><img src=\"https://colab.research.google.com/assets/colab-badge.svg\" alt=\"Open In Colab\"/></a>"
      ]
    },
    {
      "cell_type": "markdown",
      "metadata": {
        "id": "W_N-_3mG0NCx"
      },
      "source": [
        "# Exercise 145: Using the cross_val_score Function to Get Accurate Results on the Dataset"
      ]
    },
    {
      "cell_type": "code",
      "metadata": {
        "id": "gj9xHtcjqLWu"
      },
      "source": [
        "import pandas as pd\r\n",
        "import numpy as np\r\n",
        "from sklearn.linear_model import LinearRegression\r\n",
        "from sklearn.metrics import mean_squared_error\r\n",
        "from sklearn.model_selection import train_test_split"
      ],
      "execution_count": 1,
      "outputs": []
    },
    {
      "cell_type": "code",
      "metadata": {
        "colab": {
          "base_uri": "https://localhost:8080/",
          "height": 204
        },
        "id": "t8UNBeDQuPyM",
        "outputId": "820e4e49-b4f0-4f80-b886-4da011bac436"
      },
      "source": [
        "# load data\r\n",
        "housing_df = pd.read_csv('HousingData.csv')\r\n",
        "housing_df.head()"
      ],
      "execution_count": 2,
      "outputs": [
        {
          "output_type": "execute_result",
          "data": {
            "text/html": [
              "<div>\n",
              "<style scoped>\n",
              "    .dataframe tbody tr th:only-of-type {\n",
              "        vertical-align: middle;\n",
              "    }\n",
              "\n",
              "    .dataframe tbody tr th {\n",
              "        vertical-align: top;\n",
              "    }\n",
              "\n",
              "    .dataframe thead th {\n",
              "        text-align: right;\n",
              "    }\n",
              "</style>\n",
              "<table border=\"1\" class=\"dataframe\">\n",
              "  <thead>\n",
              "    <tr style=\"text-align: right;\">\n",
              "      <th></th>\n",
              "      <th>CRIM</th>\n",
              "      <th>ZN</th>\n",
              "      <th>INDUS</th>\n",
              "      <th>CHAS</th>\n",
              "      <th>NOX</th>\n",
              "      <th>RM</th>\n",
              "      <th>AGE</th>\n",
              "      <th>DIS</th>\n",
              "      <th>RAD</th>\n",
              "      <th>TAX</th>\n",
              "      <th>PTRATIO</th>\n",
              "      <th>B</th>\n",
              "      <th>LSTAT</th>\n",
              "      <th>MEDV</th>\n",
              "    </tr>\n",
              "  </thead>\n",
              "  <tbody>\n",
              "    <tr>\n",
              "      <th>0</th>\n",
              "      <td>0.00632</td>\n",
              "      <td>18.0</td>\n",
              "      <td>2.31</td>\n",
              "      <td>0.0</td>\n",
              "      <td>0.538</td>\n",
              "      <td>6.575</td>\n",
              "      <td>65.2</td>\n",
              "      <td>4.0900</td>\n",
              "      <td>1</td>\n",
              "      <td>296</td>\n",
              "      <td>15.3</td>\n",
              "      <td>396.90</td>\n",
              "      <td>4.98</td>\n",
              "      <td>24.0</td>\n",
              "    </tr>\n",
              "    <tr>\n",
              "      <th>1</th>\n",
              "      <td>0.02731</td>\n",
              "      <td>0.0</td>\n",
              "      <td>7.07</td>\n",
              "      <td>0.0</td>\n",
              "      <td>0.469</td>\n",
              "      <td>6.421</td>\n",
              "      <td>78.9</td>\n",
              "      <td>4.9671</td>\n",
              "      <td>2</td>\n",
              "      <td>242</td>\n",
              "      <td>17.8</td>\n",
              "      <td>396.90</td>\n",
              "      <td>9.14</td>\n",
              "      <td>21.6</td>\n",
              "    </tr>\n",
              "    <tr>\n",
              "      <th>2</th>\n",
              "      <td>0.02729</td>\n",
              "      <td>0.0</td>\n",
              "      <td>7.07</td>\n",
              "      <td>0.0</td>\n",
              "      <td>0.469</td>\n",
              "      <td>7.185</td>\n",
              "      <td>61.1</td>\n",
              "      <td>4.9671</td>\n",
              "      <td>2</td>\n",
              "      <td>242</td>\n",
              "      <td>17.8</td>\n",
              "      <td>392.83</td>\n",
              "      <td>4.03</td>\n",
              "      <td>34.7</td>\n",
              "    </tr>\n",
              "    <tr>\n",
              "      <th>3</th>\n",
              "      <td>0.03237</td>\n",
              "      <td>0.0</td>\n",
              "      <td>2.18</td>\n",
              "      <td>0.0</td>\n",
              "      <td>0.458</td>\n",
              "      <td>6.998</td>\n",
              "      <td>45.8</td>\n",
              "      <td>6.0622</td>\n",
              "      <td>3</td>\n",
              "      <td>222</td>\n",
              "      <td>18.7</td>\n",
              "      <td>394.63</td>\n",
              "      <td>2.94</td>\n",
              "      <td>33.4</td>\n",
              "    </tr>\n",
              "    <tr>\n",
              "      <th>4</th>\n",
              "      <td>0.06905</td>\n",
              "      <td>0.0</td>\n",
              "      <td>2.18</td>\n",
              "      <td>0.0</td>\n",
              "      <td>0.458</td>\n",
              "      <td>7.147</td>\n",
              "      <td>54.2</td>\n",
              "      <td>6.0622</td>\n",
              "      <td>3</td>\n",
              "      <td>222</td>\n",
              "      <td>18.7</td>\n",
              "      <td>396.90</td>\n",
              "      <td>NaN</td>\n",
              "      <td>36.2</td>\n",
              "    </tr>\n",
              "  </tbody>\n",
              "</table>\n",
              "</div>"
            ],
            "text/plain": [
              "      CRIM    ZN  INDUS  CHAS    NOX  ...  TAX  PTRATIO       B  LSTAT  MEDV\n",
              "0  0.00632  18.0   2.31   0.0  0.538  ...  296     15.3  396.90   4.98  24.0\n",
              "1  0.02731   0.0   7.07   0.0  0.469  ...  242     17.8  396.90   9.14  21.6\n",
              "2  0.02729   0.0   7.07   0.0  0.469  ...  242     17.8  392.83   4.03  34.7\n",
              "3  0.03237   0.0   2.18   0.0  0.458  ...  222     18.7  394.63   2.94  33.4\n",
              "4  0.06905   0.0   2.18   0.0  0.458  ...  222     18.7  396.90    NaN  36.2\n",
              "\n",
              "[5 rows x 14 columns]"
            ]
          },
          "metadata": {
            "tags": []
          },
          "execution_count": 2
        }
      ]
    },
    {
      "cell_type": "code",
      "metadata": {
        "id": "gkhFUuT6uTUR"
      },
      "source": [
        "# drop null values\r\n",
        "housing_df = housing_df.dropna()"
      ],
      "execution_count": 3,
      "outputs": []
    },
    {
      "cell_type": "code",
      "metadata": {
        "id": "aHDHQkZGvTpx"
      },
      "source": [
        "# declare X and y\r\n",
        "X = housing_df.iloc[:,:-1]\r\n",
        "y = housing_df.iloc[:, -1]"
      ],
      "execution_count": 4,
      "outputs": []
    },
    {
      "cell_type": "code",
      "metadata": {
        "id": "YmvQbsrpuyA7"
      },
      "source": [
        "#Create training and test sets\r\n",
        "X_train, X_test, y_train, y_test = train_test_split(X, y, test_size = 0.2)"
      ],
      "execution_count": 5,
      "outputs": []
    },
    {
      "cell_type": "code",
      "metadata": {
        "id": "ylYyCDbhvXvT"
      },
      "source": [
        "#Create the regressor: reg\r\n",
        "reg = LinearRegression()"
      ],
      "execution_count": 6,
      "outputs": []
    },
    {
      "cell_type": "code",
      "metadata": {
        "colab": {
          "base_uri": "https://localhost:8080/"
        },
        "id": "MVOnE4E0u6eZ",
        "outputId": "a50a26da-51e3-4a2f-e6dd-1a46ba2a3fa9"
      },
      "source": [
        "#Fit the regressor to the training data\r\n",
        "reg.fit(X_train, y_train)"
      ],
      "execution_count": 7,
      "outputs": [
        {
          "output_type": "execute_result",
          "data": {
            "text/plain": [
              "LinearRegression(copy_X=True, fit_intercept=True, n_jobs=None, normalize=False)"
            ]
          },
          "metadata": {
            "tags": []
          },
          "execution_count": 7
        }
      ]
    },
    {
      "cell_type": "code",
      "metadata": {
        "colab": {
          "base_uri": "https://localhost:8080/"
        },
        "id": "VYIfTckQvACx",
        "outputId": "828950d0-da48-4ffa-c381-7d6c88408813"
      },
      "source": [
        "# Predict on the test data: y_pred\r\n",
        "y_pred = reg.predict(X_test)\r\n",
        "# Compute and print RMSE\r\n",
        "rmse = np.sqrt(mean_squared_error(y_test, y_pred))\r\n",
        "print(\"Root Mean Squared Error: {}\".format(rmse))"
      ],
      "execution_count": 8,
      "outputs": [
        {
          "output_type": "stream",
          "text": [
            "Root Mean Squared Error: 4.465919972406103\n"
          ],
          "name": "stdout"
        }
      ]
    },
    {
      "cell_type": "markdown",
      "metadata": {
        "id": "atBU3X8Hz9pT"
      },
      "source": [
        "# Exercise 146:  Using K-Nearest Neighbors to Find the Median Value of the Dataset"
      ]
    },
    {
      "cell_type": "code",
      "metadata": {
        "id": "ip0o5TqTz02V"
      },
      "source": [
        "from sklearn.model_selection import cross_val_score"
      ],
      "execution_count": 9,
      "outputs": []
    },
    {
      "cell_type": "code",
      "metadata": {
        "id": "8ymnMwwG1MzB"
      },
      "source": [
        "def regression_model_cv(model, k=5):\r\n",
        "    scores = cross_val_score(model, X, y, scoring='neg_mean_squared_error', cv=k)\r\n",
        "    rmse = np.sqrt(-scores)\r\n",
        "    print('Reg rmse:', rmse)\r\n",
        "    print('Reg mean:', rmse.mean ())"
      ],
      "execution_count": 10,
      "outputs": []
    },
    {
      "cell_type": "code",
      "metadata": {
        "colab": {
          "base_uri": "https://localhost:8080/"
        },
        "id": "fYvbPPjf2kNN",
        "outputId": "f134d3d5-6d68-4017-b672-9a6b36a4e164"
      },
      "source": [
        "regression_model_cv(LinearRegression())"
      ],
      "execution_count": 12,
      "outputs": [
        {
          "output_type": "stream",
          "text": [
            "Reg rmse: [3.26123843 4.42712448 5.66151114 8.09493087 5.24453989]\n",
            "Reg mean: 5.337868962878344\n"
          ],
          "name": "stdout"
        }
      ]
    },
    {
      "cell_type": "code",
      "metadata": {
        "colab": {
          "base_uri": "https://localhost:8080/"
        },
        "id": "4syaDktl2uuY",
        "outputId": "b9c53170-30ab-49aa-9618-5aee46e4c2cd"
      },
      "source": [
        "regression_model_cv(LinearRegression(), k=3)"
      ],
      "execution_count": 13,
      "outputs": [
        {
          "output_type": "stream",
          "text": [
            "Reg rmse: [ 3.72504914  6.01655701 23.20863933]\n",
            "Reg mean: 10.983415161090882\n"
          ],
          "name": "stdout"
        }
      ]
    },
    {
      "cell_type": "code",
      "metadata": {
        "colab": {
          "base_uri": "https://localhost:8080/"
        },
        "id": "0LS43g9F27bY",
        "outputId": "6a4bfd02-4b1c-4549-a229-5b9d52f29e6e"
      },
      "source": [
        "regression_model_cv(LinearRegression(), k=6)"
      ],
      "execution_count": 14,
      "outputs": [
        {
          "output_type": "stream",
          "text": [
            "Reg rmse: [3.23879491 3.97041949 5.58329663 3.92861033 9.88399671 3.91442679]\n",
            "Reg mean: 5.086590810801085\n"
          ],
          "name": "stdout"
        }
      ]
    },
    {
      "cell_type": "markdown",
      "metadata": {
        "id": "AN0IARsj7S9o"
      },
      "source": [
        "# Exercise 147: K-Nearest Neighbors with GridSearchCV to Find the Optimal Number of Neighbors"
      ]
    },
    {
      "cell_type": "code",
      "metadata": {
        "colab": {
          "base_uri": "https://localhost:8080/"
        },
        "id": "LEKzRSZG3Az7",
        "outputId": "683c1bbf-0efc-4b06-8e28-949f28ec1ef8"
      },
      "source": [
        "from sklearn.neighbors import KNeighborsRegressor\r\n",
        "regression_model_cv(KNeighborsRegressor())"
      ],
      "execution_count": 15,
      "outputs": [
        {
          "output_type": "stream",
          "text": [
            "Reg rmse: [ 8.24568226  8.81322798 10.58043836  8.85643441  5.98100069]\n",
            "Reg mean: 8.495356738515685\n"
          ],
          "name": "stdout"
        }
      ]
    },
    {
      "cell_type": "code",
      "metadata": {
        "colab": {
          "base_uri": "https://localhost:8080/"
        },
        "id": "VfGeB5KQ7_f9",
        "outputId": "a6d6b562-d14d-4138-f411-f8e72d1b9a9c"
      },
      "source": [
        "regression_model_cv(KNeighborsRegressor(n_neighbors=4))"
      ],
      "execution_count": 16,
      "outputs": [
        {
          "output_type": "stream",
          "text": [
            "Reg rmse: [ 8.44659788  8.99814547 10.97170231  8.86647969  5.72114135]\n",
            "Reg mean: 8.600813339223432\n"
          ],
          "name": "stdout"
        }
      ]
    },
    {
      "cell_type": "code",
      "metadata": {
        "colab": {
          "base_uri": "https://localhost:8080/"
        },
        "id": "yYEyJZxh8DZ9",
        "outputId": "9b484708-8745-4cf7-a318-71e0d9233cf7"
      },
      "source": [
        "regression_model_cv(KNeighborsRegressor(n_neighbors=7))"
      ],
      "execution_count": 17,
      "outputs": [
        {
          "output_type": "stream",
          "text": [
            "Reg rmse: [ 7.99710601  8.68309183 10.66332898  8.90261573  5.51032355]\n",
            "Reg mean: 8.351293217401393\n"
          ],
          "name": "stdout"
        }
      ]
    },
    {
      "cell_type": "code",
      "metadata": {
        "colab": {
          "base_uri": "https://localhost:8080/"
        },
        "id": "F58aTRRK8FOd",
        "outputId": "55f143d0-4b28-4a6a-f90c-7fde962e5911"
      },
      "source": [
        "regression_model_cv(KNeighborsRegressor(n_neighbors=10))"
      ],
      "execution_count": 18,
      "outputs": [
        {
          "output_type": "stream",
          "text": [
            "Reg rmse: [ 7.47549287  8.62914556 10.69543822  8.91330686  6.52982222]\n",
            "Reg mean: 8.448641147609868\n"
          ],
          "name": "stdout"
        }
      ]
    },
    {
      "cell_type": "markdown",
      "metadata": {
        "id": "doSNQNb-8I0w"
      },
      "source": [
        "# Exercise 148: Decision Trees and Random Forests"
      ]
    },
    {
      "cell_type": "code",
      "metadata": {
        "id": "6VzH09fX8G3U"
      },
      "source": [
        "from sklearn.model_selection import GridSearchCV"
      ],
      "execution_count": 19,
      "outputs": []
    },
    {
      "cell_type": "code",
      "metadata": {
        "id": "8mg1NWti8Zon"
      },
      "source": [
        "neighbors = np.linspace(1, 20, 20)"
      ],
      "execution_count": 20,
      "outputs": []
    },
    {
      "cell_type": "code",
      "metadata": {
        "colab": {
          "base_uri": "https://localhost:8080/"
        },
        "id": "7Ei44dsN8c2Q",
        "outputId": "ed3ffe17-adea-476a-fd4a-563a8237e3dc"
      },
      "source": [
        "k = neighbors.astype(int)\r\n",
        "param_grid = {'n_neighbors': k}\r\n",
        "knn = KNeighborsRegressor()\r\n",
        "knn_tuned = GridSearchCV(knn, param_grid, cv=5, scoring='neg_mean_squared_error')\r\n",
        "knn_tuned.fit(X, y)"
      ],
      "execution_count": 21,
      "outputs": [
        {
          "output_type": "execute_result",
          "data": {
            "text/plain": [
              "GridSearchCV(cv=5, error_score=nan,\n",
              "             estimator=KNeighborsRegressor(algorithm='auto', leaf_size=30,\n",
              "                                           metric='minkowski',\n",
              "                                           metric_params=None, n_jobs=None,\n",
              "                                           n_neighbors=5, p=2,\n",
              "                                           weights='uniform'),\n",
              "             iid='deprecated', n_jobs=None,\n",
              "             param_grid={'n_neighbors': array([ 1,  2,  3,  4,  5,  6,  7,  8,  9, 10, 11, 12, 13, 14, 15, 16, 17,\n",
              "       18, 19, 20])},\n",
              "             pre_dispatch='2*n_jobs', refit=True, return_train_score=False,\n",
              "             scoring='neg_mean_squared_error', verbose=0)"
            ]
          },
          "metadata": {
            "tags": []
          },
          "execution_count": 21
        }
      ]
    },
    {
      "cell_type": "code",
      "metadata": {
        "colab": {
          "base_uri": "https://localhost:8080/"
        },
        "id": "HPEacHDF8m5Y",
        "outputId": "9e6d45d7-b59f-4221-dbed-28210bc17b46"
      },
      "source": [
        "k = knn_tuned.best_params_\r\n",
        "print(\"Best n_neighbors: {}\".format(k))\r\n",
        "score = knn_tuned.best_score_\r\n",
        "rsm = np.sqrt(-score)\r\n",
        "print(\"Best score: {}\".format(rsm))"
      ],
      "execution_count": 22,
      "outputs": [
        {
          "output_type": "stream",
          "text": [
            "Best n_neighbors: {'n_neighbors': 7}\n",
            "Best score: 8.516767055977628\n"
          ],
          "name": "stdout"
        }
      ]
    },
    {
      "cell_type": "markdown",
      "metadata": {
        "id": "9eCKDmOS9OBm"
      },
      "source": [
        "# Exercise 149: Random Forest Tuned to Improve the Prediction on Our Dataset"
      ]
    },
    {
      "cell_type": "code",
      "metadata": {
        "colab": {
          "base_uri": "https://localhost:8080/"
        },
        "id": "-9Nei26d835J",
        "outputId": "b5530224-8829-422c-f19f-5be6d961eda7"
      },
      "source": [
        "from sklearn import tree\r\n",
        "regression_model_cv(tree.DecisionTreeRegressor(random_state = 0))"
      ],
      "execution_count": 23,
      "outputs": [
        {
          "output_type": "stream",
          "text": [
            "Reg rmse: [3.76418835 7.09740548 7.43743525 6.65318045 5.60443963]\n",
            "Reg mean: 6.111329831868544\n"
          ],
          "name": "stdout"
        }
      ]
    },
    {
      "cell_type": "code",
      "metadata": {
        "colab": {
          "base_uri": "https://localhost:8080/"
        },
        "id": "ObYxIyks9H8t",
        "outputId": "d7c633a1-d669-48fc-d444-a51de623c23b"
      },
      "source": [
        "from sklearn.ensemble import RandomForestRegressor\r\n",
        "regression_model_cv(RandomForestRegressor(random_state = 0))"
      ],
      "execution_count": 24,
      "outputs": [
        {
          "output_type": "stream",
          "text": [
            "Reg rmse: [3.21572317 3.72039739 4.92919054 6.6140911  3.76347521]\n",
            "Reg mean: 4.448575483510956\n"
          ],
          "name": "stdout"
        }
      ]
    },
    {
      "cell_type": "code",
      "metadata": {
        "colab": {
          "base_uri": "https://localhost:8080/"
        },
        "id": "9Fu1erUR9M-m",
        "outputId": "9af6b990-a68e-4ffb-99db-9609879c9478"
      },
      "source": [
        "regression_model_cv(RandomForestRegressor(n_jobs=-1, n_estimators=100, random_state = 0))"
      ],
      "execution_count": 25,
      "outputs": [
        {
          "output_type": "stream",
          "text": [
            "Reg rmse: [3.21572317 3.72039739 4.92919054 6.6140911  3.76347521]\n",
            "Reg mean: 4.448575483510955\n"
          ],
          "name": "stdout"
        }
      ]
    },
    {
      "cell_type": "code",
      "metadata": {
        "id": "vrLW8ueI9eIw"
      },
      "source": [
        "from sklearn.model_selection import RandomizedSearchCV\r\n",
        "param_grid = {'max_depth': [None, 10, 30, 50, 70, 100, 200, 400],\r\n",
        "             'min_samples_split': [2, 3, 4, 5],\r\n",
        "             'min_samples_leaf': [1, 2, 3],\r\n",
        "             'max_features': ['auto', 'sqrt']}\r\n",
        "\r\n",
        "reg = RandomForestRegressor(n_jobs = -1, random_state = 0)\r\n",
        "reg_tuned = RandomizedSearchCV(reg, param_grid, cv=5, scoring='neg_mean_squared_error')"
      ],
      "execution_count": 26,
      "outputs": []
    },
    {
      "cell_type": "code",
      "metadata": {
        "colab": {
          "base_uri": "https://localhost:8080/"
        },
        "id": "neKg9vSr9uha",
        "outputId": "f8d34b41-8ffc-4977-d6d7-7628765cf2b2"
      },
      "source": [
        "reg_tuned.fit(X, y)"
      ],
      "execution_count": 27,
      "outputs": [
        {
          "output_type": "execute_result",
          "data": {
            "text/plain": [
              "RandomizedSearchCV(cv=5, error_score=nan,\n",
              "                   estimator=RandomForestRegressor(bootstrap=True,\n",
              "                                                   ccp_alpha=0.0,\n",
              "                                                   criterion='mse',\n",
              "                                                   max_depth=None,\n",
              "                                                   max_features='auto',\n",
              "                                                   max_leaf_nodes=None,\n",
              "                                                   max_samples=None,\n",
              "                                                   min_impurity_decrease=0.0,\n",
              "                                                   min_impurity_split=None,\n",
              "                                                   min_samples_leaf=1,\n",
              "                                                   min_samples_split=2,\n",
              "                                                   min_weight_fraction_leaf=0.0,\n",
              "                                                   n_estimators=100, n_jobs=-1,\n",
              "                                                   oob_score=False,\n",
              "                                                   random_state=0, verbose=0,\n",
              "                                                   warm_start=False),\n",
              "                   iid='deprecated', n_iter=10, n_jobs=None,\n",
              "                   param_distributions={'max_depth': [None, 10, 30, 50, 70, 100,\n",
              "                                                      200, 400],\n",
              "                                        'max_features': ['auto', 'sqrt'],\n",
              "                                        'min_samples_leaf': [1, 2, 3],\n",
              "                                        'min_samples_split': [2, 3, 4, 5]},\n",
              "                   pre_dispatch='2*n_jobs', random_state=None, refit=True,\n",
              "                   return_train_score=False, scoring='neg_mean_squared_error',\n",
              "                   verbose=0)"
            ]
          },
          "metadata": {
            "tags": []
          },
          "execution_count": 27
        }
      ]
    },
    {
      "cell_type": "code",
      "metadata": {
        "colab": {
          "base_uri": "https://localhost:8080/"
        },
        "id": "R1ydBL0h9y0y",
        "outputId": "b77d0924-0215-476e-a99b-fb60beb39d4a"
      },
      "source": [
        "p = reg_tuned.best_params_\r\n",
        "print(\"Best n_neighbors: {}\".format(p))\r\n",
        "score = reg_tuned.best_score_\r\n",
        "rsm = np.sqrt(-score)\r\n",
        "print(\"Best score: {}\".format(rsm))"
      ],
      "execution_count": 28,
      "outputs": [
        {
          "output_type": "stream",
          "text": [
            "Best n_neighbors: {'min_samples_split': 2, 'min_samples_leaf': 1, 'max_features': 'sqrt', 'max_depth': None}\n",
            "Best score: 4.5683263492305\n"
          ],
          "name": "stdout"
        }
      ]
    },
    {
      "cell_type": "code",
      "metadata": {
        "colab": {
          "base_uri": "https://localhost:8080/"
        },
        "id": "e7W4DOpI-CWy",
        "outputId": "1eda1447-96f7-48a0-e854-61312286e589"
      },
      "source": [
        "# Setup the hyperparameter grid\r\n",
        "regression_model_cv(RandomForestRegressor(n_jobs=-1, n_estimators=500, random_state = 0))"
      ],
      "execution_count": 29,
      "outputs": [
        {
          "output_type": "stream",
          "text": [
            "Reg rmse: [3.18067908 3.73897569 4.83724261 6.50199561 3.92786755]\n",
            "Reg mean: 4.4373521050792615\n"
          ],
          "name": "stdout"
        }
      ]
    },
    {
      "cell_type": "code",
      "metadata": {
        "colab": {
          "base_uri": "https://localhost:8080/"
        },
        "id": "rjqtvIv9-NFZ",
        "outputId": "a2462f8d-912d-41c8-812c-dbdb3b5e3e35"
      },
      "source": [
        "# Part from Exercise 156\r\n",
        "X = housing_df.iloc[:,:-1]\r\n",
        "y = housing_df.iloc[:, -1]\r\n",
        "\r\n",
        "from sklearn.ensemble import AdaBoostRegressor\r\n",
        "regression_model_cv(AdaBoostRegressor(random_state = 0))"
      ],
      "execution_count": 30,
      "outputs": [
        {
          "output_type": "stream",
          "text": [
            "Reg rmse: [3.79117796 3.50477724 5.90361934 6.24188092 4.20210617]\n",
            "Reg mean: 4.72871232513736\n"
          ],
          "name": "stdout"
        }
      ]
    }
  ]
}