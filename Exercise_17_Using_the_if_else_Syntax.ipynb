{
  "nbformat": 4,
  "nbformat_minor": 0,
  "metadata": {
    "colab": {
      "name": "Exercise 17: Using the if-else Syntax",
      "provenance": [],
      "authorship_tag": "ABX9TyOr01KlycMmgQT/1pcPADAz",
      "include_colab_link": true
    },
    "kernelspec": {
      "name": "python3",
      "display_name": "Python 3"
    }
  },
  "cells": [
    {
      "cell_type": "markdown",
      "metadata": {
        "id": "view-in-github",
        "colab_type": "text"
      },
      "source": [
        "<a href=\"https://colab.research.google.com/github/sandeep92134/PACKT-python-workshop/blob/main/Exercise_17_Using_the_if_else_Syntax.ipynb\" target=\"_parent\"><img src=\"https://colab.research.google.com/assets/colab-badge.svg\" alt=\"Open In Colab\"/></a>"
      ]
    },
    {
      "cell_type": "markdown",
      "metadata": {
        "id": "rWIS4NeyhrGP"
      },
      "source": [
        "## In this exercise, you will learn how to use conditionals that have two options, one following if, and one following else:\n",
        "\n"
      ]
    },
    {
      "cell_type": "markdown",
      "metadata": {
        "id": "3LfEHJd-hq00"
      },
      "source": [
        "1. Open a new Jupyter Notebook.\n",
        "2. Introduce a voting program only to users over 18 by using the following code snippet:"
      ]
    },
    {
      "cell_type": "code",
      "metadata": {
        "id": "qGwao1pXf8gt",
        "outputId": "c823b490-982d-4b30-fe01-412984dc8b0c",
        "colab": {
          "base_uri": "https://localhost:8080/"
        }
      },
      "source": [
        "age = 20\n",
        "if age < 18:\n",
        "  print('You aren\\'t old enough to vote.')\n",
        "else:\n",
        "  print('Welcome to our voting program.')"
      ],
      "execution_count": 1,
      "outputs": [
        {
          "output_type": "stream",
          "text": [
            "Welcome to our voting program.\n"
          ],
          "name": "stdout"
        }
      ]
    },
    {
      "cell_type": "markdown",
      "metadata": {
        "id": "XMYy8hTCiF-Y"
      },
      "source": [
        "### <font color= red> Note: Everything after else is indented, just like everything after the if condition. <\\font>"
      ]
    },
    {
      "cell_type": "markdown",
      "metadata": {
        "id": "FqYW__VhimvF"
      },
      "source": [
        "3. Now run the following code snippet, which is an alternative to the code mentioned in step 2 of this exercise:"
      ]
    },
    {
      "cell_type": "code",
      "metadata": {
        "id": "x8otD0XCiijs",
        "outputId": "988921c3-7f9d-49f8-e290-73878a49a55b",
        "colab": {
          "base_uri": "https://localhost:8080/"
        }
      },
      "source": [
        "if age >= 18:\n",
        "  print('Welcome to our voting program.')\n",
        "else:\n",
        "  print('You aren\\'t old enough to vote.')"
      ],
      "execution_count": 2,
      "outputs": [
        {
          "output_type": "stream",
          "text": [
            "Welcome to our voting program.\n"
          ],
          "name": "stdout"
        }
      ]
    },
    {
      "cell_type": "markdown",
      "metadata": {
        "id": "eyCMhh0pi5P9"
      },
      "source": [
        "In this exercise, you have learned how to use if-else in conjunction with loops.\n",
        "\n",
        "There are many ways to write a program in Python. One is not necessarily better than another. It may be advantageous to write faster programs or more readable programs.\n",
        "\n",
        "A program is a set of instructions run by a computer to complete a certain task. Programs may be one line of code, or tens of thousands. You will learn important skills and techniques for writing Python programs in various chapters throughout this course."
      ]
    }
  ]
}