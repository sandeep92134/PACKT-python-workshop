{
  "nbformat": 4,
  "nbformat_minor": 0,
  "metadata": {
    "colab": {
      "name": "Exercise 24: Implementing Matrix Operations (Multiplication)",
      "provenance": [],
      "authorship_tag": "ABX9TyM3HPZExWFgQaEOk5xX8mkF",
      "include_colab_link": true
    },
    "kernelspec": {
      "name": "python3",
      "display_name": "Python 3"
    }
  },
  "cells": [
    {
      "cell_type": "markdown",
      "metadata": {
        "id": "view-in-github",
        "colab_type": "text"
      },
      "source": [
        "<a href=\"https://colab.research.google.com/github/sandeep92134/PACKT-python-workshop/blob/main/Exercise_24_Implementing_Matrix_Operations_(Multiplication).ipynb\" target=\"_parent\"><img src=\"https://colab.research.google.com/assets/colab-badge.svg\" alt=\"Open In Colab\"/></a>"
      ]
    },
    {
      "cell_type": "markdown",
      "metadata": {
        "id": "ChZ-JnMrf43h"
      },
      "source": [
        "In this exercise, your end goal will be to multiply two matrixes, X and Y, and get an output value. The following steps will enable you to complete the exercise:\n",
        "\n",
        "1. Open a new Jupyter notebook.\n",
        "2. Create two nested lists, X and Y, to store the value of matrices X and Y:"
      ]
    },
    {
      "cell_type": "code",
      "metadata": {
        "id": "NzPnbR4Mfx5m"
      },
      "source": [
        "X = [[1, 2], [4, 5], [3, 6]]\n",
        "Y = [[1,2,3,4],[5,6,7,8]]"
      ],
      "execution_count": 1,
      "outputs": []
    },
    {
      "cell_type": "markdown",
      "metadata": {
        "id": "OYtXzD9jgFu2"
      },
      "source": [
        "3. Create a zero-matrix placeholder to store the result:"
      ]
    },
    {
      "cell_type": "code",
      "metadata": {
        "id": "w3KVlvVqgPWE"
      },
      "source": [
        "result = [[0, 0, 0, 0], [0, 0, 0, 0], [0, 0, 0, 0]]"
      ],
      "execution_count": 2,
      "outputs": []
    },
    {
      "cell_type": "markdown",
      "metadata": {
        "id": "_8JOAMYMgvMp"
      },
      "source": [
        "4. Implement the matrix multiplication algorithm to compute the result:\n"
      ]
    },
    {
      "cell_type": "code",
      "metadata": {
        "id": "Aejxq1xUg1zw"
      },
      "source": [
        "# iterating by row of X\n",
        "for i in range(len(X)):\n",
        "  \n",
        "  # iterating by column by Y\n",
        "  for j in range(len(Y[0])):\n",
        "\n",
        "    # iterating by row of Y\n",
        "    for k in range(len(Y)):\n",
        "      result[i][j] += X[i][k] * Y[k][j]\n",
        "            "
      ],
      "execution_count": 3,
      "outputs": []
    },
    {
      "cell_type": "markdown",
      "metadata": {
        "id": "v-ruRSlTirbk"
      },
      "source": [
        "You may have noticed that this algorithm is slightly different from the one you used in Exercise 23, Implementing Matrix Operations (Addition and Subtraction), step 3. This is because you need to iterate the rows of the second matrix, Y, as the matrixes have different shapes, which is what is mentioned in the preceding code snippet.\n",
        "\n",
        "5. Now, print the final result:"
      ]
    },
    {
      "cell_type": "code",
      "metadata": {
        "id": "0tiHlSi_i5Sp",
        "outputId": "85c5034b-ebc7-4c48-cc7c-6fa45d0b268f",
        "colab": {
          "base_uri": "https://localhost:8080/"
        }
      },
      "source": [
        "for r in result:\n",
        "  print(r)"
      ],
      "execution_count": 4,
      "outputs": [
        {
          "output_type": "stream",
          "text": [
            "[11, 14, 17, 20]\n",
            "[29, 38, 47, 56]\n",
            "[33, 42, 51, 60]\n"
          ],
          "name": "stdout"
        }
      ]
    }
  ]
}