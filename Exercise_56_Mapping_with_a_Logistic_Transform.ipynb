{
  "nbformat": 4,
  "nbformat_minor": 0,
  "metadata": {
    "colab": {
      "name": "Exercise 56: Mapping with a Logistic Transform",
      "provenance": [],
      "authorship_tag": "ABX9TyPjgdy57IIil8LA7pqBjV2j"
    },
    "kernelspec": {
      "name": "python3",
      "display_name": "Python 3"
    }
  },
  "cells": [
    {
      "cell_type": "markdown",
      "metadata": {
        "id": "uEsARkC6IFFO"
      },
      "source": [
        "In this exercise, you use **map** with a lambda function to apply the logistic function to a list of values.\n",
        "\n",
        "The logistic function is often used in predictive modeling when dealing with binary response variables. It is defined as follows:\n",
        "\n",
        "![abhi.png](data:image/png;base64,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)\n",
        "\n",
        "1. Import the math module as needed for the exponential function:"
      ]
    },
    {
      "cell_type": "code",
      "metadata": {
        "id": "qjWHOCSYHcTz"
      },
      "source": [
        "import math"
      ],
      "execution_count": 1,
      "outputs": []
    },
    {
      "cell_type": "markdown",
      "metadata": {
        "id": "WvNWPKN9I2u8"
      },
      "source": [
        "2. Create a list of values:"
      ]
    },
    {
      "cell_type": "code",
      "metadata": {
        "id": "z7fIggs-I2Bd"
      },
      "source": [
        "nums = [-5, -3, -1, 2, 4, 6]"
      ],
      "execution_count": 2,
      "outputs": []
    },
    {
      "cell_type": "markdown",
      "metadata": {
        "id": "2l1hFg2tJGYY"
      },
      "source": [
        "3. Use a lambda function to map the list of values using a logistic transform:"
      ]
    },
    {
      "cell_type": "code",
      "metadata": {
        "colab": {
          "base_uri": "https://localhost:8080/"
        },
        "id": "doW-b33ZJFaF",
        "outputId": "ef8d7268-0630-4e5d-942d-f8614492d382"
      },
      "source": [
        "list(map(lambda x: 1 / (1 + math.exp(-x)) , nums))"
      ],
      "execution_count": 3,
      "outputs": [
        {
          "output_type": "execute_result",
          "data": {
            "text/plain": [
              "[0.0066928509242848554,\n",
              " 0.04742587317756678,\n",
              " 0.2689414213699951,\n",
              " 0.8807970779778823,\n",
              " 0.9820137900379085,\n",
              " 0.9975273768433653]"
            ]
          },
          "metadata": {
            "tags": []
          },
          "execution_count": 3
        }
      ]
    },
    {
      "cell_type": "markdown",
      "metadata": {
        "id": "R3Bx38hyJd5D"
      },
      "source": [
        "In this exercise, you used the **lambda** function to find the list of values by using **map**."
      ]
    }
  ]
}