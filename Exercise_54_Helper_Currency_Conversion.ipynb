{
  "nbformat": 4,
  "nbformat_minor": 0,
  "metadata": {
    "colab": {
      "name": "Exercise 54: Helper Currency Conversion",
      "provenance": [],
      "authorship_tag": "ABX9TyPKKtl9qZ8GB11kqMpirtfs"
    },
    "kernelspec": {
      "name": "python3",
      "display_name": "Python 3"
    }
  },
  "cells": [
    {
      "cell_type": "markdown",
      "metadata": {
        "id": "ZJiFaTai-FYG"
      },
      "source": [
        "In this exercise, you will take a function that computes the total USD for a transaction and use a **helper** function to apply the DRY principle. You also want to add an optional margin into the currency conversion that should default to **0**:"
      ]
    },
    {
      "cell_type": "code",
      "metadata": {
        "colab": {
          "base_uri": "https://localhost:8080/"
        },
        "id": "VsKUYNCT94Iq",
        "outputId": "d9c3e1d6-a3ea-4fff-b435-2ee9740f5036"
      },
      "source": [
        "def compute_usd_total(amount_in_aud=0, amount_in_gbp=0):\n",
        "    total = 0\n",
        "    total += amount_in_aud * 0.78\n",
        "    total += amount_in_gbp * 1.29\n",
        "    return total\n",
        "compute_usd_total(amount_in_gbp=10)"
      ],
      "execution_count": 1,
      "outputs": [
        {
          "output_type": "execute_result",
          "data": {
            "text/plain": [
              "12.9"
            ]
          },
          "metadata": {
            "tags": []
          },
          "execution_count": 1
        }
      ]
    },
    {
      "cell_type": "markdown",
      "metadata": {
        "id": "YyWUq1vv-dS6"
      },
      "source": [
        "1. Create a currency conversion function with an optional **margin**:"
      ]
    },
    {
      "cell_type": "code",
      "metadata": {
        "id": "3xbNKUue-cQT"
      },
      "source": [
        "def convert_currency(amount, rate, margin=0):\n",
        "     return amount * rate * (1 + margin)"
      ],
      "execution_count": 2,
      "outputs": []
    },
    {
      "cell_type": "markdown",
      "metadata": {
        "id": "-Xci2z3i-8yr"
      },
      "source": [
        "2. Modify the original function to use the **helper** function:"
      ]
    },
    {
      "cell_type": "code",
      "metadata": {
        "id": "gWjMIxmc_HBl"
      },
      "source": [
        "def compute_usd_total(amount_in_aud=0, amount_in_gbp=0):\n",
        "  total = 0\n",
        "  total += convert_currency(amount_in_aud, 0.78)\n",
        "  total += convert_currency(amount_in_gbp, 1.29)\n",
        "  return total"
      ],
      "execution_count": 3,
      "outputs": []
    },
    {
      "cell_type": "markdown",
      "metadata": {
        "id": "5mikXD7lAExE"
      },
      "source": [
        "3. check the result:"
      ]
    },
    {
      "cell_type": "code",
      "metadata": {
        "colab": {
          "base_uri": "https://localhost:8080/"
        },
        "id": "zQUtEN8sAC6P",
        "outputId": "f0928233-b63d-4b70-dc4a-9b4109d52938"
      },
      "source": [
        "compute_usd_total(amount_in_gbp=10)"
      ],
      "execution_count": 4,
      "outputs": [
        {
          "output_type": "execute_result",
          "data": {
            "text/plain": [
              "12.9"
            ]
          },
          "metadata": {
            "tags": []
          },
          "execution_count": 4
        }
      ]
    },
    {
      "cell_type": "markdown",
      "metadata": {
        "id": "o4YibyUsAXGD"
      },
      "source": [
        "4. Suppose that the business has decided to add a 1% margin for the conversion of the GBP component. Modify the function accordingly:\n",
        "  "
      ]
    },
    {
      "cell_type": "code",
      "metadata": {
        "id": "2tWlo59bApb1"
      },
      "source": [
        "def compute_usd_total(amount_in_aud=0, amount_in_gbp=0):\n",
        "    total = 0\n",
        "    total += convert_currency(amount_in_aud, 0.78)\n",
        "    total += convert_currency(amount_in_gbp, 1.29, 0.01)\n",
        "    return total "
      ],
      "execution_count": 5,
      "outputs": []
    },
    {
      "cell_type": "markdown",
      "metadata": {
        "id": "hNKb_EGNAsoH"
      },
      "source": [
        "5. check the result:"
      ]
    },
    {
      "cell_type": "code",
      "metadata": {
        "colab": {
          "base_uri": "https://localhost:8080/"
        },
        "id": "jJJuQbWJAr8G",
        "outputId": "615a97df-c7a2-4afe-873c-625116f17a4f"
      },
      "source": [
        "compute_usd_total(amount_in_gbp=10)"
      ],
      "execution_count": 6,
      "outputs": [
        {
          "output_type": "execute_result",
          "data": {
            "text/plain": [
              "13.029"
            ]
          },
          "metadata": {
            "tags": []
          },
          "execution_count": 6
        }
      ]
    },
    {
      "cell_type": "markdown",
      "metadata": {
        "id": "-JKNOM1aAds3"
      },
      "source": [
        "Note that it's possible to get ahead of yourself when applying the DRY principle in writing reusable code. In the currency example, if our application really did just require converting currency once, then it probably shouldn't be written as a separate function. It may be tempting to think that generalizing our code is always good because it insures us against the possibility of needing to repeat the same code later; however, this attitude is not always optimal. You can end up spending a lot of time writing more abstract code than is necessary, and, often, this code can be less readable and may introduce unnecessary complexity to our codebase. Typically, the time to apply the DRY principle is when you find yourself writing the code for the second time."
      ]
    }
  ]
}