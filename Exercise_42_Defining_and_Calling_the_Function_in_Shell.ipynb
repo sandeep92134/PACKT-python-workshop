{
  "nbformat": 4,
  "nbformat_minor": 0,
  "metadata": {
    "colab": {
      "name": "Exercise 42: Defining and Calling the Function in Shell",
      "provenance": [],
      "authorship_tag": "ABX9TyOEPrtyNW457Kv9x2ZbBHm/",
      "include_colab_link": true
    },
    "kernelspec": {
      "name": "python3",
      "display_name": "Python 3"
    }
  },
  "cells": [
    {
      "cell_type": "markdown",
      "metadata": {
        "id": "view-in-github",
        "colab_type": "text"
      },
      "source": [
        "<a href=\"https://colab.research.google.com/github/sandeep92134/PACKT-python-workshop/blob/main/Exercise_42_Defining_and_Calling_the_Function_in_Shell.ipynb\" target=\"_parent\"><img src=\"https://colab.research.google.com/assets/colab-badge.svg\" alt=\"Open In Colab\"/></a>"
      ]
    },
    {
      "cell_type": "markdown",
      "metadata": {
        "id": "FSKE1PiV5Tqf"
      },
      "source": [
        "In this exercise, you create a function that will return the second element of a list if it exists:\n",
        "\n",
        "1. In a Python shell, enter the function definition. Note that the tab spacing needs to match the following output:"
      ]
    },
    {
      "cell_type": "code",
      "metadata": {
        "id": "ihLRWLRs5Hpw"
      },
      "source": [
        "def get_second_element(mylist):\n",
        "    if len(mylist) > 1:\n",
        "        return mylist[1]\n",
        "    else:\n",
        "        return 'List was too small'    "
      ],
      "execution_count": 1,
      "outputs": []
    },
    {
      "cell_type": "markdown",
      "metadata": {
        "id": "Ml3fBQ2k5UcO"
      },
      "source": [
        "Here you are calling print logs the parsed message to the standard output.\n",
        "\n",
        "2. Try running the function on a small list of integers:"
      ]
    },
    {
      "cell_type": "code",
      "metadata": {
        "colab": {
          "base_uri": "https://localhost:8080/"
        },
        "id": "J02WwYTd5U1S",
        "outputId": "3f51aabc-890b-4fd2-a513-79a7d341d44f"
      },
      "source": [
        "get_second_element([1, 2, 3])"
      ],
      "execution_count": 2,
      "outputs": [
        {
          "output_type": "execute_result",
          "data": {
            "text/plain": [
              "2"
            ]
          },
          "metadata": {
            "tags": []
          },
          "execution_count": 2
        }
      ]
    },
    {
      "cell_type": "markdown",
      "metadata": {
        "id": "qDCqDozs5VYZ"
      },
      "source": [
        "3. Try running the function on a list with only one element:"
      ]
    },
    {
      "cell_type": "code",
      "metadata": {
        "colab": {
          "base_uri": "https://localhost:8080/",
          "height": 35
        },
        "id": "-4ZgGvgM5V2Q",
        "outputId": "56808e24-c595-485f-b327-42940ea3f9dc"
      },
      "source": [
        "get_second_element([1])"
      ],
      "execution_count": 3,
      "outputs": [
        {
          "output_type": "execute_result",
          "data": {
            "application/vnd.google.colaboratory.intrinsic+json": {
              "type": "string"
            },
            "text/plain": [
              "'List was too small'"
            ]
          },
          "metadata": {
            "tags": []
          },
          "execution_count": 3
        }
      ]
    },
    {
      "cell_type": "markdown",
      "metadata": {
        "id": "EPqoUt755WZG"
      },
      "source": [
        "Defining functions in a shell can be difficult, as the shell isn't optimized for editing multiple lines of code blocks. Instead, it's preferable for our functions to live inside a Python script."
      ]
    }
  ]
}