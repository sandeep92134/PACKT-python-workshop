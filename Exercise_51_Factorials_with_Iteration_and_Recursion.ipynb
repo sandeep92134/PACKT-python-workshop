{
  "nbformat": 4,
  "nbformat_minor": 0,
  "metadata": {
    "colab": {
      "name": "Exercise 51: Factorials with Iteration and Recursion",
      "provenance": [],
      "authorship_tag": "ABX9TyOx+8EuuNpvNKfu+orZwiI1",
      "include_colab_link": true
    },
    "kernelspec": {
      "name": "python3",
      "display_name": "Python 3"
    }
  },
  "cells": [
    {
      "cell_type": "markdown",
      "metadata": {
        "id": "view-in-github",
        "colab_type": "text"
      },
      "source": [
        "<a href=\"https://colab.research.google.com/github/sandeep92134/PACKT-python-workshop/blob/main/Exercise_51_Factorials_with_Iteration_and_Recursion.ipynb\" target=\"_parent\"><img src=\"https://colab.research.google.com/assets/colab-badge.svg\" alt=\"Open In Colab\"/></a>"
      ]
    },
    {
      "cell_type": "markdown",
      "metadata": {
        "id": "lL0E0nCKuvv2"
      },
      "source": [
        "In this exercise, you create a **factorial_iterative** function that takes an integer and returns the factorial using an iterative and similarly you will write a **factorial_recursive** function which computes the factorial of a number by the recursive approach. Recall that a factorial is the product of all integers up to and equal to the number.\n",
        "\n",
        "For instance, the factorial of 5 is calculated as 5! = 5 * 4 * 3 * 2 * 1 = 120.\n",
        "\n",
        "1. In a Jupyter Notebook, enter the following function to compute factorials using iteration:"
      ]
    },
    {
      "cell_type": "code",
      "metadata": {
        "id": "2e33Fau3uq2L"
      },
      "source": [
        "def factorial_iterative(n):\n",
        "  result = 1\n",
        "  for i in range(n):\n",
        "    result *= i + 1\n",
        "  return result   "
      ],
      "execution_count": 1,
      "outputs": []
    },
    {
      "cell_type": "markdown",
      "metadata": {
        "id": "2IPU96W3uxJR"
      },
      "source": [
        "2. Test the function:"
      ]
    },
    {
      "cell_type": "code",
      "metadata": {
        "colab": {
          "base_uri": "https://localhost:8080/"
        },
        "id": "LWTiU4RZvq3U",
        "outputId": "5d4385bd-c250-4733-ee37-ee0e9038de14"
      },
      "source": [
        "factorial_iterative(1)"
      ],
      "execution_count": 2,
      "outputs": [
        {
          "output_type": "execute_result",
          "data": {
            "text/plain": [
              "1"
            ]
          },
          "metadata": {
            "tags": []
          },
          "execution_count": 2
        }
      ]
    },
    {
      "cell_type": "code",
      "metadata": {
        "colab": {
          "base_uri": "https://localhost:8080/"
        },
        "id": "lImdxwaSvqm8",
        "outputId": "bc872619-3d31-4b47-e0f0-6c51dde5dc1b"
      },
      "source": [
        "factorial_iterative(2)"
      ],
      "execution_count": 3,
      "outputs": [
        {
          "output_type": "execute_result",
          "data": {
            "text/plain": [
              "2"
            ]
          },
          "metadata": {
            "tags": []
          },
          "execution_count": 3
        }
      ]
    },
    {
      "cell_type": "code",
      "metadata": {
        "colab": {
          "base_uri": "https://localhost:8080/"
        },
        "id": "CMIAdaiMvqca",
        "outputId": "464b3b68-96a3-402c-c9c3-f05cf18aae78"
      },
      "source": [
        "factorial_iterative(3)"
      ],
      "execution_count": 4,
      "outputs": [
        {
          "output_type": "execute_result",
          "data": {
            "text/plain": [
              "6"
            ]
          },
          "metadata": {
            "tags": []
          },
          "execution_count": 4
        }
      ]
    },
    {
      "cell_type": "code",
      "metadata": {
        "colab": {
          "base_uri": "https://localhost:8080/"
        },
        "id": "_blrV3ZyvqOJ",
        "outputId": "88e2440b-8b7a-4057-8e57-f2ead989210b"
      },
      "source": [
        "factorial_iterative(4)"
      ],
      "execution_count": 5,
      "outputs": [
        {
          "output_type": "execute_result",
          "data": {
            "text/plain": [
              "24"
            ]
          },
          "metadata": {
            "tags": []
          },
          "execution_count": 5
        }
      ]
    },
    {
      "cell_type": "code",
      "metadata": {
        "colab": {
          "base_uri": "https://localhost:8080/"
        },
        "id": "vpNDWIEfvl8l",
        "outputId": "69feee74-d48d-4571-c13a-7565a799b74e"
      },
      "source": [
        "factorial_iterative(5)"
      ],
      "execution_count": 6,
      "outputs": [
        {
          "output_type": "execute_result",
          "data": {
            "text/plain": [
              "120"
            ]
          },
          "metadata": {
            "tags": []
          },
          "execution_count": 6
        }
      ]
    },
    {
      "cell_type": "markdown",
      "metadata": {
        "id": "_FL1fRT8vzF6"
      },
      "source": [
        "3. Note that you can express n! = n * (n – 1)!; for instance, 5! = 5 * 4!. This means we can write the function with recursion as follows:   "
      ]
    },
    {
      "cell_type": "code",
      "metadata": {
        "id": "hX8P0zzcv75P"
      },
      "source": [
        "def factorial_recursive(n):\n",
        "  if n == 1 or n == 0:\n",
        "    return 1\n",
        "  else:\n",
        "    return n * factorial_recursive(n - 1)  "
      ],
      "execution_count": 7,
      "outputs": []
    },
    {
      "cell_type": "markdown",
      "metadata": {
        "id": "Z5pYRmFzw4Nb"
      },
      "source": [
        "4. Test the function:\n"
      ]
    },
    {
      "cell_type": "code",
      "metadata": {
        "colab": {
          "base_uri": "https://localhost:8080/"
        },
        "id": "hHeCe6DRxVTh",
        "outputId": "befeb5f5-d6fc-4725-977e-c535afc456d9"
      },
      "source": [
        "factorial_recursive(3)"
      ],
      "execution_count": 8,
      "outputs": [
        {
          "output_type": "execute_result",
          "data": {
            "text/plain": [
              "6"
            ]
          },
          "metadata": {
            "tags": []
          },
          "execution_count": 8
        }
      ]
    },
    {
      "cell_type": "code",
      "metadata": {
        "colab": {
          "base_uri": "https://localhost:8080/"
        },
        "id": "e-APKWx-xVOU",
        "outputId": "64d943a8-421f-46ae-d9b7-b787319bbad0"
      },
      "source": [
        "factorial_recursive(4)"
      ],
      "execution_count": 9,
      "outputs": [
        {
          "output_type": "execute_result",
          "data": {
            "text/plain": [
              "24"
            ]
          },
          "metadata": {
            "tags": []
          },
          "execution_count": 9
        }
      ]
    },
    {
      "cell_type": "code",
      "metadata": {
        "colab": {
          "base_uri": "https://localhost:8080/"
        },
        "id": "TcU6PH2hxU2B",
        "outputId": "65fcce41-2542-4fa3-bc53-306c54966816"
      },
      "source": [
        "factorial_recursive(5)"
      ],
      "execution_count": 10,
      "outputs": [
        {
          "output_type": "execute_result",
          "data": {
            "text/plain": [
              "120"
            ]
          },
          "metadata": {
            "tags": []
          },
          "execution_count": 10
        }
      ]
    },
    {
      "cell_type": "markdown",
      "metadata": {
        "id": "nX4nJXLDw9nY"
      },
      "source": [
        "In this exercise, you successfully implemented and used both iteration and recursion to find the factorial of **n** numbers."
      ]
    }
  ]
}