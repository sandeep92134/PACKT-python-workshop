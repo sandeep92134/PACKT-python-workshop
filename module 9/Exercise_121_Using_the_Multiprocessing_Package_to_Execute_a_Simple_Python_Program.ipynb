{
  "nbformat": 4,
  "nbformat_minor": 0,
  "metadata": {
    "colab": {
      "name": "Exercise 121: Using the Multiprocessing Package to Execute a Simple Python Program",
      "provenance": [],
      "authorship_tag": "ABX9TyOWG3j9iCyOoY1LVw3fIRq8",
      "include_colab_link": true
    },
    "kernelspec": {
      "name": "python3",
      "display_name": "Python 3"
    }
  },
  "cells": [
    {
      "cell_type": "markdown",
      "metadata": {
        "id": "view-in-github",
        "colab_type": "text"
      },
      "source": [
        "<a href=\"https://colab.research.google.com/github/sandeep92134/PACKT-python-workshop/blob/main/module%209/Exercise_121_Using_the_Multiprocessing_Package_to_Execute_a_Simple_Python_Program.ipynb\" target=\"_parent\"><img src=\"https://colab.research.google.com/assets/colab-badge.svg\" alt=\"Open In Colab\"/></a>"
      ]
    },
    {
      "cell_type": "markdown",
      "metadata": {
        "id": "KP_mAByP7jKl"
      },
      "source": [
        "In this exercise, you will use the **multiprocessing** module to complete the same task as in Exercise 120, Working with execnet to Execute a Simple Python Squaring Program:\r\n",
        "\r\n",
        "1. Create a new text file called **multi_processing.py**.\r\n",
        "2. Now, import the **multiprocessing** package:\r\n",
        "3. Create a **square_mp** function that will continuously monitor the queue for numbers, and when it sees a number, it will take it, square it, and place it in the outbound queue:\r\n",
        "4. Finally, add the following block of code to **multi_processing.py**:\r\n",
        "\r\n",
        "  Recall that the **if name == '__main__'** line simply avoids executing this section of code if the module is being imported elsewhere in your project. In comparison, **in_queue** and **out_queue** are both queue objects through which data can be sent between the parent and child processes. Within the following loop, you can see that you add integers to **in_queue** and get the results from **out_queue**. If you look at the preceding **square_mp** function, you can see how the child process will get its values from the **in_queue** object, and pass the result back into the **out_queue** object.\r\n",
        "5.Execute your program from the command line as follows:\r\n",
        "\r\n",
        "In this exercise, you learned how to pass tasks between our parent and child Python processes using the multiprocessing package, and you found the square of a set of numbers.\r\n",
        "\r\n",
        "\r\n"
      ]
    },
    {
      "cell_type": "code",
      "metadata": {
        "colab": {
          "base_uri": "https://localhost:8080/"
        },
        "id": "s4h9b1bF7ICv",
        "outputId": "4dcf5363-e8fb-491d-a816-7f81d8f4b537"
      },
      "source": [
        "%%writefile multi_processing.py\r\n",
        "import multiprocessing\r\n",
        "\r\n",
        "def square_mp(in_queue, out_queue):\r\n",
        "    while(True):\r\n",
        "        n = in_queue.get()\r\n",
        "        n_squared = n**2\r\n",
        "        out_queue.put(n_squared)\r\n",
        "\r\n",
        "if __name__ == '__main__':\r\n",
        "    in_queue = multiprocessing.Queue()\r\n",
        "    out_queue = multiprocessing.Queue()\r\n",
        "    process = multiprocessing.Process(target=square_mp, args=(in_queue, out_queue))\r\n",
        "    process.start()\r\n",
        "    for i in range(10):\r\n",
        "        in_queue.put(i)\r\n",
        "        i_squared = out_queue.get()\r\n",
        "        print(f\"{i} squared is {i_squared}\")\r\n",
        "    process.terminate()"
      ],
      "execution_count": 1,
      "outputs": [
        {
          "output_type": "stream",
          "text": [
            "Writing multi_processing.py\n"
          ],
          "name": "stdout"
        }
      ]
    },
    {
      "cell_type": "code",
      "metadata": {
        "colab": {
          "base_uri": "https://localhost:8080/"
        },
        "id": "VKTm3OiTHecz",
        "outputId": "8e4a9789-e49b-4e5b-f8da-28fbcf66f390"
      },
      "source": [
        "!python multi_processing.py"
      ],
      "execution_count": 2,
      "outputs": [
        {
          "output_type": "stream",
          "text": [
            "0 squared is 0\n",
            "1 squared is 1\n",
            "2 squared is 4\n",
            "3 squared is 9\n",
            "4 squared is 16\n",
            "5 squared is 25\n",
            "6 squared is 36\n",
            "7 squared is 49\n",
            "8 squared is 64\n",
            "9 squared is 81\n"
          ],
          "name": "stdout"
        }
      ]
    }
  ]
}