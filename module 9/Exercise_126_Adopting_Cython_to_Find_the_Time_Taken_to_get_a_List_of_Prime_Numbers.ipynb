{
  "nbformat": 4,
  "nbformat_minor": 0,
  "metadata": {
    "colab": {
      "name": "Exercise 126: Adopting Cython to Find the Time Taken to get a List of Prime Numbers",
      "provenance": [],
      "authorship_tag": "ABX9TyOGgCGXkK+Z240svRM0GY9M",
      "include_colab_link": true
    },
    "kernelspec": {
      "name": "python3",
      "display_name": "Python 3"
    }
  },
  "cells": [
    {
      "cell_type": "markdown",
      "metadata": {
        "id": "view-in-github",
        "colab_type": "text"
      },
      "source": [
        "<a href=\"https://colab.research.google.com/github/sandeep92134/PACKT-python-workshop/blob/main/module%209/Exercise_126_Adopting_Cython_to_Find_the_Time_Taken_to_get_a_List_of_Prime_Numbers.ipynb\" target=\"_parent\"><img src=\"https://colab.research.google.com/assets/colab-badge.svg\" alt=\"Open In Colab\"/></a>"
      ]
    },
    {
      "cell_type": "markdown",
      "metadata": {
        "id": "RWQLpzuigzq0"
      },
      "source": [
        "In this exercise, you will install **Cython**, and, as mentioned in Exercise 125, Using PyPy to Find the Time to Get a List of Prime Numbers, you will find a list of prime numbers, but you are more interested in knowing the amount of time it takes to execute the code using **Cython**.\r\n",
        "\r\n",
        "This exercise will be performed on the command line:\r\n",
        "\r\n",
        "1. Firstly, install **cython**, as shown in the following code snippet:\r\n",
        " ```\r\n",
        " $ pip install cython\r\n",
        " ```\r\n",
        "2. Now, go back to the code you wrote for Exercise 8, Displaying String, and extract the class for iterating over primes using the Sieve of Eratosthenes into a file, **sieve_module.py**:\r\n",
        "3. Compile that into a C module using **Cython**. Create a file called **setup.py** with the following contents:\r\n",
        "4. )\r\n",
        "Now, on the command line, run **setup.py** to build the module, as shown in the following code snippet:\r\n",
        "\r\n",
        " `$ python setup.py build_ext --inplace`\r\n",
        "5. Now import the **timeit** module and use it in a script called **cython_sieve.py**:\r\n",
        "6. Run this program to see the timing:\r\n",
        "\r\n",
        " `$ python cython_sieve.py `\r\n",
        "\r\n",
        "Here, it is 3.83 seconds, so 383 µs per iteration. That's a little over 40% of the time taken by the CPython version, but the pypy Python was still able to run the code faster. The advantage of using Cython is that you are able to make a module that is compatible with **CPython**, so you can make your module code faster without the need to make everybody else switch to a different Python interpreter to reap the benefits.\r\n",
        "\r\n"
      ]
    },
    {
      "cell_type": "code",
      "metadata": {
        "colab": {
          "base_uri": "https://localhost:8080/"
        },
        "id": "gnUCTCV8fwUy",
        "outputId": "dbe0f1d8-4a9a-42f6-94ef-90ad8e4fb81b"
      },
      "source": [
        "pip install cython"
      ],
      "execution_count": 1,
      "outputs": [
        {
          "output_type": "stream",
          "text": [
            "Requirement already satisfied: cython in /usr/local/lib/python3.6/dist-packages (0.29.21)\n"
          ],
          "name": "stdout"
        }
      ]
    },
    {
      "cell_type": "code",
      "metadata": {
        "colab": {
          "base_uri": "https://localhost:8080/"
        },
        "id": "jKWUUek4j9ve",
        "outputId": "d6f474ee-7248-4630-963e-ca9814044544"
      },
      "source": [
        "%%writefile sieve_module.py\r\n",
        "class PrimesBelow:\r\n",
        "    def __init__(self, bound):\r\n",
        "        self.candidate_numbers = list(range(2,bound))\r\n",
        "    def __iter__(self):\r\n",
        "        return self\r\n",
        "    def __next__(self):\r\n",
        "        if len(self.candidate_numbers) == 0:\r\n",
        "            raise StopIteration\r\n",
        "        next_prime = self.candidate_numbers[0]\r\n",
        "        self.candidate_numbers = [x for x in self.candidate_numbers if x % next_prime != 0]\r\n",
        "        return next_prime"
      ],
      "execution_count": 2,
      "outputs": [
        {
          "output_type": "stream",
          "text": [
            "Writing sieve_module.py\n"
          ],
          "name": "stdout"
        }
      ]
    },
    {
      "cell_type": "code",
      "metadata": {
        "colab": {
          "base_uri": "https://localhost:8080/"
        },
        "id": "cFpSF2QtjnZl",
        "outputId": "03ac4638-8e83-49e8-f204-2258558ae8b3"
      },
      "source": [
        "%%writefile setup.py\r\n",
        "from distutils.core import setup\r\n",
        "from Cython.Build import cythonize  \r\n",
        "setup(\r\n",
        "    ext_modules = cythonize(\"sieve_module.py\")\r\n",
        ")"
      ],
      "execution_count": 3,
      "outputs": [
        {
          "output_type": "stream",
          "text": [
            "Writing setup.py\n"
          ],
          "name": "stdout"
        }
      ]
    },
    {
      "cell_type": "code",
      "metadata": {
        "colab": {
          "base_uri": "https://localhost:8080/"
        },
        "id": "pNg1eDuMkRdZ",
        "outputId": "638aaa88-5ca4-44b4-fab7-bf3d4468347c"
      },
      "source": [
        "!python setup.py build_ext --inplace"
      ],
      "execution_count": 4,
      "outputs": [
        {
          "output_type": "stream",
          "text": [
            "Compiling sieve_module.py because it changed.\n",
            "[1/1] Cythonizing sieve_module.py\n",
            "/usr/local/lib/python3.6/dist-packages/Cython/Compiler/Main.py:369: FutureWarning: Cython directive 'language_level' not set, using 2 for now (Py2). This will change in a later release! File: /content/sieve_module.py\n",
            "  tree = Parsing.p_module(s, pxd, full_module_name)\n",
            "running build_ext\n",
            "building 'sieve_module' extension\n",
            "creating build\n",
            "creating build/temp.linux-x86_64-3.6\n",
            "x86_64-linux-gnu-gcc -pthread -DNDEBUG -g -fwrapv -O2 -Wall -g -fstack-protector-strong -Wformat -Werror=format-security -Wdate-time -D_FORTIFY_SOURCE=2 -fPIC -I/usr/include/python3.6m -c sieve_module.c -o build/temp.linux-x86_64-3.6/sieve_module.o\n",
            "x86_64-linux-gnu-gcc -pthread -shared -Wl,-O1 -Wl,-Bsymbolic-functions -Wl,-Bsymbolic-functions -Wl,-z,relro -Wl,-Bsymbolic-functions -Wl,-z,relro -g -fstack-protector-strong -Wformat -Werror=format-security -Wdate-time -D_FORTIFY_SOURCE=2 build/temp.linux-x86_64-3.6/sieve_module.o -o /content/sieve_module.cpython-36m-x86_64-linux-gnu.so\n"
          ],
          "name": "stdout"
        }
      ]
    },
    {
      "cell_type": "code",
      "metadata": {
        "colab": {
          "base_uri": "https://localhost:8080/"
        },
        "id": "2G_1vYPlkfDu",
        "outputId": "60839f4f-495f-4642-eca2-eaf64122f0ff"
      },
      "source": [
        "import timeit\r\n",
        "\r\n",
        "print(timeit.timeit('list(PrimesBelow(1000))', setup='from sieve_module import PrimesBelow', number=10000))"
      ],
      "execution_count": 5,
      "outputs": [
        {
          "output_type": "stream",
          "text": [
            "4.91440520499998\n"
          ],
          "name": "stdout"
        }
      ]
    },
    {
      "cell_type": "markdown",
      "metadata": {
        "id": "T2RrpEpck28I"
      },
      "source": [
        "### OR\r\n"
      ]
    },
    {
      "cell_type": "code",
      "metadata": {
        "colab": {
          "base_uri": "https://localhost:8080/"
        },
        "id": "T1g0x4OMku-K",
        "outputId": "e82764a7-f7b3-403f-bb65-cd2ae1a60706"
      },
      "source": [
        "%%writefile cython_sieve.py\r\n",
        "import timeit\r\n",
        "\r\n",
        "print(timeit.timeit('list(PrimesBelow(1000))', setup='from sieve_module import PrimesBelow', number=10000))"
      ],
      "execution_count": 6,
      "outputs": [
        {
          "output_type": "stream",
          "text": [
            "Writing cython_sieve.py\n"
          ],
          "name": "stdout"
        }
      ]
    },
    {
      "cell_type": "code",
      "metadata": {
        "colab": {
          "base_uri": "https://localhost:8080/"
        },
        "id": "QjRHhlUglJGK",
        "outputId": "1ba44c4d-2def-4d93-dd9e-04b498573e98"
      },
      "source": [
        "!python cython_sieve.py "
      ],
      "execution_count": 7,
      "outputs": [
        {
          "output_type": "stream",
          "text": [
            "4.879561701999933\n"
          ],
          "name": "stdout"
        }
      ]
    }
  ]
}