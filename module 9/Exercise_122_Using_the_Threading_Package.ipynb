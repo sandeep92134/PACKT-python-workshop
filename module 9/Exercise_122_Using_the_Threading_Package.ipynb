{
  "nbformat": 4,
  "nbformat_minor": 0,
  "metadata": {
    "colab": {
      "name": "Exercise 122: Using the Threading Package",
      "provenance": [],
      "authorship_tag": "ABX9TyNS8I4W5F2zBRiF8ye3JQrs",
      "include_colab_link": true
    },
    "kernelspec": {
      "name": "python3",
      "display_name": "Python 3"
    }
  },
  "cells": [
    {
      "cell_type": "markdown",
      "metadata": {
        "id": "view-in-github",
        "colab_type": "text"
      },
      "source": [
        "<a href=\"https://colab.research.google.com/github/sandeep92134/PACKT-python-workshop/blob/main/module%209/Exercise_122_Using_the_Threading_Package.ipynb\" target=\"_parent\"><img src=\"https://colab.research.google.com/assets/colab-badge.svg\" alt=\"Open In Colab\"/></a>"
      ]
    },
    {
      "cell_type": "markdown",
      "metadata": {
        "id": "DZpG3F9zI2AX"
      },
      "source": [
        "In this exercise, you will use the **threading** module to complete the same task of squaring numbers as in Exercise 120, Working with execnet to Execute a Simple Python Squaring Program:\r\n",
        "\r\n",
        "1. In a Jupyter notebook, **import** the **threading** and **queue** modules:\r\n",
        "2. Create two new queues to handle the communication between our processes, as shown in the following code snippet:\r\n",
        "3. Create the function that will watch the queue for new numbers and return squared numbers. The **if n == 'STOP'** line allows you to terminate the thread by passing **STOP** into the **in_queue** object:\r\n",
        "4. Now, create and start a new thread:\r\n",
        "5. Loop through **10** numbers, pass them into the **in_queue** object, and receive them from the **out_queue** object as the expected output:\r\n",
        "\r\n",
        "In this exercise, you learned how to pass tasks between our parent and child Python processes using the threading package. In the next section, you will look at parsing command-line arguments in scripts.\r\n",
        "\r\n",
        "\r\n"
      ]
    },
    {
      "cell_type": "code",
      "metadata": {
        "id": "cEL5a5JpIevl"
      },
      "source": [
        "import threading\r\n",
        "import queue"
      ],
      "execution_count": 1,
      "outputs": []
    },
    {
      "cell_type": "code",
      "metadata": {
        "id": "hbej5Dd2KNYU"
      },
      "source": [
        "in_queue = queue.Queue()\r\n",
        "out_queue = queue.Queue()"
      ],
      "execution_count": 2,
      "outputs": []
    },
    {
      "cell_type": "code",
      "metadata": {
        "id": "TqZo-gLpKRgX"
      },
      "source": [
        "def square_threading():\r\n",
        "    while True:\r\n",
        "        n = in_queue.get()\r\n",
        "        if n == 'STOP':\r\n",
        "            return\r\n",
        "        n_squared = n**2\r\n",
        "        out_queue.put(n_squared)\r\n",
        "\r\n",
        "thread = threading.Thread(target=square_threading)\r\n",
        "thread.start()\r\n"
      ],
      "execution_count": 3,
      "outputs": []
    },
    {
      "cell_type": "code",
      "metadata": {
        "colab": {
          "base_uri": "https://localhost:8080/"
        },
        "id": "2WGKkSxjKYWO",
        "outputId": "df395877-0134-4f8e-c295-aec67715c6ab"
      },
      "source": [
        "for i in range(10):\r\n",
        "    in_queue.put(i)\r\n",
        "    i_squared = out_queue.get()\r\n",
        "    print(f\"{i} squared is {i_squared}\")\r\n",
        "in_queue.put('STOP')\r\n",
        "thread.join()"
      ],
      "execution_count": 4,
      "outputs": [
        {
          "output_type": "stream",
          "text": [
            "0 squared is 0\n",
            "1 squared is 1\n",
            "2 squared is 4\n",
            "3 squared is 9\n",
            "4 squared is 16\n",
            "5 squared is 25\n",
            "6 squared is 36\n",
            "7 squared is 49\n",
            "8 squared is 64\n",
            "9 squared is 81\n"
          ],
          "name": "stdout"
        }
      ]
    }
  ]
}