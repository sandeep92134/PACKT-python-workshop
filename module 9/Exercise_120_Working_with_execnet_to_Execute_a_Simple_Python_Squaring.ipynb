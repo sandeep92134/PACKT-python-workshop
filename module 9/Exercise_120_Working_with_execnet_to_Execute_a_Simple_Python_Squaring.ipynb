{
  "nbformat": 4,
  "nbformat_minor": 0,
  "metadata": {
    "colab": {
      "name": "Exercise 120: Working with execnet to Execute a Simple Python Squaring",
      "provenance": [],
      "authorship_tag": "ABX9TyPTgNxZAowgSTL+fn7L7f7N",
      "include_colab_link": true
    },
    "kernelspec": {
      "name": "python3",
      "display_name": "Python 3"
    }
  },
  "cells": [
    {
      "cell_type": "markdown",
      "metadata": {
        "id": "view-in-github",
        "colab_type": "text"
      },
      "source": [
        "<a href=\"https://colab.research.google.com/github/sandeep92134/PACKT-python-workshop/blob/main/module%209/Exercise_120_Working_with_execnet_to_Execute_a_Simple_Python_Squaring.ipynb\" target=\"_parent\"><img src=\"https://colab.research.google.com/assets/colab-badge.svg\" alt=\"Open In Colab\"/></a>"
      ]
    },
    {
      "cell_type": "markdown",
      "metadata": {
        "id": "hEi_rNTD4ofH"
      },
      "source": [
        "In this exercise, you'll create a squaring process that receives **x** over an **execnet** channel and responds with x**2. This is much too small a task to warrant multiprocessing, but it does demonstrate how to use the library.\r\n",
        "\r\n",
        "This exercise will be performed on a Jupyter notebook:\r\n",
        "\r\n",
        "1. First, install **execnet** using the **pip** package manager:\r\n",
        "2. Write the **square** function, which receives numbers on a channel and returns their square:\r\n",
        "\r\n",
        "  The **while not channel.isclosed()** statement ensures that we only proceed with the calculation if there is an open channel between the parent and child Python processes. **number = channel.receive()** takes the input from the parent process that you want to **square**. It is then squared in the number_squared = number**2 code line. Lastly, you send the squared number back to the parent process with **channel.send(number_squared)**.\r\n",
        "3. Now set up a **gateway** channel to a remote Python interpreter running that function:\r\n",
        "\r\n",
        "   A **gateway** channel manages the communication between the parent and child Python processes. The channel is used to actually send and receive data between the processes.\r\n",
        "4. Now send some integers from our parent process to the child process, as shown in the following code snippet:\r\n",
        "   \r\n",
        "   Here, you loop through 10 integers, send them through the **square** channel, and then receive the result using the **channel.receive()** function.\r\n",
        "5. When you are done with the remote Python interpreter, close the **gateway** channel to cause it to quit:\r\n",
        "\r\n",
        "In this exercise, you learned how to use **execnet** to pass instructions between Python processes. In the next section, you will be looking at **multiprocessing** with the multiprocessing package"
      ]
    },
    {
      "cell_type": "code",
      "metadata": {
        "colab": {
          "base_uri": "https://localhost:8080/"
        },
        "id": "6orYarxC3Ph1",
        "outputId": "2dcb3d16-ef78-4d07-c6a9-21fbd7310afc"
      },
      "source": [
        "pip install execnet"
      ],
      "execution_count": 1,
      "outputs": [
        {
          "output_type": "stream",
          "text": [
            "Collecting execnet\n",
            "  Downloading https://files.pythonhosted.org/packages/d3/2e/c63af07fa471e0a02d05793c7a56a9f7d274a8489442a5dc4fb3b2b3c705/execnet-1.7.1-py2.py3-none-any.whl\n",
            "Collecting apipkg>=1.4\n",
            "  Downloading https://files.pythonhosted.org/packages/67/08/4815a09603fc800209431bec5b8bd2acf2f95abdfb558a44a42507fb94da/apipkg-1.5-py2.py3-none-any.whl\n",
            "Installing collected packages: apipkg, execnet\n",
            "Successfully installed apipkg-1.5 execnet-1.7.1\n"
          ],
          "name": "stdout"
        }
      ]
    },
    {
      "cell_type": "code",
      "metadata": {
        "id": "8mTSD-ck4C_D"
      },
      "source": [
        "import execnet"
      ],
      "execution_count": 2,
      "outputs": []
    },
    {
      "cell_type": "code",
      "metadata": {
        "id": "eaYAFwbz4KV2"
      },
      "source": [
        "def square(channel):\r\n",
        "    while not channel.isclosed():\r\n",
        "        number = channel.receive()\r\n",
        "        number_squared = number**2\r\n",
        "        channel.send(number_squared)"
      ],
      "execution_count": 3,
      "outputs": []
    },
    {
      "cell_type": "code",
      "metadata": {
        "id": "jGvAF3Yq4Wsx"
      },
      "source": [
        "gateway = execnet.makegateway()\r\n",
        "channel = gateway.remote_exec(square)\r\n"
      ],
      "execution_count": 4,
      "outputs": []
    },
    {
      "cell_type": "code",
      "metadata": {
        "colab": {
          "base_uri": "https://localhost:8080/"
        },
        "id": "yAzjQfZj4Z_W",
        "outputId": "493f9b47-d87b-4e86-e988-f71ed71032b1"
      },
      "source": [
        "for i in range(10):\r\n",
        "    channel.send(i)\r\n",
        "    i_squared = channel.receive()\r\n",
        "    print(f\"{i} squared is {i_squared}\")"
      ],
      "execution_count": 5,
      "outputs": [
        {
          "output_type": "stream",
          "text": [
            "0 squared is 0\n",
            "1 squared is 1\n",
            "2 squared is 4\n",
            "3 squared is 9\n",
            "4 squared is 16\n",
            "5 squared is 25\n",
            "6 squared is 36\n",
            "7 squared is 49\n",
            "8 squared is 64\n",
            "9 squared is 81\n"
          ],
          "name": "stdout"
        }
      ]
    },
    {
      "cell_type": "code",
      "metadata": {
        "id": "EksFVTeF4iff"
      },
      "source": [
        "gateway.exit()"
      ],
      "execution_count": 6,
      "outputs": []
    }
  ]
}