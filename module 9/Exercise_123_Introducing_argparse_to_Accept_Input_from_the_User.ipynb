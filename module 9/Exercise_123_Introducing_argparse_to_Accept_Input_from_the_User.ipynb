{
  "nbformat": 4,
  "nbformat_minor": 0,
  "metadata": {
    "colab": {
      "name": "Exercise 123: Introducing argparse to Accept Input from the User ",
      "provenance": [],
      "authorship_tag": "ABX9TyOS7eGJxvaEEsFNstQo0iDP",
      "include_colab_link": true
    },
    "kernelspec": {
      "name": "python3",
      "display_name": "Python 3"
    }
  },
  "cells": [
    {
      "cell_type": "markdown",
      "metadata": {
        "id": "view-in-github",
        "colab_type": "text"
      },
      "source": [
        "<a href=\"https://colab.research.google.com/github/sandeep92134/PACKT-python-workshop/blob/main/module%209/Exercise_123_Introducing_argparse_to_Accept_Input_from_the_User.ipynb\" target=\"_parent\"><img src=\"https://colab.research.google.com/assets/colab-badge.svg\" alt=\"Open In Colab\"/></a>"
      ]
    },
    {
      "cell_type": "markdown",
      "metadata": {
        "id": "j296IHQ1OdLN"
      },
      "source": [
        "In this exercise, you'll create a program that uses **argparse** to take a single input from the user called **flag**. If the **flag** input is not provided by the user, its value is **False**. If it is provided, its value is **True**. This exercise will be performed in a Python terminal:\r\n",
        "\r\n",
        "1. Create a new Python file called **argparse_demo.py**.\r\n",
        "2. Import the **argparse** library:\r\n",
        "3. Create a new **parser** object, as shown in the following code snippet:\r\n",
        "4. Add an argument that will allow the user to pass through the **–-flag** argument when they execute the program:\r\n",
        "\r\n",
        "  The **store_true** action means that the parser will set the value of the argument to **True** if the **flag** input is present. If the **flag** input is not present, it will set the value to **False**. The exact opposite can be achieved using the **store_false** action.\r\n",
        "5. Now call the **parse_args()** method, which executes the actual processing of the arguments: \r\n",
        "6. Now, **print** the value of the argument to see whether it worked: \r\n",
        "7. Execute the file with no arguments supplied; the value of **arguments.flag** should be **False**:\r\n",
        "8. Run the script again, with the **--flag argument**, to set it to **True**:\r\n",
        "9. Now enter the following code and see the **help** text that **argparse** extracted from the description and **help** text you supplied:\r\n",
        "\r\n",
        "You have successfully created a script that allows an argument to be specified when it is executed. You can probably imagine how useful this can often be."
      ]
    },
    {
      "cell_type": "code",
      "metadata": {
        "colab": {
          "base_uri": "https://localhost:8080/"
        },
        "id": "8DFaD5cfKveT",
        "outputId": "344c03bf-7ae8-41c5-b3d5-4a91061f0be8"
      },
      "source": [
        "%%writefile argparse_demo.py\r\n",
        "import argparse\r\n",
        "\r\n",
        "parser = argparse.ArgumentParser(description=\"Interpret a Boolean flag.\")\r\n",
        "parser.add_argument('--flag', dest='flag', action='store_true', help='Set the flag value to True.')\r\n",
        "arguments = parser.parse_args()\r\n",
        "print(f\"The flag's value is {arguments.flag}\")"
      ],
      "execution_count": 1,
      "outputs": [
        {
          "output_type": "stream",
          "text": [
            "Writing argparse_demo.py\n"
          ],
          "name": "stdout"
        }
      ]
    },
    {
      "cell_type": "code",
      "metadata": {
        "colab": {
          "base_uri": "https://localhost:8080/"
        },
        "id": "7tOM1Ex9LQcN",
        "outputId": "eb08324f-24f7-43a1-aa0a-e84b1ac2163e"
      },
      "source": [
        "!python argparse_demo.py"
      ],
      "execution_count": 2,
      "outputs": [
        {
          "output_type": "stream",
          "text": [
            "The flag's value is False\n"
          ],
          "name": "stdout"
        }
      ]
    },
    {
      "cell_type": "code",
      "metadata": {
        "id": "iSmVO18AOQxE"
      },
      "source": [
        "!python argparse_demo.py –-flag"
      ],
      "execution_count": null,
      "outputs": []
    },
    {
      "cell_type": "code",
      "metadata": {
        "id": "pU7wfgtxOZ2n"
      },
      "source": [
        "!python argparse_demo.py –-help"
      ],
      "execution_count": null,
      "outputs": []
    }
  ]
}