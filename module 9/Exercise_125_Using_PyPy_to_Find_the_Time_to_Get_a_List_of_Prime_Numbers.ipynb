{
  "nbformat": 4,
  "nbformat_minor": 0,
  "metadata": {
    "colab": {
      "name": "Exercise 125: Using PyPy to Find the Time to Get a List of Prime Numbers",
      "provenance": [],
      "authorship_tag": "ABX9TyNIy81M8d8A1tgnVIjgwHqK",
      "include_colab_link": true
    },
    "kernelspec": {
      "name": "python3",
      "display_name": "Python 3"
    }
  },
  "cells": [
    {
      "cell_type": "markdown",
      "metadata": {
        "id": "view-in-github",
        "colab_type": "text"
      },
      "source": [
        "<a href=\"https://colab.research.google.com/github/sandeep92134/PACKT-python-workshop/blob/main/module%209/Exercise_125_Using_PyPy_to_Find_the_Time_to_Get_a_List_of_Prime_Numbers.ipynb\" target=\"_parent\"><img src=\"https://colab.research.google.com/assets/colab-badge.svg\" alt=\"Open In Colab\"/></a>"
      ]
    },
    {
      "cell_type": "markdown",
      "metadata": {
        "id": "Ex3PLre0MEkq"
      },
      "source": [
        "In this exercise, you will be executing a Python program to get a list of prime numbers using milliamp-hours. But remember that you are more interested in checking the amount of time needed to execute the program using PyPy.\r\n",
        "\r\n",
        "This exercise will be performed in a Python terminal.\r\n",
        "1. First, run the **pypy3** command, as shown in the following code snippet:\r\n",
        " ```\r\n",
        " pypy3\r\n",
        " ```\r\n",
        "\r\n",
        " Note that you may find it easier to navigate to the folder with the **pypy3.exe** file and run the preceding command, instead of following the installation instructions to create a symlink.\r\n",
        "2. Press Ctrl + D to exit **pypy**. You're going to use the program from Chapter 7, Becoming Pythonic, again, which finds prime numbers using the Sieve of Eratosthenes method. There are two changes that you will introduce here: firstly, find prime numbers up to 1,000 to give the program more work to do; secondly, instrument it with Python's **timeit** module so that you can see how long it takes to run. **timeit** runs a Python statement multiple times and records how long it takes. Tell **timeit** to run your Sieve of Eratosthenes 10,000 times (the default is 100,000 times, which takes a very long time). \r\n",
        "3. Create a **eratosthenes.py** file and enter the following code:\r\n",
        "4. Run the file with the regular Python interpreter:\r\n",
        "  \r\n",
        "  The number will be different on your computer, but that's **17.6** seconds to execute the **list(PrimesBelow(1000))** statement 10,000 times, or 1,760 **µs** per iteration. Now, run the same program, using **pypy** instead of CPython:\r\n",
        "\r\n",
        "In this exercise, you will have noticed that it only takes 30% of the time to run our code in **pypy** as it took in Python. You really can get a lot of performance boost with very little effort, just by switching to **pypy**."
      ]
    },
    {
      "cell_type": "code",
      "metadata": {
        "colab": {
          "base_uri": "https://localhost:8080/"
        },
        "id": "dk6Ihpe6B9fx",
        "outputId": "16621e40-a3cc-4548-e8f2-2d4cde4a3cac"
      },
      "source": [
        "!apt-get install pypy"
      ],
      "execution_count": 1,
      "outputs": [
        {
          "output_type": "stream",
          "text": [
            "Reading package lists... Done\n",
            "Building dependency tree       \n",
            "Reading state information... Done\n",
            "The following additional packages will be installed:\n",
            "  pypy-lib\n",
            "Suggested packages:\n",
            "  pypy-doc pypy-tk\n",
            "The following NEW packages will be installed:\n",
            "  pypy pypy-lib\n",
            "0 upgraded, 2 newly installed, 0 to remove and 16 not upgraded.\n",
            "Need to get 13.1 MB of archives.\n",
            "After this operation, 84.6 MB of additional disk space will be used.\n",
            "Get:1 http://archive.ubuntu.com/ubuntu bionic/universe amd64 pypy-lib amd64 5.10.0+dfsg-3build2 [2,303 kB]\n",
            "Get:2 http://archive.ubuntu.com/ubuntu bionic/universe amd64 pypy amd64 5.10.0+dfsg-3build2 [10.8 MB]\n",
            "Fetched 13.1 MB in 2s (5,860 kB/s)\n",
            "Selecting previously unselected package pypy-lib:amd64.\n",
            "(Reading database ... 145483 files and directories currently installed.)\n",
            "Preparing to unpack .../pypy-lib_5.10.0+dfsg-3build2_amd64.deb ...\n",
            "Unpacking pypy-lib:amd64 (5.10.0+dfsg-3build2) ...\n",
            "Selecting previously unselected package pypy.\n",
            "Preparing to unpack .../pypy_5.10.0+dfsg-3build2_amd64.deb ...\n",
            "Unpacking pypy (5.10.0+dfsg-3build2) ...\n",
            "Setting up pypy-lib:amd64 (5.10.0+dfsg-3build2) ...\n",
            "Setting up pypy (5.10.0+dfsg-3build2) ...\n",
            "running pypy rtupdate hooks for 5.10\n",
            "running pypy post-rtupdate hooks for 5.10\n",
            "Processing triggers for man-db (2.8.3-2ubuntu0.1) ...\n"
          ],
          "name": "stdout"
        }
      ]
    },
    {
      "cell_type": "code",
      "metadata": {
        "colab": {
          "base_uri": "https://localhost:8080/"
        },
        "id": "2gHQafPJAbwd",
        "outputId": "afc959db-d66f-4af8-8cc1-362cf14be087"
      },
      "source": [
        "%%writefile eratosthenes.py\r\n",
        "\r\n",
        "import timeit\r\n",
        "\r\n",
        "class PrimesBelow:\r\n",
        "    def __init__(self, bound):\r\n",
        "        self.candidate_numbers = list(range(2,bound))\r\n",
        "    def __iter__(self):\r\n",
        "        return self\r\n",
        "    def __next__(self):\r\n",
        "        if len(self.candidate_numbers) == 0:\r\n",
        "            raise StopIteration\r\n",
        "        next_prime = self.candidate_numbers[0]\r\n",
        "        self.candidate_numbers = [x for x in self.candidate_numbers if x % next_prime != 0]\r\n",
        "        return next_prime\r\n",
        "print(timeit.timeit('list(PrimesBelow(1000))', setup='from __main__ import PrimesBelow', number=10000))"
      ],
      "execution_count": 2,
      "outputs": [
        {
          "output_type": "stream",
          "text": [
            "Writing eratosthenes.py\n"
          ],
          "name": "stdout"
        }
      ]
    },
    {
      "cell_type": "code",
      "metadata": {
        "colab": {
          "base_uri": "https://localhost:8080/"
        },
        "id": "tBLyt6kWA8Hz",
        "outputId": "d8e616f0-a8e2-4c7b-f3fd-f7f64db34bd9"
      },
      "source": [
        "!python eratosthenes.py"
      ],
      "execution_count": 3,
      "outputs": [
        {
          "output_type": "stream",
          "text": [
            "11.602344884999994\n"
          ],
          "name": "stdout"
        }
      ]
    },
    {
      "cell_type": "code",
      "metadata": {
        "colab": {
          "base_uri": "https://localhost:8080/"
        },
        "id": "QBCZJ5QhBjXr",
        "outputId": "83bbe5a2-60f6-41e6-ac92-7b54bfb947d3"
      },
      "source": [
        "!pypy eratosthenes.py "
      ],
      "execution_count": null,
      "outputs": [
        {
          "output_type": "stream",
          "text": [
            "Traceback (most recent call last):\n",
            "  File \"eratosthenes.py\", line 15, in <module>\n",
            "    print(timeit.timeit('list(PrimesBelow(1000))', setup='from __main__ import PrimesBelow', number=10000))\n",
            "  File \"/usr/lib/pypy/lib-python/2.7/timeit.py\", line 245, in timeit\n",
            "    return Timer(stmt, setup, timer).timeit(number)\n",
            "  File \"/usr/lib/pypy/lib-python/2.7/timeit.py\", line 210, in timeit\n",
            "    timing = inner(number, self.timer)\n",
            "  File \"<timeit-src>\", line 7, in inner\n",
            "TypeError: instance has no next() method\n"
          ],
          "name": "stdout"
        }
      ]
    }
  ]
}