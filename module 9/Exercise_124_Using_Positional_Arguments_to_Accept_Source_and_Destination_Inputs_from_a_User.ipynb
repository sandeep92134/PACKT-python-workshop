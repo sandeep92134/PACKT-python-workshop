{
  "nbformat": 4,
  "nbformat_minor": 0,
  "metadata": {
    "colab": {
      "name": "Exercise 124: Using Positional Arguments to Accept Source and Destination Inputs from a User",
      "provenance": [],
      "authorship_tag": "ABX9TyMmI7LIj4PgMtgw0SvJpZ8R",
      "include_colab_link": true
    },
    "kernelspec": {
      "name": "python3",
      "display_name": "Python 3"
    }
  },
  "cells": [
    {
      "cell_type": "markdown",
      "metadata": {
        "id": "view-in-github",
        "colab_type": "text"
      },
      "source": [
        "<a href=\"https://colab.research.google.com/github/sandeep92134/PACKT-python-workshop/blob/main/module%209/Exercise_124_Using_Positional_Arguments_to_Accept_Source_and_Destination_Inputs_from_a_User.ipynb\" target=\"_parent\"><img src=\"https://colab.research.google.com/assets/colab-badge.svg\" alt=\"Open In Colab\"/></a>"
      ]
    },
    {
      "cell_type": "markdown",
      "metadata": {
        "id": "fLgDjW8IygFj"
      },
      "source": [
        "In this exercise, you will create a program that uses **argparse** to take two inputs from the user: **source** and **destination**.\r\n",
        "\r\n",
        "This exercise will be performed in a Python terminal:\r\n",
        "\r\n",
        "1. Create a new Python file called **positional_args.py**.\r\n",
        "2. Import the **argparse** library:\r\n",
        "3. Create a new **parser** object:\r\n",
        "4. Add two arguments for the **source** and **destination** values:\r\n",
        "5. Call the **parse_args**() method, which executes the actual processing of **arguments**:\r\n",
        "6. Now, **print** the value of **arguments** so that you can see whether it worked:\r\n",
        "7.Now, execute the file while using this script with no arguments, which causes an error because it expects two **positional** arguments:\r\n",
        "8. Try running the script and specifying two locations as the source and destination positional arguments.\r\n",
        "\r\n",
        "In this exercise, you learned how to parameterize your scripts by accepting positional arguments using the argparse Python package."
      ]
    },
    {
      "cell_type": "code",
      "metadata": {
        "colab": {
          "base_uri": "https://localhost:8080/"
        },
        "id": "_XXMqzvida3B",
        "outputId": "bfc5a670-6004-4b87-ac0c-2fedebc41d72"
      },
      "source": [
        "%%writefile positional_args.py\r\n",
        "import argparse\r\n",
        "\r\n",
        "parser = argparse.ArgumentParser(description=\"Interpret positional arguments.\")\r\n",
        "parser.add_argument('source', action='store', help='The source of an operation.')\r\n",
        "parser.add_argument('dest', action='store', help='The destination of the operation.')\r\n",
        "arguments = parser.parse_args()\r\n",
        "print(f\"Picasso will cycle from {arguments.source} to {arguments.dest}\")"
      ],
      "execution_count": 1,
      "outputs": [
        {
          "output_type": "stream",
          "text": [
            "Writing positional_args.py\n"
          ],
          "name": "stdout"
        }
      ]
    },
    {
      "cell_type": "code",
      "metadata": {
        "colab": {
          "base_uri": "https://localhost:8080/"
        },
        "id": "6z-6MnN30hdP",
        "outputId": "4a9ce009-064f-4f48-be84-3f7904b72f3d"
      },
      "source": [
        "!python positional_args.py"
      ],
      "execution_count": 2,
      "outputs": [
        {
          "output_type": "stream",
          "text": [
            "usage: positional_args.py [-h] source dest\n",
            "positional_args.py: error: the following arguments are required: source, dest\n"
          ],
          "name": "stdout"
        }
      ]
    },
    {
      "cell_type": "code",
      "metadata": {
        "colab": {
          "base_uri": "https://localhost:8080/"
        },
        "id": "IqfrgS4J0sKX",
        "outputId": "5df03b0f-0c4c-4a04-fbb0-c7f878ca07e3"
      },
      "source": [
        "!python positional_args.py Chichester Battersea"
      ],
      "execution_count": 3,
      "outputs": [
        {
          "output_type": "stream",
          "text": [
            "Picasso will cycle from Chichester to Battersea\n"
          ],
          "name": "stdout"
        }
      ]
    }
  ]
}