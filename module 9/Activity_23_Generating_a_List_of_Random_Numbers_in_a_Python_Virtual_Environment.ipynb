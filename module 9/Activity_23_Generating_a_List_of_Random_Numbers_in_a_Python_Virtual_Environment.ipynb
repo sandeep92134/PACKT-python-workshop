{
  "nbformat": 4,
  "nbformat_minor": 0,
  "metadata": {
    "colab": {
      "name": "Activity 23: Generating a List of Random Numbers in a Python Virtual Environment",
      "provenance": [],
      "authorship_tag": "ABX9TyMV7jQhPg25lm4x0n2aGr50",
      "include_colab_link": true
    },
    "kernelspec": {
      "name": "python3",
      "display_name": "Python 3"
    }
  },
  "cells": [
    {
      "cell_type": "markdown",
      "metadata": {
        "id": "view-in-github",
        "colab_type": "text"
      },
      "source": [
        "<a href=\"https://colab.research.google.com/github/sandeep92134/PACKT-python-workshop/blob/main/module%209/Activity_23_Generating_a_List_of_Random_Numbers_in_a_Python_Virtual_Environment.ipynb\" target=\"_parent\"><img src=\"https://colab.research.google.com/assets/colab-badge.svg\" alt=\"Open In Colab\"/></a>"
      ]
    },
    {
      "cell_type": "markdown",
      "metadata": {
        "id": "AgJ39p4smAAk"
      },
      "source": [
        "## Generating a List of Random Numbers in a Python Virtual Environment\r\n",
        "\r\n",
        "You work for a sports betting website and want to simulate random events in a particular betting market. In order to do so, your goal will be to create a program that is able to generate long lists of random numbers using multiprocessing.\r\n",
        "\r\n",
        "In this activity, the aim is to create a new Python environment, install the relevant packages, and write a function using the threading library to generate a list of random numbers.\r\n",
        "\r\n",
        "Here are the steps:\r\n",
        "\r\n",
        "1. Create a new **conda** environment called **my_env**.\r\n",
        "2. Activate the **conda** environment.\r\n",
        "3. Install **numpy** in your new environment.\r\n",
        "4. Next, install and run a Jupyter notebook from within your virtual environment.\r\n",
        "5. Next, create a new Jupyter notebook and **import** libraries such as **numpy**, **cProfile**, **itertools**, and **threading**.\r\n",
        "6. Create a function that uses the **numpy** and **threading** libraries to generate an array of random numbers. Recall that when threading, we need to be able to send a signal for the **while** statement to terminate. The function should monitor the queue for an integer that represents the number of random numbers it should return. For example, if the number **10** was passed into the queue, it should return an array of **10** random numbers.\r\n",
        "7. Next, add a function that will start a thread and put integers into the **in_queue** object. You can optionally print the output by setting the **show_output** argument to **True**. Make this function loop through the integers 0 to n, where n can be specified when the function is called. For each integer between **0** and **n**, it will pass the integer into the queue, and receive the array of random numbers.\r\n",
        "8. Run the numbers on a small number of iterations to test.\r\n",
        "9. Rerun the numbers with a large number of iterations and use **cProfile** to view a breakdown of what is taking time to execute."
      ]
    },
    {
      "cell_type": "code",
      "metadata": {
        "id": "tvqGZ58Sl6zK"
      },
      "source": [
        "import threading\r\n",
        "import queue\r\n",
        "import cProfile\r\n",
        "import itertools\r\n",
        "import numpy as np\r\n",
        "\r\n",
        "np.random.seed(0)"
      ],
      "execution_count": 1,
      "outputs": []
    },
    {
      "cell_type": "code",
      "metadata": {
        "id": "uH-gAu6hnq_7"
      },
      "source": [
        "in_queue = queue.Queue()\r\n",
        "out_queue = queue.Queue()\r\n",
        "\r\n",
        "def random_number_threading():\r\n",
        "    while True:\r\n",
        "        n = in_queue.get()\r\n",
        "        if n == 'STOP':\r\n",
        "            return\r\n",
        "        random_numbers = np.random.rand(n)\r\n",
        "        out_queue.put(random_numbers)\r\n"
      ],
      "execution_count": 2,
      "outputs": []
    },
    {
      "cell_type": "code",
      "metadata": {
        "id": "oIYKGXOMn9fZ"
      },
      "source": [
        "def generate_random_numbers(show_output, up_to):\r\n",
        "    thread = threading.Thread(target=random_number_threading)\r\n",
        "    thread.start()\r\n",
        "    for i in range(up_to):\r\n",
        "        in_queue.put(i)\r\n",
        "        random_nums = out_queue.get()\r\n",
        "        if show_output:\r\n",
        "            print(random_nums)\r\n",
        "    in_queue.put('STOP')\r\n",
        "    thread.join()"
      ],
      "execution_count": 3,
      "outputs": []
    },
    {
      "cell_type": "code",
      "metadata": {
        "colab": {
          "base_uri": "https://localhost:8080/"
        },
        "id": "356DCXjyn0YN",
        "outputId": "545c36ed-63eb-41f6-abfe-eb7f414c8930"
      },
      "source": [
        "generate_random_numbers(True, 10)"
      ],
      "execution_count": 4,
      "outputs": [
        {
          "output_type": "stream",
          "text": [
            "[]\n",
            "[0.5488135]\n",
            "[0.71518937 0.60276338]\n",
            "[0.54488318 0.4236548  0.64589411]\n",
            "[0.43758721 0.891773   0.96366276 0.38344152]\n",
            "[0.79172504 0.52889492 0.56804456 0.92559664 0.07103606]\n",
            "[0.0871293  0.0202184  0.83261985 0.77815675 0.87001215 0.97861834]\n",
            "[0.79915856 0.46147936 0.78052918 0.11827443 0.63992102 0.14335329\n",
            " 0.94466892]\n",
            "[0.52184832 0.41466194 0.26455561 0.77423369 0.45615033 0.56843395\n",
            " 0.0187898  0.6176355 ]\n",
            "[0.61209572 0.616934   0.94374808 0.6818203  0.3595079  0.43703195\n",
            " 0.6976312  0.06022547 0.66676672]\n"
          ],
          "name": "stdout"
        }
      ]
    },
    {
      "cell_type": "code",
      "metadata": {
        "colab": {
          "base_uri": "https://localhost:8080/"
        },
        "id": "Y3N-kE1soIn1",
        "outputId": "e267c0b5-7d74-4cbc-88b2-9873d431d765"
      },
      "source": [
        "cProfile.run('generate_random_numbers(False, 20000)')"
      ],
      "execution_count": 5,
      "outputs": [
        {
          "output_type": "stream",
          "text": [
            "         740056 function calls in 4.049 seconds\n",
            "\n",
            "   Ordered by: standard name\n",
            "\n",
            "   ncalls  tottime  percall  cumtime  percall filename:lineno(function)\n",
            "        1    0.066    0.066    4.048    4.048 <ipython-input-3-04f1b90debed>:1(generate_random_numbers)\n",
            "        1    0.000    0.000    4.048    4.048 <string>:1(<module>)\n",
            "        1    0.000    0.000    0.000    0.000 _weakrefset.py:38(_remove)\n",
            "        1    0.000    0.000    0.000    0.000 _weakrefset.py:81(add)\n",
            "    20001    0.076    0.000    0.335    0.000 queue.py:115(put)\n",
            "    20000    0.112    0.000    3.647    0.000 queue.py:147(get)\n",
            "    40000    0.025    0.000    0.035    0.000 queue.py:202(_qsize)\n",
            "    20001    0.013    0.000    0.018    0.000 queue.py:206(_put)\n",
            "    20000    0.012    0.000    0.017    0.000 queue.py:210(_get)\n",
            "        1    0.000    0.000    0.000    0.000 threading.py:1024(join)\n",
            "        1    0.000    0.000    0.000    0.000 threading.py:1062(_wait_for_tstate_lock)\n",
            "        1    0.000    0.000    0.000    0.000 threading.py:1120(daemon)\n",
            "        2    0.000    0.000    0.000    0.000 threading.py:1230(current_thread)\n",
            "        1    0.000    0.000    0.000    0.000 threading.py:215(__init__)\n",
            "    40002    0.023    0.000    0.035    0.000 threading.py:239(__enter__)\n",
            "    40002    0.026    0.000    0.034    0.000 threading.py:242(__exit__)\n",
            "    20001    0.010    0.000    0.014    0.000 threading.py:248(_release_save)\n",
            "    20001    0.014    0.000    0.021    0.000 threading.py:251(_acquire_restore)\n",
            "    60002    0.032    0.000    0.058    0.000 threading.py:254(_is_owned)\n",
            "    20001    0.081    0.000    3.384    0.000 threading.py:263(wait)\n",
            "    40001    0.093    0.000    0.271    0.000 threading.py:334(notify)\n",
            "        1    0.000    0.000    0.000    0.000 threading.py:498(__init__)\n",
            "        2    0.000    0.000    0.000    0.000 threading.py:506(is_set)\n",
            "        1    0.000    0.000    0.001    0.001 threading.py:533(wait)\n",
            "        1    0.000    0.000    0.000    0.000 threading.py:727(_newname)\n",
            "        1    0.000    0.000    0.000    0.000 threading.py:757(__init__)\n",
            "        1    0.000    0.000    0.001    0.001 threading.py:828(start)\n",
            "        1    0.000    0.000    0.000    0.000 threading.py:966(_stop)\n",
            "    20002    0.007    0.000    0.007    0.000 {built-in method _thread.allocate_lock}\n",
            "        2    0.000    0.000    0.000    0.000 {built-in method _thread.get_ident}\n",
            "        1    0.000    0.000    0.000    0.000 {built-in method _thread.start_new_thread}\n",
            "        1    0.000    0.000    4.049    4.049 {built-in method builtins.exec}\n",
            "    40000    0.010    0.000    0.010    0.000 {built-in method builtins.len}\n",
            "    40002    0.012    0.000    0.012    0.000 {method '__enter__' of '_thread.lock' objects}\n",
            "    40002    0.008    0.000    0.008    0.000 {method '__exit__' of '_thread.lock' objects}\n",
            "   120006    3.273    0.000    3.273    0.000 {method 'acquire' of '_thread.lock' objects}\n",
            "        1    0.000    0.000    0.000    0.000 {method 'add' of 'set' objects}\n",
            "    40002    0.008    0.000    0.008    0.000 {method 'append' of 'collections.deque' objects}\n",
            "        1    0.000    0.000    0.000    0.000 {method 'disable' of '_lsprof.Profiler' objects}\n",
            "        1    0.000    0.000    0.000    0.000 {method 'discard' of 'set' objects}\n",
            "        1    0.000    0.000    0.000    0.000 {method 'locked' of '_thread.lock' objects}\n",
            "    20000    0.005    0.000    0.005    0.000 {method 'popleft' of 'collections.deque' objects}\n",
            "    40003    0.134    0.000    0.134    0.000 {method 'release' of '_thread.lock' objects}\n",
            "    20001    0.007    0.000    0.007    0.000 {method 'remove' of 'collections.deque' objects}\n",
            "\n",
            "\n"
          ],
          "name": "stdout"
        }
      ]
    }
  ]
}