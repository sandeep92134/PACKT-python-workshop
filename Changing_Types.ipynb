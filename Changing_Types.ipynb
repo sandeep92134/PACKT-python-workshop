{
  "nbformat": 4,
  "nbformat_minor": 0,
  "metadata": {
    "colab": {
      "name": "Changing Types",
      "provenance": [],
      "authorship_tag": "ABX9TyO8J/mr5+zc9N88PvlwLPa+",
      "include_colab_link": true
    },
    "kernelspec": {
      "name": "python3",
      "display_name": "Python 3"
    }
  },
  "cells": [
    {
      "cell_type": "markdown",
      "metadata": {
        "id": "view-in-github",
        "colab_type": "text"
      },
      "source": [
        "<a href=\"https://colab.research.google.com/github/sandeep92134/PACKT-python-workshop/blob/main/Changing_Types.ipynb\" target=\"_parent\"><img src=\"https://colab.research.google.com/assets/colab-badge.svg\" alt=\"Open In Colab\"/></a>"
      ]
    },
    {
      "cell_type": "markdown",
      "metadata": {
        "id": "Lsk6Z3V0uXNZ"
      },
      "source": [
        "In some languages, it's not possible for a variable to change types. This means that if the y variable is an integer, then y must always be an integer. Python, however, is dynamically typed, as we saw in Exercise 3, Assigning Variables and as illustrated in the following example:"
      ]
    },
    {
      "cell_type": "markdown",
      "metadata": {
        "id": "wIW2DV_GuYuN"
      },
      "source": [
        "1. y starts as an integer:\n"
      ]
    },
    {
      "cell_type": "code",
      "metadata": {
        "id": "j4pLztZkugwu"
      },
      "source": [
        "y = 10"
      ],
      "execution_count": 4,
      "outputs": []
    },
    {
      "cell_type": "markdown",
      "metadata": {
        "id": "VNpOA-bDujQ5"
      },
      "source": [
        "2. y becomes a float:"
      ]
    },
    {
      "cell_type": "code",
      "metadata": {
        "id": "WTW7aMMIux6K"
      },
      "source": [
        "y = y - 10.0"
      ],
      "execution_count": 5,
      "outputs": []
    },
    {
      "cell_type": "markdown",
      "metadata": {
        "id": "cLAnaWaTu19J"
      },
      "source": [
        "3. check the type of y:"
      ]
    },
    {
      "cell_type": "code",
      "metadata": {
        "id": "qr__FwQyu8fB",
        "outputId": "a8bc5dc1-26c7-4424-bb17-0d7108d4507a",
        "colab": {
          "base_uri": "https://localhost:8080/",
          "height": 34
        }
      },
      "source": [
        "type(y)"
      ],
      "execution_count": 6,
      "outputs": [
        {
          "output_type": "execute_result",
          "data": {
            "text/plain": [
              "float"
            ]
          },
          "metadata": {
            "tags": []
          },
          "execution_count": 6
        }
      ]
    },
    {
      "cell_type": "code",
      "metadata": {
        "id": "1aQmLx9LvHMh"
      },
      "source": [
        ""
      ],
      "execution_count": null,
      "outputs": []
    }
  ]
}