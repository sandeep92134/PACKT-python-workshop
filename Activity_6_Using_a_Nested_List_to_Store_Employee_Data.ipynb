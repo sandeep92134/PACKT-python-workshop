{
  "nbformat": 4,
  "nbformat_minor": 0,
  "metadata": {
    "colab": {
      "name": "Activity 6: Using a Nested List to Store Employee Data",
      "provenance": [],
      "authorship_tag": "ABX9TyOyY7ar+bOaTe9fUCkqxrbY",
      "include_colab_link": true
    },
    "kernelspec": {
      "name": "python3",
      "display_name": "Python 3"
    }
  },
  "cells": [
    {
      "cell_type": "markdown",
      "metadata": {
        "id": "view-in-github",
        "colab_type": "text"
      },
      "source": [
        "<a href=\"https://colab.research.google.com/github/sandeep92134/PACKT-python-workshop/blob/main/Activity_6_Using_a_Nested_List_to_Store_Employee_Data.ipynb\" target=\"_parent\"><img src=\"https://colab.research.google.com/assets/colab-badge.svg\" alt=\"Open In Colab\"/></a>"
      ]
    },
    {
      "cell_type": "markdown",
      "metadata": {
        "id": "j7Jvp0FNIlUF"
      },
      "source": [
        "Follow these steps to complete this activity:\n",
        "\n",
        "1. Open a new Jupyter Notebook.\n",
        "2. Create a list and assign it to employees.\n",
        "3. Create three nested lists in employees to store the information of each employee, respectively.\n",
        "4. Print the employees variable.\n",
        "5. Print the details of all employees in a presentable format.\n",
        "6. Print only the details of Lisa Crawford."
      ]
    },
    {
      "cell_type": "markdown",
      "metadata": {
        "id": "qTCwoj7tJV3r"
      },
      "source": [
        "1. Begin by creating a list, adding data, and assigning it to employees"
      ]
    },
    {
      "cell_type": "code",
      "metadata": {
        "id": "yorOPEDtEZ_M",
        "outputId": "f9ff1182-0dda-4b92-adfd-91bf2710e4a6",
        "colab": {
          "base_uri": "https://localhost:8080/"
        }
      },
      "source": [
        "employees = [['John Mckee', 38, 'Sales'], ['Lisa Crawford', 29, 'Marketing'], ['Sujan Patel', 33, 'HR']]\n",
        "print(employees)"
      ],
      "execution_count": 1,
      "outputs": [
        {
          "output_type": "stream",
          "text": [
            "[['John Mckee', 38, 'Sales'], ['Lisa Crawford', 29, 'Marketing'], ['Sujan Patel', 33, 'HR']]\n"
          ],
          "name": "stdout"
        }
      ]
    },
    {
      "cell_type": "markdown",
      "metadata": {
        "id": "uj0eycitJh6C"
      },
      "source": [
        "2. Next, we can utilize the for..in loop to print each of the record's data within employee:"
      ]
    },
    {
      "cell_type": "code",
      "metadata": {
        "id": "jf0MOczoJdc0",
        "outputId": "62431bcf-51a2-4842-d1f1-76fe90b16362",
        "colab": {
          "base_uri": "https://localhost:8080/"
        }
      },
      "source": [
        "for employee in employees:\n",
        "    print(employee)"
      ],
      "execution_count": 2,
      "outputs": [
        {
          "output_type": "stream",
          "text": [
            "['John Mckee', 38, 'Sales']\n",
            "['Lisa Crawford', 29, 'Marketing']\n",
            "['Sujan Patel', 33, 'HR']\n"
          ],
          "name": "stdout"
        }
      ]
    },
    {
      "cell_type": "markdown",
      "metadata": {
        "id": "jt-uiRO2Jk8R"
      },
      "source": [
        "3. To have the data presented in a structured version of the employee record, add the following lines of code:"
      ]
    },
    {
      "cell_type": "code",
      "metadata": {
        "id": "kcQFqn27JeVg",
        "outputId": "6e2227f5-6f82-4157-9642-ebfa3883d774",
        "colab": {
          "base_uri": "https://localhost:8080/"
        }
      },
      "source": [
        "for employee in employees:\n",
        "    print(\"Name:\", employee[0])\n",
        "    print(\"Age:\", employee[1])\n",
        "    print(\"Department:\", employee[2])\n",
        "    print('-' * 20)"
      ],
      "execution_count": 3,
      "outputs": [
        {
          "output_type": "stream",
          "text": [
            "Name: John Mckee\n",
            "Age: 38\n",
            "Department: Sales\n",
            "--------------------\n",
            "Name: Lisa Crawford\n",
            "Age: 29\n",
            "Department: Marketing\n",
            "--------------------\n",
            "Name: Sujan Patel\n",
            "Age: 33\n",
            "Department: HR\n",
            "--------------------\n"
          ],
          "name": "stdout"
        }
      ]
    },
    {
      "cell_type": "markdown",
      "metadata": {
        "id": "Z9inlo1AJ1Rr"
      },
      "source": [
        "4. Lastly, if we were to print the details of Lisa Crawford, we would need to use the indexing method. Lisa's record is in position 1, so we would write:"
      ]
    },
    {
      "cell_type": "code",
      "metadata": {
        "id": "1LQanWjmJ0Ld",
        "outputId": "56217f69-db4a-4075-f4d7-20cefca30419",
        "colab": {
          "base_uri": "https://localhost:8080/"
        }
      },
      "source": [
        "employee = employees[1]\n",
        "print(employee)\n",
        "print(\"Name:\", employee[0])\n",
        "print(\"Age:\", employee[1])\n",
        "print(\"Department:\", employee[2])\n",
        "print('-' * 20)"
      ],
      "execution_count": 4,
      "outputs": [
        {
          "output_type": "stream",
          "text": [
            "['Lisa Crawford', 29, 'Marketing']\n",
            "Name: Lisa Crawford\n",
            "Age: 29\n",
            "Department: Marketing\n",
            "--------------------\n"
          ],
          "name": "stdout"
        }
      ]
    },
    {
      "cell_type": "markdown",
      "metadata": {
        "id": "LPpAHxdKJ_mA"
      },
      "source": [
        "Having successfully completed this activity, you will be able to work with lists and nested lists. As mentioned in the activity, this is just one instance where this concept could come in handy, that is, to store data in lists and then access them as required."
      ]
    }
  ]
}