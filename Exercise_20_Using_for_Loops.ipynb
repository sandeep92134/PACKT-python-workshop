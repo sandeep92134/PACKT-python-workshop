{
  "nbformat": 4,
  "nbformat_minor": 0,
  "metadata": {
    "colab": {
      "name": "Exercise 20: Using for Loops",
      "provenance": [],
      "authorship_tag": "ABX9TyPhzI+mApsU6roIRf3KRonb",
      "include_colab_link": true
    },
    "kernelspec": {
      "name": "python3",
      "display_name": "Python 3"
    }
  },
  "cells": [
    {
      "cell_type": "markdown",
      "metadata": {
        "id": "view-in-github",
        "colab_type": "text"
      },
      "source": [
        "<a href=\"https://colab.research.google.com/github/sandeep92134/PACKT-python-workshop/blob/main/Exercise_20_Using_for_Loops.ipynb\" target=\"_parent\"><img src=\"https://colab.research.google.com/assets/colab-badge.svg\" alt=\"Open In Colab\"/></a>"
      ]
    },
    {
      "cell_type": "markdown",
      "metadata": {
        "id": "Hjd927I4DtP5"
      },
      "source": [
        "In this exercise, you will utilize for loops to print the characters in a string in addition to a range of numbers:\n",
        "\n",
        "1. Open a new Jupyter Notebook.\n",
        "2. Print out the characters of 'Portland':"
      ]
    },
    {
      "cell_type": "code",
      "metadata": {
        "id": "XVcBs5IfD2Kr",
        "outputId": "43cca3a5-1cf7-450b-ca75-0890ecd549de",
        "colab": {
          "base_uri": "https://localhost:8080/"
        }
      },
      "source": [
        "for i in 'Portland':\n",
        "  print(i)"
      ],
      "execution_count": 1,
      "outputs": [
        {
          "output_type": "stream",
          "text": [
            "P\n",
            "o\n",
            "r\n",
            "t\n",
            "l\n",
            "a\n",
            "n\n",
            "d\n"
          ],
          "name": "stdout"
        }
      ]
    },
    {
      "cell_type": "markdown",
      "metadata": {
        "id": "UsvPPNowEDNW"
      },
      "source": [
        "The for keyword often goes with the in keyword. The i variable is generic. The phrase, for i in, means that Python is going to check what comes next and look at its individual components. Strings are composed of characters, so Python will do something with each of the individual characters. In this particular case, Python will print out the individual characters, as per the print(i) command. What if we want to do something with a range of numbers? Can for loops be used for that? Absolutely. Python provides another keyword, range, to access a range of numbers. range is often defined by two numbers, the first number, and the last number, and it includes all numbers in between. Interestingly, the output of range includes the first number, but not the last number. When only one number is specified in range, it is taken as the last number and the first number is taken as 0 by default with an increment of 1. You will see why in a minute."
      ]
    },
    {
      "cell_type": "markdown",
      "metadata": {
        "id": "cAthNZO8EwqY"
      },
      "source": [
        "3. You use a lower bound of 1 and an upper bound of 10 with range to print 1-9:"
      ]
    },
    {
      "cell_type": "code",
      "metadata": {
        "id": "-bz95MaDEKJy",
        "outputId": "0b3cb053-5363-4e1e-c1c5-bce9f4db7e8e",
        "colab": {
          "base_uri": "https://localhost:8080/"
        }
      },
      "source": [
        "for i in range(1,10):\n",
        "  print(i)"
      ],
      "execution_count": 2,
      "outputs": [
        {
          "output_type": "stream",
          "text": [
            "1\n",
            "2\n",
            "3\n",
            "4\n",
            "5\n",
            "6\n",
            "7\n",
            "8\n",
            "9\n"
          ],
          "name": "stdout"
        }
      ]
    },
    {
      "cell_type": "markdown",
      "metadata": {
        "id": "ADmtgAUgE781"
      },
      "source": [
        "The range does not print the number 10."
      ]
    },
    {
      "cell_type": "markdown",
      "metadata": {
        "id": "PH8na0-lFGGL"
      },
      "source": [
        "4. Now use range with one bound only, the number 10, to print the first ten numbers:"
      ]
    },
    {
      "cell_type": "code",
      "metadata": {
        "id": "V77CO5K6FKpR",
        "outputId": "721cf2d0-04c1-45c5-8505-b24d59687c70",
        "colab": {
          "base_uri": "https://localhost:8080/"
        }
      },
      "source": [
        "for i in range(10):\n",
        "  print(i)"
      ],
      "execution_count": 3,
      "outputs": [
        {
          "output_type": "stream",
          "text": [
            "0\n",
            "1\n",
            "2\n",
            "3\n",
            "4\n",
            "5\n",
            "6\n",
            "7\n",
            "8\n",
            "9\n"
          ],
          "name": "stdout"
        }
      ]
    },
    {
      "cell_type": "markdown",
      "metadata": {
        "id": "YSpwxQUjFQTI"
      },
      "source": [
        "So, range(10) will print out the first 10 numbers, starting at 0, and ending with 9. Now let's say that you want to count by increments of 2. You can add a third bound, a step increment, to count up or down by any number desired. Use a step increment to count the even numbers through 10:"
      ]
    },
    {
      "cell_type": "code",
      "metadata": {
        "id": "2tUv9-UxFYQX",
        "outputId": "9524bac7-34f8-441f-d018-c15a19d13e15",
        "colab": {
          "base_uri": "https://localhost:8080/"
        }
      },
      "source": [
        "for i in range(1,11,2):\n",
        "  print(i)"
      ],
      "execution_count": 4,
      "outputs": [
        {
          "output_type": "stream",
          "text": [
            "1\n",
            "3\n",
            "5\n",
            "7\n",
            "9\n"
          ],
          "name": "stdout"
        }
      ]
    },
    {
      "cell_type": "markdown",
      "metadata": {
        "id": "cjia3s-UFjL-"
      },
      "source": [
        "Similarly, you can count down using negative numbers, which is shown in the next step."
      ]
    },
    {
      "cell_type": "markdown",
      "metadata": {
        "id": "DtvPZL7zFpz3"
      },
      "source": [
        "5. Use a step increment to count down from 3 to -1:"
      ]
    },
    {
      "cell_type": "code",
      "metadata": {
        "id": "zkM_nYaQFs8R",
        "outputId": "06179ad1-43e6-4cfa-8b0c-9ad8411ce2a2",
        "colab": {
          "base_uri": "https://localhost:8080/"
        }
      },
      "source": [
        "for i in range(3, 0, -1):\n",
        "  print(i)"
      ],
      "execution_count": 5,
      "outputs": [
        {
          "output_type": "stream",
          "text": [
            "3\n",
            "2\n",
            "1\n"
          ],
          "name": "stdout"
        }
      ]
    },
    {
      "cell_type": "markdown",
      "metadata": {
        "id": "lWEIi0W3F5tf"
      },
      "source": [
        "And, of course, you can use nested loops, which is shown in the next step."
      ]
    },
    {
      "cell_type": "markdown",
      "metadata": {
        "id": "H7QCeY7iF_I4"
      },
      "source": [
        "6. Now, print each letter of your name three times:"
      ]
    },
    {
      "cell_type": "code",
      "metadata": {
        "id": "dPOovx8CGGIp",
        "outputId": "75f1c114-f168-4f7e-c78b-3e2d3ef9ce57",
        "colab": {
          "base_uri": "https://localhost:8080/"
        }
      },
      "source": [
        "name = 'Corey'\n",
        "for j in range(3):\n",
        "  for i in name:\n",
        "    print(i)"
      ],
      "execution_count": 6,
      "outputs": [
        {
          "output_type": "stream",
          "text": [
            "C\n",
            "o\n",
            "r\n",
            "e\n",
            "y\n",
            "C\n",
            "o\n",
            "r\n",
            "e\n",
            "y\n",
            "C\n",
            "o\n",
            "r\n",
            "e\n",
            "y\n"
          ],
          "name": "stdout"
        }
      ]
    },
    {
      "cell_type": "markdown",
      "metadata": {
        "id": "tdkhHOTwGKAA"
      },
      "source": [
        "In this exercise, you have utilized loops to print any given number of integers and characters in a string."
      ]
    }
  ]
}