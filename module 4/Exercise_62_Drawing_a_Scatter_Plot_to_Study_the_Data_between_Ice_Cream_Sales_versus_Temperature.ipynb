{
  "nbformat": 4,
  "nbformat_minor": 0,
  "metadata": {
    "colab": {
      "name": "Exercise 62: Drawing a Scatter Plot to Study the Data between Ice Cream Sales versus Temperature",
      "provenance": [],
      "authorship_tag": "ABX9TyMrWcexystIJyUwz0MeiJe5",
      "include_colab_link": true
    },
    "kernelspec": {
      "name": "python3",
      "display_name": "Python 3"
    }
  },
  "cells": [
    {
      "cell_type": "markdown",
      "metadata": {
        "id": "view-in-github",
        "colab_type": "text"
      },
      "source": [
        "<a href=\"https://colab.research.google.com/github/sandeep92134/PACKT-python-workshop/blob/main/module%204/Exercise_62_Drawing_a_Scatter_Plot_to_Study_the_Data_between_Ice_Cream_Sales_versus_Temperature.ipynb\" target=\"_parent\"><img src=\"https://colab.research.google.com/assets/colab-badge.svg\" alt=\"Open In Colab\"/></a>"
      ]
    },
    {
      "cell_type": "markdown",
      "metadata": {
        "id": "6zlHXmMmQMbS"
      },
      "source": [
        "In this exercise, you will be aiming to get scatter plots as the output using sample data from the ice cream company to study the growth in the sale of ice cream against varying temperature data:\n",
        "\n",
        "1. Begin by opening a new Jupyter Notebook file.\n",
        "2. Enter the following code to import the **matplotlib**, **seaborn**, and **numpy** libraries with the following alias"
      ]
    },
    {
      "cell_type": "code",
      "metadata": {
        "id": "kQdP93tCHPV4"
      },
      "source": [
        "import matplotlib.pyplot as plt\n",
        "import seaborn as sns\n",
        "import numpy as np"
      ],
      "execution_count": 3,
      "outputs": []
    },
    {
      "cell_type": "markdown",
      "metadata": {
        "id": "HSyxFRr3QrVn"
      },
      "source": [
        "You should take a look at the following example. Imagine you are assigned to analyze the sales of a particular ice cream outlet with a view to studying the effect of temperature on ice cream sales.\n",
        "\n",
        "3. Prepare the dataset, as specified in the following code snippet:"
      ]
    },
    {
      "cell_type": "code",
      "metadata": {
        "id": "CdlwgPmxQyN4"
      },
      "source": [
        "temperature = [14.2, 16.4, 11.9, 12.5, 18.9, 22.1, 19.4, 23.1, 25.4, 18.1, 22.6, 17.2]\n",
        "sales = [215.20, 325.00, 185.20, 330.20, 418.60, 520.25, 412.20, 614.60, 544.80, 421.40, 445.50, 408.10]"
      ],
      "execution_count": 4,
      "outputs": []
    },
    {
      "cell_type": "markdown",
      "metadata": {
        "id": "qU3AC8jHQzuQ"
      },
      "source": [
        "4. Plot the lists using the **scatter** plot:"
      ]
    },
    {
      "cell_type": "code",
      "metadata": {
        "colab": {
          "base_uri": "https://localhost:8080/",
          "height": 282
        },
        "id": "QkyrnqtHRpzx",
        "outputId": "d3f513ac-f0ed-4bc5-a0de-cb99d387c084"
      },
      "source": [
        "plt.scatter(temperature, sales, color='green')\n",
        "plt.show"
      ],
      "execution_count": 5,
      "outputs": [
        {
          "output_type": "execute_result",
          "data": {
            "text/plain": [
              "<function matplotlib.pyplot.show>"
            ]
          },
          "metadata": {
            "tags": []
          },
          "execution_count": 5
        },
        {
          "output_type": "display_data",
          "data": {
            "image/png": "[encoded data removed]",
            "text/plain": [
              "<Figure size 432x288 with 1 Axes>"
            ]
          },
          "metadata": {
            "tags": [],
            "needs_background": "light"
          }
        }
      ]
    },
    {
      "cell_type": "markdown",
      "metadata": {
        "id": "v2LkHM1sQ58P"
      },
      "source": [
        "Our plot looks fine, but only to our eyes. Anyone who has just seen the chart will not have the context and will not understand what the chart is trying to tell them. Before we go on to introduce other plots, it is useful for you to learn how to edit your plots and include additional information that will help your readers to understand it.\n",
        "\n",
        "5. Add a **title** command to your plot, as well as the x-axis (horizontal) and y-axis (vertical) labels. Then, add the following lines before the **plt.show()** command:"
      ]
    },
    {
      "cell_type": "code",
      "metadata": {
        "colab": {
          "base_uri": "https://localhost:8080/",
          "height": 295
        },
        "id": "lsYldxk3R_-h",
        "outputId": "f0e45cc9-3615-4c6f-e1be-620e87e82a2f"
      },
      "source": [
        "plt.title('Ice-cream sales versus Temperature')\n",
        "plt.xlabel('Temperature')\n",
        "plt.ylabel('Sales')\n",
        "plt.scatter(temperature, sales, color='red')\n",
        "plt.show()"
      ],
      "execution_count": 6,
      "outputs": [
        {
          "output_type": "display_data",
          "data": {
            "image/png": "[encoded data removed]",
            "text/plain": [
              "<Figure size 432x288 with 1 Axes>"
            ]
          },
          "metadata": {
            "tags": [],
            "needs_background": "light"
          }
        }
      ]
    },
    {
      "cell_type": "markdown",
      "metadata": {
        "id": "l5fiFYQASFPO"
      },
      "source": [
        "Our chart is now easier to understand. In this exercise, you used the sample ice cream sales versus temperature dataset and used the data to create a scatter plot that will be easier to understand for another user.\n",
        "\n",
        "However, what if your dataset is a time-based dataset? In that case, you will usually use a line plot. Some examples of a line plot include the plotting of heart rate, the visualization of population growth against time, or even the stock market. By creating a line plot, you are able to understand the trend and seasonality of data.\n",
        "\n",
        "In the following exercise, you will be outputting the line chart, which corresponds to the time (that is, the number of days) and the price. For this, you will be plotting out stock prices."
      ]
    }
  ]
}