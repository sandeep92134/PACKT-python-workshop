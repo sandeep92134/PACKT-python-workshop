{
  "nbformat": 4,
  "nbformat_minor": 0,
  "metadata": {
    "colab": {
      "name": "Exercise 66: Generating a Heatmap to Visualize the Grades of Students",
      "provenance": [],
      "authorship_tag": "ABX9TyMfDNAU8caU0lzpXNjpt/fx",
      "include_colab_link": true
    },
    "kernelspec": {
      "name": "python3",
      "display_name": "Python 3"
    }
  },
  "cells": [
    {
      "cell_type": "markdown",
      "metadata": {
        "id": "view-in-github",
        "colab_type": "text"
      },
      "source": [
        "<a href=\"https://colab.research.google.com/github/sandeep92134/PACKT-python-workshop/blob/main/module%204/Exercise_66_Generating_a_Heatmap_to_Visualize_the_Grades_of_Students.ipynb\" target=\"_parent\"><img src=\"https://colab.research.google.com/assets/colab-badge.svg\" alt=\"Open In Colab\"/></a>"
      ]
    },
    {
      "cell_type": "markdown",
      "metadata": {
        "id": "fWBt98DAASbV"
      },
      "source": [
        "In this exercise, you will be generating a **heatmap**:\n",
        "\n",
        "1. Open a new Jupyter Notebook.\n",
        "2. Now, type in the following code snippet to define a **heatmap** function. First, you prepare the plot:\n",
        "3. Define the color bar as **colorbar**, as mentioned in the following code snippet:\n",
        "4. Show all **ticks** and label them with their respective list entries:\n",
        "5. Configure the horizontal axes for the labels to appear on top of the plot:\n",
        "6. Rotate the tick labels and set their alignments:\n",
        "7. Turn off **spine** and create a white grid for the plot, as mentioned in the following code snippet:\n",
        "8. Return the heatmap:\n",
        "               "
      ]
    },
    {
      "cell_type": "code",
      "metadata": {
        "id": "YgS5H1CYCQUA"
      },
      "source": [
        "def heatmap(data, row_labels, col_labels, ax=None,\n",
        "            cbar_kw={}, cbarlabel=\"\", **kwargs):\n",
        "    if not ax:\n",
        "        ax = plt.gca()\n",
        "\n",
        "    im = ax.imshow(data, **kwargs)\n",
        "    cbar = ax.figure.colorbar(im, ax=ax, **cbar_kw)\n",
        "    cbar.ax.set_ylabel(cbarlabel, rotation=-90, va=\"bottom\")\n",
        "    ax.set_xticks(np.arange(data.shape[1]))\n",
        "    ax.set_yticks(np.arange(data.shape[0]))\n",
        "    ax.set_xticklabels(col_labels)\n",
        "    ax.set_yticklabels(row_labels)\n",
        "    ax.tick_params(top=True, bottom=False, labeltop=True, labelbottom=False)\n",
        "    plt.setp(ax.get_xticklabels(), rotation=-30, ha=\"right\", rotation_mode=\"anchor\")\n",
        "    for edge, spine in ax.spines.items():\n",
        "        spine.set_visible(False)\n",
        "    ax.set_xticks(np.arange(data.shape[1]+1)-.5, minor=True)\n",
        "    ax.set_yticks(np.arange(data.shape[0]+1)-.5, minor=True)\n",
        "    ax.grid(which=\"minor\", color=\"w\", linestyle='-', linewidth=3)\n",
        "    ax.tick_params(which=\"minor\", bottom=False, left=False)\n",
        "    return im, cbar"
      ],
      "execution_count": 1,
      "outputs": []
    },
    {
      "cell_type": "markdown",
      "metadata": {
        "id": "pSAkyoctCRKM"
      },
      "source": [
        "This is the code you obtain directly from the **matplotlib** documentation. The heatmap functions help to generate a heatmap\n",
        "\n",
        "9. Execute the cell, and, in the next cell, enter and execute the following code. You define a **numpy** array to store our data and plot the heatmap using the functions defined previously.We will talk about numpy array in the later chapters in detail:"
      ]
    },
    {
      "cell_type": "code",
      "metadata": {
        "colab": {
          "base_uri": "https://localhost:8080/",
          "height": 273
        },
        "id": "Mveb2nUVDTC2",
        "outputId": "c028e162-6f41-4763-d497-06b5bb2e556a"
      },
      "source": [
        "import numpy as np\n",
        "import matplotlib.pyplot as plt\n",
        "data = np.array([\n",
        "    [30, 20, 10,],\n",
        "    [10, 40, 15],\n",
        "    [12, 10, 20]\n",
        "])\n",
        "im, cbar = heatmap(data, ['Class-1', 'Class-2', 'Class-3'], ['A', 'B', 'C'], cmap='YlGn', cbarlabel='Number of Students')"
      ],
      "execution_count": 2,
      "outputs": [
        {
          "output_type": "display_data",
          "data": {
            "image/png": "[encoded data removed]",
            "text/plain": [
              "<Figure size 432x288 with 2 Axes>"
            ]
          },
          "metadata": {
            "tags": [],
            "needs_background": "light"
          }
        }
      ]
    },
    {
      "cell_type": "markdown",
      "metadata": {
        "id": "DKPJ8oW3Dpmz"
      },
      "source": [
        "You can see that the heatmap is quite plain without any textual information to help our readers understand the plot. You will now continue the exercise and add another function that will help us to annotate our **heatmap** visualization.\n",
        "\n",
        "10. Type and execute the following code in a new cell:"
      ]
    },
    {
      "cell_type": "code",
      "metadata": {
        "id": "RJy1eNV6Dhm9"
      },
      "source": [
        "def annotate_heatmap(im, data=None, valfmt=\"{x:.2f}\",\n",
        "                     textcolors=[\"black\", \"white\"],\n",
        "                     threshold=None, **textkw):\n",
        "    import matplotlib\n",
        "    if not isinstance(data, (list, np.ndarray)):\n",
        "        data = im.get_array()\n",
        "    if threshold is not None:\n",
        "        threshold = im.norm(threshold)\n",
        "    else:\n",
        "        threshold = im.norm(data.max())/2.\n",
        "    kw = dict(horizontalalignment=\"center\",\n",
        "              verticalalignment=\"center\")\n",
        "    kw.update(textkw)\n",
        "    if isinstance(valfmt, str):\n",
        "        valfmt = matplotlib.ticker.StrMethodFormatter(valfmt)\n",
        "    texts = []\n",
        "    for i in range(data.shape[0]):\n",
        "        for j in range(data.shape[1]):\n",
        "            kw.update(color=textcolors[im.norm(data[i, j]) > threshold])\n",
        "            text = im.axes.text(j, i, valfmt(data[i, j], None), **kw)\n",
        "            texts.append(text)\n",
        "\n",
        "    return texts"
      ],
      "execution_count": 3,
      "outputs": []
    },
    {
      "cell_type": "code",
      "metadata": {
        "colab": {
          "base_uri": "https://localhost:8080/",
          "height": 290
        },
        "id": "O01VDrpXFGY7",
        "outputId": "33b0cb7a-0a2a-4b05-dbb6-531ebe414245"
      },
      "source": [
        "im, cbar = heatmap(data, ['Class-1', 'Class-2', 'Class-3'], ['A', 'B', 'C'], cmap='YlGn', cbarlabel='Number of Students')\n",
        "\n",
        "texts = annotate_heatmap(im, valfmt=\"{x}\")"
      ],
      "execution_count": 4,
      "outputs": [
        {
          "output_type": "stream",
          "text": [
            "/usr/local/lib/python3.6/dist-packages/ipykernel_launcher.py:19: DeprecationWarning: In future, it will be an error for 'np.bool_' scalars to be interpreted as an index\n"
          ],
          "name": "stderr"
        },
        {
          "output_type": "display_data",
          "data": {
            "image/png": "[encoded data removed]",
            "text/plain": [
              "<Figure size 432x288 with 2 Axes>"
            ]
          },
          "metadata": {
            "tags": [],
            "needs_background": "light"
          }
        }
      ]
    },
    {
      "cell_type": "markdown",
      "metadata": {
        "id": "1HSdH1SgEJZz"
      },
      "source": [
        "Note that you put our data in a **numpy** array **(np.array)**. This is because the methods you are going to call expect a **numpy** array.\n",
        "\n",
        "Next, you plotted our **heatmap** using the heatmap method. You passed in our **data**, the **row** labels, **['Class-1', 'Class-2', 'Class-3']**, and then our **column** labels, **['A', 'B', 'C']**. You also pass in **YlGn** as **cmap**, which means you want to use the color yellow for small values, and the color green for big values. You pass in **cbarlabel** as **Number of Students** to denote that the values we are plotting represent the number of students. Lastly, you annotate our heatmap with the data **(30, 20, 10…)**.\n",
        "\n",
        "So far, you have learned how to visualize discrete categorical variables using heatmaps and bar plots. But what if you want to visualize a continuous variable? For example, instead of the grades of students, you want to plot the distribution of scores. For this type of data, you should use a density distribution plot, which you will look at in the next exercise."
      ]
    }
  ]
}