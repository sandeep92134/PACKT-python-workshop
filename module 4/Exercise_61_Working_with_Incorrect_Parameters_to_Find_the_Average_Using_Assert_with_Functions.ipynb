{
  "nbformat": 4,
  "nbformat_minor": 0,
  "metadata": {
    "colab": {
      "name": "Exercise 61: Working with Incorrect Parameters to Find the Average Using Assert with Functions",
      "provenance": [],
      "authorship_tag": "ABX9TyNWFw5YJ+T2aR1L+zTfJ/9R",
      "include_colab_link": true
    },
    "kernelspec": {
      "name": "python3",
      "display_name": "Python 3"
    }
  },
  "cells": [
    {
      "cell_type": "markdown",
      "metadata": {
        "id": "view-in-github",
        "colab_type": "text"
      },
      "source": [
        "<a href=\"https://colab.research.google.com/github/sandeep92134/PACKT-python-workshop/blob/main/module%204/Exercise_61_Working_with_Incorrect_Parameters_to_Find_the_Average_Using_Assert_with_Functions.ipynb\" target=\"_parent\"><img src=\"https://colab.research.google.com/assets/colab-badge.svg\" alt=\"Open In Colab\"/></a>"
      ]
    },
    {
      "cell_type": "markdown",
      "metadata": {
        "id": "31uZnOwlCfcT"
      },
      "source": [
        "In this exercise, you will be using the assertion error with functions to check the error message when you enter incorrect parameters to calculate the average marks of students:\n",
        "\n",
        "1. Continue in the previous Jupyter notebook.\n",
        "2. Type the following code into a new cell:"
      ]
    },
    {
      "cell_type": "code",
      "metadata": {
        "id": "q9YAoFge_WJH"
      },
      "source": [
        "def avg(marks):\n",
        "  assert len(marks) != 0\n",
        "  return round(sum(marks)/len(marks), 2)"
      ],
      "execution_count": 2,
      "outputs": []
    },
    {
      "cell_type": "markdown",
      "metadata": {
        "id": "RqTVGtwRC_Dy"
      },
      "source": [
        "Here, you created an **avg** function that calculates the average from a given list, and you have used the assert statement to check for any incorrect data that will throw the **assert** error output. You can also put the optional **assertionError** message separated by a comma after the condition of **assert**.\n",
        "  \n",
        "`assert len(marks) != 0, \"Length of the marks list cannot be 0.\"` \n",
        "\n",
        "3. In a new cell, type the following code:"
      ]
    },
    {
      "cell_type": "code",
      "metadata": {
        "colab": {
          "base_uri": "https://localhost:8080/"
        },
        "id": "8DtazSwSC9vJ",
        "outputId": "869330d3-f685-4145-c57a-0900941c67a8"
      },
      "source": [
        "sem1_marks = [65, 70, 75]\n",
        "print(\"Average marks for semester 1:\", avg(sem1_marks))"
      ],
      "execution_count": 3,
      "outputs": [
        {
          "output_type": "stream",
          "text": [
            "Average marks for semester 1: 70.0\n"
          ],
          "name": "stdout"
        }
      ]
    },
    {
      "cell_type": "markdown",
      "metadata": {
        "id": "2taQxpDfEUeN"
      },
      "source": [
        "In this code snippet, you provide a list and calculate the average marks using the **avg** function.\n",
        "\n",
        "4. Next, test whether the assert statement is working by providing an empty list. In a new cell, type the following code:"
      ]
    },
    {
      "cell_type": "code",
      "metadata": {
        "colab": {
          "base_uri": "https://localhost:8080/",
          "height": 273
        },
        "id": "Ox4F668yESrb",
        "outputId": "2a55bd91-5ac6-430d-fa2f-b55b3131cbb9"
      },
      "source": [
        "ranks = []\n",
        "print(\"Average of marks for semester 1:\", avg(ranks))"
      ],
      "execution_count": 4,
      "outputs": [
        {
          "output_type": "error",
          "ename": "AssertionError",
          "evalue": "ignored",
          "traceback": [
            "\u001b[0;31m---------------------------------------------------------------------------\u001b[0m",
            "\u001b[0;31mAssertionError\u001b[0m                            Traceback (most recent call last)",
            "\u001b[0;32m<ipython-input-4-f6d823922571>\u001b[0m in \u001b[0;36m<module>\u001b[0;34m()\u001b[0m\n\u001b[1;32m      1\u001b[0m \u001b[0mranks\u001b[0m \u001b[0;34m=\u001b[0m \u001b[0;34m[\u001b[0m\u001b[0;34m]\u001b[0m\u001b[0;34m\u001b[0m\u001b[0;34m\u001b[0m\u001b[0m\n\u001b[0;32m----> 2\u001b[0;31m \u001b[0mprint\u001b[0m\u001b[0;34m(\u001b[0m\u001b[0;34m\"Average of marks for semester 1:\"\u001b[0m\u001b[0;34m,\u001b[0m \u001b[0mavg\u001b[0m\u001b[0;34m(\u001b[0m\u001b[0mranks\u001b[0m\u001b[0;34m)\u001b[0m\u001b[0;34m)\u001b[0m\u001b[0;34m\u001b[0m\u001b[0;34m\u001b[0m\u001b[0m\n\u001b[0m",
            "\u001b[0;32m<ipython-input-2-134f2d9772d9>\u001b[0m in \u001b[0;36mavg\u001b[0;34m(marks)\u001b[0m\n\u001b[1;32m      1\u001b[0m \u001b[0;32mdef\u001b[0m \u001b[0mavg\u001b[0m\u001b[0;34m(\u001b[0m\u001b[0mmarks\u001b[0m\u001b[0;34m)\u001b[0m\u001b[0;34m:\u001b[0m\u001b[0;34m\u001b[0m\u001b[0;34m\u001b[0m\u001b[0m\n\u001b[0;32m----> 2\u001b[0;31m   \u001b[0;32massert\u001b[0m \u001b[0mlen\u001b[0m\u001b[0;34m(\u001b[0m\u001b[0mmarks\u001b[0m\u001b[0;34m)\u001b[0m \u001b[0;34m!=\u001b[0m \u001b[0;36m0\u001b[0m\u001b[0;34m\u001b[0m\u001b[0;34m\u001b[0m\u001b[0m\n\u001b[0m\u001b[1;32m      3\u001b[0m   \u001b[0;32mreturn\u001b[0m \u001b[0mround\u001b[0m\u001b[0;34m(\u001b[0m\u001b[0msum\u001b[0m\u001b[0;34m(\u001b[0m\u001b[0mmarks\u001b[0m\u001b[0;34m)\u001b[0m\u001b[0;34m/\u001b[0m\u001b[0mlen\u001b[0m\u001b[0;34m(\u001b[0m\u001b[0mmarks\u001b[0m\u001b[0;34m)\u001b[0m\u001b[0;34m,\u001b[0m \u001b[0;36m2\u001b[0m\u001b[0;34m)\u001b[0m\u001b[0;34m\u001b[0m\u001b[0;34m\u001b[0m\u001b[0m\n",
            "\u001b[0;31mAssertionError\u001b[0m: "
          ]
        }
      ]
    },
    {
      "cell_type": "markdown",
      "metadata": {
        "id": "-ML7E6xIFGyx"
      },
      "source": [
        "In the cell with the code where you provide 3 scores, the **len(marks) !=0** statement returns **true**, and therefore no **AssertionError** will be raised. However, in the next cell, you did not provide any marks, and therefore it raises an **AssertionError** message\n",
        "\n",
        "\n",
        "In this exercise, you have used the **AssertionError** message to throw the output in case it is incorrect or if missing data is provided. This has proved to be useful when, in the real world, data can be of the incorrect format, and you can then use this to debug the incorrect data.\n",
        "\n",
        "Note that although **assert** behaves like a check or data validation tool, it is not. Asserts in Python can be disabled globally to nullify all of the assert statements. Do not use **assert** to check whether a function argument contains an invalid or unexpected value, as this can quickly lead to bugs and security holes. The baseline is to treat Python's assert statement like a debugging tool and not to use it for handling runtime errors. The goal of using assertions is to let us detect a bug more quickly. An **AssertionError** message should never happen unless there's a bug in your program. In the next section, you will look at plotting functions to provide you with a visual output using Python."
      ]
    }
  ]
}