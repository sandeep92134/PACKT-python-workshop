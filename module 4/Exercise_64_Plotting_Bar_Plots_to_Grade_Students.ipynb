{
  "nbformat": 4,
  "nbformat_minor": 0,
  "metadata": {
    "colab": {
      "name": "Exercise 64: Plotting Bar Plots to Grade Students",
      "provenance": [],
      "authorship_tag": "ABX9TyM1z5NdW2mGW5YpUmqon54D",
      "include_colab_link": true
    },
    "kernelspec": {
      "name": "python3",
      "display_name": "Python 3"
    }
  },
  "cells": [
    {
      "cell_type": "markdown",
      "metadata": {
        "id": "view-in-github",
        "colab_type": "text"
      },
      "source": [
        "<a href=\"https://colab.research.google.com/github/sandeep92134/PACKT-python-workshop/blob/main/module%204/Exercise_64_Plotting_Bar_Plots_to_Grade_Students.ipynb\" target=\"_parent\"><img src=\"https://colab.research.google.com/assets/colab-badge.svg\" alt=\"Open In Colab\"/></a>"
      ]
    },
    {
      "cell_type": "markdown",
      "metadata": {
        "id": "eXGm9EgusR37"
      },
      "source": [
        "A bar plot is a straightforward chart type. It is great for visualizing the count of items in different categories. When you get the final output for this exercise, you may think that histograms and bar plots look the same. But that's not the case. The main difference between a histogram and a bar plot is that there is no space between the adjacent columns in a histogram. You will take a look at how to plot a bar graph. Moreover, in histogram bins are continuous; while in bar plot, bins could be discrete classes.\n",
        "\n",
        "In this exercise, you will draw bar charts to display the data of students and corresponding bar plots as a visual output.\n",
        "\n",
        "1. Open a new Jupyter Notebook file.\n",
        "2. Type the following code into a new cell, to initialize the dataset:"
      ]
    },
    {
      "cell_type": "code",
      "metadata": {
        "id": "GtjmaSvErZ0l"
      },
      "source": [
        "grades = ['A', 'B', 'C', 'D', 'E', 'F']\n",
        "students_count = [20, 30, 10, 5, 8, 2]"
      ],
      "execution_count": 1,
      "outputs": []
    },
    {
      "cell_type": "markdown",
      "metadata": {
        "id": "phGwSg25seSg"
      },
      "source": [
        "3. Plot the bar chart with our dataset and customize the color command:"
      ]
    },
    {
      "cell_type": "code",
      "metadata": {
        "colab": {
          "base_uri": "https://localhost:8080/",
          "height": 282
        },
        "id": "0eFIUOrlskJW",
        "outputId": "26ddc181-e3ef-44c4-b88c-d99328d0e4aa"
      },
      "source": [
        "import matplotlib.pyplot as plt\n",
        "plt.bar(grades, students_count, color=['green', 'blue', 'orange', 'yellow', 'brown', 'red'])"
      ],
      "execution_count": 2,
      "outputs": [
        {
          "output_type": "execute_result",
          "data": {
            "text/plain": [
              "<BarContainer object of 6 artists>"
            ]
          },
          "metadata": {
            "tags": []
          },
          "execution_count": 2
        },
        {
          "output_type": "display_data",
          "data": {
            "image/png": "[encoded data removed]",
            "text/plain": [
              "<Figure size 432x288 with 1 Axes>"
            ]
          },
          "metadata": {
            "tags": [],
            "needs_background": "light"
          }
        }
      ]
    },
    {
      "cell_type": "markdown",
      "metadata": {
        "id": "fzk3kiF4tVv6"
      },
      "source": [
        "Here, you define two lists: the **grades** list stores the grades, which you use as the x-axis, and the **students_count** list stores the number of students who score a respective grade. Then, you use the **plt** plotting engine and the bar command to draw a **bar** chart.\n",
        "\n",
        "4. Enter the following code to add the main title and the axis titles to our chart for better understanding. Again, you use the **show()** command to display the rendered chart:"
      ]
    },
    {
      "cell_type": "code",
      "metadata": {
        "colab": {
          "base_uri": "https://localhost:8080/",
          "height": 295
        },
        "id": "z1DN6TQEtfUg",
        "outputId": "7245c2a0-897a-4708-a684-73d077513f0e"
      },
      "source": [
        "plt.title('Grades Bar Plot for Biology Class')\n",
        "plt.xlabel('Grade')\n",
        "plt.ylabel('Num Students')\n",
        "plt.bar(grades, students_count, color=['green', 'brown', 'yellow', 'blue', 'orange', 'red'])\n",
        "plt.show()"
      ],
      "execution_count": 3,
      "outputs": [
        {
          "output_type": "display_data",
          "data": {
            "image/png": "[encoded data removed]",
            "text/plain": [
              "<Figure size 432x288 with 1 Axes>"
            ]
          },
          "metadata": {
            "tags": [],
            "needs_background": "light"
          }
        }
      ]
    },
    {
      "cell_type": "markdown",
      "metadata": {
        "id": "Gvh_rj8Qtkas"
      },
      "source": [
        "Sometimes, it is easier to use horizontal bars to represent relationships. What you have to do is to change the bar function to **.barh**.\n",
        "\n",
        "5. Enter the following code in a new cell and observe the output:\n"
      ]
    },
    {
      "cell_type": "code",
      "metadata": {
        "colab": {
          "base_uri": "https://localhost:8080/",
          "height": 282
        },
        "id": "qrslH_NfttL3",
        "outputId": "3d4aeadc-ec51-4ce9-a1d1-e98da3153255"
      },
      "source": [
        "plt.barh(grades, students_count, color=['green', 'gray', 'gray', 'gray', 'gray', 'red'])"
      ],
      "execution_count": 4,
      "outputs": [
        {
          "output_type": "execute_result",
          "data": {
            "text/plain": [
              "<BarContainer object of 6 artists>"
            ]
          },
          "metadata": {
            "tags": []
          },
          "execution_count": 4
        },
        {
          "output_type": "display_data",
          "data": {
            "image/png": "[encoded data removed]",
            "text/plain": [
              "<Figure size 432x288 with 1 Axes>"
            ]
          },
          "metadata": {
            "tags": [],
            "needs_background": "light"
          }
        }
      ]
    },
    {
      "cell_type": "markdown",
      "metadata": {
        "id": "INAfHfn0ttrG"
      },
      "source": [
        "In this exercise, you implemented a sample list of data and outputting data as bar graphs; these bar graphs were shown as vertical bars and horizontal bars as well. This could vary depending on your usage.\n",
        "\n",
        "In the next exercise, you will be implementing pie charts that many organizations use to pictorially classify their data. Pie charts are good for visualizing percentages and fractional data; for instance, the percentage of people who agree or disagree on some opinions, the fractional budget allocation for a certain project, or the results of an election.\n",
        "\n",
        "However, a pie chart is often regarded as not a very good practice by many analysts and data scientists for the following reasons:\n",
        "\n",
        "- Pie charts are often overused. Many people use pie charts without understanding why they should use them.\n",
        "- A pie chart is not effective for comparison purposes when there are many categories.\n",
        "- It is easier not to use a pie chart when the data can simply be presented using tables or even written words."
      ]
    },
    {
      "cell_type": "code",
      "metadata": {
        "id": "e9UHwGFjvfGp"
      },
      "source": [
        ""
      ],
      "execution_count": null,
      "outputs": []
    }
  ]
}