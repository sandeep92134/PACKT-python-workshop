{
  "nbformat": 4,
  "nbformat_minor": 0,
  "metadata": {
    "colab": {
      "name": "Exercise 63: Drawing a Line Chart to Find the Growth in Stock Prices",
      "provenance": [],
      "authorship_tag": "ABX9TyPmYmYneGKWt/x9hzQM8uQf",
      "include_colab_link": true
    },
    "kernelspec": {
      "name": "python3",
      "display_name": "Python 3"
    }
  },
  "cells": [
    {
      "cell_type": "markdown",
      "metadata": {
        "id": "view-in-github",
        "colab_type": "text"
      },
      "source": [
        "<a href=\"https://colab.research.google.com/github/sandeep92134/PACKT-python-workshop/blob/main/module%204/Exercise_63_Drawing_a_Line_Chart_to_Find_the_Growth_in_Stock_Prices.ipynb\" target=\"_parent\"><img src=\"https://colab.research.google.com/assets/colab-badge.svg\" alt=\"Open In Colab\"/></a>"
      ]
    },
    {
      "cell_type": "markdown",
      "metadata": {
        "id": "2iVDup33UB-W"
      },
      "source": [
        "In this exercise, you will be plotting the stock prices of a well-known company. You will be plotting this as a line chart that will be plotted as the number of days against the growth in price.\n",
        "\n",
        "1. Open a new Jupyter Notebook.\n",
        "2. Enter the following code in a new cell to initialize our data as a list:"
      ]
    },
    {
      "cell_type": "code",
      "metadata": {
        "id": "Nz-Ux92PTKyf"
      },
      "source": [
        "stock_price = [190.64, 190.09, 192.25, 191.79, 194.45, 196.45, 196.45, 196.42, 200.32, 200.32, 200.85, 199.2, 199.2, 199.2, 199.46, 201.46, 197.54, 201.12, 203.12, 203.12, 203.12, 202.83, 202.83, 203.36, 206.83, 204.9, 204.9, 204.9, 204.4, 204.06]"
      ],
      "execution_count": 1,
      "outputs": []
    },
    {
      "cell_type": "markdown",
      "metadata": {
        "id": "Rh0P6UuccHeY"
      },
      "source": [
        "3. Now, use the following code to plot the chart, configure the chart title, and configure the titles of the axes:"
      ]
    },
    {
      "cell_type": "code",
      "metadata": {
        "colab": {
          "base_uri": "https://localhost:8080/",
          "height": 313
        },
        "id": "tfKVhbBkcSKS",
        "outputId": "675a1034-bfbb-4868-d452-f808b2dfa594"
      },
      "source": [
        "import matplotlib.pyplot as plt\n",
        "\n",
        "plt.plot(stock_price)\n",
        "plt.title('Opening stock prices')\n",
        "plt.xlabel('Days')\n",
        "plt.ylabel('$ USD')\n",
        "plt.show"
      ],
      "execution_count": 4,
      "outputs": [
        {
          "output_type": "execute_result",
          "data": {
            "text/plain": [
              "<function matplotlib.pyplot.show>"
            ]
          },
          "metadata": {
            "tags": []
          },
          "execution_count": 4
        },
        {
          "output_type": "display_data",
          "data": {
            "image/png": "[encoded data removed]",
            "text/plain": [
              "<Figure size 432x288 with 1 Axes>"
            ]
          },
          "metadata": {
            "tags": [],
            "needs_background": "light"
          }
        }
      ]
    },
    {
      "cell_type": "markdown",
      "metadata": {
        "id": "ZdFfxaDccbWc"
      },
      "source": [
        "In the preceding code snippet, you are adding a title to the graph, and adding the number of days to the x axis and the price to the y axis. Execute the cell\n",
        "\n",
        "If you've noticed that the number of days in our line plot starts at **0**, you have sharp eyes. Usually, you start your axes at **0**, but in this case, it represents the day, so you have to start from **1** instead. You can fix these issues.\n",
        "\n",
        "4. You can fix this by creating a list that starts with 1 to 31, representing the days in March:"
      ]
    },
    {
      "cell_type": "code",
      "metadata": {
        "id": "ydrMV81adqPr"
      },
      "source": [
        "t = list(range(1, 31))"
      ],
      "execution_count": 5,
      "outputs": []
    },
    {
      "cell_type": "markdown",
      "metadata": {
        "id": "maxLukcoeCU1"
      },
      "source": [
        "5. Plot this together with the data. You can also define the numbers on the x axis using xticks:"
      ]
    },
    {
      "cell_type": "code",
      "metadata": {
        "colab": {
          "base_uri": "https://localhost:8080/",
          "height": 373
        },
        "id": "b7CftHkleD-C",
        "outputId": "f2a958ad-d105-47fb-be5b-829204993f18"
      },
      "source": [
        "plt.plot(t, stock_price, marker='.', color='blue')\n",
        "plt.xticks([1, 8, 15, 22, 28])"
      ],
      "execution_count": 6,
      "outputs": [
        {
          "output_type": "execute_result",
          "data": {
            "text/plain": [
              "([<matplotlib.axis.XTick at 0x7f6af4fa9ba8>,\n",
              "  <matplotlib.axis.XTick at 0x7f6af4fa9898>,\n",
              "  <matplotlib.axis.XTick at 0x7f6af4fa9d68>,\n",
              "  <matplotlib.axis.XTick at 0x7f6af4f9d1d0>,\n",
              "  <matplotlib.axis.XTick at 0x7f6af4f9d668>],\n",
              " <a list of 5 Text major ticklabel objects>)"
            ]
          },
          "metadata": {
            "tags": []
          },
          "execution_count": 6
        },
        {
          "output_type": "display_data",
          "data": {
            "image/png": "[encoded data removed]",
            "text/plain": [
              "<Figure size 432x288 with 1 Axes>"
            ]
          },
          "metadata": {
            "tags": [],
            "needs_background": "light"
          }
        }
      ]
    },
    {
      "cell_type": "markdown",
      "metadata": {
        "id": "NJllEtypeQI4"
      },
      "source": [
        "In this exercise, you learned how to generate a line graph that displays the output based on time. In the next exercise, you will learn how to plot bar graphs, which is another useful visualization for displaying categorical data."
      ]
    }
  ]
}