{
  "nbformat": 4,
  "nbformat_minor": 0,
  "metadata": {
    "colab": {
      "name": "Exercise 43: Defining and Calling the Function in Python Script",
      "provenance": [],
      "authorship_tag": "ABX9TyNuZfyhu8buZhBAj4Oq9TgR",
      "include_colab_link": true
    },
    "kernelspec": {
      "name": "python3",
      "display_name": "Python 3"
    }
  },
  "cells": [
    {
      "cell_type": "markdown",
      "metadata": {
        "id": "view-in-github",
        "colab_type": "text"
      },
      "source": [
        "<a href=\"https://colab.research.google.com/github/sandeep92134/PACKT-python-workshop/blob/main/Exercise_43_Defining_and_Calling_the_Function_in_Python_Script.ipynb\" target=\"_parent\"><img src=\"https://colab.research.google.com/assets/colab-badge.svg\" alt=\"Open In Colab\"/></a>"
      ]
    },
    {
      "cell_type": "markdown",
      "metadata": {
        "id": "btE6FhHTAeGy"
      },
      "source": [
        "In this exercise, you will define and call a function in a **multiply.py** Python script and execute it from Command Prompt:\n",
        "\n",
        "1. Create a new file using a text editor called **multiply.py**:\n",
        "\n",
        "```\n",
        "def list_product(my_list): \n",
        "    result = 1\n",
        "    for number in my_list: \n",
        "        result = result * number\n",
        "    return result\n",
        "print(list_product([2, 3]))\n",
        "print(list_product([2, 10, 15]))\n",
        "```\n",
        "2. Using Command Prompt, execute this script, ensuring that your Command Prompt is in the same folder as the multiply.py file:\n",
        "\n",
        "In this exercise, you worked on defining and calling a function within a Python script."
      ]
    },
    {
      "cell_type": "code",
      "metadata": {
        "colab": {
          "base_uri": "https://localhost:8080/"
        },
        "id": "ets9Ly_rAKFt",
        "outputId": "f40bb13f-7554-422a-d9d3-2aff71833333"
      },
      "source": [
        "%%writefile multiply.py\n",
        "def list_product(my_list): \n",
        "    result = 1\n",
        "    for number in my_list: \n",
        "        result = result * number\n",
        "    return result\n",
        "\n",
        "print(list_product([2, 3]))\n",
        "print(list_product([2, 10, 15]))"
      ],
      "execution_count": 1,
      "outputs": [
        {
          "output_type": "stream",
          "text": [
            "Writing multiply.py\n"
          ],
          "name": "stdout"
        }
      ]
    },
    {
      "cell_type": "code",
      "metadata": {
        "colab": {
          "base_uri": "https://localhost:8080/"
        },
        "id": "FSbvWfk3Bdhn",
        "outputId": "8fdf9cf5-e2b5-4380-b3a2-32e20059f9ef"
      },
      "source": [
        "!python multiply.py"
      ],
      "execution_count": 3,
      "outputs": [
        {
          "output_type": "stream",
          "text": [
            "6\n",
            "300\n"
          ],
          "name": "stdout"
        }
      ]
    },
    {
      "cell_type": "code",
      "metadata": {
        "colab": {
          "base_uri": "https://localhost:8080/"
        },
        "id": "BXQS3AnABjSg",
        "outputId": "866f66a2-e8f2-48b4-d848-e4214b4a6d5f"
      },
      "source": [
        "import multiply"
      ],
      "execution_count": 4,
      "outputs": [
        {
          "output_type": "stream",
          "text": [
            "6\n",
            "300\n"
          ],
          "name": "stdout"
        }
      ]
    }
  ]
}