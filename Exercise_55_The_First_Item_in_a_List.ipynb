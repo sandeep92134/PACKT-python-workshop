{
  "nbformat": 4,
  "nbformat_minor": 0,
  "metadata": {
    "colab": {
      "name": "Exercise 55: The First Item in a List",
      "provenance": [],
      "authorship_tag": "ABX9TyMYnQVldAkcsVQlRJYpUPmp"
    },
    "kernelspec": {
      "name": "python3",
      "display_name": "Python 3"
    }
  },
  "cells": [
    {
      "cell_type": "markdown",
      "metadata": {
        "id": "iip7mj7nD_4U"
      },
      "source": [
        "In this exercise, you will write a **lambda** function, first_item, to select the first item in a list containing the items of the **cat**, **dog**, and **mouse**:\n",
        "\n",
        "1. Create the lambda function:"
      ]
    },
    {
      "cell_type": "code",
      "metadata": {
        "id": "KBz9dmqKBOsT"
      },
      "source": [
        "first_items = lambda my_list: my_list[0]"
      ],
      "execution_count": 1,
      "outputs": []
    },
    {
      "cell_type": "markdown",
      "metadata": {
        "id": "nWj3dtKHEl8f"
      },
      "source": [
        "2. Test the function:"
      ]
    },
    {
      "cell_type": "code",
      "metadata": {
        "colab": {
          "base_uri": "https://localhost:8080/",
          "height": 35
        },
        "id": "n1oWhAlIEhxH",
        "outputId": "dccf89c5-6a6e-4d5f-9419-4008d8437cff"
      },
      "source": [
        "first_items(['cat', 'dog', 'mouse'])"
      ],
      "execution_count": 2,
      "outputs": [
        {
          "output_type": "execute_result",
          "data": {
            "application/vnd.google.colaboratory.intrinsic+json": {
              "type": "string"
            },
            "text/plain": [
              "'cat'"
            ]
          },
          "metadata": {
            "tags": []
          },
          "execution_count": 2
        }
      ]
    },
    {
      "cell_type": "markdown",
      "metadata": {
        "id": "N4MJxG5TE7Nn"
      },
      "source": [
        "Lambda functions can be particularly useful in passing custom functions to a map, as you can quickly define a function on the fly without assigning it to a variable name. The next two sections look at contexts where this is particularly useful."
      ]
    }
  ]
}