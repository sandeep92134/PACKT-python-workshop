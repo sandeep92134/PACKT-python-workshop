{
  "nbformat": 4,
  "nbformat_minor": 0,
  "metadata": {
    "colab": {
      "name": "Exercise 27: Adding Items to Our Shopping List",
      "provenance": [],
      "authorship_tag": "ABX9TyNgEh6yj/9iTEw9Hs7ABZlS",
      "include_colab_link": true
    },
    "kernelspec": {
      "name": "python3",
      "display_name": "Python 3"
    }
  },
  "cells": [
    {
      "cell_type": "markdown",
      "metadata": {
        "id": "view-in-github",
        "colab_type": "text"
      },
      "source": [
        "<a href=\"https://colab.research.google.com/github/sandeep92134/PACKT-python-workshop/blob/main/Exercise_27_Adding_Items_to_Our_Shopping_List.ipynb\" target=\"_parent\"><img src=\"https://colab.research.google.com/assets/colab-badge.svg\" alt=\"Open In Colab\"/></a>"
      ]
    },
    {
      "cell_type": "markdown",
      "metadata": {
        "id": "GGG1chntDjvR"
      },
      "source": [
        "The append method is the easiest way to add a new element to the end of a list. You will use this method in this exercise to add items to our shopping list. The following steps will enable you to complete the exercise:\n",
        "\n",
        "1. In a new cell, type the following code to add a new element, apple, to the end of the list using the append method:"
      ]
    },
    {
      "cell_type": "code",
      "metadata": {
        "id": "E9b4DBKMC88J",
        "outputId": "6f6346e9-dcc0-4875-b9a5-09b8482db4e6",
        "colab": {
          "base_uri": "https://localhost:8080/"
        }
      },
      "source": [
        "shopping = [\"Butter\", \"Bread\", \"Milk\", \"Eggs\"]\n",
        "shopping.append(\"Apple\")\n",
        "print(shopping)"
      ],
      "execution_count": 1,
      "outputs": [
        {
          "output_type": "stream",
          "text": [
            "['Butter', 'Bread', 'Milk', 'Eggs', 'Apple']\n"
          ],
          "name": "stdout"
        }
      ]
    },
    {
      "cell_type": "markdown",
      "metadata": {
        "id": "EEP5jeKSEKCg"
      },
      "source": [
        "The append method is commonly used when you are building a list without knowing what the total number of elements will be. You will start with an empty list and continue to add items to build the list.\n",
        "\n",
        "2. Now create an empty list, shopping, and keep adding items one by one to this empty list:"
      ]
    },
    {
      "cell_type": "code",
      "metadata": {
        "id": "tDnZDManEVQp",
        "outputId": "7fc69709-6d3a-4183-fb86-0fa2be3eaa34",
        "colab": {
          "base_uri": "https://localhost:8080/"
        }
      },
      "source": [
        "shopping_list = []\n",
        "shopping_list.append('bread')\n",
        "shopping_list.append('milk')\n",
        "shopping_list.append('eggs')\n",
        "shopping_list.append('apple')\n",
        "print(shopping_list)"
      ],
      "execution_count": 2,
      "outputs": [
        {
          "output_type": "stream",
          "text": [
            "['bread', 'milk', 'eggs', 'apple']\n"
          ],
          "name": "stdout"
        }
      ]
    },
    {
      "cell_type": "markdown",
      "metadata": {
        "id": "0bum_Qn5EdH2"
      },
      "source": [
        "This way, you start off by initializing an empty list, and you extend the list dynamically. The end result is exactly the same as the list from the previous code. This is different from some programming languages that require array size to be fixed at the declaration stage.\n",
        "\n",
        "3. Now use the insert method to add elements to the shopping list:"
      ]
    },
    {
      "cell_type": "code",
      "metadata": {
        "id": "QWj_Df7KEuf6",
        "outputId": "b97ca5cc-54d1-437a-ca59-ee53f89f9e03",
        "colab": {
          "base_uri": "https://localhost:8080/"
        }
      },
      "source": [
        "shopping_list.insert(2, 'ham') \n",
        "print(shopping_list)"
      ],
      "execution_count": 3,
      "outputs": [
        {
          "output_type": "stream",
          "text": [
            "['bread', 'milk', 'ham', 'eggs', 'apple']\n"
          ],
          "name": "stdout"
        }
      ]
    },
    {
      "cell_type": "markdown",
      "metadata": {
        "id": "Kp9VDXl3E0L1"
      },
      "source": [
        "As you coded in step 3, you came across another way to add an element to a list, using the insert method. The insert method requires a positional index to indicate where the new element should be placed. A positional index is a zero-based number that indicates the position in a list. You can use the following code to insert an item, ham, in the third position. You can see that ham is inserted in the third position and shifts every other item one position to the right.\n",
        "\n",
        "Having concluded this exercise, you are now able to add elements to our list, which is shopping. This proves to be very useful when you get data from a customer or client, allowing you to use the methods you have mentioned and add items to your list.\n",
        "\n",
        "In the next topic, you will work with and learn about dictionary keys and values."
      ]
    }
  ]
}