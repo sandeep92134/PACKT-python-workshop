{
  "nbformat": 4,
  "nbformat_minor": 0,
  "metadata": {
    "colab": {
      "name": "Exercise 48: A Simple Function with a For Loop",
      "provenance": [],
      "authorship_tag": "ABX9TyNA7IVT2hkO1Hqln6A+wKf2",
      "include_colab_link": true
    },
    "kernelspec": {
      "name": "python3",
      "display_name": "Python 3"
    }
  },
  "cells": [
    {
      "cell_type": "markdown",
      "metadata": {
        "id": "view-in-github",
        "colab_type": "text"
      },
      "source": [
        "<a href=\"https://colab.research.google.com/github/sandeep92134/PACKT-python-workshop/blob/main/Exercise_48_A_Simple_Function_with_a_For_Loop.ipynb\" target=\"_parent\"><img src=\"https://colab.research.google.com/assets/colab-badge.svg\" alt=\"Open In Colab\"/></a>"
      ]
    },
    {
      "cell_type": "markdown",
      "metadata": {
        "id": "bdpmHgXSZ3HM"
      },
      "source": [
        "### In this exercise\n",
        "you create a **sum_first_n** function that sums up the first n integers. For example, if you pass the **n=3** function, it should return 1 + 2 + 3 = 6:\n",
        "\n",
        "1. In a Python shell, enter the function definition. Note that the tab spacing \n",
        "needs to match the following output:"
      ]
    },
    {
      "cell_type": "code",
      "metadata": {
        "id": "jFNoqo7yHvA8"
      },
      "source": [
        "def sum_first_n(n):\n",
        "  result = 0\n",
        "  for i in range(n):\n",
        "    result += i + 1\n",
        "  return result\n",
        "  \n",
        "    "
      ],
      "execution_count": 1,
      "outputs": []
    },
    {
      "cell_type": "markdown",
      "metadata": {
        "id": "V4JjR1ljanC5"
      },
      "source": [
        "2. Test the **sum_first_n** function on an example:\n"
      ]
    },
    {
      "cell_type": "code",
      "metadata": {
        "colab": {
          "base_uri": "https://localhost:8080/"
        },
        "id": "1_8LanjbacEj",
        "outputId": "de18c45a-d90c-4e14-f0a4-35e4702fd263"
      },
      "source": [
        "sum_first_n(100)"
      ],
      "execution_count": 2,
      "outputs": [
        {
          "output_type": "execute_result",
          "data": {
            "text/plain": [
              "5050"
            ]
          },
          "metadata": {
            "tags": []
          },
          "execution_count": 2
        }
      ]
    },
    {
      "cell_type": "code",
      "metadata": {
        "colab": {
          "base_uri": "https://localhost:8080/"
        },
        "id": "2MbJTUx7awud",
        "outputId": "21f6f93a-3bce-4ddc-e09d-01b364fcd69e"
      },
      "source": [
        "sum_first_n(1)"
      ],
      "execution_count": 3,
      "outputs": [
        {
          "output_type": "execute_result",
          "data": {
            "text/plain": [
              "1"
            ]
          },
          "metadata": {
            "tags": []
          },
          "execution_count": 3
        }
      ]
    },
    {
      "cell_type": "code",
      "metadata": {
        "colab": {
          "base_uri": "https://localhost:8080/"
        },
        "id": "h8atAxm0a3gX",
        "outputId": "e559e145-0606-4681-8d55-2e226fa8b329"
      },
      "source": [
        "sum_first_n(10)"
      ],
      "execution_count": 4,
      "outputs": [
        {
          "output_type": "execute_result",
          "data": {
            "text/plain": [
              "55"
            ]
          },
          "metadata": {
            "tags": []
          },
          "execution_count": 4
        }
      ]
    },
    {
      "cell_type": "markdown",
      "metadata": {
        "id": "a8z9EA_ua7Ku"
      },
      "source": [
        "In this exercise, you successfully implemented a simple **sum_first_n** function with a **for** loop to find the total sum of **n** numbers."
      ]
    }
  ]
}