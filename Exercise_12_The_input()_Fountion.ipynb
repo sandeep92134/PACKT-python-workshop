{
  "nbformat": 4,
  "nbformat_minor": 0,
  "metadata": {
    "colab": {
      "name": "Exercise 12: The input() Fountion",
      "provenance": [],
      "authorship_tag": "ABX9TyPIBsnFEXK12+hbZYo3iov/",
      "include_colab_link": true
    },
    "kernelspec": {
      "name": "python3",
      "display_name": "Python 3"
    }
  },
  "cells": [
    {
      "cell_type": "markdown",
      "metadata": {
        "id": "view-in-github",
        "colab_type": "text"
      },
      "source": [
        "<a href=\"https://colab.research.google.com/github/sandeep92134/PACKT-python-workshop/blob/main/Exercise_12_The_input()_Fountion.ipynb\" target=\"_parent\"><img src=\"https://colab.research.google.com/assets/colab-badge.svg\" alt=\"Open In Colab\"/></a>"
      ]
    },
    {
      "cell_type": "markdown",
      "metadata": {
        "id": "3GkeNCjeD5lq"
      },
      "source": [
        "In this exercise, you will utilize the input() function to obtain information from the user:\n",
        "\n",
        "1. Open a new Jupyter Notebook.\n",
        "2. Ask a user for their name. Respond with an appropriate greeting:"
      ]
    },
    {
      "cell_type": "code",
      "metadata": {
        "id": "YumvFzUvD2ZC",
        "outputId": "37fea886-f892-486d-cc84-19dc219b5da6",
        "colab": {
          "base_uri": "https://localhost:8080/",
          "height": 34
        }
      },
      "source": [
        "# Choose a question to ask\n",
        "print('What is your name?')"
      ],
      "execution_count": 1,
      "outputs": [
        {
          "output_type": "stream",
          "text": [
            "What is your name?\n"
          ],
          "name": "stdout"
        }
      ]
    },
    {
      "cell_type": "markdown",
      "metadata": {
        "id": "AZsP1FLzEk8z"
      },
      "source": [
        "3. Now, set a variable that will be equal to the input() function, as mentioned in the following code snippet:"
      ]
    },
    {
      "cell_type": "code",
      "metadata": {
        "id": "PZOAy-Z7D4Dx",
        "outputId": "b4febcc0-e4a9-49d2-86f8-8ec9bd7d079c",
        "colab": {
          "base_uri": "https://localhost:8080/",
          "height": 34
        }
      },
      "source": [
        "name = input()"
      ],
      "execution_count": 2,
      "outputs": [
        {
          "output_type": "stream",
          "text": [
            "Sandy\n"
          ],
          "name": "stdout"
        }
      ]
    },
    {
      "cell_type": "markdown",
      "metadata": {
        "id": "hk2SSifgE27B"
      },
      "source": [
        "4. Finally, print the variable that contains our user input:"
      ]
    },
    {
      "cell_type": "code",
      "metadata": {
        "id": "eDUxIbpwE9HK",
        "outputId": "5728f65a-385b-462c-fef2-3d679478ff4c",
        "colab": {
          "base_uri": "https://localhost:8080/",
          "height": 34
        }
      },
      "source": [
        "print('Hello, ' + name + '.')"
      ],
      "execution_count": 3,
      "outputs": [
        {
          "output_type": "stream",
          "text": [
            "Hello, Sandy.\n"
          ],
          "name": "stdout"
        }
      ]
    },
    {
      "cell_type": "markdown",
      "metadata": {
        "id": "cTvLkDXFE_KO"
      },
      "source": [
        "## Note: input() can be finicky in Jupyter Notebooks. If an error arises when entering the code, try restarting the kernel. Restarting the kernel will erase the current memory and start each cell afresh. This is advisable if the notebook stalls"
      ]
    },
    {
      "cell_type": "markdown",
      "metadata": {
        "id": "dsMvLx1zFNf3"
      },
      "source": [
        "Here, we used the first print statement to ask the user his name and later used the input function. Both these can be combined together in input. We can put the question in the parentheses of input itself as shown in following snippet."
      ]
    },
    {
      "cell_type": "code",
      "metadata": {
        "id": "l7psvwQ9FRUN",
        "outputId": "76263322-1be4-4aea-de70-89ae677d5056",
        "colab": {
          "base_uri": "https://localhost:8080/",
          "height": 34
        }
      },
      "source": [
        "name = input('What is your name?')"
      ],
      "execution_count": 4,
      "outputs": [
        {
          "output_type": "stream",
          "text": [
            "What is your name?SANDY\n"
          ],
          "name": "stdout"
        }
      ]
    },
    {
      "cell_type": "markdown",
      "metadata": {
        "id": "Df91Y43nFUQW"
      },
      "source": [
        "The answer given to this will be automatically stored in the name variable. Here, we have assigned any name which were we assigned before to the name variable. Now we can print the name using the same code:"
      ]
    },
    {
      "cell_type": "code",
      "metadata": {
        "id": "dliNW0WzFoso",
        "outputId": "6eb51ca5-d722-42a4-9c07-dd834cc71271",
        "colab": {
          "base_uri": "https://localhost:8080/",
          "height": 34
        }
      },
      "source": [
        "print('Hello, ' + name + '.')"
      ],
      "execution_count": 5,
      "outputs": [
        {
          "output_type": "stream",
          "text": [
            "Hello, SANDY.\n"
          ],
          "name": "stdout"
        }
      ]
    },
    {
      "cell_type": "markdown",
      "metadata": {
        "id": "ytuPPPSfFr_x"
      },
      "source": [
        "In this exercise, you have learned how the input() function works."
      ]
    }
  ]
}