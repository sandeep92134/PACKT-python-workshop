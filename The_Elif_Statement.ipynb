{
  "nbformat": 4,
  "nbformat_minor": 0,
  "metadata": {
    "colab": {
      "name": "The Elif Statement",
      "provenance": [],
      "authorship_tag": "ABX9TyOk/AZ7giJTxkpJefU6yhWD",
      "include_colab_link": true
    },
    "kernelspec": {
      "name": "python3",
      "display_name": "Python 3"
    }
  },
  "cells": [
    {
      "cell_type": "markdown",
      "metadata": {
        "id": "view-in-github",
        "colab_type": "text"
      },
      "source": [
        "<a href=\"https://colab.research.google.com/github/sandeep92134/PACKT-python-workshop/blob/main/The_Elif_Statement.ipynb\" target=\"_parent\"><img src=\"https://colab.research.google.com/assets/colab-badge.svg\" alt=\"Open In Colab\"/></a>"
      ]
    },
    {
      "cell_type": "markdown",
      "metadata": {
        "id": "_BV0ISQ2kF4r"
      },
      "source": [
        "elif is short for else if. elif does not have meaning in isolation. elif appears in between an if and else clause. This is usually used in cases where there is a set of conditions and it results in what is called the if-else ladder. An example should make things clearer. Have a look at the following code snippet and copy it into your Jupyter notebook. The explanation for this code is mentioned right after the output:"
      ]
    },
    {
      "cell_type": "code",
      "metadata": {
        "id": "AltiMrN7l1TR"
      },
      "source": [
        "age = 20"
      ],
      "execution_count": 1,
      "outputs": []
    },
    {
      "cell_type": "code",
      "metadata": {
        "id": "wUWGbcD3jzxU",
        "outputId": "b7200d35-fba5-433d-cfe5-29e8d739dce2",
        "colab": {
          "base_uri": "https://localhost:8080/"
        }
      },
      "source": [
        "if age <= 10:\n",
        "  print('Listen, learn, and have fun.')\n",
        "elif age<= 19:\n",
        "  print('Go fearlessly forward.')\n",
        "elif age <= 29:\n",
        "  print('Seize the day.')\n",
        "elif age <= 39:\n",
        "  print('Go for what you want.')\n",
        "elif age <= 59:\n",
        "  print('Stay physically fit and healthy.')\n",
        "else:\n",
        "  print('Each day is magical.')"
      ],
      "execution_count": 2,
      "outputs": [
        {
          "output_type": "stream",
          "text": [
            "Seize the day.\n"
          ],
          "name": "stdout"
        }
      ]
    }
  ]
}