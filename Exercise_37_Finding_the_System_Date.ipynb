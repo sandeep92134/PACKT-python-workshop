{
  "nbformat": 4,
  "nbformat_minor": 0,
  "metadata": {
    "colab": {
      "name": "Exercise 37: Finding the System Date",
      "provenance": [],
      "authorship_tag": "ABX9TyOHbdPs5MbRAeWxyrFUP6UW",
      "include_colab_link": true
    },
    "kernelspec": {
      "name": "python3",
      "display_name": "Python 3"
    }
  },
  "cells": [
    {
      "cell_type": "markdown",
      "metadata": {
        "id": "view-in-github",
        "colab_type": "text"
      },
      "source": [
        "<a href=\"https://colab.research.google.com/github/sandeep92134/PACKT-python-workshop/blob/main/Exercise_37_Finding_the_System_Date.ipynb\" target=\"_parent\"><img src=\"https://colab.research.google.com/assets/colab-badge.svg\" alt=\"Open In Colab\"/></a>"
      ]
    },
    {
      "cell_type": "markdown",
      "metadata": {
        "id": "CfkrSQ-XmTrV"
      },
      "source": [
        "In this exercise, you write a script that prints the current system date to the console by importing the **datetime** module:\n",
        "\n",
        "1. Create a new script called **today.py** in the Python Terminal.\n",
        "2. Add a docstring to the script:\n",
        "\n",
        "```\n",
        "\"\"\"\n",
        "This script prints the current system date.\n",
        "\"\"\"\n",
        "```\n",
        "3. Import the **datetime** module:\n",
        "\n",
        "```\n",
        "import datetime \n",
        "```\n",
        "4. Print out the current date using the **now()** property of **datetime.date**:\n",
        "\n",
        "```\n",
        "print(datetime.date.today())\n",
        "```\n",
        "5. Run the script from the command line \n",
        "\n",
        "In this exercise, you were able to write a script that prints the date and time using the **datetime** module. Hence, you can see how modules can be helpful."
      ]
    },
    {
      "cell_type": "code",
      "metadata": {
        "id": "OIj6_Lc4dsM8",
        "colab": {
          "base_uri": "https://localhost:8080/"
        },
        "outputId": "6dc31032-ddcd-41ac-eef8-985d3ff37b39"
      },
      "source": [
        "%%writefile today.py\n",
        "\"\"\" This script prints the current system date. \"\"\"\n",
        "import datetime\n",
        "\n",
        "print(datetime.date.today())"
      ],
      "execution_count": 1,
      "outputs": [
        {
          "output_type": "stream",
          "text": [
            "Overwriting today.py\n"
          ],
          "name": "stdout"
        }
      ]
    },
    {
      "cell_type": "code",
      "metadata": {
        "colab": {
          "base_uri": "https://localhost:8080/"
        },
        "id": "0cvxxpsOoWeL",
        "outputId": "5051784f-b9d7-42ad-a00b-dc585dc1120f"
      },
      "source": [
        "!python today.py"
      ],
      "execution_count": 2,
      "outputs": [
        {
          "output_type": "stream",
          "text": [
            "2020-11-20\n"
          ],
          "name": "stdout"
        }
      ]
    },
    {
      "cell_type": "code",
      "metadata": {
        "colab": {
          "base_uri": "https://localhost:8080/"
        },
        "id": "UhVzTqldpDtv",
        "outputId": "66647cc6-8ead-4549-8346-b0f3e0418040"
      },
      "source": [
        "import today"
      ],
      "execution_count": 3,
      "outputs": [
        {
          "output_type": "stream",
          "text": [
            "2020-11-20\n"
          ],
          "name": "stdout"
        }
      ]
    }
  ]
}