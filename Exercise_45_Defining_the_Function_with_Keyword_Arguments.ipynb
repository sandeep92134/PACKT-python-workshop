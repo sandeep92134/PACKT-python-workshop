{
  "nbformat": 4,
  "nbformat_minor": 0,
  "metadata": {
    "colab": {
      "name": "Exercise 45: Defining the Function with Keyword Arguments",
      "provenance": [],
      "authorship_tag": "ABX9TyPCjgOycdAk/T4efIzoTRv4",
      "include_colab_link": true
    },
    "kernelspec": {
      "name": "python3",
      "display_name": "Python 3"
    }
  },
  "cells": [
    {
      "cell_type": "markdown",
      "metadata": {
        "id": "view-in-github",
        "colab_type": "text"
      },
      "source": [
        "<a href=\"https://colab.research.google.com/github/sandeep92134/PACKT-python-workshop/blob/main/Exercise_45_Defining_the_Function_with_Keyword_Arguments.ipynb\" target=\"_parent\"><img src=\"https://colab.research.google.com/assets/colab-badge.svg\" alt=\"Open In Colab\"/></a>"
      ]
    },
    {
      "cell_type": "markdown",
      "metadata": {
        "id": "pxu_WPXxWPEj"
      },
      "source": [
        "In this exercise, you will use the Python shell to define an **add_suffix** function that takes an default argument:\n",
        "\n",
        "1. In a Python shell, define the **add_suffix** function:"
      ]
    },
    {
      "cell_type": "code",
      "metadata": {
        "id": "x2Ur73ShQF8k"
      },
      "source": [
        "def add_suffix(suffix = '.com'):\n",
        "  return 'google' + suffix"
      ],
      "execution_count": 1,
      "outputs": []
    },
    {
      "cell_type": "markdown",
      "metadata": {
        "id": "zm8pXG9RWzDI"
      },
      "source": [
        "2. Call the **add_suffix** function without specifying the suffix argument:"
      ]
    },
    {
      "cell_type": "code",
      "metadata": {
        "colab": {
          "base_uri": "https://localhost:8080/",
          "height": 35
        },
        "id": "XmdElGx6W1iZ",
        "outputId": "aa6082a3-ea69-4808-9e75-233d0372f545"
      },
      "source": [
        "add_suffix()"
      ],
      "execution_count": 3,
      "outputs": [
        {
          "output_type": "execute_result",
          "data": {
            "application/vnd.google.colaboratory.intrinsic+json": {
              "type": "string"
            },
            "text/plain": [
              "'google.com'"
            ]
          },
          "metadata": {
            "tags": []
          },
          "execution_count": 3
        }
      ]
    },
    {
      "cell_type": "markdown",
      "metadata": {
        "id": "QbSdChfZW_Gl"
      },
      "source": [
        "3. Call the function with a specific **suffix** argument:\n"
      ]
    },
    {
      "cell_type": "code",
      "metadata": {
        "colab": {
          "base_uri": "https://localhost:8080/",
          "height": 35
        },
        "id": "s2t_eYerXQ_U",
        "outputId": "604517ee-734d-4c25-c872-100e255f9e0f"
      },
      "source": [
        "add_suffix('.co.uk')"
      ],
      "execution_count": 4,
      "outputs": [
        {
          "output_type": "execute_result",
          "data": {
            "application/vnd.google.colaboratory.intrinsic+json": {
              "type": "string"
            },
            "text/plain": [
              "'google.co.uk'"
            ]
          },
          "metadata": {
            "tags": []
          },
          "execution_count": 4
        }
      ]
    }
  ]
}