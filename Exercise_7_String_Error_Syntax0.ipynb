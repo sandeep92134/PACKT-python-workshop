{
  "nbformat": 4,
  "nbformat_minor": 0,
  "metadata": {
    "colab": {
      "name": "Exercise 7: String Error Syntax0.ipynb",
      "provenance": [],
      "collapsed_sections": [],
      "authorship_tag": "ABX9TyMzhAqEDnYvx+y/9pJP0/wy",
      "include_colab_link": true
    },
    "kernelspec": {
      "name": "python3",
      "display_name": "Python 3"
    }
  },
  "cells": [
    {
      "cell_type": "markdown",
      "metadata": {
        "id": "view-in-github",
        "colab_type": "text"
      },
      "source": [
        "<a href=\"https://colab.research.google.com/github/sandeep92134/PACKT-python-workshop/blob/main/Exercise_7_String_Error_Syntax0.ipynb\" target=\"_parent\"><img src=\"https://colab.research.google.com/assets/colab-badge.svg\" alt=\"Open In Colab\"/></a>"
      ]
    },
    {
      "cell_type": "markdown",
      "metadata": {
        "id": "0CYqEnjMJfII"
      },
      "source": [
        "#### The goal of this exercise is to learn appropriate string syntax:\n",
        "\n",
        "1. Open a Jupyter Notebook.\n",
        "2. Enter a valid string:"
      ]
    },
    {
      "cell_type": "code",
      "metadata": {
        "id": "KvBu6SSqJnA_"
      },
      "source": [
        "bookstore = 'City Lights'"
      ],
      "execution_count": 1,
      "outputs": []
    },
    {
      "cell_type": "markdown",
      "metadata": {
        "id": "nc5RllQbJzgM"
      },
      "source": [
        "3. Now enter an invalid string:"
      ]
    },
    {
      "cell_type": "code",
      "metadata": {
        "id": "MT6fsYcwJog8"
      },
      "source": [
        "bookstore = \"City Lights\""
      ],
      "execution_count": 2,
      "outputs": []
    },
    {
      "cell_type": "code",
      "metadata": {
        "id": "3kLvlBPbLCF-",
        "outputId": "7c931f5f-debd-44f8-c758-b36b9c581652",
        "colab": {
          "base_uri": "https://localhost:8080/",
          "height": 132
        }
      },
      "source": [
        "bookstore = 'City Lights\""
      ],
      "execution_count": 4,
      "outputs": [
        {
          "output_type": "error",
          "ename": "SyntaxError",
          "evalue": "ignored",
          "traceback": [
            "\u001b[0;36m  File \u001b[0;32m\"<ipython-input-4-9c3a3fab8dfa>\"\u001b[0;36m, line \u001b[0;32m1\u001b[0m\n\u001b[0;31m    bookstore = 'City Lights\"\u001b[0m\n\u001b[0m                             ^\u001b[0m\n\u001b[0;31mSyntaxError\u001b[0m\u001b[0;31m:\u001b[0m EOL while scanning string literal\n"
          ]
        }
      ]
    },
    {
      "cell_type": "markdown",
      "metadata": {
        "id": "SuWUDLmMKAfM"
      },
      "source": [
        "If you start with a single quote, you must end with a single quote. Since the string has not been completed, you receive a syntax error"
      ]
    },
    {
      "cell_type": "markdown",
      "metadata": {
        "id": "4k65gdjrKQuH"
      },
      "source": [
        "4. Now you need to enter a valid string format again, as in the following code snippet:"
      ]
    },
    {
      "cell_type": "code",
      "metadata": {
        "id": "rRA-37OFKCJg"
      },
      "source": [
        "bookstore = \"Moe's\""
      ],
      "execution_count": 5,
      "outputs": []
    },
    {
      "cell_type": "markdown",
      "metadata": {
        "id": "H533FlqIKxSY"
      },
      "source": [
        "This is a problem. You started and ended with single quotes, and then you added an s and another single quote.\n",
        "\n",
        "A couple of questions arise. The first is whether single or double quotes should be used. The answer is that it depends on developer preference. Double quotes are more traditional, and they can be used to avoid potentially problematic situations such as the aforementioned Moe's example. Single quotes eliminate the need to press the Shift key.\n",
        "\n",
        "In this exercise, you have learned the correct and incorrect ways of assigning strings to variables, including single and double-quotes."
      ]
    }
  ]
}