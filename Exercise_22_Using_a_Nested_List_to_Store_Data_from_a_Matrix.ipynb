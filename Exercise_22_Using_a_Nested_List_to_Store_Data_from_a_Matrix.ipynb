{
  "nbformat": 4,
  "nbformat_minor": 0,
  "metadata": {
    "colab": {
      "name": "Exercise 22: Using a Nested List to Store Data from a Matrix",
      "provenance": [],
      "authorship_tag": "ABX9TyMeyh/nJMilwRdRcSWGPbil",
      "include_colab_link": true
    },
    "kernelspec": {
      "name": "python3",
      "display_name": "Python 3"
    }
  },
  "cells": [
    {
      "cell_type": "markdown",
      "metadata": {
        "id": "view-in-github",
        "colab_type": "text"
      },
      "source": [
        "<a href=\"https://colab.research.google.com/github/sandeep92134/PACKT-python-workshop/blob/main/Exercise_22_Using_a_Nested_List_to_Store_Data_from_a_Matrix.ipynb\" target=\"_parent\"><img src=\"https://colab.research.google.com/assets/colab-badge.svg\" alt=\"Open In Colab\"/></a>"
      ]
    },
    {
      "cell_type": "markdown",
      "metadata": {
        "id": "USXOBBNjk0Ug"
      },
      "source": [
        "In this exercise, you will look at working with a nested list, storing values in it, and accessing it using a number of methods:\n",
        "\n",
        "1. Open a new Jupyter notebook.\n",
        "2. Enter the following code in a new cell:"
      ]
    },
    {
      "cell_type": "code",
      "metadata": {
        "id": "xBvCxPVzeCaO"
      },
      "source": [
        "m = [[1, 2, 3], [4, 5, 6]]"
      ],
      "execution_count": 1,
      "outputs": []
    },
    {
      "cell_type": "markdown",
      "metadata": {
        "id": "GPvG-yLalBq3"
      },
      "source": [
        "We can store the matrix as a series of lists inside a list which is called as a nested list.\n",
        "\n",
        "3. Now print list m:"
      ]
    },
    {
      "cell_type": "code",
      "metadata": {
        "id": "VbZv7sFPlItU",
        "outputId": "0f571afe-fd01-42a2-eee8-9c9161754c39",
        "colab": {
          "base_uri": "https://localhost:8080/"
        }
      },
      "source": [
        "print(m[1][1])"
      ],
      "execution_count": 2,
      "outputs": [
        {
          "output_type": "stream",
          "text": [
            "5\n"
          ],
          "name": "stdout"
        }
      ]
    },
    {
      "cell_type": "markdown",
      "metadata": {
        "id": "TnOAPmgzllKu"
      },
      "source": [
        " We can now access the elements using variable [row][column] notation. \n",
        "\n",
        "It prints the value of row 2, column 2, which is 5 (remember, we are using a zero-based index offset).\n",
        "\n",
        "4. Now, access each of the elements in the nested list matrix by retaining their reference index with two variables, i and j:"
      ]
    },
    {
      "cell_type": "code",
      "metadata": {
        "id": "O-C-0UpAl7jh",
        "outputId": "d25bd90c-bc56-4264-e452-0e831a534a2f",
        "colab": {
          "base_uri": "https://localhost:8080/"
        }
      },
      "source": [
        "for i in range(len(m)):\n",
        "  for j in range(len(m[i])):\n",
        "    print(m[i][j])"
      ],
      "execution_count": 3,
      "outputs": [
        {
          "output_type": "stream",
          "text": [
            "1\n",
            "2\n",
            "3\n",
            "4\n",
            "5\n",
            "6\n"
          ],
          "name": "stdout"
        }
      ]
    },
    {
      "cell_type": "markdown",
      "metadata": {
        "id": "qku9pFPZl8sl"
      },
      "source": [
        "The preceding code uses a for loop to iterate twice. In the outer loop (i), we iterate every single row in matrix m, and in the inner loop (j), we iterate every column in the row. Finally, we print the element in the corresponding position.\n",
        "\n",
        "5. Use two for...in loops to print all the elements within the matrix:"
      ]
    },
    {
      "cell_type": "code",
      "metadata": {
        "id": "u4_0M4jomLaW",
        "outputId": "cc8fa556-5ff3-48ae-f998-1c758e87895f",
        "colab": {
          "base_uri": "https://localhost:8080/"
        }
      },
      "source": [
        "for row in m:\n",
        "  for col in row:\n",
        "    print(col)"
      ],
      "execution_count": 4,
      "outputs": [
        {
          "output_type": "stream",
          "text": [
            "1\n",
            "2\n",
            "3\n",
            "4\n",
            "5\n",
            "6\n"
          ],
          "name": "stdout"
        }
      ]
    },
    {
      "cell_type": "markdown",
      "metadata": {
        "id": "nusKERS7mT5w"
      },
      "source": [
        "The for loop in the code used in step 4 iterates both the row and col. This type of notation does not require us to have prior knowledge of the matrix's dimensions.\n",
        "\n",
        "At the end of this exercise, you know how a nested list stored as a matrix works. You have also got to know the different ways of accessing values from nested lists. In Activity 6, Using a Nested List to Store Employee Data, you will implement the concepts you have learned about lists and nested lists to store employee data."
      ]
    }
  ]
}