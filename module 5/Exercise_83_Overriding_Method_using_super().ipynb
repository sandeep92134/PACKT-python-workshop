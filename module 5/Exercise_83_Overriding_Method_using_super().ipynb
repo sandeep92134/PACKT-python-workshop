{
  "nbformat": 4,
  "nbformat_minor": 0,
  "metadata": {
    "colab": {
      "name": "Exercise 83: Overriding Method using super()",
      "provenance": [],
      "authorship_tag": "ABX9TyMn27PkHWsspq3nYpVDJGIV",
      "include_colab_link": true
    },
    "kernelspec": {
      "name": "python3",
      "display_name": "Python 3"
    }
  },
  "cells": [
    {
      "cell_type": "markdown",
      "metadata": {
        "id": "view-in-github",
        "colab_type": "text"
      },
      "source": [
        "<a href=\"https://colab.research.google.com/github/sandeep92134/PACKT-python-workshop/blob/main/module%205/Exercise_83_Overriding_Method_using_super().ipynb\" target=\"_parent\"><img src=\"https://colab.research.google.com/assets/colab-badge.svg\" alt=\"Open In Colab\"/></a>"
      ]
    },
    {
      "cell_type": "markdown",
      "metadata": {
        "id": "EHY3OoRY1dZZ"
      },
      "source": [
        "The aim of this exercise is to learn how to override methods using the **super** function. You subclass our previously created **Diary** class and show how **super** can be used to modify the behavior of a class without unnecessarily repeating code:\r\n",
        "\r\n",
        "1. Import the **datetime** module:\r\n",
        "2. Start with the **Diary** class, as defined previously:\r\n",
        "3. Suppose you're unhappy with the fact that the hardcoded datetime format is in the **format_date** method, and you would prefer that a custom format can be specified for each **diary** object separately. One temptation would be to simply copy the whole class and start making modifications. However, when dealing with more complex classes, this is almost never a good option. Instead, let's subclass **Diary** and start by allowing it to be initialized with a custom **date_format** string:\r\n",
        "4. You also want to override the **format_date** method to use your new **date_format** attribute:\r\n",
        "5. Now when you create diary objects, each object can have a different string representation of the dates:\r\n"
      ]
    },
    {
      "cell_type": "code",
      "metadata": {
        "id": "KzELT9r6ybPf"
      },
      "source": [
        "import datetime\r\n",
        "\r\n",
        "class Diary():\r\n",
        "  def __init__(self, birthday, christmas):\r\n",
        "    self.birthday = birthday\r\n",
        "    self.christmas = christmas\r\n",
        "\r\n",
        "  @staticmethod\r\n",
        "  def format_date(date):\r\n",
        "    return date.strftime('%d-%b-%y')\r\n",
        "\r\n",
        "  def show_birthday(self):\r\n",
        "    return self.format_date(self.birthday)\r\n",
        "\r\n",
        "  def show_christmas(self):\r\n",
        "    return self.format_date(self.christmas)\r\n"
      ],
      "execution_count": 1,
      "outputs": []
    },
    {
      "cell_type": "code",
      "metadata": {
        "id": "AAZsS7TO2wXo"
      },
      "source": [
        "class CustomDiary(Diary):\r\n",
        "    def __init__(self, birthday, christmas, date_format):\r\n",
        "        self.date_format = date_format\r\n",
        "        super().__init__(birthday, christmas)\r\n",
        "    \r\n",
        "    def format_date(self, date):\r\n",
        "        return date.strftime(self.date_format)"
      ],
      "execution_count": 2,
      "outputs": []
    },
    {
      "cell_type": "code",
      "metadata": {
        "colab": {
          "base_uri": "https://localhost:8080/"
        },
        "id": "TYJFhPCh6dEQ",
        "outputId": "514b0216-c958-4a2b-bd9a-b69a0f929d95"
      },
      "source": [
        "first_diary = CustomDiary(datetime.date(2020,1,1), datetime.date(2020,3,3), '%d-%b-%Y')\r\n",
        "second_diary = CustomDiary(datetime.date(2020,1,1), datetime.date(2020,3,3), '%d/%m/%Y')\r\n",
        "\r\n",
        "print(first_diary.show_birthday())\r\n",
        "print(second_diary.show_christmas())"
      ],
      "execution_count": 4,
      "outputs": [
        {
          "output_type": "stream",
          "text": [
            "01-Jan-2020\n",
            "03/03/2020\n"
          ],
          "name": "stdout"
        }
      ]
    },
    {
      "cell_type": "markdown",
      "metadata": {
        "id": "JtDGBxeo2tIu"
      },
      "source": [
        "In this exercise, you learned how to override methods using the super function. This allows you to more carefully override methods in the parent classes you inherit from."
      ]
    }
  ]
}