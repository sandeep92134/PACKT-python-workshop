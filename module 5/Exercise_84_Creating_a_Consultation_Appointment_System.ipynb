{
  "nbformat": 4,
  "nbformat_minor": 0,
  "metadata": {
    "colab": {
      "name": "Exercise 84: Creating a Consultation Appointment System",
      "provenance": [],
      "authorship_tag": "ABX9TyMarG+HF6s0YnOmq83lRNGW",
      "include_colab_link": true
    },
    "kernelspec": {
      "name": "python3",
      "display_name": "Python 3"
    }
  },
  "cells": [
    {
      "cell_type": "markdown",
      "metadata": {
        "id": "view-in-github",
        "colab_type": "text"
      },
      "source": [
        "<a href=\"https://colab.research.google.com/github/sandeep92134/PACKT-python-workshop/blob/main/module%205/Exercise_84_Creating_a_Consultation_Appointment_System.ipynb\" target=\"_parent\"><img src=\"https://colab.research.google.com/assets/colab-badge.svg\" alt=\"Open In Colab\"/></a>"
      ]
    },
    {
      "cell_type": "markdown",
      "metadata": {
        "id": "cfJhO0vA7iaa"
      },
      "source": [
        "Suppose you are running a hospital and building a consultation appointment system. You want to be able to schedule appointments for various types of patients.\r\n",
        "\r\n",
        "In this exercise, you start with our previously defined **Adult** and **Baby** classes and create **OrganizedAdult** and **OrganizedBaby** classes by inheriting from a second parent class, **Calendar**:\r\n",
        "\r\n",
        "1. Import the **datetime** module:\r\n",
        "2. Start with the **Baby** and **Adult** classes, as defined previously:\r\n",
        "3. Create a **Calendar** class that you can use to help our adults and babies become more organized:\r\n",
        "4. Create **OrganizedBaby** and **OrganizedAdult** classes that inherit from multiple parent classes:\r\n",
        "5. Create some objects from your new classes and test their methods:\r\n",
        "6. Suppose you wanted to warn the user when they try to book an appointment with a baby. You could override the **book_appointment** method, using the **super()** method to run the **book_appointment** method on the **Calendar** class:\r\n",
        "7. Now test whether it works:"
      ]
    },
    {
      "cell_type": "code",
      "metadata": {
        "id": "JuRdDQDd7VKx"
      },
      "source": [
        "import datetime\r\n",
        "\r\n",
        "class Person():\r\n",
        "    def __init__(self, first_name, last_name):\r\n",
        "        self.first_name = first_name\r\n",
        "        self.last_name = last_name\r\n",
        "\r\n",
        "class Baby(Person):\r\n",
        "    def speak(self):\r\n",
        "        print('Blah blah blah')\r\n",
        "\r\n",
        "class Adult(Person):\r\n",
        "    def speak(self):\r\n",
        "        print('Hello, my name is %s' % self.first_name)"
      ],
      "execution_count": 1,
      "outputs": []
    },
    {
      "cell_type": "code",
      "metadata": {
        "id": "V1zajlQ688DE"
      },
      "source": [
        "class calendar():\r\n",
        "  def book_appointment(self, date):\r\n",
        "    print('Book appointment for the date %s' % date) "
      ],
      "execution_count": 2,
      "outputs": []
    },
    {
      "cell_type": "code",
      "metadata": {
        "id": "Lgoh_Rm188R2"
      },
      "source": [
        "class organizedbaby(Baby, calendar):\r\n",
        "  pass\r\n",
        "\r\n",
        "class organizedadult(Adult, calendar):\r\n",
        "  pass  "
      ],
      "execution_count": 3,
      "outputs": []
    },
    {
      "cell_type": "code",
      "metadata": {
        "colab": {
          "base_uri": "https://localhost:8080/"
        },
        "id": "NYMFD97688l6",
        "outputId": "d6195153-d0a4-4f1e-f123-936b313d0cbf"
      },
      "source": [
        "andres = organizedadult('Andres', 'Gomez')\r\n",
        "boris = organizedbaby('Boris', 'Bumblebutton')\r\n",
        "\r\n",
        "andres.speak()\r\n",
        "boris.speak()\r\n",
        "boris.book_appointment(datetime.date(2020,1,1))"
      ],
      "execution_count": 4,
      "outputs": [
        {
          "output_type": "stream",
          "text": [
            "Hello, my name is Andres\n",
            "Blah blah blah\n",
            "Book appointment for the date 2020-01-01\n"
          ],
          "name": "stdout"
        }
      ]
    },
    {
      "cell_type": "code",
      "metadata": {
        "colab": {
          "base_uri": "https://localhost:8080/"
        },
        "id": "i7XUmfhX-2QF",
        "outputId": "9ee28631-f90b-424a-9225-7c235fdb5be7"
      },
      "source": [
        "class OrganizedBaby(Baby, calendar):\r\n",
        "    def book_appointment(self, date):\r\n",
        "        print('Note that you are booking an appointment with a baby.')\r\n",
        "        super().book_appointment(date)\r\n",
        "\r\n",
        "boris = OrganizedBaby('Boris', 'Bumblebutton')\r\n",
        "boris.book_appointment(datetime.date(2020,12,26))"
      ],
      "execution_count": 6,
      "outputs": [
        {
          "output_type": "stream",
          "text": [
            "Note that you are booking an appointment with a baby.\n",
            "Book appointment for the date 2020-12-26\n"
          ],
          "name": "stdout"
        }
      ]
    },
    {
      "cell_type": "markdown",
      "metadata": {
        "id": "YvldG70E8k3C"
      },
      "source": [
        "Note that it's not always necessary to use inheritance when building your classes. If you only have one child class, having a parent class is often unnecessary. In fact, your code may be more readable if it's all stored in one class. Sometimes, the job of a good programmer is to consider the future and answer the question, \"Will it become useful at some point to have built this with multiple inherited classes?\" Answering this question simply becomes easier with experience."
      ]
    }
  ]
}