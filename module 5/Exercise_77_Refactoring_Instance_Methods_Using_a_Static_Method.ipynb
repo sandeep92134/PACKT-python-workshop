{
  "nbformat": 4,
  "nbformat_minor": 0,
  "metadata": {
    "colab": {
      "name": "Exercise 77: Refactoring Instance Methods Using a Static Method",
      "provenance": [],
      "authorship_tag": "ABX9TyMs12NTHu2FnrsEvbF1N4CA",
      "include_colab_link": true
    },
    "kernelspec": {
      "name": "python3",
      "display_name": "Python 3"
    }
  },
  "cells": [
    {
      "cell_type": "markdown",
      "metadata": {
        "id": "view-in-github",
        "colab_type": "text"
      },
      "source": [
        "<a href=\"https://colab.research.google.com/github/sandeep92134/PACKT-python-workshop/blob/main/module%205/Exercise_77_Refactoring_Instance_Methods_Using_a_Static_Method.ipynb\" target=\"_parent\"><img src=\"https://colab.research.google.com/assets/colab-badge.svg\" alt=\"Open In Colab\"/></a>"
      ]
    },
    {
      "cell_type": "markdown",
      "metadata": {
        "id": "WUKJ_64b_63Z"
      },
      "source": [
        "Static methods are used to store utilities related to a class. In this exercise, you create a Diary class and show how you can use a static method to apply the Do Not Repeat Yourself (DRY) principle (refer to Chapter 3, Executing Python – Programs, Algorithms, and Functions which discussed helper functions) to refactor our code:\r\n",
        "\r\n",
        "1. Create a simple Diary class that stores two dates:\r\n",
        "2. Suppose you want to be able to view the dates in a custom date format. Add two instance methods that print out the dates in dd-mm-yy format:\r\n",
        "3. Create a new Diary object and test one of the methods:"
      ]
    },
    {
      "cell_type": "code",
      "metadata": {
        "id": "5nWzFkms_40Y"
      },
      "source": [
        "import datetime\r\n",
        "class Diary():\r\n",
        "  def __init__(self, birthday, christmas):\r\n",
        "    self.birthday = birthday\r\n",
        "    self.christmas = christmas\r\n",
        "\r\n",
        "  def show_birthday(self):\r\n",
        "    return self.birthday.strftime('%d-%b-%y')\r\n",
        "\r\n",
        "  def show_christmas(self):\r\n",
        "    return self.christmas.strftime('%d-%b-%y')  "
      ],
      "execution_count": 1,
      "outputs": []
    },
    {
      "cell_type": "code",
      "metadata": {
        "colab": {
          "base_uri": "https://localhost:8080/",
          "height": 35
        },
        "id": "1E3Qry4JBILw",
        "outputId": "e4fcdfa1-fa0b-44f9-c1c3-9953568973a1"
      },
      "source": [
        "my_diary = Diary(datetime.date(2020, 5, 14), datetime.date(2020, 12, 25))\r\n",
        "my_diary.show_birthday()"
      ],
      "execution_count": 4,
      "outputs": [
        {
          "output_type": "execute_result",
          "data": {
            "application/vnd.google.colaboratory.intrinsic+json": {
              "type": "string"
            },
            "text/plain": [
              "'14-May-20'"
            ]
          },
          "metadata": {
            "tags": []
          },
          "execution_count": 4
        }
      ]
    },
    {
      "cell_type": "markdown",
      "metadata": {
        "id": "gm5KciTHBfcK"
      },
      "source": [
        "4. Imagine you had a more complex Diary class, where you needed to format dates in this custom manner throughout our code. You would have the line strftime('%d-%b-%y') appearing many times in our code. If someone came to you and asked you to update the display format throughout the entire code base, you would need to change the code in lots of places. Instead, you could create a format_date static method utility to store this logic once:"
      ]
    },
    {
      "cell_type": "code",
      "metadata": {
        "id": "TVV51xarBegE"
      },
      "source": [
        "class Diary():\r\n",
        "    def __init__(self, birthday, christmas):\r\n",
        "        self.birthday = birthday\r\n",
        "        self.christmas = christmas\r\n",
        "    \r\n",
        "    @staticmethod\r\n",
        "    def format_date(date):\r\n",
        "        return date.strftime('%d-%b-%y')\r\n",
        "    \r\n",
        "    def show_birthday(self):\r\n",
        "        return self.format_date(self.birthday)\r\n",
        "\r\n",
        "    def show_christmas(self):\r\n",
        "        return self.format_date(self.christmas)"
      ],
      "execution_count": 5,
      "outputs": []
    },
    {
      "cell_type": "code",
      "metadata": {
        "id": "ibP3Mf-uCAt2"
      },
      "source": [
        ""
      ],
      "execution_count": null,
      "outputs": []
    }
  ]
}