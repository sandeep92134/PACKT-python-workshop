{
  "nbformat": 4,
  "nbformat_minor": 0,
  "metadata": {
    "colab": {
      "name": "Exercise 81: Inheriting from the Person Class",
      "provenance": [],
      "authorship_tag": "ABX9TyPvjYcaISw2dozlA5qCdvGe",
      "include_colab_link": true
    },
    "kernelspec": {
      "name": "python3",
      "display_name": "Python 3"
    }
  },
  "cells": [
    {
      "cell_type": "markdown",
      "metadata": {
        "id": "view-in-github",
        "colab_type": "text"
      },
      "source": [
        "<a href=\"https://colab.research.google.com/github/sandeep92134/PACKT-python-workshop/blob/main/module%205/Exercise_81_Inheriting_from_the_Person_Class.ipynb\" target=\"_parent\"><img src=\"https://colab.research.google.com/assets/colab-badge.svg\" alt=\"Open In Colab\"/></a>"
      ]
    },
    {
      "cell_type": "markdown",
      "metadata": {
        "id": "gfcFS9JYs14a"
      },
      "source": [
        "The goal of this exercise is to see how methods and attributes are inherited by child classes from parent classes.\r\n",
        "\r\n",
        "In this exercise, you will create a **Baby** class and an **Adult** class, which will both inherit from a common **Person** class:\r\n",
        "\r\n",
        "1. Start with the following **Person** class definition, which takes a first and last name as inputs in the **__init__** function:\r\n",
        "2. Create a **Baby** class that inherits from **Person**, and add a **speak** instance method:\r\n",
        "3. Do the same for an **Adult** class:\r\n",
        "4. Create a **Baby** and an **Adult** object, and make them **speak**:\r\n"
      ]
    },
    {
      "cell_type": "code",
      "metadata": {
        "id": "KAo_mflNqgfo"
      },
      "source": [
        "class person():\r\n",
        "  def __init__(self, first_name, last_name):\r\n",
        "    self.first_name = first_name\r\n",
        "    self.last_name = last_name\r\n",
        "    "
      ],
      "execution_count": 1,
      "outputs": []
    },
    {
      "cell_type": "code",
      "metadata": {
        "id": "HKjD4GP_uO4Z"
      },
      "source": [
        "class baby(person):\r\n",
        "  def speak(self):\r\n",
        "    print('blah blah blah')\r\n",
        "\r\n",
        "class adult(person):\r\n",
        "  def speak(self):\r\n",
        "    print('Hello , my name is %s' % self.first_name)    "
      ],
      "execution_count": 2,
      "outputs": []
    },
    {
      "cell_type": "code",
      "metadata": {
        "colab": {
          "base_uri": "https://localhost:8080/"
        },
        "id": "V3J7tJiavG7v",
        "outputId": "aa184e40-3731-4653-e5cd-8ff8c7b8c6ae"
      },
      "source": [
        "jess = baby('Jessie', 'Mcdonald')\r\n",
        "tom = adult('Thomas', 'Smith')\r\n",
        "\r\n",
        "jess.speak()\r\n",
        "tom.speak()"
      ],
      "execution_count": 4,
      "outputs": [
        {
          "output_type": "stream",
          "text": [
            "blah blah blah\n",
            "Hello , my name is Thomas\n"
          ],
          "name": "stdout"
        }
      ]
    },
    {
      "cell_type": "markdown",
      "metadata": {
        "id": "triWm0KDti7_"
      },
      "source": [
        "In this exercise, you learned how to inherit attributes and methods between classes."
      ]
    }
  ]
}