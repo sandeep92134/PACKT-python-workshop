{
  "nbformat": 4,
  "nbformat_minor": 0,
  "metadata": {
    "colab": {
      "name": "Exercise 71: Creating a Pet Class",
      "provenance": [],
      "authorship_tag": "ABX9TyO2EFKRdmsrJk05wzDyKbNO",
      "include_colab_link": true
    },
    "kernelspec": {
      "name": "python3",
      "display_name": "Python 3"
    }
  },
  "cells": [
    {
      "cell_type": "markdown",
      "metadata": {
        "id": "view-in-github",
        "colab_type": "text"
      },
      "source": [
        "<a href=\"https://colab.research.google.com/github/sandeep92134/PACKT-python-workshop/blob/main/module%205/Exercise_71_Creating_a_Pet_Class.ipynb\" target=\"_parent\"><img src=\"https://colab.research.google.com/assets/colab-badge.svg\" alt=\"Open In Colab\"/></a>"
      ]
    },
    {
      "cell_type": "markdown",
      "metadata": {
        "id": "HAbkLLILNn23"
      },
      "source": [
        "The aim of this exercise is to create our first class. You will create a new class called **Pet** with class attributes and a docstring. You will also create instances of this class:\n",
        "\n",
        "1. Define a **Pet** class with two class attributes is_human and owner\n",
        "and a docstring. Set **is_human as False** and **Michael Smith as owner**:"
      ]
    },
    {
      "cell_type": "code",
      "metadata": {
        "id": "S8QO8nVdK52U"
      },
      "source": [
        "class pet():\n",
        "  \"\"\"\n",
        "   A class to capture useful information regarding my pets, just incase\n",
        "    I lose track of them.\n",
        "  \"\"\"\n",
        "  is_human = False\n",
        "  owner = 'Michael Smith'  "
      ],
      "execution_count": 1,
      "outputs": []
    },
    {
      "cell_type": "markdown",
      "metadata": {
        "id": "MI71WEVuOnQA"
      },
      "source": [
        "2. Create an instance of this class:\n"
      ]
    },
    {
      "cell_type": "code",
      "metadata": {
        "id": "Ol73LRItL2wa"
      },
      "source": [
        "chubbles = pet()"
      ],
      "execution_count": 2,
      "outputs": []
    },
    {
      "cell_type": "markdown",
      "metadata": {
        "id": "OA4L4zvZPAYX"
      },
      "source": [
        "3. Check the **is_human** properties of our new pet, **chubbles**:"
      ]
    },
    {
      "cell_type": "code",
      "metadata": {
        "colab": {
          "base_uri": "https://localhost:8080/"
        },
        "id": "KVDMpIIoMIRv",
        "outputId": "b9ee5a99-47e2-4902-d30c-b7464b450366"
      },
      "source": [
        "chubbles.is_human"
      ],
      "execution_count": 3,
      "outputs": [
        {
          "output_type": "execute_result",
          "data": {
            "text/plain": [
              "False"
            ]
          },
          "metadata": {
            "tags": []
          },
          "execution_count": 3
        }
      ]
    },
    {
      "cell_type": "markdown",
      "metadata": {
        "id": "Cp81i2I5PX8b"
      },
      "source": [
        "4. Check the owner:"
      ]
    },
    {
      "cell_type": "code",
      "metadata": {
        "colab": {
          "base_uri": "https://localhost:8080/"
        },
        "id": "ZeWRMzySMNRa",
        "outputId": "a4976aae-5053-466b-f2ee-32d47e6040a7"
      },
      "source": [
        "chubbles.owner\n",
        "print(chubbles.__doc__)"
      ],
      "execution_count": 4,
      "outputs": [
        {
          "output_type": "stream",
          "text": [
            "\n",
            "   A class to capture useful information regarding my pets, just incase\n",
            "    I lose track of them.\n",
            "  \n"
          ],
          "name": "stdout"
        }
      ]
    },
    {
      "cell_type": "code",
      "metadata": {
        "colab": {
          "base_uri": "https://localhost:8080/",
          "height": 35
        },
        "id": "Qvef-QByMztD",
        "outputId": "d6916a04-bbbb-472d-ae41-362a35e6d84b"
      },
      "source": [
        "chubbles.owner"
      ],
      "execution_count": 5,
      "outputs": [
        {
          "output_type": "execute_result",
          "data": {
            "application/vnd.google.colaboratory.intrinsic+json": {
              "type": "string"
            },
            "text/plain": [
              "'Michael Smith'"
            ]
          },
          "metadata": {
            "tags": []
          },
          "execution_count": 5
        }
      ]
    },
    {
      "cell_type": "markdown",
      "metadata": {
        "id": "mmHYJ_HMP9JZ"
      },
      "source": [
        "In this exercise, you created our first class and examined the properties of an object created with our new class."
      ]
    }
  ]
}