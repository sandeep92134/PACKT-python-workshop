{
  "nbformat": 4,
  "nbformat_minor": 0,
  "metadata": {
    "colab": {
      "name": "Exercise 75: Computing the Size of Our Country",
      "provenance": [],
      "authorship_tag": "ABX9TyPJjnUx7CFud2KO8vHXTERu",
      "include_colab_link": true
    },
    "kernelspec": {
      "name": "python3",
      "display_name": "Python 3"
    }
  },
  "cells": [
    {
      "cell_type": "markdown",
      "metadata": {
        "id": "view-in-github",
        "colab_type": "text"
      },
      "source": [
        "<a href=\"https://colab.research.google.com/github/sandeep92134/PACKT-python-workshop/blob/main/module%205/Exercise_75_Computing_the_Size_of_Our_Country.ipynb\" target=\"_parent\"><img src=\"https://colab.research.google.com/assets/colab-badge.svg\" alt=\"Open In Colab\"/></a>"
      ]
    },
    {
      "cell_type": "markdown",
      "metadata": {
        "id": "kYW7jkZq4lTO"
      },
      "source": [
        "The aim of this exercise is to use a keyword argument in the context of an instance method.\r\n",
        "\r\n",
        "You create a Country class and add a method to calculate the area of the country in square miles:\r\n",
        "\r\n",
        "1. Start with the following definition of Country, which allows the name, population, and size in square kilometers to be specified"
      ]
    },
    {
      "cell_type": "code",
      "metadata": {
        "id": "2hy_fmLK4RJ-"
      },
      "source": [
        "class country():\r\n",
        "  def __init__(self, name='Unspecified', population=None, size_kmsq=None):\r\n",
        "    self.name = name\r\n",
        "    self.population = population\r\n",
        "    self.size_kmsq = size_kmsq"
      ],
      "execution_count": 2,
      "outputs": []
    },
    {
      "cell_type": "markdown",
      "metadata": {
        "id": "W7GvDgu05l8h"
      },
      "source": [
        "2. There are 0.621371 miles in a kilometer. Use this constant to write a method that returns the size in square miles. The class should now look like this:"
      ]
    },
    {
      "cell_type": "code",
      "metadata": {
        "id": "rZCim56S5lLn"
      },
      "source": [
        "class country():\r\n",
        "    def __init__(self, name='Unspecified', population=None, size_kmsq=None):\r\n",
        "        self.name = name\r\n",
        "        self.population = population\r\n",
        "        self.size_kmsq = size_kmsq\r\n",
        "        \r\n",
        "    def size_miles_sq(self, conversion_rate=0.621371):\r\n",
        "        return self.size_kmsq * conversion_rate ** 2"
      ],
      "execution_count": 3,
      "outputs": []
    },
    {
      "cell_type": "markdown",
      "metadata": {
        "id": "oLjQQtNS6CLg"
      },
      "source": [
        "3. Create a new Country and check the conversion:"
      ]
    },
    {
      "cell_type": "code",
      "metadata": {
        "colab": {
          "base_uri": "https://localhost:8080/"
        },
        "id": "HR9-UapF58vo",
        "outputId": "69fe2792-c3e1-40c0-f912-7f9af098e59e"
      },
      "source": [
        "ban = country(name='Bangladesh', size_kmsq=148460)\r\n",
        "\r\n",
        "ban.size_miles_sq()"
      ],
      "execution_count": 4,
      "outputs": [
        {
          "output_type": "execute_result",
          "data": {
            "text/plain": [
              "57320.69098990286"
            ]
          },
          "metadata": {
            "tags": []
          },
          "execution_count": 4
        }
      ]
    },
    {
      "cell_type": "markdown",
      "metadata": {
        "id": "SLpax8t17Czi"
      },
      "source": [
        "4. Suppose someone told you the conversion rate was incorrect, and that there are 0.6 miles in a kilometer. Without changing the default parameter, recalculate the size of bangladesh in square miles using the new rate:"
      ]
    },
    {
      "cell_type": "code",
      "metadata": {
        "colab": {
          "base_uri": "https://localhost:8080/"
        },
        "id": "O0wzvtYR7B6r",
        "outputId": "420340f9-6ea5-4e0a-ff0e-b7210b996bd0"
      },
      "source": [
        "ban.size_miles_sq(conversion_rate=0.6)"
      ],
      "execution_count": 6,
      "outputs": [
        {
          "output_type": "execute_result",
          "data": {
            "text/plain": [
              "53445.6"
            ]
          },
          "metadata": {
            "tags": []
          },
          "execution_count": 6
        }
      ]
    }
  ]
}