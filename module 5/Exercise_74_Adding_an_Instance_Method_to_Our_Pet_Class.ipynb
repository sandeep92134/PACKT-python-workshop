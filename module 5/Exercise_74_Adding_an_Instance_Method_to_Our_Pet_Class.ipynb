{
  "nbformat": 4,
  "nbformat_minor": 0,
  "metadata": {
    "colab": {
      "name": "Exercise 74: Adding an Instance Method to Our Pet Class",
      "provenance": [],
      "authorship_tag": "ABX9TyMopMqR/0BeaQt8T/3wilDJ",
      "include_colab_link": true
    },
    "kernelspec": {
      "name": "python3",
      "display_name": "Python 3"
    }
  },
  "cells": [
    {
      "cell_type": "markdown",
      "metadata": {
        "id": "view-in-github",
        "colab_type": "text"
      },
      "source": [
        "<a href=\"https://colab.research.google.com/github/sandeep92134/PACKT-python-workshop/blob/main/module%205/Exercise_74_Adding_an_Instance_Method_to_Our_Pet_Class.ipynb\" target=\"_parent\"><img src=\"https://colab.research.google.com/assets/colab-badge.svg\" alt=\"Open In Colab\"/></a>"
      ]
    },
    {
      "cell_type": "code",
      "metadata": {
        "id": "S8QO8nVdK52U"
      },
      "source": [
        "class pet():\n",
        "  def __init__(self, height):\n",
        "    self.height = height\n",
        "    \n",
        "  is_human = False\n",
        "  owner = 'Michael Smith'  "
      ],
      "execution_count": 1,
      "outputs": []
    },
    {
      "cell_type": "markdown",
      "metadata": {
        "id": "Sg_L83u51JX5"
      },
      "source": [
        "2. Add a new method that allows you to check whether your **pet** is tall or not, where your definition of tall is where Pet has a height of at least **50**:"
      ]
    },
    {
      "cell_type": "code",
      "metadata": {
        "id": "CHdy1PcW1QD-"
      },
      "source": [
        "class pet():\r\n",
        "  def __init__(self, height):\r\n",
        "    self.height = height\r\n",
        "    \r\n",
        "  is_human = False\r\n",
        "  owner = 'Michael Smith'  \r\n",
        "\r\n",
        "  def is_tall(self):\r\n",
        "    return self.height >= 50"
      ],
      "execution_count": 2,
      "outputs": []
    },
    {
      "cell_type": "markdown",
      "metadata": {
        "id": "Xrhbg9fS1tW3"
      },
      "source": [
        "3. Now, create a **Pet** and check whether he is tall:"
      ]
    },
    {
      "cell_type": "code",
      "metadata": {
        "colab": {
          "base_uri": "https://localhost:8080/"
        },
        "id": "PUs48wuH1yd5",
        "outputId": "0d138dbb-4a8c-4c3d-f990-4a689d8a7ccc"
      },
      "source": [
        "bowser = pet(40)\r\n",
        "bowser.is_tall()"
      ],
      "execution_count": 4,
      "outputs": [
        {
          "output_type": "execute_result",
          "data": {
            "text/plain": [
              "False"
            ]
          },
          "metadata": {
            "tags": []
          },
          "execution_count": 4
        }
      ]
    },
    {
      "cell_type": "markdown",
      "metadata": {
        "id": "QuwOizd52myW"
      },
      "source": [
        "4. Now suppose that Bowser grows. Then you need to update his height and check again whether he is tall:"
      ]
    },
    {
      "cell_type": "code",
      "metadata": {
        "colab": {
          "base_uri": "https://localhost:8080/"
        },
        "id": "T8jh30l42p4q",
        "outputId": "5379ddf9-7710-489e-e538-adcf23b05350"
      },
      "source": [
        "bowser.height = 60\r\n",
        "bowser.is_tall()"
      ],
      "execution_count": 5,
      "outputs": [
        {
          "output_type": "execute_result",
          "data": {
            "text/plain": [
              "True"
            ]
          },
          "metadata": {
            "tags": []
          },
          "execution_count": 5
        }
      ]
    }
  ]
}