{
  "nbformat": 4,
  "nbformat_minor": 0,
  "metadata": {
    "colab": {
      "name": "Activity 14: Creating Classes and Inheriting from a Parent Class.ipynb",
      "provenance": [],
      "authorship_tag": "ABX9TyPtm0h+Gq2aBa9Dl9QlgGPX",
      "include_colab_link": true
    },
    "kernelspec": {
      "name": "python3",
      "display_name": "Python 3"
    }
  },
  "cells": [
    {
      "cell_type": "markdown",
      "metadata": {
        "id": "view-in-github",
        "colab_type": "text"
      },
      "source": [
        "<a href=\"https://colab.research.google.com/github/sandeep92134/PACKT-python-workshop/blob/main/module%205/Activity_14_Creating_Classes_and_Inheriting_from_a_Parent_Class.ipynb\" target=\"_parent\"><img src=\"https://colab.research.google.com/assets/colab-badge.svg\" alt=\"Open In Colab\"/></a>"
      ]
    },
    {
      "cell_type": "markdown",
      "metadata": {
        "id": "YjyDXIh7CPvc"
      },
      "source": [
        "Suppose you are writing a computer game where the graphics are made up of various types of shapes. Each shape has certain properties, such as the number of edges, area, color, and so on. The shapes also behave in different ways. You want to be able to customize the way each shape behaves independently, while also not duplicating any code between the definition of each shape.\r\n",
        "\r\n",
        "The aim of this activity is to create classes that can be used to represent a rectangle and a square. These two classes will inherit from a parent class called **Polygon**. The **Rectangle** and **Square** classes will have a property for computing the number of sides, perimeter, and area of the shape:\r\n",
        "\r\n",
        "1. Add a **num_sides** property to the **Polygon** class that returns the number of sides.\r\n",
        "2. Add a **perimeter** property to the **Polygon** class.\r\n",
        "3. Add a **docstring** to the **Polygon** class.\r\n",
        "4. Add a **__str__** method to the **Polygon** class that represents the polygon as \"Polygon with X sides\", where **X** is the actual number of sides of the **Polygon** instance.\r\n",
        "5. Create a child class called **Rectangle**, which accepts two arguments from the user in the **init** method: **height** and **width**.\r\n",
        "6. Add an area property to **Rectangle**.\r\n",
        "7. Create a **Rectangle** object and check the computation of the area and perimeter:\r\n",
        "8. Create a child class called **Square** that inherits from **Rectangle**. You should only take one argument from the user when initializing a square:\r\n",
        "9. Create a **Square** object and check the computation of the area and perimeter:"
      ]
    },
    {
      "cell_type": "code",
      "metadata": {
        "id": "gx5li9jNAm1l"
      },
      "source": [
        "class Polygon():\r\n",
        "    \"\"\"A class to capture common utilities for dealing with shapes\"\"\"\r\n",
        "    def __init__(self, side_lengths):\r\n",
        "        self.side_lengths = side_lengths\r\n",
        "        \r\n",
        "    def __str__(self):\r\n",
        "        return 'Polygon with %s sides' % self.num_sides \r\n",
        "        \r\n",
        "    @property\r\n",
        "    def num_sides(self):\r\n",
        "        return len(self.side_lengths)\r\n",
        "        \r\n",
        "    @property\r\n",
        "    def perimeter(self):\r\n",
        "        return sum(self.side_lengths)"
      ],
      "execution_count": 1,
      "outputs": []
    },
    {
      "cell_type": "code",
      "metadata": {
        "id": "_wX1XPDyEEs2"
      },
      "source": [
        "class Rectangle(Polygon):\r\n",
        "    def __init__(self, height, width):\r\n",
        "        super().__init__([height, width, height, width])\r\n",
        "        \r\n",
        "    @property\r\n",
        "    def area(self):\r\n",
        "        return self.side_lengths[0] * self.side_lengths[1]       "
      ],
      "execution_count": 2,
      "outputs": []
    },
    {
      "cell_type": "code",
      "metadata": {
        "id": "LzcuHeBHEQyx"
      },
      "source": [
        "class Square(Rectangle):\r\n",
        "    def __init__(self, height):\r\n",
        "        super().__init__(height, height)"
      ],
      "execution_count": 3,
      "outputs": []
    },
    {
      "cell_type": "code",
      "metadata": {
        "colab": {
          "base_uri": "https://localhost:8080/"
        },
        "id": "4YY3SutaEgMd",
        "outputId": "100ae283-454f-4517-fff2-a82ed916d186"
      },
      "source": [
        "r = Rectangle(1, 5)\r\n",
        "r.area, r.perimeter"
      ],
      "execution_count": 5,
      "outputs": [
        {
          "output_type": "execute_result",
          "data": {
            "text/plain": [
              "(5, 12)"
            ]
          },
          "metadata": {
            "tags": []
          },
          "execution_count": 5
        }
      ]
    },
    {
      "cell_type": "code",
      "metadata": {
        "colab": {
          "base_uri": "https://localhost:8080/"
        },
        "id": "frZq_Nv7E1z-",
        "outputId": "e5f6f9d0-8394-416e-e8af-aa0e8c786c1e"
      },
      "source": [
        "s = Square(5)\r\n",
        "s.area, s.perimeter"
      ],
      "execution_count": 6,
      "outputs": [
        {
          "output_type": "execute_result",
          "data": {
            "text/plain": [
              "(25, 20)"
            ]
          },
          "metadata": {
            "tags": []
          },
          "execution_count": 6
        }
      ]
    }
  ]
}