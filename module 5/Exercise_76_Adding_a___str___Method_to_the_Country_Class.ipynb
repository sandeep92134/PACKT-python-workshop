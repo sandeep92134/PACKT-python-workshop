{
  "nbformat": 4,
  "nbformat_minor": 0,
  "metadata": {
    "colab": {
      "name": "Exercise 76: Adding a __str__ Method to the Country Class",
      "provenance": [],
      "authorship_tag": "ABX9TyM6lBgqk1S1RaeedboJix8Y",
      "include_colab_link": true
    },
    "kernelspec": {
      "name": "python3",
      "display_name": "Python 3"
    }
  },
  "cells": [
    {
      "cell_type": "markdown",
      "metadata": {
        "id": "view-in-github",
        "colab_type": "text"
      },
      "source": [
        "<a href=\"https://colab.research.google.com/github/sandeep92134/PACKT-python-workshop/blob/main/module%205/Exercise_76_Adding_a___str___Method_to_the_Country_Class.ipynb\" target=\"_parent\"><img src=\"https://colab.research.google.com/assets/colab-badge.svg\" alt=\"Open In Colab\"/></a>"
      ]
    },
    {
      "cell_type": "markdown",
      "metadata": {
        "id": "kYW7jkZq4lTO"
      },
      "source": [
        "The aim of this exercise is to learn how to add string methods in order to give more helpful string representations of objects when printed to the console.\r\n",
        "\r\n",
        "You extend the Country class from Exercise 75, Computing the Size of Our Country by adding an __str__ method to customize how the object is rendered as a string:\r\n",
        "\r\n",
        "1. Start with our previous definition of Country:\r\n",
        "2. Add a simple string method that returns the name of the country:\r\n",
        "3. Create a new country and test the string method:"
      ]
    },
    {
      "cell_type": "code",
      "metadata": {
        "id": "2hy_fmLK4RJ-"
      },
      "source": [
        "class country():\r\n",
        "  def __init__(self, name='Unspecified', population=None, size_kmsq=None):\r\n",
        "    self.name = name\r\n",
        "    self.population = population\r\n",
        "    self.size_kmsq = size_kmsq\r\n",
        "\r\n",
        "  def __str__(self):\r\n",
        "    return self.name  "
      ],
      "execution_count": 1,
      "outputs": []
    },
    {
      "cell_type": "code",
      "metadata": {
        "colab": {
          "base_uri": "https://localhost:8080/"
        },
        "id": "fJRVqSdn9qtS",
        "outputId": "8b8e1872-eadd-4fc0-d4a2-f50eb0cee00e"
      },
      "source": [
        "chad = country(name='Chad')\r\n",
        "print(chad)"
      ],
      "execution_count": 2,
      "outputs": [
        {
          "output_type": "stream",
          "text": [
            "Chad\n"
          ],
          "name": "stdout"
        }
      ]
    },
    {
      "cell_type": "markdown",
      "metadata": {
        "id": "W7GvDgu05l8h"
      },
      "source": [
        "4. You now try adding more complex string method that displays the other information regarding our country, but only if that information is available:"
      ]
    },
    {
      "cell_type": "code",
      "metadata": {
        "id": "rZCim56S5lLn"
      },
      "source": [
        "class country():\r\n",
        "    def __init__(self, name='Unspecified', population=None, size_kmsq=None):\r\n",
        "        self.name = name\r\n",
        "        self.population = population\r\n",
        "        self.size_kmsq = size_kmsq\r\n",
        "        \r\n",
        "    def __str__(self):\r\n",
        "        label = self.name\r\n",
        "        if self.population:\r\n",
        "            label = '%s, population: %s' % (label, self.population)\r\n",
        "        if self.size_kmsq:\r\n",
        "            label = '%s, size_kmsq: %s' % (label, self.size_kmsq)\r\n",
        "        return label"
      ],
      "execution_count": 3,
      "outputs": []
    },
    {
      "cell_type": "markdown",
      "metadata": {
        "id": "DA_T0zyc97yi"
      },
      "source": [
        "5. Create a new country and test the string method:"
      ]
    },
    {
      "cell_type": "code",
      "metadata": {
        "colab": {
          "base_uri": "https://localhost:8080/"
        },
        "id": "XZ79_GeT-QTV",
        "outputId": "bd2110cb-26ef-4807-804a-ca7bbcadab70"
      },
      "source": [
        "chad = country(name='Chad', population=100)\r\n",
        "print(chad)"
      ],
      "execution_count": 5,
      "outputs": [
        {
          "output_type": "stream",
          "text": [
            "Chad, population: 100\n"
          ],
          "name": "stdout"
        }
      ]
    }
  ]
}