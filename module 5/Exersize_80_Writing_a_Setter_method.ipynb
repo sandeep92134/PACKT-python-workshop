{
  "nbformat": 4,
  "nbformat_minor": 0,
  "metadata": {
    "colab": {
      "name": "Exersize 80: Writing a Setter method",
      "provenance": [],
      "authorship_tag": "ABX9TyOpbEUkfcY9S7vZt3dnezZs",
      "include_colab_link": true
    },
    "kernelspec": {
      "name": "python3",
      "display_name": "Python 3"
    }
  },
  "cells": [
    {
      "cell_type": "markdown",
      "metadata": {
        "id": "view-in-github",
        "colab_type": "text"
      },
      "source": [
        "<a href=\"https://colab.research.google.com/github/sandeep92134/PACKT-python-workshop/blob/main/module%205/Exersize_80_Writing_a_Setter_method.ipynb\" target=\"_parent\"><img src=\"https://colab.research.google.com/assets/colab-badge.svg\" alt=\"Open In Colab\"/></a>"
      ]
    },
    {
      "cell_type": "markdown",
      "metadata": {
        "id": "S-QozRvTEQbZ"
      },
      "source": [
        "The aim of this exercise is to use a **setter method** to customize the way values are assigned to properties.\r\n",
        "\r\n",
        "You extend our **Temperature** class by allowing the user to assign a new value for **fahrenheit** directly to the property:\r\n",
        "\r\n",
        "1. Start with our **Temperature** class from earlier:\r\n",
        "2. Add a **@fahrenheit.setter** function that converts the **fahrenheit** value to Celsius and stores it in the **celsius** instance attribute:\r\n",
        "3. Create a new temperature and check the **fahrenheit** property:\r\n",
        "4. Update the **fahrenheit** property and check the **celsius** attribute:"
      ]
    },
    {
      "cell_type": "code",
      "metadata": {
        "id": "49UNHzl4EDZM"
      },
      "source": [
        "class Temperature():\r\n",
        "  def __init__(self, celsius):\r\n",
        "    self.celsius = celsius\r\n",
        "    \r\n",
        "  @property\r\n",
        "  def fahrenheit(self):\r\n",
        "    return self.celsius * 9 / 5 + 32\r\n",
        "    \r\n",
        "  @fahrenheit.setter\r\n",
        "  def fahrenheit(self, value):\r\n",
        "    self.celsius = (value - 32) * 5 / 9 "
      ],
      "execution_count": 2,
      "outputs": []
    },
    {
      "cell_type": "code",
      "metadata": {
        "colab": {
          "base_uri": "https://localhost:8080/"
        },
        "id": "4cGDN7aKF9X8",
        "outputId": "d9deb6ca-b8c5-49bc-afcf-ab9f5c8f8acf"
      },
      "source": [
        "temp = Temperature(5)\r\n",
        "temp.fahrenheit"
      ],
      "execution_count": 3,
      "outputs": [
        {
          "output_type": "execute_result",
          "data": {
            "text/plain": [
              "41.0"
            ]
          },
          "metadata": {
            "tags": []
          },
          "execution_count": 3
        }
      ]
    },
    {
      "cell_type": "code",
      "metadata": {
        "colab": {
          "base_uri": "https://localhost:8080/"
        },
        "id": "oY69tNPwHOjj",
        "outputId": "c37b6bf5-abcb-43b8-9a44-a7fdf1fcabcc"
      },
      "source": [
        "temp.fahrenheit = 32\r\n",
        "temp.celsius"
      ],
      "execution_count": 4,
      "outputs": [
        {
          "output_type": "execute_result",
          "data": {
            "text/plain": [
              "0.0"
            ]
          },
          "metadata": {
            "tags": []
          },
          "execution_count": 4
        }
      ]
    }
  ]
}