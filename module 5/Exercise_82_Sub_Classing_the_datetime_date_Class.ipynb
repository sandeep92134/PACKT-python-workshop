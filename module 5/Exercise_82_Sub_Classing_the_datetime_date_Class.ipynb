{
  "nbformat": 4,
  "nbformat_minor": 0,
  "metadata": {
    "colab": {
      "name": "Exercise 82: Sub-Classing the datetime.date Class",
      "provenance": [],
      "authorship_tag": "ABX9TyOrstVc6ls+vzLmrgT+Onxr",
      "include_colab_link": true
    },
    "kernelspec": {
      "name": "python3",
      "display_name": "Python 3"
    }
  },
  "cells": [
    {
      "cell_type": "markdown",
      "metadata": {
        "id": "view-in-github",
        "colab_type": "text"
      },
      "source": [
        "<a href=\"https://colab.research.google.com/github/sandeep92134/PACKT-python-workshop/blob/main/module%205/Exercise_82_Sub_Classing_the_datetime_date_Class.ipynb\" target=\"_parent\"><img src=\"https://colab.research.google.com/assets/colab-badge.svg\" alt=\"Open In Colab\"/></a>"
      ]
    },
    {
      "cell_type": "markdown",
      "metadata": {
        "id": "gWumuHJwwOxJ"
      },
      "source": [
        "The aim of this exercise is to show how you can inherit from classes in external libraries.\r\n",
        "\r\n",
        "In this exercise, you create our own custom date class by inheriting from the **datetime** module. You add our own custom method that allows us to increment the date by a given number of days:\r\n",
        "\r\n",
        "1. Import the **datetime** module:\r\n",
        "2. Create a **MyDate** class that inherits from **datetime.date**. Create an **add_days** instance method that uses a **timedelta** object to increment the date:\r\n",
        "3. Create a new object using the **MyDate** class, and try out your custom **add_days** method:"
      ]
    },
    {
      "cell_type": "code",
      "metadata": {
        "id": "CHa0zPHVvjhT"
      },
      "source": [
        "import datetime\r\n",
        "\r\n",
        "class MyDate(datetime.date):\r\n",
        "  def add_days(self, n):\r\n",
        "    return self + datetime.timedelta(n)"
      ],
      "execution_count": 1,
      "outputs": []
    },
    {
      "cell_type": "code",
      "metadata": {
        "colab": {
          "base_uri": "https://localhost:8080/"
        },
        "id": "k5VULrcKwwhW",
        "outputId": "683bfedc-5704-46a1-ece1-a752df5fdab7"
      },
      "source": [
        "d = MyDate(2020, 12, 24)\r\n",
        "print(d.add_days(40))\r\n",
        "print(d.add_days(400))"
      ],
      "execution_count": 2,
      "outputs": [
        {
          "output_type": "stream",
          "text": [
            "2021-02-02\n",
            "2022-01-28\n"
          ],
          "name": "stdout"
        }
      ]
    },
    {
      "cell_type": "markdown",
      "metadata": {
        "id": "CAfsjyzgwupQ"
      },
      "source": [
        "In this exercise, you learned how to inherit from classes in external libraries. This will often be useful, as external libraries may get you 90% of the way to solving the problem, but they're rarely built exactly for your own use case."
      ]
    }
  ]
}