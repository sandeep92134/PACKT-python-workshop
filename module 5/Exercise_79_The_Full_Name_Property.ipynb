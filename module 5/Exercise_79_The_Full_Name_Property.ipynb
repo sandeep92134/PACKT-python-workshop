{
  "nbformat": 4,
  "nbformat_minor": 0,
  "metadata": {
    "colab": {
      "name": "Exercise 79: The Full Name Property",
      "provenance": [],
      "authorship_tag": "ABX9TyP3CbiLgVZWJOkYo7cHZKpA",
      "include_colab_link": true
    },
    "kernelspec": {
      "name": "python3",
      "display_name": "Python 3"
    }
  },
  "cells": [
    {
      "cell_type": "markdown",
      "metadata": {
        "id": "view-in-github",
        "colab_type": "text"
      },
      "source": [
        "<a href=\"https://colab.research.google.com/github/sandeep92134/PACKT-python-workshop/blob/main/module%205/Exercise_79_The_Full_Name_Property.ipynb\" target=\"_parent\"><img src=\"https://colab.research.google.com/assets/colab-badge.svg\" alt=\"Open In Colab\"/></a>"
      ]
    },
    {
      "cell_type": "markdown",
      "metadata": {
        "id": "3BTU3_q3-Q2z"
      },
      "source": [
        "The aim of this exercise is to use the property decorator to add object properties.\r\n",
        "\r\n",
        "In this exercise, you create a **Person** class and show how to use a property to display their full name:\r\n",
        "\r\n",
        "1. Create a **Person** class with two instance attributes, the first and last names:\r\n",
        "2. Add a **full_name** property with the **@property** decorator:"
      ]
    },
    {
      "cell_type": "code",
      "metadata": {
        "id": "YJo4ZPqY-KP_"
      },
      "source": [
        "class Person():\r\n",
        "  def __init__(self, First_name, Last_name):\r\n",
        "    self.First_name = First_name\r\n",
        "    self.Last_name = Last_name\r\n",
        "\r\n",
        "  @property\r\n",
        "  def Full_name(self):\r\n",
        "    return '%s %s' % (self.First_name, self.Last_name)\r\n"
      ],
      "execution_count": 1,
      "outputs": []
    },
    {
      "cell_type": "markdown",
      "metadata": {
        "id": "S-RSOHjQBGE3"
      },
      "source": [
        "3. Create a **customer** object and test the **full_name** property:"
      ]
    },
    {
      "cell_type": "code",
      "metadata": {
        "colab": {
          "base_uri": "https://localhost:8080/",
          "height": 35
        },
        "id": "PmGGKm_QBFFI",
        "outputId": "1b5d000a-9f45-4897-eeac-8ea7adf8cbf7"
      },
      "source": [
        "customer = Person('Rohit', 'Jha')\r\n",
        "customer.Full_name"
      ],
      "execution_count": 2,
      "outputs": [
        {
          "output_type": "execute_result",
          "data": {
            "application/vnd.google.colaboratory.intrinsic+json": {
              "type": "string"
            },
            "text/plain": [
              "'Rohit Jha'"
            ]
          },
          "metadata": {
            "tags": []
          },
          "execution_count": 2
        }
      ]
    },
    {
      "cell_type": "markdown",
      "metadata": {
        "id": "NWlw8GsXB8IV"
      },
      "source": [
        "4. Suppose someone was using your code and decided to update the name of this customer in the following manner:"
      ]
    },
    {
      "cell_type": "code",
      "metadata": {
        "colab": {
          "base_uri": "https://localhost:8080/",
          "height": 180
        },
        "id": "Wd7C6saCBbDC",
        "outputId": "455ad605-ec27-424b-94cc-0ef03d6ec869"
      },
      "source": [
        "if __name__=='__main__':\r\n",
        "  customer.Full_name = 'Rohit Singh'"
      ],
      "execution_count": 3,
      "outputs": [
        {
          "output_type": "error",
          "ename": "AttributeError",
          "evalue": "ignored",
          "traceback": [
            "\u001b[0;31m---------------------------------------------------------------------------\u001b[0m",
            "\u001b[0;31mAttributeError\u001b[0m                            Traceback (most recent call last)",
            "\u001b[0;32m<ipython-input-3-2e7797babd96>\u001b[0m in \u001b[0;36m<module>\u001b[0;34m()\u001b[0m\n\u001b[1;32m      1\u001b[0m \u001b[0;32mif\u001b[0m \u001b[0m__name__\u001b[0m\u001b[0;34m==\u001b[0m\u001b[0;34m'__main__'\u001b[0m\u001b[0;34m:\u001b[0m\u001b[0;34m\u001b[0m\u001b[0;34m\u001b[0m\u001b[0m\n\u001b[0;32m----> 2\u001b[0;31m   \u001b[0mcustomer\u001b[0m\u001b[0;34m.\u001b[0m\u001b[0mFull_name\u001b[0m \u001b[0;34m=\u001b[0m \u001b[0;34m'Rohit Singh'\u001b[0m\u001b[0;34m\u001b[0m\u001b[0;34m\u001b[0m\u001b[0m\n\u001b[0m",
            "\u001b[0;31mAttributeError\u001b[0m: can't set attribute"
          ]
        }
      ]
    },
    {
      "cell_type": "code",
      "metadata": {
        "colab": {
          "base_uri": "https://localhost:8080/",
          "height": 163
        },
        "id": "wdIegg4CBu8H",
        "outputId": "f5f40d86-2e99-4dd7-86ef-25d08392ea08"
      },
      "source": [
        "customer.Full_name = 'Rohit Gulia'"
      ],
      "execution_count": 4,
      "outputs": [
        {
          "output_type": "error",
          "ename": "AttributeError",
          "evalue": "ignored",
          "traceback": [
            "\u001b[0;31m---------------------------------------------------------------------------\u001b[0m",
            "\u001b[0;31mAttributeError\u001b[0m                            Traceback (most recent call last)",
            "\u001b[0;32m<ipython-input-4-33148de72814>\u001b[0m in \u001b[0;36m<module>\u001b[0;34m()\u001b[0m\n\u001b[0;32m----> 1\u001b[0;31m \u001b[0mcustomer\u001b[0m\u001b[0;34m.\u001b[0m\u001b[0mFull_name\u001b[0m \u001b[0;34m=\u001b[0m \u001b[0;34m'Rohit Gulia'\u001b[0m\u001b[0;34m\u001b[0m\u001b[0;34m\u001b[0m\u001b[0m\n\u001b[0m",
            "\u001b[0;31mAttributeError\u001b[0m: can't set attribute"
          ]
        }
      ]
    },
    {
      "cell_type": "code",
      "metadata": {
        "colab": {
          "base_uri": "https://localhost:8080/"
        },
        "id": "TksghGzpCt8d",
        "outputId": "72ede4b8-0d77-44af-e84d-81c09deb1a0e"
      },
      "source": [
        "print(customer.Full_name)"
      ],
      "execution_count": 5,
      "outputs": [
        {
          "output_type": "stream",
          "text": [
            "Rohit Jha\n"
          ],
          "name": "stdout"
        }
      ]
    }
  ]
}