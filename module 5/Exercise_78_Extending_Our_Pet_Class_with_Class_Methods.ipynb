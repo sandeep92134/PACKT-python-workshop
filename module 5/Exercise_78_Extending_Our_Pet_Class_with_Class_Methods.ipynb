{
  "nbformat": 4,
  "nbformat_minor": 0,
  "metadata": {
    "colab": {
      "name": "Exercise 78: Extending Our Pet Class with Class Methods",
      "provenance": [],
      "authorship_tag": "ABX9TyP4XbYWQbiEt2i23WnHCMqf",
      "include_colab_link": true
    },
    "kernelspec": {
      "name": "python3",
      "display_name": "Python 3"
    }
  },
  "cells": [
    {
      "cell_type": "markdown",
      "metadata": {
        "id": "view-in-github",
        "colab_type": "text"
      },
      "source": [
        "<a href=\"https://colab.research.google.com/github/sandeep92134/PACKT-python-workshop/blob/main/module%205/Exercise_78_Extending_Our_Pet_Class_with_Class_Methods.ipynb\" target=\"_parent\"><img src=\"https://colab.research.google.com/assets/colab-badge.svg\" alt=\"Open In Colab\"/></a>"
      ]
    },
    {
      "cell_type": "markdown",
      "metadata": {
        "id": "5qL3sADK2RA1"
      },
      "source": [
        "In this exercise, you show two common uses of class methods in the context of our Pet class:\r\n",
        "\r\n",
        "1. Start with the following definition of the **Pet** class:\r\n",
        "2. Add a class method that returns whether the pet is owned by a member of the Smith family:\r\n",
        "3. Now suppose that you want a way of producing pets with various random heights. Perhaps you're performing some simulations regarding buying **100** pets, and you want to see what the average height might be. Firstly, import the **random** module:\r\n",
        "4. Next, add a class method that picks a random number from **0** to **100**, and assigns it to the **height** property of a new pet:"
      ]
    },
    {
      "cell_type": "code",
      "metadata": {
        "id": "YP_P6AcB6XvG"
      },
      "source": [
        "import random\r\n",
        "\r\n",
        "class Pet():\r\n",
        "    def __init__(self, height):\r\n",
        "        self.height = height\r\n",
        "        \r\n",
        "    is_human = False\r\n",
        "    owner = 'Rohit Babu'\r\n",
        "    \r\n",
        "    @classmethod\r\n",
        "    def owned_by_Babu_family(cls):\r\n",
        "        return 'Babu' in cls.owner\r\n",
        "    \r\n",
        "    @classmethod\r\n",
        "    def create_random_height_pet(cls):\r\n",
        "        height = random.randrange(0, 100)\r\n",
        "        return cls(height)"
      ],
      "execution_count": 6,
      "outputs": []
    },
    {
      "cell_type": "markdown",
      "metadata": {
        "id": "sr_cwSKv5iKD"
      },
      "source": [
        "5. Lastly, you create 5 new pets and see what their heights are:"
      ]
    },
    {
      "cell_type": "code",
      "metadata": {
        "colab": {
          "base_uri": "https://localhost:8080/"
        },
        "id": "5Icnw-p26Y1x",
        "outputId": "6e79314f-82e1-44b7-d7be-0400ab6e5ba2"
      },
      "source": [
        "for i in range(5):\r\n",
        "    pet = Pet.create_random_height_pet()\r\n",
        "    print(pet.height)"
      ],
      "execution_count": 7,
      "outputs": [
        {
          "output_type": "stream",
          "text": [
            "39\n",
            "18\n",
            "56\n",
            "98\n",
            "72\n"
          ],
          "name": "stdout"
        }
      ]
    }
  ]
}