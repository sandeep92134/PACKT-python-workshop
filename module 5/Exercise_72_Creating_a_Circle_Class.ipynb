{
  "nbformat": 4,
  "nbformat_minor": 0,
  "metadata": {
    "colab": {
      "name": "Exercise 72: Creating a Circle Class",
      "provenance": [],
      "authorship_tag": "ABX9TyMU3g2waliXS3Z8GhmMhDd0",
      "include_colab_link": true
    },
    "kernelspec": {
      "name": "python3",
      "display_name": "Python 3"
    }
  },
  "cells": [
    {
      "cell_type": "markdown",
      "metadata": {
        "id": "view-in-github",
        "colab_type": "text"
      },
      "source": [
        "<a href=\"https://colab.research.google.com/github/sandeep92134/PACKT-python-workshop/blob/main/module%205/Exercise_72_Creating_a_Circle_Class.ipynb\" target=\"_parent\"><img src=\"https://colab.research.google.com/assets/colab-badge.svg\" alt=\"Open In Colab\"/></a>"
      ]
    },
    {
      "cell_type": "markdown",
      "metadata": {
        "id": "xv9X4KWCUsJE"
      },
      "source": [
        "The aim of this exercise is to use the **__init__** method. You create a new class called **Circle** with an **__init__** method that allows us to specify the radius and color of a new **Circle** object. You then use this class to create two circles:\n",
        "\n",
        "1. Create a **Circle class** with a class attribute called **is_shape**:"
      ]
    },
    {
      "cell_type": "code",
      "metadata": {
        "id": "9hrNAkbFRNVb"
      },
      "source": [
        "class circle():\n",
        "  is_shape = True"
      ],
      "execution_count": 1,
      "outputs": []
    },
    {
      "cell_type": "markdown",
      "metadata": {
        "id": "R538shd8VWuI"
      },
      "source": [
        "2. Add an **__init__** method to our class, allowing us to specify the radius and color of the specific circle:"
      ]
    },
    {
      "cell_type": "code",
      "metadata": {
        "id": "XwAkDo_3VVxS"
      },
      "source": [
        "class circle():\n",
        "  is_shape = True\n",
        "\n",
        "  def __init__(self, radius, color):\n",
        "    self.radius = radius\n",
        "    self.color = color"
      ],
      "execution_count": 2,
      "outputs": []
    },
    {
      "cell_type": "markdown",
      "metadata": {
        "id": "42xYBs9QWXKb"
      },
      "source": [
        "3. Initialize two new **Circle** objects with different radii and colors:\n"
      ]
    },
    {
      "cell_type": "code",
      "metadata": {
        "id": "nngBKRZcWSwm"
      },
      "source": [
        "first_circle = circle(2, 'blue')\n",
        "\n",
        "second_circle = circle(3, 'red')"
      ],
      "execution_count": 3,
      "outputs": []
    },
    {
      "cell_type": "code",
      "metadata": {
        "colab": {
          "base_uri": "https://localhost:8080/",
          "height": 35
        },
        "id": "4rfiZicTWcYS",
        "outputId": "f8250fc6-039e-4ca1-9ccd-9c1c8a2e51c8"
      },
      "source": [
        "first_circle.color"
      ],
      "execution_count": 4,
      "outputs": [
        {
          "output_type": "execute_result",
          "data": {
            "application/vnd.google.colaboratory.intrinsic+json": {
              "type": "string"
            },
            "text/plain": [
              "'blue'"
            ]
          },
          "metadata": {
            "tags": []
          },
          "execution_count": 4
        }
      ]
    },
    {
      "cell_type": "code",
      "metadata": {
        "colab": {
          "base_uri": "https://localhost:8080/",
          "height": 35
        },
        "id": "-wTJQvc7XRci",
        "outputId": "b32d16ea-54eb-4392-efd3-6304725c7bfd"
      },
      "source": [
        "second_circle.color"
      ],
      "execution_count": 5,
      "outputs": [
        {
          "output_type": "execute_result",
          "data": {
            "application/vnd.google.colaboratory.intrinsic+json": {
              "type": "string"
            },
            "text/plain": [
              "'red'"
            ]
          },
          "metadata": {
            "tags": []
          },
          "execution_count": 5
        }
      ]
    },
    {
      "cell_type": "code",
      "metadata": {
        "colab": {
          "base_uri": "https://localhost:8080/"
        },
        "id": "0zjjhinBXadT",
        "outputId": "1c68e215-f316-4201-dd86-81aee6fbd2e7"
      },
      "source": [
        "first_circle.is_shape\n",
        "second_circle.is_shape"
      ],
      "execution_count": 7,
      "outputs": [
        {
          "output_type": "execute_result",
          "data": {
            "text/plain": [
              "True"
            ]
          },
          "metadata": {
            "tags": []
          },
          "execution_count": 7
        }
      ]
    }
  ]
}