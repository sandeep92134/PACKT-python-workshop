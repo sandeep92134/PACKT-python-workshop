{
  "nbformat": 4,
  "nbformat_minor": 0,
  "metadata": {
    "colab": {
      "name": "Exercise 70: Exploring Strings ",
      "provenance": [],
      "authorship_tag": "ABX9TyMw5ARrYLVqw0JW+FaUuFNp",
      "include_colab_link": true
    },
    "kernelspec": {
      "name": "python3",
      "display_name": "Python 3"
    }
  },
  "cells": [
    {
      "cell_type": "markdown",
      "metadata": {
        "id": "view-in-github",
        "colab_type": "text"
      },
      "source": [
        "<a href=\"https://colab.research.google.com/github/sandeep92134/PACKT-python-workshop/blob/main/module%205/Exercise_70_Exploring_Strings.ipynb\" target=\"_parent\"><img src=\"https://colab.research.google.com/assets/colab-badge.svg\" alt=\"Open In Colab\"/></a>"
      ]
    },
    {
      "cell_type": "markdown",
      "metadata": {
        "id": "b49MfitiGaLL"
      },
      "source": [
        "Many of our examples and exercises so far have involved **strings**. In this exercise, you go beyond the text that a string object can store and look at the other properties and methods available in this class.\n",
        "\n",
        "The aim of the exercise is to demonstrate that the string objects you are already familiar with have many other methods and properties that you might not have been aware of. This exercise can be performed in a Jupyter Notebook:\n",
        "\n",
        "1. Define a new string:"
      ]
    },
    {
      "cell_type": "code",
      "metadata": {
        "id": "XE-Ld5BnFm0d"
      },
      "source": [
        "my_str = 'hello india!'"
      ],
      "execution_count": 1,
      "outputs": []
    },
    {
      "cell_type": "markdown",
      "metadata": {
        "id": "Ojrti3cDHF8c"
      },
      "source": [
        "2. Check what class our object has:"
      ]
    },
    {
      "cell_type": "code",
      "metadata": {
        "colab": {
          "base_uri": "https://localhost:8080/"
        },
        "id": "p7GxleEDG9Az",
        "outputId": "cb40b6ab-c28c-4983-9887-77ac42c45328"
      },
      "source": [
        "type(my_str)"
      ],
      "execution_count": 2,
      "outputs": [
        {
          "output_type": "execute_result",
          "data": {
            "text/plain": [
              "str"
            ]
          },
          "metadata": {
            "tags": []
          },
          "execution_count": 2
        }
      ]
    },
    {
      "cell_type": "markdown",
      "metadata": {
        "id": "BpUEgTTaHI3q"
      },
      "source": [
        "3. View the docstring of the **str** class:"
      ]
    },
    {
      "cell_type": "code",
      "metadata": {
        "colab": {
          "base_uri": "https://localhost:8080/"
        },
        "id": "SywkaxgZHFRq",
        "outputId": "c07e4223-daa6-4abe-8abe-887597bec98e"
      },
      "source": [
        "print(my_str.__doc__)"
      ],
      "execution_count": 3,
      "outputs": [
        {
          "output_type": "stream",
          "text": [
            "str(object='') -> str\n",
            "str(bytes_or_buffer[, encoding[, errors]]) -> str\n",
            "\n",
            "Create a new string object from the given object. If encoding or\n",
            "errors is specified, then the object must expose a data buffer\n",
            "that will be decoded using the given encoding and error handler.\n",
            "Otherwise, returns the result of object.__str__() (if defined)\n",
            "or repr(object).\n",
            "encoding defaults to sys.getdefaultencoding().\n",
            "errors defaults to 'strict'.\n"
          ],
          "name": "stdout"
        }
      ]
    },
    {
      "cell_type": "markdown",
      "metadata": {
        "id": "cnTrKF4oHbFO"
      },
      "source": [
        "4. View the full list of properties and methods of **my_str**:"
      ]
    },
    {
      "cell_type": "code",
      "metadata": {
        "colab": {
          "base_uri": "https://localhost:8080/"
        },
        "id": "y8TTsfj1HWRZ",
        "outputId": "8074282d-26bb-46a2-8aec-1d03d5e0d147"
      },
      "source": [
        "my_str.__dir__()"
      ],
      "execution_count": 4,
      "outputs": [
        {
          "output_type": "execute_result",
          "data": {
            "text/plain": [
              "['__repr__',\n",
              " '__hash__',\n",
              " '__str__',\n",
              " '__getattribute__',\n",
              " '__lt__',\n",
              " '__le__',\n",
              " '__eq__',\n",
              " '__ne__',\n",
              " '__gt__',\n",
              " '__ge__',\n",
              " '__iter__',\n",
              " '__mod__',\n",
              " '__rmod__',\n",
              " '__len__',\n",
              " '__getitem__',\n",
              " '__add__',\n",
              " '__mul__',\n",
              " '__rmul__',\n",
              " '__contains__',\n",
              " '__new__',\n",
              " 'encode',\n",
              " 'replace',\n",
              " 'split',\n",
              " 'rsplit',\n",
              " 'join',\n",
              " 'capitalize',\n",
              " 'casefold',\n",
              " 'title',\n",
              " 'center',\n",
              " 'count',\n",
              " 'expandtabs',\n",
              " 'find',\n",
              " 'partition',\n",
              " 'index',\n",
              " 'ljust',\n",
              " 'lower',\n",
              " 'lstrip',\n",
              " 'rfind',\n",
              " 'rindex',\n",
              " 'rjust',\n",
              " 'rstrip',\n",
              " 'rpartition',\n",
              " 'splitlines',\n",
              " 'strip',\n",
              " 'swapcase',\n",
              " 'translate',\n",
              " 'upper',\n",
              " 'startswith',\n",
              " 'endswith',\n",
              " 'islower',\n",
              " 'isupper',\n",
              " 'istitle',\n",
              " 'isspace',\n",
              " 'isdecimal',\n",
              " 'isdigit',\n",
              " 'isnumeric',\n",
              " 'isalpha',\n",
              " 'isalnum',\n",
              " 'isidentifier',\n",
              " 'isprintable',\n",
              " 'zfill',\n",
              " 'format',\n",
              " 'format_map',\n",
              " '__format__',\n",
              " 'maketrans',\n",
              " '__sizeof__',\n",
              " '__getnewargs__',\n",
              " '__doc__',\n",
              " '__setattr__',\n",
              " '__delattr__',\n",
              " '__init__',\n",
              " '__reduce_ex__',\n",
              " '__reduce__',\n",
              " '__subclasshook__',\n",
              " '__init_subclass__',\n",
              " '__dir__',\n",
              " '__class__']"
            ]
          },
          "metadata": {
            "tags": []
          },
          "execution_count": 4
        }
      ]
    },
    {
      "cell_type": "markdown",
      "metadata": {
        "id": "N6gWHOQBIB67"
      },
      "source": [
        "5. You will see the results of a few of the preceding methods:\n"
      ]
    },
    {
      "cell_type": "code",
      "metadata": {
        "colab": {
          "base_uri": "https://localhost:8080/",
          "height": 35
        },
        "id": "5tWwgvfQInvj",
        "outputId": "928f5b3c-14c4-4aed-eb44-668737636729"
      },
      "source": [
        "# capitalize word\n",
        "my_str.capitalize()"
      ],
      "execution_count": 5,
      "outputs": [
        {
          "output_type": "execute_result",
          "data": {
            "application/vnd.google.colaboratory.intrinsic+json": {
              "type": "string"
            },
            "text/plain": [
              "'Hello india!'"
            ]
          },
          "metadata": {
            "tags": []
          },
          "execution_count": 5
        }
      ]
    },
    {
      "cell_type": "code",
      "metadata": {
        "colab": {
          "base_uri": "https://localhost:8080/",
          "height": 35
        },
        "id": "NCgeFge6I_ty",
        "outputId": "1d9a5f80-9206-4bd8-bb25-2fb2897ec5dd"
      },
      "source": [
        "my_str.upper()"
      ],
      "execution_count": 6,
      "outputs": [
        {
          "output_type": "execute_result",
          "data": {
            "application/vnd.google.colaboratory.intrinsic+json": {
              "type": "string"
            },
            "text/plain": [
              "'HELLO INDIA!'"
            ]
          },
          "metadata": {
            "tags": []
          },
          "execution_count": 6
        }
      ]
    },
    {
      "cell_type": "code",
      "metadata": {
        "colab": {
          "base_uri": "https://localhost:8080/",
          "height": 35
        },
        "id": "JQ2yrPRTJHLL",
        "outputId": "8d203b61-f15b-4354-ab3e-7ba84403312f"
      },
      "source": [
        "my_str.replace(' ', '')"
      ],
      "execution_count": 7,
      "outputs": [
        {
          "output_type": "execute_result",
          "data": {
            "application/vnd.google.colaboratory.intrinsic+json": {
              "type": "string"
            },
            "text/plain": [
              "'helloindia!'"
            ]
          },
          "metadata": {
            "tags": []
          },
          "execution_count": 7
        }
      ]
    },
    {
      "cell_type": "markdown",
      "metadata": {
        "id": "B9uvSIjtIMmw"
      },
      "source": [
        "In this exercise, you explored the various properties of a string object in Python. The purpose here was to illustrate that you are already working with objects that don't just represent simple data types but have more complex definitions. You will now turn to creating templates to build our own custom objects using classes."
      ]
    }
  ]
}