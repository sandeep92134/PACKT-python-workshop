{
  "nbformat": 4,
  "nbformat_minor": 0,
  "metadata": {
    "colab": {
      "name": "Activity 7: Storing Company Employee Table Data Using a List and a Dictionary",
      "provenance": [],
      "authorship_tag": "ABX9TyMMVluOQChtVz+rEAiU6iVg",
      "include_colab_link": true
    },
    "kernelspec": {
      "name": "python3",
      "display_name": "Python 3"
    }
  },
  "cells": [
    {
      "cell_type": "markdown",
      "metadata": {
        "id": "view-in-github",
        "colab_type": "text"
      },
      "source": [
        "<a href=\"https://colab.research.google.com/github/sandeep92134/PACKT-python-workshop/blob/main/Activity_7_Storing_Company_Employee_Table_Data_Using_a_List_and_a_Dictionary.ipynb\" target=\"_parent\"><img src=\"https://colab.research.google.com/assets/colab-badge.svg\" alt=\"Open In Colab\"/></a>"
      ]
    },
    {
      "cell_type": "markdown",
      "metadata": {
        "id": "xQ4y2bSFP_NR"
      },
      "source": [
        "Follow these steps to complete this activity:\n",
        "\n",
        "1. Open a Jupyter notebook (you can create a new one or use an existing one).\n",
        "2. Create a list named employees.\n",
        "3. Create three dictionary objects inside employees to store the information of each employee.\n",
        "4. Print the employees variable.\n",
        "5. Print the details of all employees in a presentable format.\n",
        "6. Print only the details of Sujan Patel:"
      ]
    },
    {
      "cell_type": "code",
      "metadata": {
        "id": "DkQnG3fQPw2P",
        "outputId": "7f8f74cb-3d66-4172-fa3b-7f52714805f8",
        "colab": {
          "base_uri": "https://localhost:8080/"
        }
      },
      "source": [
        "employees = [\n",
        "    {\"name\": \"John Mckee\", \"age\":38, \"department\":\"Sales\"},\n",
        "    {\"name\": \"Lisa Crawford\", \"age\":29, \"department\":\"Marketing\"},\n",
        "    {\"name\": \"Sujan Patel\", \"age\":33, \"department\":\"HR\"}\n",
        "]\n",
        "print(employees)"
      ],
      "execution_count": 1,
      "outputs": [
        {
          "output_type": "stream",
          "text": [
            "[{'name': 'John Mckee', 'age': 38, 'department': 'Sales'}, {'name': 'Lisa Crawford', 'age': 29, 'department': 'Marketing'}, {'name': 'Sujan Patel', 'age': 33, 'department': 'HR'}]\n"
          ],
          "name": "stdout"
        }
      ]
    },
    {
      "cell_type": "code",
      "metadata": {
        "id": "atXhz9IkQ30C",
        "outputId": "16645098-befa-45ac-a6c4-1be2105c7d97",
        "colab": {
          "base_uri": "https://localhost:8080/"
        }
      },
      "source": [
        "for employee in employees:\n",
        "  print(\"Name:\", employee['name'])\n",
        "  print(\"Age:\", employee['age'])\n",
        "  print(\"Department:\", employee['department'])\n",
        "  print('-' * 20)"
      ],
      "execution_count": 2,
      "outputs": [
        {
          "output_type": "stream",
          "text": [
            "Name: John Mckee\n",
            "Age: 38\n",
            "Department: Sales\n",
            "--------------------\n",
            "Name: Lisa Crawford\n",
            "Age: 29\n",
            "Department: Marketing\n",
            "--------------------\n",
            "Name: Sujan Patel\n",
            "Age: 33\n",
            "Department: HR\n",
            "--------------------\n"
          ],
          "name": "stdout"
        }
      ]
    },
    {
      "cell_type": "code",
      "metadata": {
        "id": "Ar4DZ87SRDKw",
        "outputId": "7324fd01-11c5-4bf7-97d9-179cdd35db05",
        "colab": {
          "base_uri": "https://localhost:8080/"
        }
      },
      "source": [
        "for employee in employees:\n",
        "    if employee['name'] == 'Sujan Patel':\n",
        "        print(\"Name:\", employee['name'])\n",
        "        print(\"Age:\", employee['age'])\n",
        "        print(\"Department:\", employee['department'])\n",
        "        print('-' * 20)"
      ],
      "execution_count": 3,
      "outputs": [
        {
          "output_type": "stream",
          "text": [
            "Name: Sujan Patel\n",
            "Age: 33\n",
            "Department: HR\n",
            "--------------------\n"
          ],
          "name": "stdout"
        }
      ]
    },
    {
      "cell_type": "markdown",
      "metadata": {
        "id": "vjqRfAVrROoL"
      },
      "source": [
        "Having completed this activity, you are able to work with lists and dictionaries. As you have seen, lists are very useful for storing and accessing data, which very often comes in handy in the real world when handling data in Python. Using dictionaries along with lists proves to be very useful, as you have seen in this activity."
      ]
    }
  ]
}