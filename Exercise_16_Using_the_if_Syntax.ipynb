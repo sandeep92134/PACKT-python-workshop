{
  "nbformat": 4,
  "nbformat_minor": 0,
  "metadata": {
    "colab": {
      "name": "Exercise 16: Using the if Syntax",
      "provenance": [],
      "authorship_tag": "ABX9TyOTU8zU/W0tiEERsbH3f2Ok",
      "include_colab_link": true
    },
    "kernelspec": {
      "name": "python3",
      "display_name": "Python 3"
    }
  },
  "cells": [
    {
      "cell_type": "markdown",
      "metadata": {
        "id": "view-in-github",
        "colab_type": "text"
      },
      "source": [
        "<a href=\"https://colab.research.google.com/github/sandeep92134/PACKT-python-workshop/blob/main/Exercise_16_Using_the_if_Syntax.ipynb\" target=\"_parent\"><img src=\"https://colab.research.google.com/assets/colab-badge.svg\" alt=\"Open In Colab\"/></a>"
      ]
    },
    {
      "cell_type": "markdown",
      "metadata": {
        "id": "7KvP8PqIaOw2"
      },
      "source": [
        "In this exercise, you will be using conditionals using the if clause:\n",
        "\n",
        "1. Open a new Jupyter Notebook.\n",
        "2. Now, run multiple lines of code where you set the age variable to 20 and add an if clause, as mentioned in the following code snippet:"
      ]
    },
    {
      "cell_type": "code",
      "metadata": {
        "id": "SULMwbmlY2SS",
        "outputId": "c927dadd-c0e1-4d73-95a8-403ef38c0d1c",
        "colab": {
          "base_uri": "https://localhost:8080/",
          "height": 52
        }
      },
      "source": [
        "age = 20\n",
        "if age >= 18 and age < 21:\n",
        "   print('At least you can vote.')\n",
        "   print('Poker will have to wait.')"
      ],
      "execution_count": 1,
      "outputs": [
        {
          "output_type": "stream",
          "text": [
            "At least you can vote.\n",
            "Poker will have to wait.\n"
          ],
          "name": "stdout"
        }
      ]
    },
    {
      "cell_type": "markdown",
      "metadata": {
        "id": "BqS7zBjkae0r"
      },
      "source": [
        "There is no limit to the number of indented statements. Each statement will run in order, provided that the preceding condition is True.\n",
        "\n",
        "3. Now, use nested conditionals:"
      ]
    },
    {
      "cell_type": "code",
      "metadata": {
        "id": "8DfogqHeal6-",
        "outputId": "0abe4d71-3759-4643-9cef-8bcf8dfe100a",
        "colab": {
          "base_uri": "https://localhost:8080/",
          "height": 34
        }
      },
      "source": [
        "if age >= 18:\n",
        "  print('You can vote.')\n",
        "  if age >= 21:\n",
        "    print('You can play poker.')"
      ],
      "execution_count": 2,
      "outputs": [
        {
          "output_type": "stream",
          "text": [
            "You can vote.\n"
          ],
          "name": "stdout"
        }
      ]
    },
    {
      "cell_type": "markdown",
      "metadata": {
        "id": "KgHuc76satow"
      },
      "source": [
        "In this case, it's true that age >= 18, so the first statement prints You can vote. The second condition, age >= 21, however, is false, so the second statement does not get printed."
      ]
    },
    {
      "cell_type": "markdown",
      "metadata": {
        "id": "nZu5rI8sbF4Z"
      },
      "source": [
        "In this exercise, you have learned how to use conditionals using the if clause. Conditionals will always start with if."
      ]
    }
  ]
}