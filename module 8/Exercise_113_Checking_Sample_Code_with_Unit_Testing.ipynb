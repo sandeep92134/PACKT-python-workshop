{
  "nbformat": 4,
  "nbformat_minor": 0,
  "metadata": {
    "colab": {
      "name": "Exercise 113: Checking Sample Code with Unit Testing",
      "provenance": [],
      "authorship_tag": "ABX9TyPY8AXdKxueWDlhGdcRec+c",
      "include_colab_link": true
    },
    "kernelspec": {
      "name": "python3",
      "display_name": "Python 3"
    }
  },
  "cells": [
    {
      "cell_type": "markdown",
      "metadata": {
        "id": "view-in-github",
        "colab_type": "text"
      },
      "source": [
        "<a href=\"https://colab.research.google.com/github/sandeep92134/PACKT-python-workshop/blob/main/module%208/Exercise_113_Checking_Sample_Code_with_Unit_Testing.ipynb\" target=\"_parent\"><img src=\"https://colab.research.google.com/assets/colab-badge.svg\" alt=\"Open In Colab\"/></a>"
      ]
    },
    {
      "cell_type": "markdown",
      "metadata": {
        "id": "Bcv9skTBdllU"
      },
      "source": [
        "In this exercise, you will write and run tests for a function that checks whether a number is divisible by another. This will help you to validate the implementation and potentially find any existing bugs:\r\n",
        "1. Create a function, **is_divisible**, which checks whether a number is divisible by another. Save this function in a file named **sample_code**. This function is also provided in the **sample_code.py** file. The file just has a single function that checks whether a number is divisible by another:\r\n",
        " ```\r\n",
        "  def is_divisible(x, y):\r\n",
        "    if x % y == 0:\r\n",
        "        return True\r\n",
        "    else:\r\n",
        "        return False\r\n",
        " ```\r\n",
        "2. Create a **test** file that will include the test cases for our function. Then, add the skeleton for a test case:\r\n",
        " ```\r\n",
        " import unittest\r\n",
        "from sample_code import is_divisible\r\n",
        "class TestIsDivisible(unittest.TestCase):\r\n",
        "    def test_divisible_numbers(self):\r\n",
        "        pass\r\n",
        "if __name__ == '__main__':\r\n",
        "    unittest.main()\r\n",
        " ```\r\n",
        " This code imports the function to test, **is_divisible**, and the **unittest**  module. It then creates the common boilerplate to start writing  tests: a class that inherits from **unittest.TestCase** and two final lines  that allow us to run the code and execute the tests.\r\n",
        "\r\n",
        "3. Now, write the test code:\r\n",
        " ```\r\n",
        " def test_divisible_numbers(self):\r\n",
        "       self.assertTrue(is_divisible(10, 2))\r\n",
        "       self.assertTrue(is_divisible(10, 10))\r\n",
        "       self.assertTrue(is_divisible(1000, 1))\r\n",
        "   def test_not_divisible_numbers(self):\r\n",
        "       self.assertFalse(is_divisible(5, 3))\r\n",
        "       self.assertFalse(is_divisible(5, 6))\r\n",
        "       self.assertFalse(is_divisible(10, 3))\r\n",
        " ```\r\n",
        " You now write the code for Your tests by using the **self.assertX** methods. There are different kinds of methods for different kinds of asserts. For example, **self.assertEqual** will check whether the two arguments are equal or fail otherwise. You will use **self.assertTrue** and **self.assertFalse**. With this, you can create the preceding tests.\r\n",
        "4. Run the test:\r\n",
        " \r\n",
        " `python3.7 test_unittest.py  -v`\r\n",
        " \r\n",
        " Run the test by executing it with a Python interpreter. By using **-v**, you get extra information about the test names as the tests are running. \r\n",
        "5. Now, add more complex tests:\r\n",
        " ```\r\n",
        " def test_dividing_by_0(self):\r\n",
        "        with self.assertRaises(ZeroDivisionError):\r\n",
        "            is_divisible(1, 0)\r\n",
        " ```\r\n",
        " By adding a test when you pass 0, you want to check whether it will raise an exception. The **assertRaises** context manager will validate that the function raises the exception passed in within the context. So, there you go: you have a test suite with the standard library **unittest** module.\r\n",
        "\r\n",
        "Unit testing is a great tool for writing automated tests, but the community seems to generally prefer to use a third-party tool named **Pytest**."
      ]
    },
    {
      "cell_type": "code",
      "metadata": {
        "colab": {
          "base_uri": "https://localhost:8080/"
        },
        "id": "Bvg6aAj3XA3D",
        "outputId": "f8d5559f-137c-474c-da59-014b4d0dbfd7"
      },
      "source": [
        "%%writefile sample_code.py\r\n",
        "def is_divisible(x, y):\r\n",
        "    if x % y == 0:\r\n",
        "        return True\r\n",
        "    else:\r\n",
        "        return False"
      ],
      "execution_count": 1,
      "outputs": [
        {
          "output_type": "stream",
          "text": [
            "Writing sample_code.py\n"
          ],
          "name": "stdout"
        }
      ]
    },
    {
      "cell_type": "code",
      "metadata": {
        "colab": {
          "base_uri": "https://localhost:8080/"
        },
        "id": "MAIE88MkdL8d",
        "outputId": "ce428ce4-bc01-4462-b616-70e2bc759046"
      },
      "source": [
        "%%writefile test_unittest.py\r\n",
        "import unittest\r\n",
        "from sample_code import is_divisible\r\n",
        "\r\n",
        "class TestIsDivisible(unittest.TestCase):\r\n",
        "    def test_divisible_numbers(self):\r\n",
        "        self.assertTrue(is_divisible(10, 2))\r\n",
        "        self.assertTrue(is_divisible(10, 10))\r\n",
        "        self.assertTrue(is_divisible(1000, 1))\r\n",
        "\r\n",
        "    def test_not_divisible_numbers(self):\r\n",
        "        self.assertFalse(is_divisible(5, 3))\r\n",
        "        self.assertFalse(is_divisible(5, 6))\r\n",
        "        self.assertFalse(is_divisible(10, 3))\r\n",
        "\r\n",
        "    def test_dividing_by_0(self):\r\n",
        "        with self.assertRaises(ZeroDivisionError):\r\n",
        "            is_divisible(1, 0)\r\n",
        "\r\n",
        "if __name__ == '__main__':\r\n",
        "    unittest.main()"
      ],
      "execution_count": 2,
      "outputs": [
        {
          "output_type": "stream",
          "text": [
            "Writing test_unittest.py\n"
          ],
          "name": "stdout"
        }
      ]
    },
    {
      "cell_type": "code",
      "metadata": {
        "colab": {
          "base_uri": "https://localhost:8080/"
        },
        "id": "n04OaTQziL9t",
        "outputId": "3ba5dc49-f747-4a81-eac9-61bed4403979"
      },
      "source": [
        "!python test_unittest.py -v"
      ],
      "execution_count": 3,
      "outputs": [
        {
          "output_type": "stream",
          "text": [
            "test_dividing_by_0 (__main__.TestIsDivisible) ... ok\n",
            "test_divisible_numbers (__main__.TestIsDivisible) ... ok\n",
            "test_not_divisible_numbers (__main__.TestIsDivisible) ... ok\n",
            "\n",
            "----------------------------------------------------------------------\n",
            "Ran 3 tests in 0.000s\n",
            "\n",
            "OK\n"
          ],
          "name": "stdout"
        }
      ]
    }
  ]
}