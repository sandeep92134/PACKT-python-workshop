{
  "nbformat": 4,
  "nbformat_minor": 0,
  "metadata": {
    "colab": {
      "name": "Exercise 112: Debugging a Salary Calculator",
      "provenance": [],
      "authorship_tag": "ABX9TyN0V6LCJjSXU2LwVra2bWmV",
      "include_colab_link": true
    },
    "kernelspec": {
      "name": "python3",
      "display_name": "Python 3"
    }
  },
  "cells": [
    {
      "cell_type": "markdown",
      "metadata": {
        "id": "view-in-github",
        "colab_type": "text"
      },
      "source": [
        "<a href=\"https://colab.research.google.com/github/sandeep92134/PACKT-python-workshop/blob/main/module%208/Exercise_112_Debugging_a_Salary_Calculator.ipynb\" target=\"_parent\"><img src=\"https://colab.research.google.com/assets/colab-badge.svg\" alt=\"Open In Colab\"/></a>"
      ]
    },
    {
      "cell_type": "code",
      "metadata": {
        "colab": {
          "base_uri": "https://localhost:8080/"
        },
        "id": "fPtBLaU6lme1",
        "outputId": "66f21406-5715-4cc7-dc50-3113b8a81e9e"
      },
      "source": [
        "%%writefile salary_calculator.py\r\n",
        "  \r\n",
        "\"\"\"Adjusts the salary rise of an employ\"\"\"\r\n",
        "\r\n",
        "def _manager_adjust(salary, rise):\r\n",
        "    if rise < 0.10:\r\n",
        "        # We need to keep managers happy.\r\n",
        "        return 0.10\r\n",
        "\r\n",
        "    if salary >= 1_000_000:\r\n",
        "        # They are making enough already.\r\n",
        "        return rise - 0.10\r\n",
        "\r\n",
        "\r\n",
        "def calculate_new_salary(salary, promised_pct, is_manager, is_good_year):\r\n",
        "    rise = promised_pct\r\n",
        "\r\n",
        "    # remove 10% if it was a bad year\r\n",
        "    if not is_good_year:\r\n",
        "        rise -= 0.1\r\n",
        "    else:\r\n",
        "        pass\r\n",
        "\r\n",
        "    # managers have a special adjust\r\n",
        "    if is_manager:\r\n",
        "        rise = _manager_adjust(salary, rise)\r\n",
        "\r\n",
        "    # Extra bonus for people with high rises\r\n",
        "    if rise >= 0.20:\r\n",
        "        rise = rise + 0.10\r\n",
        "\r\n",
        "    salary_increase = salary * rise\r\n",
        "    return int(salary + salary_increase)\r\n",
        "\r\n",
        "\r\n",
        "rose_salary = calculate_new_salary(1_000_000, 0.30, True, True)\r\n",
        "print(\"Rose's salary will be:\", rose_salary)"
      ],
      "execution_count": 1,
      "outputs": [
        {
          "output_type": "stream",
          "text": [
            "Writing salary_calculator.py\n"
          ],
          "name": "stdout"
        }
      ]
    },
    {
      "cell_type": "code",
      "metadata": {
        "colab": {
          "base_uri": "https://localhost:8080/"
        },
        "id": "BNoVOXwQl9qc",
        "outputId": "6087b944-923a-4f55-afee-65b373d9637a"
      },
      "source": [
        "!python salary_calculator.py"
      ],
      "execution_count": 2,
      "outputs": [
        {
          "output_type": "stream",
          "text": [
            "Rose's salary will be: 1200000\n"
          ],
          "name": "stdout"
        }
      ]
    },
    {
      "cell_type": "code",
      "metadata": {
        "colab": {
          "base_uri": "https://localhost:8080/"
        },
        "id": "NoWnR1trmgTp",
        "outputId": "b39b5cfd-87d8-4b59-e0b3-151e06f71ca4"
      },
      "source": [
        "!python -m pdb salary_calculator.py"
      ],
      "execution_count": 3,
      "outputs": [
        {
          "output_type": "stream",
          "text": [
            "> /content/salary_calculator.py(2)<module>()\n",
            "-> \"\"\"Adjusts the salary rise of an employ\"\"\"\n",
            "(Pdb) b calculate_new_salary\n",
            "Breakpoint 1 at /content/salary_calculator.py:14\n",
            "(Pdb) c\n",
            "> /content/salary_calculator.py(15)calculate_new_salary()\n",
            "-> rise = promised_pct\n",
            "(Pdb) where\n",
            "  /usr/lib/python3.6/bdb.py(434)run()\n",
            "-> exec(cmd, globals, locals)\n",
            "  <string>(1)<module>()\n",
            "  /content/salary_calculator.py(35)<module>()\n",
            "-> rose_salary = calculate_new_salary(1_000_000, 0.30, True, True)\n",
            "> /content/salary_calculator.py(15)calculate_new_salary()\n",
            "-> rise = promised_pct\n",
            "(Pdb) 1\n",
            "1\n",
            "(Pdb) args\n",
            "salary = 1000000\n",
            "promised_pct = 0.3\n",
            "is_manager = True\n",
            "is_good_year = True\n",
            "(Pdb) n\n",
            "> /content/salary_calculator.py(18)calculate_new_salary()\n",
            "-> if not is_good_year:\n",
            "(Pdb) p rise\n",
            "0.3\n",
            "(Pdb) n\n",
            "> /content/salary_calculator.py(24)calculate_new_salary()\n",
            "-> if is_manager:\n",
            "(Pdb) n\n",
            "> /content/salary_calculator.py(25)calculate_new_salary()\n",
            "-> rise = _manager_adjust(salary, rise)\n",
            "(Pdb) p rise\n",
            "0.3\n",
            "(Pdb) b _manager_adjust\n",
            "Breakpoint 2 at /content/salary_calculator.py:4\n",
            "(Pdb) restsrt\n",
            "*** NameError: name 'restsrt' is not defined\n",
            "(Pdb) restart\n",
            "Restarting salary_calculator.py with arguments:\n",
            "\tsalary_calculator.py\n",
            "> /content/salary_calculator.py(2)<module>()\n",
            "-> \"\"\"Adjusts the salary rise of an employ\"\"\"\n",
            "(Pdb) c\n",
            "> /content/salary_calculator.py(15)calculate_new_salary()\n",
            "-> rise = promised_pct\n",
            "(Pdb)  \n",
            "> /content/salary_calculator.py(5)_manager_adjust()\n",
            "-> if rise < 0.10:\n",
            "(Pdb) c\n",
            "Rose's salary will be: 1200000\n",
            "The program finished and will be restarted\n",
            "> /content/salary_calculator.py(2)<module>()\n",
            "-> \"\"\"Adjusts the salary rise of an employ\"\"\"\n",
            "(Pdb) ll\n",
            "  1  \t\n",
            "  2  ->\t\"\"\"Adjusts the salary rise of an employ\"\"\"\n",
            "  3  \t\n",
            "  4 B\tdef _manager_adjust(salary, rise):\n",
            "  5  \t    if rise < 0.10:\n",
            "  6  \t        # We need to keep managers happy.\n",
            "  7  \t        return 0.10\n",
            "  8  \t\n",
            "  9  \t    if salary >= 1_000_000:\n",
            " 10  \t        # They are making enough already.\n",
            " 11  \t        return rise - 0.10\n",
            " 12  \t\n",
            " 13  \t\n",
            " 14 B\tdef calculate_new_salary(salary, promised_pct, is_manager, is_good_year):\n",
            " 15  \t    rise = promised_pct\n",
            " 16  \t\n",
            " 17  \t    # remove 10% if it was a bad year\n",
            " 18  \t    if not is_good_year:\n",
            " 19  \t        rise -= 0.1\n",
            " 20  \t    else:\n",
            " 21  \t        pass\n",
            " 22  \t\n",
            " 23  \t    # managers have a special adjust\n",
            " 24  \t    if is_manager:\n",
            " 25  \t        rise = _manager_adjust(salary, rise)\n",
            " 26  \t\n",
            " 27  \t    # Extra bonus for people with high rises\n",
            " 28  \t    if rise >= 0.20:\n",
            " 29  \t        rise = rise + 0.10\n",
            " 30  \t\n",
            " 31  \t    salary_increase = salary * rise\n",
            " 32  \t    return int(salary + salary_increase)\n",
            " 33  \t\n",
            " 34  \t\n",
            " 35  \trose_salary = calculate_new_salary(1_000_000, 0.30, True, True)\n",
            " 36  \tprint(\"Rose's salary will be:\", rose_salary)\n",
            "(Pdb) n\n",
            "> /content/salary_calculator.py(4)<module>()\n",
            "-> def _manager_adjust(salary, rise):\n",
            "(Pdb) n\n",
            "> /content/salary_calculator.py(14)<module>()\n",
            "-> def calculate_new_salary(salary, promised_pct, is_manager, is_good_year):\n",
            "(Pdb) n\n",
            "> /content/salary_calculator.py(35)<module>()\n",
            "-> rose_salary = calculate_new_salary(1_000_000, 0.30, True, True)\n",
            "(Pdb) rv\n",
            "*** Not yet returned!\n",
            "(Pdb) quit()\n"
          ],
          "name": "stdout"
        }
      ]
    },
    {
      "cell_type": "code",
      "metadata": {
        "colab": {
          "base_uri": "https://localhost:8080/"
        },
        "id": "qNTOx_-xmwtV",
        "outputId": "f2efe61f-ff9e-4908-88e3-c6144ad0c197"
      },
      "source": [
        "def _manager_adjust(salary, rise):\r\n",
        "    if rise < 0.10:\r\n",
        "        # We need to keep managers happy.\r\n",
        "        return 0.10\r\n",
        "\r\n",
        "    if salary >= 1_000_000:\r\n",
        "        # They are making enough already.\r\n",
        "        return rise - 0.10\r\n",
        "\r\n",
        "\r\n",
        "def calculate_new_salary(salary, promised_pct, is_manager, is_good_year):\r\n",
        "    rise = promised_pct\r\n",
        "\r\n",
        "    # remove 10% if it was a bad year\r\n",
        "    if not is_good_year:\r\n",
        "        rise -= 0.1\r\n",
        "    else:\r\n",
        "        pass\r\n",
        "\r\n",
        "    # managers have a special adjust\r\n",
        "    if is_manager:\r\n",
        "        rise = _manager_adjust(salary, rise)\r\n",
        "\r\n",
        "    # Extra bonus for people with high rises\r\n",
        "    if rise >= 0.20:\r\n",
        "        rise = rise + 0.10\r\n",
        "\r\n",
        "    salary_increase = salary * rise\r\n",
        "    return int(salary + salary_increase)\r\n",
        "\r\n",
        "\r\n",
        "rose_salary = calculate_new_salary(1_000_000, 0.30, True, True)\r\n",
        "print(\"Rose's salary will be:\", rose_salary)"
      ],
      "execution_count": 4,
      "outputs": [
        {
          "output_type": "stream",
          "text": [
            "Rose's salary will be: 1200000\n"
          ],
          "name": "stdout"
        }
      ]
    }
  ]
}