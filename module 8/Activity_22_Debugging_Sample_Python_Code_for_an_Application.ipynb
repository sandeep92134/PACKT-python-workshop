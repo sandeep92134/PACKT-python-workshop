{
  "nbformat": 4,
  "nbformat_minor": 0,
  "metadata": {
    "colab": {
      "name": "Activity 22: Debugging Sample Python Code for an Application",
      "provenance": [],
      "authorship_tag": "ABX9TyPpSy571pjJDttPwyOLSo9n",
      "include_colab_link": true
    },
    "kernelspec": {
      "name": "python3",
      "display_name": "Python 3"
    }
  },
  "cells": [
    {
      "cell_type": "markdown",
      "metadata": {
        "id": "view-in-github",
        "colab_type": "text"
      },
      "source": [
        "<a href=\"https://colab.research.google.com/github/sandeep92134/PACKT-python-workshop/blob/main/module%208/Activity_22_Debugging_Sample_Python_Code_for_an_Application.ipynb\" target=\"_parent\"><img src=\"https://colab.research.google.com/assets/colab-badge.svg\" alt=\"Open In Colab\"/></a>"
      ]
    },
    {
      "cell_type": "markdown",
      "metadata": {
        "id": "0-Jc8DsMqW3H"
      },
      "source": [
        "1. First, you need to copy the source code, as demonstrated in the following code snippet:\r\n",
        " ```\r\n",
        " DEFAULT_INITIAL_BASKET = [\"orange\", \"apple\"]\r\n",
        "def create_picnic_basket(healthy, hungry, initial_basket=DEFAULT_INITIAL_BASKET):\r\n",
        "    basket = initial_basket\r\n",
        "    if healthy:\r\n",
        "        basket.append(\"strawberry\")\r\n",
        "    else:\r\n",
        "        basket.append(\"jam\")\r\n",
        "    if hungry:\r\n",
        "        basket.append(\"sandwich\")\r\n",
        "    return basket\r\n",
        " ```\r\n",
        " For the first step, the code creates a list of food that is based on an initial list that can be passed as an argument. There are then some flags that control what gets added. When **healthy** is true, a strawberry will get added. On the other hand, if it is false, the jam will be added instead. Finally, if the **hungry** flag is set to true, a sandwich will be added as well.\r\n",
        "2. Run the code in your Jupyter Notebook, along with the reproducers, as demonstrated in the following code snippet:\r\n",
        " ```\r\n",
        " # Reproducer\r\n",
        "print(\"First basket:\", create_picnic_basket(True, False))\r\n",
        "print(\"Second basket:\", create_picnic_basket(False, True, [\"tea\"]))\r\n",
        "print(\"Third basket:\", create_picnic_basket(True, True))\r\n",
        " ```\r\n",
        "3. Observe the output; the issue will show up in the third basket, where there is one extra strawberry:\r\n",
        "4. You will need to fix this by setting the basket value to None and using the if-else logic, as demonstrated in the following code snippet:\r\n",
        " ```\r\n",
        " def create_picnic_basket(healthy, hungry, basket=None):\r\n",
        "    if basket is None:\r\n",
        "        basket = [\"orange\", \"apple\"]\r\n",
        "    if healthy:\r\n",
        "        basket.append(\"strawberry\")\r\n",
        "    else:\r\n",
        "        basket.append(\"jam\")\r\n",
        "    if hungry:\r\n",
        "        basket.append(\"sandwich\")\r\n",
        "    return basket\r\n",
        " ```\r\n",
        "  Note that default values in functions should not be mutable, as the modifications will persist across calls. The default basket should be set to None in the function declaration, and the constant should be used within the function. This is a great exercise to debug.\r\n",
        "5. Now, run the reproducers once again, and it will be fixed:\r\n",
        "\r\n",
        "In this activity, you have implemented debugging to understand the source code, after which you were able to print the test cases (reproducers) and find the issue. You were then able to debug the code and fix it to achieve the desired output."
      ]
    },
    {
      "cell_type": "code",
      "metadata": {
        "colab": {
          "base_uri": "https://localhost:8080/"
        },
        "id": "gLEYORFQokuB",
        "outputId": "a25cf6c1-5522-4d35-df5b-e939661b6c93"
      },
      "source": [
        "%%writefile activity22.py\r\n",
        "DEFAULT_INITIAL_BASKET = [\"orange\", \"apple\"]\r\n",
        "\r\n",
        "def create_picnic_basket(healthy, hungry, initial_basket=DEFAULT_INITIAL_BASKET):\r\n",
        "    basket = initial_basket\r\n",
        "    if healthy:\r\n",
        "        basket.append(\"strawberry\")\r\n",
        "    else:\r\n",
        "        basket.append(\"jam\")\r\n",
        "\r\n",
        "    if hungry:\r\n",
        "        basket.append(\"sandwich\")\r\n",
        "    return basket\r\n",
        "\r\n",
        "# Reproducer\r\n",
        "print(\"First basket:\", create_picnic_basket(True, False))\r\n",
        "print(\"Second basket:\", create_picnic_basket(False, True, [\"tea\"]))\r\n",
        "print(\"Third basket:\", create_picnic_basket(True, True))"
      ],
      "execution_count": 1,
      "outputs": [
        {
          "output_type": "stream",
          "text": [
            "Writing activity22.py\n"
          ],
          "name": "stdout"
        }
      ]
    },
    {
      "cell_type": "code",
      "metadata": {
        "colab": {
          "base_uri": "https://localhost:8080/"
        },
        "id": "Wb352YSzsVZn",
        "outputId": "77b9c68d-cd02-404f-8e26-00aa2ef05e0e"
      },
      "source": [
        "!python activity22.py"
      ],
      "execution_count": 2,
      "outputs": [
        {
          "output_type": "stream",
          "text": [
            "First basket: ['orange', 'apple', 'strawberry']\n",
            "Second basket: ['tea', 'jam', 'sandwich']\n",
            "Third basket: ['orange', 'apple', 'strawberry', 'strawberry', 'sandwich']\n"
          ],
          "name": "stdout"
        }
      ]
    },
    {
      "cell_type": "code",
      "metadata": {
        "colab": {
          "base_uri": "https://localhost:8080/"
        },
        "id": "ibDWE2gmsZy-",
        "outputId": "16d39ca4-e4f2-4173-df6d-de6ea8141e07"
      },
      "source": [
        "DEFAULT_INITIAL_BASKET = [\"orange\", \"apple\"]\r\n",
        "\r\n",
        "def create_picnic_basket(healthy, hungry, initial_basket=DEFAULT_INITIAL_BASKET):\r\n",
        "    basket = initial_basket\r\n",
        "    if healthy:\r\n",
        "        basket.append(\"strawberry\")\r\n",
        "    else:\r\n",
        "        basket.append(\"jam\")\r\n",
        "\r\n",
        "    if hungry:\r\n",
        "        basket.append(\"sandwich\")\r\n",
        "    return basket\r\n",
        "\r\n",
        "print(\"First basket:\", create_picnic_basket(True, False))\r\n",
        "print(\"Second basket:\", create_picnic_basket(False, True, [\"tea\"]))\r\n",
        "print(\"Third basket:\", create_picnic_basket(True, True))    "
      ],
      "execution_count": 3,
      "outputs": [
        {
          "output_type": "stream",
          "text": [
            "First basket: ['orange', 'apple', 'strawberry']\n",
            "Second basket: ['tea', 'jam', 'sandwich']\n",
            "Third basket: ['orange', 'apple', 'strawberry', 'strawberry', 'sandwich']\n"
          ],
          "name": "stdout"
        }
      ]
    },
    {
      "cell_type": "code",
      "metadata": {
        "colab": {
          "base_uri": "https://localhost:8080/"
        },
        "id": "925H8o2jsrRs",
        "outputId": "1601f54c-e288-4b4e-abeb-09ff9e8d0e50"
      },
      "source": [
        "def create_picnic_basket(healthy, hungry, basket=None):\r\n",
        "    if basket is None:\r\n",
        "        basket = [\"orange\", \"apple\"]\r\n",
        "    if healthy:\r\n",
        "        basket.append(\"strawberry\")\r\n",
        "    else:\r\n",
        "        basket.append(\"jam\")\r\n",
        "    if hungry:\r\n",
        "        basket.append(\"sandwich\")\r\n",
        "    return basket\r\n",
        "\r\n",
        "print(\"First basket:\", create_picnic_basket(True, False))\r\n",
        "print(\"Second basket:\", create_picnic_basket(False, True, [\"tea\"]))\r\n",
        "print(\"Third basket:\", create_picnic_basket(True, True))        "
      ],
      "execution_count": 4,
      "outputs": [
        {
          "output_type": "stream",
          "text": [
            "First basket: ['orange', 'apple', 'strawberry']\n",
            "Second basket: ['tea', 'jam', 'sandwich']\n",
            "Third basket: ['orange', 'apple', 'strawberry', 'sandwich']\n"
          ],
          "name": "stdout"
        }
      ]
    }
  ]
}