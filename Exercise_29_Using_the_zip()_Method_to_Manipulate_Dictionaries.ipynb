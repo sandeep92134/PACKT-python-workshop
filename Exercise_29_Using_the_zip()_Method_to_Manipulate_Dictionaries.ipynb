{
  "nbformat": 4,
  "nbformat_minor": 0,
  "metadata": {
    "colab": {
      "name": "Exercise 29: Using the zip() Method to Manipulate Dictionaries",
      "provenance": [],
      "authorship_tag": "ABX9TyOfpoudUZf9OeAxtE9wNT9l",
      "include_colab_link": true
    },
    "kernelspec": {
      "name": "python3",
      "display_name": "Python 3"
    }
  },
  "cells": [
    {
      "cell_type": "markdown",
      "metadata": {
        "id": "view-in-github",
        "colab_type": "text"
      },
      "source": [
        "<a href=\"https://colab.research.google.com/github/sandeep92134/PACKT-python-workshop/blob/main/Exercise_29_Using_the_zip()_Method_to_Manipulate_Dictionaries.ipynb\" target=\"_parent\"><img src=\"https://colab.research.google.com/assets/colab-badge.svg\" alt=\"Open In Colab\"/></a>"
      ]
    },
    {
      "cell_type": "markdown",
      "metadata": {
        "id": "3Rg3rV33Tfni"
      },
      "source": [
        "In this exercise, you will be working on the concept of lists, but you will be focusing on manipulating them by combining different types of data structures. You will be using the zip() method to manipulate the lists with our shopping list. The following steps will help you to understand the zip() method:\n",
        "\n",
        "1. Open up a new Jupyter Notebook.\n",
        "2. Now create a new cell and type in the following code:"
      ]
    },
    {
      "cell_type": "code",
      "metadata": {
        "id": "bu-WtUCPTeVX"
      },
      "source": [
        "items = ['Apple', 'Mango', 'Orange', 'Banana']\n",
        "quantity = [5,4,3,2]"
      ],
      "execution_count": 1,
      "outputs": []
    },
    {
      "cell_type": "markdown",
      "metadata": {
        "id": "w-huo2baUM3A"
      },
      "source": [
        "Here, you have created a list of items and a list of quantity. Also, you have assigned values to these lists.\n",
        "\n",
        "3. Now, use the zip() function to combine the two lists into a list of tuples:"
      ]
    },
    {
      "cell_type": "code",
      "metadata": {
        "id": "b9heZepNUQVg",
        "outputId": "b9814abb-3f8c-46b9-d562-e10920de0b8f",
        "colab": {
          "base_uri": "https://localhost:8080/"
        }
      },
      "source": [
        "orders = zip(items,quantity)\n",
        "print(orders)"
      ],
      "execution_count": 2,
      "outputs": [
        {
          "output_type": "stream",
          "text": [
            "<zip object at 0x7f6e841cc548>\n"
          ],
          "name": "stdout"
        }
      ]
    },
    {
      "cell_type": "markdown",
      "metadata": {
        "id": "boZQ6CpaUnct"
      },
      "source": [
        "4. Enter the following code to turn that zip object into a list:"
      ]
    },
    {
      "cell_type": "code",
      "metadata": {
        "id": "5TD-KyqtUrWR",
        "outputId": "8b7e8aba-f4f7-4f3f-d85b-2caa0330982d",
        "colab": {
          "base_uri": "https://localhost:8080/"
        }
      },
      "source": [
        "orders = zip(items,quantity)\n",
        "print(list(orders))"
      ],
      "execution_count": 3,
      "outputs": [
        {
          "output_type": "stream",
          "text": [
            "[('Apple', 5), ('Mango', 4), ('Orange', 3), ('Banana', 2)]\n"
          ],
          "name": "stdout"
        }
      ]
    },
    {
      "cell_type": "markdown",
      "metadata": {
        "id": "1h7ZEVR_UvXE"
      },
      "source": [
        "5. You can also turn a zip object into a tuple:"
      ]
    },
    {
      "cell_type": "code",
      "metadata": {
        "id": "nLsHc4YuU34h",
        "outputId": "f4e9b31c-f339-4b65-ab55-fc358b340065",
        "colab": {
          "base_uri": "https://localhost:8080/"
        }
      },
      "source": [
        "orders = zip(items,quantity)\n",
        "print(tuple(orders))"
      ],
      "execution_count": 4,
      "outputs": [
        {
          "output_type": "stream",
          "text": [
            "(('Apple', 5), ('Mango', 4), ('Orange', 3), ('Banana', 2))\n"
          ],
          "name": "stdout"
        }
      ]
    },
    {
      "cell_type": "markdown",
      "metadata": {
        "id": "qMaz2ossU4hJ"
      },
      "source": [
        "6. You can also turn a zip() object into a dictionary:"
      ]
    },
    {
      "cell_type": "code",
      "metadata": {
        "id": "33qNaXVXVB2J",
        "outputId": "0352f73b-f83a-4888-8635-bf27f989e4e0",
        "colab": {
          "base_uri": "https://localhost:8080/"
        }
      },
      "source": [
        "orders = zip(items,quantity)\n",
        "print(dict(orders))"
      ],
      "execution_count": 5,
      "outputs": [
        {
          "output_type": "stream",
          "text": [
            "{'Apple': 5, 'Mango': 4, 'Orange': 3, 'Banana': 2}\n"
          ],
          "name": "stdout"
        }
      ]
    },
    {
      "cell_type": "markdown",
      "metadata": {
        "id": "lWwXAYQAVC88"
      },
      "source": [
        "Did you realize that you have to call orders = zip(items,quantity) every time? In this exercise, you will have noticed that a zip() object is an iterator and, therefore, once it has been converted to a list, tuple, or dictionary, it is considered a full iteration and it will not be able to generate anymore values."
      ]
    }
  ]
}