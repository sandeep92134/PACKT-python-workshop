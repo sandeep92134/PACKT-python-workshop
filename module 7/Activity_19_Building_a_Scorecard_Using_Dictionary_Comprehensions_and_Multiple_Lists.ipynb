{
  "nbformat": 4,
  "nbformat_minor": 0,
  "metadata": {
    "colab": {
      "name": "Activity 19: Building a Scorecard Using Dictionary Comprehensions and Multiple Lists",
      "provenance": [],
      "authorship_tag": "ABX9TyPYZMb4KfjLgfQNF+fXmPky",
      "include_colab_link": true
    },
    "kernelspec": {
      "name": "python3",
      "display_name": "Python 3"
    }
  },
  "cells": [
    {
      "cell_type": "markdown",
      "metadata": {
        "id": "view-in-github",
        "colab_type": "text"
      },
      "source": [
        "<a href=\"https://colab.research.google.com/github/sandeep92134/PACKT-python-workshop/blob/main/module%207/Activity_19_Building_a_Scorecard_Using_Dictionary_Comprehensions_and_Multiple_Lists.ipynb\" target=\"_parent\"><img src=\"https://colab.research.google.com/assets/colab-badge.svg\" alt=\"Open In Colab\"/></a>"
      ]
    },
    {
      "cell_type": "markdown",
      "metadata": {
        "id": "AecSCDCD-2Vy"
      },
      "source": [
        "###Building a Scorecard Using Dictionary Comprehensions and Multiple Lists\r\n",
        "You are the backend developer for a renowned college. The management has asked you to build a demo scorecard for their students based on the marks they have achieved in their exams.\r\n",
        "\r\n",
        "Your goal in this activity is to use dictionary comprehension and lists in Python to build a demo scorecard for four students in the college.\r\n",
        "\r\n",
        "Let's do this with the following steps:\r\n",
        "1. Create two separate lists: one for the names of the students and the other for their scores.\r\n",
        "2. Create a dictionary comprehension that iterates over the numbers in a range of the same length as the lists of names and scores. The comprehension should create a dictionary where, for the ith number in the range, the key is the ith name, and the value is the ith score.\r\n",
        "3. Print out the resulting dictionary to make sure it's correct."
      ]
    },
    {
      "cell_type": "code",
      "metadata": {
        "id": "cTGWOCLt-m2E"
      },
      "source": [
        "students = [\"Vivian\", \"Rachel\", \"Tom\", \"Adrian\"]\r\n",
        "points = [70, 82, 80, 79]"
      ],
      "execution_count": 1,
      "outputs": []
    },
    {
      "cell_type": "code",
      "metadata": {
        "colab": {
          "base_uri": "https://localhost:8080/"
        },
        "id": "_NkU5xu3-sLf",
        "outputId": "84d27cfe-8781-4bbc-9f9b-7176bd4162f5"
      },
      "source": [
        "scores = { students[i]:points[i] for i in range(4) }\r\n",
        "print(scores)"
      ],
      "execution_count": 2,
      "outputs": [
        {
          "output_type": "stream",
          "text": [
            "{'Vivian': 70, 'Rachel': 82, 'Tom': 80, 'Adrian': 79}\n"
          ],
          "name": "stdout"
        }
      ]
    }
  ]
}