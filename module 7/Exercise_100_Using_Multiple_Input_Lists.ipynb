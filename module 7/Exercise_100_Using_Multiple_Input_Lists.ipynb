{
  "nbformat": 4,
  "nbformat_minor": 0,
  "metadata": {
    "colab": {
      "name": "Exercise 100: Using Multiple Input Lists",
      "provenance": [],
      "authorship_tag": "ABX9TyOaCTZ4Xrfhv2uEGAf8M3iv",
      "include_colab_link": true
    },
    "kernelspec": {
      "name": "python3",
      "display_name": "Python 3"
    }
  },
  "cells": [
    {
      "cell_type": "markdown",
      "metadata": {
        "id": "view-in-github",
        "colab_type": "text"
      },
      "source": [
        "<a href=\"https://colab.research.google.com/github/sandeep92134/PACKT-python-workshop/blob/main/module%207/Exercise_100_Using_Multiple_Input_Lists.ipynb\" target=\"_parent\"><img src=\"https://colab.research.google.com/assets/colab-badge.svg\" alt=\"Open In Colab\"/></a>"
      ]
    },
    {
      "cell_type": "markdown",
      "metadata": {
        "id": "8IeGi9vU0lhA"
      },
      "source": [
        "1. Enter this code into a Jupyter notebook:\r\n",
        "   Inspecting the result shows that the collections are iterated in a nested fashion, with the rightmost collection on the inside of the nest and the leftmost on the outside. Here, if **x** is set to **spam**, then **x*y** is calculated with **y** being equal to each of the values of **1**, **2**, and then **3** before **x** is set to **eggs**, and so on.\r\n",
        "2. Reverse the order of the lists:\r\n",
        "   \r\n",
        "For instance, the same list could be iterated multiple times in a list comprehension — the lists for x and y do not have to be different"
      ]
    },
    {
      "cell_type": "code",
      "metadata": {
        "colab": {
          "base_uri": "https://localhost:8080/"
        },
        "id": "tOxZvgUpxBNc",
        "outputId": "de5f3dda-8305-4343-9906-6fe96dd93b6c"
      },
      "source": [
        "print([x*y for x in ['spam', 'eggs', 'chips'] for y in [1,2,3]])\r\n"
      ],
      "execution_count": 1,
      "outputs": [
        {
          "output_type": "stream",
          "text": [
            "['spam', 'spamspam', 'spamspamspam', 'eggs', 'eggseggs', 'eggseggseggs', 'chips', 'chipschips', 'chipschipschips']\n"
          ],
          "name": "stdout"
        }
      ]
    },
    {
      "cell_type": "code",
      "metadata": {
        "colab": {
          "base_uri": "https://localhost:8080/"
        },
        "id": "TfKuZCUGzR3L",
        "outputId": "ba39aee4-e640-42dd-a12b-c335c89be43f"
      },
      "source": [
        "print([x*y for x in [1,2,3] for y in ['spam', 'eggs', 'chips']])"
      ],
      "execution_count": 2,
      "outputs": [
        {
          "output_type": "stream",
          "text": [
            "['spam', 'eggs', 'chips', 'spamspam', 'eggseggs', 'chipschips', 'spamspamspam', 'eggseggseggs', 'chipschipschips']\n"
          ],
          "name": "stdout"
        }
      ]
    },
    {
      "cell_type": "code",
      "metadata": {
        "colab": {
          "base_uri": "https://localhost:8080/"
        },
        "id": "TQr9XVzH1f25",
        "outputId": "da9c38e1-15ba-4a64-e53c-35dbed02d6fc"
      },
      "source": [
        "number = [1,2,3,4]\r\n",
        "print([x*y for x in number for y in number])"
      ],
      "execution_count": 4,
      "outputs": [
        {
          "output_type": "stream",
          "text": [
            "[1, 2, 3, 4, 2, 4, 6, 8, 3, 6, 9, 12, 4, 8, 12, 16]\n"
          ],
          "name": "stdout"
        }
      ]
    },
    {
      "cell_type": "markdown",
      "metadata": {
        "id": "mB_pfi13zyg5"
      },
      "source": [
        "### practice"
      ]
    },
    {
      "cell_type": "code",
      "metadata": {
        "colab": {
          "base_uri": "https://localhost:8080/"
        },
        "id": "9QUz0ISnzpDT",
        "outputId": "59cf4d1f-1191-4efd-d32f-d714f19b70d4"
      },
      "source": [
        "number = [1,2,3,4]\r\n",
        "alpha = ['spam','eggs','chips']\r\n",
        "print([x*y for x in number for y in alpha])"
      ],
      "execution_count": 3,
      "outputs": [
        {
          "output_type": "stream",
          "text": [
            "['spam', 'eggs', 'chips', 'spamspam', 'eggseggs', 'chipschips', 'spamspamspam', 'eggseggseggs', 'chipschipschips', 'spamspamspamspam', 'eggseggseggseggs', 'chipschipschipschips']\n"
          ],
          "name": "stdout"
        }
      ]
    }
  ]
}