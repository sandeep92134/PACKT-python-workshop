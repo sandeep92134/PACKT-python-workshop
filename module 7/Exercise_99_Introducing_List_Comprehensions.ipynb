{
  "nbformat": 4,
  "nbformat_minor": 0,
  "metadata": {
    "colab": {
      "name": "Exercise 99: Introducing List Comprehensions",
      "provenance": [],
      "authorship_tag": "ABX9TyNoEg9gtVP91V4LfkhXvRL9",
      "include_colab_link": true
    },
    "kernelspec": {
      "name": "python3",
      "display_name": "Python 3"
    }
  },
  "cells": [
    {
      "cell_type": "markdown",
      "metadata": {
        "id": "view-in-github",
        "colab_type": "text"
      },
      "source": [
        "<a href=\"https://colab.research.google.com/github/sandeep92134/PACKT-python-workshop/blob/main/module%207/Exercise_99_Introducing_List_Comprehensions.ipynb\" target=\"_parent\"><img src=\"https://colab.research.google.com/assets/colab-badge.svg\" alt=\"Open In Colab\"/></a>"
      ]
    },
    {
      "cell_type": "markdown",
      "metadata": {
        "id": "F2afC9CqvAeW"
      },
      "source": [
        "In this exercise, you will be writing a program that creates a list of the cubes of whole numbers from 1 to 5. This example is trivial because we're focusing more on how you can build a list than on the specific operations that are done to each member of the list.\r\n",
        "\r\n",
        "Nonetheless, you may need to do this sort of thing in the real world. For instance, if you were to write a program to teach students about functions by graphing those functions. That application might require a list of **x** coordinates and generated a list of **y** coordinates so that it could plot a graph of the function. First, you will explore what this program looks like using the Python features you have already seen:\r\n",
        "\r\n",
        "1. Open a Jupyter notebook and type in the following code:\r\n",
        "\r\n",
        "   Understanding this code involves keeping track of the state of the cube's variable, which starts as an empty list, and of the x variable, which is used as a cursor to keep track of the program's position in the list. This is all irrelevant to the task at hand, which is to list the cubes of each of these numbers. It will be better – more Pythonic, even – to remove all the irrelevant details. Luckily, list comprehensions allow us to do that.\r\n",
        "2. Now write the following code, which replaces the previous loop with a list comprehension:\r\n",
        "\r\n",
        "   This says, \"For each member in the **[1,2,3,4,5]** list, call it x, calculate the x**3 expression, and put that in the list cubes.\" Instead of using the [1, 2, 3, 4, 5] list as input, you can use any other iterable as well; for example, a range.\r\n",
        "3. Now you can make this example even simpler by writing the following:\r\n",
        "\r\n",
        "   Now the code is as short and succinct as it can be. Rather than telling you the recipe that the computer follows to build a list of the cubes of the numbers 1, 2, 3, 4, and 5, it tells you that it calculates the cube of **x** for every **x** starting from 1 and smaller than 6. This, then, is the essence of Pythonic coding: reducing the gap between what you say and what you mean when you tell the computer what it should do. A list comprehension can also filter its inputs when building a list. To do this, you add an **if** expression to the end of the comprehension, where the expression can be any test of an input value that returns **True** or **False**. This is useful when you want to transform some of the values in a list while ignoring others. As an example, you could build a photo gallery of social media posts by making a list of thumbnail images from photos found in each post, but only when the posts are pictures, not text status updates.\r\n",
        "4. You want to get Python to shout the names of the Monty Python cast, but only those whose name begins with **\"T\"**. Enter the following Python code into a notebook:\r\n",
        "5. Those are the names you are going to use. Enter this list comprehension to filter only those that start with **\"T\"** and operate on them:"
      ]
    },
    {
      "cell_type": "code",
      "metadata": {
        "colab": {
          "base_uri": "https://localhost:8080/"
        },
        "id": "ci902gK9a_Bf",
        "outputId": "b3c0d841-e2c6-499b-e807-7a61879e0c54"
      },
      "source": [
        "# This is a familiar Python for..in loop for iterating over an array\r\n",
        "cubes = []\r\n",
        "for x in [1,2,3,4,5]:\r\n",
        "  cubes.append(x**3)\r\n",
        "\r\n",
        "print(cubes)  "
      ],
      "execution_count": 1,
      "outputs": [
        {
          "output_type": "stream",
          "text": [
            "[1, 8, 27, 64, 125]\n"
          ],
          "name": "stdout"
        }
      ]
    },
    {
      "cell_type": "code",
      "metadata": {
        "colab": {
          "base_uri": "https://localhost:8080/"
        },
        "id": "1GC0BYeet946",
        "outputId": "cc53c372-9283-4d14-d83e-16e11d14bee5"
      },
      "source": [
        "# The list comprehension achieves the same thing\r\n",
        "cubes = [x**3 for x in [1,2,3,4,5]]\r\n",
        "print(cubes)"
      ],
      "execution_count": 2,
      "outputs": [
        {
          "output_type": "stream",
          "text": [
            "[1, 8, 27, 64, 125]\n"
          ],
          "name": "stdout"
        }
      ]
    },
    {
      "cell_type": "code",
      "metadata": {
        "colab": {
          "base_uri": "https://localhost:8080/"
        },
        "id": "jvUy88StuZMN",
        "outputId": "5069f60e-728a-4923-c9d6-c1f44f0e59e7"
      },
      "source": [
        "cubes = [x**3 for x in range(1,6)]\r\n",
        "print(cubes)"
      ],
      "execution_count": 3,
      "outputs": [
        {
          "output_type": "stream",
          "text": [
            "[1, 8, 27, 64, 125]\n"
          ],
          "name": "stdout"
        }
      ]
    },
    {
      "cell_type": "code",
      "metadata": {
        "colab": {
          "base_uri": "https://localhost:8080/"
        },
        "id": "evv2ruLcunG9",
        "outputId": "72ca57a1-f01c-41af-d424-3bc32735ba23"
      },
      "source": [
        "names = [\"Graham Chapman\", \"John Cleese\", \"Terry Gilliam\", \"Eric Idle\", \"Terry Jones\"]\r\n",
        "print([name.upper() for name in names if name.startswith(\"T\")])"
      ],
      "execution_count": 4,
      "outputs": [
        {
          "output_type": "stream",
          "text": [
            "['TERRY GILLIAM', 'TERRY JONES']\n"
          ],
          "name": "stdout"
        }
      ]
    }
  ]
}