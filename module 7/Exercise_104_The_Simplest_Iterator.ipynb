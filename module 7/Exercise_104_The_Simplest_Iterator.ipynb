{
  "nbformat": 4,
  "nbformat_minor": 0,
  "metadata": {
    "colab": {
      "name": "Exercise 104: The Simplest Iterator",
      "provenance": [],
      "authorship_tag": "ABX9TyM24Jp3xNITNZ6P2UVTRwaj",
      "include_colab_link": true
    },
    "kernelspec": {
      "name": "python3",
      "display_name": "Python 3"
    }
  },
  "cells": [
    {
      "cell_type": "markdown",
      "metadata": {
        "id": "view-in-github",
        "colab_type": "text"
      },
      "source": [
        "<a href=\"https://colab.research.google.com/github/sandeep92134/PACKT-python-workshop/blob/main/module%207/Exercise_104_The_Simplest_Iterator.ipynb\" target=\"_parent\"><img src=\"https://colab.research.google.com/assets/colab-badge.svg\" alt=\"Open In Colab\"/></a>"
      ]
    },
    {
      "cell_type": "markdown",
      "metadata": {
        "id": "lR7SDkdMLqIl"
      },
      "source": [
        "The easiest way to provide an iterator for your class is to use one from another object. If you are designing a class that controls access to its own collection, then it might be a good idea to let programmers iterate over your object using the collection's iterator. In this case, just have __iter__() return the appropriate iterator.\r\n",
        "\r\n",
        "In this exercise, you will be coding an **Interrogator** who asks awkward questions to people on a quest. It takes a list of questions in its constructor. You will write this program that prints these questions as follows:\r\n",
        "\r\n",
        "1. Enter the constructor into a notebook:\r\n",
        "\r\n",
        "   Using an **Interrogator** in a loop probably means asking each of its questions in sequence. The easiest iterator that can achieve this is the iterator for the collection of questions. Therefore to implement the __iter__() method to return that object.\r\n",
        "2. Add the __iter__() method:\r\n",
        "   \r\n",
        "   Now you can create a list of questions, give them to an **Interrogator**, and use that object in a loop.\r\n",
        "3. Create a list of questions:\r\n",
        "4. Create an **Interrogator**:\r\n",
        "5. Now use the **Interrogator** in a **for** loop:"
      ]
    },
    {
      "cell_type": "code",
      "metadata": {
        "id": "WNzrELNjHJuO"
      },
      "source": [
        "class Interrogator:\r\n",
        "    def __init__(self, questions):\r\n",
        "        self.questions = questions\r\n",
        "    def __iter__(self):\r\n",
        "        return self.questions.__iter__()"
      ],
      "execution_count": 1,
      "outputs": []
    },
    {
      "cell_type": "code",
      "metadata": {
        "colab": {
          "base_uri": "https://localhost:8080/"
        },
        "id": "N2CugNpfK-Nk",
        "outputId": "d0e6f43d-dec7-4621-cde8-ac47b4f207b2"
      },
      "source": [
        "questions = [\"What is your name?\", \"What is your quest?\", \"What is the average airspeed velocity of an unladen swallow?\"]\r\n",
        "awkward_person = Interrogator(questions)\r\n",
        "for question in awkward_person:\r\n",
        "    print(question)"
      ],
      "execution_count": 2,
      "outputs": [
        {
          "output_type": "stream",
          "text": [
            "What is your name?\n",
            "What is your quest?\n",
            "What is the average airspeed velocity of an unladen swallow?\n"
          ],
          "name": "stdout"
        }
      ]
    }
  ]
}