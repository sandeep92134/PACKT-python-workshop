{
  "nbformat": 4,
  "nbformat_minor": 0,
  "metadata": {
    "colab": {
      "name": "Exercise 107: Using Infinite Sequences and takewhile",
      "provenance": [],
      "authorship_tag": "ABX9TyPSoWEHCZ/KGZ+HJaufOrjk",
      "include_colab_link": true
    },
    "kernelspec": {
      "name": "python3",
      "display_name": "Python 3"
    }
  },
  "cells": [
    {
      "cell_type": "markdown",
      "metadata": {
        "id": "view-in-github",
        "colab_type": "text"
      },
      "source": [
        "<a href=\"https://colab.research.google.com/github/sandeep92134/PACKT-python-workshop/blob/main/module%207/Exercise_107_Using_Infinite_Sequences_and_takewhile.ipynb\" target=\"_parent\"><img src=\"https://colab.research.google.com/assets/colab-badge.svg\" alt=\"Open In Colab\"/></a>"
      ]
    },
    {
      "cell_type": "markdown",
      "metadata": {
        "id": "3e-aN4ZrILoq"
      },
      "source": [
        "An alternative algorithm to the Sieve of Eratosthenes for generating prime numbers is to test each number in sequence – to see whether it has any divisors other than itself. This algorithm uses a lot more time than the Sieve in return for a lot less space.\r\n",
        "\r\n",
        "In this exercise, you will be implementing a better algorithm that uses less space than the Sieve for generating prime numbers:\r\n",
        "\r\n",
        "1. Enter this iterator algorithm into a notebook:\r\n",
        "# Exersize 107\r\n",
        "\r\n",
        " ```\r\n",
        " class Primes:\r\n",
        "    def __init__(self):\r\n",
        "        self.current = 2\r\n",
        "    def __iter__(self):\r\n",
        "        return self\r\n",
        "    def __next__(self):\r\n",
        "        while True:\r\n",
        "            current = self.current\r\n",
        "            square_root = int(current ** 0.5)\r\n",
        "            is_prime = True\r\n",
        " ```\r\n",
        "\r\n",
        "\r\n",
        "2. Enter the following code to get a list of primes that are lower than 100:\r\n",
        "   \r\n",
        "   `[p for p in Primes() if p <= 100]`\r\n",
        "   \r\n",
        "   Because the iterator never raises **StopIteration**, this program will never finish. You'll have to force it to exit. This is because of the fact this list comprehension is equivalent to  \r\n",
        "   \r\n",
        " ```\r\n",
        " myList = []\r\n",
        " for p in Primes():\r\n",
        "    if p < 100:\r\n",
        "        myList.append(p)\r\n",
        "\r\n",
        " ```\r\n",
        "\r\n",
        "  As we know that Primes() will iterate till infinity and therefore this loop will keep on executing and will never stop. Therefore the list comprehension will never stop till user interrupts.\r\n",
        "3. Click on the **Stop** button in the Jupyter notebook. You should get the following output:\r\n",
        "4. Use takewhile() to turn the infinite sequence into a finite one:\r\n",
        "\r\n",
        "Surprisingly, it's also useful to be able to turn a finite sequence into an infinite one."
      ]
    },
    {
      "cell_type": "code",
      "metadata": {
        "id": "Ec74UAU65aHl"
      },
      "source": [
        "class Primes: \r\n",
        "    def __init__(self):\r\n",
        "        self.current = 2\r\n",
        "        \r\n",
        "    def __iter__(self):\r\n",
        "        return self\r\n",
        "     \r\n",
        "    def __next__(self):\r\n",
        "        while True:\r\n",
        "            current = self.current\r\n",
        "            square_root = int(current ** 0.5)\r\n",
        "            is_prime = True\r\n",
        "            if square_root >= 2:\r\n",
        "                for i in range(2, square_root + 1):\r\n",
        "                    if current % i == 0:\r\n",
        "                        is_prime = False\r\n",
        "                        break\r\n",
        "            self.current += 1\r\n",
        "            if is_prime:\r\n",
        "                return current"
      ],
      "execution_count": 1,
      "outputs": []
    },
    {
      "cell_type": "code",
      "metadata": {
        "colab": {
          "base_uri": "https://localhost:8080/",
          "height": 306
        },
        "id": "z17TrasfIAme",
        "outputId": "f790ff9e-40e1-44e6-fe0b-674f0adb29cf"
      },
      "source": [
        "[p for p in Primes() if p <= 100]"
      ],
      "execution_count": 2,
      "outputs": [
        {
          "output_type": "error",
          "ename": "KeyboardInterrupt",
          "evalue": "ignored",
          "traceback": [
            "\u001b[0;31m---------------------------------------------------------------------------\u001b[0m",
            "\u001b[0;31mKeyboardInterrupt\u001b[0m                         Traceback (most recent call last)",
            "\u001b[0;32m<ipython-input-2-64fbdd46b348>\u001b[0m in \u001b[0;36m<module>\u001b[0;34m()\u001b[0m\n\u001b[0;32m----> 1\u001b[0;31m \u001b[0;34m[\u001b[0m\u001b[0mp\u001b[0m \u001b[0;32mfor\u001b[0m \u001b[0mp\u001b[0m \u001b[0;32min\u001b[0m \u001b[0mPrimes\u001b[0m\u001b[0;34m(\u001b[0m\u001b[0;34m)\u001b[0m \u001b[0;32mif\u001b[0m \u001b[0mp\u001b[0m \u001b[0;34m<=\u001b[0m \u001b[0;36m100\u001b[0m\u001b[0;34m]\u001b[0m\u001b[0;34m\u001b[0m\u001b[0;34m\u001b[0m\u001b[0m\n\u001b[0m",
            "\u001b[0;32m<ipython-input-2-64fbdd46b348>\u001b[0m in \u001b[0;36m<listcomp>\u001b[0;34m(.0)\u001b[0m\n\u001b[0;32m----> 1\u001b[0;31m \u001b[0;34m[\u001b[0m\u001b[0mp\u001b[0m \u001b[0;32mfor\u001b[0m \u001b[0mp\u001b[0m \u001b[0;32min\u001b[0m \u001b[0mPrimes\u001b[0m\u001b[0;34m(\u001b[0m\u001b[0;34m)\u001b[0m \u001b[0;32mif\u001b[0m \u001b[0mp\u001b[0m \u001b[0;34m<=\u001b[0m \u001b[0;36m100\u001b[0m\u001b[0;34m]\u001b[0m\u001b[0;34m\u001b[0m\u001b[0;34m\u001b[0m\u001b[0m\n\u001b[0m",
            "\u001b[0;32m<ipython-input-1-ca30ecc1584c>\u001b[0m in \u001b[0;36m__next__\u001b[0;34m(self)\u001b[0m\n\u001b[1;32m     13\u001b[0m             \u001b[0;32mif\u001b[0m \u001b[0msquare_root\u001b[0m \u001b[0;34m>=\u001b[0m \u001b[0;36m2\u001b[0m\u001b[0;34m:\u001b[0m\u001b[0;34m\u001b[0m\u001b[0;34m\u001b[0m\u001b[0m\n\u001b[1;32m     14\u001b[0m                 \u001b[0;32mfor\u001b[0m \u001b[0mi\u001b[0m \u001b[0;32min\u001b[0m \u001b[0mrange\u001b[0m\u001b[0;34m(\u001b[0m\u001b[0;36m2\u001b[0m\u001b[0;34m,\u001b[0m \u001b[0msquare_root\u001b[0m \u001b[0;34m+\u001b[0m \u001b[0;36m1\u001b[0m\u001b[0;34m)\u001b[0m\u001b[0;34m:\u001b[0m\u001b[0;34m\u001b[0m\u001b[0;34m\u001b[0m\u001b[0m\n\u001b[0;32m---> 15\u001b[0;31m                     \u001b[0;32mif\u001b[0m \u001b[0mcurrent\u001b[0m \u001b[0;34m%\u001b[0m \u001b[0mi\u001b[0m \u001b[0;34m==\u001b[0m \u001b[0;36m0\u001b[0m\u001b[0;34m:\u001b[0m\u001b[0;34m\u001b[0m\u001b[0;34m\u001b[0m\u001b[0m\n\u001b[0m\u001b[1;32m     16\u001b[0m                         \u001b[0mis_prime\u001b[0m \u001b[0;34m=\u001b[0m \u001b[0;32mFalse\u001b[0m\u001b[0;34m\u001b[0m\u001b[0;34m\u001b[0m\u001b[0m\n\u001b[1;32m     17\u001b[0m                         \u001b[0;32mbreak\u001b[0m\u001b[0;34m\u001b[0m\u001b[0;34m\u001b[0m\u001b[0m\n",
            "\u001b[0;31mKeyboardInterrupt\u001b[0m: "
          ]
        }
      ]
    },
    {
      "cell_type": "code",
      "metadata": {
        "colab": {
          "base_uri": "https://localhost:8080/"
        },
        "id": "ZXHArrW3ITvp",
        "outputId": "161a5605-0689-4772-ac33-1d57519777b0"
      },
      "source": [
        "import itertools\r\n",
        "print([p for p in itertools.takewhile(lambda x: x<100, Primes())])"
      ],
      "execution_count": 3,
      "outputs": [
        {
          "output_type": "stream",
          "text": [
            "[2, 3, 5, 7, 11, 13, 17, 19, 23, 29, 31, 37, 41, 43, 47, 53, 59, 61, 67, 71, 73, 79, 83, 89, 97]\n"
          ],
          "name": "stdout"
        }
      ]
    }
  ]
}