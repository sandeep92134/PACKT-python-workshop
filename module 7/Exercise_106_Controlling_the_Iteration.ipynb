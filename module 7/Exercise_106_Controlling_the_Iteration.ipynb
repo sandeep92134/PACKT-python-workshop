{
  "nbformat": 4,
  "nbformat_minor": 0,
  "metadata": {
    "colab": {
      "name": "Exercise 106: Controlling the Iteration",
      "provenance": [],
      "authorship_tag": "ABX9TyMaR7XPACf62uiBDFGHoW0R",
      "include_colab_link": true
    },
    "kernelspec": {
      "name": "python3",
      "display_name": "Python 3"
    }
  },
  "cells": [
    {
      "cell_type": "markdown",
      "metadata": {
        "id": "view-in-github",
        "colab_type": "text"
      },
      "source": [
        "<a href=\"https://colab.research.google.com/github/sandeep92134/PACKT-python-workshop/blob/main/module%207/Exercise_106_Controlling_the_Iteration.ipynb\" target=\"_parent\"><img src=\"https://colab.research.google.com/assets/colab-badge.svg\" alt=\"Open In Colab\"/></a>"
      ]
    },
    {
      "cell_type": "markdown",
      "metadata": {
        "id": "UTDhMRXR4KPJ"
      },
      "source": [
        "You do not have to use an iterator in a loop or comprehension. You can use the **iter()** function to get its argument's iterator object, and then pass that to the **next()** function to return successive values from the iterator. These functions call through to the __iter__() and __next__() methods, respectively. You can use them to add custom behavior to an iteration or to gain more control over the iteration.\r\n",
        "\r\n",
        "In this exercise, you will print the prime numbers below 5. An error should be raised when the object runs out of prime numbers. To do this, you will use the **PrimesBelow** class created in the previous exercise:\r\n",
        "\r\n",
        "1. Get the iterator for a **PrimesBelow** instance. **PrimesBelow** is the class you created in Exercise 105, A Custom Iterator, so if you still have the notebook you created for that exercise, you can enter this code in a cell at the end of that notebook:\r\n",
        "2. Repeatedly use **next()** with this object to generate successive prime numbers:\r\n",
        "3. When the object runs out of prime numbers, the subsequent use of **next() **raises the **StopIteration** error:\r\n"
      ]
    },
    {
      "cell_type": "code",
      "metadata": {
        "colab": {
          "base_uri": "https://localhost:8080/"
        },
        "id": "Zio6ikMn3Giw",
        "outputId": "1451df95-7d71-4116-c6e2-cd4f6dc87afc"
      },
      "source": [
        "class PrimesBelow:\r\n",
        "    def __init__(self, bound):\r\n",
        "        self.candidate_numbers = list(range(2,bound))\r\n",
        "    def __iter__(self):\r\n",
        "        return self\r\n",
        "    def __next__(self):\r\n",
        "        if len(self.candidate_numbers) == 0:\r\n",
        "            raise StopIteration\r\n",
        "        next_prime = self.candidate_numbers[0]\r\n",
        "        self.candidate_numbers = [x for x in self.candidate_numbers if x % next_prime != 0]\r\n",
        "        return next_prime\r\n",
        "\r\n",
        "primes_under_five = iter(PrimesBelow(5))\r\n",
        "next(primes_under_five)\r\n"
      ],
      "execution_count": 1,
      "outputs": [
        {
          "output_type": "execute_result",
          "data": {
            "text/plain": [
              "2"
            ]
          },
          "metadata": {
            "tags": []
          },
          "execution_count": 1
        }
      ]
    },
    {
      "cell_type": "code",
      "metadata": {
        "colab": {
          "base_uri": "https://localhost:8080/"
        },
        "id": "YBdPHgxL32R1",
        "outputId": "22d64777-5697-49b8-b643-4a82241421ad"
      },
      "source": [
        "next(primes_under_five)"
      ],
      "execution_count": 2,
      "outputs": [
        {
          "output_type": "execute_result",
          "data": {
            "text/plain": [
              "3"
            ]
          },
          "metadata": {
            "tags": []
          },
          "execution_count": 2
        }
      ]
    },
    {
      "cell_type": "code",
      "metadata": {
        "colab": {
          "base_uri": "https://localhost:8080/",
          "height": 282
        },
        "id": "xE4ea54C36N1",
        "outputId": "f75432d8-a598-4f65-dba4-5497853b8196"
      },
      "source": [
        "next(primes_under_five)"
      ],
      "execution_count": 3,
      "outputs": [
        {
          "output_type": "error",
          "ename": "StopIteration",
          "evalue": "ignored",
          "traceback": [
            "\u001b[0;31m---------------------------------------------------------------------------\u001b[0m",
            "\u001b[0;31mStopIteration\u001b[0m                             Traceback (most recent call last)",
            "\u001b[0;32m<ipython-input-3-34b9cc1f910c>\u001b[0m in \u001b[0;36m<module>\u001b[0;34m()\u001b[0m\n\u001b[0;32m----> 1\u001b[0;31m \u001b[0mnext\u001b[0m\u001b[0;34m(\u001b[0m\u001b[0mprimes_under_five\u001b[0m\u001b[0;34m)\u001b[0m\u001b[0;34m\u001b[0m\u001b[0;34m\u001b[0m\u001b[0m\n\u001b[0m",
            "\u001b[0;32m<ipython-input-1-663174a2addd>\u001b[0m in \u001b[0;36m__next__\u001b[0;34m(self)\u001b[0m\n\u001b[1;32m      6\u001b[0m     \u001b[0;32mdef\u001b[0m \u001b[0m__next__\u001b[0m\u001b[0;34m(\u001b[0m\u001b[0mself\u001b[0m\u001b[0;34m)\u001b[0m\u001b[0;34m:\u001b[0m\u001b[0;34m\u001b[0m\u001b[0;34m\u001b[0m\u001b[0m\n\u001b[1;32m      7\u001b[0m         \u001b[0;32mif\u001b[0m \u001b[0mlen\u001b[0m\u001b[0;34m(\u001b[0m\u001b[0mself\u001b[0m\u001b[0;34m.\u001b[0m\u001b[0mcandidate_numbers\u001b[0m\u001b[0;34m)\u001b[0m \u001b[0;34m==\u001b[0m \u001b[0;36m0\u001b[0m\u001b[0;34m:\u001b[0m\u001b[0;34m\u001b[0m\u001b[0;34m\u001b[0m\u001b[0m\n\u001b[0;32m----> 8\u001b[0;31m             \u001b[0;32mraise\u001b[0m \u001b[0mStopIteration\u001b[0m\u001b[0;34m\u001b[0m\u001b[0;34m\u001b[0m\u001b[0m\n\u001b[0m\u001b[1;32m      9\u001b[0m         \u001b[0mnext_prime\u001b[0m \u001b[0;34m=\u001b[0m \u001b[0mself\u001b[0m\u001b[0;34m.\u001b[0m\u001b[0mcandidate_numbers\u001b[0m\u001b[0;34m[\u001b[0m\u001b[0;36m0\u001b[0m\u001b[0;34m]\u001b[0m\u001b[0;34m\u001b[0m\u001b[0;34m\u001b[0m\u001b[0m\n\u001b[1;32m     10\u001b[0m         \u001b[0mself\u001b[0m\u001b[0;34m.\u001b[0m\u001b[0mcandidate_numbers\u001b[0m \u001b[0;34m=\u001b[0m \u001b[0;34m[\u001b[0m\u001b[0mx\u001b[0m \u001b[0;32mfor\u001b[0m \u001b[0mx\u001b[0m \u001b[0;32min\u001b[0m \u001b[0mself\u001b[0m\u001b[0;34m.\u001b[0m\u001b[0mcandidate_numbers\u001b[0m \u001b[0;32mif\u001b[0m \u001b[0mx\u001b[0m \u001b[0;34m%\u001b[0m \u001b[0mnext_prime\u001b[0m \u001b[0;34m!=\u001b[0m \u001b[0;36m0\u001b[0m\u001b[0;34m]\u001b[0m\u001b[0;34m\u001b[0m\u001b[0;34m\u001b[0m\u001b[0m\n",
            "\u001b[0;31mStopIteration\u001b[0m: "
          ]
        }
      ]
    }
  ]
}