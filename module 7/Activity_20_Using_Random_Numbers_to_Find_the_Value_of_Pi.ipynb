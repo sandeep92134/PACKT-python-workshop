{
  "nbformat": 4,
  "nbformat_minor": 0,
  "metadata": {
    "colab": {
      "name": "Activity 20: Using Random Numbers to Find the Value of Pi",
      "provenance": [],
      "authorship_tag": "ABX9TyP482DX5bT8+chgyjUO0GvI",
      "include_colab_link": true
    },
    "kernelspec": {
      "name": "python3",
      "display_name": "Python 3"
    }
  },
  "cells": [
    {
      "cell_type": "markdown",
      "metadata": {
        "id": "view-in-github",
        "colab_type": "text"
      },
      "source": [
        "<a href=\"https://colab.research.google.com/github/sandeep92134/PACKT-python-workshop/blob/main/module%207/Activity_20_Using_Random_Numbers_to_Find_the_Value_of_Pi.ipynb\" target=\"_parent\"><img src=\"https://colab.research.google.com/assets/colab-badge.svg\" alt=\"Open In Colab\"/></a>"
      ]
    },
    {
      "cell_type": "markdown",
      "metadata": {
        "id": "l6ngK6bTN18I"
      },
      "source": [
        "Write a generator to yield successive estimates of π. The steps are as follows:\r\n",
        "\r\n",
        "1. Define your generator function.\r\n",
        "2. Set the total number of points, and the number within the circle segment, to 0.\r\n",
        "3. Do the following substeps 10,000 times: Generate two numbers between 0 and 1, using Python's **random.random()** function. Add 1 to the total number of points. Use **math.sqrt()** to find out how far the point represented by the numbers is from (0,0). If the distance is less than 1; add 1 to the number of points within the circle. Calculate your estimate for π: 4 * (points within the circle) / (total points generated). If you have generated a multiple of 1,000 points, yield the approximate value for π. If you have generated 10,000 points, return the value.\r\n",
        "4. Inspect the successive estimates of π and check how close they are to the true value (**math.pi**). Note that because this activity uses random numbers, you may not get the exact results shown here:"
      ]
    },
    {
      "cell_type": "code",
      "metadata": {
        "colab": {
          "base_uri": "https://localhost:8080/"
        },
        "id": "E0lpk9wqNr5R",
        "outputId": "d8274dc0-1210-4552-8a3b-3b18ca6a1767"
      },
      "source": [
        "import math\r\n",
        "import random\r\n",
        "random.seed(0)\r\n",
        "\r\n",
        "def approximate_pi():\r\n",
        "    total_points = 0\r\n",
        "    within_circle = 0\r\n",
        "    for i in range (10001):\r\n",
        "        x = random.random()\r\n",
        "        y = random.random()\r\n",
        "        total_points += 1\r\n",
        "        distance = math.sqrt(x**2+y**2)\r\n",
        "        if distance < 1:\r\n",
        "            within_circle += 1\r\n",
        "        if total_points % 1000 == 0:\r\n",
        "            pi_estimate = 4 * within_circle / total_points\r\n",
        "            if total_points == 10000:\r\n",
        "                return pi_estimate\r\n",
        "            else:\r\n",
        "                yield pi_estimate\r\n",
        "\r\n",
        "estimates = [estimate for estimate in approximate_pi()]\r\n",
        "errors = [estimate - math.pi for estimate in estimates]\r\n",
        "\r\n",
        "print(estimates)\r\n",
        "print(errors)"
      ],
      "execution_count": 1,
      "outputs": [
        {
          "output_type": "stream",
          "text": [
            "[3.128, 3.136, 3.1253333333333333, 3.137, 3.1448, 3.1486666666666667, 3.149714285714286, 3.144, 3.1413333333333333]\n",
            "[-0.013592653589793002, -0.005592653589792995, -0.01625932025645982, -0.004592653589793105, 0.003207346410206924, 0.007074013076873609, 0.008121632124492795, 0.002407346410207012, -0.00025932025645980517]\n"
          ],
          "name": "stdout"
        }
      ]
    },
    {
      "cell_type": "code",
      "metadata": {
        "id": "sZXLYCoqOf2p"
      },
      "source": [
        ""
      ],
      "execution_count": null,
      "outputs": []
    }
  ]
}