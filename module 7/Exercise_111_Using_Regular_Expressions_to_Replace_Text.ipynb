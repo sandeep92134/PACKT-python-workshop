{
  "nbformat": 4,
  "nbformat_minor": 0,
  "metadata": {
    "colab": {
      "name": "Exercise 111: Using Regular Expressions to Replace Text",
      "provenance": [],
      "authorship_tag": "ABX9TyMvSrl0HyGssLitRMFWftFI",
      "include_colab_link": true
    },
    "kernelspec": {
      "name": "python3",
      "display_name": "Python 3"
    }
  },
  "cells": [
    {
      "cell_type": "markdown",
      "metadata": {
        "id": "view-in-github",
        "colab_type": "text"
      },
      "source": [
        "<a href=\"https://colab.research.google.com/github/sandeep92134/PACKT-python-workshop/blob/main/module%207/Exercise_111_Using_Regular_Expressions_to_Replace_Text.ipynb\" target=\"_parent\"><img src=\"https://colab.research.google.com/assets/colab-badge.svg\" alt=\"Open In Colab\"/></a>"
      ]
    },
    {
      "cell_type": "markdown",
      "metadata": {
        "id": "NFX9xPO-TguC"
      },
      "source": [
        "In this exercise, you'll use a regular expression to replace occurrences of a pattern in a string with a different pattern. The steps are as follows:\r\n",
        "\r\n",
        "1. Define the text to search:\r\n",
        " ```\r\n",
        " import re\r\n",
        " description = \"The Norwegian Blue is a wonderful parrot. This parrot is notable for its exquisite plumage.\"\r\n",
        " ```\r\n",
        "2. Define the pattern to search for, and its replacement:\r\n",
        " ```\r\n",
        " pattern = \"(parrot)\"\r\n",
        " replacement = \"ex-\\\\1\"\r\n",
        " ```\r\n",
        "3. Substitute the replacement for the search pattern, using the re.sub() function:\r\n",
        "\r\n",
        " `print(re.sub(pattern, replacement, description))`\r\n",
        "\r\n",
        "The replacement refers to the capture group, **\"\\1\"**, which is the first expression in the search pattern to be surrounded by parentheses. In this case, the capture group is the whole word **parrot**. This lets you refer to the word **parrot** in the replacement without having to type it out again."
      ]
    },
    {
      "cell_type": "code",
      "metadata": {
        "colab": {
          "base_uri": "https://localhost:8080/"
        },
        "id": "MmWuYyGBSvIO",
        "outputId": "11401275-6f96-4f9f-ecdc-564a8c4b1bcb"
      },
      "source": [
        "import re\r\n",
        "description = \"The Norwegian Blue is a wonderful parrot. This parrot is notable for its exquisite plumage.\"\r\n",
        "pattern = \"(parrot)\"\r\n",
        "replacement = \"ex-\\\\1\"\r\n",
        "print(re.sub(pattern, replacement, description))"
      ],
      "execution_count": 1,
      "outputs": [
        {
          "output_type": "stream",
          "text": [
            "The Norwegian Blue is a wonderful ex-parrot. This ex-parrot is notable for its exquisite plumage.\n"
          ],
          "name": "stdout"
        }
      ]
    }
  ]
}