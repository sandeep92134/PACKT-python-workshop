{
  "nbformat": 4,
  "nbformat_minor": 0,
  "metadata": {
    "colab": {
      "name": "Activity 21: Regular Expressions",
      "provenance": [],
      "authorship_tag": "ABX9TyPeYfLZBgMqlV0+gsgCfSoi",
      "include_colab_link": true
    },
    "kernelspec": {
      "name": "python3",
      "display_name": "Python 3"
    }
  },
  "cells": [
    {
      "cell_type": "markdown",
      "metadata": {
        "id": "view-in-github",
        "colab_type": "text"
      },
      "source": [
        "<a href=\"https://colab.research.google.com/github/sandeep92134/PACKT-python-workshop/blob/main/module%207/Activity_21_Regular_Expressions.ipynb\" target=\"_parent\"><img src=\"https://colab.research.google.com/assets/colab-badge.svg\" alt=\"Open In Colab\"/></a>"
      ]
    },
    {
      "cell_type": "markdown",
      "metadata": {
        "id": "WiXeUEFSVQZw"
      },
      "source": [
        "1. First, create the list of names:\r\n",
        " ```\r\n",
        " import re\r\n",
        " names = [\"Xander Harris\", \"Jennifer Smith\", \"Timothy Jones\", \"Amy Alexandrescu\", \"Peter Price\", \"Weifung Xu\"]\r\n",
        " ```\r\n",
        "2. Using the list comprehension syntax from this chapter makes finding the winners as easy as a single line of Python:\r\n",
        " ```\r\n",
        " winners = [name for name in names if re.search(\"[Xx]\", name)]\r\n",
        " ```\r\n",
        "3. Finally, print the list of winners:\r\n",
        " ```\r\n",
        " print(winners)\r\n",
        " ```\r\n",
        "\r\n",
        "In this activity, we used regular expressions and Python's **re** module to find customers from a list whose name contains the value of **Xx**."
      ]
    },
    {
      "cell_type": "code",
      "metadata": {
        "colab": {
          "base_uri": "https://localhost:8080/"
        },
        "id": "378qaTXVUxAf",
        "outputId": "04cf9327-6655-4f7f-fe7a-d26fe355e5f1"
      },
      "source": [
        "import re\r\n",
        "names = [\"Xander Harris\", \"Jennifer Smith\", \"Timothy Jones\", \"Amy Alexandrescu\", \"Peter Price\", \"Weifung Xu\"]\r\n",
        "winners = [name for name in names if re.search(\"[Xx]\", name)]\r\n",
        "print(winners)"
      ],
      "execution_count": 1,
      "outputs": [
        {
          "output_type": "stream",
          "text": [
            "['Xander Harris', 'Amy Alexandrescu', 'Weifung Xu']\n"
          ],
          "name": "stdout"
        }
      ]
    }
  ]
}