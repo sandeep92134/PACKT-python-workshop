{
  "nbformat": 4,
  "nbformat_minor": 0,
  "metadata": {
    "colab": {
      "name": "Activity 18: Building a Chess Tournament",
      "provenance": [],
      "authorship_tag": "ABX9TyPZmI50qjZi6QfoGlyscYOQ",
      "include_colab_link": true
    },
    "kernelspec": {
      "name": "python3",
      "display_name": "Python 3"
    }
  },
  "cells": [
    {
      "cell_type": "markdown",
      "metadata": {
        "id": "view-in-github",
        "colab_type": "text"
      },
      "source": [
        "<a href=\"https://colab.research.google.com/github/sandeep92134/PACKT-python-workshop/blob/main/module%207/Activity_18_Building_a_Chess_Tournament.ipynb\" target=\"_parent\"><img src=\"https://colab.research.google.com/assets/colab-badge.svg\" alt=\"Open In Colab\"/></a>"
      ]
    },
    {
      "cell_type": "markdown",
      "metadata": {
        "id": "qXxRhw_a2HWk"
      },
      "source": [
        "### Building a Chess Tournament\r\n",
        "In this activity, you will use a list comprehension to create the fixtures for a chess tournament. Fixtures are strings of the form \"player 1 versus player 2.\" Because there is a slight advantage to playing as white, you also want to generate the \"player 2 versus player 1\" fixture so that the tournament is fair. But you do not want people playing against themselves, so you should also filter out fixtures such as \"player 1 versus player 1.\"\r\n",
        "\r\n",
        "You need to complete this activity with the following steps:\r\n",
        "1. Open a Jupyter notebook.\r\n",
        "2. Define the list of player names: **Magnus Carlsen**, **Fabiano Caruana**, **Yifan Hou**, and**Wenjun Ju**.\r\n",
        "3. Create a list comprehension that uses this list of names twice to create tournament fixtures in the correct format.\r\n",
        "4. Add a filter to the comprehension so that no player is pitted against themselves.\r\n",
        "5. Print the list of tournament fixtures:"
      ]
    },
    {
      "cell_type": "code",
      "metadata": {
        "colab": {
          "base_uri": "https://localhost:8080/"
        },
        "id": "Jhr2X4WL1zv2",
        "outputId": "0f9e11e0-38f9-47bd-8a1b-e494d2ff63be"
      },
      "source": [
        "names = [\"Magnus Carlsen\", \"Fabiano Caruana\", \"Yifan Hou\", \"Wenjun Ju\"]\r\n",
        "fixtures = [f\"{p1} vs. {p2}\" for p1 in names for p2 in names if p1 != p2]\r\n",
        "print(fixtures)"
      ],
      "execution_count": 1,
      "outputs": [
        {
          "output_type": "stream",
          "text": [
            "['Magnus Carlsen vs. Fabiano Caruana', 'Magnus Carlsen vs. Yifan Hou', 'Magnus Carlsen vs. Wenjun Ju', 'Fabiano Caruana vs. Magnus Carlsen', 'Fabiano Caruana vs. Yifan Hou', 'Fabiano Caruana vs. Wenjun Ju', 'Yifan Hou vs. Magnus Carlsen', 'Yifan Hou vs. Fabiano Caruana', 'Yifan Hou vs. Wenjun Ju', 'Wenjun Ju vs. Magnus Carlsen', 'Wenjun Ju vs. Fabiano Caruana', 'Wenjun Ju vs. Yifan Hou']\n"
          ],
          "name": "stdout"
        }
      ]
    }
  ]
}