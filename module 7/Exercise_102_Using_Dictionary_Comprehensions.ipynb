{
  "nbformat": 4,
  "nbformat_minor": 0,
  "metadata": {
    "colab": {
      "name": "Exercise 102: Using Dictionary Comprehensions",
      "provenance": [],
      "authorship_tag": "ABX9TyPSOWLwTuPkSOz/zsyA7Qg6",
      "include_colab_link": true
    },
    "kernelspec": {
      "name": "python3",
      "display_name": "Python 3"
    }
  },
  "cells": [
    {
      "cell_type": "markdown",
      "metadata": {
        "id": "view-in-github",
        "colab_type": "text"
      },
      "source": [
        "<a href=\"https://colab.research.google.com/github/sandeep92134/PACKT-python-workshop/blob/main/module%207/Exercise_102_Using_Dictionary_Comprehensions.ipynb\" target=\"_parent\"><img src=\"https://colab.research.google.com/assets/colab-badge.svg\" alt=\"Open In Colab\"/></a>"
      ]
    },
    {
      "cell_type": "markdown",
      "metadata": {
        "id": "MI0cmTwQ9ZPX"
      },
      "source": [
        "Curly-brace comprehension can also be used to create a dictionary. The expression on the left-hand side of the **for** keyword in the comprehension should contain a key value pair. You write the expression that will generate the dictionary keys to the left of the colon and the expression that will generate the values to the right. Note that a key can only appear once in a dictionary.\r\n",
        "\r\n",
        "In this exercise, you will create a lookup dictionary of the lengths of the names in a list and print the length of each name:\r\n",
        "\r\n",
        "1. Enter this list of names of Monty Python stars in a notebook:\r\n",
        "2. Use a comprehension to create a lookup dictionary of the lengths of the names:\r\n",
        "\r\n",
        "Notice that the entry for **Terry** only appears once, because dictionaries cannot contain duplicate keys. You have created an index of the length of each name, keyed by name. An index like this could be useful in a game, where it could work out how to layout the score table for each player without repeatedly having to recalculate the length of each player's name."
      ]
    },
    {
      "cell_type": "code",
      "metadata": {
        "colab": {
          "base_uri": "https://localhost:8080/"
        },
        "id": "E-o0GT9p8WRd",
        "outputId": "d163829a-a425-4e23-9a95-b01215ad2bf2"
      },
      "source": [
        "names = [\"Eric\", \"Graham\", \"Terry\", \"John\", \"Terry\"]\r\n",
        "print({k:len(k) for k in [\"Eric\", \"Graham\", \"Terry\", \"John\", \"Terry\"]})"
      ],
      "execution_count": 1,
      "outputs": [
        {
          "output_type": "stream",
          "text": [
            "{'Eric': 4, 'Graham': 6, 'Terry': 5, 'John': 4}\n"
          ],
          "name": "stdout"
        }
      ]
    },
    {
      "cell_type": "markdown",
      "metadata": {
        "id": "syLqfiti821B"
      },
      "source": [
        "### OR"
      ]
    },
    {
      "cell_type": "code",
      "metadata": {
        "colab": {
          "base_uri": "https://localhost:8080/"
        },
        "id": "ws_rhsD480EJ",
        "outputId": "86a70dea-be6e-4fb5-8f9d-3d6ff2a0b765"
      },
      "source": [
        "names = [\"Eric\", \"Graham\", \"Terry\", \"John\", \"Terry\"]\r\n",
        "print({k:len(k) for k in names})"
      ],
      "execution_count": 2,
      "outputs": [
        {
          "output_type": "stream",
          "text": [
            "{'Eric': 4, 'Graham': 6, 'Terry': 5, 'John': 4}\n"
          ],
          "name": "stdout"
        }
      ]
    }
  ]
}