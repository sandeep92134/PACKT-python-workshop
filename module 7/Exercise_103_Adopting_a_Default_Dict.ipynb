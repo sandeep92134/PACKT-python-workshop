{
  "nbformat": 4,
  "nbformat_minor": 0,
  "metadata": {
    "colab": {
      "name": "Exercise 103: Adopting a Default Dict",
      "provenance": [],
      "authorship_tag": "ABX9TyPhWNcpvnPZdpHAtll+qrBv",
      "include_colab_link": true
    },
    "kernelspec": {
      "name": "python3",
      "display_name": "Python 3"
    }
  },
  "cells": [
    {
      "cell_type": "markdown",
      "metadata": {
        "id": "view-in-github",
        "colab_type": "text"
      },
      "source": [
        "<a href=\"https://colab.research.google.com/github/sandeep92134/PACKT-python-workshop/blob/main/module%207/Exercise_103_Adopting_a_Default_Dict.ipynb\" target=\"_parent\"><img src=\"https://colab.research.google.com/assets/colab-badge.svg\" alt=\"Open In Colab\"/></a>"
      ]
    },
    {
      "cell_type": "markdown",
      "metadata": {
        "id": "y7i2OR92DwgF"
      },
      "source": [
        "In this exercise, you will be using a regular dictionary that raises a KeyError when you try to access a missing key:\r\n",
        "\r\n",
        "1.  Create a dictionary for **john**:\r\n",
        "\r\n",
        " Attempt to use a **middle_name** key that was not defined in the dictionary\r\n",
        "2. Now, import the **defaultdict** from **collections** and wrap the dictionary in a **defaultdict**:\r\n",
        "   \r\n",
        " The first argument is the type constructor for a string, so missing keys will appear to have the empty string as their value.\r\n",
        "3. Attempt to use a key that was not defined via the wrapped dictionary:\r\n",
        "\r\n",
        " No exception is triggered at this stage; instead, an empty string is returned. The first argument to the constructor of **defaultdict**, called **default_factory**, can be any callable (that is, function-like) object. You can use this to compute a value based on the key or return a default value that is relevant to your domain.\r\n",
        "4. Create a **defaultdict** that uses lambda as its **default_factory**. **default_factory** is a function that returns the default value for the missing keys.\r\n",
        "\r\n",
        " This dictionary will return the value from the **lambda** on any unknown key.\r\n",
        "5. Access the value at an unknown key in this new dictionary:\r\n",
        "6. Access the value at a known key in this new dictionary:\r\n"
      ]
    },
    {
      "cell_type": "code",
      "metadata": {
        "id": "WvntEup-DO3i"
      },
      "source": [
        "john = { 'first_name': 'John', 'surname': 'Cleese' }"
      ],
      "execution_count": 1,
      "outputs": []
    },
    {
      "cell_type": "code",
      "metadata": {
        "colab": {
          "base_uri": "https://localhost:8080/",
          "height": 163
        },
        "id": "OgQaq9SgDXlm",
        "outputId": "84392c4e-4e0f-44f6-f1fb-32f2658bc6b2"
      },
      "source": [
        "john['middle_name']"
      ],
      "execution_count": 2,
      "outputs": [
        {
          "output_type": "error",
          "ename": "KeyError",
          "evalue": "ignored",
          "traceback": [
            "\u001b[0;31m---------------------------------------------------------------------------\u001b[0m",
            "\u001b[0;31mKeyError\u001b[0m                                  Traceback (most recent call last)",
            "\u001b[0;32m<ipython-input-2-8005b4591b0e>\u001b[0m in \u001b[0;36m<module>\u001b[0;34m()\u001b[0m\n\u001b[0;32m----> 1\u001b[0;31m \u001b[0mjohn\u001b[0m\u001b[0;34m[\u001b[0m\u001b[0;34m'middle_name'\u001b[0m\u001b[0;34m]\u001b[0m\u001b[0;34m\u001b[0m\u001b[0;34m\u001b[0m\u001b[0m\n\u001b[0m",
            "\u001b[0;31mKeyError\u001b[0m: 'middle_name'"
          ]
        }
      ]
    },
    {
      "cell_type": "code",
      "metadata": {
        "colab": {
          "base_uri": "https://localhost:8080/",
          "height": 35
        },
        "id": "d4tpWdxGDbvb",
        "outputId": "ddd4d5bc-68cf-4628-b74b-b37c42cf7227"
      },
      "source": [
        "from collections import defaultdict\r\n",
        "safe_john = defaultdict(str, john)\r\n",
        "safe_john['middle_name']"
      ],
      "execution_count": 3,
      "outputs": [
        {
          "output_type": "execute_result",
          "data": {
            "application/vnd.google.colaboratory.intrinsic+json": {
              "type": "string"
            },
            "text/plain": [
              "''"
            ]
          },
          "metadata": {
            "tags": []
          },
          "execution_count": 3
        }
      ]
    },
    {
      "cell_type": "code",
      "metadata": {
        "id": "dLSs1-cwDkwa"
      },
      "source": [
        "from collections import defaultdict\r\n",
        "courses = defaultdict(lambda: 'No!')\r\n",
        "courses['Java'] = 'This is Java'"
      ],
      "execution_count": 4,
      "outputs": []
    },
    {
      "cell_type": "code",
      "metadata": {
        "colab": {
          "base_uri": "https://localhost:8080/"
        },
        "id": "ZeS0IniPDoCn",
        "outputId": "4d1cdd1a-405d-4aca-8715-8418eb793522"
      },
      "source": [
        "print(courses['Python'])"
      ],
      "execution_count": 5,
      "outputs": [
        {
          "output_type": "stream",
          "text": [
            "No!\n"
          ],
          "name": "stdout"
        }
      ]
    },
    {
      "cell_type": "code",
      "metadata": {
        "colab": {
          "base_uri": "https://localhost:8080/"
        },
        "id": "65gWl04nDrJL",
        "outputId": "891477a5-b299-48ee-dacf-62bf7bb44d65"
      },
      "source": [
        "print(courses['Java'])"
      ],
      "execution_count": 6,
      "outputs": [
        {
          "output_type": "stream",
          "text": [
            "This is Java\n"
          ],
          "name": "stdout"
        }
      ]
    }
  ]
}