{
  "nbformat": 4,
  "nbformat_minor": 0,
  "metadata": {
    "colab": {
      "name": "Exercise 110: Matching Text with Regular Expressions",
      "provenance": [],
      "authorship_tag": "ABX9TyOig3ly4kirNCI8Tecf0JCY",
      "include_colab_link": true
    },
    "kernelspec": {
      "name": "python3",
      "display_name": "Python 3"
    }
  },
  "cells": [
    {
      "cell_type": "markdown",
      "metadata": {
        "id": "view-in-github",
        "colab_type": "text"
      },
      "source": [
        "<a href=\"https://colab.research.google.com/github/sandeep92134/PACKT-python-workshop/blob/main/module%207/Exercise_110_Matching_Text_with_Regular_Expressions.ipynb\" target=\"_parent\"><img src=\"https://colab.research.google.com/assets/colab-badge.svg\" alt=\"Open In Colab\"/></a>"
      ]
    },
    {
      "cell_type": "markdown",
      "metadata": {
        "id": "21GFfRojRICF"
      },
      "source": [
        "In this exercise, you'll use the Python re module to find instances of repeated letters in a string.\r\n",
        "\r\n",
        "The regex you will use is **(\\w)\\\\1+\".\"(\\w)**searches for a single character from a word (that is, any letter or the underscore character, _) and stores that in a numbered sub-expression, **\\1**. Then, **\\\\1+**uses a quantifier to find one or more occurrences of the same character. The steps for using this regex are as follows:\r\n",
        "\r\n",
        "1. Import the re module:\r\n",
        "   \r\n",
        "   `import re`\r\n",
        "2. Define the string that you will search for, and the pattern by which to search:\r\n",
        " \r\n",
        " ```\r\n",
        "  title = \"And now for something completely different\"\r\n",
        "pattern = \"(\\w)\\\\1+\"\r\n",
        " ```\r\n",
        "\r\n",
        "3. Search for the pattern and print the result:\r\n",
        "   \r\n",
        "   `print(re.search(pattern, title))`\r\n",
        "\r\n",
        "The **re.search()** function finds matches anywhere in the string: if it doesn't find any matches, it will return **None**. If you were only interested in whether the beginning of the string matched the pattern, you could use **re.match()**. Similarly, modifying the search pattern to start with the beginning-of-line marker (^) achieves the same aim as **re.search(\"^(\\w)\\\\1+\", title)**.   "
      ]
    },
    {
      "cell_type": "code",
      "metadata": {
        "colab": {
          "base_uri": "https://localhost:8080/"
        },
        "id": "TGENjc9ZPKwP",
        "outputId": "3b558be2-bd19-4f7f-d718-13eea020a3eb"
      },
      "source": [
        "import re \r\n",
        "title = \"And now for something completely different\"\r\n",
        "pattern = \"(\\w)\\\\1+\"\r\n",
        "print(re.search(pattern, title))"
      ],
      "execution_count": 1,
      "outputs": [
        {
          "output_type": "stream",
          "text": [
            "<_sre.SRE_Match object; span=(35, 37), match='ff'>\n"
          ],
          "name": "stdout"
        }
      ]
    }
  ]
}