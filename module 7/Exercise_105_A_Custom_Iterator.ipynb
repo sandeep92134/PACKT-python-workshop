{
  "nbformat": 4,
  "nbformat_minor": 0,
  "metadata": {
    "colab": {
      "name": "Exercise 105: A Custom Iterator",
      "provenance": [],
      "authorship_tag": "ABX9TyM/QmF8OPb0x39pYGVV6P6O",
      "include_colab_link": true
    },
    "kernelspec": {
      "name": "python3",
      "display_name": "Python 3"
    }
  },
  "cells": [
    {
      "cell_type": "markdown",
      "metadata": {
        "id": "view-in-github",
        "colab_type": "text"
      },
      "source": [
        "<a href=\"https://colab.research.google.com/github/sandeep92134/PACKT-python-workshop/blob/main/module%207/Exercise_105_A_Custom_Iterator.ipynb\" target=\"_parent\"><img src=\"https://colab.research.google.com/assets/colab-badge.svg\" alt=\"Open In Colab\"/></a>"
      ]
    },
    {
      "cell_type": "markdown",
      "metadata": {
        "id": "_zwL_Z_k09OZ"
      },
      "source": [
        "In this exercise, you'll implement a classical-era algorithm called the Sieve of Eratosthenes. To find prime numbers between 2 and an upper bound value, n, first, list all of the numbers in that range. Now, 2 is a prime, so return that. Then, remove 2 from the list, and all multiples of 2, and return the new lowest number (which will be 3). Continue until there are no more numbers left in the collection. Every number that gets returned using this method is a successively higher prime. It works because any number you find in the collection to return did not get removed at an earlier step, so has no lower prime factors other than itself.\r\n",
        "\r\n",
        "First, build the architecture of the class. Its constructor needs to take the upper bound value and generate the list of possible primes. The object can be its own iterator, so its __iter__() method will return itself:\r\n",
        "\r\n",
        "1. Define the **PrimesBelow** class and its initializer:\r\n",
        "2. Implement the __iter__() method to return itself:\r\n",
        "   \r\n",
        "   The main body of the algorithm is in the __next__() method. With each iteration, it finds the next lowest prime. If there isn't one, it raises **StopIteration**. If there is one, it sieves that prime number and its multiples from the collection and then returns the prime number.\r\n",
        "3. Define the __next__() method and the exit condition. If there are no remaining numbers in the collection, then the iteration can stop:\r\n",
        "4. Complete the implementation of __next__() by selecting the lowest number in the collection as the value for **next_prime** and removing any multiples of that number before returning the new prime:   \r\n",
        "5. Use an instance of this class to find all the prime numbers below 100:\r\n"
      ]
    },
    {
      "cell_type": "code",
      "metadata": {
        "id": "I1sP7WCzx659"
      },
      "source": [
        "class PrimesBelow:\r\n",
        "    def __init__(self, bound):\r\n",
        "        self.candidate_numbers = list(range(2,bound))\r\n",
        "    def __iter__(self):\r\n",
        "        return self\r\n",
        "    def __next__(self):\r\n",
        "        if len(self.candidate_numbers) == 0:\r\n",
        "            raise StopIteration\r\n",
        "        next_prime = self.candidate_numbers[0]\r\n",
        "        self.candidate_numbers = [x for x in self.candidate_numbers if x % next_prime != 0]\r\n",
        "        return next_prime"
      ],
      "execution_count": 1,
      "outputs": []
    },
    {
      "cell_type": "code",
      "metadata": {
        "colab": {
          "base_uri": "https://localhost:8080/"
        },
        "id": "IgElNtyr0qNJ",
        "outputId": "f2c0ce9c-50e7-4d38-e0ad-16033c51a805"
      },
      "source": [
        "primes_to_a_hundred = [prime for prime in PrimesBelow(100)]\r\n",
        "print(primes_to_a_hundred)"
      ],
      "execution_count": 2,
      "outputs": [
        {
          "output_type": "stream",
          "text": [
            "[2, 3, 5, 7, 11, 13, 17, 19, 23, 29, 31, 37, 41, 43, 47, 53, 59, 61, 67, 71, 73, 79, 83, 89, 97]\n"
          ],
          "name": "stdout"
        }
      ]
    }
  ]
}