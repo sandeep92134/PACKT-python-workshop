{
  "nbformat": 4,
  "nbformat_minor": 0,
  "metadata": {
    "colab": {
      "name": "Exercise 101: Using Set Comprehensions",
      "provenance": [],
      "authorship_tag": "ABX9TyOd+ROg/Al5tz9INQVHbeDK",
      "include_colab_link": true
    },
    "kernelspec": {
      "name": "python3",
      "display_name": "Python 3"
    }
  },
  "cells": [
    {
      "cell_type": "markdown",
      "metadata": {
        "id": "view-in-github",
        "colab_type": "text"
      },
      "source": [
        "<a href=\"https://colab.research.google.com/github/sandeep92134/PACKT-python-workshop/blob/main/module%207/Exercise_101_Using_Set_Comprehensions.ipynb\" target=\"_parent\"><img src=\"https://colab.research.google.com/assets/colab-badge.svg\" alt=\"Open In Colab\"/></a>"
      ]
    },
    {
      "cell_type": "markdown",
      "metadata": {
        "id": "XLxEUvKv7nmh"
      },
      "source": [
        "The difference between a list and a set is that the elements in a list have an order, and those in a set do not. This means that a set cannot contain duplicate entries: an object is either in a set or not.\r\n",
        "\r\n",
        "In this exercise, you will be changing a set comprehension into a set:\r\n",
        "\r\n",
        "1. Enter the following comprehension code into a notebook to create a list:\r\n",
        "2. Now change the result into a set. Change the outer square brackets in the comprehension to curly braces:\r\n",
        "\r\n",
        "Notice that the set created in step 2 is much shorter than the list created in step 1. The reason for this is that the set does not contain duplicate entries – try counting how many times the number 4 appears in each collection. It's in the list four times (because 0 + 4 = 4, 1 + 3 = 4, 2 + 2 = 4, and 3 + 1 = 4), but sets don't retain duplicates, so there's only one instance of the number 4 in the set. If you just removed the duplicates from the list produced in step 1, you'd have a list of [4, 3, 2, 1, 5, 6, 7]. Sets don't preserve the order of their elements either, so the numbers appear in a different order in the set created in step 2. The fact that the numbers in the set appear in numerical order is due to the implementation of the set type in Python."
      ]
    },
    {
      "cell_type": "code",
      "metadata": {
        "colab": {
          "base_uri": "https://localhost:8080/"
        },
        "id": "guyrLcZ76Hf4",
        "outputId": "abbb5090-41a9-4cd9-ebb6-aaadc2c818dc"
      },
      "source": [
        "print([a + b for a in [0,1,2,3] for b in [4,3,2,1]])"
      ],
      "execution_count": 2,
      "outputs": [
        {
          "output_type": "stream",
          "text": [
            "[4, 3, 2, 1, 5, 4, 3, 2, 6, 5, 4, 3, 7, 6, 5, 4]\n"
          ],
          "name": "stdout"
        }
      ]
    },
    {
      "cell_type": "code",
      "metadata": {
        "colab": {
          "base_uri": "https://localhost:8080/"
        },
        "id": "5u9C-RSo7Ojp",
        "outputId": "cab66a2f-580b-4c90-9205-be1bf2937fae"
      },
      "source": [
        "{a+b for a in [0,1,2,3] for b in [4,3,2,1]}"
      ],
      "execution_count": 3,
      "outputs": [
        {
          "output_type": "execute_result",
          "data": {
            "text/plain": [
              "{1, 2, 3, 4, 5, 6, 7}"
            ]
          },
          "metadata": {
            "tags": []
          },
          "execution_count": 3
        }
      ]
    }
  ]
}