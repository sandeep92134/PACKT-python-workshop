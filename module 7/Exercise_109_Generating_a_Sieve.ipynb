{
  "nbformat": 4,
  "nbformat_minor": 0,
  "metadata": {
    "colab": {
      "name": "Exercise 109: Generating a Sieve",
      "provenance": [],
      "authorship_tag": "ABX9TyMAA8LTAfwVvlI1sSkWfCxm",
      "include_colab_link": true
    },
    "kernelspec": {
      "name": "python3",
      "display_name": "Python 3"
    }
  },
  "cells": [
    {
      "cell_type": "markdown",
      "metadata": {
        "id": "view-in-github",
        "colab_type": "text"
      },
      "source": [
        "<a href=\"https://colab.research.google.com/github/sandeep92134/PACKT-python-workshop/blob/main/module%207/Exercise_109_Generating_a_Sieve.ipynb\" target=\"_parent\"><img src=\"https://colab.research.google.com/assets/colab-badge.svg\" alt=\"Open In Colab\"/></a>"
      ]
    },
    {
      "cell_type": "markdown",
      "metadata": {
        "id": "bzmiLOpvM7mv"
      },
      "source": [
        "In this exercise, you will be rewriting the Sieve of Eratosthenes as a generator function and comparing it with the result of the iterator version:\r\n",
        "\r\n",
        "1. Rewrite the Sieve of Eratosthenes as a generator function that yields its values:\r\n",
        "2. Confirm that the result is the same as the iterator version:\r\n",
        "\r\n",
        "That's really all there is to generators — they're just a different way of expressing an iterator. They do, however, communicate a different design intention; namely, that the flow of control is going to pass back and forth between the generator and its caller.\r\n",
        "\r\n",
        "The answer to Why does Python provide both the iterator and the generator? is found at the end of Exercise 109, Generating a Sieve. They do the same thing, but they expose different design intentions."
      ]
    },
    {
      "cell_type": "code",
      "metadata": {
        "colab": {
          "base_uri": "https://localhost:8080/"
        },
        "id": "T98Ik9vjMf2g",
        "outputId": "acffb358-d4ac-4933-80c8-881f808409ed"
      },
      "source": [
        "def primes_below(bound):\r\n",
        "    candidates = list(range(2,bound))\r\n",
        "    while(len(candidates) > 0):\r\n",
        "        yield candidates[0]\r\n",
        "        candidates = [c for c in candidates if c % candidates[0] != 0]\r\n",
        "\r\n",
        "print([prime for prime in primes_below(100)])"
      ],
      "execution_count": 2,
      "outputs": [
        {
          "output_type": "stream",
          "text": [
            "[2, 3, 5, 7, 11, 13, 17, 19, 23, 29, 31, 37, 41, 43, 47, 53, 59, 61, 67, 71, 73, 79, 83, 89, 97]\n"
          ],
          "name": "stdout"
        }
      ]
    }
  ]
}