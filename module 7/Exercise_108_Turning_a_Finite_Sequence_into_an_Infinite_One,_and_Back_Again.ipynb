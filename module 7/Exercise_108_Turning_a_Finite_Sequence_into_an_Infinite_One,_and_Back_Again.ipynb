{
  "nbformat": 4,
  "nbformat_minor": 0,
  "metadata": {
    "colab": {
      "name": "Exercise 108: Turning a Finite Sequence into an Infinite One, and Back Again",
      "provenance": [],
      "authorship_tag": "ABX9TyOcXBlgprXSMGFtRKUMdAFu",
      "include_colab_link": true
    },
    "kernelspec": {
      "name": "python3",
      "display_name": "Python 3"
    }
  },
  "cells": [
    {
      "cell_type": "markdown",
      "metadata": {
        "id": "view-in-github",
        "colab_type": "text"
      },
      "source": [
        "<a href=\"https://colab.research.google.com/github/sandeep92134/PACKT-python-workshop/blob/main/module%207/Exercise_108_Turning_a_Finite_Sequence_into_an_Infinite_One%2C_and_Back_Again.ipynb\" target=\"_parent\"><img src=\"https://colab.research.google.com/assets/colab-badge.svg\" alt=\"Open In Colab\"/></a>"
      ]
    },
    {
      "cell_type": "markdown",
      "metadata": {
        "id": "gw70ObwGLYuY"
      },
      "source": [
        "In this exercise, consider a turn-based game, such as chess. The person playing white makes the first move. Then, the person playing black takes their turn. Then white. Then black. Then white, black, white, and so on until the game ends. If you had an infinite list of white, black, white, black, white, and so on, then you could always look at the next element to decide whose turn it is:\r\n",
        "\r\n",
        "1. Enter the list of players into a notebook:\r\n",
        "2. Use the **itertools** function **cycle** to generate an infinite sequence of turns:\r\n",
        "\r\n",
        "   To demonstrate that this has the expected behavior, you'll want to turn it back into a finite sequence so that you can view the first few members of the **turns** iterator. You can use **takewhile()**for that, and, here, combine it with the **count()** function from **itertools**, which produces an infinite sequence of numbers.\r\n",
        "3. List the players who take the first 10 turns in a chess game:\r\n",
        "\r\n",
        "This is the \"round-robin\" algorithm for allocating actions (in this case, making a chess move) to resources (in this case, the players), and has many more applications than board games. A simple way to do load balancing between multiple servers in a web service or database application is to build an infinite sequence of the available servers and choose one in turn for each incoming request."
      ]
    },
    {
      "cell_type": "code",
      "metadata": {
        "colab": {
          "base_uri": "https://localhost:8080/"
        },
        "id": "eQIpgufdLF5E",
        "outputId": "03730abf-e7d9-4a9b-f9f7-1faffc8c7f56"
      },
      "source": [
        "import itertools\r\n",
        "players = ['White', 'Black']\r\n",
        "turns = itertools.cycle(players)\r\n",
        "countdown = itertools.count(10, -1)\r\n",
        "print([turn for turn in itertools.takewhile(lambda x:next(countdown)>0, turns)])\r\n"
      ],
      "execution_count": 1,
      "outputs": [
        {
          "output_type": "stream",
          "text": [
            "['White', 'Black', 'White', 'Black', 'White', 'Black', 'White', 'Black', 'White', 'Black']\n"
          ],
          "name": "stdout"
        }
      ]
    }
  ]
}