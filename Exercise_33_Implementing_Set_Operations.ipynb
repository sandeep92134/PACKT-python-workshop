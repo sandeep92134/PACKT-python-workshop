{
  "nbformat": 4,
  "nbformat_minor": 0,
  "metadata": {
    "colab": {
      "name": "Exercise 33: Implementing Set Operations",
      "provenance": [],
      "authorship_tag": "ABX9TyN7Qvu3aJs7DrQSBmnQmvBs",
      "include_colab_link": true
    },
    "kernelspec": {
      "name": "python3",
      "display_name": "Python 3"
    }
  },
  "cells": [
    {
      "cell_type": "markdown",
      "metadata": {
        "id": "view-in-github",
        "colab_type": "text"
      },
      "source": [
        "<a href=\"https://colab.research.google.com/github/sandeep92134/PACKT-python-workshop/blob/main/Exercise_33_Implementing_Set_Operations.ipynb\" target=\"_parent\"><img src=\"https://colab.research.google.com/assets/colab-badge.svg\" alt=\"Open In Colab\"/></a>"
      ]
    },
    {
      "cell_type": "markdown",
      "metadata": {
        "id": "ojaV6ZUyk6Da"
      },
      "source": [
        "In this exercise, we will be implementing and working with set operations:\n",
        "\n",
        "1. Open a new Jupyter notebook.\n",
        "2. In a new cell, type the following code to initialize two new sets"
      ]
    },
    {
      "cell_type": "code",
      "metadata": {
        "id": "R1dms9Dfk0Jr"
      },
      "source": [
        "s5 = {1,2,3,4}\n",
        "s6 = {3,4,5,6}"
      ],
      "execution_count": 1,
      "outputs": []
    },
    {
      "cell_type": "markdown",
      "metadata": {
        "id": "KcWuyQ0rlRIa"
      },
      "source": [
        "3. Use the | operator or the union method for a union operation:"
      ]
    },
    {
      "cell_type": "code",
      "metadata": {
        "id": "O5ECOUXnlc1J",
        "outputId": "739902b4-7805-4996-92c2-c0e2624b38cd",
        "colab": {
          "base_uri": "https://localhost:8080/"
        }
      },
      "source": [
        "print(s5 | s6)\n",
        "print(s5.union(s6))"
      ],
      "execution_count": 2,
      "outputs": [
        {
          "output_type": "stream",
          "text": [
            "{1, 2, 3, 4, 5, 6}\n",
            "{1, 2, 3, 4, 5, 6}\n"
          ],
          "name": "stdout"
        }
      ]
    },
    {
      "cell_type": "markdown",
      "metadata": {
        "id": "k2ArkIjClgDo"
      },
      "source": [
        "4. Now use the & operator or the intersection method for an intersection operation:"
      ]
    },
    {
      "cell_type": "code",
      "metadata": {
        "id": "-A0BpeZxlnXI",
        "outputId": "81aa3524-c6d5-484a-9b37-7e05042222b5",
        "colab": {
          "base_uri": "https://localhost:8080/"
        }
      },
      "source": [
        "print(s5 & s6)\n",
        "print(s5.intersection(s6))"
      ],
      "execution_count": 3,
      "outputs": [
        {
          "output_type": "stream",
          "text": [
            "{3, 4}\n",
            "{3, 4}\n"
          ],
          "name": "stdout"
        }
      ]
    },
    {
      "cell_type": "markdown",
      "metadata": {
        "id": "YWdlx_N_lvcg"
      },
      "source": [
        "5. Use the – operator or the difference method to find the difference between two sets:"
      ]
    },
    {
      "cell_type": "code",
      "metadata": {
        "id": "ucjU8ieJlz54",
        "outputId": "9d77519d-9195-46f7-a643-ae331647e395",
        "colab": {
          "base_uri": "https://localhost:8080/"
        }
      },
      "source": [
        "print(s5 - s6)\n",
        "print(s5.difference(s6))"
      ],
      "execution_count": 4,
      "outputs": [
        {
          "output_type": "stream",
          "text": [
            "{1, 2}\n",
            "{1, 2}\n"
          ],
          "name": "stdout"
        }
      ]
    },
    {
      "cell_type": "markdown",
      "metadata": {
        "id": "GQSNz9Irl07s"
      },
      "source": [
        "6. Now enter the <= operator or the issubset method to check if one set is a subset of another:"
      ]
    },
    {
      "cell_type": "code",
      "metadata": {
        "id": "pbk2xkg1l-Vk",
        "outputId": "43d08e78-efd2-4beb-dbf3-9c9da2f19dde",
        "colab": {
          "base_uri": "https://localhost:8080/"
        }
      },
      "source": [
        "print(s5 <= s6)\n",
        "print(s5.issubset(s6))\n",
        "s7 = {1,2,3}\n",
        "s8 = {1,2,3,4,5}\n",
        "print(s7 <= s8)\n",
        "print(s7.issubset(s8))"
      ],
      "execution_count": 5,
      "outputs": [
        {
          "output_type": "stream",
          "text": [
            "False\n",
            "False\n",
            "True\n",
            "True\n"
          ],
          "name": "stdout"
        }
      ]
    },
    {
      "cell_type": "markdown",
      "metadata": {
        "id": "ALOGIvNkl_JM"
      },
      "source": [
        "The first two statements will return False because s5 is not a subset of s6. The last two statements will return True because s7 is a subset of s8. Do take note that <= operator is a test for the subset. A proper subset is the same as a general subset, except that the sets cannot be identical. You can try it out in a new cell with the following code.\n",
        "\n",
        "7. Check whether s7 is a formal subset of s8, and check whether a set can be a proper subset of itself by entering the following code:\n"
      ]
    },
    {
      "cell_type": "code",
      "metadata": {
        "id": "Q-ntslaymI8x",
        "outputId": "31588790-cab9-4535-9ad9-59d9ce313f23",
        "colab": {
          "base_uri": "https://localhost:8080/"
        }
      },
      "source": [
        "print(s7 < s8)\n",
        "s9 = {1,2,3}\n",
        "s10 = {1,2,3}\n",
        "print(s9 < s10)\n",
        "print(s9 < s9)"
      ],
      "execution_count": 7,
      "outputs": [
        {
          "output_type": "stream",
          "text": [
            "True\n",
            "False\n",
            "False\n"
          ],
          "name": "stdout"
        }
      ]
    },
    {
      "cell_type": "markdown",
      "metadata": {
        "id": "kb1MIIromKCs"
      },
      "source": [
        "We can see that s7 is a proper subset of s8 because there are other elements in s8 apart from all the elements of s7. But s9 is not a subset of s10 because they are identical. Therefore, a set is not a subset of itself.\n",
        "\n",
        "8. Now use the >= operator or the issuperset method to check whether one set is the superset of another. Try it using the following code in another cell:"
      ]
    },
    {
      "cell_type": "code",
      "metadata": {
        "id": "y53IRcCRmY0k",
        "outputId": "80e06894-01ba-4b84-ff66-c9b733c052e1",
        "colab": {
          "base_uri": "https://localhost:8080/"
        }
      },
      "source": [
        "print(s8 >= s7)\n",
        "print(s8.issuperset(s7))\n",
        "print(s8 > s7)\n",
        "print(s8 > s8)"
      ],
      "execution_count": 8,
      "outputs": [
        {
          "output_type": "stream",
          "text": [
            "True\n",
            "True\n",
            "True\n",
            "False\n"
          ],
          "name": "stdout"
        }
      ]
    },
    {
      "cell_type": "markdown",
      "metadata": {
        "id": "DkESI2GCmaKV"
      },
      "source": [
        "The first three statements will return True because s8 is the superset of s7 and is also a proper superset of s7. The last statement will return False because no set can be a proper superset of itself.\n",
        "\n",
        "Having completed this exercise, you now know that Python sets are useful for efficiently preventing duplicate values and are suitable for common math operations such as unions and intersections.\n",
        "\n",
        "<font color=orange> Note: After all the topics covered so far, you may think that sets are similar to lists or dictionaries. However, sets are unordered and do not map keys to values, so they are neither a sequence nor a mapping type; they are a type by themselves.</font>"
      ]
    }
  ]
}