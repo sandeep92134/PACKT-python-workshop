{
  "nbformat": 4,
  "nbformat_minor": 0,
  "metadata": {
    "colab": {
      "name": "Exercise 21: Working with Python Lists",
      "provenance": [],
      "authorship_tag": "ABX9TyNyTJ1kgqyI2fONi5K/ay6R",
      "include_colab_link": true
    },
    "kernelspec": {
      "name": "python3",
      "display_name": "Python 3"
    }
  },
  "cells": [
    {
      "cell_type": "markdown",
      "metadata": {
        "id": "view-in-github",
        "colab_type": "text"
      },
      "source": [
        "<a href=\"https://colab.research.google.com/github/sandeep92134/PACKT-python-workshop/blob/main/Exercise_21_Working_with_Python_Lists.ipynb\" target=\"_parent\"><img src=\"https://colab.research.google.com/assets/colab-badge.svg\" alt=\"Open In Colab\"/></a>"
      ]
    },
    {
      "cell_type": "markdown",
      "metadata": {
        "id": "_LHjN-MRZKkX"
      },
      "source": [
        "In this exercise, you will learn how to work with a Python list by coding and creating a list and adding items. For example, this could prove useful if, for instance, you have to use a list to store the items that are in a shopping cart:\n",
        "\n",
        "1. Open a new Jupyter Notebook.\n",
        "2. Now enter the following code snippet:"
      ]
    },
    {
      "cell_type": "code",
      "metadata": {
        "id": "g9zArrIOUxRM",
        "outputId": "3f4ecec8-a63d-43d7-d8c4-da562e39094c",
        "colab": {
          "base_uri": "https://localhost:8080/"
        }
      },
      "source": [
        "shopping = [\"bread\", \"eggs\", \"milk\"]\n",
        "print(shopping)"
      ],
      "execution_count": 1,
      "outputs": [
        {
          "output_type": "stream",
          "text": [
            "['bread', 'eggs', 'milk']\n"
          ],
          "name": "stdout"
        }
      ]
    },
    {
      "cell_type": "markdown",
      "metadata": {
        "id": "JMlQ_99qZmcp"
      },
      "source": [
        "You created a list called shopping and added items to your list (bread, milk, and eggs). Since a list is a type of iterable in Python, you can use a for loop to iterate over all of the elements inside a list."
      ]
    },
    {
      "cell_type": "markdown",
      "metadata": {
        "id": "zxOjWsiIZtYO"
      },
      "source": [
        "3. Now, enter and execute the code for a for loop and observe the output:"
      ]
    },
    {
      "cell_type": "code",
      "metadata": {
        "id": "ZWcSJ1EdZtAV",
        "outputId": "9a2039f1-b8a3-425a-9283-3e5282e8bc48",
        "colab": {
          "base_uri": "https://localhost:8080/"
        }
      },
      "source": [
        "for items in shopping:\n",
        "  print(items)"
      ],
      "execution_count": 2,
      "outputs": [
        {
          "output_type": "stream",
          "text": [
            "bread\n",
            "eggs\n",
            "milk\n"
          ],
          "name": "stdout"
        }
      ]
    },
    {
      "cell_type": "markdown",
      "metadata": {
        "id": "eo9gFsz_Z_Hx"
      },
      "source": [
        "4. Now use a mixed type of data within the list's content and enter the following code in a new cell:"
      ]
    },
    {
      "cell_type": "code",
      "metadata": {
        "id": "ivyxWE9DaK5A",
        "outputId": "ef75072e-46a6-4951-f46c-761c435f49a5",
        "colab": {
          "base_uri": "https://localhost:8080/"
        }
      },
      "source": [
        "mixed = [365, \"days\",\"months\",True, False,\"Year\"]\n",
        "print(mixed)"
      ],
      "execution_count": 3,
      "outputs": [
        {
          "output_type": "stream",
          "text": [
            "[365, 'days', 'months', True, False, 'Year']\n"
          ],
          "name": "stdout"
        }
      ]
    },
    {
      "cell_type": "markdown",
      "metadata": {
        "id": "zvQuV0eMapDZ"
      },
      "source": [
        "But you might be wondering, in that case, shouldn't we be allowed to store a list of lists inside a list? Let's look at that in the next section. This is also known as a nested list, which can be used to represent a complex data structure.\n",
        "\n",
        "In Exercise 21, Working with Python Lists, you were introduced to the basics of Python lists.\n",
        "\n",
        "Later in this chapter, we will dive in deep and learn about the other types of lists that Python provides."
      ]
    }
  ]
}