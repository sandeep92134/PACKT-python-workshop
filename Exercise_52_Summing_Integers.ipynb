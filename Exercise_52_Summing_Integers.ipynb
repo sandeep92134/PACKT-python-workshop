{
  "nbformat": 4,
  "nbformat_minor": 0,
  "metadata": {
    "colab": {
      "name": "Exercise 52: Summing Integers",
      "provenance": [],
      "authorship_tag": "ABX9TyM+dBRa9sAPfVN0KAlTIJbu",
      "include_colab_link": true
    },
    "kernelspec": {
      "name": "python3",
      "display_name": "Python 3"
    }
  },
  "cells": [
    {
      "cell_type": "markdown",
      "metadata": {
        "id": "view-in-github",
        "colab_type": "text"
      },
      "source": [
        "<a href=\"https://colab.research.google.com/github/sandeep92134/PACKT-python-workshop/blob/main/Exercise_52_Summing_Integers.ipynb\" target=\"_parent\"><img src=\"https://colab.research.google.com/assets/colab-badge.svg\" alt=\"Open In Colab\"/></a>"
      ]
    },
    {
      "cell_type": "markdown",
      "metadata": {
        "id": "8G1wvQ55iwW-"
      },
      "source": [
        "In this exercise, you write **a sum_to_n** function to sum integers up to **n**. You store the results in a dictionary, and the function will use the stored results to return the answer in fewer iterations. For example, if you already know the sum of integers up to 5 is 15, you should be able to use this answer when computing the sum of integers up to 6:\n",
        "\n",
        "1. Create a new **dynamic.py** Python file.\n",
        "2. Write a **sum_to_n** function that starts with **result = 0**, and an empty dictionary for saving results:\n",
        "\n",
        " ```\n",
        " stored_results = {}\n",
        "def sum_to_n(n):\n",
        "    result = 0\n",
        " ```\n",
        "3. Add in a loop that computes the sum, returns the result, and stores the result in our dictionary:\n",
        "\n",
        " ```\n",
        "stored_results = {}\n",
        "def sum_to_n(n):\n",
        "    result = 0\n",
        "    for i in reversed(range(n)):\n",
        "        result += i + 1\n",
        "    stored_results[n] = result\n",
        "    return result\n",
        " ```\n",
        "4. Finally, extend the function further by checking in each loop whether you already have a result for this number; if so, use the stored result and exit the loop:\n",
        " ```\n",
        "stored_results = {}\n",
        "def sum_to_n(n):\n",
        "    result = 0\n",
        "    for i in reversed(range(n)):\n",
        "        if i + 1 in stored_results:\n",
        "            print('Stopping sum at %s because we have previously computed it' % str(i + 1))\n",
        "            result += stored_results[i + 1]\n",
        "            break\n",
        "        else:\n",
        "            result += i + 1\n",
        "    stored_results[n] = result\n",
        "    return result\n",
        " ```\n",
        "5. Test the function in a Python shell to find the sum of integers up to 5:\n",
        "\n",
        " `sum_to_n(5)`\n",
        "\n",
        " Now, test the function once again to find the sum of integers up to 6.\n",
        "\n",
        " `sum_to_n(6)`\n",
        "\n",
        "In this exercise, you were able to reduce the number of steps in our code using dynamic programming to find the sum of integers up to n. The results were stored in a dictionary, and the function uses the stored result to output the answer in fewer iterations."
      ]
    },
    {
      "cell_type": "code",
      "metadata": {
        "id": "X8ybZg1Vpm8b"
      },
      "source": [
        "stored_results = {}\n",
        "\n",
        "def sum_to_n(n):\n",
        "    result = 0"
      ],
      "execution_count": 1,
      "outputs": []
    },
    {
      "cell_type": "code",
      "metadata": {
        "id": "y4ybgr26ppoD"
      },
      "source": [
        "stored_results = {}\n",
        "\n",
        "def sum_to_n(n):\n",
        "    result = 0\n",
        "    for i in reversed(range(n)):\n",
        "        result += i + 1\n",
        "    stored_results[n] = result\n",
        "    return result"
      ],
      "execution_count": 2,
      "outputs": []
    },
    {
      "cell_type": "code",
      "metadata": {
        "id": "AzGPxAFcprti"
      },
      "source": [
        "stored_results = {}\n",
        "\n",
        "def sum_to_n(n):\n",
        "    result = 0\n",
        "    for i in reversed(range(n)):\n",
        "        if i + 1 in stored_results:\n",
        "            print('Stopping sum at %s because we have previously computed it' % str(i + 1))\n",
        "            result += stored_results[i + 1]\n",
        "            break\n",
        "        else:\n",
        "            result += i + 1\n",
        "    stored_results[n] = result\n",
        "    return result"
      ],
      "execution_count": 3,
      "outputs": []
    },
    {
      "cell_type": "code",
      "metadata": {
        "colab": {
          "base_uri": "https://localhost:8080/"
        },
        "id": "j82mpWFIpudH",
        "outputId": "21134136-5b79-46d4-dcdf-273429acf391"
      },
      "source": [
        "sum_to_n(5)"
      ],
      "execution_count": 4,
      "outputs": [
        {
          "output_type": "execute_result",
          "data": {
            "text/plain": [
              "15"
            ]
          },
          "metadata": {
            "tags": []
          },
          "execution_count": 4
        }
      ]
    },
    {
      "cell_type": "code",
      "metadata": {
        "colab": {
          "base_uri": "https://localhost:8080/"
        },
        "id": "3sSYp3e_pxgn",
        "outputId": "5300ba52-e60c-45f5-db7d-1e101c7f4aaa"
      },
      "source": [
        "sum_to_n(4)"
      ],
      "execution_count": 5,
      "outputs": [
        {
          "output_type": "execute_result",
          "data": {
            "text/plain": [
              "10"
            ]
          },
          "metadata": {
            "tags": []
          },
          "execution_count": 5
        }
      ]
    },
    {
      "cell_type": "code",
      "metadata": {
        "colab": {
          "base_uri": "https://localhost:8080/"
        },
        "id": "LTGe7308pzXz",
        "outputId": "46429d74-0130-4a93-b437-36fa5305ba0f"
      },
      "source": [
        "sum_to_n(6)"
      ],
      "execution_count": 6,
      "outputs": [
        {
          "output_type": "stream",
          "text": [
            "Stopping sum at 5 because we have previously computed it\n"
          ],
          "name": "stdout"
        },
        {
          "output_type": "execute_result",
          "data": {
            "text/plain": [
              "21"
            ]
          },
          "metadata": {
            "tags": []
          },
          "execution_count": 6
        }
      ]
    }
  ]
}