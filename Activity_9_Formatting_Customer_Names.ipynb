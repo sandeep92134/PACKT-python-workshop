{
  "nbformat": 4,
  "nbformat_minor": 0,
  "metadata": {
    "colab": {
      "name": "Activity 9: Formatting Customer Names",
      "provenance": [],
      "authorship_tag": "ABX9TyOPbwdLOOrQU0Hfqw6ZOCyR",
      "include_colab_link": true
    },
    "kernelspec": {
      "name": "python3",
      "display_name": "Python 3"
    }
  },
  "cells": [
    {
      "cell_type": "markdown",
      "metadata": {
        "id": "view-in-github",
        "colab_type": "text"
      },
      "source": [
        "<a href=\"https://colab.research.google.com/github/sandeep92134/PACKT-python-workshop/blob/main/Activity_9_Formatting_Customer_Names.ipynb\" target=\"_parent\"><img src=\"https://colab.research.google.com/assets/colab-badge.svg\" alt=\"Open In Colab\"/></a>"
      ]
    },
    {
      "cell_type": "markdown",
      "metadata": {
        "id": "upD3nDDfe1Ap"
      },
      "source": [
        "## The steps are as follows:\n",
        "\n",
        "- Create the **customer.py** file.\n",
        "- Define the **format_customer** function.\n",
        "- Open a Python shell and import your **format_customer** function.\n",
        "- Try running a few examples. The outputs should look like this:\n",
        "\n",
        "\n",
        "```\n",
        "from customer import format_customer\n",
        "format_customer('John', 'Smith', location='California')\n",
        "```\n",
        "\n"
      ]
    },
    {
      "cell_type": "markdown",
      "metadata": {
        "id": "jF5wUMWcf_aY"
      },
      "source": [
        "The **customer.py** file should look like the steps mentioned below. Note that there are many different valid ways to write this function:\n",
        "\n",
        "1. The **format_customer** function takes two required positional arguments, **first_name** and **last_name**, and one optional keyword argument, **location**:\n",
        "\n",
        "```\n",
        "def format_customer(first, last, location=None):\n",
        "```\n",
        "2. It then uses the % string formatting notation to create a **full_name** variable:\n",
        "    \n",
        "```\n",
        "full_name = '{} {}'.format(first, last)\n",
        "```\n",
        "3. The third line checks whether a location has been specified and, if so, appends the location details to the full name. If no location was specified, just the full name is returned:\n",
        "    \n",
        "```\n",
        "if location:\n",
        "        return '{} ({})'.format(full_name, location)\n",
        "    else:\n",
        "        return full_name\n",
        "```\n",
        "By the end of this activity, you are able to create a function that takes in various arguments for names and returns a string as you require.\n"
      ]
    },
    {
      "cell_type": "code",
      "metadata": {
        "colab": {
          "base_uri": "https://localhost:8080/"
        },
        "id": "Lpm8Z4qHeq-S",
        "outputId": "31a0c54c-6623-4856-aa2c-96d23c7379b1"
      },
      "source": [
        "%%writefile customer.py\n",
        "def format_customer(first, last, location=None):\n",
        "  full_name = '{} {}'.format(first, last)\n",
        "  if location:\n",
        "    return '{} ({})'.format(full_name, location)\n",
        "  else:\n",
        "    return full_name"
      ],
      "execution_count": 1,
      "outputs": [
        {
          "output_type": "stream",
          "text": [
            "Writing customer.py\n"
          ],
          "name": "stdout"
        }
      ]
    },
    {
      "cell_type": "code",
      "metadata": {
        "colab": {
          "base_uri": "https://localhost:8080/"
        },
        "id": "UqAQmCcbjXHg",
        "outputId": "fd0b5b1b-b398-4904-cab3-fbc65f22e683"
      },
      "source": [
        "!python"
      ],
      "execution_count": 2,
      "outputs": [
        {
          "output_type": "stream",
          "text": [
            "Python 3.6.9 (default, Oct  8 2020, 12:12:24) \n",
            "[GCC 8.4.0] on linux\n",
            "Type \"help\", \"copyright\", \"credits\" or \"license\" for more information.\n",
            ">>>  from customer import format_customer\n",
            "  File \"<stdin>\", line 1\n",
            "    from customer import format_customer\n",
            "    ^\n",
            "IndentationError: unexpected indent\n",
            ">>> from customer import format_customer\n",
            ">>> format_customer('John', 'Smith', location='California')\n",
            "'John Smith (California)'\n",
            ">>> format_customer('Mareike', 'Schmidt')\n",
            "'Mareike Schmidt'\n",
            ">>> exit()\n"
          ],
          "name": "stdout"
        }
      ]
    },
    {
      "cell_type": "code",
      "metadata": {
        "colab": {
          "base_uri": "https://localhost:8080/",
          "height": 35
        },
        "id": "rzc4vDY9kWA1",
        "outputId": "c11685d9-558f-46f5-f12c-98e80ec83244"
      },
      "source": [
        "from customer import format_customer\n",
        "format_customer('Bert', 'Gollnick', location='Germany')"
      ],
      "execution_count": 3,
      "outputs": [
        {
          "output_type": "execute_result",
          "data": {
            "application/vnd.google.colaboratory.intrinsic+json": {
              "type": "string"
            },
            "text/plain": [
              "'Bert Gollnick (Germany)'"
            ]
          },
          "metadata": {
            "tags": []
          },
          "execution_count": 3
        }
      ]
    },
    {
      "cell_type": "code",
      "metadata": {
        "colab": {
          "base_uri": "https://localhost:8080/",
          "height": 35
        },
        "id": "-TCz7CWekvip",
        "outputId": "0f357a29-d45e-4ec2-809e-42c5402d9d94"
      },
      "source": [
        "format_customer('Bert', 'Golnick')"
      ],
      "execution_count": 4,
      "outputs": [
        {
          "output_type": "execute_result",
          "data": {
            "application/vnd.google.colaboratory.intrinsic+json": {
              "type": "string"
            },
            "text/plain": [
              "'Bert Golnick'"
            ]
          },
          "metadata": {
            "tags": []
          },
          "execution_count": 4
        }
      ]
    }
  ]
}