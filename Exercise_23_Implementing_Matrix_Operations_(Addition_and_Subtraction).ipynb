{
  "nbformat": 4,
  "nbformat_minor": 0,
  "metadata": {
    "colab": {
      "name": "Exercise 23: Implementing Matrix Operations (Addition and Subtraction)",
      "provenance": [],
      "authorship_tag": "ABX9TyMBNV+4kYducMZa5tlFF/xB",
      "include_colab_link": true
    },
    "kernelspec": {
      "name": "python3",
      "display_name": "Python 3"
    }
  },
  "cells": [
    {
      "cell_type": "markdown",
      "metadata": {
        "id": "view-in-github",
        "colab_type": "text"
      },
      "source": [
        "<a href=\"https://colab.research.google.com/github/sandeep92134/PACKT-python-workshop/blob/main/Exercise_23_Implementing_Matrix_Operations_(Addition_and_Subtraction).ipynb\" target=\"_parent\"><img src=\"https://colab.research.google.com/assets/colab-badge.svg\" alt=\"Open In Colab\"/></a>"
      ]
    },
    {
      "cell_type": "markdown",
      "metadata": {
        "id": "Tobb-WacNmnV"
      },
      "source": [
        "In this exercise you will add and subtract the X and Y matrixes using Python.\n",
        "\n",
        "The following steps will enable you to complete the exercise:\n",
        "\n",
        "1. Open a new Jupyter Notebook.\n",
        "2. Create two nested lists, X and Y, to store the values:"
      ]
    },
    {
      "cell_type": "code",
      "metadata": {
        "id": "vc8NBGEZNkH7"
      },
      "source": [
        "X = [[1,2,3],[4,5,6],[7,8,9]]\n",
        "Y = [[10,11,12],[13,14,15],[16,17,18]]"
      ],
      "execution_count": 1,
      "outputs": []
    },
    {
      "cell_type": "markdown",
      "metadata": {
        "id": "uFjxwNzgOFq5"
      },
      "source": [
        "3. Initialize a 3 x 3 zero matrix called result as a placeholder:"
      ]
    },
    {
      "cell_type": "code",
      "metadata": {
        "id": "q2Sk7xWnOqoj"
      },
      "source": [
        "# Initialize a result placeholder\n",
        "result = [[0,0,0], \n",
        "    [0,0,0], \n",
        "    [0,0,0]] "
      ],
      "execution_count": 2,
      "outputs": []
    },
    {
      "cell_type": "markdown",
      "metadata": {
        "id": "IlUZQakFO6as"
      },
      "source": [
        "4. Now, implement the algorithm by iterating through the cells and columns of the matrix:"
      ]
    },
    {
      "cell_type": "code",
      "metadata": {
        "id": "JKKFnO0HPHx_",
        "outputId": "3f4692b8-3e8a-4b3f-f1d1-c8406739a3f9",
        "colab": {
          "base_uri": "https://localhost:8080/"
        }
      },
      "source": [
        "# iterate through rows\n",
        "for i in range(len(X)):  \n",
        "# iterate through columns \n",
        "  for j in range(len(X[0])): \n",
        "    result[i][j] = X[i][j] + Y[i][j] \n",
        "    \n",
        "print(result)"
      ],
      "execution_count": 3,
      "outputs": [
        {
          "output_type": "stream",
          "text": [
            "[[11, 13, 15], [17, 19, 21], [23, 25, 27]]\n"
          ],
          "name": "stdout"
        }
      ]
    },
    {
      "cell_type": "markdown",
      "metadata": {
        "id": "eAG4ZREFPced"
      },
      "source": [
        "You'll use the nested list method. As you learned in the previous section, you first iterate the rows in matrix X, then iterate the columns. You do not have to iterate matrix Y again because both matrixes are of the same dimensions. The result of a particular row (denoted by i) and a particular column (denoted by j) equals the sum of the respective row and column in matrixes X and Y.\n",
        "\n",
        "5. You can also perform subtraction using two matrices using the same algorithm with a different operator. The idea behind this is exactly the same as in step 3, except you are doing subtraction. You can implement the following code to try out matrix subtraction:"
      ]
    },
    {
      "cell_type": "code",
      "metadata": {
        "id": "cH52AlJ7Pvr1",
        "outputId": "1f053dd9-c4d8-43e2-b23d-1d4b99f10095",
        "colab": {
          "base_uri": "https://localhost:8080/"
        }
      },
      "source": [
        "X = [[10,11,12],[13,14,15],[16,17,18]]\n",
        "Y = [[1,2,3],[4,5,6],[7,8,9]]\n",
        "# Initialize a result placeholder\n",
        "result = [[0,0,0], \n",
        "    [0,0,0], \n",
        "    [0,0,0]] \n",
        "# iterate through rows \n",
        "for i in range(len(X)):  \n",
        "# iterate through columns \n",
        "  for j in range(len(X[0])): \n",
        "    result[i][j] = X[i][j] - Y[i][j] \n",
        "    \n",
        "print(result)"
      ],
      "execution_count": 4,
      "outputs": [
        {
          "output_type": "stream",
          "text": [
            "[[9, 9, 9], [9, 9, 9], [9, 9, 9]]\n"
          ],
          "name": "stdout"
        }
      ]
    },
    {
      "cell_type": "markdown",
      "metadata": {
        "id": "HsNlYlLjPzZn"
      },
      "source": [
        "In this exercise, you were able to perform basic addition and subtraction using two matrices. In the next topic, you will be using multiplication operators for matrixes."
      ]
    }
  ]
}