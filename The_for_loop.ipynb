{
  "nbformat": 4,
  "nbformat_minor": 0,
  "metadata": {
    "colab": {
      "name": "The for loop",
      "provenance": [],
      "authorship_tag": "ABX9TyM7WkjsCYr8e6ck4D4qdZ9K",
      "include_colab_link": true
    },
    "kernelspec": {
      "name": "python3",
      "display_name": "Python 3"
    }
  },
  "cells": [
    {
      "cell_type": "markdown",
      "metadata": {
        "id": "view-in-github",
        "colab_type": "text"
      },
      "source": [
        "<a href=\"https://colab.research.google.com/github/sandeep92134/PACKT-python-workshop/blob/main/The_for_loop.ipynb\" target=\"_parent\"><img src=\"https://colab.research.google.com/assets/colab-badge.svg\" alt=\"Open In Colab\"/></a>"
      ]
    },
    {
      "cell_type": "markdown",
      "metadata": {
        "id": "Ex74BzVzDCAP"
      },
      "source": [
        "The for loops are similar to while loops, but they have additional advantages, such as being able to iterate over strings and other objects."
      ]
    },
    {
      "cell_type": "markdown",
      "metadata": {
        "id": "_F2q0rj_C1nN"
      },
      "source": [
        "### The continue keyword\n",
        "\n",
        "continue is another Python keyword designed for loops. When Python reaches the continue keyword, it stops the code and goes back to the beginning of the loop. continue is similar to break because they both interrupt the loop process, but break terminates the loop, continue continues the loop from the beginning."
      ]
    },
    {
      "cell_type": "code",
      "metadata": {
        "id": "IWksK6DUCuNH",
        "outputId": "4ef2abe4-e7fd-4489-ba51-0dfbdf72c7cd",
        "colab": {
          "base_uri": "https://localhost:8080/"
        }
      },
      "source": [
        "for num in range(10,100):\n",
        "  if num % 2 == 0:\n",
        "    continue\n",
        "  if num % 3 == 0:\n",
        "    continue\n",
        "  if num % 5 == 0:\n",
        "    continue\n",
        "  if num % 7 == 0:\n",
        "    continue\n",
        "  print(num)"
      ],
      "execution_count": 1,
      "outputs": [
        {
          "output_type": "stream",
          "text": [
            "11\n",
            "13\n",
            "17\n",
            "19\n",
            "23\n",
            "29\n",
            "31\n",
            "37\n",
            "41\n",
            "43\n",
            "47\n",
            "53\n",
            "59\n",
            "61\n",
            "67\n",
            "71\n",
            "73\n",
            "79\n",
            "83\n",
            "89\n",
            "97\n"
          ],
          "name": "stdout"
        }
      ]
    }
  ]
}