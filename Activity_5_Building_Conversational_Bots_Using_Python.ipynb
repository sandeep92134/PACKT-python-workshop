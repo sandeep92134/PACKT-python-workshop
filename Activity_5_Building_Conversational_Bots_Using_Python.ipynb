{
  "nbformat": 4,
  "nbformat_minor": 0,
  "metadata": {
    "colab": {
      "name": "Activity 5: Building Conversational Bots Using Python ",
      "provenance": [],
      "authorship_tag": "ABX9TyPnNdTDM/+zhK3Bv0zB9Mpf",
      "include_colab_link": true
    },
    "kernelspec": {
      "name": "python3",
      "display_name": "Python 3"
    }
  },
  "cells": [
    {
      "cell_type": "markdown",
      "metadata": {
        "id": "view-in-github",
        "colab_type": "text"
      },
      "source": [
        "<a href=\"https://colab.research.google.com/github/sandeep92134/PACKT-python-workshop/blob/main/Activity_5_Building_Conversational_Bots_Using_Python.ipynb\" target=\"_parent\"><img src=\"https://colab.research.google.com/assets/colab-badge.svg\" alt=\"Open In Colab\"/></a>"
      ]
    },
    {
      "cell_type": "markdown",
      "metadata": {
        "id": "Xp3iUJHAKv_e"
      },
      "source": [
        "For the first bot, the solution is as follows:\n",
        "\n",
        "1. This step shows the first question asked of the user:"
      ]
    },
    {
      "cell_type": "code",
      "metadata": {
        "id": "kn3te3YhKTjM",
        "outputId": "dc8e672e-7d65-4ded-9830-a4c780f09f28",
        "colab": {
          "base_uri": "https://localhost:8080/"
        }
      },
      "source": [
        "print('Whats is your name?')"
      ],
      "execution_count": 1,
      "outputs": [
        {
          "output_type": "stream",
          "text": [
            "Whats is your name?\n"
          ],
          "name": "stdout"
        }
      ]
    },
    {
      "cell_type": "markdown",
      "metadata": {
        "id": "MRAoKG5GNp3S"
      },
      "source": [
        "2. This will give the following output:\n",
        "   \n",
        "   'What is your name?'"
      ]
    },
    {
      "cell_type": "markdown",
      "metadata": {
        "id": "O1jIG57nLF99"
      },
      "source": [
        "3. This step shows the responses with the answer"
      ]
    },
    {
      "cell_type": "code",
      "metadata": {
        "id": "NS6dSjFCOO8I",
        "outputId": "fb6428f9-27f2-4b8b-ad0f-845d7e3a0205",
        "colab": {
          "base_uri": "https://localhost:8080/"
        }
      },
      "source": [
        "name = input()\n",
        "print('fascinating.', name, 'is my name too.')"
      ],
      "execution_count": 2,
      "outputs": [
        {
          "output_type": "stream",
          "text": [
            "SANDY\n",
            "fascinating. SANDY is my name too.\n"
          ],
          "name": "stdout"
        }
      ]
    },
    {
      "cell_type": "markdown",
      "metadata": {
        "id": "lRlwknEZOiXm"
      },
      "source": [
        "4. This step shows the second question asked of the user:"
      ]
    },
    {
      "cell_type": "code",
      "metadata": {
        "id": "jL3E2jzzOs4X",
        "outputId": "91771370-79ca-45e3-8801-f248cab944e8",
        "colab": {
          "base_uri": "https://localhost:8080/"
        }
      },
      "source": [
        "print('Have you thought about black holes today?')"
      ],
      "execution_count": 3,
      "outputs": [
        {
          "output_type": "stream",
          "text": [
            "Have you thought about black holes today?\n"
          ],
          "name": "stdout"
        }
      ]
    },
    {
      "cell_type": "markdown",
      "metadata": {
        "id": "u2H7JqszOuDN"
      },
      "source": [
        "5. This step shows the response with the answer:"
      ]
    },
    {
      "cell_type": "code",
      "metadata": {
        "id": "tMhRO5HlO2Q-",
        "outputId": "1a8b5743-eaca-47ba-e733-83457d1cdd6f",
        "colab": {
          "base_uri": "https://localhost:8080/"
        }
      },
      "source": [
        "yes_no = input() \n",
        "print('I am so glad you said', yes_no, '. I was thinking the same thing.')"
      ],
      "execution_count": 4,
      "outputs": [
        {
          "output_type": "stream",
          "text": [
            "yes\n",
            "I am so glad you said yes . I was thinking the same thing.\n"
          ],
          "name": "stdout"
        }
      ]
    },
    {
      "cell_type": "code",
      "metadata": {
        "id": "YHdC4imaTZvN",
        "outputId": "e989f3c8-0b57-4ece-e583-60442dfed4b8",
        "colab": {
          "base_uri": "https://localhost:8080/"
        }
      },
      "source": [
        "yes_no = input() \n",
        "print('I am so glad you said', yes_no, '. I was thinking the same thing.')"
      ],
      "execution_count": 5,
      "outputs": [
        {
          "output_type": "stream",
          "text": [
            "no\n",
            "I am so glad you said no . I was thinking the same thing.\n"
          ],
          "name": "stdout"
        }
      ]
    },
    {
      "cell_type": "markdown",
      "metadata": {
        "id": "vC82ITHuPBXO"
      },
      "source": [
        "6. This step shows the response with the answer:"
      ]
    },
    {
      "cell_type": "code",
      "metadata": {
        "id": "OpNWCQpIPIz_",
        "outputId": "8aca3334-0d75-4ecf-9149-06af96324124",
        "colab": {
          "base_uri": "https://localhost:8080/"
        }
      },
      "source": [
        "print('We\\'re kindred spirits,', name, '. Talk later.')"
      ],
      "execution_count": 6,
      "outputs": [
        {
          "output_type": "stream",
          "text": [
            "We're kindred spirits, SANDY . Talk later.\n"
          ],
          "name": "stdout"
        }
      ]
    },
    {
      "cell_type": "markdown",
      "metadata": {
        "id": "I_1usz62Po3A"
      },
      "source": [
        "Now , moving on the second bot:"
      ]
    },
    {
      "cell_type": "markdown",
      "metadata": {
        "id": "7mMk-bFcPLDH"
      },
      "source": [
        "7. Create an input() function for a smart variable and change the type to int:"
      ]
    },
    {
      "cell_type": "code",
      "metadata": {
        "id": "MhJneB8qPWLg",
        "outputId": "1ee2adc5-0346-4333-de55-a70ca1f7ec9f",
        "colab": {
          "base_uri": "https://localhost:8080/"
        }
      },
      "source": [
        "print('How intelligent are you? 0 is very dumb. And 10 is a genius') \n",
        "smarts = input()\n",
        "smarts = int(smarts)\n",
        "\n",
        "# 8. Create an if loop so that if the user enters a value equal to or less than 3, we print I don't believe you. If not, then print the next statement:\n",
        "if smarts <= 3:\n",
        "  print('I don\\'t believe you.')\n",
        "  print('How bad of a day are you having? 0 is the worst, and 10 is the best.')\n",
        "  # 9. Create an input() function for the day variable and change the type to int:\n",
        "  day = input()\n",
        "  day = int(day)\n",
        "  # 10. Now, create an if else loop where if the user entered a value less than or equal to 5, we print the output statement. If not, then we print the output else statement:\n",
        "  if day <= 5:\n",
        "    print('If I was human, I would give you a hug.')\n",
        "  else:\n",
        "    print('Maybe I should try your approach.')\n",
        "    \n",
        "# 11. Continue the loop using elif, also called else-if, where if the user enters a value less than or equal to 6, we print the corresponding statement:\n",
        "elif smarts <= 6:\n",
        "  print('I think you\\'re actually smarter.')\n",
        "  print('How much time do you spend online? 0 is none and 10 is 24 hours a day.')\n",
        "  # 12. Now, build another input() function for the hours variable and change the type to int. Use the if-else loop so that if the user enters a value less than or equal to 4, we print the corresponding statement. If not, print the other statement:\n",
        "  hours = input()\n",
        "  hours = int(hours)\n",
        "  if hours <= 4:\n",
        "    print('That\\'s the problem.')\n",
        "  else:\n",
        "    print('And I thought it was only me.')\n",
        "\n",
        "# 13. Using the elif loop, we check the smart variable and output the corresponding print statement. We also use if-else to find out whether the user has entered a value less than or equal to 5:\n",
        "elif smarts <= 8:\n",
        "  print('Are you human by chance? Wait. Don\\'t answer that.')\n",
        "  print('How human are you? 0 is not at all and 10 is human all the way.')\n",
        "  human = input()\n",
        "  human = int(human)\n",
        "  if human <= 5:\n",
        "    print('I knew it.')\n",
        "  else:\n",
        "    print('I think this courtship is over.')\n",
        "\n",
        "# 14. We continue with the else loop from the if-else from step 7 and set the appropriate conditions and print statements:\n",
        "else:\n",
        "  print('I see... How many operating systems do you run?')\n",
        "  # 15. Set the input() functions once again to the os variable and change the type to int, after which we output the corresponding print statement depending on the user's input values:\n",
        "  os = input()\n",
        "  os = int(os)\n",
        "  if os <= 2:\n",
        "    print('Good thing you\\'re taking this course.')\n",
        "  else:\n",
        "    print('What is this? A competition?')"
      ],
      "execution_count": 7,
      "outputs": [
        {
          "output_type": "stream",
          "text": [
            "How intelligent are you? 0 is very dumb. And 10 is a genius\n",
            "8\n",
            "Are you human by chance? Wait. Don't answer that.\n",
            "How human are you? 0 is not at all and 10 is human all the way.\n",
            "6\n",
            "I think this courtship is over.\n"
          ],
          "name": "stdout"
        }
      ]
    },
    {
      "cell_type": "markdown",
      "metadata": {
        "id": "rVHGIwRZS_r2"
      },
      "source": [
        "Congratulations! By completing this activity, you have created two conversational bots using nested conditionals and if-else loops where we also used changing types, using the input() function to get values from the user and then respectively displaying the output."
      ]
    }
  ]
}