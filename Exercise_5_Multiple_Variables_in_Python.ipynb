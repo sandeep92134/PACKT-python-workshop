{
  "nbformat": 4,
  "nbformat_minor": 0,
  "metadata": {
    "colab": {
      "name": "Exercise 5: Multiple Variables in Python",
      "provenance": [],
      "authorship_tag": "ABX9TyO1Knbgs3hrnAcKL/n4Rzer",
      "include_colab_link": true
    },
    "kernelspec": {
      "name": "python3",
      "display_name": "Python 3"
    }
  },
  "cells": [
    {
      "cell_type": "markdown",
      "metadata": {
        "id": "view-in-github",
        "colab_type": "text"
      },
      "source": [
        "<a href=\"https://colab.research.google.com/github/sandeep92134/PACKT-python-workshop/blob/main/Exercise_5_Multiple_Variables_in_Python.ipynb\" target=\"_parent\"><img src=\"https://colab.research.google.com/assets/colab-badge.svg\" alt=\"Open In Colab\"/></a>"
      ]
    },
    {
      "cell_type": "markdown",
      "metadata": {
        "id": "ECW58GvVzxVS"
      },
      "source": [
        "In this exercise, you will perform mathematical operations using more than one variable. This exercise can be performed in the Jupyter Notebook:"
      ]
    },
    {
      "cell_type": "markdown",
      "metadata": {
        "id": "SkyJPQtMz2wx"
      },
      "source": [
        "1. Assign 5 to x and 2 to y:"
      ]
    },
    {
      "cell_type": "code",
      "metadata": {
        "id": "u4sa6NOxz7UM"
      },
      "source": [
        "x = 5\n",
        "y = 2"
      ],
      "execution_count": 1,
      "outputs": []
    },
    {
      "cell_type": "markdown",
      "metadata": {
        "id": "FeESMRSU0DmP"
      },
      "source": [
        "2. Add x to x and subtract y to the second power:"
      ]
    },
    {
      "cell_type": "code",
      "metadata": {
        "id": "dlzfI5Sn0GIm",
        "outputId": "f12667ab-1cd7-4004-f898-8e18588f0f3f",
        "colab": {
          "base_uri": "https://localhost:8080/",
          "height": 34
        }
      },
      "source": [
        "x + x - y ** 2"
      ],
      "execution_count": 3,
      "outputs": [
        {
          "output_type": "execute_result",
          "data": {
            "text/plain": [
              "6"
            ]
          },
          "metadata": {
            "tags": []
          },
          "execution_count": 3
        }
      ]
    },
    {
      "cell_type": "markdown",
      "metadata": {
        "id": "nyzruQ3W0OBR"
      },
      "source": [
        "Python has a lot of cool shortcuts, and multiple variable assignment is one of them. Here's the Pythonic way of declaring two variables."
      ]
    },
    {
      "cell_type": "markdown",
      "metadata": {
        "id": "H1dzyrcZ0XLC"
      },
      "source": [
        "3. Assign 8 to x and 5 to y in one line:"
      ]
    },
    {
      "cell_type": "code",
      "metadata": {
        "id": "UNJWa-fv0d-K"
      },
      "source": [
        "x , y = 8 , 5"
      ],
      "execution_count": 4,
      "outputs": []
    },
    {
      "cell_type": "markdown",
      "metadata": {
        "id": "1D2V-IOQ0i42"
      },
      "source": [
        "4. Find the integer division of x and y:"
      ]
    },
    {
      "cell_type": "code",
      "metadata": {
        "id": "3Y1PknM_0o5i",
        "outputId": "94ba671f-4cc4-4aef-a4c8-8687a1b74a44",
        "colab": {
          "base_uri": "https://localhost:8080/",
          "height": 34
        }
      },
      "source": [
        "x // y"
      ],
      "execution_count": 5,
      "outputs": [
        {
          "output_type": "execute_result",
          "data": {
            "text/plain": [
              "1"
            ]
          },
          "metadata": {
            "tags": []
          },
          "execution_count": 5
        }
      ]
    },
    {
      "cell_type": "markdown",
      "metadata": {
        "id": "DBxnLlRC0uJK"
      },
      "source": [
        "In this exercise, you practiced working with multiple variables, and you even learned the Pythonic way to assign values to multiple variables in one line. It's rare to only work with one variable in practice."
      ]
    }
  ]
}