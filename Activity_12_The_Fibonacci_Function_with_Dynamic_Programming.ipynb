{
  "nbformat": 4,
  "nbformat_minor": 0,
  "metadata": {
    "colab": {
      "name": "Activity 12: The Fibonacci Function with Dynamic Programming",
      "provenance": [],
      "authorship_tag": "ABX9TyP/mz0J4t9LDcN0ZWBfQtlA",
      "include_colab_link": true
    },
    "kernelspec": {
      "name": "python3",
      "display_name": "Python 3"
    }
  },
  "cells": [
    {
      "cell_type": "markdown",
      "metadata": {
        "id": "view-in-github",
        "colab_type": "text"
      },
      "source": [
        "<a href=\"https://colab.research.google.com/github/sandeep92134/PACKT-python-workshop/blob/main/Activity_12_The_Fibonacci_Function_with_Dynamic_Programming.ipynb\" target=\"_parent\"><img src=\"https://colab.research.google.com/assets/colab-badge.svg\" alt=\"Open In Colab\"/></a>"
      ]
    },
    {
      "cell_type": "markdown",
      "metadata": {
        "id": "_ecS2veTzosj"
      },
      "source": [
        "### The steps to do this are as follows:\n",
        "\n",
        "1. Open the fibonacci.py file created in Activity 10, The Fibonacci Function with Iteration.\n",
        "2. Define a fibonacci_dynamic function, which takes a single positional argument representing the number in the sequence that you want to return. Try starting with the fibonacci_recursive function from the previous activity and storing the results in a dictionary as the recursions are performed.\n",
        "3. Try running a few examples in a Python shell:\n",
        "\n",
        " ```\n",
        " from fibonacci import fibonacci_dynamic\n",
        " fibonacci_dynamic(3)\n",
        " ```\n",
        "4. Note that if you try to use our recursive or iterative functions to compute the 100th Fibonacci number, they will be too slow and will never finish executing (unless you're willing to wait a few years)."
      ]
    },
    {
      "cell_type": "markdown",
      "metadata": {
        "id": "m89CFWij1Ch0"
      },
      "source": [
        "### Solution \n",
        "\n",
        "1. We begin by keeping a dictionary of Fibonacci numbers in the **stored** variable. The keys of the dictionary represent the index of the value in the sequence (such as the first, second, and fifth number), and the value itself:\n",
        " \n",
        " ```\n",
        " stored = {0: 0, 1: 1}  # We set the first 2 terms of the Fibonacci sequence   here.\n",
        " ```\n",
        "2. When calling the **fibonacci_dynamic** function, we check to see whether we have already computed the result; if so, we simply return the value from the dictionary:\n",
        "\n",
        " ```\n",
        " def fibonacci_dynamic(n):\n",
        "    if n in stored:\n",
        "        return stored[n]\n",
        " ```\n",
        "3. Otherwise, we revert to the recursive logic by calling the function to compute the previous two terms:\n",
        "    \n",
        " ```\n",
        " else:\n",
        "        stored[n] = fibonacci_dynamic(n - 2) + fibonacci_dynamic(n - 1)\n",
        "        return stored[n]\n",
        " ```\n",
        "4. Now, run the following:\n",
        "\n",
        " ```\n",
        " from fibonacci import fibonacci_dynamic\n",
        " fibonacci_dynamic(100)\n",
        " ```\n",
        "In this activity, we used a function with dynamic programming that takes a single positional argument representing the number term in the sequence that we want to return."
      ]
    },
    {
      "cell_type": "code",
      "metadata": {
        "colab": {
          "base_uri": "https://localhost:8080/"
        },
        "id": "wKiAGt660uKI",
        "outputId": "db6e2b6c-b771-43fc-de22-32d15532f05b"
      },
      "source": [
        "%%writefile fibonacci.py\n",
        "stored = {0: 0, 1: 1}  # We set the first 2 terms of the Fibonacci sequence here.\n",
        "\n",
        "def fibonacci_dynamic(n):\n",
        "    if n in stored:\n",
        "      return stored[n]\n",
        "    else:\n",
        "      stored[n] = fibonacci_dynamic(n - 2) + fibonacci_dynamic(n - 1)\n",
        "      return stored[n]        "
      ],
      "execution_count": 1,
      "outputs": [
        {
          "output_type": "stream",
          "text": [
            "Writing fibonacci.py\n"
          ],
          "name": "stdout"
        }
      ]
    },
    {
      "cell_type": "code",
      "metadata": {
        "colab": {
          "base_uri": "https://localhost:8080/"
        },
        "id": "3eVHD1KT63zr",
        "outputId": "5f2acba6-5645-4c7d-dda8-5d3d11fa6a45"
      },
      "source": [
        "!python "
      ],
      "execution_count": 2,
      "outputs": [
        {
          "output_type": "stream",
          "text": [
            "Python 3.6.9 (default, Oct  8 2020, 12:12:24) \n",
            "[GCC 8.4.0] on linux\n",
            "Type \"help\", \"copyright\", \"credits\" or \"license\" for more information.\n",
            ">>> from fibonacci import fibonacci_dynamic\n",
            ">>> fibonacci_dynamic(3)\n",
            "2\n",
            ">>> fibonacci_dynamic(100)\n",
            "354224848179261915075\n",
            ">>> exit()\n"
          ],
          "name": "stdout"
        }
      ]
    },
    {
      "cell_type": "code",
      "metadata": {
        "colab": {
          "base_uri": "https://localhost:8080/"
        },
        "id": "cJ8nOhZX5Yp_",
        "outputId": "18af3947-e1ec-45f8-8055-2a8d91113807"
      },
      "source": [
        "from fibonacci import fibonacci_dynamic\n",
        "fibonacci_dynamic(3)"
      ],
      "execution_count": 3,
      "outputs": [
        {
          "output_type": "execute_result",
          "data": {
            "text/plain": [
              "2"
            ]
          },
          "metadata": {
            "tags": []
          },
          "execution_count": 3
        }
      ]
    },
    {
      "cell_type": "code",
      "metadata": {
        "colab": {
          "base_uri": "https://localhost:8080/"
        },
        "id": "duGVXJ3W5j4R",
        "outputId": "6f311411-31aa-4fea-fd3a-393b018ac71a"
      },
      "source": [
        "fibonacci_dynamic(100)"
      ],
      "execution_count": 4,
      "outputs": [
        {
          "output_type": "execute_result",
          "data": {
            "text/plain": [
              "354224848179261915075"
            ]
          },
          "metadata": {
            "tags": []
          },
          "execution_count": 4
        }
      ]
    }
  ]
}