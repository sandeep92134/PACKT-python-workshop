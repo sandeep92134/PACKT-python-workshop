{
  "nbformat": 4,
  "nbformat_minor": 0,
  "metadata": {
    "colab": {
      "name": "Exercise 4: Variable Names",
      "provenance": [],
      "authorship_tag": "ABX9TyNG+1wWdwcE6lWx348Rqsqx",
      "include_colab_link": true
    },
    "kernelspec": {
      "name": "python3",
      "display_name": "Python 3"
    }
  },
  "cells": [
    {
      "cell_type": "markdown",
      "metadata": {
        "id": "view-in-github",
        "colab_type": "text"
      },
      "source": [
        "<a href=\"https://colab.research.google.com/github/sandeep92134/PACKT-python-workshop/blob/main/Exercise_4_Variable_Names.ipynb\" target=\"_parent\"><img src=\"https://colab.research.google.com/assets/colab-badge.svg\" alt=\"Open In Colab\"/></a>"
      ]
    },
    {
      "cell_type": "markdown",
      "metadata": {
        "id": "wlkW7e7vxO_G"
      },
      "source": [
        "The goal of this exercise is to learn standard ways to name variables by considering good and bad practices. This exercise can be performed in Jupyter:\n",
        "\n",
        "1. Create a variable called 1st_number and assign it a value of 1:"
      ]
    },
    {
      "cell_type": "code",
      "metadata": {
        "id": "1_yH-8_cxcR9",
        "outputId": "89ffe7ac-f911-4808-fc18-8a1337393069",
        "colab": {
          "base_uri": "https://localhost:8080/",
          "height": 132
        }
      },
      "source": [
        "1st_number = 1"
      ],
      "execution_count": 1,
      "outputs": [
        {
          "output_type": "error",
          "ename": "SyntaxError",
          "evalue": "ignored",
          "traceback": [
            "\u001b[0;36m  File \u001b[0;32m\"<ipython-input-1-05d80cc97354>\"\u001b[0;36m, line \u001b[0;32m1\u001b[0m\n\u001b[0;31m    1st_number = 1\u001b[0m\n\u001b[0m             ^\u001b[0m\n\u001b[0;31mSyntaxError\u001b[0m\u001b[0;31m:\u001b[0m invalid syntax\n"
          ]
        }
      ]
    },
    {
      "cell_type": "markdown",
      "metadata": {
        "id": "SAy6_RbYx1LX"
      },
      "source": [
        "2. Now , let's try using letters to begins a variable:"
      ]
    },
    {
      "cell_type": "code",
      "metadata": {
        "id": "rW2usUWnyDB4"
      },
      "source": [
        "first_number = 1  "
      ],
      "execution_count": 3,
      "outputs": []
    },
    {
      "cell_type": "markdown",
      "metadata": {
        "id": "FNPi5PXQyQEK"
      },
      "source": [
        "3. Now , use special characters in a variable name , as in the following code:"
      ]
    },
    {
      "cell_type": "code",
      "metadata": {
        "id": "z0w9Yw4ryfoQ",
        "outputId": "d3351fc9-6abb-43b2-aa71-88281263f605",
        "colab": {
          "base_uri": "https://localhost:8080/",
          "height": 132
        }
      },
      "source": [
        "my_$ = 1000.00"
      ],
      "execution_count": 4,
      "outputs": [
        {
          "output_type": "error",
          "ename": "SyntaxError",
          "evalue": "ignored",
          "traceback": [
            "\u001b[0;36m  File \u001b[0;32m\"<ipython-input-4-e3c03546ed83>\"\u001b[0;36m, line \u001b[0;32m1\u001b[0m\n\u001b[0;31m    my_$ = 1000.00\u001b[0m\n\u001b[0m       ^\u001b[0m\n\u001b[0;31mSyntaxError\u001b[0m\u001b[0;31m:\u001b[0m invalid syntax\n"
          ]
        }
      ]
    },
    {
      "cell_type": "markdown",
      "metadata": {
        "id": "jdj2ZS3dyp9v"
      },
      "source": [
        "4. Now , use letters again instead of special characters for the variable name:"
      ]
    },
    {
      "cell_type": "code",
      "metadata": {
        "id": "QcNNCLxby8PX"
      },
      "source": [
        "my_money = 1000.00"
      ],
      "execution_count": 5,
      "outputs": []
    },
    {
      "cell_type": "markdown",
      "metadata": {
        "id": "RCgadVLZzFgV"
      },
      "source": [
        "In this exercise, you have learned to use underscores to separate words when naming variables, and not to start variables' names with numbers nor include any symbols. In Python, you will quickly get used to these conventions."
      ]
    }
  ]
}