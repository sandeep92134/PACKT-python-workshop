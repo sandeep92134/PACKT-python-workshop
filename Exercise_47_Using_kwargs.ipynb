{
  "nbformat": 4,
  "nbformat_minor": 0,
  "metadata": {
    "colab": {
      "name": "Exercise 47: Using **kwargs",
      "provenance": [],
      "authorship_tag": "ABX9TyMugUt8+F/F003URv5bGB8L",
      "include_colab_link": true
    },
    "kernelspec": {
      "name": "python3",
      "display_name": "Python 3"
    }
  },
  "cells": [
    {
      "cell_type": "markdown",
      "metadata": {
        "id": "view-in-github",
        "colab_type": "text"
      },
      "source": [
        "<a href=\"https://colab.research.google.com/github/sandeep92134/PACKT-python-workshop/blob/main/Exercise_47_Using_kwargs.ipynb\" target=\"_parent\"><img src=\"https://colab.research.google.com/assets/colab-badge.svg\" alt=\"Open In Colab\"/></a>"
      ]
    },
    {
      "cell_type": "markdown",
      "metadata": {
        "id": "2JrAYaN4awwn"
      },
      "source": [
        "In this exercise, you will write a Python script to use ***args** and ****kwargs** through a **sum_of_numbers** and **person_details** functions:\n",
        "\n",
        "1. Add the **sum_of_numbers** function to a file. Note that we have used *args here."
      ]
    },
    {
      "cell_type": "code",
      "metadata": {
        "colab": {
          "base_uri": "https://localhost:8080/"
        },
        "id": "T1fUkbKKZ2ms",
        "outputId": "d8e34dba-1ff3-4cec-b519-a7f41c629f33"
      },
      "source": [
        "def sum_of_numbers(*args):\n",
        "    total = 0\n",
        "    for number in args:\n",
        "        total += number\n",
        "    return total\n",
        "print(sum_of_numbers(1,3,2,5,4))"
      ],
      "execution_count": 1,
      "outputs": [
        {
          "output_type": "stream",
          "text": [
            "15\n"
          ],
          "name": "stdout"
        }
      ]
    },
    {
      "cell_type": "markdown",
      "metadata": {
        "id": "2bz_bfX8cCTq"
      },
      "source": [
        "2. ***args** acts as an iterable that contains all the numbers passed to this function. These numbers are accessed by a simple for loop and are added together to compute a total. On executing the preceding code, we get the sum of the output as 15. You can try this function with different arguments to see how it works.\n",
        "\n",
        "3. Now, add another function named **personal_details** to the file. Just how we provided ***args** as an argument in the preceding function, we added ****kwargs** as an argument here."
      ]
    },
    {
      "cell_type": "code",
      "metadata": {
        "id": "WdmZdxUOc1DT"
      },
      "source": [
        "def person_details(**kwargs):\n",
        "    print(\"Personal Details\")\n",
        "    for key, value in kwargs.items():\n",
        "        print(\"{} : {}\".format(key,value))"
      ],
      "execution_count": 2,
      "outputs": []
    },
    {
      "cell_type": "markdown",
      "metadata": {
        "id": "3OB8aGvic2lq"
      },
      "source": [
        "4. Input to the functions with ****kwargs** as argument can be given in two ways:\n",
        "Using keyword arguments\n",
        "\n",
        "  Using a dictionary\n",
        "\n",
        "  Let's see how to call the preceding function using ****kwargs**:"
      ]
    },
    {
      "cell_type": "code",
      "metadata": {
        "colab": {
          "base_uri": "https://localhost:8080/"
        },
        "id": "8VCGnAMcdS06",
        "outputId": "986b1aa4-01c2-4503-b9bd-b7ebaa25300e"
      },
      "source": [
        "person_details(firstName = \"Jason\", lastName = \"Scott\", country = \"US\")"
      ],
      "execution_count": 3,
      "outputs": [
        {
          "output_type": "stream",
          "text": [
            "Personal Details\n",
            "firstName : Jason\n",
            "lastName : Scott\n",
            "country : US\n"
          ],
          "name": "stdout"
        }
      ]
    },
    {
      "cell_type": "markdown",
      "metadata": {
        "id": "l1fNwoKydXup"
      },
      "source": [
        "5. Note that the keyword used here can vary like the values. For example, the preceding function can also be called as:\n"
      ]
    },
    {
      "cell_type": "code",
      "metadata": {
        "colab": {
          "base_uri": "https://localhost:8080/"
        },
        "id": "sLMVm8ULdcxW",
        "outputId": "38b39895-99a5-4851-e353-748ad86ff155"
      },
      "source": [
        "person_details(name = \"Ratan\", country = \"India\", age = 23)"
      ],
      "execution_count": 4,
      "outputs": [
        {
          "output_type": "stream",
          "text": [
            "Personal Details\n",
            "name : Ratan\n",
            "country : India\n",
            "age : 23\n"
          ],
          "name": "stdout"
        }
      ]
    },
    {
      "cell_type": "markdown",
      "metadata": {
        "id": "Hj7ZRgtJdd5g"
      },
      "source": [
        "6. Another way of providing input to the **person_details** function is using a dictionary. We have defined a dictionary **input_dict** with data as shown in the following code. Note the usage of the ****** operator which unrolls the content of the dictionary."
      ]
    },
    {
      "cell_type": "code",
      "metadata": {
        "colab": {
          "base_uri": "https://localhost:8080/"
        },
        "id": "aXAqoYn-d7-r",
        "outputId": "ac68ae33-17de-46d3-93f7-d11aacfe33e8"
      },
      "source": [
        "input_dict = {'name' : 'Vikas Singh' , 'gender' : 'Male'}\n",
        "person_details(**input_dict)"
      ],
      "execution_count": 5,
      "outputs": [
        {
          "output_type": "stream",
          "text": [
            "Personal Details\n",
            "name : Vikas Singh\n",
            "gender : Male\n"
          ],
          "name": "stdout"
        }
      ]
    }
  ]
}