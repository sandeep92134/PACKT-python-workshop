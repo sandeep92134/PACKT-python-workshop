{
  "nbformat": 4,
  "nbformat_minor": 0,
  "metadata": {
    "colab": {
      "name": "Exercise 6: Comments in Python",
      "provenance": [],
      "authorship_tag": "ABX9TyONb3IxIA8VV5894dLbtEPP",
      "include_colab_link": true
    },
    "kernelspec": {
      "name": "python3",
      "display_name": "Python 3"
    }
  },
  "cells": [
    {
      "cell_type": "markdown",
      "metadata": {
        "id": "view-in-github",
        "colab_type": "text"
      },
      "source": [
        "<a href=\"https://colab.research.google.com/github/sandeep92134/PACKT-python-workshop/blob/main/Exercise_6_Comments_in_Python.ipynb\" target=\"_parent\"><img src=\"https://colab.research.google.com/assets/colab-badge.svg\" alt=\"Open In Colab\"/></a>"
      ]
    },
    {
      "cell_type": "markdown",
      "metadata": {
        "id": "HXRHPYp613mH"
      },
      "source": [
        "In this exercise, you will learn two different ways to display comments in Python. This exercise can be performed in the Jupyter Notebook:\n",
        "\n"
      ]
    },
    {
      "cell_type": "markdown",
      "metadata": {
        "id": "lZFEOUOW18uz"
      },
      "source": [
        "1. Write a comment that states # This is a comment:"
      ]
    },
    {
      "cell_type": "code",
      "metadata": {
        "id": "hwD94VC52rdV"
      },
      "source": [
        "# This is a comment"
      ],
      "execution_count": 1,
      "outputs": []
    },
    {
      "cell_type": "markdown",
      "metadata": {
        "id": "TuF2Zgte2zAS"
      },
      "source": [
        "2. Set the pi variable as equal to 3.14. Add a comment above the line stating what you did:"
      ]
    },
    {
      "cell_type": "code",
      "metadata": {
        "id": "-KWVTUYp23Aw"
      },
      "source": [
        "# Set the variable pi equal to 3.14\n",
        "pi = 3.14 "
      ],
      "execution_count": 2,
      "outputs": []
    },
    {
      "cell_type": "markdown",
      "metadata": {
        "id": "Z93tuTr126nK"
      },
      "source": [
        "3. Now, try setting the pi variable as equal to 3.14 again, but add the comment stating what you did on the same line:"
      ]
    },
    {
      "cell_type": "code",
      "metadata": {
        "id": "mr2w_1ND2-JA"
      },
      "source": [
        "pi = 3.14  # Set the variable pi equal to 3.14"
      ],
      "execution_count": 3,
      "outputs": []
    },
    {
      "cell_type": "markdown",
      "metadata": {
        "id": "lAkplrQR3A0N"
      },
      "source": [
        "In this exercise, you have learned how to write comments in Python. As a developer, writing comments is essential to make your code legible to others"
      ]
    }
  ]
}