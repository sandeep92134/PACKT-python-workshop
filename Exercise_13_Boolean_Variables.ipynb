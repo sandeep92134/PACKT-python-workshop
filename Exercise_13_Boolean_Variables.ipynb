{
  "nbformat": 4,
  "nbformat_minor": 0,
  "metadata": {
    "colab": {
      "name": "Exercise 13: Boolean Variables",
      "provenance": [],
      "authorship_tag": "ABX9TyO2dmj211daxiy8sUvH1kO4",
      "include_colab_link": true
    },
    "kernelspec": {
      "name": "python3",
      "display_name": "Python 3"
    }
  },
  "cells": [
    {
      "cell_type": "markdown",
      "metadata": {
        "id": "view-in-github",
        "colab_type": "text"
      },
      "source": [
        "<a href=\"https://colab.research.google.com/github/sandeep92134/PACKT-python-workshop/blob/main/Exercise_13_Boolean_Variables.ipynb\" target=\"_parent\"><img src=\"https://colab.research.google.com/assets/colab-badge.svg\" alt=\"Open In Colab\"/></a>"
      ]
    },
    {
      "cell_type": "markdown",
      "metadata": {
        "id": "jsBBaVjfNSU0"
      },
      "source": [
        "In this short exercise, you will use, assign, and check the type of Boolean variables:\n",
        "\n",
        "1. Open a new Jupyter Notebook.\n",
        "2. Now, use a Boolean to classify someone as being over 18 using the following code snippet:"
      ]
    },
    {
      "cell_type": "code",
      "metadata": {
        "id": "WEvT5NxtNSln",
        "outputId": "bb562621-efdf-4754-e064-dfc37f3e3368",
        "colab": {
          "base_uri": "https://localhost:8080/",
          "height": 34
        }
      },
      "source": [
        "over_18 = True\n",
        "type(over_18)"
      ],
      "execution_count": 1,
      "outputs": [
        {
          "output_type": "execute_result",
          "data": {
            "text/plain": [
              "bool"
            ]
          },
          "metadata": {
            "tags": []
          },
          "execution_count": 1
        }
      ]
    },
    {
      "cell_type": "markdown",
      "metadata": {
        "id": "IX67KkVXNS18"
      },
      "source": [
        "The output is satisfied, and the type is mentioned as a Boolean, that is, bool.\n",
        "\n",
        "3. Use a Boolean to classify someone as not being over 21:"
      ]
    },
    {
      "cell_type": "code",
      "metadata": {
        "id": "Q7g07MMuNTGr"
      },
      "source": [
        "over_21 = False"
      ],
      "execution_count": 2,
      "outputs": []
    },
    {
      "cell_type": "code",
      "metadata": {
        "id": "bK9E8E1qN1yc",
        "outputId": "3fbdea2c-7a27-46c9-a6d7-e555d1735674",
        "colab": {
          "base_uri": "https://localhost:8080/",
          "height": 34
        }
      },
      "source": [
        "type(over_21)"
      ],
      "execution_count": 3,
      "outputs": [
        {
          "output_type": "execute_result",
          "data": {
            "text/plain": [
              "bool"
            ]
          },
          "metadata": {
            "tags": []
          },
          "execution_count": 3
        }
      ]
    },
    {
      "cell_type": "markdown",
      "metadata": {
        "id": "2nf0W_YcNTWa"
      },
      "source": [
        "In this short, quick exercise, you have learned about the bool type, one of Python's most important types."
      ]
    }
  ]
}