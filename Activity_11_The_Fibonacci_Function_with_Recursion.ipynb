{
  "nbformat": 4,
  "nbformat_minor": 0,
  "metadata": {
    "colab": {
      "name": "Activity 11: The Fibonacci Function with Recursion",
      "provenance": [],
      "authorship_tag": "ABX9TyOxInt34QJcUZT21TAOYMME",
      "include_colab_link": true
    },
    "kernelspec": {
      "name": "python3",
      "display_name": "Python 3"
    }
  },
  "cells": [
    {
      "cell_type": "markdown",
      "metadata": {
        "id": "view-in-github",
        "colab_type": "text"
      },
      "source": [
        "<a href=\"https://colab.research.google.com/github/sandeep92134/PACKT-python-workshop/blob/main/Activity_11_The_Fibonacci_Function_with_Recursion.ipynb\" target=\"_parent\"><img src=\"https://colab.research.google.com/assets/colab-badge.svg\" alt=\"Open In Colab\"/></a>"
      ]
    },
    {
      "cell_type": "markdown",
      "metadata": {
        "id": "gnEqWgRqhDFV"
      },
      "source": [
        "## The steps are as follows:\n",
        "\n",
        "1. Open the **fibonacci.py** file created in Activity 10, The Fibonacci Function with an Iteration.\n",
        "2. Define a **fibonacci_recursive** function, which takes a single positional argument representing which number term in the sequence we want to return.\n",
        "3. Try running a few examples in a Python shell:\n",
        "\n",
        " `from fibonacci import fibonacci_recursive`\n",
        "   \n",
        "- To find the fibonacci recursive for the value 3.\n",
        "   \n",
        "   `fibonacci_recursive(3)`\n",
        "\n",
        "- You can run the following code and find the fibonacci recursive for the value 10.\n",
        "\n",
        " `fibonacci_recursive(10)`\n",
        "\n"
      ]
    },
    {
      "cell_type": "markdown",
      "metadata": {
        "id": "CT9jy44whCyc"
      },
      "source": [
        "## SOLUTION\n",
        "1. Open the fibonacci.py file.\n",
        "2. Define a fibonacci_recursive function that takes a single input named n:\n",
        "\n",
        " `def fibonacci_recursive(n):`\n",
        "\n",
        "3. Now check whether the value of n is equal to 0 or 1. If the condition is satisfied, the value of n is returned. Write the following code to implement this step:\n",
        "    \n",
        " ```\n",
        " if n == 0 or n == 1:\n",
        "        return n\n",
        " ```\n",
        "4. Otherwise, in case the condition is not satisfied it will return the same function, but the argument will be decremented by 2 and 1 and the respective differences will be added:\n",
        "\n",
        " ```\n",
        "else:\n",
        "        return fibonacci_recursive(n - 2) + fibonacci_recursive(n - 1)\n",
        " ```\n",
        "5. Once the function is created, try running the examples in the compiler using the following command:\n",
        "\n",
        " ```\n",
        "from fibonacci import fibonacci_recursive\n",
        "fibonacci_recursive(3)\n",
        " ```\n",
        "- Let's try another example:\n",
        "\n",
        " `fibonacci_recursive(10)`\n",
        "\n",
        "You can now work with recursive functions. We implemented this on our fibonnacci.py file to get the expected output. Recursive functions are helpful in many cases in order to reduce the lines of code that you will be using if it is repetitive."
      ]
    },
    {
      "cell_type": "code",
      "metadata": {
        "colab": {
          "base_uri": "https://localhost:8080/"
        },
        "id": "vQ3WnAv3hBZv",
        "outputId": "72e92dea-f2e9-4267-e1bd-89ebe0df667f"
      },
      "source": [
        "%%writefile fibonacci.py\n",
        "def fibonacci_iterative(n):\n",
        "  previous = 0\n",
        "  current = 1\n",
        "  for i in range(n - 1):\n",
        "    current_old = current\n",
        "    current = previous + current\n",
        "    previous = current_old\n",
        "  return current\n",
        "  \n",
        "def fibonacci_recursive(n):\n",
        "  if n == 0 or n == 1:\n",
        "    return n\n",
        "  else:\n",
        "    return fibonacci_recursive(n - 2) + fibonacci_recursive(n - 1)  "
      ],
      "execution_count": null,
      "outputs": [
        {
          "output_type": "stream",
          "text": [
            "Writing fibonacci.py\n"
          ],
          "name": "stdout"
        }
      ]
    },
    {
      "cell_type": "code",
      "metadata": {
        "colab": {
          "base_uri": "https://localhost:8080/"
        },
        "id": "p9BJ0BtZkGIg",
        "outputId": "dbf83bf9-4229-470a-d6bf-016f684047b5"
      },
      "source": [
        "from fibonacci import fibonacci_recursive\n",
        "fibonacci_recursive(3)"
      ],
      "execution_count": null,
      "outputs": [
        {
          "output_type": "execute_result",
          "data": {
            "text/plain": [
              "2"
            ]
          },
          "metadata": {
            "tags": []
          },
          "execution_count": 2
        }
      ]
    },
    {
      "cell_type": "code",
      "metadata": {
        "colab": {
          "base_uri": "https://localhost:8080/"
        },
        "id": "9OmUflFLkRAC",
        "outputId": "642a1e1b-86ab-49e0-c1c2-f0f9ed121c8a"
      },
      "source": [
        "fibonacci_recursive(10)"
      ],
      "execution_count": null,
      "outputs": [
        {
          "output_type": "execute_result",
          "data": {
            "text/plain": [
              "55"
            ]
          },
          "metadata": {
            "tags": []
          },
          "execution_count": 3
        }
      ]
    },
    {
      "cell_type": "code",
      "metadata": {
        "colab": {
          "base_uri": "https://localhost:8080/"
        },
        "id": "L7acpzvsks_B",
        "outputId": "52e57e27-dcb3-4ca5-eff7-be7e099dd29b"
      },
      "source": [
        "!python"
      ],
      "execution_count": null,
      "outputs": [
        {
          "output_type": "stream",
          "text": [
            "Python 3.6.9 (default, Oct  8 2020, 12:12:24) \n",
            "[GCC 8.4.0] on linux\n",
            "Type \"help\", \"copyright\", \"credits\" or \"license\" for more information.\n",
            ">>> from fibonacci import fibonacci_recursive\n",
            ">>> fibonacci_recursive(3)\n",
            "2\n",
            ">>> fibonacci_recursive(10)\n",
            "55\n",
            ">>> exit()\n"
          ],
          "name": "stdout"
        }
      ]
    },
    {
      "cell_type": "code",
      "metadata": {
        "id": "_-o9Z8um3a6k"
      },
      "source": [
        ""
      ],
      "execution_count": null,
      "outputs": []
    }
  ]
}