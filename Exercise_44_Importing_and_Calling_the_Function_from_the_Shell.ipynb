{
  "nbformat": 4,
  "nbformat_minor": 0,
  "metadata": {
    "colab": {
      "name": "Exercise 44: Importing and Calling the Function from the Shell",
      "provenance": [],
      "collapsed_sections": [],
      "authorship_tag": "ABX9TyORLCqcLBuXFjEjgSSe+cu0",
      "include_colab_link": true
    },
    "kernelspec": {
      "name": "python3",
      "display_name": "Python 3"
    }
  },
  "cells": [
    {
      "cell_type": "markdown",
      "metadata": {
        "id": "view-in-github",
        "colab_type": "text"
      },
      "source": [
        "<a href=\"https://colab.research.google.com/github/sandeep92134/PACKT-python-workshop/blob/main/Exercise_44_Importing_and_Calling_the_Function_from_the_Shell.ipynb\" target=\"_parent\"><img src=\"https://colab.research.google.com/assets/colab-badge.svg\" alt=\"Open In Colab\"/></a>"
      ]
    },
    {
      "cell_type": "markdown",
      "metadata": {
        "id": "btE6FhHTAeGy"
      },
      "source": [
        "In this exercise, you will import and call the **list_product** function you defined in **multiply.py**:\n",
        "\n",
        "1. In a Python shell, import our list_product function:\n",
        "\n",
        "```\n",
        "from multiply import list_product\n",
        "```\n",
        "One unintended consequence is that your **print** statements in **multiply.py** are also executed. Introduce **if__name__ == 'main'** and put the **print** statements within that. This will prevent printing the unintended statements while importing the module.\n",
        "\n",
        "2. Call the function with a new list of numbers:\n",
        "\n",
        "```\n",
        "list_product([-1, 2, 3])\n",
        "```\n",
        "\n",
        "Now that you've completed this exercise, you have gained an understanding of how to import and call a function. You created the **multiply.py** file in Exercise 43, Defining and Calling the Function in Python Script, and imported and used this function in this exercise"
      ]
    },
    {
      "cell_type": "code",
      "metadata": {
        "colab": {
          "base_uri": "https://localhost:8080/"
        },
        "id": "Cw3eSFDfO_1B",
        "outputId": "ef106e17-fb61-448d-e7e1-45333bdab0b1"
      },
      "source": [
        "%%writefile multiply.py\n",
        "def list_product(my_list): \n",
        "    result = 1\n",
        "    for number in my_list: \n",
        "        result = result * number\n",
        "    return result\n",
        "\n",
        "print(list_product([2, 3]))\n",
        "print(list_product([2, 10, 15]))"
      ],
      "execution_count": 1,
      "outputs": [
        {
          "output_type": "stream",
          "text": [
            "Writing multiply.py\n"
          ],
          "name": "stdout"
        }
      ]
    },
    {
      "cell_type": "code",
      "metadata": {
        "colab": {
          "base_uri": "https://localhost:8080/"
        },
        "id": "HDB-FgW5PB_I",
        "outputId": "f1ec4bbb-36d8-4205-91d5-8066a8d27efd"
      },
      "source": [
        "!python"
      ],
      "execution_count": 2,
      "outputs": [
        {
          "output_type": "stream",
          "text": [
            "Python 3.6.9 (default, Oct  8 2020, 12:12:24) \n",
            "[GCC 8.4.0] on linux\n",
            "Type \"help\", \"copyright\", \"credits\" or \"license\" for more information.\n",
            ">>> from multiply import list_product\n",
            "6\n",
            "300\n",
            ">>> list_product([-1, 2, 3])\n",
            "-6\n",
            ">>> exit\n",
            "Use exit() or Ctrl-D (i.e. EOF) to exit\n",
            ">>> exit()\n"
          ],
          "name": "stdout"
        }
      ]
    }
  ]
}