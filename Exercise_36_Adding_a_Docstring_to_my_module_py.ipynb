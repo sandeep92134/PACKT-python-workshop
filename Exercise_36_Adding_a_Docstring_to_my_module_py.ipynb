{
  "nbformat": 4,
  "nbformat_minor": 0,
  "metadata": {
    "colab": {
      "name": "Exercise 36: Adding a Docstring to my_module.py",
      "provenance": [],
      "authorship_tag": "ABX9TyPuqQs6VLEwcSBgd/LuLigt",
      "include_colab_link": true
    },
    "kernelspec": {
      "name": "python3",
      "display_name": "Python 3"
    }
  },
  "cells": [
    {
      "cell_type": "markdown",
      "metadata": {
        "id": "view-in-github",
        "colab_type": "text"
      },
      "source": [
        "<a href=\"https://colab.research.google.com/github/sandeep92134/PACKT-python-workshop/blob/main/Exercise_36_Adding_a_Docstring_to_my_module_py.ipynb\" target=\"_parent\"><img src=\"https://colab.research.google.com/assets/colab-badge.svg\" alt=\"Open In Colab\"/></a>"
      ]
    },
    {
      "cell_type": "markdown",
      "metadata": {
        "id": "UeZyTjhJBy42"
      },
      "source": [
        "In this exercise, you extend our **my_module.py** module from Exercise 35, Writing and Importing Our First Module, by adding a docstring:\n",
        "\n",
        "1. Open **my_module.py** in Jupyter or a text editor.\n",
        "2. Add a docstring to the script (as the first line before beginning with your code as mentioned in the following code snippet):\n",
        "\n",
        "```\n",
        "\"\"\" This script computes the sum of the factorial of a list of numbers \"\"\"\n",
        "```\n",
        "\n",
        "3. Open a Python console in the same directory as your **my_module.py** file.\n",
        "4. Import the **my_module** module:\n",
        "\n",
        "\n",
        "```\n",
        "import my_module\n",
        "```\n",
        "\n",
        "5. Call the **help** function on our **my_module** script to view the docstring. The **help** function can be used to obtain a summary of any available information regarding a module, function, or class in Python. You can also call it without an argument, that is, as **help()**, to start an interactive series of prompts:\n",
        "\n",
        "\n",
        "```\n",
        "help(my_module)\n",
        "```\n",
        "\n",
        "6. View the **__doc__** property of **my_module** as a second way of viewing the docstring:\n",
        "\n",
        "```\n",
        "my_module.__doc__\n",
        "```\n",
        "\n",
        "Docstrings can span one line, such as in the preceding example, or multiple lines. The following is an example of a Docstring:\n",
        "\n",
        "```\n",
        "\"\"\"\n",
        "This script computes the sum of the factorial of a list of numbers.\n",
        "\"\"\"\n",
        "```"
      ]
    },
    {
      "cell_type": "code",
      "metadata": {
        "colab": {
          "base_uri": "https://localhost:8080/"
        },
        "id": "Px-simdV-rbv",
        "outputId": "2e2d4f08-0355-41ea-86cf-dd5c8dce2bec"
      },
      "source": [
        "%%writefile my_module.py\n",
        "\"\"\" This script computes the sum of the factorial of a list of numbers\"\"\"\n",
        "import math\n",
        "\n",
        "def compute(numbers):\n",
        "  return([math.factorial(n) for n in numbers])"
      ],
      "execution_count": 1,
      "outputs": [
        {
          "output_type": "stream",
          "text": [
            "Writing my_module.py\n"
          ],
          "name": "stdout"
        }
      ]
    },
    {
      "cell_type": "code",
      "metadata": {
        "id": "nvS377-TGC4P"
      },
      "source": [
        "import my_module"
      ],
      "execution_count": 2,
      "outputs": []
    },
    {
      "cell_type": "code",
      "metadata": {
        "colab": {
          "base_uri": "https://localhost:8080/"
        },
        "id": "oYhx_f29GMeM",
        "outputId": "243f5789-bf74-4188-e4c2-2d6df8d4e317"
      },
      "source": [
        "help(my_module)"
      ],
      "execution_count": 3,
      "outputs": [
        {
          "output_type": "stream",
          "text": [
            "Help on module my_module:\n",
            "\n",
            "NAME\n",
            "    my_module - This script computes the sum of the factorial of a list of numbers\n",
            "\n",
            "FUNCTIONS\n",
            "    compute(numbers)\n",
            "\n",
            "FILE\n",
            "    /content/my_module.py\n",
            "\n",
            "\n"
          ],
          "name": "stdout"
        }
      ]
    },
    {
      "cell_type": "code",
      "metadata": {
        "colab": {
          "base_uri": "https://localhost:8080/",
          "height": 35
        },
        "id": "GqmhcpwLGfhS",
        "outputId": "2f5599dc-c15b-4c4a-8aea-818c8f873d5a"
      },
      "source": [
        "my_module.__doc__"
      ],
      "execution_count": 4,
      "outputs": [
        {
          "output_type": "execute_result",
          "data": {
            "application/vnd.google.colaboratory.intrinsic+json": {
              "type": "string"
            },
            "text/plain": [
              "' This script computes the sum of the factorial of a list of numbers'"
            ]
          },
          "metadata": {
            "tags": []
          },
          "execution_count": 4
        }
      ]
    }
  ]
}