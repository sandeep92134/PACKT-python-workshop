{
  "nbformat": 4,
  "nbformat_minor": 0,
  "metadata": {
    "colab": {
      "name": "Exercise 8: Displaying Strings",
      "provenance": [],
      "collapsed_sections": [],
      "authorship_tag": "ABX9TyMpUZcKsgTdsKao9Dv6TVES",
      "include_colab_link": true
    },
    "kernelspec": {
      "name": "python3",
      "display_name": "Python 3"
    }
  },
  "cells": [
    {
      "cell_type": "markdown",
      "metadata": {
        "id": "view-in-github",
        "colab_type": "text"
      },
      "source": [
        "<a href=\"https://colab.research.google.com/github/sandeep92134/PACKT-python-workshop/blob/main/Exercise_8_Displaying_Strings.ipynb\" target=\"_parent\"><img src=\"https://colab.research.google.com/assets/colab-badge.svg\" alt=\"Open In Colab\"/></a>"
      ]
    },
    {
      "cell_type": "markdown",
      "metadata": {
        "id": "DLkZlVC3MzB-"
      },
      "source": [
        "#### In this exercise, you will learn different ways to display strings:\n",
        "\n",
        "1. Open a new Jupyter Notebook.\n",
        "2. Define a greeting variable with the value 'Hello'. Display the greeting using the print() function:"
      ]
    },
    {
      "cell_type": "code",
      "metadata": {
        "id": "aGFV3a3aMP95",
        "outputId": "15911f48-38c2-467e-ace4-69e336f12d54",
        "colab": {
          "base_uri": "https://localhost:8080/",
          "height": 34
        }
      },
      "source": [
        "greeting = 'Hello'\n",
        "print(greeting)"
      ],
      "execution_count": 1,
      "outputs": [
        {
          "output_type": "stream",
          "text": [
            "Hello\n"
          ],
          "name": "stdout"
        }
      ]
    },
    {
      "cell_type": "markdown",
      "metadata": {
        "id": "lRwgjnYqNFgQ"
      },
      "source": [
        "Hello, as shown in the display, does not include single quotes. This is because the print() function is generally intended for the user to print the output."
      ]
    },
    {
      "cell_type": "markdown",
      "metadata": {
        "id": "JYuFOMeRNRvg"
      },
      "source": [
        "3. Display the value of greeting without using the print() function:\n"
      ]
    },
    {
      "cell_type": "code",
      "metadata": {
        "id": "BX3QRMA3Npvm",
        "outputId": "4cc5eb5d-baf6-4538-c91c-acc9c2d3ca8d",
        "colab": {
          "base_uri": "https://localhost:8080/",
          "height": 35
        }
      },
      "source": [
        "greeting"
      ],
      "execution_count": 2,
      "outputs": [
        {
          "output_type": "execute_result",
          "data": {
            "application/vnd.google.colaboratory.intrinsic+json": {
              "type": "string"
            },
            "text/plain": [
              "'Hello'"
            ]
          },
          "metadata": {
            "tags": []
          },
          "execution_count": 2
        }
      ]
    },
    {
      "cell_type": "markdown",
      "metadata": {
        "id": "okZ2nJf3NmPA"
      },
      "source": [
        "When we input greeting without the print() function, we are obtaining the encoded value, hence the quotes."
      ]
    },
    {
      "cell_type": "markdown",
      "metadata": {
        "id": "m8kKKsV-QHsf"
      },
      "source": [
        "4. Consider the following sequence of code in a single cell in a Jupyter Notebook:"
      ]
    },
    {
      "cell_type": "code",
      "metadata": {
        "id": "yroHTiCdP-xf"
      },
      "source": [
        "spanish_greeting = 'Hola.'\n",
        "spanish_greeting\n",
        "arabic_greeting = 'Ahlan wa sahlan.'"
      ],
      "execution_count": 3,
      "outputs": []
    },
    {
      "cell_type": "markdown",
      "metadata": {
        "id": "qG3Qa8cOQa0l"
      },
      "source": [
        "When the preceding cell is run, the preceding code does not display spanish_greeting. If the code were run on a terminal as three separate lines, it would display Hola., the string assigned to spanish_greeting. The same would be true if the preceding sequence of code were run in three separate cells in a Jupyter Notebook. For consistency, it's useful to use print() any time information should be displayed."
      ]
    },
    {
      "cell_type": "markdown",
      "metadata": {
        "id": "ly6J9EZLQf2R"
      },
      "source": [
        "5. Display the Spanish greeting:"
      ]
    },
    {
      "cell_type": "code",
      "metadata": {
        "id": "9M2PF8KIQoAH",
        "outputId": "915c1037-1daf-4cf5-d159-94f05e0e96e9",
        "colab": {
          "base_uri": "https://localhost:8080/",
          "height": 34
        }
      },
      "source": [
        "spanish_greeting = 'Hola.'\n",
        "print(spanish_greeting)"
      ],
      "execution_count": 4,
      "outputs": [
        {
          "output_type": "stream",
          "text": [
            "Hola.\n"
          ],
          "name": "stdout"
        }
      ]
    },
    {
      "cell_type": "markdown",
      "metadata": {
        "id": "JjiyrRpNQgLB"
      },
      "source": [
        "6. Now, display the Arabic greeting message, as mentioned in the following code snippet:"
      ]
    },
    {
      "cell_type": "code",
      "metadata": {
        "id": "cPapKfH6QzVw",
        "outputId": "ab32204e-0f50-42d0-e2b9-eb9c9b038255",
        "colab": {
          "base_uri": "https://localhost:8080/",
          "height": 34
        }
      },
      "source": [
        "arabic_greeting = 'Ahlan wa sahlan.'\n",
        "print(arabic_greeting)"
      ],
      "execution_count": 5,
      "outputs": [
        {
          "output_type": "stream",
          "text": [
            "Ahlan wa sahlan.\n"
          ],
          "name": "stdout"
        }
      ]
    },
    {
      "cell_type": "markdown",
      "metadata": {
        "id": "259jJvESQ6K9"
      },
      "source": [
        "The compiler runs through each line in order. Every time it arrives at print(), it displays information.\n",
        "\n",
        "In this exercise, you have learned different ways to display strings, including the print() function. You will use the print() function very frequently as a developer."
      ]
    }
  ]
}