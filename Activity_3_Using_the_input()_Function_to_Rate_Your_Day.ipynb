{
  "nbformat": 4,
  "nbformat_minor": 0,
  "metadata": {
    "colab": {
      "name": "Activity 3: Using the input() Function to Rate Your Day",
      "provenance": [],
      "authorship_tag": "ABX9TyMFAnRbI7Oby238Eps4BuNg",
      "include_colab_link": true
    },
    "kernelspec": {
      "name": "python3",
      "display_name": "Python 3"
    }
  },
  "cells": [
    {
      "cell_type": "markdown",
      "metadata": {
        "id": "view-in-github",
        "colab_type": "text"
      },
      "source": [
        "<a href=\"https://colab.research.google.com/github/sandeep92134/PACKT-python-workshop/blob/main/Activity_3_Using_the_input()_Function_to_Rate_Your_Day.ipynb\" target=\"_parent\"><img src=\"https://colab.research.google.com/assets/colab-badge.svg\" alt=\"Open In Colab\"/></a>"
      ]
    },
    {
      "cell_type": "markdown",
      "metadata": {
        "id": "RsXiLWLKHs1x"
      },
      "source": [
        "1. We begin this activity by opening up a new Jupyter Notebook.\n",
        "\n",
        "2. In this step, a question is displayed, prompting a user to rate their day on a number scale:"
      ]
    },
    {
      "cell_type": "code",
      "metadata": {
        "id": "vW_nG6RvIEL0",
        "outputId": "21952024-b1de-459b-fd54-e14bc640926f",
        "colab": {
          "base_uri": "https://localhost:8080/",
          "height": 34
        }
      },
      "source": [
        "# Choose a question to ask\n",
        "print('How would you rate your day on a scale of 1 to 10?')"
      ],
      "execution_count": 1,
      "outputs": [
        {
          "output_type": "stream",
          "text": [
            "How would you rate your day on a scale of 1 to 10?\n"
          ],
          "name": "stdout"
        }
      ]
    },
    {
      "cell_type": "markdown",
      "metadata": {
        "id": "ElxN-h_vIRyX"
      },
      "source": [
        "3. The output of this step should be as follows:\n",
        "### How would you rate your day on a scale of 1 to 10? "
      ]
    },
    {
      "cell_type": "markdown",
      "metadata": {
        "id": "Sz6N9HJWIi54"
      },
      "source": [
        "4. In this step, the user input is saved as a variable:"
      ]
    },
    {
      "cell_type": "code",
      "metadata": {
        "id": "HexGUcNZItN3",
        "outputId": "431fc75a-d9ab-4b9f-e35c-2501fc3704a1",
        "colab": {
          "base_uri": "https://localhost:8080/",
          "height": 34
        }
      },
      "source": [
        "# Set a variable equal to input()\n",
        "day_rating = input()"
      ],
      "execution_count": 2,
      "outputs": [
        {
          "output_type": "stream",
          "text": [
            "8\n"
          ],
          "name": "stdout"
        }
      ]
    },
    {
      "cell_type": "markdown",
      "metadata": {
        "id": "Nhoo64dmIxe8"
      },
      "source": [
        "5. In this step, a statement is displayed that includes the provided number:"
      ]
    },
    {
      "cell_type": "code",
      "metadata": {
        "id": "Vlq3XjutI_SV",
        "outputId": "b966e535-b88a-42fd-902c-97b088c37450",
        "colab": {
          "base_uri": "https://localhost:8080/",
          "height": 34
        }
      },
      "source": [
        "# Select an appropriate output.\n",
        "print('You feel like a ' + day_rating + ' today. Thanks for letting me know')"
      ],
      "execution_count": 3,
      "outputs": [
        {
          "output_type": "stream",
          "text": [
            "You feel like a 8 today. Thanks for letting me know\n"
          ],
          "name": "stdout"
        }
      ]
    },
    {
      "cell_type": "markdown",
      "metadata": {
        "id": "uZh9opvJJIRe"
      },
      "source": [
        "In this activity, you prompted the user for a number and used that number to display a statement back to the user that includes the number. Communicating directly with users depending upon their input is a core developer skill."
      ]
    },
    {
      "cell_type": "code",
      "metadata": {
        "id": "UUiHcoadGuLU",
        "outputId": "89c39f9c-d13e-4351-c243-9f95f1c7910d",
        "colab": {
          "base_uri": "https://localhost:8080/",
          "height": 34
        }
      },
      "source": [
        "# for pratice\n",
        "print('What was your day and Rate your day on scale of 1 to 10')"
      ],
      "execution_count": 4,
      "outputs": [
        {
          "output_type": "stream",
          "text": [
            "What was your day and Rate your day on scale of 1 to 10\n"
          ],
          "name": "stdout"
        }
      ]
    },
    {
      "cell_type": "code",
      "metadata": {
        "id": "5YiU9hNdHT2I",
        "outputId": "fc197bcb-ef49-4a07-cc2c-e78ff4883ad7",
        "colab": {
          "base_uri": "https://localhost:8080/",
          "height": 34
        }
      },
      "source": [
        "day_rating = input()"
      ],
      "execution_count": 5,
      "outputs": [
        {
          "output_type": "stream",
          "text": [
            "good and 7\n"
          ],
          "name": "stdout"
        }
      ]
    },
    {
      "cell_type": "code",
      "metadata": {
        "id": "mVekouSBHgVf",
        "outputId": "09086342-3651-4870-d0ea-b9df8ffb9191",
        "colab": {
          "base_uri": "https://localhost:8080/",
          "height": 34
        }
      },
      "source": [
        "print(day_rating)"
      ],
      "execution_count": 6,
      "outputs": [
        {
          "output_type": "stream",
          "text": [
            "good and 7\n"
          ],
          "name": "stdout"
        }
      ]
    }
  ]
}