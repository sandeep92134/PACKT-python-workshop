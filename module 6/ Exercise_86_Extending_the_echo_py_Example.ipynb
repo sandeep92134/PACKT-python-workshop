{
  "nbformat": 4,
  "nbformat_minor": 0,
  "metadata": {
    "colab": {
      "name": "Exercise 86: Extending the echo.py Example",
      "provenance": [],
      "authorship_tag": "ABX9TyPNr1CSqtWk/X+MM/0ih9CM",
      "include_colab_link": true
    },
    "kernelspec": {
      "name": "python3",
      "display_name": "Python 3"
    }
  },
  "cells": [
    {
      "cell_type": "markdown",
      "metadata": {
        "id": "view-in-github",
        "colab_type": "text"
      },
      "source": [
        "<a href=\"https://colab.research.google.com/github/sandeep92134/PACKT-python-workshop/blob/main/module%206/%20Exercise_86_Extending_the_echo_py_Example.ipynb\" target=\"_parent\"><img src=\"https://colab.research.google.com/assets/colab-badge.svg\" alt=\"Open In Colab\"/></a>"
      ]
    },
    {
      "cell_type": "code",
      "metadata": {
        "colab": {
          "base_uri": "https://localhost:8080/"
        },
        "id": "tx5r2sTsxe7h",
        "outputId": "5c40ac7e-7c0d-4c96-bffa-f5d25e8c226f"
      },
      "source": [
        "%%writefile echo.py\r\n",
        "\r\n",
        "import argparse\r\n",
        "parser = argparse.ArgumentParser(description=\"\"\"\r\n",
        "Prints out the words passed in, capitalizes them if required\r\n",
        "and repeat them in as many lines as requested.\r\n",
        "\"\"\")\r\n",
        "parser.add_argument(\"message\", help=\"Messages to be echoed\", nargs=\"+\")\r\n",
        "parser.add_argument(\"-c\", \"--capitalize\", action=\"store_true\")\r\n",
        "parser.add_argument(\"--repeat\", type=int, default=1)\r\n",
        "args = parser.parse_args()\r\n",
        "if args.capitalize:\r\n",
        "    messages = [m.capitalize() for m in args.message]\r\n",
        "else:\r\n",
        "    messages = args.message\r\n",
        "for _ in range(args.repeat):\r\n",
        "    print(\" \".join(messages))"
      ],
      "execution_count": 1,
      "outputs": [
        {
          "output_type": "stream",
          "text": [
            "Writing echo.py\n"
          ],
          "name": "stdout"
        }
      ]
    },
    {
      "cell_type": "code",
      "metadata": {
        "colab": {
          "base_uri": "https://localhost:8080/"
        },
        "id": "7jqLCZEo0wXv",
        "outputId": "f997882f-53a3-42c5-c4f1-1da886e33009"
      },
      "source": [
        "!python echo.py "
      ],
      "execution_count": 2,
      "outputs": [
        {
          "output_type": "stream",
          "text": [
            "usage: echo.py [-h] [-c] [--repeat REPEAT] message [message ...]\n",
            "echo.py: error: the following arguments are required: message\n"
          ],
          "name": "stdout"
        }
      ]
    },
    {
      "cell_type": "code",
      "metadata": {
        "colab": {
          "base_uri": "https://localhost:8080/"
        },
        "id": "iKSrVY840QmB",
        "outputId": "f079f7ee-bac9-47ee-ed24-8becfd284163"
      },
      "source": [
        "!python echo.py hello python learner --repeat=3 -c"
      ],
      "execution_count": 3,
      "outputs": [
        {
          "output_type": "stream",
          "text": [
            "Hello Python Learner\n",
            "Hello Python Learner\n",
            "Hello Python Learner\n"
          ],
          "name": "stdout"
        }
      ]
    }
  ]
}