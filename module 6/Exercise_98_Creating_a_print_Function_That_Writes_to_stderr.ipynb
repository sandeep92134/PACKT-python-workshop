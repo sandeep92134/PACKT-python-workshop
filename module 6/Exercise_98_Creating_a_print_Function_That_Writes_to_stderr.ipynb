{
  "nbformat": 4,
  "nbformat_minor": 0,
  "metadata": {
    "colab": {
      "name": "Exercise 98: Creating a print Function That Writes to stderr",
      "provenance": [],
      "authorship_tag": "ABX9TyNYhh0EZ+aACLtxk3icOckg",
      "include_colab_link": true
    },
    "kernelspec": {
      "name": "python3",
      "display_name": "Python 3"
    }
  },
  "cells": [
    {
      "cell_type": "markdown",
      "metadata": {
        "id": "view-in-github",
        "colab_type": "text"
      },
      "source": [
        "<a href=\"https://colab.research.google.com/github/sandeep92134/PACKT-python-workshop/blob/main/module%206/Exercise_98_Creating_a_print_Function_That_Writes_to_stderr.ipynb\" target=\"_parent\"><img src=\"https://colab.research.google.com/assets/colab-badge.svg\" alt=\"Open In Colab\"/></a>"
      ]
    },
    {
      "cell_type": "markdown",
      "metadata": {
        "id": "BCZCOyeeD3Hh"
      },
      "source": [
        "By using **partial**, you can also rebind the optional arguments to a different default, allowing us to change the default value that the function has. You will see how you can repurpose the **print** function to create a **print_stderr** function that just writes to **stderr**.\r\n",
        "\r\n",
        "In this exercise, you will create a function that acts like **print**, but the output is **stderr** rather than **stdout**:\r\n",
        "\r\n",
        "1. Explore the **print** argument. To start, you need to explore the arguments that **print** takes are. You will call **help** on **print** to see what the documentation offers:\r\n",
        "\r\n",
        "  The argument that you are interested in is the **file**, which allows us to specify the stream you want to write to.\r\n",
        "2. Print to **stderr**. Now, print the default value for the optional argument file, which is **sys.stdout**, but you can pass **sys.stderr** to get the behavior you are looking for:\r\n",
        "\r\n",
        " As you are printing to **stderr**, the output appears in red as expected.\r\n",
        "3. Use partial to change the default. You can use **partial** to specify arguments to be passed and create a new function. You will bind **file** to **stderr** and see the output:"
      ]
    },
    {
      "cell_type": "code",
      "metadata": {
        "colab": {
          "base_uri": "https://localhost:8080/"
        },
        "id": "EW-oQNh6Ch3N",
        "outputId": "f00680de-ea51-4be0-b433-01cffd4773b1"
      },
      "source": [
        "help(print)"
      ],
      "execution_count": 1,
      "outputs": [
        {
          "output_type": "stream",
          "text": [
            "Help on built-in function print in module builtins:\n",
            "\n",
            "print(...)\n",
            "    print(value, ..., sep=' ', end='\\n', file=sys.stdout, flush=False)\n",
            "    \n",
            "    Prints the values to a stream, or to sys.stdout by default.\n",
            "    Optional keyword arguments:\n",
            "    file:  a file-like object (stream); defaults to the current sys.stdout.\n",
            "    sep:   string inserted between values, default a space.\n",
            "    end:   string appended after the last value, default a newline.\n",
            "    flush: whether to forcibly flush the stream.\n",
            "\n"
          ],
          "name": "stdout"
        }
      ]
    },
    {
      "cell_type": "code",
      "metadata": {
        "colab": {
          "base_uri": "https://localhost:8080/"
        },
        "id": "dCuBGW5PDedF",
        "outputId": "df5990c7-a8c5-4af2-bec0-b4b5af347e16"
      },
      "source": [
        "import sys\r\n",
        "print(\"Hello stderr\", file=sys.stderr)"
      ],
      "execution_count": 2,
      "outputs": [
        {
          "output_type": "stream",
          "text": [
            "Hello stderr\n"
          ],
          "name": "stderr"
        }
      ]
    },
    {
      "cell_type": "code",
      "metadata": {
        "colab": {
          "base_uri": "https://localhost:8080/"
        },
        "id": "HtIgdxAyDjFu",
        "outputId": "507411a9-32e4-441e-f8fd-a73ec35647ca"
      },
      "source": [
        "import functools\r\n",
        "print_stderr = functools.partial(print, file=sys.stderr)\r\n",
        "print_stderr(\"Hello stderr\")"
      ],
      "execution_count": 3,
      "outputs": [
        {
          "output_type": "stream",
          "text": [
            "Hello stderr\n"
          ],
          "name": "stderr"
        }
      ]
    }
  ]
}