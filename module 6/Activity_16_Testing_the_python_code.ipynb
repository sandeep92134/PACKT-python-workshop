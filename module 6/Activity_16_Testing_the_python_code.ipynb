{
  "nbformat": 4,
  "nbformat_minor": 0,
  "metadata": {
    "colab": {
      "name": "Activity 16: Testing the python code",
      "provenance": [],
      "authorship_tag": "ABX9TyPggEjUgNPKcURqyxYO3pxU",
      "include_colab_link": true
    },
    "kernelspec": {
      "name": "python3",
      "display_name": "Python 3"
    }
  },
  "cells": [
    {
      "cell_type": "markdown",
      "metadata": {
        "id": "view-in-github",
        "colab_type": "text"
      },
      "source": [
        "<a href=\"https://colab.research.google.com/github/sandeep92134/PACKT-python-workshop/blob/main/module%206/Activity_16_Testing_the_python_code.ipynb\" target=\"_parent\"><img src=\"https://colab.research.google.com/assets/colab-badge.svg\" alt=\"Open In Colab\"/></a>"
      ]
    },
    {
      "cell_type": "markdown",
      "metadata": {
        "id": "YRNg52MCjvp0"
      },
      "source": [
        "# Testing Python Code\r\n",
        "A company that receives small Python code snippets from its clients with basic mathematical and string operations has realized that some of the operations crash their platform. There is some asked for code requested by clients that cause the Python interpreter to abort as it cannot compute it.\r\n",
        "\r\n",
        "You are therefore asked to create a small program that can run the requested code and check whether it will crash without breaking the current process. This can be done by running the same code with **subprocess** and the same interpreter version that is currently running the code.\r\n",
        "\r\n",
        "To get this code, you need to:\r\n",
        "1. Find out the executable of our interpreter by using the **sys** module.\r\n",
        "2. Use **subprocess** to run the code with the interpreter that you used in the previous step.\r\n",
        "3. Use the **-c** option of the interpreter to run code inline.\r\n",
        "4. Check whether the result code is **-11**, which corresponds to an abort in the program.\r\n"
      ]
    },
    {
      "cell_type": "code",
      "metadata": {
        "colab": {
          "base_uri": "https://localhost:8080/"
        },
        "id": "DSTQ0G4Ai8U9",
        "outputId": "b681fa48-c737-43d8-be0e-d01219358b21"
      },
      "source": [
        "import sys\r\n",
        "import subprocess\r\n",
        "code = 'compile(\"1\" + \"+1\" * 10 ** 6, \"string\", \"exec\")'\r\n",
        "result = subprocess.run([\r\n",
        "    sys.executable,\r\n",
        "    \"-c\", code\r\n",
        "])\r\n",
        "print(result.returncode)"
      ],
      "execution_count": 3,
      "outputs": [
        {
          "output_type": "stream",
          "text": [
            "1\n"
          ],
          "name": "stdout"
        }
      ]
    }
  ]
}