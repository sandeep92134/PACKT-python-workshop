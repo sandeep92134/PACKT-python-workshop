{
  "nbformat": 4,
  "nbformat_minor": 0,
  "metadata": {
    "colab": {
      "name": "Exercise 89: Calculating the Unix Epoch Time",
      "provenance": [],
      "authorship_tag": "ABX9TyOaIwXpgF/aASSMUgBqUpzb",
      "include_colab_link": true
    },
    "kernelspec": {
      "name": "python3",
      "display_name": "Python 3"
    }
  },
  "cells": [
    {
      "cell_type": "markdown",
      "metadata": {
        "id": "view-in-github",
        "colab_type": "text"
      },
      "source": [
        "<a href=\"https://colab.research.google.com/github/sandeep92134/PACKT-python-workshop/blob/main/module%206/Exercise_89_Calculating_the_Unix_Epoch_Time.ipynb\" target=\"_parent\"><img src=\"https://colab.research.google.com/assets/colab-badge.svg\" alt=\"Open In Colab\"/></a>"
      ]
    },
    {
      "cell_type": "markdown",
      "metadata": {
        "id": "0lSQ-skq_-qm"
      },
      "source": [
        "In this exercise, you will use the **datetime** and **time** modules to calculate Unix Epoch time.\r\n",
        "\r\n",
        "If you can just look it up, you can also calculate the Unix epoch. As **time**.time gives us the number of seconds since the epoch, you can create a time delta with it and subtract it from a **datetime** you've created. You will see how to perform that in this exercise.\r\n",
        "\r\n",
        "This exercise can be performed in a Jupyter notebook:\r\n",
        "\r\n",
        "1. Import the **time** and **datetime** modules and get them to the current namespace:\r\n",
        "2. Get the current time. You use both **datetime** and **time** to do this:\r\n",
        "3. You can now calculate the epoch by subtracting datetime and a **time** delta, which you get from the current time since you said that these are the number of seconds since the **epoch**:"
      ]
    },
    {
      "cell_type": "code",
      "metadata": {
        "id": "e1Ub5ZGj_wav"
      },
      "source": [
        "import datetime as dt\r\n",
        "import time "
      ],
      "execution_count": 1,
      "outputs": []
    },
    {
      "cell_type": "code",
      "metadata": {
        "colab": {
          "base_uri": "https://localhost:8080/"
        },
        "id": "O__S3CK8Aw8-",
        "outputId": "2e069167-1ff2-4449-b6a8-c9d6f7f0937c"
      },
      "source": [
        "time_now = time.time()\r\n",
        "\r\n",
        "datetime_now = dt.datetime.now(dt.timezone.utc)\r\n",
        "\r\n",
        "epoch = datetime_now - dt.timedelta(seconds=time_now)\r\n",
        "\r\n",
        "print(epoch)"
      ],
      "execution_count": 2,
      "outputs": [
        {
          "output_type": "stream",
          "text": [
            "1970-01-01 00:00:00.000036+00:00\n"
          ],
          "name": "stdout"
        }
      ]
    },
    {
      "cell_type": "code",
      "metadata": {
        "id": "cxLL7rt7A85V"
      },
      "source": [
        "import calendar"
      ],
      "execution_count": 3,
      "outputs": []
    },
    {
      "cell_type": "code",
      "metadata": {
        "colab": {
          "base_uri": "https://localhost:8080/"
        },
        "id": "jcn3TLcnBDGd",
        "outputId": "6ca679a5-5a74-4ba2-df37-c222133cf11f"
      },
      "source": [
        "c = calendar.Calendar()\r\n",
        "list(c.itermonthdates(2019, 2))"
      ],
      "execution_count": 4,
      "outputs": [
        {
          "output_type": "execute_result",
          "data": {
            "text/plain": [
              "[datetime.date(2019, 1, 28),\n",
              " datetime.date(2019, 1, 29),\n",
              " datetime.date(2019, 1, 30),\n",
              " datetime.date(2019, 1, 31),\n",
              " datetime.date(2019, 2, 1),\n",
              " datetime.date(2019, 2, 2),\n",
              " datetime.date(2019, 2, 3),\n",
              " datetime.date(2019, 2, 4),\n",
              " datetime.date(2019, 2, 5),\n",
              " datetime.date(2019, 2, 6),\n",
              " datetime.date(2019, 2, 7),\n",
              " datetime.date(2019, 2, 8),\n",
              " datetime.date(2019, 2, 9),\n",
              " datetime.date(2019, 2, 10),\n",
              " datetime.date(2019, 2, 11),\n",
              " datetime.date(2019, 2, 12),\n",
              " datetime.date(2019, 2, 13),\n",
              " datetime.date(2019, 2, 14),\n",
              " datetime.date(2019, 2, 15),\n",
              " datetime.date(2019, 2, 16),\n",
              " datetime.date(2019, 2, 17),\n",
              " datetime.date(2019, 2, 18),\n",
              " datetime.date(2019, 2, 19),\n",
              " datetime.date(2019, 2, 20),\n",
              " datetime.date(2019, 2, 21),\n",
              " datetime.date(2019, 2, 22),\n",
              " datetime.date(2019, 2, 23),\n",
              " datetime.date(2019, 2, 24),\n",
              " datetime.date(2019, 2, 25),\n",
              " datetime.date(2019, 2, 26),\n",
              " datetime.date(2019, 2, 27),\n",
              " datetime.date(2019, 2, 28),\n",
              " datetime.date(2019, 3, 1),\n",
              " datetime.date(2019, 3, 2),\n",
              " datetime.date(2019, 3, 3)]"
            ]
          },
          "metadata": {
            "tags": []
          },
          "execution_count": 4
        }
      ]
    },
    {
      "cell_type": "code",
      "metadata": {
        "colab": {
          "base_uri": "https://localhost:8080/"
        },
        "id": "MHG7emifBTyq",
        "outputId": "a3425736-bb73-4795-b375-a7b7bcda8a9d"
      },
      "source": [
        "list(d for d in c.itermonthdates(2019, 2) if d.month == 2)"
      ],
      "execution_count": 5,
      "outputs": [
        {
          "output_type": "execute_result",
          "data": {
            "text/plain": [
              "[datetime.date(2019, 2, 1),\n",
              " datetime.date(2019, 2, 2),\n",
              " datetime.date(2019, 2, 3),\n",
              " datetime.date(2019, 2, 4),\n",
              " datetime.date(2019, 2, 5),\n",
              " datetime.date(2019, 2, 6),\n",
              " datetime.date(2019, 2, 7),\n",
              " datetime.date(2019, 2, 8),\n",
              " datetime.date(2019, 2, 9),\n",
              " datetime.date(2019, 2, 10),\n",
              " datetime.date(2019, 2, 11),\n",
              " datetime.date(2019, 2, 12),\n",
              " datetime.date(2019, 2, 13),\n",
              " datetime.date(2019, 2, 14),\n",
              " datetime.date(2019, 2, 15),\n",
              " datetime.date(2019, 2, 16),\n",
              " datetime.date(2019, 2, 17),\n",
              " datetime.date(2019, 2, 18),\n",
              " datetime.date(2019, 2, 19),\n",
              " datetime.date(2019, 2, 20),\n",
              " datetime.date(2019, 2, 21),\n",
              " datetime.date(2019, 2, 22),\n",
              " datetime.date(2019, 2, 23),\n",
              " datetime.date(2019, 2, 24),\n",
              " datetime.date(2019, 2, 25),\n",
              " datetime.date(2019, 2, 26),\n",
              " datetime.date(2019, 2, 27),\n",
              " datetime.date(2019, 2, 28)]"
            ]
          },
          "metadata": {
            "tags": []
          },
          "execution_count": 5
        }
      ]
    }
  ]
}