{
  "nbformat": 4,
  "nbformat_minor": 0,
  "metadata": {
    "kernelspec": {
      "display_name": "Python 3",
      "language": "python",
      "name": "python3"
    },
    "language_info": {
      "codemirror_mode": {
        "name": "ipython",
        "version": 3
      },
      "file_extension": ".py",
      "mimetype": "text/x-python",
      "name": "python",
      "nbconvert_exporter": "python",
      "pygments_lexer": "ipython3",
      "version": "3.7.6"
    },
    "colab": {
      "name": "Exercise 92: Customizing Child Processes with env vars",
      "provenance": [],
      "include_colab_link": true
    }
  },
  "cells": [
    {
      "cell_type": "markdown",
      "metadata": {
        "id": "view-in-github",
        "colab_type": "text"
      },
      "source": [
        "<a href=\"https://colab.research.google.com/github/sandeep92134/PACKT-python-workshop/blob/main/module%206/Exercise_92_Customizing_Child_Processes_with_env_vars.ipynb\" target=\"_parent\"><img src=\"https://colab.research.google.com/assets/colab-badge.svg\" alt=\"Open In Colab\"/></a>"
      ]
    },
    {
      "cell_type": "markdown",
      "metadata": {
        "id": "dPQ529wRjf_V"
      },
      "source": [
        "As part of an auditing tool, you are asked to print our environment variables by using the **subprocess** module, without relying on the Python **os.environ** variable. However, you have to do so concealing our server name, as our manager does not want to show this information to our clients.\r\n",
        "\r\n",
        "In this exercise, you will call other apps in the OS while changing the environment variables of the parent process. You will see how you can change environment variables when using **subprocess**:\r\n",
        "\r\n",
        "1. Import subprocess. Bring the **subprocess** module into the current namespace:\r\n",
        "\r\n",
        "   You can also bring just the **run** command by running **subprocess** by importing **run**, but by importing this module itself, we can see the module name when we are calling **run**. Otherwise, you wouldn't know where the **run** was coming from. Additionally, **subprocess** defines some constants that are used for some arguments on the advanced use of **Popen**. By importing **subprocess**, you have all those available.\r\n",
        "\r\n",
        "2. Run **env** to print the environment variables. You can run the **env** Unix command, which will list the process environment variables in **stdout**:\r\n",
        "\r\n",
        "  You pass **capture_output** and **text** to be able to read the **stdout** result in a Unicode string. You can confirm that the process indeed has a list of environment variables already set; those match the ones of the parent process:\r\n",
        "3. Use a different set of environment variables. If you wanted to customize the environment variables that our subprocess has, you could use the **env** keyword of the **subprocess.run** method:  \r\n",
        "4. Now, modify the default set of variables. Most of the time, you just want to modify or add one variable, not just replace them all. Therefore, what we did in the previous step is too radical, as tools might require environment variables that are always present in the OS. To do so, you will have to take the current process environment and modify it to match the expected result. We can access the current process environment variables via os.environ and copy it via the copy module. Though you can also use the dict expansion syntax with the keys that you want to change to modify it, as shown in the following example:\r\n"
      ]
    },
    {
      "cell_type": "code",
      "metadata": {
        "id": "k50KS_CdjSm0"
      },
      "source": [
        "import subprocess"
      ],
      "execution_count": null,
      "outputs": []
    },
    {
      "cell_type": "code",
      "metadata": {
        "id": "hDs_oylYjSnC"
      },
      "source": [
        "# For Linux / MAC Users\n",
        "result = subprocess.run(\n",
        "    [\"env\"],\n",
        "    capture_output=True,\n",
        "    text=True\n",
        ")\n",
        "print(result.stdout)"
      ],
      "execution_count": null,
      "outputs": []
    },
    {
      "cell_type": "code",
      "metadata": {
        "id": "g_gBLRBfjSnE"
      },
      "source": [
        "# For windows Users\n",
        "result = subprocess.run(\n",
        "    [\"set\"],\n",
        "    capture_output=True,\n",
        "    text=True,\n",
        "    shell = True\n",
        ")\n",
        "print(result.stdout)"
      ],
      "execution_count": null,
      "outputs": []
    },
    {
      "cell_type": "code",
      "metadata": {
        "id": "C5fQNMavjSnF"
      },
      "source": [
        "# For Linux / Mac Users\n",
        "result = subprocess.run(\n",
        "    [\"env\"],\n",
        "    capture_output=True,\n",
        "    text=True,\n",
        "    env={\"SERVER\": \"OTHER_SERVER\"}\n",
        ")\n",
        "print(result.stdout)"
      ],
      "execution_count": null,
      "outputs": []
    },
    {
      "cell_type": "code",
      "metadata": {
        "id": "JNnnQmtOjSnF"
      },
      "source": [
        "# For Windows Users\n",
        "result = subprocess.run(\n",
        "    [\"set\"],\n",
        "    capture_output=True,\n",
        "    text=True,\n",
        "    shell = True,\n",
        "    env={\"SERVER\": \"OTHER_SERVER\"}\n",
        ")\n",
        "print(result.stdout)"
      ],
      "execution_count": null,
      "outputs": []
    },
    {
      "cell_type": "code",
      "metadata": {
        "id": "gL_AnXPTjSnG"
      },
      "source": [
        "# For Linux / MAC Users \n",
        "import os\n",
        "result = subprocess.run(\n",
        "    [\"env\"],\n",
        "    capture_output=True,\n",
        "    text=True,\n",
        "    env={**os.environ, \"SERVER\": \"OTHER_SERVER\"}\n",
        ")\n",
        "print(result.stdout)"
      ],
      "execution_count": null,
      "outputs": []
    },
    {
      "cell_type": "code",
      "metadata": {
        "id": "iNOK8sVPjSnH"
      },
      "source": [
        "# For windows users\n",
        "import os\n",
        "result = subprocess.run(\n",
        "    [\"set\"],\n",
        "    capture_output=True,\n",
        "    text=True,\n",
        "    shell = True,\n",
        "    env={**os.environ, \"SERVER\": \"OTHER_SERVER\"}\n",
        ")\n",
        "print(result.stdout)"
      ],
      "execution_count": null,
      "outputs": []
    },
    {
      "cell_type": "code",
      "metadata": {
        "id": "7eMWdIlCjSnH"
      },
      "source": [
        ""
      ],
      "execution_count": null,
      "outputs": []
    }
  ]
}