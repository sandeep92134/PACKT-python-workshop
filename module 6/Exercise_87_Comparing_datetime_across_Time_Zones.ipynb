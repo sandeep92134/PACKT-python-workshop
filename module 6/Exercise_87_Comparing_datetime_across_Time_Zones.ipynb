{
  "nbformat": 4,
  "nbformat_minor": 0,
  "metadata": {
    "colab": {
      "name": "Exercise 87: Comparing datetime across Time Zones",
      "provenance": [],
      "authorship_tag": "ABX9TyPK9LaJLgUoncYgbDjzbrCW",
      "include_colab_link": true
    },
    "kernelspec": {
      "name": "python3",
      "display_name": "Python 3"
    }
  },
  "cells": [
    {
      "cell_type": "markdown",
      "metadata": {
        "id": "view-in-github",
        "colab_type": "text"
      },
      "source": [
        "<a href=\"https://colab.research.google.com/github/sandeep92134/PACKT-python-workshop/blob/main/module%206/Exercise_87_Comparing_datetime_across_Time_Zones.ipynb\" target=\"_parent\"><img src=\"https://colab.research.google.com/assets/colab-badge.svg\" alt=\"Open In Colab\"/></a>"
      ]
    },
    {
      "cell_type": "markdown",
      "metadata": {
        "id": "tWtYjRIL5nkK"
      },
      "source": [
        "The goal of this exercise is to create two different datetime and compare them when they are in different time zones:\r\n",
        "\r\n",
        "1. Import the **datetime** and **tz** modules from **dateutil**:\r\n",
        "2. Create the first **datetime** for **Madrid**:\r\n",
        "\r\n",
        "  With this line, you create a **datetime** for April 24, 1989, at 11 a.m. in Madrid.\r\n",
        "3. Create the second **datetime** for **Los_Angeles**:\r\n",
        "\r\n",
        "  This creates a **datetime** object that seems to have a difference of 3 hours less and a different time zone.\r\n",
        "4. Now, compare them:\r\n",
        "5. Now, convert the **datetime** object to a different time zone. You can convert a **datetime** from one time zone to another. You should do that to see what time the second **datetime** would show if it was in Madrid:\r\n"
      ]
    },
    {
      "cell_type": "code",
      "metadata": {
        "id": "CZw5zVCy3ni_"
      },
      "source": [
        "import datetime\r\n",
        "from dateutil import tz"
      ],
      "execution_count": 1,
      "outputs": []
    },
    {
      "cell_type": "code",
      "metadata": {
        "id": "pIRtQlxu7Fae"
      },
      "source": [
        "d1 = datetime.datetime(1989, 4, 24, hour=11, tzinfo=tz.gettz(\"Europe/Madrid\"))"
      ],
      "execution_count": 2,
      "outputs": []
    },
    {
      "cell_type": "code",
      "metadata": {
        "id": "-zpjbmjR7J2i"
      },
      "source": [
        "d2 = datetime.datetime(1989, 4, 24, hour=8, tzinfo=tz.gettz(\"America/Los_Angeles\"))"
      ],
      "execution_count": 3,
      "outputs": []
    },
    {
      "cell_type": "code",
      "metadata": {
        "colab": {
          "base_uri": "https://localhost:8080/"
        },
        "id": "ijgOfiCp7PSb",
        "outputId": "bcfaf895-85ed-46ca-ca8a-d34d8ea987cc"
      },
      "source": [
        "print(d1.hour > d2.hour)\r\n",
        "print(d1 > d2)"
      ],
      "execution_count": 4,
      "outputs": [
        {
          "output_type": "stream",
          "text": [
            "True\n",
            "False\n"
          ],
          "name": "stdout"
        }
      ]
    },
    {
      "cell_type": "code",
      "metadata": {
        "colab": {
          "base_uri": "https://localhost:8080/"
        },
        "id": "TiDGEaBH7Viu",
        "outputId": "32ba100c-4dc3-46a3-d307-c70ba789b96f"
      },
      "source": [
        "d2_madrid = d2.astimezone(tz.gettz(\"Europe/Madrid\"))\r\n",
        "print(d2_madrid.hour)"
      ],
      "execution_count": 5,
      "outputs": [
        {
          "output_type": "stream",
          "text": [
            "17\n"
          ],
          "name": "stdout"
        }
      ]
    },
    {
      "cell_type": "code",
      "metadata": {
        "colab": {
          "base_uri": "https://localhost:8080/"
        },
        "id": "YMUZzAce7dtA",
        "outputId": "6d073b07-a348-445c-c874-9c0641665a09"
      },
      "source": [
        "datetime.date.today()"
      ],
      "execution_count": 6,
      "outputs": [
        {
          "output_type": "execute_result",
          "data": {
            "text/plain": [
              "datetime.date(2020, 12, 26)"
            ]
          },
          "metadata": {
            "tags": []
          },
          "execution_count": 6
        }
      ]
    }
  ]
}