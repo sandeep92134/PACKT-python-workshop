{
  "nbformat": 4,
  "nbformat_minor": 0,
  "metadata": {
    "colab": {
      "name": "Exercise 97: Using lru_cache to Speed Up Our Code",
      "provenance": [],
      "authorship_tag": "ABX9TyPW/00q3bxZOTwsEAA6QPJO",
      "include_colab_link": true
    },
    "kernelspec": {
      "name": "python3",
      "display_name": "Python 3"
    }
  },
  "cells": [
    {
      "cell_type": "markdown",
      "metadata": {
        "id": "view-in-github",
        "colab_type": "text"
      },
      "source": [
        "<a href=\"https://colab.research.google.com/github/sandeep92134/PACKT-python-workshop/blob/main/module%206/Exercise_97_Using_lru_cache_to_Speed_Up_Our_Code.ipynb\" target=\"_parent\"><img src=\"https://colab.research.google.com/assets/colab-badge.svg\" alt=\"Open In Colab\"/></a>"
      ]
    },
    {
      "cell_type": "markdown",
      "metadata": {
        "id": "Ng52FVlZ_gx0"
      },
      "source": [
        "In this exercise, you will see how to configure a function to use cache with **functools** and to reuse the results from previous calls to speed up the overall process.\r\n",
        "\r\n",
        "You use the **lru** cache function of the **functools** module to reuse values that a function has already returned without having to execute them again.\r\n",
        "\r\n",
        "We will start with a function that is mentioned in the following code snippet, which simulates taking a long time to compute, and we will see how we can improve this:\r\n",
        " ```\r\n",
        "  import time\r\n",
        "  def func(x):\r\n",
        "      time.sleep(1)\r\n",
        "      print(f\"Heavy operation for {x}\")\r\n",
        "      return x * 10\r\n",
        " ```\r\n",
        "If we call this function twice with the same arguments, we will be executing the code twice to get the same result:\r\n",
        "\r\n",
        " ```\r\n",
        " print(\"Func returned:\", func(1))\r\n",
        " print(\"Func returned:\", func(1))\r\n",
        " ```\r\n",
        "We can see this in the output and the print within the function, which happens twice. This is a clear improvement in performance as, once the function is executed, future executions are practically free. Now, we will improve the performance in the steps that follow:\r\n",
        "1. Add the **lru** cache decorator to the **func** function: The first step is to use the decorator on our function:\r\n",
        "\r\n",
        "  When we execute the function for the same input, we now see that the code is executed only once, but we still get the same output from the function:\r\n",
        "  \r\n",
        "  This is extremely useful; with just one line of code, we have at hand a fully working implementation of an LRU cache.\r\n",
        "2. Change the cache size using the **maxsize** argument. The cache comes with a default size of 128 elements, but this can be changed if needed, through the **maxsize** argument:\r\n",
        "\r\n",
        "  By setting it to **2**, we are sure that only two different inputs will be saved. We can see this by using three different inputs and calling them in reverse order later:\r\n",
        "  \r\n",
        "  The cache successfully returned the previous values for the second call of **2** and **3**, but the result for **1** was destroyed once **3** arrived, since we limited the size to two elements only.\r\n",
        "3. Now, use it in other functions. Sometimes, the functions you want to cache are not in our control to change. If you want to keep both versions, that is, a cached and an uncached one, we can achieve this by using the **lru_cache** function just as a function and not as a **decorator**, as decorators are just functions that take another function as an argument:\r\n",
        "\r\n",
        " Now, we can use either **func** or its cached version, **cached_func**:\r\n"
      ]
    },
    {
      "cell_type": "code",
      "metadata": {
        "colab": {
          "base_uri": "https://localhost:8080/"
        },
        "id": "3eYU2oaH91fU",
        "outputId": "6e31d27f-a373-4584-9356-cfa8c74f9c71"
      },
      "source": [
        "import time\r\n",
        "\r\n",
        "def func(x):\r\n",
        "    time.sleep(1)\r\n",
        "    print(f\"Heavy operation for {x}\")\r\n",
        "    return x * 10\r\n",
        "\r\n",
        "print(\"Func returned:\", func(1))\r\n",
        "print(\"Func returned:\", func(1))"
      ],
      "execution_count": 1,
      "outputs": [
        {
          "output_type": "stream",
          "text": [
            "Heavy operation for 1\n",
            "Func returned: 10\n",
            "Heavy operation for 1\n",
            "Func returned: 10\n"
          ],
          "name": "stdout"
        }
      ]
    },
    {
      "cell_type": "code",
      "metadata": {
        "colab": {
          "base_uri": "https://localhost:8080/"
        },
        "id": "MLaLsFXX_Bkx",
        "outputId": "f7dda022-a441-4f5e-82dd-92c09c61ea7f"
      },
      "source": [
        "import functools\r\n",
        "import time\r\n",
        "\r\n",
        "@functools.lru_cache()\r\n",
        "def func(x):\r\n",
        "    time.sleep(1)\r\n",
        "    print(f\"Heavy operation for {x}\")\r\n",
        "    return x * 10\r\n",
        "    \r\n",
        "print(\"Func returned:\", func(1))\r\n",
        "print(\"Func returned:\", func(1))\r\n",
        "print(\"Func returned:\", func(2))"
      ],
      "execution_count": 2,
      "outputs": [
        {
          "output_type": "stream",
          "text": [
            "Heavy operation for 1\n",
            "Func returned: 10\n",
            "Func returned: 10\n",
            "Heavy operation for 2\n",
            "Func returned: 20\n"
          ],
          "name": "stdout"
        }
      ]
    },
    {
      "cell_type": "code",
      "metadata": {
        "colab": {
          "base_uri": "https://localhost:8080/"
        },
        "id": "BjwrFcan_J15",
        "outputId": "122cea6b-f2fa-4211-a1f7-57a4ce76d867"
      },
      "source": [
        "import functools\r\n",
        "import time\r\n",
        "\r\n",
        "@functools.lru_cache(maxsize=2)\r\n",
        "def func(x):\r\n",
        "    time.sleep(1)\r\n",
        "    print(f\"Heavy operation for {x}\")\r\n",
        "    return x * 10\r\n",
        "\r\n",
        "print(\"Func returned:\", func(1))\r\n",
        "print(\"Func returned:\", func(2))\r\n",
        "print(\"Func returned:\", func(3))\r\n",
        "print(\"Func returned:\", func(3))\r\n",
        "print(\"Func returned:\", func(2))\r\n",
        "print(\"Func returned:\", func(1))"
      ],
      "execution_count": 3,
      "outputs": [
        {
          "output_type": "stream",
          "text": [
            "Heavy operation for 1\n",
            "Func returned: 10\n",
            "Heavy operation for 2\n",
            "Func returned: 20\n",
            "Heavy operation for 3\n",
            "Func returned: 30\n",
            "Func returned: 30\n",
            "Func returned: 20\n",
            "Heavy operation for 1\n",
            "Func returned: 10\n"
          ],
          "name": "stdout"
        }
      ]
    },
    {
      "cell_type": "code",
      "metadata": {
        "colab": {
          "base_uri": "https://localhost:8080/"
        },
        "id": "vTyJovHB_Xcq",
        "outputId": "04306fb9-2b17-411c-f281-14404ca72823"
      },
      "source": [
        "import functools\r\n",
        "import time\r\n",
        "\r\n",
        "def func(x):\r\n",
        "    time.sleep(1)\r\n",
        "    print(f\"Heavy operation for {x}\")\r\n",
        "    return x * 10\r\n",
        "\r\n",
        "cached_func = functools.lru_cache()(func)\r\n",
        "\r\n",
        "print(\"Cached func returned:\", cached_func(1))\r\n",
        "print(\"Cached func returned:\", cached_func(1))\r\n",
        "print(\"Func returned:\", func(1))\r\n",
        "print(\"Func returned:\", func(1))"
      ],
      "execution_count": 4,
      "outputs": [
        {
          "output_type": "stream",
          "text": [
            "Heavy operation for 1\n",
            "Cached func returned: 10\n",
            "Cached func returned: 10\n",
            "Heavy operation for 1\n",
            "Func returned: 10\n",
            "Heavy operation for 1\n",
            "Func returned: 10\n"
          ],
          "name": "stdout"
        }
      ]
    }
  ]
}