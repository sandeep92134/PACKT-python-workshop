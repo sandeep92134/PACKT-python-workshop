{
  "nbformat": 4,
  "nbformat_minor": 0,
  "metadata": {
    "colab": {
      "name": "Exercise 94: Configuring the Logging Stack",
      "provenance": [],
      "authorship_tag": "ABX9TyOAk5uv5Ncz5CK/dlNE64ry",
      "include_colab_link": true
    },
    "kernelspec": {
      "name": "python3",
      "display_name": "Python 3"
    }
  },
  "cells": [
    {
      "cell_type": "markdown",
      "metadata": {
        "id": "view-in-github",
        "colab_type": "text"
      },
      "source": [
        "<a href=\"https://colab.research.google.com/github/sandeep92134/PACKT-python-workshop/blob/main/module%206/Exercise_94_Configuring_the_Logging_Stack.ipynb\" target=\"_parent\"><img src=\"https://colab.research.google.com/assets/colab-badge.svg\" alt=\"Open In Colab\"/></a>"
      ]
    },
    {
      "cell_type": "markdown",
      "metadata": {
        "id": "1q9Dswr8uJxB"
      },
      "source": [
        "In this exercise, you will learn how to configure the logging stack through multiple methods to output log messages to **stdout**.\r\n",
        "\r\n",
        "You want to configure the logging stack to output logs to the console, which should look like this:\r\n",
        "\r\n",
        "You will see how you can configure it with code, with a dictionary, with **basicConfig**, and with a **config** file:\r\n",
        "\r\n",
        "1. Open a new Jupyter notebook.\r\n",
        "2. Start with configuring the code. The first way to configure the stack is by manually creating all the objects and plugging them together:\r\n",
        " \r\n",
        " In this code, you get a handle of the root logger in the third line by calling **getLogger** without any arguments. You then create a stream handler, which will output to **sys.stdout** (the console) and a formatter to configure how we want the logs to look. Finally, you just need to bind them together by setting the formatter in the handler and the handler in the logger. You set the level in the logger, though you could also configure it in the handler.\r\n",
        "3. Restart the kernel on Jupyter and now use **dictConfig** to achieve the same configuration:\r\n",
        "\r\n",
        "  The dictionary configuring the logging stack is identical to the code in Step 1. Many of the configuration parameters that are passed in as strings can also be passed as Python objects. For example, you can use **sys.stdout** instead of the string passed to the **stream** option or **logging.INFO** rather than **INFO**.\r\n",
        "4. Now, again, restart the kernel on Jupyter and use **basicConfig** as mentioned in the following code snippet:\r\n",
        "\r\n",
        "  The logging stack comes with a utility function, **basicConfig**, which can be used to perform some basic configurations, such as the one we're performing here, as mentioned in the code snippet that follows.\r\n",
        "5. Using an **ini** file. Another way to configure the logging stack is by using an **ini** file. We require an **ini** file, as follows:  "
      ]
    },
    {
      "cell_type": "code",
      "metadata": {
        "colab": {
          "base_uri": "https://localhost:8080/"
        },
        "id": "CNDgAhSlwUPE",
        "outputId": "7519f7be-d6cc-4db8-b2fb-708d29b6c88b"
      },
      "source": [
        "%%writefile logging-config.ini\r\n",
        "\r\n",
        "[loggers]\r\n",
        "keys=root\r\n",
        "\r\n",
        "[handlers]\r\n",
        "keys=console_handler\r\n",
        "\r\n",
        "[formatters]\r\n",
        "keys=short\r\n",
        "\r\n",
        "[logger_root]\r\n",
        "level=INFO\r\n",
        "handlers=console_handler\r\n",
        "\r\n",
        "[handler_console_handler]\r\n",
        "class=StreamHandler\r\n",
        "level=DEBUG\r\n",
        "formatter=short\r\n",
        "args=(sys.stdout,)\r\n",
        "\r\n",
        "[formatter_short]\r\n",
        "format=%(levelname)s: %(message)s"
      ],
      "execution_count": 1,
      "outputs": [
        {
          "output_type": "stream",
          "text": [
            "Writing logging-config.ini\n"
          ],
          "name": "stdout"
        }
      ]
    },
    {
      "cell_type": "markdown",
      "metadata": {
        "id": "unZrtKKbwETJ"
      },
      "source": [
        "## Configure through code.\r\n",
        "Restart the kernel here."
      ]
    },
    {
      "cell_type": "code",
      "metadata": {
        "colab": {
          "base_uri": "https://localhost:8080/"
        },
        "id": "x620LgQngj4K",
        "outputId": "b8b62479-2f50-49ce-847b-208d47608d30"
      },
      "source": [
        "import logging\r\n",
        "import sys\r\n",
        "root_logger = logging.getLogger()\r\n",
        "handler = logging.StreamHandler(sys.stdout)\r\n",
        "formatter = logging.Formatter(\"%(levelname)s: %(message)s\")\r\n",
        "handler.setFormatter(formatter)\r\n",
        "root_logger.addHandler(handler)\r\n",
        "root_logger.setLevel(\"INFO\")\r\n",
        "\r\n",
        "logging.info(\"Hello logging world\")"
      ],
      "execution_count": 1,
      "outputs": [
        {
          "output_type": "stream",
          "text": [
            "INFO: Hello logging world\n"
          ],
          "name": "stdout"
        }
      ]
    },
    {
      "cell_type": "markdown",
      "metadata": {
        "id": "-utO31fvwyDD"
      },
      "source": [
        "## Configure with dictConfig.\r\n",
        "Restart the kernel here.\r\n",
        "\r\n"
      ]
    },
    {
      "cell_type": "code",
      "metadata": {
        "colab": {
          "base_uri": "https://localhost:8080/"
        },
        "id": "TIX8u35Xwww7",
        "outputId": "a21df447-b82f-4430-8a6e-78f6eb67e8b7"
      },
      "source": [
        "import logging\r\n",
        "from logging.config import dictConfig\r\n",
        "\r\n",
        "dictConfig({\r\n",
        "    \"version\": 1,\r\n",
        "    \"formatters\": {\r\n",
        "        \"short\":{\r\n",
        "            \"format\": \"%(levelname)s: %(message)s\",\r\n",
        "        }\r\n",
        "    },\r\n",
        "    \"handlers\": {\r\n",
        "        \"console\": {\r\n",
        "            \"class\": \"logging.StreamHandler\",\r\n",
        "            \"formatter\": \"short\",\r\n",
        "            \"stream\": \"ext://sys.stdout\",\r\n",
        "            \"level\": \"DEBUG\",\r\n",
        "        }\r\n",
        "    },\r\n",
        "    \"loggers\": {\r\n",
        "        \"\": {\r\n",
        "            \"handlers\": [\"console\"],\r\n",
        "            \"level\": \"INFO\"\r\n",
        "        }   \r\n",
        "    }\r\n",
        "})\r\n",
        "logging.info(\"Hello logging world\")"
      ],
      "execution_count": 1,
      "outputs": [
        {
          "output_type": "stream",
          "text": [
            "INFO: Hello logging world\n"
          ],
          "name": "stdout"
        }
      ]
    },
    {
      "cell_type": "markdown",
      "metadata": {
        "id": "QN20M-cFxGwX"
      },
      "source": [
        "## Configure with basicConfig.\r\n",
        "Restart the kernel here."
      ]
    },
    {
      "cell_type": "code",
      "metadata": {
        "colab": {
          "base_uri": "https://localhost:8080/"
        },
        "id": "je0PWe1KxFrt",
        "outputId": "922c0cd2-7210-4629-bc0e-4f9a408cdbd3"
      },
      "source": [
        "import sys\r\n",
        "import logging\r\n",
        "logging.basicConfig(\r\n",
        "    level=\"INFO\",\r\n",
        "    format=\"%(levelname)s: %(message)s\",\r\n",
        "    stream=sys.stdout\r\n",
        ")\r\n",
        "logging.info(\"Hello there!\")"
      ],
      "execution_count": 2,
      "outputs": [
        {
          "output_type": "stream",
          "text": [
            "INFO: Hello there!\n"
          ],
          "name": "stdout"
        }
      ]
    },
    {
      "cell_type": "markdown",
      "metadata": {
        "id": "bV9Fm3kXxN_K"
      },
      "source": [
        "## Configure with fileconfig.\r\n",
        "Restart the kernel here."
      ]
    },
    {
      "cell_type": "code",
      "metadata": {
        "colab": {
          "base_uri": "https://localhost:8080/"
        },
        "id": "vJoX_3-dxbjs",
        "outputId": "b17330de-05cf-44f2-8e1f-6e823e4eac96"
      },
      "source": [
        "import logging\r\n",
        "from logging.config import fileConfig\r\n",
        "fileConfig(\"logging-config.ini\")\r\n",
        "logging.info(\"Hello there!\")"
      ],
      "execution_count": 1,
      "outputs": [
        {
          "output_type": "stream",
          "text": [
            "INFO: Hello there!\n"
          ],
          "name": "stdout"
        }
      ]
    }
  ]
}