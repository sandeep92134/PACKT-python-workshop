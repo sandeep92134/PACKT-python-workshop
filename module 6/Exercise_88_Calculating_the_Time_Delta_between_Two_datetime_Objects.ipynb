{
  "nbformat": 4,
  "nbformat_minor": 0,
  "metadata": {
    "colab": {
      "name": "Exercise 88: Calculating the Time Delta between Two datetime Objects",
      "provenance": [],
      "authorship_tag": "ABX9TyP/WGnh2IimY56kEVjYIJS+",
      "include_colab_link": true
    },
    "kernelspec": {
      "name": "python3",
      "display_name": "Python 3"
    }
  },
  "cells": [
    {
      "cell_type": "markdown",
      "metadata": {
        "id": "view-in-github",
        "colab_type": "text"
      },
      "source": [
        "<a href=\"https://colab.research.google.com/github/sandeep92134/PACKT-python-workshop/blob/main/module%206/Exercise_88_Calculating_the_Time_Delta_between_Two_datetime_Objects.ipynb\" target=\"_parent\"><img src=\"https://colab.research.google.com/assets/colab-badge.svg\" alt=\"Open In Colab\"/></a>"
      ]
    },
    {
      "cell_type": "markdown",
      "metadata": {
        "id": "2oNENNU58BKh"
      },
      "source": [
        "In this exercise, you will subtract two **datetime** objects to calculate the delta between the two timestamps.\r\n",
        "\r\n",
        "Quite often, when you work with **datetime**, what really matters is the difference between them; that is, the delta in time between two specific dates. Here, you will find out the difference in seconds between two important events that happened in your company, one on February 25, 2019, at 10:50, and the other on February 26 at 11:20. Both these times are in UTC. This exercise can be performed in a Jupyter notebook:\r\n",
        "\r\n",
        "1. Import the **datetime** module:\r\n",
        "\r\n",
        "   Quite often, developers import the **datetime** module through an alias, **dt**. This is done in many codebases to differentiate the **datetime** module from the **datetime** class.\r\n",
        "2. Create two **datetime** objects. You now create two dates:\r\n",
        "\r\n",
        "   We created two **datetime** objects as **dt.datetime**, and you now have two **datetime** objects.\r\n",
        "3. Subtract **d1** from **d2**. You can subtract two **datetime** to get a time delta back or add a time delta to a **datetime**. Adding two **datetime** makes no sense, and the operation will, therefore, output an error with an exception. Hence, you subtract the two **datetime** to get the delta:\r\n",
        "4. You can see that the delta between the two **datetime** is 1 day and 1,800 seconds, which can be translated to the total number of seconds by calling **total_seconds** in the time delta object that the subtraction returns:\r\n",
        "5. It happens quite often that you need to send **datetime** objects in formats such as JSON or others that do not support native **datetimes**. A common way to serialize datetime is by encoding them in a string using the ISO 8601 standard. This can be done by using **isoformat**, which will output a string, and parsing them with the **fromisoformat** method, which takes a **datetime** serialized to a string with **isoformat** and transforms it back to a **datetime**:"
      ]
    },
    {
      "cell_type": "code",
      "metadata": {
        "id": "dGoLuBu0-IT8"
      },
      "source": [
        "import datetime as dt\r\n",
        "\r\n",
        "d1 = dt.datetime(2019, 2, 25, 10, 50,\r\n",
        "                 tzinfo=dt.timezone.utc)\r\n",
        "d2 = dt.datetime(2019, 2, 26, 11, 20,\r\n",
        "                 tzinfo=dt.timezone.utc)"
      ],
      "execution_count": 1,
      "outputs": []
    },
    {
      "cell_type": "code",
      "metadata": {
        "colab": {
          "base_uri": "https://localhost:8080/"
        },
        "id": "o-dicFqM-Odi",
        "outputId": "9b011efd-a34c-487d-e3cc-46410198af1a"
      },
      "source": [
        "d2 - d1"
      ],
      "execution_count": 2,
      "outputs": [
        {
          "output_type": "execute_result",
          "data": {
            "text/plain": [
              "datetime.timedelta(1, 1800)"
            ]
          },
          "metadata": {
            "tags": []
          },
          "execution_count": 2
        }
      ]
    },
    {
      "cell_type": "code",
      "metadata": {
        "colab": {
          "base_uri": "https://localhost:8080/"
        },
        "id": "akLa3BxV-hVO",
        "outputId": "bc2cbce8-491b-4610-9b3d-df01b8a912fd"
      },
      "source": [
        "td = d2 -d1\r\n",
        "td.total_seconds()"
      ],
      "execution_count": 3,
      "outputs": [
        {
          "output_type": "execute_result",
          "data": {
            "text/plain": [
              "88200.0"
            ]
          },
          "metadata": {
            "tags": []
          },
          "execution_count": 3
        }
      ]
    },
    {
      "cell_type": "code",
      "metadata": {
        "colab": {
          "base_uri": "https://localhost:8080/",
          "height": 35
        },
        "id": "Vx10dNHp-kUu",
        "outputId": "976da92e-320e-4732-9ed7-98f266ab74b8"
      },
      "source": [
        "d1 = dt.datetime.now(dt.timezone.utc)\r\n",
        "iso_date = d1.isoformat()\r\n",
        "iso_date"
      ],
      "execution_count": 4,
      "outputs": [
        {
          "output_type": "execute_result",
          "data": {
            "application/vnd.google.colaboratory.intrinsic+json": {
              "type": "string"
            },
            "text/plain": [
              "'2020-12-26T12:17:59.663633+00:00'"
            ]
          },
          "metadata": {
            "tags": []
          },
          "execution_count": 4
        }
      ]
    }
  ]
}