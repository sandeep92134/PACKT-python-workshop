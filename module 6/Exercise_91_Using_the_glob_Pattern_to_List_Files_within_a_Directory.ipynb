{
  "nbformat": 4,
  "nbformat_minor": 0,
  "metadata": {
    "colab": {
      "name": "Exercise 91: Using the glob Pattern to List Files within a Directory",
      "provenance": [],
      "authorship_tag": "ABX9TyMP16P/TDw+pHw2CcJgCZ65",
      "include_colab_link": true
    },
    "kernelspec": {
      "name": "python3",
      "display_name": "Python 3"
    }
  },
  "cells": [
    {
      "cell_type": "markdown",
      "metadata": {
        "id": "view-in-github",
        "colab_type": "text"
      },
      "source": [
        "<a href=\"https://colab.research.google.com/github/sandeep92134/PACKT-python-workshop/blob/main/module%206/Exercise_91_Using_the_glob_Pattern_to_List_Files_within_a_Directory.ipynb\" target=\"_parent\"><img src=\"https://colab.research.google.com/assets/colab-badge.svg\" alt=\"Open In Colab\"/></a>"
      ]
    },
    {
      "cell_type": "markdown",
      "metadata": {
        "id": "Z6neZfhFa4BY"
      },
      "source": [
        "In this exercise, you will learn how to list the files of an existing source tree. This is a key part of developing any application that works with a filesystem.\r\n",
        "\r\n",
        "You are given the following file and folder structure, which you have in the GitHub repository:\r\n",
        "\r\n",
        "1. Create a path object for the current **path**:\r\n",
        "2. Find all files in the directory with the **txt** extension. You can start by listing all files with the **txt** extension by using the following **glob**:\r\n",
        "3. List all files one level deep that are within the subdirectory. If you wanted to list all files one level deep within a subdirectory only, you could use the following **glob** pattern:\r\n"
      ]
    },
    {
      "cell_type": "code",
      "metadata": {
        "id": "SY5sW8QoZV9W"
      },
      "source": [
        "import pathlib\r\n",
        "p = pathlib.Path(\"path-exercise\")"
      ],
      "execution_count": 1,
      "outputs": []
    },
    {
      "cell_type": "code",
      "metadata": {
        "colab": {
          "base_uri": "https://localhost:8080/"
        },
        "id": "Q448-cNib1Z1",
        "outputId": "acbea02a-b189-481a-cfe5-80d3c93389fc"
      },
      "source": [
        "txt_files = p.glob(\"*.txt\")\r\n",
        "print(\"*.txt:\", list(txt_files))"
      ],
      "execution_count": 2,
      "outputs": [
        {
          "output_type": "stream",
          "text": [
            "*.txt: []\n"
          ],
          "name": "stdout"
        }
      ]
    },
    {
      "cell_type": "code",
      "metadata": {
        "colab": {
          "base_uri": "https://localhost:8080/"
        },
        "id": "pew5kFH2b5sS",
        "outputId": "7b91e12f-c74a-4dec-eb5f-5d7e7882ffd4"
      },
      "source": [
        "print(\"**/*.txt:\", list(p.glob(\"**/*.txt\")))"
      ],
      "execution_count": 3,
      "outputs": [
        {
          "output_type": "stream",
          "text": [
            "**/*.txt: []\n"
          ],
          "name": "stdout"
        }
      ]
    },
    {
      "cell_type": "code",
      "metadata": {
        "colab": {
          "base_uri": "https://localhost:8080/"
        },
        "id": "c2IVOLnsb9xj",
        "outputId": "5dae374d-7a95-412e-bede-dd366b09a28e"
      },
      "source": [
        "print(\"*/*:\", list(p.glob(\"*/*\")))"
      ],
      "execution_count": 4,
      "outputs": [
        {
          "output_type": "stream",
          "text": [
            "*/*: []\n"
          ],
          "name": "stdout"
        }
      ]
    },
    {
      "cell_type": "code",
      "metadata": {
        "colab": {
          "base_uri": "https://localhost:8080/"
        },
        "id": "wN9OvlNtcGAu",
        "outputId": "ca7c19ce-690f-477f-fa25-0741a590c250"
      },
      "source": [
        "print(\"Files in */*:\", [f for f in p.glob(\"*/*\") if f.is_file()])"
      ],
      "execution_count": 5,
      "outputs": [
        {
          "output_type": "stream",
          "text": [
            "Files in */*: []\n"
          ],
          "name": "stdout"
        }
      ]
    }
  ]
}