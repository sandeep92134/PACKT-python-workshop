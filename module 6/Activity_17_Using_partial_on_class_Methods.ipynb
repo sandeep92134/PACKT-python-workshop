{
  "nbformat": 4,
  "nbformat_minor": 0,
  "metadata": {
    "colab": {
      "name": "Activity 17: Using partial on class Methods",
      "provenance": [],
      "authorship_tag": "ABX9TyOUZxgQuXJq8mDD/UA+FGYB",
      "include_colab_link": true
    },
    "kernelspec": {
      "name": "python3",
      "display_name": "Python 3"
    }
  },
  "cells": [
    {
      "cell_type": "markdown",
      "metadata": {
        "id": "view-in-github",
        "colab_type": "text"
      },
      "source": [
        "<a href=\"https://colab.research.google.com/github/sandeep92134/PACKT-python-workshop/blob/main/module%206/Activity_17_Using_partial_on_class_Methods.ipynb\" target=\"_parent\"><img src=\"https://colab.research.google.com/assets/colab-badge.svg\" alt=\"Open In Colab\"/></a>"
      ]
    },
    {
      "cell_type": "markdown",
      "metadata": {
        "id": "uJyR6uIoGBNV"
      },
      "source": [
        "## Using partial on class Methods\r\n",
        "Even though **partial** is an extremely useful and versatile function of the **functools** module, it seems to fail when we try to apply it to a **class** method.\r\n",
        "\r\n",
        "To begin with, you are working in a company that models superheroes. You are asked to fix the following code snippet, as the previous developer attempted to use **functools.partial** to create the **reset_name** function but it does not seem to work well. Explore **functools** to make the following code snippet work without errors by creating **partial** on a **class** method.\r\n",
        "\r\n",
        "In this activity, you will explore the **partial** module to see how **partial** can be used in more advanced use cases. This activity can be performed on the Jupyter notebook:\r\n",
        "\r\n",
        " ```\r\n",
        "  import functools\r\n",
        "  class Hero:\r\n",
        "      DEFAULT_NAME = \"Superman\"\r\n",
        "      def __init__(self):\r\n",
        "          self.name = Hero.DEFAULT_NAME\r\n",
        "   \r\n",
        "      def rename(self, new_name):\r\n",
        "          self.name = new_name\r\n",
        "   \r\n",
        "      reset_name = functools.partial(rename, DEFAULT_NAME)\r\n",
        "   \r\n",
        "      def __repr__(self):\r\n",
        "          return f\"Hero({self.name!r})\"\r\n",
        " ```\r\n",
        "When we try to use **partial** in this class, to create the **reset_name** method, something seems to not work. Make the following succeed by modifying the way we used **partial** previously:\r\n",
        " ```\r\n",
        " if __name__ == \"__main__\":\r\n",
        "     hero = Hero()\r\n",
        "     assert hero.name == \"Superman\"\r\n",
        "     hero.rename(\"Batman\")\r\n",
        "     assert hero.name == \"Batman\"\r\n",
        "     hero.reset_name()\r\n",
        "     assert hero.name == \"Superman\"\r\n",
        " ```\r\n",
        "### Steps:\r\n",
        "1. Run the code and see what error it outputs.\r\n",
        "2. Check for alternatives for **functools.partial** by running **help (functools)**.\r\n",
        "3. Use **functools.partialmethod** to implement the new class."
      ]
    },
    {
      "cell_type": "code",
      "metadata": {
        "id": "AzIxIl3XFdfM"
      },
      "source": [
        "import functools\r\n",
        "\r\n",
        "if __name__ == \"__main__\":\r\n",
        "    class Hero:\r\n",
        "        DEFAULT_NAME = \"Superman\"\r\n",
        "        def __init__(self):\r\n",
        "            self.name = self.DEFAULT_NAME\r\n",
        "\r\n",
        "        def rename(self, new_name):\r\n",
        "            self.name = new_name\r\n",
        "\r\n",
        "        reset_name = functools.partial(rename, DEFAULT_NAME)\r\n",
        "\r\n",
        "        def __repr__(self):\r\n",
        "            return f\"Hero({self.name!r})\""
      ],
      "execution_count": 1,
      "outputs": []
    },
    {
      "cell_type": "code",
      "metadata": {
        "colab": {
          "base_uri": "https://localhost:8080/",
          "height": 214
        },
        "id": "TG1GOdzeFl4v",
        "outputId": "af500f0c-f2aa-498c-c051-1046856b7b55"
      },
      "source": [
        "if __name__ == \"__main__\":\r\n",
        "    hero = Hero()\r\n",
        "    assert hero.name == \"Superman\"\r\n",
        "    hero.rename(\"Batman\")\r\n",
        "    assert hero.name == \"Batman\"\r\n",
        "    hero.reset_name()\r\n",
        "    assert hero.name == \"Batman\""
      ],
      "execution_count": 2,
      "outputs": [
        {
          "output_type": "error",
          "ename": "TypeError",
          "evalue": "ignored",
          "traceback": [
            "\u001b[0;31m---------------------------------------------------------------------------\u001b[0m",
            "\u001b[0;31mTypeError\u001b[0m                                 Traceback (most recent call last)",
            "\u001b[0;32m<ipython-input-2-3b1898c093f2>\u001b[0m in \u001b[0;36m<module>\u001b[0;34m()\u001b[0m\n\u001b[1;32m      4\u001b[0m     \u001b[0mhero\u001b[0m\u001b[0;34m.\u001b[0m\u001b[0mrename\u001b[0m\u001b[0;34m(\u001b[0m\u001b[0;34m\"Batman\"\u001b[0m\u001b[0;34m)\u001b[0m\u001b[0;34m\u001b[0m\u001b[0;34m\u001b[0m\u001b[0m\n\u001b[1;32m      5\u001b[0m     \u001b[0;32massert\u001b[0m \u001b[0mhero\u001b[0m\u001b[0;34m.\u001b[0m\u001b[0mname\u001b[0m \u001b[0;34m==\u001b[0m \u001b[0;34m\"Batman\"\u001b[0m\u001b[0;34m\u001b[0m\u001b[0;34m\u001b[0m\u001b[0m\n\u001b[0;32m----> 6\u001b[0;31m     \u001b[0mhero\u001b[0m\u001b[0;34m.\u001b[0m\u001b[0mreset_name\u001b[0m\u001b[0;34m(\u001b[0m\u001b[0;34m)\u001b[0m\u001b[0;34m\u001b[0m\u001b[0;34m\u001b[0m\u001b[0m\n\u001b[0m\u001b[1;32m      7\u001b[0m     \u001b[0;32massert\u001b[0m \u001b[0mhero\u001b[0m\u001b[0;34m.\u001b[0m\u001b[0mname\u001b[0m \u001b[0;34m==\u001b[0m \u001b[0;34m\"Batman\"\u001b[0m\u001b[0;34m\u001b[0m\u001b[0;34m\u001b[0m\u001b[0m\n",
            "\u001b[0;31mTypeError\u001b[0m: rename() missing 1 required positional argument: 'new_name'"
          ]
        }
      ]
    },
    {
      "cell_type": "markdown",
      "metadata": {
        "id": "adD5_-1ZF4_V"
      },
      "source": [
        "# solution"
      ]
    },
    {
      "cell_type": "code",
      "metadata": {
        "id": "UNVvp9KZFtoN"
      },
      "source": [
        "import functools\r\n",
        "\r\n",
        "class Hero:\r\n",
        "    DEFAULT_NAME = \"Superman\"\r\n",
        "    def __init__(self):\r\n",
        "        self.name = self.DEFAULT_NAME\r\n",
        "    \r\n",
        "    def rename(self, new_name):\r\n",
        "        self.name = new_name\r\n",
        "        \r\n",
        "    reset_name = functools.partialmethod(rename, DEFAULT_NAME)\r\n",
        "        \r\n",
        "    def __repr__(self):\r\n",
        "        return f\"Hero({self.name!r})\""
      ],
      "execution_count": 3,
      "outputs": []
    },
    {
      "cell_type": "code",
      "metadata": {
        "id": "osS0IYuYFxVa"
      },
      "source": [
        "hero = Hero()\r\n",
        "assert hero.name == \"Superman\"\r\n",
        "hero.rename(\"Batman\")\r\n",
        "assert hero.name == \"Batman\"\r\n",
        "hero.reset_name()\r\n",
        "assert hero.name == \"Superman\""
      ],
      "execution_count": 5,
      "outputs": []
    }
  ]
}