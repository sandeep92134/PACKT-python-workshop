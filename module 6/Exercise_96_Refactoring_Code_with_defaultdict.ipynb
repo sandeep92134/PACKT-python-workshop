{
  "nbformat": 4,
  "nbformat_minor": 0,
  "metadata": {
    "colab": {
      "name": "Exercise 96: Refactoring Code with defaultdict",
      "provenance": [],
      "authorship_tag": "ABX9TyOv0NHWZrfO8n+T52ABg2VG",
      "include_colab_link": true
    },
    "kernelspec": {
      "name": "python3",
      "display_name": "Python 3"
    }
  },
  "cells": [
    {
      "cell_type": "markdown",
      "metadata": {
        "id": "view-in-github",
        "colab_type": "text"
      },
      "source": [
        "<a href=\"https://colab.research.google.com/github/sandeep92134/PACKT-python-workshop/blob/main/module%206/Exercise_96_Refactoring_Code_with_defaultdict.ipynb\" target=\"_parent\"><img src=\"https://colab.research.google.com/assets/colab-badge.svg\" alt=\"Open In Colab\"/></a>"
      ]
    },
    {
      "cell_type": "markdown",
      "metadata": {
        "id": "QcGDu40X5mQU"
      },
      "source": [
        "In this exercise, you will learn how to refactor code and simplify it by using defaultdict:\r\n",
        "\r\n",
        "The code template mentioned earlier in this exercise keeps an audit of all the actions that are performed in a company. They are split by area and the dictionary that was used. You can clearly see in the **add_audit** function the pattern we spoke about before. You will see how you can transform that into simpler code by using **defaultdict** and how it could be later extended in a simpler way:\r\n",
        "\r\n",
        "1. Run the code that keeps an audit of all the actions, as mentioned previously. First, run the code to see how it behaves. Before doing any refactoring, you should understand what you are trying to change, and ideally, have tests for it\r\n",
        "\r\n",
        "  You can see that this works as expected, and you can add items to the audit and report them.\r\n",
        "2. Introduce a **defaultdict**. You can change **dict** for **defaultdict** and just create a **list** whenever you try to access a key that does not exist. This will need to be done only in the **add_audit** function. As **report_audit** uses the object as a dictionary and **defaultdict** is a dictionary, you don't need to change anything in that function. You will see how it will look in the following code snippet:\r\n",
        "\r\n",
        "   When a key is not found in the **_audit** object, our **defaultdict** just calls the **list** method, which returns an empty list. The code could not be any simpler. What about if you are asked to log the creation of an area in the audit? Basically, whenever a new area is created in our **audit** object, it should have an element present called \"Area Created\". The developer that initially wrote the code claims that it was easier to change with the old layout, without using **defaultdict**.\r\n",
        "3. Use the **add_audit** function to create the first element. The code without **defaultdict** for **add_audit** will be as follows:\r\n",
        "  \r\n",
        "  The code change performed in **add_audit** is much more complex than the one you will have to perform in your function with **defaultdict**. With **defaultdict**, you just need to change the factory method from being a list to being a list with the initial string:\r\n",
        "\r\n",
        "  And it is still simpler than without **defaultdict**:  "
      ]
    },
    {
      "cell_type": "code",
      "metadata": {
        "id": "WUAWF2GU4VSp"
      },
      "source": [
        "_audit = {}\r\n",
        "\r\n",
        "def add_audit(area, action):\r\n",
        "    if area in _audit:\r\n",
        "        _audit[area].append(action)\r\n",
        "    else:\r\n",
        "        _audit[area] = [action]\r\n",
        "        \r\n",
        "def report_audit():\r\n",
        "    for area, actions in _audit.items():\r\n",
        "        print(f\"{area} audit:\")\r\n",
        "        for action in actions:\r\n",
        "            print(f\"- {action}\")\r\n",
        "        print()"
      ],
      "execution_count": 1,
      "outputs": []
    },
    {
      "cell_type": "code",
      "metadata": {
        "colab": {
          "base_uri": "https://localhost:8080/"
        },
        "id": "11Lr5udG8FBx",
        "outputId": "29cea4b3-e0f5-4de6-b6f0-c87c2b92f7a3"
      },
      "source": [
        "add_audit(\"HR\", \"Hired Sam\")\r\n",
        "add_audit(\"Finance\", \"Used 1000£\")\r\n",
        "add_audit(\"HR\", \"Hired Tom\")\r\n",
        "report_audit()"
      ],
      "execution_count": 2,
      "outputs": [
        {
          "output_type": "stream",
          "text": [
            "HR audit:\n",
            "- Hired Sam\n",
            "- Hired Tom\n",
            "\n",
            "Finance audit:\n",
            "- Used 1000£\n",
            "\n"
          ],
          "name": "stdout"
        }
      ]
    },
    {
      "cell_type": "code",
      "metadata": {
        "id": "ga4fZZDw8Ihl"
      },
      "source": [
        "import collections\r\n",
        "_audit = collections.defaultdict(list)\r\n",
        "\r\n",
        "def add_audit(area, action):\r\n",
        "    _audit[area].append(action)\r\n",
        "        \r\n",
        "def report_audit():\r\n",
        "    for area, actions in _audit.items():\r\n",
        "        print(f\"{area} audit:\")\r\n",
        "        for action in actions:\r\n",
        "            print(f\"- {action}\")\r\n",
        "        print()"
      ],
      "execution_count": 3,
      "outputs": []
    },
    {
      "cell_type": "code",
      "metadata": {
        "colab": {
          "base_uri": "https://localhost:8080/"
        },
        "id": "bYuP53u68QT_",
        "outputId": "07f07ea0-818e-4d6c-fa6a-51e28b06a5c5"
      },
      "source": [
        "add_audit(\"HR\", \"Hired ROHIT\")\r\n",
        "add_audit(\"Finance\", \"Used 25000inr\")\r\n",
        "add_audit(\"HR\", \"Hired PRASHANT\")\r\n",
        "report_audit()"
      ],
      "execution_count": 4,
      "outputs": [
        {
          "output_type": "stream",
          "text": [
            "HR audit:\n",
            "- Hired ROHIT\n",
            "- Hired PRASHANT\n",
            "\n",
            "Finance audit:\n",
            "- Used 25000inr\n",
            "\n"
          ],
          "name": "stdout"
        }
      ]
    },
    {
      "cell_type": "code",
      "metadata": {
        "id": "YIMfmfCC8k5E"
      },
      "source": [
        "_audit = {}\r\n",
        "\r\n",
        "def add_audit(area, action):\r\n",
        "    if area not in _audit:\r\n",
        "        _audit[area] = [\"Area created\"]\r\n",
        "    _audit[area].append(action)\r\n",
        "        \r\n",
        "def report_audit():\r\n",
        "    for area, actions in _audit.items():\r\n",
        "        print(f\"{area} audit:\")\r\n",
        "        for action in actions:\r\n",
        "            print(f\"- {action}\")\r\n",
        "        print()"
      ],
      "execution_count": 5,
      "outputs": []
    },
    {
      "cell_type": "code",
      "metadata": {
        "colab": {
          "base_uri": "https://localhost:8080/"
        },
        "id": "1DkRt4ub8r9Z",
        "outputId": "4ba714f7-6846-40e3-e2a9-4546a0ff3ce8"
      },
      "source": [
        "add_audit(\"HR\", \"Hired VISHU\")\r\n",
        "add_audit(\"Finance\", \"Used 1000£\")\r\n",
        "add_audit(\"HR\", \"Hired NAV\")\r\n",
        "report_audit()"
      ],
      "execution_count": 6,
      "outputs": [
        {
          "output_type": "stream",
          "text": [
            "HR audit:\n",
            "- Area created\n",
            "- Hired VISHU\n",
            "- Hired NAV\n",
            "\n",
            "Finance audit:\n",
            "- Area created\n",
            "- Used 1000£\n",
            "\n"
          ],
          "name": "stdout"
        }
      ]
    },
    {
      "cell_type": "code",
      "metadata": {
        "id": "jVf738ya86kJ"
      },
      "source": [
        "import collections\r\n",
        "_audit = collections.defaultdict(lambda: [\"Area created\"])\r\n",
        "\r\n",
        "def add_audit(area, action):\r\n",
        "    _audit[area].append(action)\r\n",
        "        \r\n",
        "def report_audit():\r\n",
        "    for area, actions in _audit.items():\r\n",
        "        print(f\"{area} audit:\")\r\n",
        "        for action in actions:\r\n",
        "            print(f\"- {action}\")\r\n",
        "        print()"
      ],
      "execution_count": 8,
      "outputs": []
    },
    {
      "cell_type": "code",
      "metadata": {
        "colab": {
          "base_uri": "https://localhost:8080/"
        },
        "id": "9r3dOMj29NEL",
        "outputId": "3ae096be-4701-4ed8-d838-512c260111a0"
      },
      "source": [
        "add_audit(\"HR\", \"Hired MONU\")\r\n",
        "add_audit(\"Finance\", \"Used 1000$\")\r\n",
        "add_audit(\"HR\", \"Hired SAN\")\r\n",
        "report_audit()"
      ],
      "execution_count": 9,
      "outputs": [
        {
          "output_type": "stream",
          "text": [
            "HR audit:\n",
            "- Area created\n",
            "- Hired MONU\n",
            "- Hired SAN\n",
            "\n",
            "Finance audit:\n",
            "- Area created\n",
            "- Used 1000$\n",
            "\n"
          ],
          "name": "stdout"
        }
      ]
    }
  ]
}