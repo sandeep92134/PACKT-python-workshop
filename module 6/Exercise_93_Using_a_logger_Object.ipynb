{
  "nbformat": 4,
  "nbformat_minor": 0,
  "metadata": {
    "colab": {
      "name": "Exercise 93: Using a logger Object",
      "provenance": [],
      "authorship_tag": "ABX9TyNF3oWRAKzrFQVQ/cyFCCqR",
      "include_colab_link": true
    },
    "kernelspec": {
      "name": "python3",
      "display_name": "Python 3"
    }
  },
  "cells": [
    {
      "cell_type": "markdown",
      "metadata": {
        "id": "view-in-github",
        "colab_type": "text"
      },
      "source": [
        "<a href=\"https://colab.research.google.com/github/sandeep92134/PACKT-python-workshop/blob/main/module%206/Exercise_93_Using_a_logger_Object.ipynb\" target=\"_parent\"><img src=\"https://colab.research.google.com/assets/colab-badge.svg\" alt=\"Open In Colab\"/></a>"
      ]
    },
    {
      "cell_type": "markdown",
      "metadata": {
        "id": "L8avj3Y0eudQ"
      },
      "source": [
        "The goal of this exercise is to create a **logger** object and use four different methods that allow us to log in the categories mentioned in the Logging section:\r\n",
        "\r\n",
        "1. Import the **logging** module:\r\n",
        "2. Create a **logger**.We can now get a logger through the factory method **getLogger**:\r\n",
        "\r\n",
        "  This **logger** object will be the same everywhere, and you call it with the same name.\r\n",
        "3. Log with different categories:\r\n",
        "\r\n",
        "  By default, the logging stack will be configured to log warnings and above, which explains why you only see those levels being printed to the console. You will see later how to configure the logging stack to include other levels, such as info. Use files or a different format to include further information.\r\n",
        "4. Include information when logging:\r\n",
        "   \r\n",
        "   Usually, when you log, you don't pass just a string, but also some variable or information that helps us with the current state of the application:"
      ]
    },
    {
      "cell_type": "code",
      "metadata": {
        "id": "tCfJ6Tc4emVI"
      },
      "source": [
        "import logging\r\n",
        "\r\n",
        "logger = logging.getLogger(\"logger_name\")"
      ],
      "execution_count": 1,
      "outputs": []
    },
    {
      "cell_type": "code",
      "metadata": {
        "colab": {
          "base_uri": "https://localhost:8080/"
        },
        "id": "Q2_uS-Ivf7D6",
        "outputId": "00232d7c-f8d4-4084-9025-2e4e4c1a23d1"
      },
      "source": [
        "logger.debug(\"Logging at debug\")\r\n",
        "logger.info(\"Logging at info\")\r\n",
        "logger.warning(\"Logging at warning\")\r\n",
        "logger.error(\"Logging at error\")\r\n",
        "logger.fatal(\"Logging at fatal\")"
      ],
      "execution_count": 2,
      "outputs": [
        {
          "output_type": "stream",
          "text": [
            "Logging at warning\n",
            "Logging at error\n",
            "Logging at fatal\n"
          ],
          "name": "stderr"
        }
      ]
    },
    {
      "cell_type": "code",
      "metadata": {
        "colab": {
          "base_uri": "https://localhost:8080/"
        },
        "id": "A6p13Gduf_V-",
        "outputId": "55f9eaa9-f844-451e-84ab-43d1e8fb4d09"
      },
      "source": [
        "system = \"moon\"\r\n",
        "for number in range(3):\r\n",
        "    logger.warning(\"%d errors reported in %s\", number, system)"
      ],
      "execution_count": 3,
      "outputs": [
        {
          "output_type": "stream",
          "text": [
            "0 errors reported in moon\n",
            "1 errors reported in moon\n",
            "2 errors reported in moon\n"
          ],
          "name": "stderr"
        }
      ]
    },
    {
      "cell_type": "code",
      "metadata": {
        "colab": {
          "base_uri": "https://localhost:8080/"
        },
        "id": "BGaSj5zrgIVf",
        "outputId": "d4d78078-94ba-4398-fec0-f6da9ad38fa2"
      },
      "source": [
        "d = dict()\r\n",
        "try:\r\n",
        "    d[\"missing_key\"] += 1\r\n",
        "except Exception as e:\r\n",
        "    logging.error(\"Something bad happened: %s\", e)"
      ],
      "execution_count": 4,
      "outputs": [
        {
          "output_type": "stream",
          "text": [
            "ERROR:root:Something bad happened: 'missing_key'\n"
          ],
          "name": "stderr"
        }
      ]
    }
  ]
}