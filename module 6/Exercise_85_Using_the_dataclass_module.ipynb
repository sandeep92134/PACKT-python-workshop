{
  "nbformat": 4,
  "nbformat_minor": 0,
  "metadata": {
    "colab": {
      "name": "Exercise 85: Using the dataclass module",
      "provenance": [],
      "authorship_tag": "ABX9TyNDdYRgFLgrYJ5Ah8XJvf1o",
      "include_colab_link": true
    },
    "kernelspec": {
      "name": "python3",
      "display_name": "Python 3"
    }
  },
  "cells": [
    {
      "cell_type": "markdown",
      "metadata": {
        "id": "view-in-github",
        "colab_type": "text"
      },
      "source": [
        "<a href=\"https://colab.research.google.com/github/sandeep92134/PACKT-python-workshop/blob/main/module%206/Exercise_85_Using_the_dataclass_module.ipynb\" target=\"_parent\"><img src=\"https://colab.research.google.com/assets/colab-badge.svg\" alt=\"Open In Colab\"/></a>"
      ]
    },
    {
      "cell_type": "markdown",
      "metadata": {
        "id": "XQLJ9-fZvfKp"
      },
      "source": [
        "In this exercise, you will create a class to hold data for a geographical point. This is a simple structure with two coordinates, x and y.\r\n",
        "\r\n",
        "These coordinate points, x and y, are used by other developers who need to store geographical information. They will be working daily with these points, so they need to be able to create them with an easy constructor and be able to print them and see their values — converting them into a dictionary to save them into their database and share it with other people.\r\n",
        "\r\n",
        "This exercise can be performed in the Jupyter notebook:\r\n",
        "\r\n",
        "1. Import the **dataclass** module:\r\n",
        "  \r\n",
        "  This line brings the **dataclasses** module to the local namespace, allowing us to use it.\r\n",
        "2. Define a dataclass:\r\n",
        "   \r\n",
        "   With these four lines, you have defined a **dataclass** by its most common methods. You can now see how it behaves differently from a standard class.\r\n",
        "\r\n",
        "3. Create an instance, which is the data for a geographical point:\r\n",
        "4. Now, compare the data points with another Point object:\r\n",
        "5. Serialize the data:   \r\n"
      ]
    },
    {
      "cell_type": "code",
      "metadata": {
        "id": "KcX30x7lqgOW"
      },
      "source": [
        "import dataclasses\r\n",
        "@dataclasses.dataclass\r\n",
        "class point:\r\n",
        "  x: int\r\n",
        "  y: int"
      ],
      "execution_count": 1,
      "outputs": []
    },
    {
      "cell_type": "code",
      "metadata": {
        "colab": {
          "base_uri": "https://localhost:8080/"
        },
        "id": "XxFeyn54w6rn",
        "outputId": "044b6a2d-2284-4e0f-8517-d655dd869a96"
      },
      "source": [
        "p = point(x=10, y=20)\r\n",
        "print(p)"
      ],
      "execution_count": 2,
      "outputs": [
        {
          "output_type": "stream",
          "text": [
            "point(x=10, y=20)\n"
          ],
          "name": "stdout"
        }
      ]
    },
    {
      "cell_type": "code",
      "metadata": {
        "colab": {
          "base_uri": "https://localhost:8080/"
        },
        "id": "aHv78ElbxDT_",
        "outputId": "7355f812-2e9c-4261-ccdf-0c8e8a462e16"
      },
      "source": [
        "p2 = point(x=10 , y=20)\r\n",
        "p == p2"
      ],
      "execution_count": 3,
      "outputs": [
        {
          "output_type": "execute_result",
          "data": {
            "text/plain": [
              "True"
            ]
          },
          "metadata": {
            "tags": []
          },
          "execution_count": 3
        }
      ]
    },
    {
      "cell_type": "code",
      "metadata": {
        "colab": {
          "base_uri": "https://localhost:8080/"
        },
        "id": "A_zYH0A2xP6T",
        "outputId": "920b6ff5-2da4-4808-f8c6-4d39e919678f"
      },
      "source": [
        "dataclasses.asdict(p)"
      ],
      "execution_count": 4,
      "outputs": [
        {
          "output_type": "execute_result",
          "data": {
            "text/plain": [
              "{'x': 10, 'y': 20}"
            ]
          },
          "metadata": {
            "tags": []
          },
          "execution_count": 4
        }
      ]
    }
  ]
}