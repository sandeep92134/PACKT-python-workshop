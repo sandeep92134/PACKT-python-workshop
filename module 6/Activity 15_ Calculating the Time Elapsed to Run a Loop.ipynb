{
 "cells": [
  {
   "cell_type": "markdown",
   "metadata": {},
   "source": [
    "You are part of an IT department, and you are asked to inspect an application that outputs random numbers but with a delay. In order to investigate this delayed output, you check the code as there have been updates to the application where the development team has added a new line of code to get a list of random numbers. You are asked to confirm this by checking the time it takes to run that line of code using the time module.\n",
    "\n",
    "You will see in the topic about profiling in a later chapter how to measure performance in a more precise way.\n",
    "\n",
    "This was the line of code that was added in by the development team:\n",
    "\n",
    "`l = [random.randint(1, 999) for _ in range(10 * 3)]`\n",
    "\n",
    "### Steps:\n",
    "1. Record the time before running the code mentioned above in a hint with the **time**.time function.\n",
    "2. Record the time after running the code mentioned above in a hint with the **time**.time function.\n",
    "3. Find the difference between the two.\n",
    "4. Repeat the steps using **time.time_ns**:"
   ]
  },
  {
   "cell_type": "code",
   "execution_count": 1,
   "metadata": {},
   "outputs": [],
   "source": [
    "import random\n",
    "import time"
   ]
  },
  {
   "cell_type": "code",
   "execution_count": 2,
   "metadata": {},
   "outputs": [
    {
     "name": "stdout",
     "output_type": "stream",
     "text": [
      "0.0010018348693847656\n"
     ]
    }
   ],
   "source": [
    "start = time.time()\n",
    "l = [random.randint(1, 999) for _ in range(10 * 6)]\n",
    "end = time.time()\n",
    "print(end - start)"
   ]
  },
  {
   "cell_type": "code",
   "execution_count": 7,
   "metadata": {},
   "outputs": [
    {
     "name": "stdout",
     "output_type": "stream",
     "text": [
      "993900\n"
     ]
    }
   ],
   "source": [
    "start = time.time_ns()\n",
    "l = [random.randint(1, 999) for _ in range(10 * 6)]\n",
    "end = time.time_ns()\n",
    "print(end - start)"
   ]
  }
 ],
 "metadata": {
  "kernelspec": {
   "display_name": "Python 3",
   "language": "python",
   "name": "python3"
  },
  "language_info": {
   "codemirror_mode": {
    "name": "ipython",
    "version": 3
   },
   "file_extension": ".py",
   "mimetype": "text/x-python",
   "name": "python",
   "nbconvert_exporter": "python",
   "pygments_lexer": "ipython3",
   "version": "3.8.5"
  }
 },
 "nbformat": 4,
 "nbformat_minor": 4
}
