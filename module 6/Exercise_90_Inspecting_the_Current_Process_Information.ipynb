{
  "nbformat": 4,
  "nbformat_minor": 0,
  "metadata": {
    "colab": {
      "name": "Exercise 90: Inspecting the Current Process Information",
      "provenance": [],
      "authorship_tag": "ABX9TyOOCowkSAadCaYFW2wxfouy",
      "include_colab_link": true
    },
    "kernelspec": {
      "name": "python3",
      "display_name": "Python 3"
    }
  },
  "cells": [
    {
      "cell_type": "markdown",
      "metadata": {
        "id": "view-in-github",
        "colab_type": "text"
      },
      "source": [
        "<a href=\"https://colab.research.google.com/github/sandeep92134/PACKT-python-workshop/blob/main/module%206/Exercise_90_Inspecting_the_Current_Process_Information.ipynb\" target=\"_parent\"><img src=\"https://colab.research.google.com/assets/colab-badge.svg\" alt=\"Open In Colab\"/></a>"
      ]
    },
    {
      "cell_type": "markdown",
      "metadata": {
        "id": "WH4pYnigWqTF"
      },
      "source": [
        "The goal of this exercise is to use the standard library to report information about the running process and the platform on your system:\r\n",
        "\r\n",
        "1. Import the **os**, **platform**, and **sys** modules:\r\n",
        "2. Get basic process information: To obtain information such as the **Process** **id**, **Parent** **id** you can use the **os** module:\r\n",
        "\r\n",
        "  This gives us the process ID and the parent process ID. This constitutes a basic step when you try to perform any interaction with the OS that involves your process and is the best way to uniquely identify the running process. You can try restarting the kernel or the interpreter and see how the **pid** changes, as a new process ID is always assigned to a running process in the system.\r\n",
        "\r\n",
        "3. Now, get the **platform** and Python interpreter information:\r\n",
        "\r\n",
        "  These functions of the module platform can be used to ascertain the information of the computer where your Python code is running, which is useful when you are writing code that might be specific to the machine or system information. The preceding output could be different than this for your system and will be specific to your machine.\r\n",
        "\r\n",
        "4. Get the Python path and the arguments passed to the interpreter:\r\n",
        "\r\n",
        "  This will give us a list of paths where Python will look for modules and the command line that was used to start the interpreter as a list of arguments. Again it will generate an output specific to your system.\r\n",
        "\r\n",
        "5. Get the username through an environment variable."
      ]
    },
    {
      "cell_type": "code",
      "metadata": {
        "id": "3ZGzQASQViS1"
      },
      "source": [
        "import platform\r\n",
        "import os\r\n",
        "import sys"
      ],
      "execution_count": 1,
      "outputs": []
    },
    {
      "cell_type": "code",
      "metadata": {
        "colab": {
          "base_uri": "https://localhost:8080/"
        },
        "id": "NEtnhlbrYRSU",
        "outputId": "1f64ecff-2115-45eb-f197-bb526bebd347"
      },
      "source": [
        "print(\"Process id:\", os.getpid())\r\n",
        "print(\"Parent process id:\", os.getppid())"
      ],
      "execution_count": 2,
      "outputs": [
        {
          "output_type": "stream",
          "text": [
            "Process id: 58\n",
            "Parent process id: 51\n"
          ],
          "name": "stdout"
        }
      ]
    },
    {
      "cell_type": "code",
      "metadata": {
        "colab": {
          "base_uri": "https://localhost:8080/"
        },
        "id": "Z1eFKnNMYc3a",
        "outputId": "9d4e92e1-ec8a-4214-f859-5e267194e60d"
      },
      "source": [
        "print(\"Machine network name:\", platform.node())\r\n",
        "print(\"Python version:\", platform.python_version())\r\n",
        "print(\"System:\", platform.system())"
      ],
      "execution_count": 3,
      "outputs": [
        {
          "output_type": "stream",
          "text": [
            "Machine network name: fab01d631281\n",
            "Python version: 3.6.9\n",
            "System: Linux\n"
          ],
          "name": "stdout"
        }
      ]
    },
    {
      "cell_type": "code",
      "metadata": {
        "colab": {
          "base_uri": "https://localhost:8080/"
        },
        "id": "z6iejGYCYloE",
        "outputId": "55847892-23e3-4a36-e853-e487b1814a7a"
      },
      "source": [
        "print(\"Python module lookup path:\", sys.path)\r\n",
        "print(\"Command to run Python:\", sys.argv)"
      ],
      "execution_count": 4,
      "outputs": [
        {
          "output_type": "stream",
          "text": [
            "Python module lookup path: ['', '/env/python', '/usr/lib/python36.zip', '/usr/lib/python3.6', '/usr/lib/python3.6/lib-dynload', '/usr/local/lib/python3.6/dist-packages', '/usr/lib/python3/dist-packages', '/usr/local/lib/python3.6/dist-packages/IPython/extensions', '/root/.ipython']\n",
            "Command to run Python: ['/usr/local/lib/python3.6/dist-packages/ipykernel_launcher.py', '-f', '/root/.local/share/jupyter/runtime/kernel-9e1c5f2d-8df5-4559-80e9-e709c148f0ae.json']\n"
          ],
          "name": "stdout"
        }
      ]
    },
    {
      "cell_type": "code",
      "metadata": {
        "colab": {
          "base_uri": "https://localhost:8080/"
        },
        "id": "l022bkcrYqPT",
        "outputId": "a6334b53-cdf8-4e45-9a30-82d4031d64cd"
      },
      "source": [
        "print(\"HOME environment variable:\", os.environ[\"HOME\"])"
      ],
      "execution_count": 7,
      "outputs": [
        {
          "output_type": "stream",
          "text": [
            "HOME environment variable: /root\n"
          ],
          "name": "stdout"
        }
      ]
    },
    {
      "cell_type": "code",
      "metadata": {
        "colab": {
          "base_uri": "https://localhost:8080/"
        },
        "id": "BsayChWIYu8l",
        "outputId": "4bca2c4c-896f-4abe-b091-d650ca4d4a41"
      },
      "source": [
        "os.environ"
      ],
      "execution_count": 6,
      "outputs": [
        {
          "output_type": "execute_result",
          "data": {
            "text/plain": [
              "environ({'NO_GCE_CHECK': 'True', 'GCS_READ_CACHE_BLOCK_SIZE_MB': '16', 'CLOUDSDK_CONFIG': '/content/.config', 'CUDA_VERSION': '10.1.243', 'PATH': '/usr/local/nvidia/bin:/usr/local/cuda/bin:/usr/local/sbin:/usr/local/bin:/usr/sbin:/usr/bin:/sbin:/bin:/tools/node/bin:/tools/google-cloud-sdk/bin:/opt/bin', 'HOME': '/root', 'LD_LIBRARY_PATH': '/usr/local/nvidia/lib:/usr/local/nvidia/lib64', 'LANG': 'en_US.UTF-8', 'SHELL': '/bin/bash', 'LIBRARY_PATH': '/usr/local/cuda/lib64/stubs', 'CUDA_PKG_VERSION': '10-1=10.1.243-1', 'SHLVL': '0', 'GCE_METADATA_TIMEOUT': '0', 'NCCL_VERSION': '2.7.8', 'NVIDIA_VISIBLE_DEVICES': 'all', 'DEBIAN_FRONTEND': 'noninteractive', 'CUDNN_VERSION': '7.6.5.32', 'LAST_FORCED_REBUILD': '20201217', 'JPY_PARENT_PID': '51', 'PYTHONPATH': '/env/python', 'DATALAB_SETTINGS_OVERRIDES': '{\"kernelManagerProxyPort\":6000,\"kernelManagerProxyHost\":\"172.28.0.3\",\"jupyterArgs\":[\"--ip=\\\\\"172.28.0.2\\\\\"\"]}', 'ENV': '/root/.bashrc', 'GLIBCXX_FORCE_NEW': '1', 'NVIDIA_DRIVER_CAPABILITIES': 'compute,utility', 'TF_FORCE_GPU_ALLOW_GROWTH': 'true', 'LD_PRELOAD': '/usr/lib/x86_64-linux-gnu/libtcmalloc.so.4', 'NVIDIA_REQUIRE_CUDA': 'cuda>=10.1 brand=tesla,driver>=396,driver<397 brand=tesla,driver>=410,driver<411 brand=tesla,driver>=418,driver<419', 'OLDPWD': '/', 'HOSTNAME': 'fab01d631281', 'COLAB_GPU': '0', 'PWD': '/', 'CLOUDSDK_PYTHON': 'python3', 'GLIBCPP_FORCE_NEW': '1', 'PYTHONWARNINGS': 'ignore:::pip._internal.cli.base_command', 'TBE_CREDS_ADDR': '172.28.0.1:8008', 'TERM': 'xterm-color', 'CLICOLOR': '1', 'PAGER': 'cat', 'GIT_PAGER': 'cat', 'MPLBACKEND': 'module://ipykernel.pylab.backend_inline'})"
            ]
          },
          "metadata": {
            "tags": []
          },
          "execution_count": 6
        }
      ]
    }
  ]
}