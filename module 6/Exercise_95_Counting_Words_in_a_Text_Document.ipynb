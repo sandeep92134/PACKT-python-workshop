{
  "nbformat": 4,
  "nbformat_minor": 0,
  "metadata": {
    "colab": {
      "name": "Exercise 95: Counting Words in a Text Document",
      "provenance": [],
      "authorship_tag": "ABX9TyMJu/rGGPAzmqP9a3Kw8JFX",
      "include_colab_link": true
    },
    "kernelspec": {
      "name": "python3",
      "display_name": "Python 3"
    }
  },
  "cells": [
    {
      "cell_type": "markdown",
      "metadata": {
        "id": "view-in-github",
        "colab_type": "text"
      },
      "source": [
        "<a href=\"https://colab.research.google.com/github/sandeep92134/PACKT-python-workshop/blob/main/module%206/Exercise_95_Counting_Words_in_a_Text_Document.ipynb\" target=\"_parent\"><img src=\"https://colab.research.google.com/assets/colab-badge.svg\" alt=\"Open In Colab\"/></a>"
      ]
    },
    {
      "cell_type": "markdown",
      "metadata": {
        "id": "eSFWxluY1QT_"
      },
      "source": [
        "In this exercise, you will use a counter to count the occurrences of words in the text document available [here](https://https://www.w3.org/TR/PNG/iso_8859-1.txt):\r\n",
        "\r\n",
        "1. Get the list of words from this [link](https://https://www.w3.org/TR/PNG/iso_8859-1.txt), which is our source data:  \r\n",
        "  Here, you are using **urllib**, another module within the standard library, to get the contents of the URL of this [link](https://https://www.w3.org/TR/PNG/iso_8859-1.txt). You can then read the content and split it based on spaces and break lines. You will be using words to play with the counter.\r\n",
        "2. Now, create a counter:\r\n",
        "  \r\n",
        "  This creates a counter with the list of words passed in through the words list. You can now perform the operations you want on the counter\r\n",
        "3. Get the five most common words:\r\n",
        "\r\n",
        "   You can use the **most_common** method on the counter to get a list of tuples with all the words and the number of occurrences. You can also pass a limit as an argument that limits the number of results:\r\n",
        "4. Now, explore occurrences of some words, as shown in the following code snippet:  \r\n",
        "\r\n",
        "  You can use the counter to explore the occurrences of specific words by just checking them with a key. Now check for **QUESTION**, **CIRCUMFLEX**, **DIGIT**, and **PYTHON**:\r\n"
      ]
    },
    {
      "cell_type": "code",
      "metadata": {
        "id": "y415hxuex2xN",
        "colab": {
          "base_uri": "https://localhost:8080/"
        },
        "outputId": "a2917bcb-c004-4ea8-f90e-276da56512a8"
      },
      "source": [
        "import urllib.request\r\n",
        "url = 'https://www.w3.org/TR/PNG/iso_8859-1.txt'\r\n",
        "response = urllib.request.urlopen(url)\r\n",
        "words = response.read().decode().split()\r\n",
        "len(words)  # 858"
      ],
      "execution_count": 1,
      "outputs": [
        {
          "output_type": "execute_result",
          "data": {
            "text/plain": [
              "858"
            ]
          },
          "metadata": {
            "tags": []
          },
          "execution_count": 1
        }
      ]
    },
    {
      "cell_type": "code",
      "metadata": {
        "colab": {
          "base_uri": "https://localhost:8080/"
        },
        "id": "ofg62LV637lM",
        "outputId": "f49a57d2-c524-43f9-edbb-60872be14a85"
      },
      "source": [
        "import collections\r\n",
        "word_counter = collections.Counter(words)\r\n",
        "for word, count in word_counter.most_common(5):\r\n",
        "    print(word, \"-\", count)"
      ],
      "execution_count": 2,
      "outputs": [
        {
          "output_type": "stream",
          "text": [
            "LETTER - 114\n",
            "SMALL - 58\n",
            "CAPITAL - 56\n",
            "WITH - 55\n",
            "SIGN - 21\n"
          ],
          "name": "stdout"
        }
      ]
    },
    {
      "cell_type": "code",
      "metadata": {
        "colab": {
          "base_uri": "https://localhost:8080/"
        },
        "id": "4Z-qj-zg4A_w",
        "outputId": "0bd3a6ea-c833-462d-c9a8-fd7a4da8256c"
      },
      "source": [
        "print(\"QUESTION\", \"-\", word_counter[\"QUESTION\"])\r\n",
        "print(\"CIRCUMFLEX\", \"-\", word_counter[\"CIRCUMFLEX\"])\r\n",
        "print(\"DIGIT\", \"-\", word_counter[\"DIGIT\"])\r\n",
        "print(\"PYTHON\", \"-\", word_counter[\"PYTHON\"])"
      ],
      "execution_count": 3,
      "outputs": [
        {
          "output_type": "stream",
          "text": [
            "QUESTION - 2\n",
            "CIRCUMFLEX - 11\n",
            "DIGIT - 10\n",
            "PYTHON - 0\n"
          ],
          "name": "stdout"
        }
      ]
    }
  ]
}