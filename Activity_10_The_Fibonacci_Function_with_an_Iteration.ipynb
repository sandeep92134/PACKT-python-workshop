{
  "nbformat": 4,
  "nbformat_minor": 0,
  "metadata": {
    "colab": {
      "name": "Activity 10: The Fibonacci Function with an Iteration",
      "provenance": [],
      "authorship_tag": "ABX9TyNtS5zbHR+EDhvyEaLU9l2/",
      "include_colab_link": true
    },
    "kernelspec": {
      "name": "python3",
      "display_name": "Python 3"
    }
  },
  "cells": [
    {
      "cell_type": "markdown",
      "metadata": {
        "id": "view-in-github",
        "colab_type": "text"
      },
      "source": [
        "<a href=\"https://colab.research.google.com/github/sandeep92134/PACKT-python-workshop/blob/main/Activity_10_The_Fibonacci_Function_with_an_Iteration.ipynb\" target=\"_parent\"><img src=\"https://colab.research.google.com/assets/colab-badge.svg\" alt=\"Open In Colab\"/></a>"
      ]
    },
    {
      "cell_type": "markdown",
      "metadata": {
        "id": "gnEqWgRqhDFV"
      },
      "source": [
        "## The steps are as follows:\n",
        "\n",
        "1. Create a **fibonacci.py** file.\n",
        "2. Define a **fibonacci_iterative function** that takes a single positional argument representing which number term in the sequence you want to return.\n",
        "3. Run the following code:\n",
        "\n",
        "```\n",
        "from fibonacci import fibonacci_iterative\n",
        "fibonacci_iterative(3)\n",
        "```\n",
        "Another example to test your code can be as mentioned in the following code snippet:\n",
        "\n",
        "```\n",
        "fibonacci_iterative(10)\n",
        "```\n",
        "\n",
        "\n"
      ]
    },
    {
      "cell_type": "markdown",
      "metadata": {
        "id": "CT9jy44whCyc"
      },
      "source": [
        "## solution\n",
        "1. This **fibonacci_iterative** function starts with the first two values of the Fibonacci sequence, **0** and **1**:\n",
        "\n",
        "```\n",
        "def fibonacci_iterative(n):\n",
        "    previous = 0\n",
        "    current = 1\n",
        "```\n",
        "2. For each loop in the iteration, it updates these values to represent the previous two numbers in the sequence. After reaching the final iteration, the loop terminates, and returns the value of the **current** variable:\n",
        "  \n",
        "```\n",
        "for i in range(n - 1):\n",
        "        current_old = current\n",
        "        current = previous + current\n",
        "        previous = current_old\n",
        "    return current\n",
        "```\n",
        "3. Now you can try running a few examples in Jupyter Notebook by importing the **fibonacci_iterative function**:\n",
        "\n",
        "```\n",
        "from fibonacci import fibonacci_iterative\n",
        "fibonacci_iterative(3)\n",
        "```\n",
        "Let's try another example:\n",
        "\n",
        "```\n",
        "fibonacci_iterative(10)\n",
        "```\n",
        "In this activity, you were able to work with iterations and return the nth value in the Fibonacci sequence."
      ]
    },
    {
      "cell_type": "code",
      "metadata": {
        "colab": {
          "base_uri": "https://localhost:8080/"
        },
        "id": "vQ3WnAv3hBZv",
        "outputId": "8ab088b3-39db-463c-d691-ded8c43c1ba5"
      },
      "source": [
        "%%writefile fibonacci.py\n",
        "def fibonacci_iterative(n):\n",
        "  previous = 0\n",
        "  current = 1\n",
        "  for i in range(n - 1):\n",
        "    current_old = current\n",
        "    current = previous + current\n",
        "    previous = current_old\n",
        "  return current  "
      ],
      "execution_count": 1,
      "outputs": [
        {
          "output_type": "stream",
          "text": [
            "Writing fibonacci.py\n"
          ],
          "name": "stdout"
        }
      ]
    },
    {
      "cell_type": "code",
      "metadata": {
        "colab": {
          "base_uri": "https://localhost:8080/"
        },
        "id": "p9BJ0BtZkGIg",
        "outputId": "8ea71217-e2be-473e-83ea-25e7ea163c88"
      },
      "source": [
        "from fibonacci import fibonacci_iterative\n",
        "fibonacci_iterative(3)"
      ],
      "execution_count": 2,
      "outputs": [
        {
          "output_type": "execute_result",
          "data": {
            "text/plain": [
              "2"
            ]
          },
          "metadata": {
            "tags": []
          },
          "execution_count": 2
        }
      ]
    },
    {
      "cell_type": "code",
      "metadata": {
        "colab": {
          "base_uri": "https://localhost:8080/"
        },
        "id": "9OmUflFLkRAC",
        "outputId": "862d59b5-58a8-4ccf-8efc-db8fb4394286"
      },
      "source": [
        "fibonacci_iterative(10)"
      ],
      "execution_count": 3,
      "outputs": [
        {
          "output_type": "execute_result",
          "data": {
            "text/plain": [
              "55"
            ]
          },
          "metadata": {
            "tags": []
          },
          "execution_count": 3
        }
      ]
    },
    {
      "cell_type": "code",
      "metadata": {
        "colab": {
          "base_uri": "https://localhost:8080/"
        },
        "id": "L7acpzvsks_B",
        "outputId": "f4306475-9dd5-4df0-97b1-3038dac45e5c"
      },
      "source": [
        "!python"
      ],
      "execution_count": 4,
      "outputs": [
        {
          "output_type": "stream",
          "text": [
            "Python 3.6.9 (default, Oct  8 2020, 12:12:24) \n",
            "[GCC 8.4.0] on linux\n",
            "Type \"help\", \"copyright\", \"credits\" or \"license\" for more information.\n",
            ">>> from fibonacci import fibonacci_iterative\n",
            ">>> fibonacci_iterative(3)\n",
            "2\n",
            ">>> fibonacci_iterative(10)\n",
            "55\n",
            ">>> EOF\n",
            "Traceback (most recent call last):\n",
            "  File \"<stdin>\", line 1, in <module>\n",
            "NameError: name 'EOF' is not defined\n",
            ">>> exit()\n"
          ],
          "name": "stdout"
        }
      ]
    }
  ]
}