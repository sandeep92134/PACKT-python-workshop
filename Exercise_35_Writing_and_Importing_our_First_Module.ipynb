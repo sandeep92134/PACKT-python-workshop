{
  "nbformat": 4,
  "nbformat_minor": 0,
  "metadata": {
    "colab": {
      "name": "Exercise 35: Writing and Importing our First Module",
      "provenance": [],
      "authorship_tag": "ABX9TyO22n57NWQlgQiN1s0OqQBq",
      "include_colab_link": true
    },
    "kernelspec": {
      "name": "python3",
      "display_name": "Python 3"
    }
  },
  "cells": [
    {
      "cell_type": "markdown",
      "metadata": {
        "id": "view-in-github",
        "colab_type": "text"
      },
      "source": [
        "<a href=\"https://colab.research.google.com/github/sandeep92134/PACKT-python-workshop/blob/main/Exercise_35_Writing_and_Importing_our_First_Module.ipynb\" target=\"_parent\"><img src=\"https://colab.research.google.com/assets/colab-badge.svg\" alt=\"Open In Colab\"/></a>"
      ]
    },
    {
      "cell_type": "markdown",
      "metadata": {
        "id": "7xa0_3xGEZcH"
      },
      "source": [
        "In this exercise, as in Exercise 34, Writing and Executing Our First Script, you will be finding the factorials of three numbers. However, you will now create a module called **my_module.py**, and import it into a Python shell:\n",
        "\n",
        "1. Using your favorite text editor, create a new file called my_module.py. You can also use Jupyter **(New | Text File)**.\n",
        "2. Add a function that prints the result of the computation in Exercise 34, Writing and Executing Our First Script. You will learn more about this function notation in the upcoming section on basic functions:\n",
        "import math\n",
        "def compute(numbers):\n",
        "    return([math.factorial(n) for n in numbers])\n",
        "\n",
        "```\n",
        "import math\n",
        "def compute(numbers):\n",
        "    return([math.factorial(n) for n in numbers])\n",
        "```\n",
        "\n",
        "\n",
        "3. Save the file.\n",
        "4. Open a Python shell or Jupyter Notebook and execute the following:\n",
        "\n",
        "\n",
        "```\n",
        "from my_module import compute\n",
        "compute([5, 7, 11])\n",
        "```\n",
        "You should get the following output:\n",
        "\n",
        "\n",
        "```\n",
        "[120, 5040, 39916800]\n",
        "```\n",
        "\n",
        "\n",
        "\n",
        "\n",
        "<font color=red> ## Note: </font> Writing this code as a module is useful if you want to reuse our **compute** function in another script or module. However, if you just want to execute the **print** statement once, and you don't want to have to import our function to a shell, the script is more convenient.\n",
        "\n",
        "In this exercise, you created a module file called **my_module.py** and imported this module file to get the expected output on Jupyter or the Python shell."
      ]
    },
    {
      "cell_type": "code",
      "metadata": {
        "colab": {
          "base_uri": "https://localhost:8080/"
        },
        "id": "_F7NTSS9Bts4",
        "outputId": "842a48f7-3111-4e60-f1c5-d7ef111da659"
      },
      "source": [
        "%%writefile my_module.py\n",
        "import math\n",
        "\n",
        "def compute(numbers):\n",
        "  return([math.factorial(n) for n in numbers])"
      ],
      "execution_count": 1,
      "outputs": [
        {
          "output_type": "stream",
          "text": [
            "Writing my_module.py\n"
          ],
          "name": "stdout"
        }
      ]
    },
    {
      "cell_type": "code",
      "metadata": {
        "colab": {
          "base_uri": "https://localhost:8080/"
        },
        "id": "Hx9RiOaaHVGR",
        "outputId": "4c9c271b-5db1-4370-fd7a-9b6145c49089"
      },
      "source": [
        "from my_module import compute\n",
        "compute([5, 7, 11])"
      ],
      "execution_count": 2,
      "outputs": [
        {
          "output_type": "execute_result",
          "data": {
            "text/plain": [
              "[120, 5040, 39916800]"
            ]
          },
          "metadata": {
            "tags": []
          },
          "execution_count": 2
        }
      ]
    }
  ]
}