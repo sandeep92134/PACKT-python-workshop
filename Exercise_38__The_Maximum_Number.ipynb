{
  "nbformat": 4,
  "nbformat_minor": 0,
  "metadata": {
    "kernelspec": {
      "display_name": "Python 3",
      "language": "python",
      "name": "python3"
    },
    "language_info": {
      "codemirror_mode": {
        "name": "ipython",
        "version": 3
      },
      "file_extension": ".py",
      "mimetype": "text/x-python",
      "name": "python",
      "nbconvert_exporter": "python",
      "pygments_lexer": "ipython3",
      "version": "3.7.8"
    },
    "colab": {
      "name": "Exercise 38_ The Maximum Number.ipynb",
      "provenance": [],
      "include_colab_link": true
    }
  },
  "cells": [
    {
      "cell_type": "markdown",
      "metadata": {
        "id": "view-in-github",
        "colab_type": "text"
      },
      "source": [
        "<a href=\"https://colab.research.google.com/github/sandeep92134/PACKT-python-workshop/blob/main/Exercise_38__The_Maximum_Number.ipynb\" target=\"_parent\"><img src=\"https://colab.research.google.com/assets/colab-badge.svg\" alt=\"Open In Colab\"/></a>"
      ]
    },
    {
      "cell_type": "markdown",
      "metadata": {
        "id": "n_Ec99X5HhSK"
      },
      "source": [
        "In this exercise, you will implement the pseudocode to find the maximum from a list of positive numbers:\n",
        "\n",
        "1. Create a list of numbers:\n"
      ]
    },
    {
      "cell_type": "code",
      "metadata": {
        "id": "sqs7diBPHhSL"
      },
      "source": [
        "l = [4, 2, 7, 3]"
      ],
      "execution_count": 1,
      "outputs": []
    },
    {
      "cell_type": "markdown",
      "metadata": {
        "id": "uQ9pP8peHhSM"
      },
      "source": [
        "2. Set the maximum variable equal to 0:"
      ]
    },
    {
      "cell_type": "code",
      "metadata": {
        "id": "996DbKZeHhSM"
      },
      "source": [
        "maximum = 0"
      ],
      "execution_count": 2,
      "outputs": []
    },
    {
      "cell_type": "markdown",
      "metadata": {
        "id": "2lseODuZHhSM"
      },
      "source": [
        "3. Look through each number, and compare it to maximum:\n",
        "4. check the result:"
      ]
    },
    {
      "cell_type": "code",
      "metadata": {
        "id": "5VP_X_cjHhSM",
        "outputId": "7f404545-8a98-4c01-cc49-6648ed7b0c07",
        "colab": {
          "base_uri": "https://localhost:8080/"
        }
      },
      "source": [
        "for number in l:\n",
        "    if number > maximum:\n",
        "        maximum = number\n",
        "        \n",
        "print(maximum)       "
      ],
      "execution_count": 3,
      "outputs": [
        {
          "output_type": "stream",
          "text": [
            "7\n"
          ],
          "name": "stdout"
        }
      ]
    }
  ]
}