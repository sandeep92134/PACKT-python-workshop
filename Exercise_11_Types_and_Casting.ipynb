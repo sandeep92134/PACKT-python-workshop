{
  "nbformat": 4,
  "nbformat_minor": 0,
  "metadata": {
    "colab": {
      "name": "Exercise 11: Types and Casting",
      "provenance": [],
      "authorship_tag": "ABX9TyNd7CnwqgcAcrDU4kOvxsSh",
      "include_colab_link": true
    },
    "kernelspec": {
      "name": "python3",
      "display_name": "Python 3"
    }
  },
  "cells": [
    {
      "cell_type": "markdown",
      "metadata": {
        "id": "view-in-github",
        "colab_type": "text"
      },
      "source": [
        "<a href=\"https://colab.research.google.com/github/sandeep92134/PACKT-python-workshop/blob/main/Exercise_11_Types_and_Casting.ipynb\" target=\"_parent\"><img src=\"https://colab.research.google.com/assets/colab-badge.svg\" alt=\"Open In Colab\"/></a>"
      ]
    },
    {
      "cell_type": "markdown",
      "metadata": {
        "id": "ZpXmZCjIB5XS"
      },
      "source": [
        "In this exercise, you will learn how types and casting work together:\n",
        "\n",
        "1. Open a new Jupyter Notebook.\n",
        "2. Determine the type of '5':"
      ]
    },
    {
      "cell_type": "code",
      "metadata": {
        "id": "E9dz3gLEBfDA",
        "outputId": "72baacee-da6d-46f1-8f01-1a90ab8f31db",
        "colab": {
          "base_uri": "https://localhost:8080/",
          "height": 34
        }
      },
      "source": [
        "type('5')"
      ],
      "execution_count": 1,
      "outputs": [
        {
          "output_type": "execute_result",
          "data": {
            "text/plain": [
              "str"
            ]
          },
          "metadata": {
            "tags": []
          },
          "execution_count": 1
        }
      ]
    },
    {
      "cell_type": "markdown",
      "metadata": {
        "id": "W2RClKrrCBrm"
      },
      "source": [
        "3. Now, add '5' and '7'"
      ]
    },
    {
      "cell_type": "code",
      "metadata": {
        "id": "t0Wo-K6uCKR4",
        "outputId": "1a02333a-fb6a-4a82-cfcc-8bd04e65b55b",
        "colab": {
          "base_uri": "https://localhost:8080/",
          "height": 35
        }
      },
      "source": [
        "'5' + '7'"
      ],
      "execution_count": 2,
      "outputs": [
        {
          "output_type": "execute_result",
          "data": {
            "application/vnd.google.colaboratory.intrinsic+json": {
              "type": "string"
            },
            "text/plain": [
              "'57'"
            ]
          },
          "metadata": {
            "tags": []
          },
          "execution_count": 2
        }
      ]
    },
    {
      "cell_type": "markdown",
      "metadata": {
        "id": "jptBgvO9CSYM"
      },
      "source": [
        "The answer is not 12 because, here, 5 and 7 are of type string, not of type int. Recall that the + operator concatenates strings. If we want to add 5 and 7, we must convert them first.\n",
        "\n",
        "4. Convert the '5' string to an int using the code mentioned in the following code snippet:"
      ]
    },
    {
      "cell_type": "code",
      "metadata": {
        "id": "62dAH3V_CeBM",
        "outputId": "e2d68ff7-23a0-4051-cb36-e7dc972039b8",
        "colab": {
          "base_uri": "https://localhost:8080/",
          "height": 34
        }
      },
      "source": [
        "int('5')"
      ],
      "execution_count": 3,
      "outputs": [
        {
          "output_type": "execute_result",
          "data": {
            "text/plain": [
              "5"
            ]
          },
          "metadata": {
            "tags": []
          },
          "execution_count": 3
        }
      ]
    },
    {
      "cell_type": "markdown",
      "metadata": {
        "id": "S60BPUm4CieI"
      },
      "source": [
        "Now 5 is a number, so it can be combined with other numbers via standard mathematical operations.\n",
        "\n",
        "5. Add '5' and '7' by converting them to int first:"
      ]
    },
    {
      "cell_type": "code",
      "metadata": {
        "id": "zNmFJt9oCwlW",
        "outputId": "9718c805-b87f-4321-d730-c5ffd21907d2",
        "colab": {
          "base_uri": "https://localhost:8080/",
          "height": 34
        }
      },
      "source": [
        "int('5') + int('7')"
      ],
      "execution_count": 4,
      "outputs": [
        {
          "output_type": "execute_result",
          "data": {
            "text/plain": [
              "12"
            ]
          },
          "metadata": {
            "tags": []
          },
          "execution_count": 4
        }
      ]
    },
    {
      "cell_type": "markdown",
      "metadata": {
        "id": "XLLwBMaWC6D8"
      },
      "source": [
        "In this exercise, you have learned several ways in which strings work with casting."
      ]
    }
  ]
}