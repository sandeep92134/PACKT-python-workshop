{
  "nbformat": 4,
  "nbformat_minor": 0,
  "metadata": {
    "colab": {
      "name": "Exercise 32: Using Sets in Python",
      "provenance": [],
      "authorship_tag": "ABX9TyM/oEnPT7kXwugH9WEO0tP0",
      "include_colab_link": true
    },
    "kernelspec": {
      "name": "python3",
      "display_name": "Python 3"
    }
  },
  "cells": [
    {
      "cell_type": "markdown",
      "metadata": {
        "id": "view-in-github",
        "colab_type": "text"
      },
      "source": [
        "<a href=\"https://colab.research.google.com/github/sandeep92134/PACKT-python-workshop/blob/main/Exercise_32_Using_Sets_in_Python.ipynb\" target=\"_parent\"><img src=\"https://colab.research.google.com/assets/colab-badge.svg\" alt=\"Open In Colab\"/></a>"
      ]
    },
    {
      "cell_type": "markdown",
      "metadata": {
        "id": "pR3NegY-jsTg"
      },
      "source": [
        "In this exercise, you will gain an understanding of sets in Python. A set is a collection of objects:\n",
        "\n",
        "1. Open a Jupyter notebook.\n",
        "2. Initialize a set using the following code. You can pass in a list to initialize a set:"
      ]
    },
    {
      "cell_type": "code",
      "metadata": {
        "id": "wmvz7Si8jld2",
        "outputId": "61c1fc9f-e2be-4d98-c0d7-b50409805055",
        "colab": {
          "base_uri": "https://localhost:8080/"
        }
      },
      "source": [
        "s1 = set([1,2,3,4,5,6])\n",
        "print(s1)\n",
        "s2 = set([1,2,2,3,4,4,5,6,6])\n",
        "print(s2)\n",
        "s3 = set([3,4,5,6,6,6,1,1,2])\n",
        "print(s3)"
      ],
      "execution_count": 1,
      "outputs": [
        {
          "output_type": "stream",
          "text": [
            "{1, 2, 3, 4, 5, 6}\n",
            "{1, 2, 3, 4, 5, 6}\n",
            "{1, 2, 3, 4, 5, 6}\n"
          ],
          "name": "stdout"
        }
      ]
    },
    {
      "cell_type": "markdown",
      "metadata": {
        "id": "CqEN--UIj4Bf"
      },
      "source": [
        "You can see that the set is unique and unordered, so duplicate items and the original order are not preserved.\n",
        "\n",
        "3. Enter the following code in a new cell:"
      ]
    },
    {
      "cell_type": "code",
      "metadata": {
        "id": "fRgtprsjkBhH",
        "outputId": "d9063273-d403-4a0e-b000-011d1e4e8940",
        "colab": {
          "base_uri": "https://localhost:8080/"
        }
      },
      "source": [
        "s4 = {\"apple\", \"orange\", \"banana\"}\n",
        "print(s4)"
      ],
      "execution_count": 2,
      "outputs": [
        {
          "output_type": "stream",
          "text": [
            "{'apple', 'banana', 'orange'}\n"
          ],
          "name": "stdout"
        }
      ]
    },
    {
      "cell_type": "markdown",
      "metadata": {
        "id": "u4nz58o5kCcP"
      },
      "source": [
        "4. Sets are mutable. Type the following code and see how we add a new item, pineapple, to an existing set, s4:"
      ]
    },
    {
      "cell_type": "code",
      "metadata": {
        "id": "QpremJlXkJ3y",
        "outputId": "b23d6966-dff5-4041-8d76-c0b0b76f0f31",
        "colab": {
          "base_uri": "https://localhost:8080/"
        }
      },
      "source": [
        "s4.add('pineapple')\n",
        "print(s4)"
      ],
      "execution_count": 3,
      "outputs": [
        {
          "output_type": "stream",
          "text": [
            "{'apple', 'pineapple', 'banana', 'orange'}\n"
          ],
          "name": "stdout"
        }
      ]
    },
    {
      "cell_type": "markdown",
      "metadata": {
        "id": "i69tkBwckMd2"
      },
      "source": [
        "In this exercise, you were introduced to sets in Python. In the next topic, you will dive in a bit deeper and understand the different set operations that Python has to offer you."
      ]
    }
  ]
}