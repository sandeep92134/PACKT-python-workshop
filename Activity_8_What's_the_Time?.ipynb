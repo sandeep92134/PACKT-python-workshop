{
  "nbformat": 4,
  "nbformat_minor": 0,
  "metadata": {
    "colab": {
      "name": "Activity 8: What's the Time?",
      "provenance": [],
      "authorship_tag": "ABX9TyPZ2woLbf9k8zvjLsivFVtz",
      "include_colab_link": true
    },
    "kernelspec": {
      "name": "python3",
      "display_name": "Python 3"
    }
  },
  "cells": [
    {
      "cell_type": "markdown",
      "metadata": {
        "id": "view-in-github",
        "colab_type": "text"
      },
      "source": [
        "<a href=\"https://colab.research.google.com/github/sandeep92134/PACKT-python-workshop/blob/main/Activity_8_What's_the_Time%3F.ipynb\" target=\"_parent\"><img src=\"https://colab.research.google.com/assets/colab-badge.svg\" alt=\"Open In Colab\"/></a>"
      ]
    },
    {
      "cell_type": "markdown",
      "metadata": {
        "id": "hJvRGCjt6cWZ"
      },
      "source": [
        "In the following, you will find the solution code to Activity 01, What's the Time?\n",
        "\n",
        "1. To make it easier to understand, the code has been broken down with explanations:\n",
        "   **current_time.py:**\n",
        "```\n",
        "\"\"\"\n",
        "This script returns the current system time.\n",
        "\"\"\"\n",
        "```\n",
        "2. Firstly, we import the **datetime** library, which contains a range of useful utilities for working with dates:\n",
        "\n",
        "```\n",
        "import datetime\n",
        "```\n",
        "3. Using the **datetime** library, we can get the current datetime stamp, and then call the **time() **function in order to retrieve the time:\n",
        "\n",
        "```\n",
        "time = datetime.datetime.now().time()\n",
        "```\n",
        "4. If the script is being executed, this **if** statement will be true, and, therefore, the time will be printed:\n",
        " \n",
        "```\n",
        "if __name__ == '__main__':\n",
        "    print(time)\n",
        "```\n",
        "At the end of this activity, you are able to import the **datetime** module and execute the Python script to tell the time. Additionally, you are able to import the time to use it elsewhere in your code if necessary."
      ]
    },
    {
      "cell_type": "code",
      "metadata": {
        "colab": {
          "base_uri": "https://localhost:8080/"
        },
        "id": "fgiZ_auX1nr3",
        "outputId": "1fcbf656-9880-4fb1-8605-45b94effdc5d"
      },
      "source": [
        "%%writefile current_time.py\n",
        "\"\"\"\n",
        "This script returns the current system time.\n",
        "\"\"\"\n",
        "\n",
        "# Firstly we import the datetime library which contains a range of useful\n",
        "# utilities for working with dates\n",
        "import datetime\n",
        "\n",
        "# Using the datetime library, we can get the current datetime stamp, \n",
        "# and then call the time() function in order to retrieve the time\n",
        "time = datetime.datetime.now().time()\n",
        "\n",
        "# If the script is being executed, this if statement will be true, \n",
        "# and therefore the time will be printed\n",
        "if __name__ == '__main__':\n",
        "    print(time)\n"
      ],
      "execution_count": 1,
      "outputs": [
        {
          "output_type": "stream",
          "text": [
            "Overwriting current_time.py\n"
          ],
          "name": "stdout"
        }
      ]
    },
    {
      "cell_type": "code",
      "metadata": {
        "colab": {
          "base_uri": "https://localhost:8080/"
        },
        "id": "NaIR26w58IIs",
        "outputId": "1b9b8de1-35c6-41a1-e277-51a379d8dd23"
      },
      "source": [
        "from current_time import time\n",
        "time"
      ],
      "execution_count": 2,
      "outputs": [
        {
          "output_type": "execute_result",
          "data": {
            "text/plain": [
              "datetime.time(13, 58, 53, 970232)"
            ]
          },
          "metadata": {
            "tags": []
          },
          "execution_count": 2
        }
      ]
    },
    {
      "cell_type": "code",
      "metadata": {
        "colab": {
          "base_uri": "https://localhost:8080/"
        },
        "id": "OQ73TQkm8N1A",
        "outputId": "98a851a9-627e-4f89-b40b-f10f08316b0d"
      },
      "source": [
        "!python current_time.py"
      ],
      "execution_count": 3,
      "outputs": [
        {
          "output_type": "stream",
          "text": [
            "13:58:54.053986\n"
          ],
          "name": "stdout"
        }
      ]
    }
  ]
}