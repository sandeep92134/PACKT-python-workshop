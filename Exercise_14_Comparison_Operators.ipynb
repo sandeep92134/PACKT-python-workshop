{
  "nbformat": 4,
  "nbformat_minor": 0,
  "metadata": {
    "colab": {
      "name": "Exercise 14: Comparison Operators",
      "provenance": [],
      "authorship_tag": "ABX9TyPzdFtgznn+iAJeWKSuHeCO",
      "include_colab_link": true
    },
    "kernelspec": {
      "name": "python3",
      "display_name": "Python 3"
    }
  },
  "cells": [
    {
      "cell_type": "markdown",
      "metadata": {
        "id": "view-in-github",
        "colab_type": "text"
      },
      "source": [
        "<a href=\"https://colab.research.google.com/github/sandeep92134/PACKT-python-workshop/blob/main/Exercise_14_Comparison_Operators.ipynb\" target=\"_parent\"><img src=\"https://colab.research.google.com/assets/colab-badge.svg\" alt=\"Open In Colab\"/></a>"
      ]
    },
    {
      "cell_type": "markdown",
      "metadata": {
        "id": "bXSFbGFDQI9e"
      },
      "source": [
        "In this exercise, you will practice using comparison operators. You will start with some basic mathematical examples:\n",
        "\n",
        "1. Open a new Jupyter Notebook.\n",
        "2. Now, set age as equal to 20 and include a comparison operator to check whether age is less than 13:"
      ]
    },
    {
      "cell_type": "code",
      "metadata": {
        "id": "lTanR9G2O8hW",
        "outputId": "135ae1f7-92fc-426f-8952-2a7f75a389b5",
        "colab": {
          "base_uri": "https://localhost:8080/",
          "height": 34
        }
      },
      "source": [
        "age = 20\n",
        "age < 13"
      ],
      "execution_count": 1,
      "outputs": [
        {
          "output_type": "execute_result",
          "data": {
            "text/plain": [
              "False"
            ]
          },
          "metadata": {
            "tags": []
          },
          "execution_count": 1
        }
      ]
    },
    {
      "cell_type": "markdown",
      "metadata": {
        "id": "xMH01s3xQgdX"
      },
      "source": [
        "3. Using the following code snippet, you can check whether age is greater than or equal to 20 and less than or equal to 21:"
      ]
    },
    {
      "cell_type": "code",
      "metadata": {
        "id": "j9sCtsHZQmxS",
        "outputId": "d8af657f-407b-4b69-c352-b83c2842077e",
        "colab": {
          "base_uri": "https://localhost:8080/",
          "height": 34
        }
      },
      "source": [
        "age >= 20 and age <= 21"
      ],
      "execution_count": 2,
      "outputs": [
        {
          "output_type": "execute_result",
          "data": {
            "text/plain": [
              "True"
            ]
          },
          "metadata": {
            "tags": []
          },
          "execution_count": 2
        }
      ]
    },
    {
      "cell_type": "markdown",
      "metadata": {
        "id": "5cFt0ieSQw0_"
      },
      "source": [
        "4. Now check whether age is not equivalent to 21:"
      ]
    },
    {
      "cell_type": "code",
      "metadata": {
        "id": "BUxKIm0ZQ0tq",
        "outputId": "5250b4b2-ccfb-4ae8-bf2c-ded13ce32f56",
        "colab": {
          "base_uri": "https://localhost:8080/",
          "height": 34
        }
      },
      "source": [
        "age != 21"
      ],
      "execution_count": 3,
      "outputs": [
        {
          "output_type": "execute_result",
          "data": {
            "text/plain": [
              "True"
            ]
          },
          "metadata": {
            "tags": []
          },
          "execution_count": 3
        }
      ]
    },
    {
      "cell_type": "markdown",
      "metadata": {
        "id": "lLid6FNUQ-NC"
      },
      "source": [
        "5. Now, check whether age is equivalent to 19:"
      ]
    },
    {
      "cell_type": "code",
      "metadata": {
        "id": "DhzPW6fxRFJa",
        "outputId": "285d6c4e-ae93-4601-d6d5-b187e0e0553c",
        "colab": {
          "base_uri": "https://localhost:8080/",
          "height": 34
        }
      },
      "source": [
        "age == 19"
      ],
      "execution_count": 4,
      "outputs": [
        {
          "output_type": "execute_result",
          "data": {
            "text/plain": [
              "False"
            ]
          },
          "metadata": {
            "tags": []
          },
          "execution_count": 4
        }
      ]
    },
    {
      "cell_type": "markdown",
      "metadata": {
        "id": "IGVFTPUzRPct"
      },
      "source": [
        "The double equals sign, or the equivalent operator, ==, is very important in Python. It allows us to determine whether two objects are equal. You can now address the question of whether 6 and 6.0 are the same in Python."
      ]
    },
    {
      "cell_type": "markdown",
      "metadata": {
        "id": "7iJWTwVnTHSx"
      },
      "source": [
        "6. Is 6 equivalent to 6.0 in Python? Let's find out:"
      ]
    },
    {
      "cell_type": "code",
      "metadata": {
        "id": "g738EpjwRSPR",
        "outputId": "bbda7e9f-d178-4f44-c7ef-30af28e2a098",
        "colab": {
          "base_uri": "https://localhost:8080/",
          "height": 34
        }
      },
      "source": [
        "6 == 6.0"
      ],
      "execution_count": 5,
      "outputs": [
        {
          "output_type": "execute_result",
          "data": {
            "text/plain": [
              "True"
            ]
          },
          "metadata": {
            "tags": []
          },
          "execution_count": 5
        }
      ]
    },
    {
      "cell_type": "markdown",
      "metadata": {
        "id": "sbKRtWcYRX_z"
      },
      "source": [
        "This may come as a bit of a surprise. 6 and 6.0 are different types, but they are equivalent. Why would that be? Since 6 and 6.0 are equivalent mathematically, it makes sense that they would be equivalent in Python, even though the types are different. Consider whether 6 should be equivalent to 42/7. The mathematical answer is yes. Python often conforms to mathematical truths, even with integer division. You can conclude that it's possible for different types to have equivalent objects."
      ]
    },
    {
      "cell_type": "markdown",
      "metadata": {
        "id": "j1NRfyJCTTos"
      },
      "source": [
        "7. Now find out whether 6 is equivalent to the '6' string:"
      ]
    },
    {
      "cell_type": "code",
      "metadata": {
        "id": "cy0OmgkgTOdM",
        "outputId": "22bee38f-a9b0-41dd-8950-332d6ffe7400",
        "colab": {
          "base_uri": "https://localhost:8080/",
          "height": 34
        }
      },
      "source": [
        "6 == '6'"
      ],
      "execution_count": 6,
      "outputs": [
        {
          "output_type": "execute_result",
          "data": {
            "text/plain": [
              "False"
            ]
          },
          "metadata": {
            "tags": []
          },
          "execution_count": 6
        }
      ]
    },
    {
      "cell_type": "markdown",
      "metadata": {
        "id": "ZHWNkRPKTdTE"
      },
      "source": [
        "Here, you emphasize that different types usually do not have equivalent objects. In general, it's a good idea to cast objects as the same type before testing for equivalence. Next, let's find out whether someone is in their 20's or 30's:"
      ]
    },
    {
      "cell_type": "code",
      "metadata": {
        "id": "tPOGowasTioy",
        "outputId": "c23ed14d-dd02-43f7-aeff-b88f75ac9a93",
        "colab": {
          "base_uri": "https://localhost:8080/",
          "height": 34
        }
      },
      "source": [
        "(age >= 20 and age < 30) or (age >= 30 and age < 40)"
      ],
      "execution_count": 8,
      "outputs": [
        {
          "output_type": "execute_result",
          "data": {
            "text/plain": [
              "True"
            ]
          },
          "metadata": {
            "tags": []
          },
          "execution_count": 8
        }
      ]
    },
    {
      "cell_type": "markdown",
      "metadata": {
        "id": "Fwa_5zdoTlfm"
      },
      "source": [
        "Parentheses are not necessary when there is only one possible interpretation. When using more than two conditions, parentheses are generally a good idea. Note that parentheses are always permitted. The following is another approach:"
      ]
    },
    {
      "cell_type": "code",
      "metadata": {
        "id": "7iRssBoaTpa0",
        "outputId": "66e5d1e7-8202-45b0-fbac-d40a5ff7f922",
        "colab": {
          "base_uri": "https://localhost:8080/",
          "height": 34
        }
      },
      "source": [
        "(20 <= age < 30) or (30 <= age < 40)"
      ],
      "execution_count": 7,
      "outputs": [
        {
          "output_type": "execute_result",
          "data": {
            "text/plain": [
              "True"
            ]
          },
          "metadata": {
            "tags": []
          },
          "execution_count": 7
        }
      ]
    },
    {
      "cell_type": "markdown",
      "metadata": {
        "id": "dw3MSi_uTsA8"
      },
      "source": [
        "Although the parentheses in the preceding code line are not strictly required, they make the code more readable. A good rule of thumb is to use parentheses for clarity.\n",
        "\n",
        "By completing this exercise, you have practiced using different comparison operators."
      ]
    }
  ]
}