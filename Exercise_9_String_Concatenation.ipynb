{
  "nbformat": 4,
  "nbformat_minor": 0,
  "metadata": {
    "colab": {
      "name": "Exercise 9: String Concatenation",
      "provenance": [],
      "collapsed_sections": [],
      "authorship_tag": "ABX9TyPZmmLQcyMCKqrcb6JLby7I",
      "include_colab_link": true
    },
    "kernelspec": {
      "name": "python3",
      "display_name": "Python 3"
    }
  },
  "cells": [
    {
      "cell_type": "markdown",
      "metadata": {
        "id": "view-in-github",
        "colab_type": "text"
      },
      "source": [
        "<a href=\"https://colab.research.google.com/github/sandeep92134/PACKT-python-workshop/blob/main/Exercise_9_String_Concatenation.ipynb\" target=\"_parent\"><img src=\"https://colab.research.google.com/assets/colab-badge.svg\" alt=\"Open In Colab\"/></a>"
      ]
    },
    {
      "cell_type": "markdown",
      "metadata": {
        "id": "4QUZH4fxV5TJ"
      },
      "source": [
        "In this exercise, you will learn how to combine strings using string concatenation:\n",
        "\n",
        "1. Open a new Jupyter Notebook.\n",
        "2. Combine the spanish_greeting we used in Exercise 8, Displaying Strings, with 'Senor.' using the + operator and display the results:"
      ]
    },
    {
      "cell_type": "code",
      "metadata": {
        "id": "xlUZya_mV5pm",
        "outputId": "905f26b2-f0a6-43e9-e99c-40f03c87efa2",
        "colab": {
          "base_uri": "https://localhost:8080/",
          "height": 34
        }
      },
      "source": [
        "spanish_greeting = 'Hola'\n",
        "print(spanish_greeting + 'Senor.')"
      ],
      "execution_count": 1,
      "outputs": [
        {
          "output_type": "stream",
          "text": [
            "HolaSenor.\n"
          ],
          "name": "stdout"
        }
      ]
    },
    {
      "cell_type": "markdown",
      "metadata": {
        "id": "JO2qK-mXWKFO"
      },
      "source": [
        "Notice that there are no spaces between greeting and name. If we want spaces between strings, we need to explicitly add them.\n",
        "\n",
        "3. Now, combine spanish_greeting with 'Senor.' using the + operator, but this time, include a space:"
      ]
    },
    {
      "cell_type": "code",
      "metadata": {
        "id": "F7tj7_i-WVIa",
        "outputId": "e6186be5-7758-4822-e6ab-23dd4dc264eb",
        "colab": {
          "base_uri": "https://localhost:8080/",
          "height": 34
        }
      },
      "source": [
        "spanish_greeting = 'Hola '\n",
        "print(spanish_greeting + 'Senor.')"
      ],
      "execution_count": 2,
      "outputs": [
        {
          "output_type": "stream",
          "text": [
            "Hola Senor.\n"
          ],
          "name": "stdout"
        }
      ]
    },
    {
      "cell_type": "markdown",
      "metadata": {
        "id": "AB5WFBSgWUnO"
      },
      "source": [
        "4. Display the greeting 5 times using the * multiplication operator:"
      ]
    },
    {
      "cell_type": "code",
      "metadata": {
        "id": "01NxOk2xWgfO",
        "outputId": "af98c1e3-bb3c-4233-8e0c-2e0b58143d91",
        "colab": {
          "base_uri": "https://localhost:8080/",
          "height": 34
        }
      },
      "source": [
        "greeting = 'Hello'\n",
        "print(greeting * 5)"
      ],
      "execution_count": 3,
      "outputs": [
        {
          "output_type": "stream",
          "text": [
            "HelloHelloHelloHelloHello\n"
          ],
          "name": "stdout"
        }
      ]
    },
    {
      "cell_type": "markdown",
      "metadata": {
        "id": "vHLco5pVWo6l"
      },
      "source": [
        "By completing this exercise successfully, you have combined strings using string concatenation and repetition by using the + and * operators."
      ]
    }
  ]
}