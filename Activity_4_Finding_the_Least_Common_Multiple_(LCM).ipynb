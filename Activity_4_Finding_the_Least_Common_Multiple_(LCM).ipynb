{
  "nbformat": 4,
  "nbformat_minor": 0,
  "metadata": {
    "colab": {
      "name": "Activity 4: Finding the Least Common Multiple (LCM)",
      "provenance": [],
      "authorship_tag": "ABX9TyNZP8oqWGYtCaCD95sw5UNq",
      "include_colab_link": true
    },
    "kernelspec": {
      "name": "python3",
      "display_name": "Python 3"
    }
  },
  "cells": [
    {
      "cell_type": "markdown",
      "metadata": {
        "id": "view-in-github",
        "colab_type": "text"
      },
      "source": [
        "<a href=\"https://colab.research.google.com/github/sandeep92134/PACKT-python-workshop/blob/main/Activity_4_Finding_the_Least_Common_Multiple_(LCM).ipynb\" target=\"_parent\"><img src=\"https://colab.research.google.com/assets/colab-badge.svg\" alt=\"Open In Colab\"/></a>"
      ]
    },
    {
      "cell_type": "markdown",
      "metadata": {
        "id": "Mh4offy9oPeK"
      },
      "source": [
        "1. We begin by opening a new Jupyter Notebook.\n",
        "2. Here, you begin by setting the variables equal to 24 and 36:"
      ]
    },
    {
      "cell_type": "markdown",
      "metadata": {
        "id": "NmuETXQnon6z"
      },
      "source": [
        "3. In this step, you have initialized a while loop based on the counting Boolean, which is True, with an iterator, i:"
      ]
    },
    {
      "cell_type": "markdown",
      "metadata": {
        "id": "OwCfBrzAo23e"
      },
      "source": [
        "4. This step sets up a conditional to check whether the iterator divides both numbers:"
      ]
    },
    {
      "cell_type": "markdown",
      "metadata": {
        "id": "adRk7SVspAKJ"
      },
      "source": [
        "5. This step breaks the while loop:"
      ]
    },
    {
      "cell_type": "markdown",
      "metadata": {
        "id": "WYpqWumYpUyQ"
      },
      "source": [
        "6. This step increments the iterator at the end of the loop:\n",
        " lets do this in short\n",
        " "
      ]
    },
    {
      "cell_type": "code",
      "metadata": {
        "id": "jaZL3TI9psbs",
        "outputId": "70994993-f80c-4b42-b055-f1988ac2ebe8",
        "colab": {
          "base_uri": "https://localhost:8080/"
        }
      },
      "source": [
        "# Find the Least Common Multiple of Two Divisors\n",
        "counting = True\n",
        "first_divisor = 24\n",
        "second_divisor = 36\n",
        "i = 1\n",
        "while counting:\n",
        "    if i % first_divisor == 0 and i % second_divisor == 0:\n",
        "        print('The Least Common Multiple of', first_divisor, 'and', second_divisor, 'is', i, '.')\n",
        "        break\n",
        "    i += 1"
      ],
      "execution_count": 1,
      "outputs": [
        {
          "output_type": "stream",
          "text": [
            "The Least Common Multiple of 24 and 36 is 72 .\n"
          ],
          "name": "stdout"
        }
      ]
    }
  ]
}