{
  "nbformat": 4,
  "nbformat_minor": 0,
  "metadata": {
    "colab": {
      "name": "Activity 2: Finding a Solution Using Pythagorean Theorem in Python",
      "provenance": [],
      "authorship_tag": "ABX9TyNiWB4pSMkLBYyyzyBvQqh4",
      "include_colab_link": true
    },
    "kernelspec": {
      "name": "python3",
      "display_name": "Python 3"
    }
  },
  "cells": [
    {
      "cell_type": "markdown",
      "metadata": {
        "id": "view-in-github",
        "colab_type": "text"
      },
      "source": [
        "<a href=\"https://colab.research.google.com/github/sandeep92134/PACKT-python-workshop/blob/main/Activity_2_Finding_a_Solution_Using_Pythagorean_Theorem_in_Python.ipynb\" target=\"_parent\"><img src=\"https://colab.research.google.com/assets/colab-badge.svg\" alt=\"Open In Colab\"/></a>"
      ]
    },
    {
      "cell_type": "code",
      "metadata": {
        "id": "VUZHFydH626L",
        "outputId": "7f805021-b8bd-4d07-fd4e-f0e8786fc2ae",
        "colab": {
          "base_uri": "https://localhost:8080/",
          "height": 35
        }
      },
      "source": [
        "\"\"\"\n",
        "This document determines the Pythagorean Distance\n",
        "between three given points\n",
        "\"\"\" "
      ],
      "execution_count": 1,
      "outputs": [
        {
          "output_type": "execute_result",
          "data": {
            "application/vnd.google.colaboratory.intrinsic+json": {
              "type": "string"
            },
            "text/plain": [
              "'\\nThis document determines the Pythagorean Distance\\nbetween three given points\\n'"
            ]
          },
          "metadata": {
            "tags": []
          },
          "execution_count": 1
        }
      ]
    },
    {
      "cell_type": "code",
      "metadata": {
        "id": "Bfc_EFaT7LOD"
      },
      "source": [
        "# Initialize variables\n",
        "x, y, z = 2, 3, 4"
      ],
      "execution_count": 2,
      "outputs": []
    },
    {
      "cell_type": "code",
      "metadata": {
        "id": "mUJf9d5i7gGb"
      },
      "source": [
        "# Pythagorean Theorem in 3 dimensions\n",
        "w_squared = x**2 + y**2 + z**2"
      ],
      "execution_count": 3,
      "outputs": []
    },
    {
      "cell_type": "code",
      "metadata": {
        "id": "G_IdBA4B7kay"
      },
      "source": [
        "# The square root gives the distance\n",
        "w = w_squared ** 0.5"
      ],
      "execution_count": 4,
      "outputs": []
    },
    {
      "cell_type": "code",
      "metadata": {
        "id": "Zkc3Nayc7w1s",
        "outputId": "aee7b186-1140-4e8b-e36c-4aeaeec3d41e",
        "colab": {
          "base_uri": "https://localhost:8080/",
          "height": 34
        }
      },
      "source": [
        "#Show the distance\n",
        "w"
      ],
      "execution_count": 5,
      "outputs": [
        {
          "output_type": "execute_result",
          "data": {
            "text/plain": [
              "5.385164807134504"
            ]
          },
          "metadata": {
            "tags": []
          },
          "execution_count": 5
        }
      ]
    },
    {
      "cell_type": "markdown",
      "metadata": {
        "id": "QdidMkkP77Wi"
      },
      "source": [
        "Congratulations on making it through the first topic in your Python journey! You are well on your way to becoming a developer or data scientist."
      ]
    }
  ]
}