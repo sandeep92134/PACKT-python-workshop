{
  "nbformat": 4,
  "nbformat_minor": 0,
  "metadata": {
    "colab": {
      "name": "Exercise 15: Comparing Strings",
      "provenance": [],
      "authorship_tag": "ABX9TyPKKOWKUJgfQWi2r5qArEc8",
      "include_colab_link": true
    },
    "kernelspec": {
      "name": "python3",
      "display_name": "Python 3"
    }
  },
  "cells": [
    {
      "cell_type": "markdown",
      "metadata": {
        "id": "view-in-github",
        "colab_type": "text"
      },
      "source": [
        "<a href=\"https://colab.research.google.com/github/sandeep92134/PACKT-python-workshop/blob/main/Exercise_15_Comparing_Strings.ipynb\" target=\"_parent\"><img src=\"https://colab.research.google.com/assets/colab-badge.svg\" alt=\"Open In Colab\"/></a>"
      ]
    },
    {
      "cell_type": "markdown",
      "metadata": {
        "id": "uuZyzrxqXpga"
      },
      "source": [
        "In this exercise, you will be comparing strings using Python:\n",
        "\n",
        "1. Open a new Jupyter Notebook.\n",
        "2. Let's compare single letters:"
      ]
    },
    {
      "cell_type": "code",
      "metadata": {
        "id": "RvSlp5xlURPD",
        "outputId": "555d4439-d7c1-4918-f53f-df9d1e2685be",
        "colab": {
          "base_uri": "https://localhost:8080/",
          "height": 34
        }
      },
      "source": [
        "'a' < 'c'"
      ],
      "execution_count": 1,
      "outputs": [
        {
          "output_type": "execute_result",
          "data": {
            "text/plain": [
              "True"
            ]
          },
          "metadata": {
            "tags": []
          },
          "execution_count": 1
        }
      ]
    },
    {
      "cell_type": "markdown",
      "metadata": {
        "id": "TYZEKdd-X2xK"
      },
      "source": [
        "3. Now, let's compare 'New York' and 'San Francisco':"
      ]
    },
    {
      "cell_type": "code",
      "metadata": {
        "id": "bf9F9J5VYF0B",
        "outputId": "198a5c5f-95ff-4b14-95cf-3f12f51e3ffc",
        "colab": {
          "base_uri": "https://localhost:8080/",
          "height": 34
        }
      },
      "source": [
        "'New York' > 'San Francisco'"
      ],
      "execution_count": 2,
      "outputs": [
        {
          "output_type": "execute_result",
          "data": {
            "text/plain": [
              "False"
            ]
          },
          "metadata": {
            "tags": []
          },
          "execution_count": 2
        }
      ]
    },
    {
      "cell_type": "markdown",
      "metadata": {
        "id": "AHhqXzKFYVOc"
      },
      "source": [
        "This is False because 'New York' < 'San Francisco'. 'New York' does not come later in the dictionary than 'San Francisco'.\n",
        "\n",
        "In this exercise, you have learned how to compare strings using comparison operators."
      ]
    }
  ]
}