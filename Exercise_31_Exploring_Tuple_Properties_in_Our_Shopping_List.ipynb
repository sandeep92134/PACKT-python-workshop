{
  "nbformat": 4,
  "nbformat_minor": 0,
  "metadata": {
    "colab": {
      "name": "Exercise 31: Exploring Tuple Properties in Our Shopping List",
      "provenance": [],
      "authorship_tag": "ABX9TyN1PYiyHRPJCaSA7mk9HXn0",
      "include_colab_link": true
    },
    "kernelspec": {
      "name": "python3",
      "display_name": "Python 3"
    }
  },
  "cells": [
    {
      "cell_type": "markdown",
      "metadata": {
        "id": "view-in-github",
        "colab_type": "text"
      },
      "source": [
        "<a href=\"https://colab.research.google.com/github/sandeep92134/PACKT-python-workshop/blob/main/Exercise_31_Exploring_Tuple_Properties_in_Our_Shopping_List.ipynb\" target=\"_parent\"><img src=\"https://colab.research.google.com/assets/colab-badge.svg\" alt=\"Open In Colab\"/></a>"
      ]
    },
    {
      "cell_type": "markdown",
      "metadata": {
        "id": "dE5O7zoearcl"
      },
      "source": [
        "In this exercise, you will learn about the different properties of a tuple:\n",
        "\n",
        "1. Open a Jupyter notebook.\n",
        "2. Type the following code in a new cell to initialize a new tuple, t:"
      ]
    },
    {
      "cell_type": "code",
      "metadata": {
        "id": "ZKJbRMxaaBok",
        "outputId": "0a0e5fd0-4d78-47ce-b3ef-ad2ca69c6d42",
        "colab": {
          "base_uri": "https://localhost:8080/"
        }
      },
      "source": [
        "t = ('bread', 'milk', 'eggs')\n",
        "print(len(t))"
      ],
      "execution_count": 1,
      "outputs": [
        {
          "output_type": "stream",
          "text": [
            "3\n"
          ],
          "name": "stdout"
        }
      ]
    },
    {
      "cell_type": "markdown",
      "metadata": {
        "id": "v4RCHoIva4tL"
      },
      "source": [
        "<font color=red> Note: </font> \n",
        "Remember, a tuple is immutable; therefore, we are unable to use the append method to add a new item to an existing tuple. You can't change the value of any existing tuple's elements, either because both of the following statements will raise an error.\n",
        "\n",
        "3. Now, as mentioned in the note, enter the following lines of code and observe the error:"
      ]
    },
    {
      "cell_type": "code",
      "metadata": {
        "id": "hJACY2x0baPE",
        "outputId": "345ff9da-1e25-4453-e0d4-7cb2d7fcce74",
        "colab": {
          "base_uri": "https://localhost:8080/",
          "height": 167
        }
      },
      "source": [
        "t.append('apple')"
      ],
      "execution_count": 2,
      "outputs": [
        {
          "output_type": "error",
          "ename": "AttributeError",
          "evalue": "ignored",
          "traceback": [
            "\u001b[0;31m---------------------------------------------------------------------------\u001b[0m",
            "\u001b[0;31mAttributeError\u001b[0m                            Traceback (most recent call last)",
            "\u001b[0;32m<ipython-input-2-24b3d64214b3>\u001b[0m in \u001b[0;36m<module>\u001b[0;34m()\u001b[0m\n\u001b[0;32m----> 1\u001b[0;31m \u001b[0mt\u001b[0m\u001b[0;34m.\u001b[0m\u001b[0mappend\u001b[0m\u001b[0;34m(\u001b[0m\u001b[0;34m'apple'\u001b[0m\u001b[0;34m)\u001b[0m\u001b[0;34m\u001b[0m\u001b[0;34m\u001b[0m\u001b[0m\n\u001b[0m",
            "\u001b[0;31mAttributeError\u001b[0m: 'tuple' object has no attribute 'append'"
          ]
        }
      ]
    },
    {
      "cell_type": "code",
      "metadata": {
        "id": "wjQLACYebnK1",
        "outputId": "800ef23b-e816-4491-8570-d1e6b7bb497d",
        "colab": {
          "base_uri": "https://localhost:8080/",
          "height": 167
        }
      },
      "source": [
        "t[2] = 'apple'"
      ],
      "execution_count": 3,
      "outputs": [
        {
          "output_type": "error",
          "ename": "TypeError",
          "evalue": "ignored",
          "traceback": [
            "\u001b[0;31m---------------------------------------------------------------------------\u001b[0m",
            "\u001b[0;31mTypeError\u001b[0m                                 Traceback (most recent call last)",
            "\u001b[0;32m<ipython-input-3-190718a1298c>\u001b[0m in \u001b[0;36m<module>\u001b[0;34m()\u001b[0m\n\u001b[0;32m----> 1\u001b[0;31m \u001b[0mt\u001b[0m\u001b[0;34m[\u001b[0m\u001b[0;36m2\u001b[0m\u001b[0;34m]\u001b[0m \u001b[0;34m=\u001b[0m \u001b[0;34m'apple'\u001b[0m\u001b[0;34m\u001b[0m\u001b[0;34m\u001b[0m\u001b[0m\n\u001b[0m",
            "\u001b[0;31mTypeError\u001b[0m: 'tuple' object does not support item assignment"
          ]
        }
      ]
    },
    {
      "cell_type": "markdown",
      "metadata": {
        "id": "XSlV1uyPbjdK"
      },
      "source": [
        "The only way to get around this is to create a new tuple by concatenating the existing tuple with other new items.\n",
        "\n",
        "4. Now use the following code to add two items, apple and orange, to our tuple, t. This will give us a new tuple. Take note that the existing t tuple remains unchanged:"
      ]
    },
    {
      "cell_type": "code",
      "metadata": {
        "id": "mfAnl9CQb2I4",
        "outputId": "388348d8-8951-4814-a6c8-76b081ae6c6f",
        "colab": {
          "base_uri": "https://localhost:8080/"
        }
      },
      "source": [
        "print(t + ('apple','orange'))\n",
        "print(t)"
      ],
      "execution_count": 4,
      "outputs": [
        {
          "output_type": "stream",
          "text": [
            "('bread', 'milk', 'eggs', 'apple', 'orange')\n",
            "('bread', 'milk', 'eggs')\n"
          ],
          "name": "stdout"
        }
      ]
    },
    {
      "cell_type": "markdown",
      "metadata": {
        "id": "bm4ts-Anb72v"
      },
      "source": [
        "5. Enter the following statements in a new cell and observe the output:"
      ]
    },
    {
      "cell_type": "code",
      "metadata": {
        "id": "n73yUhEJcIpg",
        "outputId": "5cceee27-af37-443b-e6b2-0079f417cb80",
        "colab": {
          "base_uri": "https://localhost:8080/"
        }
      },
      "source": [
        "t_mixed = 'apple', True, 3\n",
        "print(t_mixed)\n",
        "t_shopping = ('apple',3), ('orange',2), ('banana',5)\n",
        "print(t_shopping)"
      ],
      "execution_count": 5,
      "outputs": [
        {
          "output_type": "stream",
          "text": [
            "('apple', True, 3)\n",
            "(('apple', 3), ('orange', 2), ('banana', 5))\n"
          ],
          "name": "stdout"
        }
      ]
    },
    {
      "cell_type": "markdown",
      "metadata": {
        "id": "rtEpzS59cSI6"
      },
      "source": [
        "Tuples also support mixed types and nesting, just like lists and dictionaries. You can also declare a tuple without using parentheses, as shown in the code you entered in step 5"
      ]
    }
  ]
}