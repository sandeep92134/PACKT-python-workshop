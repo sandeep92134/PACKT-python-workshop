{
  "nbformat": 4,
  "nbformat_minor": 0,
  "metadata": {
    "colab": {
      "name": "Exercise 28: Using a Dictionary to Store a Movie Record",
      "provenance": [],
      "authorship_tag": "ABX9TyOhNJ3ZIMN2WcyxM0f6ligU",
      "include_colab_link": true
    },
    "kernelspec": {
      "name": "python3",
      "display_name": "Python 3"
    }
  },
  "cells": [
    {
      "cell_type": "markdown",
      "metadata": {
        "id": "view-in-github",
        "colab_type": "text"
      },
      "source": [
        "<a href=\"https://colab.research.google.com/github/sandeep92134/PACKT-python-workshop/blob/main/Exercise_28_Using_a_Dictionary_to_Store_a_Movie_Record.ipynb\" target=\"_parent\"><img src=\"https://colab.research.google.com/assets/colab-badge.svg\" alt=\"Open In Colab\"/></a>"
      ]
    },
    {
      "cell_type": "markdown",
      "metadata": {
        "id": "X-WmidPTINTQ"
      },
      "source": [
        "In this exercise, you will be working with a dictionary to store movie records, and you will also try and access the information in the dictionary using a key. The following steps will enable you to complete the exercise:\n",
        "\n",
        "1. Open a Jupyter Notebook.\n",
        "2. Enter the following code in a blank cell:\n"
      ]
    },
    {
      "cell_type": "code",
      "metadata": {
        "id": "S0oFTDiSIe2G"
      },
      "source": [
        "movie = {\n",
        "  \"title\": \"The Godfather\",\n",
        "  \"director\": \"Francis Ford Coppola\",\n",
        "  \"year\": 1972,\n",
        "  \"rating\": 9.2\n",
        "}"
      ],
      "execution_count": 1,
      "outputs": []
    },
    {
      "cell_type": "markdown",
      "metadata": {
        "id": "mpL3tpEzJ0xD"
      },
      "source": [
        "Here, you have created a movie dictionary with a few details, such as title, director, year, and rating.\n",
        "\n",
        "3. Access the information from the dictionary by using a key. For instance, you can use 'year' to find out when the movie was first released:"
      ]
    },
    {
      "cell_type": "code",
      "metadata": {
        "id": "EsYI5ZcnIfMl",
        "outputId": "a6d87e35-60b9-457e-b795-1ea63bfc15a9",
        "colab": {
          "base_uri": "https://localhost:8080/"
        }
      },
      "source": [
        "print(movie['year'])"
      ],
      "execution_count": 2,
      "outputs": [
        {
          "output_type": "stream",
          "text": [
            "1972\n"
          ],
          "name": "stdout"
        }
      ]
    },
    {
      "cell_type": "markdown",
      "metadata": {
        "id": "s_0OOhsXKG9c"
      },
      "source": [
        "4. Now update a dictionary value:"
      ]
    },
    {
      "cell_type": "code",
      "metadata": {
        "id": "YkRJl9NQKUt4",
        "outputId": "09d2b535-8fa9-4403-ac45-7644b7844242",
        "colab": {
          "base_uri": "https://localhost:8080/"
        }
      },
      "source": [
        "movie['rating'] = (movie['rating'] + 9.3)/2\n",
        "print(movie['rating'])"
      ],
      "execution_count": 3,
      "outputs": [
        {
          "output_type": "stream",
          "text": [
            "9.25\n"
          ],
          "name": "stdout"
        }
      ]
    },
    {
      "cell_type": "markdown",
      "metadata": {
        "id": "791LehWHJCTD"
      },
      "source": [
        "As you can see, a dictionary's values can also be updated in place.\n",
        "\n",
        "5. Construct a movie dictionary from scratch and extend it using key-value assignment:"
      ]
    },
    {
      "cell_type": "code",
      "metadata": {
        "id": "mDvDPJmbIbd0"
      },
      "source": [
        "movie = {}\n",
        "movie['title'] = \"The Godfather\"\n",
        "movie['director'] = \"Francis Ford Coppola\"\n",
        "movie['year'] = 1972\n",
        "movie['rating'] = 9.2"
      ],
      "execution_count": 4,
      "outputs": []
    },
    {
      "cell_type": "markdown",
      "metadata": {
        "id": "dfTSbtFAIm99"
      },
      "source": [
        "As you may have noticed, similar to a list, a dictionary is flexible in terms of size.\n",
        "\n",
        "6. You can also store a list inside a dictionary and store a dictionary within that dictionary:"
      ]
    },
    {
      "cell_type": "code",
      "metadata": {
        "id": "RcFE8oXSILZn",
        "outputId": "826d5568-6b62-4482-c8a3-375a48b5a35e",
        "colab": {
          "base_uri": "https://localhost:8080/"
        }
      },
      "source": [
        "movie['actors'] = ['Marlon Brando', 'Al Pacino', 'James Caan']\n",
        "movie['other_details'] = {\n",
        "  'runtime': 175,\n",
        "  'language': 'English'\n",
        "}\n",
        "print(movie)"
      ],
      "execution_count": 5,
      "outputs": [
        {
          "output_type": "stream",
          "text": [
            "{'title': 'The Godfather', 'director': 'Francis Ford Coppola', 'year': 1972, 'rating': 9.2, 'actors': ['Marlon Brando', 'Al Pacino', 'James Caan'], 'other_details': {'runtime': 175, 'language': 'English'}}\n"
          ],
          "name": "stdout"
        }
      ]
    },
    {
      "cell_type": "markdown",
      "metadata": {
        "id": "tB-k588LKgcL"
      },
      "source": [
        "Up to this point, you have seen how easy it is to implement nesting in both lists and dictionaries. By combining lists and dictionaries creatively, we can store complex real-world information and model structures directly and easily. This is one of the main benefits of scripting languages such as Python."
      ]
    }
  ]
}