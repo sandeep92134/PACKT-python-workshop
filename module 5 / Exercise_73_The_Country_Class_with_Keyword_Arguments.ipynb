{
  "nbformat": 4,
  "nbformat_minor": 0,
  "metadata": {
    "colab": {
      "name": "Exercise 73: The Country Class with Keyword Arguments",
      "provenance": [],
      "authorship_tag": "ABX9TyPdsyyUvX4SJS+MQU622VOL",
      "include_colab_link": true
    },
    "kernelspec": {
      "name": "python3",
      "display_name": "Python 3"
    }
  },
  "cells": [
    {
      "cell_type": "markdown",
      "metadata": {
        "id": "view-in-github",
        "colab_type": "text"
      },
      "source": [
        "<a href=\"https://colab.research.google.com/github/sandeep92134/PACKT-python-workshop/blob/main/module%205%20/%20Exercise_73_The_Country_Class_with_Keyword_Arguments.ipynb\" target=\"_parent\"><img src=\"https://colab.research.google.com/assets/colab-badge.svg\" alt=\"Open In Colab\"/></a>"
      ]
    },
    {
      "cell_type": "markdown",
      "metadata": {
        "id": "XhL_jVvYm0u1"
      },
      "source": [
        "The aim of this exercise is to use keyword arguments to allow optional instance attribute inputs to be specified in the **__init__** function.\r\n",
        "\r\n",
        "You create a class called Country, where there are three optional attributes that can be passed in the **__init__** method:\r\n",
        "\r\n",
        "1. Create the **Country** class with three keyword arguments to capture details about the **Country** object:"
      ]
    },
    {
      "cell_type": "code",
      "metadata": {
        "id": "hqOCKumygqgT"
      },
      "source": [
        "class Country():\r\n",
        "  def __init__(self, name='Unspecified', population=None, size_kmsq=None):\r\n",
        "    self.name = name\r\n",
        "    self.population = population\r\n",
        "    self.size_kmsq = size_kmsq"
      ],
      "execution_count": null,
      "outputs": []
    },
    {
      "cell_type": "markdown",
      "metadata": {
        "id": "m_RzyJx1pD2A"
      },
      "source": [
        "2. Initialize a new **Country**, noting that the order of parameters does not matter because you are using keyword arguments:"
      ]
    },
    {
      "cell_type": "code",
      "metadata": {
        "id": "MG2nWbzFraRf"
      },
      "source": [
        "india = Country(name='INDIA', size_kmsq=3.287e7)"
      ],
      "execution_count": 8,
      "outputs": []
    },
    {
      "cell_type": "markdown",
      "metadata": {
        "id": "dyNiiHKsrCY0"
      },
      "source": [
        "3. Use the __dict__ method to view a list of the attributes of the usa object:"
      ]
    },
    {
      "cell_type": "code",
      "metadata": {
        "id": "LBfKZbi_rEUr",
        "colab": {
          "base_uri": "https://localhost:8080/"
        },
        "outputId": "fbe82a38-a633-4c80-e7f8-b3217c521a6a"
      },
      "source": [
        "india.__dict__"
      ],
      "execution_count": 9,
      "outputs": [
        {
          "output_type": "execute_result",
          "data": {
            "text/plain": [
              "{'name': 'INDIA', 'population': None, 'size_kmsq': 32870000.0}"
            ]
          },
          "metadata": {
            "tags": []
          },
          "execution_count": 9
        }
      ]
    }
  ]
}