{
  "nbformat": 4,
  "nbformat_minor": 0,
  "metadata": {
    "colab": {
      "name": "Exercise 49: Exiting the Function During the For Loop",
      "provenance": [],
      "authorship_tag": "ABX9TyNTuwSfcwCHnb5irMdYsAgJ",
      "include_colab_link": true
    },
    "kernelspec": {
      "name": "python3",
      "display_name": "Python 3"
    }
  },
  "cells": [
    {
      "cell_type": "markdown",
      "metadata": {
        "id": "view-in-github",
        "colab_type": "text"
      },
      "source": [
        "<a href=\"https://colab.research.google.com/github/sandeep92134/PACKT-python-workshop/blob/main/Exercise_49_Exiting_the_Function_During_the_For_Loop.ipynb\" target=\"_parent\"><img src=\"https://colab.research.google.com/assets/colab-badge.svg\" alt=\"Open In Colab\"/></a>"
      ]
    },
    {
      "cell_type": "markdown",
      "metadata": {
        "id": "bdpmHgXSZ3HM"
      },
      "source": [
        "In this exercise, you will create a function that (inefficiently) checks whether a certain positive integer number **x** that is greater than 2 is a prime number. The function does this by looping through all the numbers from **2** to **x** and checks whether **x** is divisible by it. If it finds a number that **x** is divisible by, the iteration will stop and return **False**, as it has ascertained that x is not prime:\n",
        "\n",
        "1. In a Python shell, enter the function definition. Note that the tab spacing needs to match the following output:"
      ]
    },
    {
      "cell_type": "code",
      "metadata": {
        "id": "jFNoqo7yHvA8"
      },
      "source": [
        "def is_prime(X):\n",
        "  for i in range(2, X):\n",
        "    if X % i == 0:\n",
        "      return False\n",
        "  return True     "
      ],
      "execution_count": 1,
      "outputs": []
    },
    {
      "cell_type": "markdown",
      "metadata": {
        "id": "V4JjR1ljanC5"
      },
      "source": [
        "2. Test the function on a couple of examples:\n",
        "\n"
      ]
    },
    {
      "cell_type": "code",
      "metadata": {
        "colab": {
          "base_uri": "https://localhost:8080/"
        },
        "id": "1_8LanjbacEj",
        "outputId": "a3d12b10-5155-41c1-d31e-a7705a0032bf"
      },
      "source": [
        "is_prime(7)"
      ],
      "execution_count": 2,
      "outputs": [
        {
          "output_type": "execute_result",
          "data": {
            "text/plain": [
              "True"
            ]
          },
          "metadata": {
            "tags": []
          },
          "execution_count": 2
        }
      ]
    },
    {
      "cell_type": "code",
      "metadata": {
        "colab": {
          "base_uri": "https://localhost:8080/"
        },
        "id": "2MbJTUx7awud",
        "outputId": "1137ab34-71c8-4282-8e2f-ae8d556e3033"
      },
      "source": [
        "is_prime(1000)"
      ],
      "execution_count": 3,
      "outputs": [
        {
          "output_type": "execute_result",
          "data": {
            "text/plain": [
              "False"
            ]
          },
          "metadata": {
            "tags": []
          },
          "execution_count": 3
        }
      ]
    },
    {
      "cell_type": "code",
      "metadata": {
        "colab": {
          "base_uri": "https://localhost:8080/"
        },
        "id": "giin0e3HdV5-",
        "outputId": "9875c725-3dd3-41f6-cd5a-467eab4adb31"
      },
      "source": [
        "is_prime(100)"
      ],
      "execution_count": 4,
      "outputs": [
        {
          "output_type": "execute_result",
          "data": {
            "text/plain": [
              "False"
            ]
          },
          "metadata": {
            "tags": []
          },
          "execution_count": 4
        }
      ]
    },
    {
      "cell_type": "code",
      "metadata": {
        "colab": {
          "base_uri": "https://localhost:8080/"
        },
        "id": "pv6jmu9VdcHG",
        "outputId": "91860c85-e5c0-477a-e872-0b73793aa9a7"
      },
      "source": [
        "is_prime(1)"
      ],
      "execution_count": 5,
      "outputs": [
        {
          "output_type": "execute_result",
          "data": {
            "text/plain": [
              "True"
            ]
          },
          "metadata": {
            "tags": []
          },
          "execution_count": 5
        }
      ]
    },
    {
      "cell_type": "code",
      "metadata": {
        "colab": {
          "base_uri": "https://localhost:8080/"
        },
        "id": "zP5UBL0idgN6",
        "outputId": "ff7a3cc9-9e71-4b05-aa9f-c394a0a4b14d"
      },
      "source": [
        "is_prime(10)"
      ],
      "execution_count": 6,
      "outputs": [
        {
          "output_type": "execute_result",
          "data": {
            "text/plain": [
              "False"
            ]
          },
          "metadata": {
            "tags": []
          },
          "execution_count": 6
        }
      ]
    },
    {
      "cell_type": "markdown",
      "metadata": {
        "id": "GN82IXKddKd5"
      },
      "source": [
        "In this exercise, you successfully implemented a code that checks whether the variable **x** is prime by looping through positive integer numbers greater than 2. In the case that it is divisible, it will exit the loop and provide the output as **False**."
      ]
    },
    {
      "cell_type": "markdown",
      "metadata": {
        "id": "a8z9EA_ua7Ku"
      },
      "source": [
        "In this exercise, you successfully implemented a simple **sum_first_n** function with a **for** loop to find the total sum of **n** numbers."
      ]
    }
  ]
}