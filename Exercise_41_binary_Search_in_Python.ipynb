{
  "nbformat": 4,
  "nbformat_minor": 0,
  "metadata": {
    "colab": {
      "name": "Exercise 41: binary Search in Python",
      "provenance": [],
      "authorship_tag": "ABX9TyPYSxsAiKW4vDAaQgk3VTK0",
      "include_colab_link": true
    },
    "kernelspec": {
      "name": "python3",
      "display_name": "Python 3"
    }
  },
  "cells": [
    {
      "cell_type": "markdown",
      "metadata": {
        "id": "view-in-github",
        "colab_type": "text"
      },
      "source": [
        "<a href=\"https://colab.research.google.com/github/sandeep92134/PACKT-python-workshop/blob/main/Exercise_41_binary_Search_in_Python.ipynb\" target=\"_parent\"><img src=\"https://colab.research.google.com/assets/colab-badge.svg\" alt=\"Open In Colab\"/></a>"
      ]
    },
    {
      "cell_type": "markdown",
      "metadata": {
        "id": "tjFEDFgV0jCA"
      },
      "source": [
        "In this exercise, you will implement the binary search algorithm in Python:\n",
        "\n",
        "1. Start with a list of numbers:"
      ]
    },
    {
      "cell_type": "code",
      "metadata": {
        "id": "5pK9tJY-0hCZ"
      },
      "source": [
        "l = [2, 3, 5, 8, 11, 12, 18]"
      ],
      "execution_count": 1,
      "outputs": []
    },
    {
      "cell_type": "markdown",
      "metadata": {
        "id": "zupI5-Oh0j1E"
      },
      "source": [
        "2. Specify the value to **search_for**:"
      ]
    },
    {
      "cell_type": "code",
      "metadata": {
        "id": "JAbqSTdm0hgQ"
      },
      "source": [
        "search_for = 11"
      ],
      "execution_count": 2,
      "outputs": []
    },
    {
      "cell_type": "markdown",
      "metadata": {
        "id": "9NwWoJvt0ksj"
      },
      "source": [
        "3. Create two variables that will represent the start and end locations of the sublist you are interested in. Initially, it will represent the start and end indices for the entire list:"
      ]
    },
    {
      "cell_type": "code",
      "metadata": {
        "id": "6VcRFqBK0lGU"
      },
      "source": [
        "slice_start = 0\n",
        "slice_end = len(l) - 1 "
      ],
      "execution_count": 3,
      "outputs": []
    },
    {
      "cell_type": "markdown",
      "metadata": {
        "id": "MQbGWrcm0lt4"
      },
      "source": [
        "4. Add a variable to indicate whether the search was successful:"
      ]
    },
    {
      "cell_type": "code",
      "metadata": {
        "id": "iI5PSQmZ0mA_"
      },
      "source": [
        "found = False"
      ],
      "execution_count": 4,
      "outputs": []
    },
    {
      "cell_type": "markdown",
      "metadata": {
        "id": "OtIjGo4m1yFs"
      },
      "source": [
        "5. Find the midpoint of the list, and check whether the value is greater or less than the search term. Depending on the outcome of the comparison, either finish the search or update the locations for the start/end of the sublist:"
      ]
    },
    {
      "cell_type": "code",
      "metadata": {
        "id": "ndtiVuJl1yp4"
      },
      "source": [
        "while slice_start <= slice_end and not found:\n",
        "    location = (slice_start + slice_end) // 2\n",
        "    if l[location] == search_for:\n",
        "        found = True\n",
        "    else:\n",
        "        if search_for < l[location]:\n",
        "            slice_end = location - 1\n",
        "        else:\n",
        "            slice_start = location + 1"
      ],
      "execution_count": 5,
      "outputs": []
    },
    {
      "cell_type": "markdown",
      "metadata": {
        "id": "aPtkTxxb2PXi"
      },
      "source": [
        "6. check for results:"
      ]
    },
    {
      "cell_type": "code",
      "metadata": {
        "colab": {
          "base_uri": "https://localhost:8080/"
        },
        "id": "r1Ndat572ZxQ",
        "outputId": "d0b19457-a782-4f93-9ac0-d49a8777266b"
      },
      "source": [
        "print(found)\n",
        "print(location)"
      ],
      "execution_count": 6,
      "outputs": [
        {
          "output_type": "stream",
          "text": [
            "True\n",
            "4\n"
          ],
          "name": "stdout"
        }
      ]
    },
    {
      "cell_type": "markdown",
      "metadata": {
        "id": "6PymhW562k5_"
      },
      "source": [
        "In this exercise, you successfully implemented the binary search algorithm on a list of numbers."
      ]
    }
  ]
}