{
  "nbformat": 4,
  "nbformat_minor": 0,
  "metadata": {
    "colab": {
      "name": "Exercise 26: Accessing an Item from Shopping List Data",
      "provenance": [],
      "authorship_tag": "ABX9TyOS+jGn9kgW/ivWlY6oz1cW",
      "include_colab_link": true
    },
    "kernelspec": {
      "name": "python3",
      "display_name": "Python 3"
    }
  },
  "cells": [
    {
      "cell_type": "markdown",
      "metadata": {
        "id": "view-in-github",
        "colab_type": "text"
      },
      "source": [
        "<a href=\"https://colab.research.google.com/github/sandeep92134/PACKT-python-workshop/blob/main/Exercise_26_Accessing_an_Item_from_Shopping_List_Data.ipynb\" target=\"_parent\"><img src=\"https://colab.research.google.com/assets/colab-badge.svg\" alt=\"Open In Colab\"/></a>"
      ]
    },
    {
      "cell_type": "markdown",
      "metadata": {
        "id": "CLLL2i8k-ccX"
      },
      "source": [
        "In this exercise, you will work with lists and gain an understanding of how you can access items from a list. The following steps will enable you to complete the exercise:\n",
        "\n",
        "1. Open a new Jupyter Notebook.\n",
        "2. Enter the following code in a new cell:"
      ]
    },
    {
      "cell_type": "code",
      "metadata": {
        "id": "3iHuQsSG701D",
        "outputId": "d48dad97-df81-4269-ce26-c66d5c1d5b2d",
        "colab": {
          "base_uri": "https://localhost:8080/"
        }
      },
      "source": [
        "shopping = [\"milk\", \"bread\", \"eggs\", \"butter\"]\n",
        "print(shopping[0],\n",
        "      shopping[1],\n",
        "      shopping[2],\n",
        "      shopping[3])"
      ],
      "execution_count": 1,
      "outputs": [
        {
          "output_type": "stream",
          "text": [
            "milk bread eggs butter\n"
          ],
          "name": "stdout"
        }
      ]
    },
    {
      "cell_type": "markdown",
      "metadata": {
        "id": "lKQsAjSH_Mez"
      },
      "source": [
        "As you can see, you have printed the value milk, bread, eggs, butter from the list shopping that has the index 1,2,3 as the list begins from 0.\n",
        "\n",
        "3. Now, access the milk element and replace it with banana:"
      ]
    },
    {
      "cell_type": "code",
      "metadata": {
        "id": "zTcDH2mH_n7E",
        "outputId": "22ba6300-dcbd-4b61-9f73-d9dfdee90339",
        "colab": {
          "base_uri": "https://localhost:8080/"
        }
      },
      "source": [
        "shopping[1] = \"banana\"\n",
        "print(shopping)"
      ],
      "execution_count": 2,
      "outputs": [
        {
          "output_type": "stream",
          "text": [
            "['milk', 'banana', 'eggs', 'butter']\n"
          ],
          "name": "stdout"
        }
      ]
    },
    {
      "cell_type": "markdown",
      "metadata": {
        "id": "xTJFXCQ4_-B2"
      },
      "source": [
        "4. Type the following code in a new cell and observe the output:"
      ]
    },
    {
      "cell_type": "code",
      "metadata": {
        "id": "YaZYULBcAK71",
        "outputId": "84bc8603-9a20-41d4-9856-af2e03b6ba0e",
        "colab": {
          "base_uri": "https://localhost:8080/"
        }
      },
      "source": [
        "print(shopping[-1])"
      ],
      "execution_count": 3,
      "outputs": [
        {
          "output_type": "stream",
          "text": [
            "butter\n"
          ],
          "name": "stdout"
        }
      ]
    },
    {
      "cell_type": "markdown",
      "metadata": {
        "id": "0-iqkhKzASMr"
      },
      "source": [
        "The output will print eggs—the last item.\n",
        "\n",
        "<font color=green> Note: In Python, a positive index counts forward, and a negative index counts backward. You use a negative index to access an element from the back.</font>\n",
        "\n",
        "What you have learned so far is more of a traditional way of accessing elements. Python lists also support powerful general indexing, called slicing. It uses the : notation in the format of list[i:j], where i is the starting element, and j is the last element (non-inclusive).\n",
        "\n",
        "5. Enter the following code to try out a different type of slicing:"
      ]
    },
    {
      "cell_type": "code",
      "metadata": {
        "id": "2gCo_yTAArHe",
        "outputId": "2e9a38f6-89e2-4c0f-d17a-c6fee9d20600",
        "colab": {
          "base_uri": "https://localhost:8080/"
        }
      },
      "source": [
        "print(shopping[0:2])"
      ],
      "execution_count": 4,
      "outputs": [
        {
          "output_type": "stream",
          "text": [
            "['milk', 'banana']\n"
          ],
          "name": "stdout"
        }
      ]
    },
    {
      "cell_type": "markdown",
      "metadata": {
        "id": "rmnbiJz7A7Cg"
      },
      "source": [
        "Now, to print from the beginning of the list to the third element:"
      ]
    },
    {
      "cell_type": "code",
      "metadata": {
        "id": "7N4mTR6UA84T",
        "outputId": "f26dfd5f-6a71-4302-ab4f-75b26054158a",
        "colab": {
          "base_uri": "https://localhost:8080/"
        }
      },
      "source": [
        "print(shopping[:3])"
      ],
      "execution_count": 5,
      "outputs": [
        {
          "output_type": "stream",
          "text": [
            "['milk', 'banana', 'eggs']\n"
          ],
          "name": "stdout"
        }
      ]
    },
    {
      "cell_type": "markdown",
      "metadata": {
        "id": "iCShDc2fBA_X"
      },
      "source": [
        "Similarly, to print from the second element of the list until the end:"
      ]
    },
    {
      "cell_type": "code",
      "metadata": {
        "id": "IPXFi_7DBF8Z",
        "outputId": "8bcbeecb-cb37-43db-c872-c655b6e0c59b",
        "colab": {
          "base_uri": "https://localhost:8080/"
        }
      },
      "source": [
        "print(shopping[1:])"
      ],
      "execution_count": 6,
      "outputs": [
        {
          "output_type": "stream",
          "text": [
            "['banana', 'eggs', 'butter']\n"
          ],
          "name": "stdout"
        }
      ]
    },
    {
      "cell_type": "markdown",
      "metadata": {
        "id": "kKpMGMI8BOjb"
      },
      "source": [
        "Having completed this exercise, you are now able to access items from a list in different ways."
      ]
    }
  ]
}