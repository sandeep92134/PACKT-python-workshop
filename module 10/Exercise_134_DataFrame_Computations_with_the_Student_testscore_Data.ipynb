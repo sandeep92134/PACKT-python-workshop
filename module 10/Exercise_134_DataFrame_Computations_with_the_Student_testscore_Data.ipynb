{
  "nbformat": 4,
  "nbformat_minor": 0,
  "metadata": {
    "colab": {
      "name": "Exercise 134: DataFrame Computations with the Student testscore Data",
      "provenance": [],
      "authorship_tag": "ABX9TyODmaV4hpotze3qBe7LDCvx",
      "include_colab_link": true
    },
    "kernelspec": {
      "name": "python3",
      "display_name": "Python 3"
    }
  },
  "cells": [
    {
      "cell_type": "markdown",
      "metadata": {
        "id": "view-in-github",
        "colab_type": "text"
      },
      "source": [
        "<a href=\"https://colab.research.google.com/github/sandeep92134/PACKT-python-workshop/blob/main/module%2010/Exercise_134_DataFrame_Computations_with_the_Student_testscore_Data.ipynb\" target=\"_parent\"><img src=\"https://colab.research.google.com/assets/colab-badge.svg\" alt=\"Open In Colab\"/></a>"
      ]
    },
    {
      "cell_type": "markdown",
      "metadata": {
        "id": "ng3x5HeFKsOj"
      },
      "source": [
        "In this exercise, you will rename the columns of the DataFrame, and you will then select the data to display as output from the DataFrame:\r\n",
        "\r\n",
        "1. Open a new Jupyter Notebook.\r\n",
        "2. Import **pandas** as **pd** and enter the student value, as shown in Exercise 133, Using DataFrames to Manipulate Stored Student test score Data. After this, convert it to a DataFrame and have it transposed:\r\n",
        "3. Now rename the columns to something more precise. You can use **.columns** on the DataFrame to rename the column names:\r\n",
        " \r\n",
        " Now, select a range of values from specific rows and columns. You will be using **.iloc** with the index number, which is a function present in a pandas DataFrame for selection using indices of rows and columns. This is shown in the following step:\r\n",
        "4. Select a range of rows:\r\n",
        " \r\n",
        " **.iloc** generally takes two parameters. When only one parameter is specified like in above snippet, it is interpreted as row index. Another way of doing the same is by providing both the indices. The first index represents the row index while the second index represents the column index.\r\n",
        " ```\r\n",
        " # Access first row by index number\r\n",
        " df.iloc[0,:]\r\n",
        " ```\r\n",
        "this syntax can be read as: from **df** dataframe select the row with index **0** and all the columns corresponding to that row. Here : as the column index represents all the columns.\r\n",
        "5. Now, select a column using its name, as shown in the following code snippet. You can access columns by putting the column name in quotes inside of brackets:\r\n",
        "6. Now, select a column using the dot (.) notation:"
      ]
    },
    {
      "cell_type": "code",
      "metadata": {
        "colab": {
          "base_uri": "https://localhost:8080/",
          "height": 142
        },
        "id": "oKs5jWkSJykT",
        "outputId": "88389820-e6eb-41da-ef7d-26a0e92ef854"
      },
      "source": [
        "import pandas as pd\r\n",
        "# Create dictionary of test scores\r\n",
        "test_dict = {'Corey':[63,75,88], 'Kevin':[48,98,92], 'Akshay': [87, 86, 85]}\r\n",
        "# Create DataFrame\r\n",
        "df = pd.DataFrame(test_dict)\r\n",
        "df.T"
      ],
      "execution_count": 1,
      "outputs": [
        {
          "output_type": "execute_result",
          "data": {
            "text/html": [
              "<div>\n",
              "<style scoped>\n",
              "    .dataframe tbody tr th:only-of-type {\n",
              "        vertical-align: middle;\n",
              "    }\n",
              "\n",
              "    .dataframe tbody tr th {\n",
              "        vertical-align: top;\n",
              "    }\n",
              "\n",
              "    .dataframe thead th {\n",
              "        text-align: right;\n",
              "    }\n",
              "</style>\n",
              "<table border=\"1\" class=\"dataframe\">\n",
              "  <thead>\n",
              "    <tr style=\"text-align: right;\">\n",
              "      <th></th>\n",
              "      <th>0</th>\n",
              "      <th>1</th>\n",
              "      <th>2</th>\n",
              "    </tr>\n",
              "  </thead>\n",
              "  <tbody>\n",
              "    <tr>\n",
              "      <th>Corey</th>\n",
              "      <td>63</td>\n",
              "      <td>75</td>\n",
              "      <td>88</td>\n",
              "    </tr>\n",
              "    <tr>\n",
              "      <th>Kevin</th>\n",
              "      <td>48</td>\n",
              "      <td>98</td>\n",
              "      <td>92</td>\n",
              "    </tr>\n",
              "    <tr>\n",
              "      <th>Akshay</th>\n",
              "      <td>87</td>\n",
              "      <td>86</td>\n",
              "      <td>85</td>\n",
              "    </tr>\n",
              "  </tbody>\n",
              "</table>\n",
              "</div>"
            ],
            "text/plain": [
              "         0   1   2\n",
              "Corey   63  75  88\n",
              "Kevin   48  98  92\n",
              "Akshay  87  86  85"
            ]
          },
          "metadata": {
            "tags": []
          },
          "execution_count": 1
        }
      ]
    },
    {
      "cell_type": "code",
      "metadata": {
        "colab": {
          "base_uri": "https://localhost:8080/",
          "height": 142
        },
        "id": "lIQulokPMq6H",
        "outputId": "32802e30-eaf6-41d6-f810-411a985f7da6"
      },
      "source": [
        "# Rename Columns\r\n",
        "df.columns = ['Quiz_1', 'Quiz_2', 'Quiz_3']\r\n",
        "df"
      ],
      "execution_count": 2,
      "outputs": [
        {
          "output_type": "execute_result",
          "data": {
            "text/html": [
              "<div>\n",
              "<style scoped>\n",
              "    .dataframe tbody tr th:only-of-type {\n",
              "        vertical-align: middle;\n",
              "    }\n",
              "\n",
              "    .dataframe tbody tr th {\n",
              "        vertical-align: top;\n",
              "    }\n",
              "\n",
              "    .dataframe thead th {\n",
              "        text-align: right;\n",
              "    }\n",
              "</style>\n",
              "<table border=\"1\" class=\"dataframe\">\n",
              "  <thead>\n",
              "    <tr style=\"text-align: right;\">\n",
              "      <th></th>\n",
              "      <th>Quiz_1</th>\n",
              "      <th>Quiz_2</th>\n",
              "      <th>Quiz_3</th>\n",
              "    </tr>\n",
              "  </thead>\n",
              "  <tbody>\n",
              "    <tr>\n",
              "      <th>0</th>\n",
              "      <td>63</td>\n",
              "      <td>48</td>\n",
              "      <td>87</td>\n",
              "    </tr>\n",
              "    <tr>\n",
              "      <th>1</th>\n",
              "      <td>75</td>\n",
              "      <td>98</td>\n",
              "      <td>86</td>\n",
              "    </tr>\n",
              "    <tr>\n",
              "      <th>2</th>\n",
              "      <td>88</td>\n",
              "      <td>92</td>\n",
              "      <td>85</td>\n",
              "    </tr>\n",
              "  </tbody>\n",
              "</table>\n",
              "</div>"
            ],
            "text/plain": [
              "   Quiz_1  Quiz_2  Quiz_3\n",
              "0      63      48      87\n",
              "1      75      98      86\n",
              "2      88      92      85"
            ]
          },
          "metadata": {
            "tags": []
          },
          "execution_count": 2
        }
      ]
    },
    {
      "cell_type": "code",
      "metadata": {
        "colab": {
          "base_uri": "https://localhost:8080/"
        },
        "id": "iZEI8QaZMwGf",
        "outputId": "9726997f-4dea-470b-d56d-50dcf6e9262a"
      },
      "source": [
        "# Access first row by index number\r\n",
        "df.iloc[0]"
      ],
      "execution_count": 3,
      "outputs": [
        {
          "output_type": "execute_result",
          "data": {
            "text/plain": [
              "Quiz_1    63\n",
              "Quiz_2    48\n",
              "Quiz_3    87\n",
              "Name: 0, dtype: int64"
            ]
          },
          "metadata": {
            "tags": []
          },
          "execution_count": 3
        }
      ]
    },
    {
      "cell_type": "code",
      "metadata": {
        "colab": {
          "base_uri": "https://localhost:8080/"
        },
        "id": "CdH4C7PnPb0R",
        "outputId": "13654213-763e-48ba-b066-9f8a0d6ad345"
      },
      "source": [
        "# Access first row by index number\r\n",
        "df.iloc[0,:]"
      ],
      "execution_count": 4,
      "outputs": [
        {
          "output_type": "execute_result",
          "data": {
            "text/plain": [
              "Quiz_1    63\n",
              "Quiz_2    48\n",
              "Quiz_3    87\n",
              "Name: 0, dtype: int64"
            ]
          },
          "metadata": {
            "tags": []
          },
          "execution_count": 4
        }
      ]
    },
    {
      "cell_type": "code",
      "metadata": {
        "colab": {
          "base_uri": "https://localhost:8080/"
        },
        "id": "quVJRU9DPfRp",
        "outputId": "8fe7f94a-94c7-49a4-d89f-21b362684bbf"
      },
      "source": [
        "# Access first column by name\r\n",
        "df['Quiz_1']"
      ],
      "execution_count": 5,
      "outputs": [
        {
          "output_type": "execute_result",
          "data": {
            "text/plain": [
              "0    63\n",
              "1    75\n",
              "2    88\n",
              "Name: Quiz_1, dtype: int64"
            ]
          },
          "metadata": {
            "tags": []
          },
          "execution_count": 5
        }
      ]
    },
    {
      "cell_type": "code",
      "metadata": {
        "colab": {
          "base_uri": "https://localhost:8080/"
        },
        "id": "_bL2fzEKPmTK",
        "outputId": "c8c0f92a-c772-450f-86fc-88b798f9f770"
      },
      "source": [
        "# Access first column using dot notation\r\n",
        "df.Quiz_1"
      ],
      "execution_count": 7,
      "outputs": [
        {
          "output_type": "execute_result",
          "data": {
            "text/plain": [
              "0    63\n",
              "1    75\n",
              "2    88\n",
              "Name: Quiz_1, dtype: int64"
            ]
          },
          "metadata": {
            "tags": []
          },
          "execution_count": 7
        }
      ]
    },
    {
      "cell_type": "code",
      "metadata": {
        "colab": {
          "base_uri": "https://localhost:8080/"
        },
        "id": "-nJz9cqjPxjL",
        "outputId": "442544eb-e001-4c65-b5d4-a358478545d0"
      },
      "source": [
        "# Access first column by its index\r\n",
        "df.iloc[:, 0]"
      ],
      "execution_count": 8,
      "outputs": [
        {
          "output_type": "execute_result",
          "data": {
            "text/plain": [
              "0    63\n",
              "1    75\n",
              "2    88\n",
              "Name: Quiz_1, dtype: int64"
            ]
          },
          "metadata": {
            "tags": []
          },
          "execution_count": 8
        }
      ]
    }
  ]
}