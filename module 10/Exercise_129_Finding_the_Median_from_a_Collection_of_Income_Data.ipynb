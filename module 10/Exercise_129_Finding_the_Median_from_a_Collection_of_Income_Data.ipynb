{
  "nbformat": 4,
  "nbformat_minor": 0,
  "metadata": {
    "colab": {
      "name": "Exercise 129: Finding the Median from a Collection of Income Data",
      "provenance": [],
      "authorship_tag": "ABX9TyPgrdcJcy4Ys5UgqO5lSU2x",
      "include_colab_link": true
    },
    "kernelspec": {
      "name": "python3",
      "display_name": "Python 3"
    }
  },
  "cells": [
    {
      "cell_type": "markdown",
      "metadata": {
        "id": "view-in-github",
        "colab_type": "text"
      },
      "source": [
        "<a href=\"https://colab.research.google.com/github/sandeep92134/PACKT-python-workshop/blob/main/module%2010/Exercise_129_Finding_the_Median_from_a_Collection_of_Income_Data.ipynb\" target=\"_parent\"><img src=\"https://colab.research.google.com/assets/colab-badge.svg\" alt=\"Open In Colab\"/></a>"
      ]
    },
    {
      "cell_type": "markdown",
      "metadata": {
        "id": "CnfQusGyfugE"
      },
      "source": [
        "In this exercise, you will be finding the **median** from a collection of income data for a neighborhood and help a millionaire decide whether he should build his dream house in the neighborhood based on the income data. The median function here is a method of numpy.\r\n",
        "\r\n",
        "The following steps will enable you to complete the exercise:\r\n",
        "\r\n",
        "1. Open a new Jupyter Notebook.\r\n",
        "2. Firstly, you need to import the **numpy** package as **np**, then create a **numpy** array and assign various pieces of **income** data.\r\n",
        "3. Next, find the mean of the income data:\r\n",
        "\r\n",
        " So far, so good. **84000** is the mean **income** on your block. Now, say the millionaire decides to build his dream house on the vacant corner lot. He adds a salary of 12 million dollars.\r\n",
        "4. Append the value of 12 million dollars to the current array and find the new mean. For appending the new element 12000000 in the income array, we use the **append** method:\r\n",
        "\r\n",
        " The new average income is 1.7 million dollars. Okay. Nobody makes close to 1.7 million dollars on the block. It's not a representative average income of the whole area and will give an incorrect impression of income of the area. The mean of data is severely affected due to the addition of this outlier salary. This is where the median comes into play.\r\n",
        "5. Now to find the **median** function from the **income** values you have:\r\n",
        "\r\n",
        "This result says that half of the neighborhood residents make more than 88,000, and half of the blocks make less. This would give the millionaire a fair idea of the neighborhood. In this particular case, the median is a much better estimation of average income than the mean. It is clearly evident that unlike mean, it did not deviate due to the presence of the outlier income data from its general estimate.\r\n",
        "\r\n",
        "In the next section, you will be covering skewed data and outliers. "
      ]
    },
    {
      "cell_type": "code",
      "metadata": {
        "id": "4CUVDsNBdCKu",
        "colab": {
          "base_uri": "https://localhost:8080/"
        },
        "outputId": "4b203f8e-b062-4e6d-d013-a79fe2c707c1"
      },
      "source": [
        "import numpy as np\r\n",
        "income = np.array([75000, 55000, 88000, 125000, 64000, 97000])\r\n",
        "income.mean()"
      ],
      "execution_count": 1,
      "outputs": [
        {
          "output_type": "execute_result",
          "data": {
            "text/plain": [
              "84000.0"
            ]
          },
          "metadata": {
            "tags": []
          },
          "execution_count": 1
        }
      ]
    },
    {
      "cell_type": "code",
      "metadata": {
        "colab": {
          "base_uri": "https://localhost:8080/"
        },
        "id": "jJmW4V6elDJd",
        "outputId": "04aa6e1b-3f2f-452f-f55b-a551ddb8ec50"
      },
      "source": [
        "income = np.append(income, 12000000)\r\n",
        "income.mean()"
      ],
      "execution_count": 2,
      "outputs": [
        {
          "output_type": "execute_result",
          "data": {
            "text/plain": [
              "1786285.7142857143"
            ]
          },
          "metadata": {
            "tags": []
          },
          "execution_count": 2
        }
      ]
    },
    {
      "cell_type": "code",
      "metadata": {
        "colab": {
          "base_uri": "https://localhost:8080/"
        },
        "id": "22epYuJWlc1H",
        "outputId": "ddab8499-a2e7-4fb5-b60a-382daa49d058"
      },
      "source": [
        "np.median(income)"
      ],
      "execution_count": 3,
      "outputs": [
        {
          "output_type": "execute_result",
          "data": {
            "text/plain": [
              "88000.0"
            ]
          },
          "metadata": {
            "tags": []
          },
          "execution_count": 3
        }
      ]
    }
  ]
}