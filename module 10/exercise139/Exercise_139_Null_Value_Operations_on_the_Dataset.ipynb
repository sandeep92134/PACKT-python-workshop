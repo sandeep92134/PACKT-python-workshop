{
  "nbformat": 4,
  "nbformat_minor": 0,
  "metadata": {
    "colab": {
      "name": "Exercise 139: Null Value Operations on the Dataset",
      "provenance": [],
      "authorship_tag": "ABX9TyPdALfDEALszhOg/xFSG8OT",
      "include_colab_link": true
    },
    "kernelspec": {
      "name": "python3",
      "display_name": "Python 3"
    }
  },
  "cells": [
    {
      "cell_type": "markdown",
      "metadata": {
        "id": "view-in-github",
        "colab_type": "text"
      },
      "source": [
        "<a href=\"https://colab.research.google.com/github/sandeep92134/PACKT-python-workshop/blob/main/module%2010/exercise139/Exercise_139_Null_Value_Operations_on_the_Dataset.ipynb\" target=\"_parent\"><img src=\"https://colab.research.google.com/assets/colab-badge.svg\" alt=\"Open In Colab\"/></a>"
      ]
    },
    {
      "cell_type": "markdown",
      "metadata": {
        "id": "ng3x5HeFKsOj"
      },
      "source": [
        "In this exercise, you will perform a null value operation. You can only select the columns that have null values in our dataset:\r\n",
        "\r\n",
        "1. Open a new Jupyter Notebook and copy the dataset file within a separate folder where you will perform this exercise.\r\n",
        "2. Import **pandas** and choose a variable to store the **DataFrame** and place the **HousingData.csv** file:\r\n",
        "3. Now, find values and columns in the dataset with **null** values, as shown in the following code snippet:\r\n",
        " `housing_df.isnull().any()`\r\n",
        "\r\n",
        " The **.isnull()** method will display an entire **DataFrame** of **True/False** values depending on the **Null** value. Give it a try. The **.any()** method returns the individual columns. Take it a step further and choose the **DataFrame** with those columns.\r\n",
        "4. Now, using the DataFrame, find the null columns.\r\n",
        " \r\n",
        " You can use **.loc** to find the location of particular rows. You will select the first five rows and all of the columns that have null values, as shown in the following code snippet:\r\n",
        " \r\n",
        " `housing_df.loc[:5, housing_df.isnull().any()]` \r\n",
        "5. Use the **.describe()** method on the columns with null data of the dataset. The code mentioned ahead is a long piece of the code snippet. **housing_df** is the DataFrame. **.loc** allows you to specify rows and columns. : selects all rows. **housing_df.isnull().any()** selects only columns with null values. **.describe()** pulls up the statistics:\r\n",
        "  \r\n",
        "  `housing_df.loc[:, housing_df.isnull().any()].describe()`"
      ]
    },
    {
      "cell_type": "code",
      "metadata": {
        "colab": {
          "base_uri": "https://localhost:8080/"
        },
        "id": "VNmdbYp1mGWY",
        "outputId": "366f1769-3cd8-42fc-83bb-7023c910863c"
      },
      "source": [
        "import pandas as pd\r\n",
        "housing_df = pd.read_csv('HousingData.csv')\r\n",
        "housing_df.isnull().any()"
      ],
      "execution_count": 1,
      "outputs": [
        {
          "output_type": "execute_result",
          "data": {
            "text/plain": [
              "CRIM        True\n",
              "ZN          True\n",
              "INDUS       True\n",
              "CHAS        True\n",
              "NOX        False\n",
              "RM         False\n",
              "AGE         True\n",
              "DIS        False\n",
              "RAD        False\n",
              "TAX        False\n",
              "PTRATIO    False\n",
              "B          False\n",
              "LSTAT       True\n",
              "MEDV       False\n",
              "dtype: bool"
            ]
          },
          "metadata": {
            "tags": []
          },
          "execution_count": 1
        }
      ]
    },
    {
      "cell_type": "code",
      "metadata": {
        "colab": {
          "base_uri": "https://localhost:8080/",
          "height": 235
        },
        "id": "PCDO9Wu2mJb0",
        "outputId": "185f7821-00d6-4d58-eefa-e2ff7e6ccea0"
      },
      "source": [
        "housing_df.loc[:5, housing_df.isnull().any()]"
      ],
      "execution_count": 2,
      "outputs": [
        {
          "output_type": "execute_result",
          "data": {
            "text/html": [
              "<div>\n",
              "<style scoped>\n",
              "    .dataframe tbody tr th:only-of-type {\n",
              "        vertical-align: middle;\n",
              "    }\n",
              "\n",
              "    .dataframe tbody tr th {\n",
              "        vertical-align: top;\n",
              "    }\n",
              "\n",
              "    .dataframe thead th {\n",
              "        text-align: right;\n",
              "    }\n",
              "</style>\n",
              "<table border=\"1\" class=\"dataframe\">\n",
              "  <thead>\n",
              "    <tr style=\"text-align: right;\">\n",
              "      <th></th>\n",
              "      <th>CRIM</th>\n",
              "      <th>ZN</th>\n",
              "      <th>INDUS</th>\n",
              "      <th>CHAS</th>\n",
              "      <th>AGE</th>\n",
              "      <th>LSTAT</th>\n",
              "    </tr>\n",
              "  </thead>\n",
              "  <tbody>\n",
              "    <tr>\n",
              "      <th>0</th>\n",
              "      <td>0.00632</td>\n",
              "      <td>18.0</td>\n",
              "      <td>2.31</td>\n",
              "      <td>0.0</td>\n",
              "      <td>65.2</td>\n",
              "      <td>4.98</td>\n",
              "    </tr>\n",
              "    <tr>\n",
              "      <th>1</th>\n",
              "      <td>0.02731</td>\n",
              "      <td>0.0</td>\n",
              "      <td>7.07</td>\n",
              "      <td>0.0</td>\n",
              "      <td>78.9</td>\n",
              "      <td>9.14</td>\n",
              "    </tr>\n",
              "    <tr>\n",
              "      <th>2</th>\n",
              "      <td>0.02729</td>\n",
              "      <td>0.0</td>\n",
              "      <td>7.07</td>\n",
              "      <td>0.0</td>\n",
              "      <td>61.1</td>\n",
              "      <td>4.03</td>\n",
              "    </tr>\n",
              "    <tr>\n",
              "      <th>3</th>\n",
              "      <td>0.03237</td>\n",
              "      <td>0.0</td>\n",
              "      <td>2.18</td>\n",
              "      <td>0.0</td>\n",
              "      <td>45.8</td>\n",
              "      <td>2.94</td>\n",
              "    </tr>\n",
              "    <tr>\n",
              "      <th>4</th>\n",
              "      <td>0.06905</td>\n",
              "      <td>0.0</td>\n",
              "      <td>2.18</td>\n",
              "      <td>0.0</td>\n",
              "      <td>54.2</td>\n",
              "      <td>NaN</td>\n",
              "    </tr>\n",
              "    <tr>\n",
              "      <th>5</th>\n",
              "      <td>0.02985</td>\n",
              "      <td>0.0</td>\n",
              "      <td>2.18</td>\n",
              "      <td>0.0</td>\n",
              "      <td>58.7</td>\n",
              "      <td>5.21</td>\n",
              "    </tr>\n",
              "  </tbody>\n",
              "</table>\n",
              "</div>"
            ],
            "text/plain": [
              "      CRIM    ZN  INDUS  CHAS   AGE  LSTAT\n",
              "0  0.00632  18.0   2.31   0.0  65.2   4.98\n",
              "1  0.02731   0.0   7.07   0.0  78.9   9.14\n",
              "2  0.02729   0.0   7.07   0.0  61.1   4.03\n",
              "3  0.03237   0.0   2.18   0.0  45.8   2.94\n",
              "4  0.06905   0.0   2.18   0.0  54.2    NaN\n",
              "5  0.02985   0.0   2.18   0.0  58.7   5.21"
            ]
          },
          "metadata": {
            "tags": []
          },
          "execution_count": 2
        }
      ]
    },
    {
      "cell_type": "code",
      "metadata": {
        "colab": {
          "base_uri": "https://localhost:8080/",
          "height": 297
        },
        "id": "zXQMcFiKqglv",
        "outputId": "c63ae9c3-94d3-44c0-d5fa-5e486562b31c"
      },
      "source": [
        "housing_df.loc[:, housing_df.isnull().any()].describe()"
      ],
      "execution_count": 3,
      "outputs": [
        {
          "output_type": "execute_result",
          "data": {
            "text/html": [
              "<div>\n",
              "<style scoped>\n",
              "    .dataframe tbody tr th:only-of-type {\n",
              "        vertical-align: middle;\n",
              "    }\n",
              "\n",
              "    .dataframe tbody tr th {\n",
              "        vertical-align: top;\n",
              "    }\n",
              "\n",
              "    .dataframe thead th {\n",
              "        text-align: right;\n",
              "    }\n",
              "</style>\n",
              "<table border=\"1\" class=\"dataframe\">\n",
              "  <thead>\n",
              "    <tr style=\"text-align: right;\">\n",
              "      <th></th>\n",
              "      <th>CRIM</th>\n",
              "      <th>ZN</th>\n",
              "      <th>INDUS</th>\n",
              "      <th>CHAS</th>\n",
              "      <th>AGE</th>\n",
              "      <th>LSTAT</th>\n",
              "    </tr>\n",
              "  </thead>\n",
              "  <tbody>\n",
              "    <tr>\n",
              "      <th>count</th>\n",
              "      <td>486.000000</td>\n",
              "      <td>486.000000</td>\n",
              "      <td>486.000000</td>\n",
              "      <td>486.000000</td>\n",
              "      <td>486.000000</td>\n",
              "      <td>486.000000</td>\n",
              "    </tr>\n",
              "    <tr>\n",
              "      <th>mean</th>\n",
              "      <td>3.611874</td>\n",
              "      <td>11.211934</td>\n",
              "      <td>11.083992</td>\n",
              "      <td>0.069959</td>\n",
              "      <td>68.518519</td>\n",
              "      <td>12.715432</td>\n",
              "    </tr>\n",
              "    <tr>\n",
              "      <th>std</th>\n",
              "      <td>8.720192</td>\n",
              "      <td>23.388876</td>\n",
              "      <td>6.835896</td>\n",
              "      <td>0.255340</td>\n",
              "      <td>27.999513</td>\n",
              "      <td>7.155871</td>\n",
              "    </tr>\n",
              "    <tr>\n",
              "      <th>min</th>\n",
              "      <td>0.006320</td>\n",
              "      <td>0.000000</td>\n",
              "      <td>0.460000</td>\n",
              "      <td>0.000000</td>\n",
              "      <td>2.900000</td>\n",
              "      <td>1.730000</td>\n",
              "    </tr>\n",
              "    <tr>\n",
              "      <th>25%</th>\n",
              "      <td>0.081900</td>\n",
              "      <td>0.000000</td>\n",
              "      <td>5.190000</td>\n",
              "      <td>0.000000</td>\n",
              "      <td>45.175000</td>\n",
              "      <td>7.125000</td>\n",
              "    </tr>\n",
              "    <tr>\n",
              "      <th>50%</th>\n",
              "      <td>0.253715</td>\n",
              "      <td>0.000000</td>\n",
              "      <td>9.690000</td>\n",
              "      <td>0.000000</td>\n",
              "      <td>76.800000</td>\n",
              "      <td>11.430000</td>\n",
              "    </tr>\n",
              "    <tr>\n",
              "      <th>75%</th>\n",
              "      <td>3.560262</td>\n",
              "      <td>12.500000</td>\n",
              "      <td>18.100000</td>\n",
              "      <td>0.000000</td>\n",
              "      <td>93.975000</td>\n",
              "      <td>16.955000</td>\n",
              "    </tr>\n",
              "    <tr>\n",
              "      <th>max</th>\n",
              "      <td>88.976200</td>\n",
              "      <td>100.000000</td>\n",
              "      <td>27.740000</td>\n",
              "      <td>1.000000</td>\n",
              "      <td>100.000000</td>\n",
              "      <td>37.970000</td>\n",
              "    </tr>\n",
              "  </tbody>\n",
              "</table>\n",
              "</div>"
            ],
            "text/plain": [
              "             CRIM          ZN       INDUS        CHAS         AGE       LSTAT\n",
              "count  486.000000  486.000000  486.000000  486.000000  486.000000  486.000000\n",
              "mean     3.611874   11.211934   11.083992    0.069959   68.518519   12.715432\n",
              "std      8.720192   23.388876    6.835896    0.255340   27.999513    7.155871\n",
              "min      0.006320    0.000000    0.460000    0.000000    2.900000    1.730000\n",
              "25%      0.081900    0.000000    5.190000    0.000000   45.175000    7.125000\n",
              "50%      0.253715    0.000000    9.690000    0.000000   76.800000   11.430000\n",
              "75%      3.560262   12.500000   18.100000    0.000000   93.975000   16.955000\n",
              "max     88.976200  100.000000   27.740000    1.000000  100.000000   37.970000"
            ]
          },
          "metadata": {
            "tags": []
          },
          "execution_count": 3
        }
      ]
    }
  ]
}