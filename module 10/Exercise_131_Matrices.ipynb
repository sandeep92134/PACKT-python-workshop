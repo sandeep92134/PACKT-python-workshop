{
  "nbformat": 4,
  "nbformat_minor": 0,
  "metadata": {
    "colab": {
      "name": "Exercise 131: Matrices",
      "provenance": [],
      "authorship_tag": "ABX9TyMXOq4jSrU51+zrP4bO5GF2",
      "include_colab_link": true
    },
    "kernelspec": {
      "name": "python3",
      "display_name": "Python 3"
    }
  },
  "cells": [
    {
      "cell_type": "markdown",
      "metadata": {
        "id": "view-in-github",
        "colab_type": "text"
      },
      "source": [
        "<a href=\"https://colab.research.google.com/github/sandeep92134/PACKT-python-workshop/blob/main/module%2010/Exercise_131_Matrices.ipynb\" target=\"_parent\"><img src=\"https://colab.research.google.com/assets/colab-badge.svg\" alt=\"Open In Colab\"/></a>"
      ]
    },
    {
      "cell_type": "code",
      "metadata": {
        "id": "vOH6OqDeqMb4"
      },
      "source": [
        ""
      ],
      "execution_count": null,
      "outputs": []
    },
    {
      "cell_type": "markdown",
      "metadata": {
        "id": "fSqutWwEq7dt"
      },
      "source": [
        "NumPy has methods for creating matrices or n-dimensional arrays. One option is to place random numbers between 0 and 1 into each entry, as follows.\r\n",
        "\r\n",
        "In this exercise, you will implement the various **numpy** matrix methods and observe the outputs (recall that **random.seed** will allow us to reproduce the same numbers, and it's okay if you want to generate your own).\r\n",
        "\r\n",
        "The following steps will enable you to complete the exercise:\r\n",
        "\r\n",
        "1. Begin with a new Jupyter Notebook.\r\n",
        "2. Now, generate a random 5 x 5 matrix, as shown in the following code snippet:\r\n",
        "\r\n",
        " In the preceding code, you have used **random.seed**. You just invoke **random.seed(seed=60)**, and whenever you run the script, you will get the same sequence of values. This is very similar to the DataFrames that you will be dealing with for the rest of this book. You can go through some code to obtain particular rows, columns, and entries\r\n",
        "3. Now, find the rows and columns of the matrix that is generated.\r\n",
        " \r\n",
        " In general, if you omit the columns from the matrix **[row, column]**, **numpy** will select them all.\r\n",
        "\r\n",
        " Note, you can equivalently write the preceding code as:\r\n",
        "\r\n",
        " Now, to find the values of all the rows, and the first column of the matrix.\r\n",
        "4. Now find individual entries by specifying the value of the matrix **[row, column]**, as shown in the following code snippet: \r\n",
        " \r\n",
        " Here is the **first** entry using another way:\r\n",
        "\r\n",
        " Entry in third row, fourth column:\r\n",
        "\r\n",
        " Now, to find the mean values of the matrix, you will find the mean of the entire matrix, individual rows, and columns using the **random_square.mean()** method, as shown in the following code snippet. Here is the **mean** entry of the matrix:\r\n",
        "\r\n",
        " Here is the **mean** entry of the first row:\r\n",
        "\r\n",
        " Here is the **mean** entry of the last column:"
      ]
    },
    {
      "cell_type": "code",
      "metadata": {
        "colab": {
          "base_uri": "https://localhost:8080/"
        },
        "id": "pOJuo6_DtCh_",
        "outputId": "cef5de08-fb5f-417a-f1f4-ada8774ed1bb"
      },
      "source": [
        "import numpy as np\r\n",
        "np.random.seed(seed=60)\r\n",
        "random_square = np.random.rand(5,5)\r\n",
        "random_square"
      ],
      "execution_count": 1,
      "outputs": [
        {
          "output_type": "execute_result",
          "data": {
            "text/plain": [
              "array([[0.30087333, 0.18694582, 0.32318268, 0.66574957, 0.5669708 ],\n",
              "       [0.39825396, 0.37941492, 0.01058154, 0.1703656 , 0.12339337],\n",
              "       [0.69240128, 0.87444156, 0.3373969 , 0.99245923, 0.13154007],\n",
              "       [0.50032984, 0.28662051, 0.22058485, 0.50208555, 0.63606254],\n",
              "       [0.63567694, 0.08043309, 0.58143375, 0.83919086, 0.29301825]])"
            ]
          },
          "metadata": {
            "tags": []
          },
          "execution_count": 1
        }
      ]
    },
    {
      "cell_type": "code",
      "metadata": {
        "colab": {
          "base_uri": "https://localhost:8080/"
        },
        "id": "7AAjOk8BtGax",
        "outputId": "45e13135-fd9a-4fca-f035-65b64cb3f991"
      },
      "source": [
        "# First row\r\n",
        "random_square[0]"
      ],
      "execution_count": 2,
      "outputs": [
        {
          "output_type": "execute_result",
          "data": {
            "text/plain": [
              "array([0.30087333, 0.18694582, 0.32318268, 0.66574957, 0.5669708 ])"
            ]
          },
          "metadata": {
            "tags": []
          },
          "execution_count": 2
        }
      ]
    },
    {
      "cell_type": "code",
      "metadata": {
        "colab": {
          "base_uri": "https://localhost:8080/"
        },
        "id": "bUXjUrbutMZn",
        "outputId": "9b4d9ef7-66d8-471c-f93d-d73ff9e1e570"
      },
      "source": [
        "# First row\r\n",
        "random_square[0,:]"
      ],
      "execution_count": 3,
      "outputs": [
        {
          "output_type": "execute_result",
          "data": {
            "text/plain": [
              "array([0.30087333, 0.18694582, 0.32318268, 0.66574957, 0.5669708 ])"
            ]
          },
          "metadata": {
            "tags": []
          },
          "execution_count": 3
        }
      ]
    },
    {
      "cell_type": "code",
      "metadata": {
        "colab": {
          "base_uri": "https://localhost:8080/"
        },
        "id": "E-y-Fi5ltStb",
        "outputId": "0256ee81-9a46-464d-d2d4-2cd2cab80472"
      },
      "source": [
        "# First column\r\n",
        "random_square[:,0]"
      ],
      "execution_count": 4,
      "outputs": [
        {
          "output_type": "execute_result",
          "data": {
            "text/plain": [
              "array([0.30087333, 0.39825396, 0.69240128, 0.50032984, 0.63567694])"
            ]
          },
          "metadata": {
            "tags": []
          },
          "execution_count": 4
        }
      ]
    },
    {
      "cell_type": "code",
      "metadata": {
        "colab": {
          "base_uri": "https://localhost:8080/"
        },
        "id": "C8wY0jK3tXbV",
        "outputId": "179f77c4-900e-4d99-e5f9-22863dda83d8"
      },
      "source": [
        "# First entry\r\n",
        "random_square[0,0]"
      ],
      "execution_count": 5,
      "outputs": [
        {
          "output_type": "execute_result",
          "data": {
            "text/plain": [
              "0.30087333004661876"
            ]
          },
          "metadata": {
            "tags": []
          },
          "execution_count": 5
        }
      ]
    },
    {
      "cell_type": "code",
      "metadata": {
        "colab": {
          "base_uri": "https://localhost:8080/"
        },
        "id": "1ef9xbRmtcKb",
        "outputId": "cec70265-27b5-438a-91eb-30a02e090011"
      },
      "source": [
        "# First entry using another way\r\n",
        "random_square[0][0]\r\n"
      ],
      "execution_count": 6,
      "outputs": [
        {
          "output_type": "execute_result",
          "data": {
            "text/plain": [
              "0.30087333004661876"
            ]
          },
          "metadata": {
            "tags": []
          },
          "execution_count": 6
        }
      ]
    },
    {
      "cell_type": "code",
      "metadata": {
        "colab": {
          "base_uri": "https://localhost:8080/"
        },
        "id": "ftLNZ2SFtiFt",
        "outputId": "c000b96f-1476-421a-f151-5d07bc149e00"
      },
      "source": [
        "random_square[2,3]\r\n"
      ],
      "execution_count": 7,
      "outputs": [
        {
          "output_type": "execute_result",
          "data": {
            "text/plain": [
              "0.9924592256795676"
            ]
          },
          "metadata": {
            "tags": []
          },
          "execution_count": 7
        }
      ]
    },
    {
      "cell_type": "code",
      "metadata": {
        "colab": {
          "base_uri": "https://localhost:8080/"
        },
        "id": "A1xH-0Wrtr1d",
        "outputId": "6d101697-5062-4d77-b7ca-e4f4ee977201"
      },
      "source": [
        "# Mean entry of matrix\r\n",
        "random_square.mean()\r\n"
      ],
      "execution_count": 8,
      "outputs": [
        {
          "output_type": "execute_result",
          "data": {
            "text/plain": [
              "0.42917627159618377"
            ]
          },
          "metadata": {
            "tags": []
          },
          "execution_count": 8
        }
      ]
    },
    {
      "cell_type": "code",
      "metadata": {
        "colab": {
          "base_uri": "https://localhost:8080/"
        },
        "id": "kWWgOnhftvil",
        "outputId": "917709a0-010d-42bd-923e-d14c29c1b595"
      },
      "source": [
        "# Mean entry of first row\r\n",
        "random_square[0].mean()"
      ],
      "execution_count": 9,
      "outputs": [
        {
          "output_type": "execute_result",
          "data": {
            "text/plain": [
              "0.4087444389228477"
            ]
          },
          "metadata": {
            "tags": []
          },
          "execution_count": 9
        }
      ]
    },
    {
      "cell_type": "code",
      "metadata": {
        "colab": {
          "base_uri": "https://localhost:8080/"
        },
        "id": "95EHJqZjt08i",
        "outputId": "7123ea43-63f1-47b2-9394-0384dc31d8df"
      },
      "source": [
        "# Mean entry of last column\r\n",
        "random_square[:,-1].mean()"
      ],
      "execution_count": 10,
      "outputs": [
        {
          "output_type": "execute_result",
          "data": {
            "text/plain": [
              "0.35019700684996913"
            ]
          },
          "metadata": {
            "tags": []
          },
          "execution_count": 10
        }
      ]
    }
  ]
}