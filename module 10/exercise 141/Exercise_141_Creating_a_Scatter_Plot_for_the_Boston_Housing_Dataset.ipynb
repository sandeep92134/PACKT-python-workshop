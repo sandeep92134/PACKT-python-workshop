{
  "nbformat": 4,
  "nbformat_minor": 0,
  "metadata": {
    "colab": {
      "name": "Exercise 141: Creating a Scatter Plot for the Boston Housing Dataset",
      "provenance": [],
      "authorship_tag": "ABX9TyM4wuHqUsVUwMzdBGM5Perp",
      "include_colab_link": true
    },
    "kernelspec": {
      "name": "python3",
      "display_name": "Python 3"
    }
  },
  "cells": [
    {
      "cell_type": "markdown",
      "metadata": {
        "id": "view-in-github",
        "colab_type": "text"
      },
      "source": [
        "<a href=\"https://colab.research.google.com/github/sandeep92134/PACKT-python-workshop/blob/main/module%2010/exercise%20141/Exercise_141_Creating_a_Scatter_Plot_for_the_Boston_Housing_Dataset.ipynb\" target=\"_parent\"><img src=\"https://colab.research.google.com/assets/colab-badge.svg\" alt=\"Open In Colab\"/></a>"
      ]
    },
    {
      "cell_type": "markdown",
      "metadata": {
        "id": "eyXkwrckFroC"
      },
      "source": [
        "In this exercise, you will create a scatter plot for our Boston housing dataset.\r\n",
        "\r\n",
        "The following steps will enable you to complete the exercise:\r\n",
        "\r\n",
        "1. Open a new Jupyter Notebook and copy the dataset file into a separate folder where you will perform this exercise.\r\n",
        "2. Import **pandas** as pd and choose a variable, **housing_df**, to store the **DataFrame** after reading the **HousingData** csv file.:\r\n",
        " ```\r\n",
        " import pandas as pd\r\n",
        " housing_df = pd.read_csv('HousingData.csv')\r\n",
        " ```\r\n",
        "3. Next, you need to import **matplotlib** as **plt**, as shown here:\r\n",
        "```\r\n",
        " import matplotlib.pyplot as plt\r\n",
        " %matplotlib inline\r\n",
        " ```\r\n",
        "4. Now you need to plot the scatter plot data, as shown in the following code snippet:\r\n",
        " ```\r\n",
        " x = housing_df['RM']\r\n",
        " y = housing_df['MEDV']\r\n",
        " plt.scatter(x, y) \r\n",
        " plt.show()\r\n",
        " ```\r\n",
        "\r\n",
        "There is a definite positive association. This means that as the x value goes up, the y value goes up.\r\n",
        "\r\n",
        "In statistics, there is a particular concept to determine association; it's called **correlation**.\r\n",
        "\r\n",
        "\r\n",
        "\r\n"
      ]
    },
    {
      "cell_type": "code",
      "metadata": {
        "id": "p0dGdv4FESaV"
      },
      "source": [
        "import pandas as pd\r\n",
        "housing_df = pd.read_csv('HousingData.csv')"
      ],
      "execution_count": 1,
      "outputs": []
    },
    {
      "cell_type": "code",
      "metadata": {
        "id": "kUcSdwRcIC7Q"
      },
      "source": [
        "import matplotlib.pyplot as plt\r\n",
        "%matplotlib inline"
      ],
      "execution_count": 3,
      "outputs": []
    },
    {
      "cell_type": "code",
      "metadata": {
        "colab": {
          "base_uri": "https://localhost:8080/",
          "height": 265
        },
        "id": "kMJT85IHLYdI",
        "outputId": "f4b10d70-f7b9-424d-9b7a-c524e6a32389"
      },
      "source": [
        "x = housing_df['RM']\r\n",
        "y = housing_df['MEDV']\r\n",
        "plt.scatter(x, y)\r\n",
        "plt.show()"
      ],
      "execution_count": 4,
      "outputs": [
        {
          "output_type": "display_data",
          "data": {
            "image/png": "[encoded data removed]",
            "text/plain": [
              "<Figure size 432x288 with 1 Axes>"
            ]
          },
          "metadata": {
            "tags": [],
            "needs_background": "light"
          }
        }
      ]
    }
  ]
}