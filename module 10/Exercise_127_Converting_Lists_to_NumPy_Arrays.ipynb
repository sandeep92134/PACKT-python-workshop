{
  "nbformat": 4,
  "nbformat_minor": 0,
  "metadata": {
    "colab": {
      "name": "Exercise 127: Converting Lists to NumPy Arrays",
      "provenance": [],
      "authorship_tag": "ABX9TyO8epGDwpM7OFxTkXZp8Yj2",
      "include_colab_link": true
    },
    "kernelspec": {
      "name": "python3",
      "display_name": "Python 3"
    }
  },
  "cells": [
    {
      "cell_type": "markdown",
      "metadata": {
        "id": "view-in-github",
        "colab_type": "text"
      },
      "source": [
        "<a href=\"https://colab.research.google.com/github/sandeep92134/PACKT-python-workshop/blob/main/module%2010/Exercise_127_Converting_Lists_to_NumPy_Arrays.ipynb\" target=\"_parent\"><img src=\"https://colab.research.google.com/assets/colab-badge.svg\" alt=\"Open In Colab\"/></a>"
      ]
    },
    {
      "cell_type": "markdown",
      "metadata": {
        "id": "CnfQusGyfugE"
      },
      "source": [
        "In this exercise, you will convert a list to a **numpy** array. The following steps will enable you to complete the exercise:\r\n",
        "\r\n",
        "1. Open a new Jupyter Notebook.\r\n",
        "2. Firstly, you need to import **numpy**:\r\n",
        "3. Now, you'll create a list for **test_scores** and confirm the type of data:\r\n",
        "4. Now, you will convert the list of marks to a **numpy** array and check the **type** of the array. Enter the code in the following code snippet:\r\n",
        "\r\n",
        "In this exercise, you were able to convert a list of test score marks to a NumPy array. You will find the mean using these values within the NumPy array in Exercise 128, Calculating the Mean of the Test Score.\r\n",
        "\r\n",
        "One of the most common statistical measures is the mean. Traditionally thought of as the average, the mean of a list is the sum of each entry divided by the number of entries. In NumPy, the mean may be computed using the **.mean** method."
      ]
    },
    {
      "cell_type": "code",
      "metadata": {
        "id": "4CUVDsNBdCKu"
      },
      "source": [
        "import numpy as np"
      ],
      "execution_count": 1,
      "outputs": []
    },
    {
      "cell_type": "code",
      "metadata": {
        "colab": {
          "base_uri": "https://localhost:8080/"
        },
        "id": "34eO1DQugpeM",
        "outputId": "d91b6330-3e44-40ea-d363-d5fe42dfe72b"
      },
      "source": [
        "test_score = [70,65,95,88]\r\n",
        "type(test_score)"
      ],
      "execution_count": 2,
      "outputs": [
        {
          "output_type": "execute_result",
          "data": {
            "text/plain": [
              "list"
            ]
          },
          "metadata": {
            "tags": []
          },
          "execution_count": 2
        }
      ]
    },
    {
      "cell_type": "code",
      "metadata": {
        "colab": {
          "base_uri": "https://localhost:8080/"
        },
        "id": "hvGkqazVhGbD",
        "outputId": "767746c5-87fe-4cba-cb3c-57c4a5bd5f90"
      },
      "source": [
        "score = np.array(test_score)\r\n",
        "type(score)"
      ],
      "execution_count": 3,
      "outputs": [
        {
          "output_type": "execute_result",
          "data": {
            "text/plain": [
              "numpy.ndarray"
            ]
          },
          "metadata": {
            "tags": []
          },
          "execution_count": 3
        }
      ]
    }
  ]
}