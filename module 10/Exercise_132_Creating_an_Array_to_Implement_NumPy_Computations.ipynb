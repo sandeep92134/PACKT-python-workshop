{
  "nbformat": 4,
  "nbformat_minor": 0,
  "metadata": {
    "colab": {
      "name": "Exercise 132: Creating an Array to Implement NumPy Computations",
      "provenance": [],
      "authorship_tag": "ABX9TyOWDK9WZwNECjwW/toriFv8",
      "include_colab_link": true
    },
    "kernelspec": {
      "name": "python3",
      "display_name": "Python 3"
    }
  },
  "cells": [
    {
      "cell_type": "markdown",
      "metadata": {
        "id": "view-in-github",
        "colab_type": "text"
      },
      "source": [
        "<a href=\"https://colab.research.google.com/github/sandeep92134/PACKT-python-workshop/blob/main/module%2010/Exercise_132_Creating_an_Array_to_Implement_NumPy_Computations.ipynb\" target=\"_parent\"><img src=\"https://colab.research.google.com/assets/colab-badge.svg\" alt=\"Open In Colab\"/></a>"
      ]
    },
    {
      "cell_type": "markdown",
      "metadata": {
        "id": "Q_W9h9x7w8ZS"
      },
      "source": [
        "In this exercise, you will generate a new matrix and perform mathematical operations on it, which will be covered later in this exercise. Unlike with traditional lists, NumPy arrays allow each member of the list to be manipulated with ease. The following steps will enable you to complete the exercise:\r\n",
        "\r\n",
        "1. Open a new Jupyter Notebook.\r\n",
        "2. Now import **numpy** and create **ndarray** between **1** and **100**. Similar to the **range** function, **np.arange** creates a numpy array of numbers starting from the first number to the second number with the third number as increment with 1, in case not specified explicitly in the function.\r\n",
        "3. Reshape the array to **20** rows and 5 columns using the **reshape** function. The first argument in **reshape** represents the number of rows while the second argument represent the number of columns. It should be noted that the product of the number of rows and the number of columns inside the **reshape** function should be equal to the number of elements in the numpy array.\r\n",
        "4. Now, define **mat1** as a **20 x 5** array between **1** and **100** and then subtract **50** from **mat1**, as shown in the following code snippet:\r\n",
        "5. Now, multiply **mat1** by **10**:\r\n",
        "6. Add **mat1** to itself, as mentioned in the following code snippet:\r\n",
        "7. Now you will multiply each entry in **mat1** by itself. This operation is called squaring the matrix:\r\n",
        "8. Now, take the dot product of **mat1** and **mat1.T**. Note that for the **np.dot** for 2 one-dimensional arrays (vectors) gives the sum of product of their respective elements. However when two dimensional arrays are used, **np.dot** gives matrix multiplication.\r\n",
        "\r\n",
        "In this exercise, you computed and added in values to an array, after which you implemented different NumPy computations.\r\n",
        "\r\n",
        "When it comes to data analysis, NumPy will make your life tremendously easier. The ease with which NumPy arrays may be combined, manipulated, and used to compute standard statistical measures like the mean, median, and standard deviation make them far superior to Python lists. They also handle big data so exceptionally well, it's hard to imagine the world of data science without them.\r\n",
        "\r\n",
        "In the next section, you will be covering pandas, which is another library available in Python to make the life of a Python developer much easier."
      ]
    },
    {
      "cell_type": "code",
      "metadata": {
        "colab": {
          "base_uri": "https://localhost:8080/"
        },
        "id": "DaiEwbj8uMTf",
        "outputId": "36af100a-6060-4e13-8841-d1dc9cbff0cd"
      },
      "source": [
        "import numpy as np\r\n",
        "np.arange(1, 101)"
      ],
      "execution_count": 1,
      "outputs": [
        {
          "output_type": "execute_result",
          "data": {
            "text/plain": [
              "array([  1,   2,   3,   4,   5,   6,   7,   8,   9,  10,  11,  12,  13,\n",
              "        14,  15,  16,  17,  18,  19,  20,  21,  22,  23,  24,  25,  26,\n",
              "        27,  28,  29,  30,  31,  32,  33,  34,  35,  36,  37,  38,  39,\n",
              "        40,  41,  42,  43,  44,  45,  46,  47,  48,  49,  50,  51,  52,\n",
              "        53,  54,  55,  56,  57,  58,  59,  60,  61,  62,  63,  64,  65,\n",
              "        66,  67,  68,  69,  70,  71,  72,  73,  74,  75,  76,  77,  78,\n",
              "        79,  80,  81,  82,  83,  84,  85,  86,  87,  88,  89,  90,  91,\n",
              "        92,  93,  94,  95,  96,  97,  98,  99, 100])"
            ]
          },
          "metadata": {
            "tags": []
          },
          "execution_count": 1
        }
      ]
    },
    {
      "cell_type": "code",
      "metadata": {
        "colab": {
          "base_uri": "https://localhost:8080/"
        },
        "id": "EIt68qA5v7Q7",
        "outputId": "47146fc8-91ee-4ed1-bb4c-3494a41c3842"
      },
      "source": [
        "np.arange(1, 101).reshape(20,5)"
      ],
      "execution_count": 2,
      "outputs": [
        {
          "output_type": "execute_result",
          "data": {
            "text/plain": [
              "array([[  1,   2,   3,   4,   5],\n",
              "       [  6,   7,   8,   9,  10],\n",
              "       [ 11,  12,  13,  14,  15],\n",
              "       [ 16,  17,  18,  19,  20],\n",
              "       [ 21,  22,  23,  24,  25],\n",
              "       [ 26,  27,  28,  29,  30],\n",
              "       [ 31,  32,  33,  34,  35],\n",
              "       [ 36,  37,  38,  39,  40],\n",
              "       [ 41,  42,  43,  44,  45],\n",
              "       [ 46,  47,  48,  49,  50],\n",
              "       [ 51,  52,  53,  54,  55],\n",
              "       [ 56,  57,  58,  59,  60],\n",
              "       [ 61,  62,  63,  64,  65],\n",
              "       [ 66,  67,  68,  69,  70],\n",
              "       [ 71,  72,  73,  74,  75],\n",
              "       [ 76,  77,  78,  79,  80],\n",
              "       [ 81,  82,  83,  84,  85],\n",
              "       [ 86,  87,  88,  89,  90],\n",
              "       [ 91,  92,  93,  94,  95],\n",
              "       [ 96,  97,  98,  99, 100]])"
            ]
          },
          "metadata": {
            "tags": []
          },
          "execution_count": 2
        }
      ]
    },
    {
      "cell_type": "code",
      "metadata": {
        "colab": {
          "base_uri": "https://localhost:8080/"
        },
        "id": "QHHiik_awAM1",
        "outputId": "5737548b-2b25-46a4-acc5-28a97a34ff83"
      },
      "source": [
        "mat1 = np.arange(1, 101).reshape(20,5)\r\n",
        "mat1 - 50"
      ],
      "execution_count": 3,
      "outputs": [
        {
          "output_type": "execute_result",
          "data": {
            "text/plain": [
              "array([[-49, -48, -47, -46, -45],\n",
              "       [-44, -43, -42, -41, -40],\n",
              "       [-39, -38, -37, -36, -35],\n",
              "       [-34, -33, -32, -31, -30],\n",
              "       [-29, -28, -27, -26, -25],\n",
              "       [-24, -23, -22, -21, -20],\n",
              "       [-19, -18, -17, -16, -15],\n",
              "       [-14, -13, -12, -11, -10],\n",
              "       [ -9,  -8,  -7,  -6,  -5],\n",
              "       [ -4,  -3,  -2,  -1,   0],\n",
              "       [  1,   2,   3,   4,   5],\n",
              "       [  6,   7,   8,   9,  10],\n",
              "       [ 11,  12,  13,  14,  15],\n",
              "       [ 16,  17,  18,  19,  20],\n",
              "       [ 21,  22,  23,  24,  25],\n",
              "       [ 26,  27,  28,  29,  30],\n",
              "       [ 31,  32,  33,  34,  35],\n",
              "       [ 36,  37,  38,  39,  40],\n",
              "       [ 41,  42,  43,  44,  45],\n",
              "       [ 46,  47,  48,  49,  50]])"
            ]
          },
          "metadata": {
            "tags": []
          },
          "execution_count": 3
        }
      ]
    },
    {
      "cell_type": "code",
      "metadata": {
        "colab": {
          "base_uri": "https://localhost:8080/"
        },
        "id": "GKoKc0zuwUIT",
        "outputId": "42953da4-dc3f-4b9a-8041-f2aa39060b89"
      },
      "source": [
        "mat1 * 10"
      ],
      "execution_count": 4,
      "outputs": [
        {
          "output_type": "execute_result",
          "data": {
            "text/plain": [
              "array([[  10,   20,   30,   40,   50],\n",
              "       [  60,   70,   80,   90,  100],\n",
              "       [ 110,  120,  130,  140,  150],\n",
              "       [ 160,  170,  180,  190,  200],\n",
              "       [ 210,  220,  230,  240,  250],\n",
              "       [ 260,  270,  280,  290,  300],\n",
              "       [ 310,  320,  330,  340,  350],\n",
              "       [ 360,  370,  380,  390,  400],\n",
              "       [ 410,  420,  430,  440,  450],\n",
              "       [ 460,  470,  480,  490,  500],\n",
              "       [ 510,  520,  530,  540,  550],\n",
              "       [ 560,  570,  580,  590,  600],\n",
              "       [ 610,  620,  630,  640,  650],\n",
              "       [ 660,  670,  680,  690,  700],\n",
              "       [ 710,  720,  730,  740,  750],\n",
              "       [ 760,  770,  780,  790,  800],\n",
              "       [ 810,  820,  830,  840,  850],\n",
              "       [ 860,  870,  880,  890,  900],\n",
              "       [ 910,  920,  930,  940,  950],\n",
              "       [ 960,  970,  980,  990, 1000]])"
            ]
          },
          "metadata": {
            "tags": []
          },
          "execution_count": 4
        }
      ]
    },
    {
      "cell_type": "code",
      "metadata": {
        "colab": {
          "base_uri": "https://localhost:8080/"
        },
        "id": "oRGZJCDvwIxw",
        "outputId": "cb26e6b9-f732-4998-b657-cb6a19deda28"
      },
      "source": [
        "mat1 + mat1"
      ],
      "execution_count": 5,
      "outputs": [
        {
          "output_type": "execute_result",
          "data": {
            "text/plain": [
              "array([[  2,   4,   6,   8,  10],\n",
              "       [ 12,  14,  16,  18,  20],\n",
              "       [ 22,  24,  26,  28,  30],\n",
              "       [ 32,  34,  36,  38,  40],\n",
              "       [ 42,  44,  46,  48,  50],\n",
              "       [ 52,  54,  56,  58,  60],\n",
              "       [ 62,  64,  66,  68,  70],\n",
              "       [ 72,  74,  76,  78,  80],\n",
              "       [ 82,  84,  86,  88,  90],\n",
              "       [ 92,  94,  96,  98, 100],\n",
              "       [102, 104, 106, 108, 110],\n",
              "       [112, 114, 116, 118, 120],\n",
              "       [122, 124, 126, 128, 130],\n",
              "       [132, 134, 136, 138, 140],\n",
              "       [142, 144, 146, 148, 150],\n",
              "       [152, 154, 156, 158, 160],\n",
              "       [162, 164, 166, 168, 170],\n",
              "       [172, 174, 176, 178, 180],\n",
              "       [182, 184, 186, 188, 190],\n",
              "       [192, 194, 196, 198, 200]])"
            ]
          },
          "metadata": {
            "tags": []
          },
          "execution_count": 5
        }
      ]
    },
    {
      "cell_type": "code",
      "metadata": {
        "colab": {
          "base_uri": "https://localhost:8080/"
        },
        "id": "TQ_81rmrwaht",
        "outputId": "42d7cfbc-cad1-4c02-e6ec-81aa0e531777"
      },
      "source": [
        "mat1 * mat1"
      ],
      "execution_count": 6,
      "outputs": [
        {
          "output_type": "execute_result",
          "data": {
            "text/plain": [
              "array([[    1,     4,     9,    16,    25],\n",
              "       [   36,    49,    64,    81,   100],\n",
              "       [  121,   144,   169,   196,   225],\n",
              "       [  256,   289,   324,   361,   400],\n",
              "       [  441,   484,   529,   576,   625],\n",
              "       [  676,   729,   784,   841,   900],\n",
              "       [  961,  1024,  1089,  1156,  1225],\n",
              "       [ 1296,  1369,  1444,  1521,  1600],\n",
              "       [ 1681,  1764,  1849,  1936,  2025],\n",
              "       [ 2116,  2209,  2304,  2401,  2500],\n",
              "       [ 2601,  2704,  2809,  2916,  3025],\n",
              "       [ 3136,  3249,  3364,  3481,  3600],\n",
              "       [ 3721,  3844,  3969,  4096,  4225],\n",
              "       [ 4356,  4489,  4624,  4761,  4900],\n",
              "       [ 5041,  5184,  5329,  5476,  5625],\n",
              "       [ 5776,  5929,  6084,  6241,  6400],\n",
              "       [ 6561,  6724,  6889,  7056,  7225],\n",
              "       [ 7396,  7569,  7744,  7921,  8100],\n",
              "       [ 8281,  8464,  8649,  8836,  9025],\n",
              "       [ 9216,  9409,  9604,  9801, 10000]])"
            ]
          },
          "metadata": {
            "tags": []
          },
          "execution_count": 6
        }
      ]
    },
    {
      "cell_type": "code",
      "metadata": {
        "colab": {
          "base_uri": "https://localhost:8080/"
        },
        "id": "pTIpm170wlMd",
        "outputId": "9baf7db7-0add-4776-cbfd-fcd28f7ac92e"
      },
      "source": [
        "np.dot(mat1, mat1.T)"
      ],
      "execution_count": 7,
      "outputs": [
        {
          "output_type": "execute_result",
          "data": {
            "text/plain": [
              "array([[   55,   130,   205,   280,   355,   430,   505,   580,   655,\n",
              "          730,   805,   880,   955,  1030,  1105,  1180,  1255,  1330,\n",
              "         1405,  1480],\n",
              "       [  130,   330,   530,   730,   930,  1130,  1330,  1530,  1730,\n",
              "         1930,  2130,  2330,  2530,  2730,  2930,  3130,  3330,  3530,\n",
              "         3730,  3930],\n",
              "       [  205,   530,   855,  1180,  1505,  1830,  2155,  2480,  2805,\n",
              "         3130,  3455,  3780,  4105,  4430,  4755,  5080,  5405,  5730,\n",
              "         6055,  6380],\n",
              "       [  280,   730,  1180,  1630,  2080,  2530,  2980,  3430,  3880,\n",
              "         4330,  4780,  5230,  5680,  6130,  6580,  7030,  7480,  7930,\n",
              "         8380,  8830],\n",
              "       [  355,   930,  1505,  2080,  2655,  3230,  3805,  4380,  4955,\n",
              "         5530,  6105,  6680,  7255,  7830,  8405,  8980,  9555, 10130,\n",
              "        10705, 11280],\n",
              "       [  430,  1130,  1830,  2530,  3230,  3930,  4630,  5330,  6030,\n",
              "         6730,  7430,  8130,  8830,  9530, 10230, 10930, 11630, 12330,\n",
              "        13030, 13730],\n",
              "       [  505,  1330,  2155,  2980,  3805,  4630,  5455,  6280,  7105,\n",
              "         7930,  8755,  9580, 10405, 11230, 12055, 12880, 13705, 14530,\n",
              "        15355, 16180],\n",
              "       [  580,  1530,  2480,  3430,  4380,  5330,  6280,  7230,  8180,\n",
              "         9130, 10080, 11030, 11980, 12930, 13880, 14830, 15780, 16730,\n",
              "        17680, 18630],\n",
              "       [  655,  1730,  2805,  3880,  4955,  6030,  7105,  8180,  9255,\n",
              "        10330, 11405, 12480, 13555, 14630, 15705, 16780, 17855, 18930,\n",
              "        20005, 21080],\n",
              "       [  730,  1930,  3130,  4330,  5530,  6730,  7930,  9130, 10330,\n",
              "        11530, 12730, 13930, 15130, 16330, 17530, 18730, 19930, 21130,\n",
              "        22330, 23530],\n",
              "       [  805,  2130,  3455,  4780,  6105,  7430,  8755, 10080, 11405,\n",
              "        12730, 14055, 15380, 16705, 18030, 19355, 20680, 22005, 23330,\n",
              "        24655, 25980],\n",
              "       [  880,  2330,  3780,  5230,  6680,  8130,  9580, 11030, 12480,\n",
              "        13930, 15380, 16830, 18280, 19730, 21180, 22630, 24080, 25530,\n",
              "        26980, 28430],\n",
              "       [  955,  2530,  4105,  5680,  7255,  8830, 10405, 11980, 13555,\n",
              "        15130, 16705, 18280, 19855, 21430, 23005, 24580, 26155, 27730,\n",
              "        29305, 30880],\n",
              "       [ 1030,  2730,  4430,  6130,  7830,  9530, 11230, 12930, 14630,\n",
              "        16330, 18030, 19730, 21430, 23130, 24830, 26530, 28230, 29930,\n",
              "        31630, 33330],\n",
              "       [ 1105,  2930,  4755,  6580,  8405, 10230, 12055, 13880, 15705,\n",
              "        17530, 19355, 21180, 23005, 24830, 26655, 28480, 30305, 32130,\n",
              "        33955, 35780],\n",
              "       [ 1180,  3130,  5080,  7030,  8980, 10930, 12880, 14830, 16780,\n",
              "        18730, 20680, 22630, 24580, 26530, 28480, 30430, 32380, 34330,\n",
              "        36280, 38230],\n",
              "       [ 1255,  3330,  5405,  7480,  9555, 11630, 13705, 15780, 17855,\n",
              "        19930, 22005, 24080, 26155, 28230, 30305, 32380, 34455, 36530,\n",
              "        38605, 40680],\n",
              "       [ 1330,  3530,  5730,  7930, 10130, 12330, 14530, 16730, 18930,\n",
              "        21130, 23330, 25530, 27730, 29930, 32130, 34330, 36530, 38730,\n",
              "        40930, 43130],\n",
              "       [ 1405,  3730,  6055,  8380, 10705, 13030, 15355, 17680, 20005,\n",
              "        22330, 24655, 26980, 29305, 31630, 33955, 36280, 38605, 40930,\n",
              "        43255, 45580],\n",
              "       [ 1480,  3930,  6380,  8830, 11280, 13730, 16180, 18630, 21080,\n",
              "        23530, 25980, 28430, 30880, 33330, 35780, 38230, 40680, 43130,\n",
              "        45580, 48030]])"
            ]
          },
          "metadata": {
            "tags": []
          },
          "execution_count": 7
        }
      ]
    }
  ]
}