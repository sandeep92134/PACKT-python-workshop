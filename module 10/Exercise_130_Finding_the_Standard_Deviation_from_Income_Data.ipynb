{
  "nbformat": 4,
  "nbformat_minor": 0,
  "metadata": {
    "colab": {
      "name": "Exercise 130: Finding the Standard Deviation from Income Data",
      "provenance": [],
      "authorship_tag": "ABX9TyNPdGzxkBjkS+jvhSCyerd2",
      "include_colab_link": true
    },
    "kernelspec": {
      "name": "python3",
      "display_name": "Python 3"
    }
  },
  "cells": [
    {
      "cell_type": "markdown",
      "metadata": {
        "id": "view-in-github",
        "colab_type": "text"
      },
      "source": [
        "<a href=\"https://colab.research.google.com/github/sandeep92134/PACKT-python-workshop/blob/main/module%2010/Exercise_130_Finding_the_Standard_Deviation_from_Income_Data.ipynb\" target=\"_parent\"><img src=\"https://colab.research.google.com/assets/colab-badge.svg\" alt=\"Open In Colab\"/></a>"
      ]
    },
    {
      "cell_type": "markdown",
      "metadata": {
        "id": "CnfQusGyfugE"
      },
      "source": [
        "In this exercise, you will be using the income data from Exercise 129, Finding the Median from a Collection of Income Data, and you will find the amount of deviation you have between the income of the millionaire to the regular residents living in the neighborhood.\r\n",
        "\r\n",
        "The following steps will enable you to complete the exercise:\r\n",
        "\r\n",
        "1. Open the previous Jupyter Notebook.\r\n",
        "2. Check the standard deviation using the **std()** function, as mentioned in the following code snippet:\r\n",
        "\r\n",
        " As you can see, the standard deviation here is a huge number, which is 4 million, and this could be practically meaningless while you plot the data. On average, the incomes are not 4 million away from mean income\r\n",
        "3. Now, try to find the standard deviation from the **test_scores** data from Exercise 127, Converting Lists to NumPy Arrays.\r\n",
        "4. Assign the **test_scores** list value once again as this is a new Jupyter notebook:\r\n",
        "5. Now, convert this list to a **numpy** array:\r\n",
        "6. Now, find the standard deviation of **test_scores** using the **std**() function:"
      ]
    },
    {
      "cell_type": "code",
      "metadata": {
        "id": "4CUVDsNBdCKu"
      },
      "source": [
        "import numpy as np"
      ],
      "execution_count": 1,
      "outputs": []
    },
    {
      "cell_type": "code",
      "metadata": {
        "id": "plEG_Qqsoj-Y"
      },
      "source": [
        "test_scores = [70,65,95,88]\r\n",
        "scores = np.array(test_scores)"
      ],
      "execution_count": 2,
      "outputs": []
    },
    {
      "cell_type": "code",
      "metadata": {
        "colab": {
          "base_uri": "https://localhost:8080/"
        },
        "id": "y1vfhto3k96C",
        "outputId": "9a640870-549b-4efe-c357-9426e6b0c283"
      },
      "source": [
        "income = np.array([75000, 55000, 88000, 125000, 64000, 97000])\r\n",
        "income.mean()"
      ],
      "execution_count": 3,
      "outputs": [
        {
          "output_type": "execute_result",
          "data": {
            "text/plain": [
              "84000.0"
            ]
          },
          "metadata": {
            "tags": []
          },
          "execution_count": 3
        }
      ]
    },
    {
      "cell_type": "code",
      "metadata": {
        "colab": {
          "base_uri": "https://localhost:8080/"
        },
        "id": "jJmW4V6elDJd",
        "outputId": "411d5e92-d758-44a5-913e-f96ee31416f6"
      },
      "source": [
        "income = np.append(income, 12000000)\r\n",
        "income.mean()"
      ],
      "execution_count": 4,
      "outputs": [
        {
          "output_type": "execute_result",
          "data": {
            "text/plain": [
              "1786285.7142857143"
            ]
          },
          "metadata": {
            "tags": []
          },
          "execution_count": 4
        }
      ]
    },
    {
      "cell_type": "code",
      "metadata": {
        "colab": {
          "base_uri": "https://localhost:8080/"
        },
        "id": "22epYuJWlc1H",
        "outputId": "a4f812eb-1c33-446a-941b-df0a818a6c71"
      },
      "source": [
        "np.median(income)"
      ],
      "execution_count": 5,
      "outputs": [
        {
          "output_type": "execute_result",
          "data": {
            "text/plain": [
              "88000.0"
            ]
          },
          "metadata": {
            "tags": []
          },
          "execution_count": 5
        }
      ]
    },
    {
      "cell_type": "code",
      "metadata": {
        "colab": {
          "base_uri": "https://localhost:8080/"
        },
        "id": "7ZaZiBpPozKQ",
        "outputId": "dcdc4092-5bd6-48d8-a5ca-ee2209389fc1"
      },
      "source": [
        "income.std()\r\n"
      ],
      "execution_count": 6,
      "outputs": [
        {
          "output_type": "execute_result",
          "data": {
            "text/plain": [
              "4169786.007331644"
            ]
          },
          "metadata": {
            "tags": []
          },
          "execution_count": 6
        }
      ]
    },
    {
      "cell_type": "code",
      "metadata": {
        "colab": {
          "base_uri": "https://localhost:8080/"
        },
        "id": "aN9H2CD4o5rT",
        "outputId": "7f363661-ccfd-4026-d864-d84c5310091d"
      },
      "source": [
        "scores.std()"
      ],
      "execution_count": 7,
      "outputs": [
        {
          "output_type": "execute_result",
          "data": {
            "text/plain": [
              "12.379418403139947"
            ]
          },
          "metadata": {
            "tags": []
          },
          "execution_count": 7
        }
      ]
    },
    {
      "cell_type": "code",
      "metadata": {
        "colab": {
          "base_uri": "https://localhost:8080/"
        },
        "id": "af3iM1XKpG9e",
        "outputId": "8557bff6-d86b-4481-d604-437094003b0a"
      },
      "source": [
        "scores.max()"
      ],
      "execution_count": 8,
      "outputs": [
        {
          "output_type": "execute_result",
          "data": {
            "text/plain": [
              "95"
            ]
          },
          "metadata": {
            "tags": []
          },
          "execution_count": 8
        }
      ]
    },
    {
      "cell_type": "code",
      "metadata": {
        "colab": {
          "base_uri": "https://localhost:8080/"
        },
        "id": "7vBIjtNCpiuq",
        "outputId": "c7fab00d-3e6d-4b70-a340-71249670442e"
      },
      "source": [
        "scores.min()"
      ],
      "execution_count": 9,
      "outputs": [
        {
          "output_type": "execute_result",
          "data": {
            "text/plain": [
              "65"
            ]
          },
          "metadata": {
            "tags": []
          },
          "execution_count": 9
        }
      ]
    },
    {
      "cell_type": "code",
      "metadata": {
        "colab": {
          "base_uri": "https://localhost:8080/"
        },
        "id": "taPpImGHplJM",
        "outputId": "13bf107f-4d69-430a-a1ae-e19d6cb4090a"
      },
      "source": [
        "scores.sum()"
      ],
      "execution_count": 10,
      "outputs": [
        {
          "output_type": "execute_result",
          "data": {
            "text/plain": [
              "318"
            ]
          },
          "metadata": {
            "tags": []
          },
          "execution_count": 10
        }
      ]
    }
  ]
}