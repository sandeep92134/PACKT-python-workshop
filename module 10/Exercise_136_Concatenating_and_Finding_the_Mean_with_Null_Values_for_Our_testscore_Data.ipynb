{
  "nbformat": 4,
  "nbformat_minor": 0,
  "metadata": {
    "colab": {
      "name": "Exercise 136: Concatenating and Finding the Mean with Null Values for Our testscore Data",
      "provenance": [],
      "authorship_tag": "ABX9TyMnv6dZXdvOvAs0gPlSTXek",
      "include_colab_link": true
    },
    "kernelspec": {
      "name": "python3",
      "display_name": "Python 3"
    }
  },
  "cells": [
    {
      "cell_type": "markdown",
      "metadata": {
        "id": "view-in-github",
        "colab_type": "text"
      },
      "source": [
        "<a href=\"https://colab.research.google.com/github/sandeep92134/PACKT-python-workshop/blob/main/module%2010/Exercise_136_Concatenating_and_Finding_the_Mean_with_Null_Values_for_Our_testscore_Data.ipynb\" target=\"_parent\"><img src=\"https://colab.research.google.com/assets/colab-badge.svg\" alt=\"Open In Colab\"/></a>"
      ]
    },
    {
      "cell_type": "markdown",
      "metadata": {
        "id": "ng3x5HeFKsOj"
      },
      "source": [
        "In this exercise, you will be concatenating and finding the mean with null values for the student **test** **score** data you created in Exercise 135, Computing DataFrames within DataFrames with four quiz scores. The following steps will enable you to complete the exercise:\r\n",
        "\r\n",
        "1. Open a new Jupyter Notebook.\r\n",
        "2. Import **pandas** and **numpy** and create a dictionary with the **testscore** data to be transformed into a DataFrame, as mentioned in Exercise 133, Using DataFrames to Manipulate Stored Student test score Data:\r\n",
        "3. Transpose the DataFrame and rename the columns:\r\n",
        "4. Now, add a new column, as shown in Exercise 135, Computing DataFrames within DataFrames:\r\n",
        "5. Now, add a new row with the value set as **Adrian**, as shown in the following code snippet:\r\n",
        "6. Now, concatenate **Dataframe** with the added new row, **Adrian**, and display the new **Dataframe** value using **df**:\r\n",
        "\r\n",
        " You can now compute the new mean, but you must skip the **NaN** values; otherwise, there will be no mean score for **Adrian**. This will be fixed in step 7.\r\n",
        "7. Find the **mean** value ignoring NaN and use these values to create a new column named **Quiz-Avg**, as shown in the following code snippet:\r\n",
        "\r\n",
        "Notice that all values are floats except for **Quiz_4**. There will be occasions when you need to cast all values in a particular column as another type.\r\n",
        "\r\n",
        "\r\n"
      ]
    },
    {
      "cell_type": "code",
      "metadata": {
        "colab": {
          "base_uri": "https://localhost:8080/",
          "height": 142
        },
        "id": "oKs5jWkSJykT",
        "outputId": "f4e4ecc6-9f54-4248-f3cf-9756bcf6d5db"
      },
      "source": [
        "import pandas as pd\r\n",
        "# Create dictionary of test scores\r\n",
        "test_dict = {'Corey':[63,75,88], 'Kevin':[48,98,92], 'Akshay': [87, 86, 85]}\r\n",
        "# Create DataFrame\r\n",
        "df = pd.DataFrame(test_dict)\r\n",
        "df = df.T\r\n",
        "df"
      ],
      "execution_count": 1,
      "outputs": [
        {
          "output_type": "execute_result",
          "data": {
            "text/html": [
              "<div>\n",
              "<style scoped>\n",
              "    .dataframe tbody tr th:only-of-type {\n",
              "        vertical-align: middle;\n",
              "    }\n",
              "\n",
              "    .dataframe tbody tr th {\n",
              "        vertical-align: top;\n",
              "    }\n",
              "\n",
              "    .dataframe thead th {\n",
              "        text-align: right;\n",
              "    }\n",
              "</style>\n",
              "<table border=\"1\" class=\"dataframe\">\n",
              "  <thead>\n",
              "    <tr style=\"text-align: right;\">\n",
              "      <th></th>\n",
              "      <th>0</th>\n",
              "      <th>1</th>\n",
              "      <th>2</th>\n",
              "    </tr>\n",
              "  </thead>\n",
              "  <tbody>\n",
              "    <tr>\n",
              "      <th>Corey</th>\n",
              "      <td>63</td>\n",
              "      <td>75</td>\n",
              "      <td>88</td>\n",
              "    </tr>\n",
              "    <tr>\n",
              "      <th>Kevin</th>\n",
              "      <td>48</td>\n",
              "      <td>98</td>\n",
              "      <td>92</td>\n",
              "    </tr>\n",
              "    <tr>\n",
              "      <th>Akshay</th>\n",
              "      <td>87</td>\n",
              "      <td>86</td>\n",
              "      <td>85</td>\n",
              "    </tr>\n",
              "  </tbody>\n",
              "</table>\n",
              "</div>"
            ],
            "text/plain": [
              "         0   1   2\n",
              "Corey   63  75  88\n",
              "Kevin   48  98  92\n",
              "Akshay  87  86  85"
            ]
          },
          "metadata": {
            "tags": []
          },
          "execution_count": 1
        }
      ]
    },
    {
      "cell_type": "code",
      "metadata": {
        "colab": {
          "base_uri": "https://localhost:8080/",
          "height": 142
        },
        "id": "iZEI8QaZMwGf",
        "outputId": "89bbb818-bd7c-42ec-db80-5e983b1be877"
      },
      "source": [
        "# Rename Columns\r\n",
        "df.columns = ['Quiz_1', 'Quiz_2', 'Quiz_3']\r\n",
        "df"
      ],
      "execution_count": 2,
      "outputs": [
        {
          "output_type": "execute_result",
          "data": {
            "text/html": [
              "<div>\n",
              "<style scoped>\n",
              "    .dataframe tbody tr th:only-of-type {\n",
              "        vertical-align: middle;\n",
              "    }\n",
              "\n",
              "    .dataframe tbody tr th {\n",
              "        vertical-align: top;\n",
              "    }\n",
              "\n",
              "    .dataframe thead th {\n",
              "        text-align: right;\n",
              "    }\n",
              "</style>\n",
              "<table border=\"1\" class=\"dataframe\">\n",
              "  <thead>\n",
              "    <tr style=\"text-align: right;\">\n",
              "      <th></th>\n",
              "      <th>Quiz_1</th>\n",
              "      <th>Quiz_2</th>\n",
              "      <th>Quiz_3</th>\n",
              "    </tr>\n",
              "  </thead>\n",
              "  <tbody>\n",
              "    <tr>\n",
              "      <th>Corey</th>\n",
              "      <td>63</td>\n",
              "      <td>75</td>\n",
              "      <td>88</td>\n",
              "    </tr>\n",
              "    <tr>\n",
              "      <th>Kevin</th>\n",
              "      <td>48</td>\n",
              "      <td>98</td>\n",
              "      <td>92</td>\n",
              "    </tr>\n",
              "    <tr>\n",
              "      <th>Akshay</th>\n",
              "      <td>87</td>\n",
              "      <td>86</td>\n",
              "      <td>85</td>\n",
              "    </tr>\n",
              "  </tbody>\n",
              "</table>\n",
              "</div>"
            ],
            "text/plain": [
              "        Quiz_1  Quiz_2  Quiz_3\n",
              "Corey       63      75      88\n",
              "Kevin       48      98      92\n",
              "Akshay      87      86      85"
            ]
          },
          "metadata": {
            "tags": []
          },
          "execution_count": 2
        }
      ]
    },
    {
      "cell_type": "code",
      "metadata": {
        "colab": {
          "base_uri": "https://localhost:8080/",
          "height": 142
        },
        "id": "CdH4C7PnPb0R",
        "outputId": "cf7edddf-186b-49ab-f914-1a92c937f287"
      },
      "source": [
        "df['Quiz_4'] = [92, 95, 88]\r\n",
        "df"
      ],
      "execution_count": 3,
      "outputs": [
        {
          "output_type": "execute_result",
          "data": {
            "text/html": [
              "<div>\n",
              "<style scoped>\n",
              "    .dataframe tbody tr th:only-of-type {\n",
              "        vertical-align: middle;\n",
              "    }\n",
              "\n",
              "    .dataframe tbody tr th {\n",
              "        vertical-align: top;\n",
              "    }\n",
              "\n",
              "    .dataframe thead th {\n",
              "        text-align: right;\n",
              "    }\n",
              "</style>\n",
              "<table border=\"1\" class=\"dataframe\">\n",
              "  <thead>\n",
              "    <tr style=\"text-align: right;\">\n",
              "      <th></th>\n",
              "      <th>Quiz_1</th>\n",
              "      <th>Quiz_2</th>\n",
              "      <th>Quiz_3</th>\n",
              "      <th>Quiz_4</th>\n",
              "    </tr>\n",
              "  </thead>\n",
              "  <tbody>\n",
              "    <tr>\n",
              "      <th>Corey</th>\n",
              "      <td>63</td>\n",
              "      <td>75</td>\n",
              "      <td>88</td>\n",
              "      <td>92</td>\n",
              "    </tr>\n",
              "    <tr>\n",
              "      <th>Kevin</th>\n",
              "      <td>48</td>\n",
              "      <td>98</td>\n",
              "      <td>92</td>\n",
              "      <td>95</td>\n",
              "    </tr>\n",
              "    <tr>\n",
              "      <th>Akshay</th>\n",
              "      <td>87</td>\n",
              "      <td>86</td>\n",
              "      <td>85</td>\n",
              "      <td>88</td>\n",
              "    </tr>\n",
              "  </tbody>\n",
              "</table>\n",
              "</div>"
            ],
            "text/plain": [
              "        Quiz_1  Quiz_2  Quiz_3  Quiz_4\n",
              "Corey       63      75      88      92\n",
              "Kevin       48      98      92      95\n",
              "Akshay      87      86      85      88"
            ]
          },
          "metadata": {
            "tags": []
          },
          "execution_count": 3
        }
      ]
    },
    {
      "cell_type": "code",
      "metadata": {
        "colab": {
          "base_uri": "https://localhost:8080/",
          "height": 173
        },
        "id": "6rgbH01rYvKw",
        "outputId": "062a3c2a-2c27-4694-92ee-8f655cc7aa2b"
      },
      "source": [
        "import numpy as np\r\n",
        "# Create new DataFrame of one row\r\n",
        "df_new = pd.DataFrame({'Quiz_1':[np.NaN], 'Quiz_2':[np.NaN], 'Quiz_3': [np.NaN], 'Quiz_4':[71]}, index=['Adrian'])\r\n",
        "df = pd.concat([df, df_new])\r\n",
        "df"
      ],
      "execution_count": 4,
      "outputs": [
        {
          "output_type": "execute_result",
          "data": {
            "text/html": [
              "<div>\n",
              "<style scoped>\n",
              "    .dataframe tbody tr th:only-of-type {\n",
              "        vertical-align: middle;\n",
              "    }\n",
              "\n",
              "    .dataframe tbody tr th {\n",
              "        vertical-align: top;\n",
              "    }\n",
              "\n",
              "    .dataframe thead th {\n",
              "        text-align: right;\n",
              "    }\n",
              "</style>\n",
              "<table border=\"1\" class=\"dataframe\">\n",
              "  <thead>\n",
              "    <tr style=\"text-align: right;\">\n",
              "      <th></th>\n",
              "      <th>Quiz_1</th>\n",
              "      <th>Quiz_2</th>\n",
              "      <th>Quiz_3</th>\n",
              "      <th>Quiz_4</th>\n",
              "    </tr>\n",
              "  </thead>\n",
              "  <tbody>\n",
              "    <tr>\n",
              "      <th>Corey</th>\n",
              "      <td>63.0</td>\n",
              "      <td>75.0</td>\n",
              "      <td>88.0</td>\n",
              "      <td>92</td>\n",
              "    </tr>\n",
              "    <tr>\n",
              "      <th>Kevin</th>\n",
              "      <td>48.0</td>\n",
              "      <td>98.0</td>\n",
              "      <td>92.0</td>\n",
              "      <td>95</td>\n",
              "    </tr>\n",
              "    <tr>\n",
              "      <th>Akshay</th>\n",
              "      <td>87.0</td>\n",
              "      <td>86.0</td>\n",
              "      <td>85.0</td>\n",
              "      <td>88</td>\n",
              "    </tr>\n",
              "    <tr>\n",
              "      <th>Adrian</th>\n",
              "      <td>NaN</td>\n",
              "      <td>NaN</td>\n",
              "      <td>NaN</td>\n",
              "      <td>71</td>\n",
              "    </tr>\n",
              "  </tbody>\n",
              "</table>\n",
              "</div>"
            ],
            "text/plain": [
              "        Quiz_1  Quiz_2  Quiz_3  Quiz_4\n",
              "Corey     63.0    75.0    88.0      92\n",
              "Kevin     48.0    98.0    92.0      95\n",
              "Akshay    87.0    86.0    85.0      88\n",
              "Adrian     NaN     NaN     NaN      71"
            ]
          },
          "metadata": {
            "tags": []
          },
          "execution_count": 4
        }
      ]
    },
    {
      "cell_type": "code",
      "metadata": {
        "colab": {
          "base_uri": "https://localhost:8080/",
          "height": 173
        },
        "id": "quVJRU9DPfRp",
        "outputId": "3daf9337-56e8-4fa3-9cf0-16d9aef166a6"
      },
      "source": [
        "df['Quiz_Avg'] = df.mean(axis=1, skipna=True)\r\n",
        "df"
      ],
      "execution_count": 5,
      "outputs": [
        {
          "output_type": "execute_result",
          "data": {
            "text/html": [
              "<div>\n",
              "<style scoped>\n",
              "    .dataframe tbody tr th:only-of-type {\n",
              "        vertical-align: middle;\n",
              "    }\n",
              "\n",
              "    .dataframe tbody tr th {\n",
              "        vertical-align: top;\n",
              "    }\n",
              "\n",
              "    .dataframe thead th {\n",
              "        text-align: right;\n",
              "    }\n",
              "</style>\n",
              "<table border=\"1\" class=\"dataframe\">\n",
              "  <thead>\n",
              "    <tr style=\"text-align: right;\">\n",
              "      <th></th>\n",
              "      <th>Quiz_1</th>\n",
              "      <th>Quiz_2</th>\n",
              "      <th>Quiz_3</th>\n",
              "      <th>Quiz_4</th>\n",
              "      <th>Quiz_Avg</th>\n",
              "    </tr>\n",
              "  </thead>\n",
              "  <tbody>\n",
              "    <tr>\n",
              "      <th>Corey</th>\n",
              "      <td>63.0</td>\n",
              "      <td>75.0</td>\n",
              "      <td>88.0</td>\n",
              "      <td>92</td>\n",
              "      <td>79.50</td>\n",
              "    </tr>\n",
              "    <tr>\n",
              "      <th>Kevin</th>\n",
              "      <td>48.0</td>\n",
              "      <td>98.0</td>\n",
              "      <td>92.0</td>\n",
              "      <td>95</td>\n",
              "      <td>83.25</td>\n",
              "    </tr>\n",
              "    <tr>\n",
              "      <th>Akshay</th>\n",
              "      <td>87.0</td>\n",
              "      <td>86.0</td>\n",
              "      <td>85.0</td>\n",
              "      <td>88</td>\n",
              "      <td>86.50</td>\n",
              "    </tr>\n",
              "    <tr>\n",
              "      <th>Adrian</th>\n",
              "      <td>NaN</td>\n",
              "      <td>NaN</td>\n",
              "      <td>NaN</td>\n",
              "      <td>71</td>\n",
              "      <td>71.00</td>\n",
              "    </tr>\n",
              "  </tbody>\n",
              "</table>\n",
              "</div>"
            ],
            "text/plain": [
              "        Quiz_1  Quiz_2  Quiz_3  Quiz_4  Quiz_Avg\n",
              "Corey     63.0    75.0    88.0      92     79.50\n",
              "Kevin     48.0    98.0    92.0      95     83.25\n",
              "Akshay    87.0    86.0    85.0      88     86.50\n",
              "Adrian     NaN     NaN     NaN      71     71.00"
            ]
          },
          "metadata": {
            "tags": []
          },
          "execution_count": 5
        }
      ]
    }
  ]
}