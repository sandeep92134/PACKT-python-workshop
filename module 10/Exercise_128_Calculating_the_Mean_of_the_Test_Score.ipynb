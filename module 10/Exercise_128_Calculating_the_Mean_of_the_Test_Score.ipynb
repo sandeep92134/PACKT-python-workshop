{
  "nbformat": 4,
  "nbformat_minor": 0,
  "metadata": {
    "colab": {
      "name": "Exercise 128: Calculating the Mean of the Test Score",
      "provenance": [],
      "authorship_tag": "ABX9TyMktOZiD4Nn0L6Le4S95N9D",
      "include_colab_link": true
    },
    "kernelspec": {
      "name": "python3",
      "display_name": "Python 3"
    }
  },
  "cells": [
    {
      "cell_type": "markdown",
      "metadata": {
        "id": "view-in-github",
        "colab_type": "text"
      },
      "source": [
        "<a href=\"https://colab.research.google.com/github/sandeep92134/PACKT-python-workshop/blob/main/module%2010/Exercise_128_Calculating_the_Mean_of_the_Test_Score.ipynb\" target=\"_parent\"><img src=\"https://colab.research.google.com/assets/colab-badge.svg\" alt=\"Open In Colab\"/></a>"
      ]
    },
    {
      "cell_type": "markdown",
      "metadata": {
        "id": "CnfQusGyfugE"
      },
      "source": [
        "In this exercise, you will be finding the median from a collection of income data for a neighborhood and help a millionaire decide whether he should build his dream house in the neighborhood based on the income data. The median function here is a method of **numpy**.\r\n",
        "\r\n",
        "The following steps will enable you to complete the exercise:\r\n",
        "\r\n",
        "1. Open a new Jupyter Notebook.\r\n",
        "2. Firstly, you need to import the **numpy** package as **np**, then create a **numpy** array and assign various pieces of **income** data, as shown in the following code snippet:\r\n",
        "3. Next, find the mean of the income data:\r\n",
        "\r\n",
        " So far, so good. **84000** is the mean **income** on your block. Now, say the millionaire decides to build his dream house on the vacant corner lot. He adds a salary of 12 million dollars.\r\n",
        "4. Append the value of 12 million dollars to the current array and find the new mean. For appending the new element 12000000 in the income array, we use the append method:\r\n",
        " \r\n",
        " The new average income is 1.7 million dollars. Okay. Nobody makes close to 1.7 million dollars on the block. It's not a representative average income of the whole area and will give an incorrect impression of income of the area. The mean of data is severely affected due to the addition of this outlier salary. This is where the median comes into play.\r\n",
        "5. Now to find the **median** function from the **income** values you have:"
      ]
    },
    {
      "cell_type": "code",
      "metadata": {
        "id": "4CUVDsNBdCKu"
      },
      "source": [
        "import numpy as np"
      ],
      "execution_count": 1,
      "outputs": []
    },
    {
      "cell_type": "code",
      "metadata": {
        "colab": {
          "base_uri": "https://localhost:8080/"
        },
        "id": "y1vfhto3k96C",
        "outputId": "7218a5a8-0a26-454f-ead0-5c2c173a2cb9"
      },
      "source": [
        "income = np.array([75000, 55000, 88000, 125000, 64000, 97000])\r\n",
        "income.mean()"
      ],
      "execution_count": 2,
      "outputs": [
        {
          "output_type": "execute_result",
          "data": {
            "text/plain": [
              "84000.0"
            ]
          },
          "metadata": {
            "tags": []
          },
          "execution_count": 2
        }
      ]
    },
    {
      "cell_type": "code",
      "metadata": {
        "colab": {
          "base_uri": "https://localhost:8080/"
        },
        "id": "jJmW4V6elDJd",
        "outputId": "a1774ea0-6cc4-4920-d7f9-f45409c826e1"
      },
      "source": [
        "income = np.append(income, 12000000)\r\n",
        "income.mean()"
      ],
      "execution_count": 3,
      "outputs": [
        {
          "output_type": "execute_result",
          "data": {
            "text/plain": [
              "1786285.7142857143"
            ]
          },
          "metadata": {
            "tags": []
          },
          "execution_count": 3
        }
      ]
    },
    {
      "cell_type": "code",
      "metadata": {
        "colab": {
          "base_uri": "https://localhost:8080/"
        },
        "id": "22epYuJWlc1H",
        "outputId": "4cbecbbb-7f29-44a9-91da-fe7cc9a0fa6e"
      },
      "source": [
        "np.median(income)"
      ],
      "execution_count": 4,
      "outputs": [
        {
          "output_type": "execute_result",
          "data": {
            "text/plain": [
              "88000.0"
            ]
          },
          "metadata": {
            "tags": []
          },
          "execution_count": 4
        }
      ]
    }
  ]
}