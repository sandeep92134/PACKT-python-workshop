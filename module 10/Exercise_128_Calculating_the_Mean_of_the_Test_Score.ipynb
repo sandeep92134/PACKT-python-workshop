{
  "nbformat": 4,
  "nbformat_minor": 0,
  "metadata": {
    "colab": {
      "name": "Exercise 128: Calculating the Mean of the Test Score",
      "provenance": [],
      "authorship_tag": "ABX9TyPUeqjx72mXUdP0DgY2MAyB",
      "include_colab_link": true
    },
    "kernelspec": {
      "name": "python3",
      "display_name": "Python 3"
    }
  },
  "cells": [
    {
      "cell_type": "markdown",
      "metadata": {
        "id": "view-in-github",
        "colab_type": "text"
      },
      "source": [
        "<a href=\"https://colab.research.google.com/github/sandeep92134/PACKT-python-workshop/blob/main/module%2010/Exercise_128_Calculating_the_Mean_of_the_Test_Score.ipynb\" target=\"_parent\"><img src=\"https://colab.research.google.com/assets/colab-badge.svg\" alt=\"Open In Colab\"/></a>"
      ]
    },
    {
      "cell_type": "markdown",
      "metadata": {
        "id": "CnfQusGyfugE"
      },
      "source": [
        "In this exercise, you will use the numpy array you created to store our test scores from Exercise 127, Converting Lists to NumPy Arrays, and you will calculate the mean of testscores. The following steps will enable you to complete the exercise:\r\n",
        "\r\n",
        "1. Continue in the same Jupyter Notebook from Exercise 127, Converting Lists to NumPy Arrays.\r\n",
        "2. Now, to find the \"average\" of **test_score**, you can use the mean method, as shown here:"
      ]
    },
    {
      "cell_type": "code",
      "metadata": {
        "id": "4CUVDsNBdCKu"
      },
      "source": [
        "import numpy as np"
      ],
      "execution_count": 1,
      "outputs": []
    },
    {
      "cell_type": "code",
      "metadata": {
        "colab": {
          "base_uri": "https://localhost:8080/"
        },
        "id": "34eO1DQugpeM",
        "outputId": "d91b6330-3e44-40ea-d363-d5fe42dfe72b"
      },
      "source": [
        "test_score = [70,65,95,88]\r\n",
        "type(test_score)"
      ],
      "execution_count": 2,
      "outputs": [
        {
          "output_type": "execute_result",
          "data": {
            "text/plain": [
              "list"
            ]
          },
          "metadata": {
            "tags": []
          },
          "execution_count": 2
        }
      ]
    },
    {
      "cell_type": "code",
      "metadata": {
        "colab": {
          "base_uri": "https://localhost:8080/"
        },
        "id": "hvGkqazVhGbD",
        "outputId": "767746c5-87fe-4cba-cb3c-57c4a5bd5f90"
      },
      "source": [
        "score = np.array(test_score)\r\n",
        "type(score)"
      ],
      "execution_count": 3,
      "outputs": [
        {
          "output_type": "execute_result",
          "data": {
            "text/plain": [
              "numpy.ndarray"
            ]
          },
          "metadata": {
            "tags": []
          },
          "execution_count": 3
        }
      ]
    },
    {
      "cell_type": "code",
      "metadata": {
        "colab": {
          "base_uri": "https://localhost:8080/"
        },
        "id": "tp6IjJTdiOKk",
        "outputId": "49fead65-e69a-4530-9402-a6af3fa49a12"
      },
      "source": [
        "score.mean()"
      ],
      "execution_count": 4,
      "outputs": [
        {
          "output_type": "execute_result",
          "data": {
            "text/plain": [
              "79.5"
            ]
          },
          "metadata": {
            "tags": []
          },
          "execution_count": 4
        }
      ]
    }
  ]
}