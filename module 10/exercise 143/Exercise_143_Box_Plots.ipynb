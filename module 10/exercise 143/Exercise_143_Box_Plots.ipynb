{
  "nbformat": 4,
  "nbformat_minor": 0,
  "metadata": {
    "colab": {
      "name": "Exercise 143: Box Plots",
      "provenance": [],
      "authorship_tag": "ABX9TyMyNLrZsDW7DMgfWP9X5Rbc",
      "include_colab_link": true
    },
    "kernelspec": {
      "name": "python3",
      "display_name": "Python 3"
    }
  },
  "cells": [
    {
      "cell_type": "markdown",
      "metadata": {
        "id": "view-in-github",
        "colab_type": "text"
      },
      "source": [
        "<a href=\"https://colab.research.google.com/github/sandeep92134/PACKT-python-workshop/blob/main/module%2010/exercise%20143/Exercise_143_Box_Plots.ipynb\" target=\"_parent\"><img src=\"https://colab.research.google.com/assets/colab-badge.svg\" alt=\"Open In Colab\"/></a>"
      ]
    },
    {
      "cell_type": "markdown",
      "metadata": {
        "id": "eyXkwrckFroC"
      },
      "source": [
        "A **box plot** provides a nice visual of the mean, median, quartiles, and outliers of a given column of data.\r\n",
        "\r\n",
        "In this exercise, you will create box plots using the Boston Housing dataset. The following steps will enable you to complete the exercise:\r\n",
        "\r\n",
        "1. Open a new Jupyter Notebook and copy the dataset file within a separate folder where you will perform this exercise.\r\n",
        "2. Import **pandas** and choose a variable to store the DataFrame and place the **HousingData.csv** file:\r\n",
        "```\r\n",
        "import pandas as pd\r\n",
        "housing_df = pd.read_csv('HousingData.csv')\r\n",
        "import matplotlib.pyplot as plt\r\n",
        "%matplotlib inline\r\n",
        "import seaborn as sns\r\n",
        "# Set up seaborn dark grid\r\n",
        "sns.set()\r\n",
        "```\r\n",
        "3. Now, enter the following code in the code snippet to create a box plot:\r\n",
        " ```\r\n",
        " x = housing_df['RM']\r\n",
        " y = housing_df['MEDV']\r\n",
        " plt.boxplot(x)\r\n",
        " plt.show()\r\n",
        " ```\r\n",
        "\r\n",
        "Note that the open circles are considered outliers. The orange bar in the middle is the median, and the bars at the end of the black box are the 25th and 75th percentiles, or the 1st and 3rd quartiles, respectively. The end bars represent the quartiles plus or minus 1.5 times the interquartile range. The value of 1.5 times the interquartile range is a standard limit in statistics used to define outliers. In this exercise, you created a box plot graph to represent the graph."
      ]
    },
    {
      "cell_type": "code",
      "metadata": {
        "id": "p0dGdv4FESaV"
      },
      "source": [
        "import pandas as pd\r\n",
        "housing_df = pd.read_csv('HousingData.csv')"
      ],
      "execution_count": 1,
      "outputs": []
    },
    {
      "cell_type": "code",
      "metadata": {
        "id": "kUcSdwRcIC7Q"
      },
      "source": [
        "import matplotlib.pyplot as plt\r\n",
        "%matplotlib inline"
      ],
      "execution_count": 2,
      "outputs": []
    },
    {
      "cell_type": "code",
      "metadata": {
        "id": "kMJT85IHLYdI"
      },
      "source": [
        "import seaborn as sns\r\n",
        "# Set up seaborn dark grid\r\n",
        "sns.set()"
      ],
      "execution_count": 3,
      "outputs": []
    },
    {
      "cell_type": "code",
      "metadata": {
        "colab": {
          "base_uri": "https://localhost:8080/",
          "height": 270
        },
        "id": "udxruLnpONIz",
        "outputId": "28eaba35-126b-40b7-8974-43edb2838a1b"
      },
      "source": [
        "x = housing_df['RM']\r\n",
        "y = housing_df['MEDV']\r\n",
        "plt.boxplot(x)\r\n",
        "plt.show()"
      ],
      "execution_count": 4,
      "outputs": [
        {
          "output_type": "display_data",
          "data": {
            "image/png": "[encoded data removed]",
            "text/plain": [
              "<Figure size 432x288 with 1 Axes>"
            ]
          },
          "metadata": {
            "tags": []
          }
        }
      ]
    }
  ]
}