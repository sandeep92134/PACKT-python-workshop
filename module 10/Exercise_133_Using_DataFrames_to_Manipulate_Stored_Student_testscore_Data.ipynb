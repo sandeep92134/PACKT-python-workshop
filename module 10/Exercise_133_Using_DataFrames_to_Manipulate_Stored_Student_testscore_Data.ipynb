{
  "nbformat": 4,
  "nbformat_minor": 0,
  "metadata": {
    "colab": {
      "name": "Exercise 133: Using DataFrames to Manipulate Stored Student testscore Data",
      "provenance": [],
      "authorship_tag": "ABX9TyP1FNzEe2sysoMhY33/Wt9a",
      "include_colab_link": true
    },
    "kernelspec": {
      "name": "python3",
      "display_name": "Python 3"
    }
  },
  "cells": [
    {
      "cell_type": "markdown",
      "metadata": {
        "id": "view-in-github",
        "colab_type": "text"
      },
      "source": [
        "<a href=\"https://colab.research.google.com/github/sandeep92134/PACKT-python-workshop/blob/main/module%2010/Exercise_133_Using_DataFrames_to_Manipulate_Stored_Student_testscore_Data.ipynb\" target=\"_parent\"><img src=\"https://colab.research.google.com/assets/colab-badge.svg\" alt=\"Open In Colab\"/></a>"
      ]
    },
    {
      "cell_type": "markdown",
      "metadata": {
        "id": "ng3x5HeFKsOj"
      },
      "source": [
        "In this exercise, you will create a **dictionary**, which is one of many ways to create a **pandas** DataFrame. You will then manipulate this data as required. In order to use pandas, you must import **pandas**, which is universally imported with an alias **pd**. However you are free to choose the alias. Pandas and NumPy are so omnipresent it's a good idea to import them first before performing any kind of data analysis. The following steps will enable you to complete the exercise:\r\n",
        "\r\n",
        "1. You'll begin by importing **pandas** as **pd**:\r\n",
        "  \r\n",
        "  Now that you have imported **pandas**, you will create a **DataFrame**.\r\n",
        "2. First, you will create a dictionary of test scores as **test_dict**:\r\n",
        "3. Next, you place the **test_dict** into the DataFrame using the **DataFrame** method:\r\n",
        "4. Now, you can display the Dataframe:\r\n",
        " \r\n",
        " You can inspect the **DataFrame**. First, each dictionary key is listed as a column. Second, the rows are labeled with indices starting with **0** by default. Third, the visual layout is clear and legible.\r\n",
        " \r\n",
        " Each column and row of **DataFrame** is officially represented as a **Series**. A series is a one-dimensional  **array**. Note that an array can be represented both by Series and numpy array, however they are two distinct data types and are interchangeable.\r\n",
        "\r\n",
        " Now, you will rotate the DataFrame, which is also known as a **transpose**, a standard **pandas** method. A transpose turns rows into columns and columns into rows.\r\n",
        "5. Copy the code shown in the following code snippet to perform a transpose on the DataFrame:\r\n",
        "\r\n",
        "In this exercise, you created a DataFrame that holds the values of **test** **scores**, and to finish, you transposed this DataFrame to get the output. In the next exercise, you will look at renaming column names and selecting data from the DataFrame, which is an important part of working with pandas."
      ]
    },
    {
      "cell_type": "code",
      "metadata": {
        "id": "oKs5jWkSJykT"
      },
      "source": [
        "import pandas as pd\r\n",
        "# Create dictionary of test scores\r\n",
        "test_dict = {'Corey':[63,75,88], 'Kevin':[48,98,92], 'Akshay': [87, 86, 85]}\r\n"
      ],
      "execution_count": 1,
      "outputs": []
    },
    {
      "cell_type": "code",
      "metadata": {
        "colab": {
          "base_uri": "https://localhost:8080/",
          "height": 142
        },
        "id": "lIQulokPMq6H",
        "outputId": "5423ac90-0295-48f1-f22a-b2121b71d750"
      },
      "source": [
        "# Create DataFrame\r\n",
        "df = pd.DataFrame(test_dict)\r\n",
        "df"
      ],
      "execution_count": 2,
      "outputs": [
        {
          "output_type": "execute_result",
          "data": {
            "text/html": [
              "<div>\n",
              "<style scoped>\n",
              "    .dataframe tbody tr th:only-of-type {\n",
              "        vertical-align: middle;\n",
              "    }\n",
              "\n",
              "    .dataframe tbody tr th {\n",
              "        vertical-align: top;\n",
              "    }\n",
              "\n",
              "    .dataframe thead th {\n",
              "        text-align: right;\n",
              "    }\n",
              "</style>\n",
              "<table border=\"1\" class=\"dataframe\">\n",
              "  <thead>\n",
              "    <tr style=\"text-align: right;\">\n",
              "      <th></th>\n",
              "      <th>Corey</th>\n",
              "      <th>Kevin</th>\n",
              "      <th>Akshay</th>\n",
              "    </tr>\n",
              "  </thead>\n",
              "  <tbody>\n",
              "    <tr>\n",
              "      <th>0</th>\n",
              "      <td>63</td>\n",
              "      <td>48</td>\n",
              "      <td>87</td>\n",
              "    </tr>\n",
              "    <tr>\n",
              "      <th>1</th>\n",
              "      <td>75</td>\n",
              "      <td>98</td>\n",
              "      <td>86</td>\n",
              "    </tr>\n",
              "    <tr>\n",
              "      <th>2</th>\n",
              "      <td>88</td>\n",
              "      <td>92</td>\n",
              "      <td>85</td>\n",
              "    </tr>\n",
              "  </tbody>\n",
              "</table>\n",
              "</div>"
            ],
            "text/plain": [
              "   Corey  Kevin  Akshay\n",
              "0     63     48      87\n",
              "1     75     98      86\n",
              "2     88     92      85"
            ]
          },
          "metadata": {
            "tags": []
          },
          "execution_count": 2
        }
      ]
    },
    {
      "cell_type": "code",
      "metadata": {
        "colab": {
          "base_uri": "https://localhost:8080/",
          "height": 142
        },
        "id": "iZEI8QaZMwGf",
        "outputId": "4ae02cef-e962-40f5-cf82-a16d49d18255"
      },
      "source": [
        "# Transpose DataFrame\r\n",
        "df = df.T\r\n",
        "df"
      ],
      "execution_count": 3,
      "outputs": [
        {
          "output_type": "execute_result",
          "data": {
            "text/html": [
              "<div>\n",
              "<style scoped>\n",
              "    .dataframe tbody tr th:only-of-type {\n",
              "        vertical-align: middle;\n",
              "    }\n",
              "\n",
              "    .dataframe tbody tr th {\n",
              "        vertical-align: top;\n",
              "    }\n",
              "\n",
              "    .dataframe thead th {\n",
              "        text-align: right;\n",
              "    }\n",
              "</style>\n",
              "<table border=\"1\" class=\"dataframe\">\n",
              "  <thead>\n",
              "    <tr style=\"text-align: right;\">\n",
              "      <th></th>\n",
              "      <th>0</th>\n",
              "      <th>1</th>\n",
              "      <th>2</th>\n",
              "    </tr>\n",
              "  </thead>\n",
              "  <tbody>\n",
              "    <tr>\n",
              "      <th>Corey</th>\n",
              "      <td>63</td>\n",
              "      <td>75</td>\n",
              "      <td>88</td>\n",
              "    </tr>\n",
              "    <tr>\n",
              "      <th>Kevin</th>\n",
              "      <td>48</td>\n",
              "      <td>98</td>\n",
              "      <td>92</td>\n",
              "    </tr>\n",
              "    <tr>\n",
              "      <th>Akshay</th>\n",
              "      <td>87</td>\n",
              "      <td>86</td>\n",
              "      <td>85</td>\n",
              "    </tr>\n",
              "  </tbody>\n",
              "</table>\n",
              "</div>"
            ],
            "text/plain": [
              "         0   1   2\n",
              "Corey   63  75  88\n",
              "Kevin   48  98  92\n",
              "Akshay  87  86  85"
            ]
          },
          "metadata": {
            "tags": []
          },
          "execution_count": 3
        }
      ]
    }
  ]
}