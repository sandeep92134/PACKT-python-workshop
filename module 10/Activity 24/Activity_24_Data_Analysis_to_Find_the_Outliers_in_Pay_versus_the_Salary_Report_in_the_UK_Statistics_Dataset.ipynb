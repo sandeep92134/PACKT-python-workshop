{
  "nbformat": 4,
  "nbformat_minor": 0,
  "metadata": {
    "colab": {
      "name": "Activity 24: Data Analysis to Find the Outliers in Pay versus the Salary Report in the UK Statistics Dataset",
      "provenance": [],
      "authorship_tag": "ABX9TyM++ggjfDzd+wxPouey9AF5",
      "include_colab_link": true
    },
    "kernelspec": {
      "name": "python3",
      "display_name": "Python 3"
    }
  },
  "cells": [
    {
      "cell_type": "markdown",
      "metadata": {
        "id": "view-in-github",
        "colab_type": "text"
      },
      "source": [
        "<a href=\"https://colab.research.google.com/github/sandeep92134/PACKT-python-workshop/blob/main/module%2010/Activity%2024/Activity_24_Data_Analysis_to_Find_the_Outliers_in_Pay_versus_the_Salary_Report_in_the_UK_Statistics_Dataset.ipynb\" target=\"_parent\"><img src=\"https://colab.research.google.com/assets/colab-badge.svg\" alt=\"Open In Colab\"/></a>"
      ]
    },
    {
      "cell_type": "markdown",
      "metadata": {
        "id": "QuMi820KVMLM"
      },
      "source": [
        "### Data Analysis to Find the Outliers in Pay versus the Salary Report in the UK Statistics Dataset\r\n",
        "You are working as a data scientist, and you come across a government dataset that seems really interesting with regard to pay. But as the dataset values are cluttered, you need to use visual data analysis to study the data and come to a conclusion to understand whether there are any outliers in the dataset.\r\n",
        "\r\n",
        "In this activity, you will be performing visual data analysis using histograms and scatter plots and creating a regression line to come to a certain conclusion.\r\n",
        "\r\n",
        "Follow these steps to complete this activity:\r\n",
        "\r\n",
        "1. First, you need to copy the **UKStatistics.csv** dataset file into a specific folder.\r\n",
        "2. Now, import the necessary data visualization packages.\r\n",
        "3. View the dataset file and find the number of rows and columns in the dataset file.\r\n",
        "4. Plot the histogram for **Actual Pay Floor (£)**.\r\n",
        "5. Plot the scatter plot using the values for x as **Salary Cost of Reports (£)** and y as **Actual Pay Floor (£)**.\r\n",
        "6. Now get the box plot for the x and y values, as shown in Step 5"
      ]
    },
    {
      "cell_type": "code",
      "metadata": {
        "id": "uFxDKz7LR5u5"
      },
      "source": [
        "import pandas as pd\r\n",
        "import matplotlib.pyplot as plt\r\n",
        "%matplotlib inline\r\n",
        "import seaborn as sns\r\n",
        "# Set up seaborn dark grid\r\n",
        "sns.set()"
      ],
      "execution_count": 1,
      "outputs": []
    },
    {
      "cell_type": "code",
      "metadata": {
        "id": "yogwN-nkYT3O"
      },
      "source": [
        "statistics_df = pd.read_csv('UKStatistics.csv')"
      ],
      "execution_count": 2,
      "outputs": []
    },
    {
      "cell_type": "code",
      "metadata": {
        "colab": {
          "base_uri": "https://localhost:8080/",
          "height": 564
        },
        "id": "OgO0FQ4uYUml",
        "outputId": "c8853d90-341b-4568-a0cb-73b0bc02b761"
      },
      "source": [
        "statistics_df.head()"
      ],
      "execution_count": 3,
      "outputs": [
        {
          "output_type": "execute_result",
          "data": {
            "text/html": [
              "<div>\n",
              "<style scoped>\n",
              "    .dataframe tbody tr th:only-of-type {\n",
              "        vertical-align: middle;\n",
              "    }\n",
              "\n",
              "    .dataframe tbody tr th {\n",
              "        vertical-align: top;\n",
              "    }\n",
              "\n",
              "    .dataframe thead th {\n",
              "        text-align: right;\n",
              "    }\n",
              "</style>\n",
              "<table border=\"1\" class=\"dataframe\">\n",
              "  <thead>\n",
              "    <tr style=\"text-align: right;\">\n",
              "      <th></th>\n",
              "      <th>Post Unique Reference</th>\n",
              "      <th>Name</th>\n",
              "      <th>Grade (or equivalent)</th>\n",
              "      <th>Job Title</th>\n",
              "      <th>Job/Team Function</th>\n",
              "      <th>Parent Department</th>\n",
              "      <th>Organisation</th>\n",
              "      <th>Unit</th>\n",
              "      <th>Contact Phone</th>\n",
              "      <th>Contact E-mail</th>\n",
              "      <th>Reports to Senior Post</th>\n",
              "      <th>Salary Cost of Reports (£)</th>\n",
              "      <th>FTE</th>\n",
              "      <th>Actual Pay Floor (£)</th>\n",
              "      <th>Actual Pay Ceiling (£)</th>\n",
              "      <th>Unnamed: 15</th>\n",
              "      <th>Professional/Occupational Group</th>\n",
              "      <th>Notes</th>\n",
              "      <th>Valid?</th>\n",
              "    </tr>\n",
              "  </thead>\n",
              "  <tbody>\n",
              "    <tr>\n",
              "      <th>0</th>\n",
              "      <td>1</td>\n",
              "      <td>John Pullinger</td>\n",
              "      <td>SCS4</td>\n",
              "      <td>Permanent Secretary</td>\n",
              "      <td>National Statistician, Head of GSS</td>\n",
              "      <td>UK Statistics Authority</td>\n",
              "      <td>UK Statistics Authority</td>\n",
              "      <td>UK Statistics Authority</td>\n",
              "      <td>01633 455036</td>\n",
              "      <td>national.statistician@statistics.gsi.gov.uk</td>\n",
              "      <td>Board</td>\n",
              "      <td>0</td>\n",
              "      <td>1.0</td>\n",
              "      <td>150000</td>\n",
              "      <td>154999</td>\n",
              "      <td>NaN</td>\n",
              "      <td>Statisticians</td>\n",
              "      <td>The National Statistician is the Permanent Sec...</td>\n",
              "      <td>1</td>\n",
              "    </tr>\n",
              "    <tr>\n",
              "      <th>1</th>\n",
              "      <td>2</td>\n",
              "      <td>Glen Watson</td>\n",
              "      <td>SCS3</td>\n",
              "      <td>Director General</td>\n",
              "      <td>Head Of ONS</td>\n",
              "      <td>UK Statistics Authority</td>\n",
              "      <td>UK Statistics Authority</td>\n",
              "      <td>Office For National Statistics</td>\n",
              "      <td>0845 601 3034</td>\n",
              "      <td>info@statistics.gov.uk</td>\n",
              "      <td>1</td>\n",
              "      <td>322572</td>\n",
              "      <td>1.0</td>\n",
              "      <td>105000</td>\n",
              "      <td>109999</td>\n",
              "      <td>NaN</td>\n",
              "      <td>Statisticians</td>\n",
              "      <td>NaN</td>\n",
              "      <td>1</td>\n",
              "    </tr>\n",
              "    <tr>\n",
              "      <th>2</th>\n",
              "      <td>4</td>\n",
              "      <td>Nick Vaughan</td>\n",
              "      <td>SCS2</td>\n",
              "      <td>Director</td>\n",
              "      <td>Production of statistical outputs from Nationa...</td>\n",
              "      <td>UK Statistics Authority</td>\n",
              "      <td>UK Statistics Authority</td>\n",
              "      <td>National Accounts &amp; Ecomonic Statistics</td>\n",
              "      <td>0845 601 3034</td>\n",
              "      <td>info@statistics.gov.uk</td>\n",
              "      <td>2</td>\n",
              "      <td>2033352</td>\n",
              "      <td>1.0</td>\n",
              "      <td>85000</td>\n",
              "      <td>89999</td>\n",
              "      <td>NaN</td>\n",
              "      <td>Statisticians</td>\n",
              "      <td>New to post replaces Caren Walker</td>\n",
              "      <td>1</td>\n",
              "    </tr>\n",
              "    <tr>\n",
              "      <th>3</th>\n",
              "      <td>5</td>\n",
              "      <td>Ian Cope</td>\n",
              "      <td>SCS2</td>\n",
              "      <td>Director</td>\n",
              "      <td>Population and Demography</td>\n",
              "      <td>UK Statistics Authority</td>\n",
              "      <td>UK Statistics Authority</td>\n",
              "      <td>Population and Demography</td>\n",
              "      <td>0845 601 3034</td>\n",
              "      <td>info@statistics.gov.uk</td>\n",
              "      <td>2</td>\n",
              "      <td>1352600</td>\n",
              "      <td>1.0</td>\n",
              "      <td>90000</td>\n",
              "      <td>94999</td>\n",
              "      <td>NaN</td>\n",
              "      <td>Statisticians</td>\n",
              "      <td>NaN</td>\n",
              "      <td>1</td>\n",
              "    </tr>\n",
              "    <tr>\n",
              "      <th>4</th>\n",
              "      <td>6</td>\n",
              "      <td>Guy Goodwin</td>\n",
              "      <td>SCS2</td>\n",
              "      <td>Director</td>\n",
              "      <td>Analysis and Dissemination</td>\n",
              "      <td>UK Statistics Authority</td>\n",
              "      <td>UK Statistics Authority</td>\n",
              "      <td>Analysis and Dissemination</td>\n",
              "      <td>0845 601 3034</td>\n",
              "      <td>info@statistics.gov.uk</td>\n",
              "      <td>2</td>\n",
              "      <td>0</td>\n",
              "      <td>1.0</td>\n",
              "      <td>85000</td>\n",
              "      <td>89999</td>\n",
              "      <td>NaN</td>\n",
              "      <td>Statisticians</td>\n",
              "      <td>Salary costs not disclosed - Less than 5 staff...</td>\n",
              "      <td>1</td>\n",
              "    </tr>\n",
              "  </tbody>\n",
              "</table>\n",
              "</div>"
            ],
            "text/plain": [
              "  Post Unique Reference  ... Valid?\n",
              "0                     1  ...      1\n",
              "1                     2  ...      1\n",
              "2                     4  ...      1\n",
              "3                     5  ...      1\n",
              "4                     6  ...      1\n",
              "\n",
              "[5 rows x 19 columns]"
            ]
          },
          "metadata": {
            "tags": []
          },
          "execution_count": 3
        }
      ]
    },
    {
      "cell_type": "code",
      "metadata": {
        "colab": {
          "base_uri": "https://localhost:8080/"
        },
        "id": "uyG88-82YYjX",
        "outputId": "1557c2a9-d850-465a-e3d4-74f1dd1c331f"
      },
      "source": [
        "statistics_df.shape"
      ],
      "execution_count": 4,
      "outputs": [
        {
          "output_type": "execute_result",
          "data": {
            "text/plain": [
              "(51, 19)"
            ]
          },
          "metadata": {
            "tags": []
          },
          "execution_count": 4
        }
      ]
    },
    {
      "cell_type": "code",
      "metadata": {
        "colab": {
          "base_uri": "https://localhost:8080/",
          "height": 268
        },
        "id": "e7uY_IiIYhBU",
        "outputId": "c743d713-dc96-4e18-fc61-d00a132b8db8"
      },
      "source": [
        "plt.hist(statistics_df['Actual Pay Floor (£)'])\r\n",
        "plt.show()"
      ],
      "execution_count": 5,
      "outputs": [
        {
          "output_type": "display_data",
          "data": {
            "image/png": "[encoded data removed]",
            "text/plain": [
              "<Figure size 432x288 with 1 Axes>"
            ]
          },
          "metadata": {
            "tags": [],
            "needs_background": "light"
          }
        }
      ]
    },
    {
      "cell_type": "code",
      "metadata": {
        "colab": {
          "base_uri": "https://localhost:8080/",
          "height": 281
        },
        "id": "fzbHiH6xYlry",
        "outputId": "87c660ce-0927-4692-c86d-ab3d0daec93f"
      },
      "source": [
        "x = statistics_df['Salary Cost of Reports (£)']\r\n",
        "y = statistics_df['Actual Pay Floor (£)']\r\n",
        "plt.scatter(x, y) \r\n",
        "plt.show()"
      ],
      "execution_count": 6,
      "outputs": [
        {
          "output_type": "display_data",
          "data": {
            "image/png": "[encoded data removed]",
            "text/plain": [
              "<Figure size 432x288 with 1 Axes>"
            ]
          },
          "metadata": {
            "tags": [],
            "needs_background": "light"
          }
        }
      ]
    },
    {
      "cell_type": "code",
      "metadata": {
        "colab": {
          "base_uri": "https://localhost:8080/",
          "height": 279
        },
        "id": "MeuaHYaHYp4P",
        "outputId": "5115b4d5-0192-436e-e2ec-77aed0ca9a14"
      },
      "source": [
        "x = statistics_df['Salary Cost of Reports (£)']\r\n",
        "y = statistics_df['Actual Pay Floor (£)']\r\n",
        "\r\n",
        "plt.violinplot(x)\r\n",
        "plt.show()"
      ],
      "execution_count": 7,
      "outputs": [
        {
          "output_type": "display_data",
          "data": {
            "image/png": "[encoded data removed]",
            "text/plain": [
              "<Figure size 432x288 with 1 Axes>"
            ]
          },
          "metadata": {
            "tags": [],
            "needs_background": "light"
          }
        }
      ]
    },
    {
      "cell_type": "code",
      "metadata": {
        "colab": {
          "base_uri": "https://localhost:8080/",
          "height": 279
        },
        "id": "M52xvFxrYz5F",
        "outputId": "1854645b-e25b-4ff8-e801-a5441619e7fc"
      },
      "source": [
        "plt.boxplot(x)\r\n",
        "plt.show()"
      ],
      "execution_count": 8,
      "outputs": [
        {
          "output_type": "display_data",
          "data": {
            "image/png": "[encoded data removed]",
            "text/plain": [
              "<Figure size 432x288 with 1 Axes>"
            ]
          },
          "metadata": {
            "tags": [],
            "needs_background": "light"
          }
        }
      ]
    }
  ]
}