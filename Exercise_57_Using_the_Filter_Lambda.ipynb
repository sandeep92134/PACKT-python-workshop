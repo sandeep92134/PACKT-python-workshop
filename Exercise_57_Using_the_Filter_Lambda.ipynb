{
  "nbformat": 4,
  "nbformat_minor": 0,
  "metadata": {
    "colab": {
      "name": "Exercise 57: Using the Filter Lambda",
      "provenance": [],
      "authorship_tag": "ABX9TyOH9bxshcuvBSbZqDjAubbr",
      "include_colab_link": true
    },
    "kernelspec": {
      "name": "python3",
      "display_name": "Python 3"
    }
  },
  "cells": [
    {
      "cell_type": "markdown",
      "metadata": {
        "id": "view-in-github",
        "colab_type": "text"
      },
      "source": [
        "<a href=\"https://colab.research.google.com/github/sandeep92134/PACKT-python-workshop/blob/main/Exercise_57_Using_the_Filter_Lambda.ipynb\" target=\"_parent\"><img src=\"https://colab.research.google.com/assets/colab-badge.svg\" alt=\"Open In Colab\"/></a>"
      ]
    },
    {
      "cell_type": "markdown",
      "metadata": {
        "id": "DUUHhUTyOord"
      },
      "source": [
        "Consider a list of all-natural numbers below 1000 that are multiples of 3 or 7. The sum of these numbers filtered when multiplied is 214216.\n",
        "\n",
        "In this exercise, you will be calculating the sum of all the multiples of 3 or 7 below 1,000:\n",
        "\n",
        "1. Create a list of numbers from 0 to 999:"
      ]
    },
    {
      "cell_type": "code",
      "metadata": {
        "id": "AoOekJSmKZeo"
      },
      "source": [
        "nums = list(range(1000))"
      ],
      "execution_count": 1,
      "outputs": []
    },
    {
      "cell_type": "markdown",
      "metadata": {
        "id": "WoRR5NUKO9Z_"
      },
      "source": [
        "2. Use a **lambda** function to filter the values that are divisible by 3 or 7:"
      ]
    },
    {
      "cell_type": "code",
      "metadata": {
        "id": "bFLuYxNwPJ5K"
      },
      "source": [
        "filtered = filter(lambda x: x % 3 == 0 or x % 7 == 0, nums)"
      ],
      "execution_count": 2,
      "outputs": []
    },
    {
      "cell_type": "markdown",
      "metadata": {
        "id": "zWq5F1BvPg0y"
      },
      "source": [
        "Recall that the % (**module**) operator returns the remainder from the division of the first argument by the second. So, x % **3 == 0** is checking that the remainder of x divided by **3** is **0**.\n",
        "\n",
        "3. sum the list to get the result:"
      ]
    },
    {
      "cell_type": "code",
      "metadata": {
        "colab": {
          "base_uri": "https://localhost:8080/"
        },
        "id": "tr3O5TUzPddr",
        "outputId": "6fcb60cf-f1bd-4413-ae2f-40c4865fbb66"
      },
      "source": [
        "sum(filtered)"
      ],
      "execution_count": 3,
      "outputs": [
        {
          "output_type": "execute_result",
          "data": {
            "text/plain": [
              "214216"
            ]
          },
          "metadata": {
            "tags": []
          },
          "execution_count": 3
        }
      ]
    },
    {
      "cell_type": "markdown",
      "metadata": {
        "id": "QEZaKRhCQESg"
      },
      "source": [
        "In this exercise, you successfully used filter lambdas that took a function as an input, in this case, **filtered**, and then returned the output as the sum of **filtered**."
      ]
    },
    {
      "cell_type": "markdown",
      "metadata": {
        "id": "rLbl9x1-Qkdk"
      },
      "source": [
        "#### Sorting with Lambda Functions"
      ]
    },
    {
      "cell_type": "code",
      "metadata": {
        "colab": {
          "base_uri": "https://localhost:8080/"
        },
        "id": "ezgn9Pm0QzIk",
        "outputId": "7a0a1875-f2bb-4bd5-cef0-c0a2e1248a92"
      },
      "source": [
        "names = ['Ming', 'Jennifer', 'Andrew', 'Boris']\n",
        "sorted(names, key=lambda x : len(x))"
      ],
      "execution_count": 4,
      "outputs": [
        {
          "output_type": "execute_result",
          "data": {
            "text/plain": [
              "['Ming', 'Boris', 'Andrew', 'Jennifer']"
            ]
          },
          "metadata": {
            "tags": []
          },
          "execution_count": 4
        }
      ]
    }
  ]
}