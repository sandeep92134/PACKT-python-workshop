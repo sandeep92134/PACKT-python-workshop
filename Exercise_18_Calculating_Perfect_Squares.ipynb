{
  "nbformat": 4,
  "nbformat_minor": 0,
  "metadata": {
    "colab": {
      "name": "Exercise 18: Calculating Perfect Squares",
      "provenance": [],
      "authorship_tag": "ABX9TyN3b/xpE7+cnNmPhHTVZ92X",
      "include_colab_link": true
    },
    "kernelspec": {
      "name": "python3",
      "display_name": "Python 3"
    }
  },
  "cells": [
    {
      "cell_type": "markdown",
      "metadata": {
        "id": "view-in-github",
        "colab_type": "text"
      },
      "source": [
        "<a href=\"https://colab.research.google.com/github/sandeep92134/PACKT-python-workshop/blob/main/Exercise_18_Calculating_Perfect_Squares.ipynb\" target=\"_parent\"><img src=\"https://colab.research.google.com/assets/colab-badge.svg\" alt=\"Open In Colab\"/></a>"
      ]
    },
    {
      "cell_type": "markdown",
      "metadata": {
        "id": "pf_CGnKErwtB"
      },
      "source": [
        "The goal of this exercise is to prompt the user to enter a given number and find out whether it is a perfect square.\n",
        "\n",
        "The following steps in this exercise will help you with this:\n",
        "\n",
        "1. Open a new Jupyter Notebook.\n",
        "2. Prompt the user to enter a number to see if it's a perfect square:"
      ]
    },
    {
      "cell_type": "code",
      "metadata": {
        "id": "2rViDuSRqwxF",
        "outputId": "27a7ce13-ad30-4925-dc23-278defd93255",
        "colab": {
          "base_uri": "https://localhost:8080/"
        }
      },
      "source": [
        "print('Enter a number to see if it\\'s a perfect square.')"
      ],
      "execution_count": 1,
      "outputs": [
        {
          "output_type": "stream",
          "text": [
            "Enter a number to see if it's a perfect square.\n"
          ],
          "name": "stdout"
        }
      ]
    },
    {
      "cell_type": "markdown",
      "metadata": {
        "id": "gmOqWHehr74S"
      },
      "source": [
        "3. Set a variable as equal to input(). In this case let's enter 64:"
      ]
    },
    {
      "cell_type": "code",
      "metadata": {
        "id": "duLbiytisEin",
        "outputId": "c164cc67-0d52-4872-960e-b6f9aa660496",
        "colab": {
          "base_uri": "https://localhost:8080/"
        }
      },
      "source": [
        "number = input()"
      ],
      "execution_count": 2,
      "outputs": [
        {
          "output_type": "stream",
          "text": [
            "64\n"
          ],
          "name": "stdout"
        }
      ]
    },
    {
      "cell_type": "markdown",
      "metadata": {
        "id": "H1MSBUkgsOUD"
      },
      "source": [
        "4. Use the eval() function to get the number in int or float form as the number of returned from input() ."
      ]
    },
    {
      "cell_type": "code",
      "metadata": {
        "id": "SEJm7G56sSus"
      },
      "source": [
        "number = eval(number)"
      ],
      "execution_count": 3,
      "outputs": []
    },
    {
      "cell_type": "markdown",
      "metadata": {
        "id": "JKSAQyQMse9e"
      },
      "source": [
        "5. Choose an iterator variable:"
      ]
    },
    {
      "cell_type": "code",
      "metadata": {
        "id": "MrL_3p5NsjhU"
      },
      "source": [
        "i = -1"
      ],
      "execution_count": 4,
      "outputs": []
    },
    {
      "cell_type": "markdown",
      "metadata": {
        "id": "GJkNs32-smLV"
      },
      "source": [
        "6. Initialize a Boolean to check for a perfect square:"
      ]
    },
    {
      "cell_type": "code",
      "metadata": {
        "id": "Ed3jdGRXsuwN"
      },
      "source": [
        "square = False"
      ],
      "execution_count": 5,
      "outputs": []
    },
    {
      "cell_type": "markdown",
      "metadata": {
        "id": "JwFmjwGFs2Td"
      },
      "source": [
        "7. Initialize a while loop from -1 to the square root of the number: At the same time, we will check if the number is non-negative and is a natural number so that it does not contain any decimal part. To check whether it contains a decimal part or not, we have used number%1 == 0 which is True if the number does not contain any decimal part, else it is False.\n",
        "\n",
        "8. Increment i by 1:\n",
        "\n",
        "9. Check the square root of the number:\n",
        "\n",
        "10. Indicate that we have a perfect square:\n",
        "\n",
        "11. break out of the loop:\n",
        "\n",
        "12. If the number is square, print out the result:\n",
        "\n",
        "13. If the number is not a square, print out this result:\n",
        "\n"
      ]
    },
    {
      "cell_type": "code",
      "metadata": {
        "id": "iirUTkAYs5Ab",
        "outputId": "87029244-fd0a-4cb3-d683-5fbf3e474886",
        "colab": {
          "base_uri": "https://localhost:8080/"
        }
      },
      "source": [
        "while number >= 0 and number%1 ==0 and i <= number**(0.5) :\n",
        "    i += 1\n",
        "    if i*i == number:   \n",
        "        square = True\n",
        "        break\n",
        "if square:\n",
        "    print('The square root of', number, 'is', i, '.')\n",
        "else:\n",
        "    print('', number, 'is not a perfect square.')"
      ],
      "execution_count": 6,
      "outputs": [
        {
          "output_type": "stream",
          "text": [
            "The square root of 64 is 8 .\n"
          ],
          "name": "stdout"
        }
      ]
    },
    {
      "cell_type": "markdown",
      "metadata": {
        "id": "s2dvYHnmuNI6"
      },
      "source": [
        "In this exercise, you have written a program to check to see whether the user's number is a perfect square.\n",
        "\n",
        "In the next exercise, you are going to build a similar program that will accept inputs from the user. You need to provide the best possible offer for a real estate and either accept or decline the offer.\n"
      ]
    }
  ]
}