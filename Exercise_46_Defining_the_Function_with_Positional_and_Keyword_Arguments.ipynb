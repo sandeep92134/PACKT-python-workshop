{
  "nbformat": 4,
  "nbformat_minor": 0,
  "metadata": {
    "colab": {
      "name": "Exercise 46: Defining the Function with Positional and Keyword Arguments",
      "provenance": [],
      "authorship_tag": "ABX9TyMfhrJ4I7clWkhgmJoYHr8e",
      "include_colab_link": true
    },
    "kernelspec": {
      "name": "python3",
      "display_name": "Python 3"
    }
  },
  "cells": [
    {
      "cell_type": "markdown",
      "metadata": {
        "id": "view-in-github",
        "colab_type": "text"
      },
      "source": [
        "<a href=\"https://colab.research.google.com/github/sandeep92134/PACKT-python-workshop/blob/main/Exercise_46_Defining_the_Function_with_Positional_and_Keyword_Arguments.ipynb\" target=\"_parent\"><img src=\"https://colab.research.google.com/assets/colab-badge.svg\" alt=\"Open In Colab\"/></a>"
      ]
    },
    {
      "cell_type": "markdown",
      "metadata": {
        "id": "HX-d9A7TYSV_"
      },
      "source": [
        "In this exercise, you use the Python shell to define a **convert_usd_to_aud function** that takes a positional argument and an optional keyword argument:\n",
        "\n",
        "1. In a Python shell, define the **convert_usd_to_aud** function:\n"
      ]
    },
    {
      "cell_type": "code",
      "metadata": {
        "id": "s3GCqcp9Xt3B"
      },
      "source": [
        "def convert_usd_to_aud(amount, rate=0.80):\n",
        "  return amount / rate"
      ],
      "execution_count": 1,
      "outputs": []
    },
    {
      "cell_type": "markdown",
      "metadata": {
        "id": "CzzuA0ZPY5Cx"
      },
      "source": [
        "2. Call the convert_usd_to_aud function without specifying the exchange rate argument:"
      ]
    },
    {
      "cell_type": "code",
      "metadata": {
        "colab": {
          "base_uri": "https://localhost:8080/"
        },
        "id": "-Kkw9mrzY4Ai",
        "outputId": "c5d6bd66-5848-4061-8d20-024f651ce598"
      },
      "source": [
        "convert_usd_to_aud(100)"
      ],
      "execution_count": 3,
      "outputs": [
        {
          "output_type": "execute_result",
          "data": {
            "text/plain": [
              "125.0"
            ]
          },
          "metadata": {
            "tags": []
          },
          "execution_count": 3
        }
      ]
    },
    {
      "cell_type": "markdown",
      "metadata": {
        "id": "gAD2fJ-mZGKJ"
      },
      "source": [
        "3. Call the convert_usd_to_aud function with a specific exchange rate argument:"
      ]
    },
    {
      "cell_type": "code",
      "metadata": {
        "colab": {
          "base_uri": "https://localhost:8080/"
        },
        "id": "hn7QUjnHZalp",
        "outputId": "cb35b0b6-86f3-4412-943f-21026ad6c748"
      },
      "source": [
        "convert_usd_to_aud(100, rate=0.78)"
      ],
      "execution_count": 6,
      "outputs": [
        {
          "output_type": "execute_result",
          "data": {
            "text/plain": [
              "128.2051282051282"
            ]
          },
          "metadata": {
            "tags": []
          },
          "execution_count": 6
        }
      ]
    },
    {
      "cell_type": "markdown",
      "metadata": {
        "id": "MBv93ezqZUE9"
      },
      "source": [
        "The rule of thumb is to simply use positional arguments for required inputs that must be provided each time the function is called, and keyword arguments for optional inputs."
      ]
    }
  ]
}