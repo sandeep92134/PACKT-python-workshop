{
  "nbformat": 4,
  "nbformat_minor": 0,
  "metadata": {
    "colab": {
      "name": "Exercise 3: Assigning Variables",
      "provenance": [],
      "authorship_tag": "ABX9TyMc9AhmF4f2a+F/KDP30kav",
      "include_colab_link": true
    },
    "kernelspec": {
      "name": "python3",
      "display_name": "Python 3"
    }
  },
  "cells": [
    {
      "cell_type": "markdown",
      "metadata": {
        "id": "view-in-github",
        "colab_type": "text"
      },
      "source": [
        "<a href=\"https://colab.research.google.com/github/sandeep92134/PACKT-python-workshop/blob/main/Exercise_3_Assigning_Variables.ipynb\" target=\"_parent\"><img src=\"https://colab.research.google.com/assets/colab-badge.svg\" alt=\"Open In Colab\"/></a>"
      ]
    },
    {
      "cell_type": "markdown",
      "metadata": {
        "id": "1LfWY1mVitLr"
      },
      "source": [
        "The goal of this exercise is to assign values to variables. Variables can be assigned any value, as you will see in this exercise. This exercise can be performed in the Jupyter Notebook:"
      ]
    },
    {
      "cell_type": "markdown",
      "metadata": {
        "id": "YG_qlsCei0bP"
      },
      "source": [
        "1. Set x as equal to the number 2:"
      ]
    },
    {
      "cell_type": "code",
      "metadata": {
        "id": "Qkrm0esxi_gx"
      },
      "source": [
        "x = 2"
      ],
      "execution_count": 1,
      "outputs": []
    },
    {
      "cell_type": "markdown",
      "metadata": {
        "id": "kqspoCYYjMVs"
      },
      "source": [
        "In the first step, we assigned the value 2 to the x variable.\n",
        "\n",
        "2. Add 1 to the variable x:"
      ]
    },
    {
      "cell_type": "code",
      "metadata": {
        "id": "FvadFeGHjLvo",
        "outputId": "4ad872ac-8f8d-4d4d-c029-aad64af3f909",
        "colab": {
          "base_uri": "https://localhost:8080/",
          "height": 34
        }
      },
      "source": [
        "x + 1"
      ],
      "execution_count": 2,
      "outputs": [
        {
          "output_type": "execute_result",
          "data": {
            "text/plain": [
              "3"
            ]
          },
          "metadata": {
            "tags": []
          },
          "execution_count": 2
        }
      ]
    },
    {
      "cell_type": "markdown",
      "metadata": {
        "id": "l3e_ipUMjenT"
      },
      "source": [
        "Once we add 1 to x, we get the output of 3, because the variable has 1 added to it. Please note that since we have not reassigned the value after adding 1 to x, the value of x will still be 2."
      ]
    },
    {
      "cell_type": "markdown",
      "metadata": {
        "id": "WBIv97MjjhSA"
      },
      "source": [
        "3. Change x to 3.0 and add 1 to x:"
      ]
    },
    {
      "cell_type": "code",
      "metadata": {
        "id": "rQzNcdCrjsqw",
        "outputId": "296a67ab-e4c2-434a-cd3e-ab1295995148",
        "colab": {
          "base_uri": "https://localhost:8080/",
          "height": 34
        }
      },
      "source": [
        "x = 3.0\n",
        "x + 1"
      ],
      "execution_count": 3,
      "outputs": [
        {
          "output_type": "execute_result",
          "data": {
            "text/plain": [
              "4.0"
            ]
          },
          "metadata": {
            "tags": []
          },
          "execution_count": 3
        }
      ]
    },
    {
      "cell_type": "markdown",
      "metadata": {
        "id": "xYvMVudCkBBB"
      },
      "source": [
        "In this step, we change the value of x to 3.0, and as in the previous 2 steps, we will be adding 1 to the x variable."
      ]
    },
    {
      "cell_type": "markdown",
      "metadata": {
        "id": "IgwmDFiPkCNe"
      },
      "source": [
        "By the end of this quick exercise, you may have noticed that in programming, you can assign a variable in terms of its previous value. This is a powerful tool, and many developers use it quite often. Furthermore, the type of x has changed. x started as an int, but now x = 3.0 which is a float. This is allowed in Python because Python is dynamically typed"
      ]
    }
  ]
}