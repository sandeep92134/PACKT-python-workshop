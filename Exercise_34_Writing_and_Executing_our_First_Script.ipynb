{
  "nbformat": 4,
  "nbformat_minor": 0,
  "metadata": {
    "colab": {
      "name": "Exercise 34: Writing and Executing our First Script",
      "provenance": [],
      "authorship_tag": "ABX9TyPNDW4sRE1LjBoDataoD6cI",
      "include_colab_link": true
    },
    "kernelspec": {
      "name": "python3",
      "display_name": "Python 3"
    }
  },
  "cells": [
    {
      "cell_type": "markdown",
      "metadata": {
        "id": "view-in-github",
        "colab_type": "text"
      },
      "source": [
        "<a href=\"https://colab.research.google.com/github/sandeep92134/PACKT-python-workshop/blob/main/Exercise_34_Writing_and_Executing_our_First_Script.ipynb\" target=\"_parent\"><img src=\"https://colab.research.google.com/assets/colab-badge.svg\" alt=\"Open In Colab\"/></a>"
      ]
    },
    {
      "cell_type": "markdown",
      "metadata": {
        "id": "29oqOAAh9007"
      },
      "source": [
        "In this exercise, you will create a script called **my_script.py** and execute it on the command line. You will be then finding the sum of the factorials of three numbers:\n",
        "\n",
        "1. Using your favorite text editor, create a new file called **my_script.py**. You can also use Jupyter **(New | Text File)**.\n",
        "2. Import the **math** library:\n",
        "3. Suppose that you had a list of numbers and you wanted to print the sum of the factorials of these numbers. Recall that a factorial is the product of all the integers up to and equal to a given number. For instance, the factorial of **5** is calculated as 5! = 5 * 4 * 3 * 2 * 1 = 120.In the following code snippet, you are going to find the sum of factorials of **5,7, and 11**.\n",
        "4. Using the **math.factorial** function and list comprehension (we will talk about list comprehension in later stages), compute and print **result**:\n",
        "5. Save the file.\n",
        "6. Open a Terminal or a Jupyter Notebook and ensure that your current directory is the same as the one with the** my_script.py** file. To check this, if you run dir in the Terminal, you should see **my_script.py** in the list of files. If not, navigate to the correct directory using the **cd** command.\n",
        "7. Run python **my_script.py** to execute your script. \n",
        "\n",
        "In this exercise, you successfully created and executed a file by navigating to the correct directory from the Terminal or Jupyter Notebook."
      ]
    },
    {
      "cell_type": "code",
      "metadata": {
        "colab": {
          "base_uri": "https://localhost:8080/"
        },
        "id": "UDBFDKb29xZI",
        "outputId": "d960f008-dce4-4fc8-d03f-d8bdd51829aa"
      },
      "source": [
        "%%writefile my_script.py\n",
        "import math\n",
        "\n",
        "numbers = [5, 7, 11]\n",
        "\n",
        "result = sum([math.factorial(n) for n in numbers])\n",
        "\n",
        "print(result)"
      ],
      "execution_count": 1,
      "outputs": [
        {
          "output_type": "stream",
          "text": [
            "Writing my_script.py\n"
          ],
          "name": "stdout"
        }
      ]
    },
    {
      "cell_type": "code",
      "metadata": {
        "colab": {
          "base_uri": "https://localhost:8080/"
        },
        "id": "3yPdXHfpAXnG",
        "outputId": "90891994-d2fb-4d49-c458-4f12eca99622"
      },
      "source": [
        "!python my_script.py"
      ],
      "execution_count": 2,
      "outputs": [
        {
          "output_type": "stream",
          "text": [
            "39921960\n"
          ],
          "name": "stdout"
        }
      ]
    }
  ]
}