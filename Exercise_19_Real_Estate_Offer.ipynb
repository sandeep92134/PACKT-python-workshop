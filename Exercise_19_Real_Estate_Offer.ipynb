{
  "nbformat": 4,
  "nbformat_minor": 0,
  "metadata": {
    "colab": {
      "name": "Exercise 19: Real Estate Offer",
      "provenance": [],
      "authorship_tag": "ABX9TyPE+Em7n//z8FVdf8B86DUV",
      "include_colab_link": true
    },
    "kernelspec": {
      "name": "python3",
      "display_name": "Python 3"
    }
  },
  "cells": [
    {
      "cell_type": "markdown",
      "metadata": {
        "id": "view-in-github",
        "colab_type": "text"
      },
      "source": [
        "<a href=\"https://colab.research.google.com/github/sandeep92134/PACKT-python-workshop/blob/main/Exercise_19_Real_Estate_Offer.ipynb\" target=\"_parent\"><img src=\"https://colab.research.google.com/assets/colab-badge.svg\" alt=\"Open In Colab\"/></a>"
      ]
    },
    {
      "cell_type": "markdown",
      "metadata": {
        "id": "Gc1d74Fr8ewE"
      },
      "source": [
        "The goal of this exercise is to prompt the user to bid on a house and let them know if and when the bid has been accepted.\n",
        "\n",
        "The following steps in this exercise will help you with this:\n",
        "\n",
        "1. Open a new Jupyter Notebook.\n",
        "2. Begin by stating a market price:"
      ]
    },
    {
      "cell_type": "code",
      "metadata": {
        "id": "3mEangra8UUS",
        "outputId": "3d458840-7514-45aa-b141-ab323f97bc30",
        "colab": {
          "base_uri": "https://localhost:8080/"
        }
      },
      "source": [
        "print('A ane bedroom in the Bay Area is listed at $599,000')"
      ],
      "execution_count": 1,
      "outputs": [
        {
          "output_type": "stream",
          "text": [
            "A ane bedroom in the Bay Area is listed at $599,000\n"
          ],
          "name": "stdout"
        }
      ]
    },
    {
      "cell_type": "markdown",
      "metadata": {
        "id": "c1L6taek9J4F"
      },
      "source": [
        "3. Prompt the user to make an offer on the house:"
      ]
    },
    {
      "cell_type": "code",
      "metadata": {
        "id": "NRBIP-jW9V4P",
        "outputId": "b6286cf2-722b-46f0-8af7-53bcbcec6621",
        "colab": {
          "base_uri": "https://localhost:8080/"
        }
      },
      "source": [
        "print('Enter your first offer on the house.')"
      ],
      "execution_count": 2,
      "outputs": [
        {
          "output_type": "stream",
          "text": [
            "Enter your first offer on the house.\n"
          ],
          "name": "stdout"
        }
      ]
    },
    {
      "cell_type": "markdown",
      "metadata": {
        "id": "yMh1sV1u9nSn"
      },
      "source": [
        "4. set offer as equal to input():"
      ]
    },
    {
      "cell_type": "code",
      "metadata": {
        "id": "muI8f1RV96ot",
        "outputId": "f2c32e33-a330-464c-d4ab-9c25859fe2dc",
        "colab": {
          "base_uri": "https://localhost:8080/"
        }
      },
      "source": [
        "offer = abs(int(input()))"
      ],
      "execution_count": 3,
      "outputs": [
        {
          "output_type": "stream",
          "text": [
            "600000\n"
          ],
          "name": "stdout"
        }
      ]
    },
    {
      "cell_type": "markdown",
      "metadata": {
        "id": "8sZzI5Eb-DBv"
      },
      "source": [
        "5. Prompt the user to enter their best offer for the house:"
      ]
    },
    {
      "cell_type": "code",
      "metadata": {
        "id": "g08ipZ4Y-KwL",
        "outputId": "a47be7a8-265d-40be-dea8-ed0e2344aae7",
        "colab": {
          "base_uri": "https://localhost:8080/"
        }
      },
      "source": [
        "print('Enter your best offer on the house.')"
      ],
      "execution_count": 4,
      "outputs": [
        {
          "output_type": "stream",
          "text": [
            "Enter your best offer on the house.\n"
          ],
          "name": "stdout"
        }
      ]
    },
    {
      "cell_type": "markdown",
      "metadata": {
        "id": "gts-uKuW-PVr"
      },
      "source": [
        "6. Set best as equal to input():"
      ]
    },
    {
      "cell_type": "code",
      "metadata": {
        "id": "rHq20sU_-Xnv",
        "outputId": "9b4da04b-9204-4f0b-8e21-f6b1582df6ac",
        "colab": {
          "base_uri": "https://localhost:8080/"
        }
      },
      "source": [
        "best = abs(int(input()))"
      ],
      "execution_count": 5,
      "outputs": [
        {
          "output_type": "stream",
          "text": [
            "700000\n"
          ],
          "name": "stdout"
        }
      ]
    },
    {
      "cell_type": "markdown",
      "metadata": {
        "id": "NZdMY9wj-et_"
      },
      "source": [
        "7. Prompt the user to choose increments:"
      ]
    },
    {
      "cell_type": "code",
      "metadata": {
        "id": "AL5AUHFw-muN",
        "outputId": "f1ec3e4e-6d5c-400a-c6c6-94a1f11ada78",
        "colab": {
          "base_uri": "https://localhost:8080/"
        }
      },
      "source": [
        "print('How much more do you want to offer each time?')"
      ],
      "execution_count": 6,
      "outputs": [
        {
          "output_type": "stream",
          "text": [
            "How much more do you want to offer each time?\n"
          ],
          "name": "stdout"
        }
      ]
    },
    {
      "cell_type": "markdown",
      "metadata": {
        "id": "M8YbXrAq-qj9"
      },
      "source": [
        "8. Set increment as equal to input():"
      ]
    },
    {
      "cell_type": "code",
      "metadata": {
        "id": "KdAOIAc--z46",
        "outputId": "d084df6f-9282-48fb-ad74-142a684a94d6",
        "colab": {
          "base_uri": "https://localhost:8080/"
        }
      },
      "source": [
        "increment = abs(int(input()))"
      ],
      "execution_count": 7,
      "outputs": [
        {
          "output_type": "stream",
          "text": [
            "10000\n"
          ],
          "name": "stdout"
        }
      ]
    },
    {
      "cell_type": "markdown",
      "metadata": {
        "id": "mUAn2kQu-9fl"
      },
      "source": [
        "9. Set increment as equal to input():"
      ]
    },
    {
      "cell_type": "code",
      "metadata": {
        "id": "y5Bog2WA_Mf5"
      },
      "source": [
        "offer_accepted = False"
      ],
      "execution_count": 8,
      "outputs": []
    },
    {
      "cell_type": "markdown",
      "metadata": {
        "id": "rBv-SoOO_RgU"
      },
      "source": [
        "10. Initialize the while loop from offer to best:"
      ]
    },
    {
      "cell_type": "code",
      "metadata": {
        "id": "01jt-XjDATX9",
        "outputId": "e909334d-96ba-47b9-b674-6320baadea17",
        "colab": {
          "base_uri": "https://localhost:8080/"
        }
      },
      "source": [
        "while offer <= best:\n",
        "  # 11. If the offer is greater than 650000, they get the house:\n",
        "  if offer >= 650000:\n",
        "    offer_accepted = True\n",
        "    print('Your offer of', offer, 'has been accepted!')\n",
        "    break\n",
        "  # 12. If the offer does not exceed 650000, they don't get the house:\n",
        "  print('We\\'re sorry, you\\'re offer of', offer, 'has not been accepted.' )\n",
        "\n",
        "  # 13. Add increment to offer:\n",
        "  offer += increment"
      ],
      "execution_count": 9,
      "outputs": [
        {
          "output_type": "stream",
          "text": [
            "We're sorry, you're offer of 600000 has not been accepted.\n",
            "We're sorry, you're offer of 610000 has not been accepted.\n",
            "We're sorry, you're offer of 620000 has not been accepted.\n",
            "We're sorry, you're offer of 630000 has not been accepted.\n",
            "We're sorry, you're offer of 640000 has not been accepted.\n",
            "Your offer of 650000 has been accepted!\n"
          ],
          "name": "stdout"
        }
      ]
    },
    {
      "cell_type": "markdown",
      "metadata": {
        "id": "YPD2pHTsBfx0"
      },
      "source": [
        "In this exercise, you have prompted the user to bid for a house and let them know when and if the bid was accepted."
      ]
    }
  ]
}