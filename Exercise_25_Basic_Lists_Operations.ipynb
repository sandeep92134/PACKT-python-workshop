{
  "nbformat": 4,
  "nbformat_minor": 0,
  "metadata": {
    "colab": {
      "name": "Exercise 25: Basic Lists Operations",
      "provenance": [],
      "authorship_tag": "ABX9TyPRkYMr8UYl358bXJ4lMmTl",
      "include_colab_link": true
    },
    "kernelspec": {
      "name": "python3",
      "display_name": "Python 3"
    }
  },
  "cells": [
    {
      "cell_type": "markdown",
      "metadata": {
        "id": "view-in-github",
        "colab_type": "text"
      },
      "source": [
        "<a href=\"https://colab.research.google.com/github/sandeep92134/PACKT-python-workshop/blob/main/Exercise_25_Basic_Lists_Operations.ipynb\" target=\"_parent\"><img src=\"https://colab.research.google.com/assets/colab-badge.svg\" alt=\"Open In Colab\"/></a>"
      ]
    },
    {
      "cell_type": "markdown",
      "metadata": {
        "id": "wWILsO771Xvn"
      },
      "source": [
        "In this exercise, you are going to use the basic functions of lists to check the size of a list, combining lists and duplicating elements of lists as well. Follow these steps:\n",
        "\n",
        "1. Open a new Jupyter notebook.\n",
        "2. Type the following code\n",
        "3. The length of a list is found using the len function."
      ]
    },
    {
      "cell_type": "code",
      "metadata": {
        "id": "YMHJGdSPprw9",
        "outputId": "bf804eb1-e335-4f1b-c546-6f4eb5fa9eaa",
        "colab": {
          "base_uri": "https://localhost:8080/"
        }
      },
      "source": [
        "shopping = [\"bread\", \"eggs\", \"milk\", \"butter\"]\n",
        "print(len(shopping))"
      ],
      "execution_count": 1,
      "outputs": [
        {
          "output_type": "stream",
          "text": [
            "4\n"
          ],
          "name": "stdout"
        }
      ]
    },
    {
      "cell_type": "markdown",
      "metadata": {
        "id": "K28nguwd2rVW"
      },
      "source": [
        "<font color=red> Note:</font>  The len() function returns the number of items in an object. When the object is a string, it returns the number of characters in the string.\n",
        "\n",
        "4. Now concatenate two lists using the + operator:"
      ]
    },
    {
      "cell_type": "code",
      "metadata": {
        "id": "lzecPvED3VuC",
        "outputId": "a3c6b88a-716f-41fd-e942-c40c2589b52a",
        "colab": {
          "base_uri": "https://localhost:8080/"
        }
      },
      "source": [
        "list1 = [1,2,3]\n",
        "list2 = [4,5,6]\n",
        "final_list = list1 + list2\n",
        "print(final_list)"
      ],
      "execution_count": 2,
      "outputs": [
        {
          "output_type": "stream",
          "text": [
            "[1, 2, 3, 4, 5, 6]\n"
          ],
          "name": "stdout"
        }
      ]
    },
    {
      "cell_type": "markdown",
      "metadata": {
        "id": "1AoLFAwf3Kcj"
      },
      "source": [
        "As you can see in the output, lists also support many string operations as well, one of which is concatenation, which is joining two or more lists together.\n",
        "\n",
        "5. Now use the * operator, which can be used for repetition in a list to duplicate elements:"
      ]
    },
    {
      "cell_type": "code",
      "metadata": {
        "id": "7YJ6jr_q3mCq",
        "outputId": "d2cc1135-b016-4a0b-a01c-9f2e4bfb872b",
        "colab": {
          "base_uri": "https://localhost:8080/"
        }
      },
      "source": [
        "list3 = ['OYE']\n",
        "print(list3*4)"
      ],
      "execution_count": 3,
      "outputs": [
        {
          "output_type": "stream",
          "text": [
            "['OYE', 'OYE', 'OYE', 'OYE']\n"
          ],
          "name": "stdout"
        }
      ]
    },
    {
      "cell_type": "markdown",
      "metadata": {
        "id": "ETlzdZTZ3svN"
      },
      "source": [
        "You have now concluded this exercise; the purpose of this exercise was to get you familiar with some common operations that Python programmers use to interact with lists."
      ]
    }
  ]
}