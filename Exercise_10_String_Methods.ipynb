{
  "nbformat": 4,
  "nbformat_minor": 0,
  "metadata": {
    "colab": {
      "name": "Exercise 10: String Methods",
      "provenance": [],
      "authorship_tag": "ABX9TyNaaHz1HQmaKzVt5ceqmqqm",
      "include_colab_link": true
    },
    "kernelspec": {
      "name": "python3",
      "display_name": "Python 3"
    }
  },
  "cells": [
    {
      "cell_type": "markdown",
      "metadata": {
        "id": "view-in-github",
        "colab_type": "text"
      },
      "source": [
        "<a href=\"https://colab.research.google.com/github/sandeep92134/PACKT-python-workshop/blob/main/Exercise_10_String_Methods.ipynb\" target=\"_parent\"><img src=\"https://colab.research.google.com/assets/colab-badge.svg\" alt=\"Open In Colab\"/></a>"
      ]
    },
    {
      "cell_type": "markdown",
      "metadata": {
        "id": "YJGYq4An82eO"
      },
      "source": [
        "In this exercise, you will learn how to implement string methods.\n",
        "\n",
        "1. Set a new variable, called name, to any name that you like:"
      ]
    },
    {
      "cell_type": "markdown",
      "metadata": {
        "id": "W4P5lal59kz0"
      },
      "source": [
        "Note: Access string methods by pressing the Tab button after the variable name and dot (.)"
      ]
    },
    {
      "cell_type": "code",
      "metadata": {
        "id": "CRVk3n1X8qOo"
      },
      "source": [
        "name = 'corey'"
      ],
      "execution_count": 1,
      "outputs": []
    },
    {
      "cell_type": "markdown",
      "metadata": {
        "id": "p4wUj5Bi9uHH"
      },
      "source": [
        "2. Now, convert the name into lowercase letters using the lower() function:"
      ]
    },
    {
      "cell_type": "code",
      "metadata": {
        "id": "yxfPTeom9z6d",
        "outputId": "80e7ba23-4672-415d-ba16-fd76f0747868",
        "colab": {
          "base_uri": "https://localhost:8080/",
          "height": 35
        }
      },
      "source": [
        "name.lower()  "
      ],
      "execution_count": 2,
      "outputs": [
        {
          "output_type": "execute_result",
          "data": {
            "application/vnd.google.colaboratory.intrinsic+json": {
              "type": "string"
            },
            "text/plain": [
              "'corey'"
            ]
          },
          "metadata": {
            "tags": []
          },
          "execution_count": 2
        }
      ]
    },
    {
      "cell_type": "markdown",
      "metadata": {
        "id": "XTsyXtat_oWU"
      },
      "source": [
        "3. Now, capitalize the name using the capitalize() function:"
      ]
    },
    {
      "cell_type": "code",
      "metadata": {
        "id": "EDwEbCNe_6Yy",
        "outputId": "cd762b11-8c90-47d0-b39b-6da03bfd1a82",
        "colab": {
          "base_uri": "https://localhost:8080/",
          "height": 35
        }
      },
      "source": [
        "name.capitalize()"
      ],
      "execution_count": 3,
      "outputs": [
        {
          "output_type": "execute_result",
          "data": {
            "application/vnd.google.colaboratory.intrinsic+json": {
              "type": "string"
            },
            "text/plain": [
              "'Corey'"
            ]
          },
          "metadata": {
            "tags": []
          },
          "execution_count": 3
        }
      ]
    },
    {
      "cell_type": "markdown",
      "metadata": {
        "id": "vcK5E6bbAGQW"
      },
      "source": [
        "4. Convert the name into uppercase letters using upper():"
      ]
    },
    {
      "cell_type": "code",
      "metadata": {
        "id": "r8Uw5Lw9AI5B",
        "outputId": "70a0d209-4252-49e1-f9f5-8f4ce46e6acb",
        "colab": {
          "base_uri": "https://localhost:8080/",
          "height": 35
        }
      },
      "source": [
        "name.upper()"
      ],
      "execution_count": 4,
      "outputs": [
        {
          "output_type": "execute_result",
          "data": {
            "application/vnd.google.colaboratory.intrinsic+json": {
              "type": "string"
            },
            "text/plain": [
              "'COREY'"
            ]
          },
          "metadata": {
            "tags": []
          },
          "execution_count": 4
        }
      ]
    },
    {
      "cell_type": "markdown",
      "metadata": {
        "id": "UupNvPEZASC0"
      },
      "source": [
        "5. Finally, count the number of o instances in the word 'Corey':"
      ]
    },
    {
      "cell_type": "markdown",
      "metadata": {
        "id": "jjaAMfyKAqui"
      },
      "source": [
        "In this exercise, you have learned about a variety of string methods, including lower(), capitalize(), upper(), and count().\n",
        "\n",
        "Methods may only be applied to their representative types. For instance, the lower() method only works on strings, not integers or floats. By contrast, built-in functions such as len() and print() can be applied to a variety of types"
      ]
    }
  ]
}